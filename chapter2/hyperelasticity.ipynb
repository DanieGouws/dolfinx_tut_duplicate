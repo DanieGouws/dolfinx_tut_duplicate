{
 "cells": [
  {
   "cell_type": "markdown",
   "id": "supreme-malpractice",
   "metadata": {},
   "source": [
    "# Hyperelasticity\n",
    "Author: Jørgen S. Dokken and Garth N. Wells\n",
    "\n",
    "This section shows how to solve the hyperelasticity problem for deformation of a beam.\n",
    "\n",
    "We will also show how to create a constant boundary condition for a vector function space.\n",
    "\n",
    "We start by importing DOLFINx and some additional dependencies.\n",
    "Then, we create a slender cantilever consisting of hexahedral elements and create the function space `V` for our unknown."
   ]
  },
  {
   "cell_type": "code",
   "execution_count": 1,
   "id": "optional-cameroon",
   "metadata": {},
   "outputs": [
    {
     "name": "stderr",
     "output_type": "stream",
     "text": [
      "INFO:root:running build_ext\n",
      "INFO:root:building 'libffcx_elements_2d5c9a986741d359a5c76c1d0ce7466e4777b687' extension\n",
      "INFO:root:x86_64-linux-gnu-gcc -Wno-unused-result -Wsign-compare -DNDEBUG -g -fwrapv -O2 -Wall -g -fstack-protector-strong -Wformat -Werror=format-security -g -fwrapv -O2 -fPIC -I/usr/local/lib/python3.10/dist-packages/ffcx/codegeneration -I/usr/include/python3.10 -c libffcx_elements_2d5c9a986741d359a5c76c1d0ce7466e4777b687.c -o ./libffcx_elements_2d5c9a986741d359a5c76c1d0ce7466e4777b687.o -O2\n",
      "INFO:root:x86_64-linux-gnu-gcc -shared -Wl,-O1 -Wl,-Bsymbolic-functions -Wl,-Bsymbolic-functions -g -fwrapv -O2 ./libffcx_elements_2d5c9a986741d359a5c76c1d0ce7466e4777b687.o -L/usr/lib/x86_64-linux-gnu -o ./libffcx_elements_2d5c9a986741d359a5c76c1d0ce7466e4777b687.cpython-310-x86_64-linux-gnu.so\n"
     ]
    }
   ],
   "source": [
    "import numpy as np\n",
    "import ufl\n",
    "\n",
    "from petsc4py import PETSc\n",
    "from mpi4py import MPI\n",
    "from dolfinx import fem, mesh, plot\n",
    "L = 20.0\n",
    "domain = mesh.create_box(MPI.COMM_WORLD,[[0.0,0.0,0.0], [L, 1, 1]], [20, 5, 5], mesh.CellType.hexahedron)\n",
    "V = fem.VectorFunctionSpace(domain, (\"CG\", 2))"
   ]
  },
  {
   "cell_type": "markdown",
   "id": "streaming-neutral",
   "metadata": {},
   "source": [
    "We create two python functions for determining the facets to apply boundary conditions to"
   ]
  },
  {
   "cell_type": "code",
   "execution_count": 2,
   "id": "major-factor",
   "metadata": {},
   "outputs": [],
   "source": [
    "def left(x):\n",
    "    return np.isclose(x[0], 0)\n",
    "\n",
    "def right(x):\n",
    "    return np.isclose(x[0], L)\n",
    "\n",
    "fdim = domain.topology.dim -1\n",
    "left_facets = mesh.locate_entities_boundary(domain, fdim, left)\n",
    "right_facets = mesh.locate_entities_boundary(domain, fdim, right)"
   ]
  },
  {
   "cell_type": "markdown",
   "id": "figured-world",
   "metadata": {},
   "source": [
    "Next, we create a  marker based on these two functions"
   ]
  },
  {
   "cell_type": "code",
   "execution_count": 3,
   "id": "dated-india",
   "metadata": {},
   "outputs": [],
   "source": [
    "# Concatenate and sort the arrays based on facet indices. Left facets marked with 1, right facets with two\n",
    "marked_facets = np.hstack([left_facets, right_facets])\n",
    "marked_values = np.hstack([np.full_like(left_facets, 1), np.full_like(right_facets, 2)])\n",
    "sorted_facets = np.argsort(marked_facets)\n",
    "facet_tag = mesh.meshtags(domain, fdim, marked_facets[sorted_facets], marked_values[sorted_facets])"
   ]
  },
  {
   "cell_type": "markdown",
   "id": "renewable-glossary",
   "metadata": {},
   "source": [
    "We then create a function for supplying the boundary condition on the left side, which is fixed."
   ]
  },
  {
   "cell_type": "code",
   "execution_count": 4,
   "id": "confidential-french",
   "metadata": {},
   "outputs": [],
   "source": [
    "u_bc = np.array((0,) * domain.geometry.dim, dtype=PETSc.ScalarType)"
   ]
  },
  {
   "cell_type": "markdown",
   "id": "musical-documentation",
   "metadata": {},
   "source": [
    "To apply the boundary condition, we identity the dofs located on the facets marked by the `MeshTag`."
   ]
  },
  {
   "cell_type": "code",
   "execution_count": 5,
   "id": "written-monster",
   "metadata": {},
   "outputs": [],
   "source": [
    "left_dofs = fem.locate_dofs_topological(V, facet_tag.dim, facet_tag.find(1))\n",
    "bcs = [fem.dirichletbc(u_bc, left_dofs, V)]"
   ]
  },
  {
   "cell_type": "markdown",
   "id": "indoor-chester",
   "metadata": {},
   "source": [
    "Next, we define the body force on the reference configuration (`B`), and nominal (first Piola-Kirchhoff) traction (`T`). "
   ]
  },
  {
   "cell_type": "code",
   "execution_count": 6,
   "id": "korean-carol",
   "metadata": {},
   "outputs": [],
   "source": [
    "B = fem.Constant(domain, PETSc.ScalarType((0, 0, 0)))\n",
    "T = fem.Constant(domain, PETSc.ScalarType((0, 0, 0)))"
   ]
  },
  {
   "cell_type": "markdown",
   "id": "blond-dynamics",
   "metadata": {},
   "source": [
    "Define the test and solution functions on the space $V$"
   ]
  },
  {
   "cell_type": "code",
   "execution_count": 7,
   "id": "vocational-experiment",
   "metadata": {},
   "outputs": [],
   "source": [
    "v = ufl.TestFunction(V)\n",
    "u = fem.Function(V)"
   ]
  },
  {
   "cell_type": "markdown",
   "id": "bright-belle",
   "metadata": {},
   "source": [
    "Define kinematic quantities used in the problem"
   ]
  },
  {
   "cell_type": "code",
   "execution_count": 8,
   "id": "vertical-original",
   "metadata": {},
   "outputs": [],
   "source": [
    "# Spatial dimension\n",
    "d = len(u)\n",
    "\n",
    "# Identity tensor\n",
    "I = ufl.variable(ufl.Identity(d))\n",
    "\n",
    "# Deformation gradient\n",
    "F = ufl.variable(I + ufl.grad(u))\n",
    "\n",
    "# Right Cauchy-Green tensor\n",
    "C = ufl.variable(F.T * F)\n",
    "\n",
    "# Invariants of deformation tensors\n",
    "Ic = ufl.variable(ufl.tr(C))\n",
    "J  = ufl.variable(ufl.det(F))"
   ]
  },
  {
   "cell_type": "markdown",
   "id": "respiratory-compromise",
   "metadata": {},
   "source": [
    "Define the elasticity model via a stored strain energy density function $\\psi$, and create the expression for the first Piola-Kirchhoff stress:"
   ]
  },
  {
   "cell_type": "code",
   "execution_count": 9,
   "id": "incorrect-hello",
   "metadata": {},
   "outputs": [],
   "source": [
    "# Elasticity parameters\n",
    "E = PETSc.ScalarType(1.0e4)\n",
    "nu = PETSc.ScalarType(0.3)\n",
    "mu = fem.Constant(domain, E/(2*(1 + nu)))\n",
    "lmbda = fem.Constant(domain, E*nu/((1 + nu)*(1 - 2*nu)))\n",
    "# Stored strain energy density (compressible neo-Hookean model)\n",
    "psi = (mu / 2) * (Ic - 3) - mu * ufl.ln(J) + (lmbda / 2) * (ufl.ln(J))**2\n",
    "# Stress\n",
    "# Hyper-elasticity\n",
    "P = ufl.diff(psi, F)"
   ]
  },
  {
   "cell_type": "markdown",
   "id": "grateful-battlefield",
   "metadata": {},
   "source": [
    "```{admonition} Comparison to linear elasticity\n",
    "To illustrate the difference between linear and hyperelasticity, the following lines can be uncommented to solve the linear elasticity problem.\n",
    "```"
   ]
  },
  {
   "cell_type": "code",
   "execution_count": 10,
   "id": "imperial-jurisdiction",
   "metadata": {},
   "outputs": [],
   "source": [
    "# P = 2.0 * mu * ufl.sym(ufl.grad(u)) + lmbda * ufl.tr(ufl.sym(ufl.grad(u))) * I"
   ]
  },
  {
   "cell_type": "markdown",
   "id": "alleged-genesis",
   "metadata": {},
   "source": [
    "Define the variational form with traction integral over all facets with value 2. We set the quadrature degree for the integrals to 4."
   ]
  },
  {
   "cell_type": "code",
   "execution_count": 11,
   "id": "recognized-conclusion",
   "metadata": {},
   "outputs": [],
   "source": [
    "metadata = {\"quadrature_degree\": 4}\n",
    "ds = ufl.Measure('ds', domain=domain, subdomain_data=facet_tag, metadata=metadata)\n",
    "dx = ufl.Measure(\"dx\", domain=domain, metadata=metadata)\n",
    "# Define form F (we want to find u such that F(u) = 0)\n",
    "F = ufl.inner(ufl.grad(v), P)*dx - ufl.inner(v, B)*dx - ufl.inner(v, T)*ds(2) "
   ]
  },
  {
   "cell_type": "markdown",
   "id": "historic-sherman",
   "metadata": {},
   "source": [
    "As the varitional form is non-linear and written on residual form, we use the non-linear problem class from DOLFINx to set up required structures to use a Newton solver."
   ]
  },
  {
   "cell_type": "code",
   "execution_count": 12,
   "id": "threatened-devices",
   "metadata": {},
   "outputs": [
    {
     "name": "stderr",
     "output_type": "stream",
     "text": [
      "INFO:root:running build_ext\n",
      "INFO:root:building 'libffcx_forms_69a876110b554279567433f944d3802b15088492' extension\n",
      "INFO:root:x86_64-linux-gnu-gcc -Wno-unused-result -Wsign-compare -DNDEBUG -g -fwrapv -O2 -Wall -g -fstack-protector-strong -Wformat -Werror=format-security -g -fwrapv -O2 -fPIC -I/usr/local/lib/python3.10/dist-packages/ffcx/codegeneration -I/usr/include/python3.10 -c libffcx_forms_69a876110b554279567433f944d3802b15088492.c -o ./libffcx_forms_69a876110b554279567433f944d3802b15088492.o -O2\n",
      "INFO:root:x86_64-linux-gnu-gcc -shared -Wl,-O1 -Wl,-Bsymbolic-functions -Wl,-Bsymbolic-functions -g -fwrapv -O2 ./libffcx_forms_69a876110b554279567433f944d3802b15088492.o -L/usr/lib/x86_64-linux-gnu -o ./libffcx_forms_69a876110b554279567433f944d3802b15088492.cpython-310-x86_64-linux-gnu.so\n",
      "INFO:root:running build_ext\n",
      "INFO:root:building 'libffcx_forms_78b407f829a4cb0618fde7e20bfee058f65b12bd' extension\n",
      "INFO:root:x86_64-linux-gnu-gcc -Wno-unused-result -Wsign-compare -DNDEBUG -g -fwrapv -O2 -Wall -g -fstack-protector-strong -Wformat -Werror=format-security -g -fwrapv -O2 -fPIC -I/usr/local/lib/python3.10/dist-packages/ffcx/codegeneration -I/usr/include/python3.10 -c libffcx_forms_78b407f829a4cb0618fde7e20bfee058f65b12bd.c -o ./libffcx_forms_78b407f829a4cb0618fde7e20bfee058f65b12bd.o -O2\n",
      "INFO:root:x86_64-linux-gnu-gcc -shared -Wl,-O1 -Wl,-Bsymbolic-functions -Wl,-Bsymbolic-functions -g -fwrapv -O2 ./libffcx_forms_78b407f829a4cb0618fde7e20bfee058f65b12bd.o -L/usr/lib/x86_64-linux-gnu -o ./libffcx_forms_78b407f829a4cb0618fde7e20bfee058f65b12bd.cpython-310-x86_64-linux-gnu.so\n"
     ]
    }
   ],
   "source": [
    "problem = fem.petsc.NonlinearProblem(F, u, bcs)"
   ]
  },
  {
   "cell_type": "markdown",
   "id": "qualified-phrase",
   "metadata": {},
   "source": [
    "and then create and customize the Newton solver"
   ]
  },
  {
   "cell_type": "code",
   "execution_count": 13,
   "id": "special-globe",
   "metadata": {},
   "outputs": [],
   "source": [
    "from dolfinx import nls\n",
    "solver = nls.petsc.NewtonSolver(domain.comm, problem)\n",
    "\n",
    "# Set Newton solver options\n",
    "solver.atol = 1e-8\n",
    "solver.rtol = 1e-8\n",
    "solver.convergence_criterion = \"incremental\"\n"
   ]
  },
  {
   "cell_type": "markdown",
   "id": "marked-hungary",
   "metadata": {},
   "source": [
    "We create a function to plot the solution at each time step."
   ]
  },
  {
   "cell_type": "code",
   "execution_count": 14,
   "id": "noble-perception",
   "metadata": {},
   "outputs": [
    {
     "name": "stderr",
     "output_type": "stream",
     "text": [
      "INFO:root:running build_ext\n",
      "INFO:root:building 'libffcx_elements_1779003a382381322b01b435c8795eb07e36a470' extension\n",
      "INFO:root:x86_64-linux-gnu-gcc -Wno-unused-result -Wsign-compare -DNDEBUG -g -fwrapv -O2 -Wall -g -fstack-protector-strong -Wformat -Werror=format-security -g -fwrapv -O2 -fPIC -I/usr/local/lib/python3.10/dist-packages/ffcx/codegeneration -I/usr/include/python3.10 -c libffcx_elements_1779003a382381322b01b435c8795eb07e36a470.c -o ./libffcx_elements_1779003a382381322b01b435c8795eb07e36a470.o -O2\n",
      "INFO:root:x86_64-linux-gnu-gcc -shared -Wl,-O1 -Wl,-Bsymbolic-functions -Wl,-Bsymbolic-functions -g -fwrapv -O2 ./libffcx_elements_1779003a382381322b01b435c8795eb07e36a470.o -L/usr/lib/x86_64-linux-gnu -o ./libffcx_elements_1779003a382381322b01b435c8795eb07e36a470.cpython-310-x86_64-linux-gnu.so\n",
      "INFO:root:running build_ext\n",
      "INFO:root:building 'libffcx_expressions_1c636c4fefab7bb38773748e9689319cbb908186' extension\n",
      "INFO:root:x86_64-linux-gnu-gcc -Wno-unused-result -Wsign-compare -DNDEBUG -g -fwrapv -O2 -Wall -g -fstack-protector-strong -Wformat -Werror=format-security -g -fwrapv -O2 -fPIC -I/usr/local/lib/python3.10/dist-packages/ffcx/codegeneration -I/usr/include/python3.10 -c libffcx_expressions_1c636c4fefab7bb38773748e9689319cbb908186.c -o ./libffcx_expressions_1c636c4fefab7bb38773748e9689319cbb908186.o -O2\n",
      "INFO:root:x86_64-linux-gnu-gcc -shared -Wl,-O1 -Wl,-Bsymbolic-functions -Wl,-Bsymbolic-functions -g -fwrapv -O2 ./libffcx_expressions_1c636c4fefab7bb38773748e9689319cbb908186.o -L/usr/lib/x86_64-linux-gnu -o ./libffcx_expressions_1c636c4fefab7bb38773748e9689319cbb908186.cpython-310-x86_64-linux-gnu.so\n"
     ]
    }
   ],
   "source": [
    "import pyvista\n",
    "import matplotlib.pyplot as plt\n",
    "pyvista.start_xvfb()\n",
    "plotter = pyvista.Plotter()\n",
    "plotter.open_gif(\"deformation.gif\", fps=3)\n",
    "\n",
    "topology, cells, geometry = plot.create_vtk_mesh(u.function_space)\n",
    "function_grid = pyvista.UnstructuredGrid(topology, cells, geometry)\n",
    "\n",
    "values = np.zeros((geometry.shape[0], 3))\n",
    "values[:, :len(u)] = u.x.array.reshape(geometry.shape[0], len(u))\n",
    "function_grid[\"u\"] = values\n",
    "function_grid.set_active_vectors(\"u\")\n",
    "\n",
    "# Warp mesh by deformation\n",
    "warped = function_grid.warp_by_vector(\"u\", factor=1)\n",
    "warped.set_active_vectors(\"u\")\n",
    "\n",
    "# Add mesh to plotter and visualize\n",
    "actor = plotter.add_mesh(warped, show_edges=True, lighting=False, clim=[0, 10])\n",
    "\n",
    "# Compute magnitude of displacement to visualize in GIF\n",
    "Vs = fem.FunctionSpace(domain, (\"Lagrange\", 2))\n",
    "magnitude = fem.Function(Vs)\n",
    "us = fem.Expression(ufl.sqrt(sum([u[i]**2 for i in range(len(u))])), Vs.element.interpolation_points())\n",
    "magnitude.interpolate(us)\n",
    "warped[\"mag\"] = magnitude.x.array"
   ]
  },
  {
   "cell_type": "markdown",
   "id": "nasty-entertainment",
   "metadata": {},
   "source": [
    "Finally, we solve the problem over several time steps, updating the y-component of the traction"
   ]
  },
  {
   "cell_type": "code",
   "execution_count": 15,
   "id": "vanilla-referral",
   "metadata": {},
   "outputs": [
    {
     "name": "stderr",
     "output_type": "stream",
     "text": [
      "2023-01-31 20:56:18.901 (  10.147s) [main            ]              petsc.cpp:675   INFO| PETSc Krylov solver starting to solve system.\n",
      "2023-01-31 20:56:19.544 (  10.789s) [main            ]         TimeLogger.cpp:28    INFO| Elapsed wall, usr, sys time: 0.642597, 0.610000, 0.040000 (PETSc Krylov solver)\n",
      "2023-01-31 20:56:19.784 (  11.029s) [main            ]              petsc.cpp:675   INFO| PETSc Krylov solver starting to solve system.\n",
      "2023-01-31 20:56:20.238 (  11.484s) [main            ]         TimeLogger.cpp:28    INFO| Elapsed wall, usr, sys time: 0.454172, 0.430000, 0.030000 (PETSc Krylov solver)\n",
      "2023-01-31 20:56:20.251 (  11.497s) [main            ]       NewtonSolver.cpp:36    INFO| Newton iteration 2: r (abs) = 22.2455 (tol = 1e-08) r (rel) = 0.134278(tol = 1e-08)\n",
      "2023-01-31 20:56:20.478 (  11.724s) [main            ]              petsc.cpp:675   INFO| PETSc Krylov solver starting to solve system.\n",
      "2023-01-31 20:56:20.939 (  12.185s) [main            ]         TimeLogger.cpp:28    INFO| Elapsed wall, usr, sys time: 0.461138, 0.420000, 0.040000 (PETSc Krylov solver)\n",
      "2023-01-31 20:56:20.953 (  12.198s) [main            ]       NewtonSolver.cpp:36    INFO| Newton iteration 3: r (abs) = 2.43261 (tol = 1e-08) r (rel) = 0.0146837(tol = 1e-08)\n",
      "2023-01-31 20:56:21.172 (  12.418s) [main            ]              petsc.cpp:675   INFO| PETSc Krylov solver starting to solve system.\n",
      "2023-01-31 20:56:21.609 (  12.854s) [main            ]         TimeLogger.cpp:28    INFO| Elapsed wall, usr, sys time: 0.436426, 0.390000, 0.050000 (PETSc Krylov solver)\n",
      "2023-01-31 20:56:21.622 (  12.868s) [main            ]       NewtonSolver.cpp:36    INFO| Newton iteration 4: r (abs) = 4.43158 (tol = 1e-08) r (rel) = 0.0267498(tol = 1e-08)\n",
      "2023-01-31 20:56:21.861 (  13.107s) [main            ]              petsc.cpp:675   INFO| PETSc Krylov solver starting to solve system.\n",
      "2023-01-31 20:56:22.304 (  13.550s) [main            ]         TimeLogger.cpp:28    INFO| Elapsed wall, usr, sys time: 0.442571, 0.410000, 0.030000 (PETSc Krylov solver)\n",
      "2023-01-31 20:56:22.315 (  13.561s) [main            ]       NewtonSolver.cpp:36    INFO| Newton iteration 5: r (abs) = 0.144189 (tol = 1e-08) r (rel) = 0.000870353(tol = 1e-08)\n",
      "2023-01-31 20:56:22.529 (  13.774s) [main            ]              petsc.cpp:675   INFO| PETSc Krylov solver starting to solve system.\n",
      "2023-01-31 20:56:22.961 (  14.207s) [main            ]         TimeLogger.cpp:28    INFO| Elapsed wall, usr, sys time: 0.432667, 0.380000, 0.060000 (PETSc Krylov solver)\n",
      "2023-01-31 20:56:22.974 (  14.220s) [main            ]       NewtonSolver.cpp:36    INFO| Newton iteration 6: r (abs) = 0.021424 (tol = 1e-08) r (rel) = 0.000129319(tol = 1e-08)\n",
      "2023-01-31 20:56:23.209 (  14.455s) [main            ]              petsc.cpp:675   INFO| PETSc Krylov solver starting to solve system.\n",
      "2023-01-31 20:56:23.596 (  14.842s) [main            ]         TimeLogger.cpp:28    INFO| Elapsed wall, usr, sys time: 0.386739, 0.360000, 0.040000 (PETSc Krylov solver)\n",
      "2023-01-31 20:56:23.608 (  14.854s) [main            ]       NewtonSolver.cpp:36    INFO| Newton iteration 7: r (abs) = 4.80067e-06 (tol = 1e-08) r (rel) = 2.89777e-08(tol = 1e-08)\n",
      "2023-01-31 20:56:23.842 (  15.088s) [main            ]              petsc.cpp:675   INFO| PETSc Krylov solver starting to solve system.\n",
      "2023-01-31 20:56:24.254 (  15.500s) [main            ]         TimeLogger.cpp:28    INFO| Elapsed wall, usr, sys time: 0.411940, 0.380000, 0.040000 (PETSc Krylov solver)\n",
      "2023-01-31 20:56:24.267 (  15.513s) [main            ]       NewtonSolver.cpp:36    INFO| Newton iteration 8: r (abs) = 2.65191e-11 (tol = 1e-08) r (rel) = 1.60074e-13(tol = 1e-08)\n",
      "2023-01-31 20:56:24.267 (  15.513s) [main            ]       NewtonSolver.cpp:255   INFO| Newton solver finished in 8 iterations and 8 linear solver iterations.\n"
     ]
    },
    {
     "name": "stdout",
     "output_type": "stream",
     "text": [
      "Time step 1, Number of iterations 8, Load [ 0.   0.  -1.5]\n"
     ]
    },
    {
     "name": "stderr",
     "output_type": "stream",
     "text": [
      "2023-01-31 20:56:24.763 (  16.008s) [main            ]              petsc.cpp:675   INFO| PETSc Krylov solver starting to solve system.\n",
      "2023-01-31 20:56:25.152 (  16.397s) [main            ]         TimeLogger.cpp:28    INFO| Elapsed wall, usr, sys time: 0.388750, 0.350000, 0.040000 (PETSc Krylov solver)\n",
      "2023-01-31 20:56:25.378 (  16.623s) [main            ]              petsc.cpp:675   INFO| PETSc Krylov solver starting to solve system.\n",
      "2023-01-31 20:56:25.795 (  17.041s) [main            ]         TimeLogger.cpp:28    INFO| Elapsed wall, usr, sys time: 0.417631, 0.350000, 0.070000 (PETSc Krylov solver)\n",
      "2023-01-31 20:56:25.805 (  17.050s) [main            ]       NewtonSolver.cpp:36    INFO| Newton iteration 2: r (abs) = 17.3254 (tol = 1e-08) r (rel) = 0.117842(tol = 1e-08)\n",
      "2023-01-31 20:56:25.989 (  17.235s) [main            ]              petsc.cpp:675   INFO| PETSc Krylov solver starting to solve system.\n",
      "2023-01-31 20:56:26.491 (  17.737s) [main            ]         TimeLogger.cpp:28    INFO| Elapsed wall, usr, sys time: 0.501863, 0.470000, 0.040000 (PETSc Krylov solver)\n",
      "2023-01-31 20:56:26.505 (  17.750s) [main            ]       NewtonSolver.cpp:36    INFO| Newton iteration 3: r (abs) = 5.14882 (tol = 1e-08) r (rel) = 0.0350207(tol = 1e-08)\n",
      "2023-01-31 20:56:26.745 (  17.991s) [main            ]              petsc.cpp:675   INFO| PETSc Krylov solver starting to solve system.\n",
      "2023-01-31 20:56:27.171 (  18.417s) [main            ]         TimeLogger.cpp:28    INFO| Elapsed wall, usr, sys time: 0.425977, 0.380000, 0.050000 (PETSc Krylov solver)\n",
      "2023-01-31 20:56:27.185 (  18.431s) [main            ]       NewtonSolver.cpp:36    INFO| Newton iteration 4: r (abs) = 7.24003 (tol = 1e-08) r (rel) = 0.0492445(tol = 1e-08)\n",
      "2023-01-31 20:56:27.401 (  18.647s) [main            ]              petsc.cpp:675   INFO| PETSc Krylov solver starting to solve system.\n",
      "2023-01-31 20:56:27.836 (  19.082s) [main            ]         TimeLogger.cpp:28    INFO| Elapsed wall, usr, sys time: 0.434727, 0.380000, 0.050000 (PETSc Krylov solver)\n",
      "2023-01-31 20:56:27.848 (  19.094s) [main            ]       NewtonSolver.cpp:36    INFO| Newton iteration 5: r (abs) = 0.777889 (tol = 1e-08) r (rel) = 0.00529096(tol = 1e-08)\n",
      "2023-01-31 20:56:28.057 (  19.303s) [main            ]              petsc.cpp:675   INFO| PETSc Krylov solver starting to solve system.\n",
      "2023-01-31 20:56:28.502 (  19.748s) [main            ]         TimeLogger.cpp:28    INFO| Elapsed wall, usr, sys time: 0.444996, 0.410000, 0.030000 (PETSc Krylov solver)\n",
      "2023-01-31 20:56:28.513 (  19.758s) [main            ]       NewtonSolver.cpp:36    INFO| Newton iteration 6: r (abs) = 1.25525 (tol = 1e-08) r (rel) = 0.00853785(tol = 1e-08)\n",
      "2023-01-31 20:56:28.749 (  19.995s) [main            ]              petsc.cpp:675   INFO| PETSc Krylov solver starting to solve system.\n",
      "2023-01-31 20:56:29.228 (  20.473s) [main            ]         TimeLogger.cpp:28    INFO| Elapsed wall, usr, sys time: 0.478389, 0.410000, 0.070000 (PETSc Krylov solver)\n",
      "2023-01-31 20:56:29.239 (  20.485s) [main            ]       NewtonSolver.cpp:36    INFO| Newton iteration 7: r (abs) = 0.00849512 (tol = 1e-08) r (rel) = 5.77813e-05(tol = 1e-08)\n",
      "2023-01-31 20:56:29.434 (  20.680s) [main            ]              petsc.cpp:675   INFO| PETSc Krylov solver starting to solve system.\n",
      "2023-01-31 20:56:29.835 (  21.081s) [main            ]         TimeLogger.cpp:28    INFO| Elapsed wall, usr, sys time: 0.401068, 0.350000, 0.050000 (PETSc Krylov solver)\n",
      "2023-01-31 20:56:29.848 (  21.094s) [main            ]       NewtonSolver.cpp:36    INFO| Newton iteration 8: r (abs) = 0.000192107 (tol = 1e-08) r (rel) = 1.30665e-06(tol = 1e-08)\n",
      "2023-01-31 20:56:30.084 (  21.329s) [main            ]              petsc.cpp:675   INFO| PETSc Krylov solver starting to solve system.\n",
      "2023-01-31 20:56:30.568 (  21.814s) [main            ]         TimeLogger.cpp:28    INFO| Elapsed wall, usr, sys time: 0.484640, 0.440000, 0.040000 (PETSc Krylov solver)\n",
      "2023-01-31 20:56:30.579 (  21.824s) [main            ]       NewtonSolver.cpp:36    INFO| Newton iteration 9: r (abs) = 1.70369e-10 (tol = 1e-08) r (rel) = 1.1588e-12(tol = 1e-08)\n",
      "2023-01-31 20:56:30.579 (  21.824s) [main            ]       NewtonSolver.cpp:255   INFO| Newton solver finished in 9 iterations and 9 linear solver iterations.\n"
     ]
    },
    {
     "name": "stdout",
     "output_type": "stream",
     "text": [
      "Time step 2, Number of iterations 9, Load [ 0.  0. -3.]\n"
     ]
    },
    {
     "name": "stderr",
     "output_type": "stream",
     "text": [
      "2023-01-31 20:56:30.960 (  22.206s) [main            ]              petsc.cpp:675   INFO| PETSc Krylov solver starting to solve system.\n",
      "2023-01-31 20:56:31.375 (  22.621s) [main            ]         TimeLogger.cpp:28    INFO| Elapsed wall, usr, sys time: 0.414935, 0.360000, 0.050000 (PETSc Krylov solver)\n",
      "2023-01-31 20:56:31.641 (  22.886s) [main            ]              petsc.cpp:675   INFO| PETSc Krylov solver starting to solve system.\n",
      "2023-01-31 20:56:32.085 (  23.331s) [main            ]         TimeLogger.cpp:28    INFO| Elapsed wall, usr, sys time: 0.444717, 0.400000, 0.050000 (PETSc Krylov solver)\n",
      "2023-01-31 20:56:32.108 (  23.353s) [main            ]       NewtonSolver.cpp:36    INFO| Newton iteration 2: r (abs) = 10.0011 (tol = 1e-08) r (rel) = 0.0887471(tol = 1e-08)\n",
      "2023-01-31 20:56:32.367 (  23.612s) [main            ]              petsc.cpp:675   INFO| PETSc Krylov solver starting to solve system.\n",
      "2023-01-31 20:56:32.798 (  24.044s) [main            ]         TimeLogger.cpp:28    INFO| Elapsed wall, usr, sys time: 0.431593, 0.380000, 0.050000 (PETSc Krylov solver)\n",
      "2023-01-31 20:56:32.808 (  24.053s) [main            ]       NewtonSolver.cpp:36    INFO| Newton iteration 3: r (abs) = 5.33026 (tol = 1e-08) r (rel) = 0.0472992(tol = 1e-08)\n",
      "2023-01-31 20:56:33.051 (  24.297s) [main            ]              petsc.cpp:675   INFO| PETSc Krylov solver starting to solve system.\n",
      "2023-01-31 20:56:33.477 (  24.723s) [main            ]         TimeLogger.cpp:28    INFO| Elapsed wall, usr, sys time: 0.425538, 0.390000, 0.040000 (PETSc Krylov solver)\n",
      "2023-01-31 20:56:33.488 (  24.734s) [main            ]       NewtonSolver.cpp:36    INFO| Newton iteration 4: r (abs) = 11.9901 (tol = 1e-08) r (rel) = 0.106397(tol = 1e-08)\n",
      "2023-01-31 20:56:33.720 (  24.965s) [main            ]              petsc.cpp:675   INFO| PETSc Krylov solver starting to solve system.\n",
      "2023-01-31 20:56:34.179 (  25.425s) [main            ]         TimeLogger.cpp:28    INFO| Elapsed wall, usr, sys time: 0.459320, 0.440000, 0.030000 (PETSc Krylov solver)\n",
      "2023-01-31 20:56:34.190 (  25.436s) [main            ]       NewtonSolver.cpp:36    INFO| Newton iteration 5: r (abs) = 2.29702 (tol = 1e-08) r (rel) = 0.0203831(tol = 1e-08)\n",
      "2023-01-31 20:56:34.397 (  25.642s) [main            ]              petsc.cpp:675   INFO| PETSc Krylov solver starting to solve system.\n",
      "2023-01-31 20:56:34.833 (  26.079s) [main            ]         TimeLogger.cpp:28    INFO| Elapsed wall, usr, sys time: 0.436839, 0.380000, 0.060000 (PETSc Krylov solver)\n",
      "2023-01-31 20:56:34.844 (  26.090s) [main            ]       NewtonSolver.cpp:36    INFO| Newton iteration 6: r (abs) = 3.90234 (tol = 1e-08) r (rel) = 0.0346282(tol = 1e-08)\n",
      "2023-01-31 20:56:35.051 (  26.297s) [main            ]              petsc.cpp:675   INFO| PETSc Krylov solver starting to solve system.\n",
      "2023-01-31 20:56:35.570 (  26.816s) [main            ]         TimeLogger.cpp:28    INFO| Elapsed wall, usr, sys time: 0.519049, 0.480000, 0.040000 (PETSc Krylov solver)\n",
      "2023-01-31 20:56:35.582 (  26.827s) [main            ]       NewtonSolver.cpp:36    INFO| Newton iteration 7: r (abs) = 0.236535 (tol = 1e-08) r (rel) = 0.00209895(tol = 1e-08)\n",
      "2023-01-31 20:56:35.825 (  27.071s) [main            ]              petsc.cpp:675   INFO| PETSc Krylov solver starting to solve system.\n",
      "2023-01-31 20:56:36.321 (  27.567s) [main            ]         TimeLogger.cpp:28    INFO| Elapsed wall, usr, sys time: 0.496260, 0.450000, 0.050000 (PETSc Krylov solver)\n",
      "2023-01-31 20:56:36.332 (  27.578s) [main            ]       NewtonSolver.cpp:36    INFO| Newton iteration 8: r (abs) = 0.0427142 (tol = 1e-08) r (rel) = 0.000379034(tol = 1e-08)\n",
      "2023-01-31 20:56:36.531 (  27.776s) [main            ]              petsc.cpp:675   INFO| PETSc Krylov solver starting to solve system.\n",
      "2023-01-31 20:56:36.981 (  28.227s) [main            ]         TimeLogger.cpp:28    INFO| Elapsed wall, usr, sys time: 0.450955, 0.400000, 0.050000 (PETSc Krylov solver)\n",
      "2023-01-31 20:56:36.993 (  28.239s) [main            ]       NewtonSolver.cpp:36    INFO| Newton iteration 9: r (abs) = 2.87798e-05 (tol = 1e-08) r (rel) = 2.55384e-07(tol = 1e-08)\n",
      "2023-01-31 20:56:37.191 (  28.437s) [main            ]              petsc.cpp:675   INFO| PETSc Krylov solver starting to solve system.\n",
      "2023-01-31 20:56:37.631 (  28.876s) [main            ]         TimeLogger.cpp:28    INFO| Elapsed wall, usr, sys time: 0.439451, 0.410000, 0.030000 (PETSc Krylov solver)\n"
     ]
    },
    {
     "name": "stdout",
     "output_type": "stream",
     "text": [
      "Time step 3, Number of iterations 10, Load [ 0.   0.  -4.5]\n"
     ]
    },
    {
     "name": "stderr",
     "output_type": "stream",
     "text": [
      "2023-01-31 20:56:37.643 (  28.888s) [main            ]       NewtonSolver.cpp:36    INFO| Newton iteration 10: r (abs) = 6.08768e-10 (tol = 1e-08) r (rel) = 5.40203e-12(tol = 1e-08)\n",
      "2023-01-31 20:56:37.643 (  28.888s) [main            ]       NewtonSolver.cpp:255   INFO| Newton solver finished in 10 iterations and 10 linear solver iterations.\n",
      "2023-01-31 20:56:38.032 (  29.278s) [main            ]              petsc.cpp:675   INFO| PETSc Krylov solver starting to solve system.\n",
      "2023-01-31 20:56:38.466 (  29.711s) [main            ]         TimeLogger.cpp:28    INFO| Elapsed wall, usr, sys time: 0.433228, 0.400000, 0.030000 (PETSc Krylov solver)\n",
      "2023-01-31 20:56:38.697 (  29.943s) [main            ]              petsc.cpp:675   INFO| PETSc Krylov solver starting to solve system.\n",
      "2023-01-31 20:56:39.111 (  30.357s) [main            ]         TimeLogger.cpp:28    INFO| Elapsed wall, usr, sys time: 0.414036, 0.360000, 0.050000 (PETSc Krylov solver)\n",
      "2023-01-31 20:56:39.122 (  30.368s) [main            ]       NewtonSolver.cpp:36    INFO| Newton iteration 2: r (abs) = 5.50693 (tol = 1e-08) r (rel) = 0.0653918(tol = 1e-08)\n",
      "2023-01-31 20:56:39.349 (  30.594s) [main            ]              petsc.cpp:675   INFO| PETSc Krylov solver starting to solve system.\n",
      "2023-01-31 20:56:39.811 (  31.056s) [main            ]         TimeLogger.cpp:28    INFO| Elapsed wall, usr, sys time: 0.462197, 0.420000, 0.050000 (PETSc Krylov solver)\n",
      "2023-01-31 20:56:39.823 (  31.068s) [main            ]       NewtonSolver.cpp:36    INFO| Newton iteration 3: r (abs) = 26.2489 (tol = 1e-08) r (rel) = 0.311692(tol = 1e-08)\n",
      "2023-01-31 20:56:40.032 (  31.277s) [main            ]              petsc.cpp:675   INFO| PETSc Krylov solver starting to solve system.\n",
      "2023-01-31 20:56:40.489 (  31.735s) [main            ]         TimeLogger.cpp:28    INFO| Elapsed wall, usr, sys time: 0.457468, 0.430000, 0.020000 (PETSc Krylov solver)\n",
      "2023-01-31 20:56:40.504 (  31.750s) [main            ]       NewtonSolver.cpp:36    INFO| Newton iteration 4: r (abs) = 2.30927 (tol = 1e-08) r (rel) = 0.0274213(tol = 1e-08)\n",
      "2023-01-31 20:56:40.765 (  32.011s) [main            ]              petsc.cpp:675   INFO| PETSc Krylov solver starting to solve system.\n",
      "2023-01-31 20:56:41.175 (  32.421s) [main            ]         TimeLogger.cpp:28    INFO| Elapsed wall, usr, sys time: 0.409944, 0.370000, 0.040000 (PETSc Krylov solver)\n",
      "2023-01-31 20:56:41.187 (  32.433s) [main            ]       NewtonSolver.cpp:36    INFO| Newton iteration 5: r (abs) = 14.0562 (tol = 1e-08) r (rel) = 0.16691(tol = 1e-08)\n",
      "2023-01-31 20:56:41.400 (  32.646s) [main            ]              petsc.cpp:675   INFO| PETSc Krylov solver starting to solve system.\n",
      "2023-01-31 20:56:41.849 (  33.094s) [main            ]         TimeLogger.cpp:28    INFO| Elapsed wall, usr, sys time: 0.448601, 0.410000, 0.040000 (PETSc Krylov solver)\n",
      "2023-01-31 20:56:41.862 (  33.108s) [main            ]       NewtonSolver.cpp:36    INFO| Newton iteration 6: r (abs) = 0.222774 (tol = 1e-08) r (rel) = 0.00264532(tol = 1e-08)\n",
      "2023-01-31 20:56:42.120 (  33.366s) [main            ]              petsc.cpp:675   INFO| PETSc Krylov solver starting to solve system.\n",
      "2023-01-31 20:56:42.537 (  33.783s) [main            ]         TimeLogger.cpp:28    INFO| Elapsed wall, usr, sys time: 0.417370, 0.370000, 0.050000 (PETSc Krylov solver)\n",
      "2023-01-31 20:56:42.548 (  33.793s) [main            ]       NewtonSolver.cpp:36    INFO| Newton iteration 7: r (abs) = 0.286671 (tol = 1e-08) r (rel) = 0.00340406(tol = 1e-08)\n",
      "2023-01-31 20:56:42.749 (  33.995s) [main            ]              petsc.cpp:675   INFO| PETSc Krylov solver starting to solve system.\n",
      "2023-01-31 20:56:43.214 (  34.460s) [main            ]         TimeLogger.cpp:28    INFO| Elapsed wall, usr, sys time: 0.464663, 0.430000, 0.030000 (PETSc Krylov solver)\n",
      "2023-01-31 20:56:43.227 (  34.472s) [main            ]       NewtonSolver.cpp:36    INFO| Newton iteration 8: r (abs) = 0.000321869 (tol = 1e-08) r (rel) = 3.82203e-06(tol = 1e-08)\n",
      "2023-01-31 20:56:43.444 (  34.689s) [main            ]              petsc.cpp:675   INFO| PETSc Krylov solver starting to solve system.\n",
      "2023-01-31 20:56:43.885 (  35.131s) [main            ]         TimeLogger.cpp:28    INFO| Elapsed wall, usr, sys time: 0.441615, 0.410000, 0.030000 (PETSc Krylov solver)\n",
      "2023-01-31 20:56:43.897 (  35.143s) [main            ]       NewtonSolver.cpp:36    INFO| Newton iteration 9: r (abs) = 2.63797e-07 (tol = 1e-08) r (rel) = 3.13244e-09(tol = 1e-08)\n",
      "2023-01-31 20:56:43.897 (  35.143s) [main            ]       NewtonSolver.cpp:255   INFO| Newton solver finished in 9 iterations and 9 linear solver iterations.\n"
     ]
    },
    {
     "name": "stdout",
     "output_type": "stream",
     "text": [
      "Time step 4, Number of iterations 9, Load [ 0.  0. -6.]\n"
     ]
    },
    {
     "name": "stderr",
     "output_type": "stream",
     "text": [
      "2023-01-31 20:56:44.305 (  35.551s) [main            ]              petsc.cpp:675   INFO| PETSc Krylov solver starting to solve system.\n",
      "2023-01-31 20:56:44.762 (  36.007s) [main            ]         TimeLogger.cpp:28    INFO| Elapsed wall, usr, sys time: 0.456530, 0.410000, 0.050000 (PETSc Krylov solver)\n",
      "2023-01-31 20:56:44.980 (  36.225s) [main            ]              petsc.cpp:675   INFO| PETSc Krylov solver starting to solve system.\n",
      "2023-01-31 20:56:45.406 (  36.651s) [main            ]         TimeLogger.cpp:28    INFO| Elapsed wall, usr, sys time: 0.425997, 0.390000, 0.040000 (PETSc Krylov solver)\n",
      "2023-01-31 20:56:45.419 (  36.665s) [main            ]       NewtonSolver.cpp:36    INFO| Newton iteration 2: r (abs) = 3.19462 (tol = 1e-08) r (rel) = 0.0496479(tol = 1e-08)\n",
      "2023-01-31 20:56:45.662 (  36.908s) [main            ]              petsc.cpp:675   INFO| PETSc Krylov solver starting to solve system.\n",
      "2023-01-31 20:56:46.165 (  37.411s) [main            ]         TimeLogger.cpp:28    INFO| Elapsed wall, usr, sys time: 0.502807, 0.460000, 0.040000 (PETSc Krylov solver)\n",
      "2023-01-31 20:56:46.180 (  37.426s) [main            ]       NewtonSolver.cpp:36    INFO| Newton iteration 3: r (abs) = 7.71429 (tol = 1e-08) r (rel) = 0.119888(tol = 1e-08)\n",
      "2023-01-31 20:56:46.470 (  37.716s) [main            ]              petsc.cpp:675   INFO| PETSc Krylov solver starting to solve system.\n",
      "2023-01-31 20:56:46.898 (  38.144s) [main            ]         TimeLogger.cpp:28    INFO| Elapsed wall, usr, sys time: 0.428123, 0.390000, 0.040000 (PETSc Krylov solver)\n",
      "2023-01-31 20:56:46.908 (  38.154s) [main            ]       NewtonSolver.cpp:36    INFO| Newton iteration 4: r (abs) = 0.850873 (tol = 1e-08) r (rel) = 0.0132235(tol = 1e-08)\n",
      "2023-01-31 20:56:47.127 (  38.372s) [main            ]              petsc.cpp:675   INFO| PETSc Krylov solver starting to solve system.\n",
      "2023-01-31 20:56:47.520 (  38.766s) [main            ]         TimeLogger.cpp:28    INFO| Elapsed wall, usr, sys time: 0.393453, 0.370000, 0.020000 (PETSc Krylov solver)\n",
      "2023-01-31 20:56:47.529 (  38.775s) [main            ]       NewtonSolver.cpp:36    INFO| Newton iteration 5: r (abs) = 0.371434 (tol = 1e-08) r (rel) = 0.0057725(tol = 1e-08)\n",
      "2023-01-31 20:56:47.728 (  38.974s) [main            ]              petsc.cpp:675   INFO| PETSc Krylov solver starting to solve system.\n",
      "2023-01-31 20:56:48.216 (  39.462s) [main            ]         TimeLogger.cpp:28    INFO| Elapsed wall, usr, sys time: 0.487725, 0.430000, 0.060000 (PETSc Krylov solver)\n",
      "2023-01-31 20:56:48.230 (  39.476s) [main            ]       NewtonSolver.cpp:36    INFO| Newton iteration 6: r (abs) = 0.00215066 (tol = 1e-08) r (rel) = 3.34236e-05(tol = 1e-08)\n",
      "2023-01-31 20:56:48.478 (  39.723s) [main            ]              petsc.cpp:675   INFO| PETSc Krylov solver starting to solve system.\n",
      "2023-01-31 20:56:48.910 (  40.156s) [main            ]         TimeLogger.cpp:28    INFO| Elapsed wall, usr, sys time: 0.432517, 0.390000, 0.040000 (PETSc Krylov solver)\n",
      "2023-01-31 20:56:48.920 (  40.165s) [main            ]       NewtonSolver.cpp:36    INFO| Newton iteration 7: r (abs) = 2.54607e-06 (tol = 1e-08) r (rel) = 3.95687e-08(tol = 1e-08)\n",
      "2023-01-31 20:56:49.114 (  40.359s) [main            ]              petsc.cpp:675   INFO| PETSc Krylov solver starting to solve system.\n",
      "2023-01-31 20:56:49.599 (  40.845s) [main            ]         TimeLogger.cpp:28    INFO| Elapsed wall, usr, sys time: 0.485350, 0.460000, 0.030000 (PETSc Krylov solver)\n",
      "2023-01-31 20:56:49.609 (  40.855s) [main            ]       NewtonSolver.cpp:36    INFO| Newton iteration 8: r (abs) = 2.62506e-13 (tol = 1e-08) r (rel) = 4.07963e-15(tol = 1e-08)\n",
      "2023-01-31 20:56:49.609 (  40.855s) [main            ]       NewtonSolver.cpp:255   INFO| Newton solver finished in 8 iterations and 8 linear solver iterations.\n"
     ]
    },
    {
     "name": "stdout",
     "output_type": "stream",
     "text": [
      "Time step 5, Number of iterations 8, Load [ 0.   0.  -7.5]\n"
     ]
    },
    {
     "name": "stderr",
     "output_type": "stream",
     "text": [
      "2023-01-31 20:56:49.994 (  41.239s) [main            ]              petsc.cpp:675   INFO| PETSc Krylov solver starting to solve system.\n",
      "2023-01-31 20:56:50.407 (  41.653s) [main            ]         TimeLogger.cpp:28    INFO| Elapsed wall, usr, sys time: 0.413778, 0.380000, 0.040000 (PETSc Krylov solver)\n",
      "2023-01-31 20:56:50.669 (  41.915s) [main            ]              petsc.cpp:675   INFO| PETSc Krylov solver starting to solve system.\n",
      "2023-01-31 20:56:51.133 (  42.379s) [main            ]         TimeLogger.cpp:28    INFO| Elapsed wall, usr, sys time: 0.464220, 0.430000, 0.040000 (PETSc Krylov solver)\n",
      "2023-01-31 20:56:51.153 (  42.398s) [main            ]       NewtonSolver.cpp:36    INFO| Newton iteration 2: r (abs) = 2.00649 (tol = 1e-08) r (rel) = 0.0395622(tol = 1e-08)\n",
      "2023-01-31 20:56:51.419 (  42.664s) [main            ]              petsc.cpp:675   INFO| PETSc Krylov solver starting to solve system.\n",
      "2023-01-31 20:56:51.888 (  43.133s) [main            ]         TimeLogger.cpp:28    INFO| Elapsed wall, usr, sys time: 0.469112, 0.430000, 0.040000 (PETSc Krylov solver)\n",
      "2023-01-31 20:56:51.902 (  43.148s) [main            ]       NewtonSolver.cpp:36    INFO| Newton iteration 3: r (abs) = 4.60977 (tol = 1e-08) r (rel) = 0.0908914(tol = 1e-08)\n",
      "2023-01-31 20:56:52.161 (  43.406s) [main            ]              petsc.cpp:675   INFO| PETSc Krylov solver starting to solve system.\n",
      "2023-01-31 20:56:52.636 (  43.881s) [main            ]         TimeLogger.cpp:28    INFO| Elapsed wall, usr, sys time: 0.475072, 0.410000, 0.070000 (PETSc Krylov solver)\n",
      "2023-01-31 20:56:52.649 (  43.894s) [main            ]       NewtonSolver.cpp:36    INFO| Newton iteration 4: r (abs) = 0.185372 (tol = 1e-08) r (rel) = 0.00365501(tol = 1e-08)\n",
      "2023-01-31 20:56:52.893 (  44.139s) [main            ]              petsc.cpp:675   INFO| PETSc Krylov solver starting to solve system.\n",
      "2023-01-31 20:56:53.412 (  44.658s) [main            ]         TimeLogger.cpp:28    INFO| Elapsed wall, usr, sys time: 0.519405, 0.480000, 0.040000 (PETSc Krylov solver)\n",
      "2023-01-31 20:56:53.424 (  44.670s) [main            ]       NewtonSolver.cpp:36    INFO| Newton iteration 5: r (abs) = 0.024688 (tol = 1e-08) r (rel) = 0.000486777(tol = 1e-08)\n",
      "2023-01-31 20:56:53.621 (  44.867s) [main            ]              petsc.cpp:675   INFO| PETSc Krylov solver starting to solve system.\n",
      "2023-01-31 20:56:54.083 (  45.329s) [main            ]         TimeLogger.cpp:28    INFO| Elapsed wall, usr, sys time: 0.462252, 0.440000, 0.030000 (PETSc Krylov solver)\n",
      "2023-01-31 20:56:54.095 (  45.340s) [main            ]       NewtonSolver.cpp:36    INFO| Newton iteration 6: r (abs) = 5.69255e-06 (tol = 1e-08) r (rel) = 1.12241e-07(tol = 1e-08)\n",
      "2023-01-31 20:56:54.334 (  45.579s) [main            ]              petsc.cpp:675   INFO| PETSc Krylov solver starting to solve system.\n",
      "2023-01-31 20:56:54.737 (  45.982s) [main            ]         TimeLogger.cpp:28    INFO| Elapsed wall, usr, sys time: 0.402925, 0.350000, 0.050000 (PETSc Krylov solver)\n",
      "2023-01-31 20:56:54.747 (  45.993s) [main            ]       NewtonSolver.cpp:36    INFO| Newton iteration 7: r (abs) = 2.61602e-11 (tol = 1e-08) r (rel) = 5.15804e-13(tol = 1e-08)\n",
      "2023-01-31 20:56:54.747 (  45.993s) [main            ]       NewtonSolver.cpp:255   INFO| Newton solver finished in 7 iterations and 7 linear solver iterations.\n"
     ]
    },
    {
     "name": "stdout",
     "output_type": "stream",
     "text": [
      "Time step 6, Number of iterations 7, Load [ 0.  0. -9.]\n"
     ]
    },
    {
     "name": "stderr",
     "output_type": "stream",
     "text": [
      "2023-01-31 20:56:55.156 (  46.402s) [main            ]              petsc.cpp:675   INFO| PETSc Krylov solver starting to solve system.\n",
      "2023-01-31 20:56:55.566 (  46.812s) [main            ]         TimeLogger.cpp:28    INFO| Elapsed wall, usr, sys time: 0.410315, 0.380000, 0.030000 (PETSc Krylov solver)\n",
      "2023-01-31 20:56:55.797 (  47.043s) [main            ]              petsc.cpp:675   INFO| PETSc Krylov solver starting to solve system.\n",
      "2023-01-31 20:56:56.210 (  47.456s) [main            ]         TimeLogger.cpp:28    INFO| Elapsed wall, usr, sys time: 0.413090, 0.360000, 0.050000 (PETSc Krylov solver)\n",
      "2023-01-31 20:56:56.223 (  47.469s) [main            ]       NewtonSolver.cpp:36    INFO| Newton iteration 2: r (abs) = 1.38506 (tol = 1e-08) r (rel) = 0.0336622(tol = 1e-08)\n",
      "2023-01-31 20:56:56.448 (  47.693s) [main            ]              petsc.cpp:675   INFO| PETSc Krylov solver starting to solve system.\n",
      "2023-01-31 20:56:56.869 (  48.115s) [main            ]         TimeLogger.cpp:28    INFO| Elapsed wall, usr, sys time: 0.421183, 0.400000, 0.030000 (PETSc Krylov solver)\n",
      "2023-01-31 20:56:56.883 (  48.128s) [main            ]       NewtonSolver.cpp:36    INFO| Newton iteration 3: r (abs) = 3.03739 (tol = 1e-08) r (rel) = 0.07382(tol = 1e-08)\n",
      "2023-01-31 20:56:57.101 (  48.347s) [main            ]              petsc.cpp:675   INFO| PETSc Krylov solver starting to solve system.\n",
      "2023-01-31 20:56:57.588 (  48.834s) [main            ]         TimeLogger.cpp:28    INFO| Elapsed wall, usr, sys time: 0.486712, 0.440000, 0.050000 (PETSc Krylov solver)\n",
      "2023-01-31 20:56:57.600 (  48.845s) [main            ]       NewtonSolver.cpp:36    INFO| Newton iteration 4: r (abs) = 0.0412386 (tol = 1e-08) r (rel) = 0.00100225(tol = 1e-08)\n",
      "2023-01-31 20:56:57.869 (  49.114s) [main            ]              petsc.cpp:675   INFO| PETSc Krylov solver starting to solve system.\n",
      "2023-01-31 20:56:58.320 (  49.566s) [main            ]         TimeLogger.cpp:28    INFO| Elapsed wall, usr, sys time: 0.451649, 0.420000, 0.040000 (PETSc Krylov solver)\n",
      "2023-01-31 20:56:58.334 (  49.580s) [main            ]       NewtonSolver.cpp:36    INFO| Newton iteration 5: r (abs) = 0.00205057 (tol = 1e-08) r (rel) = 4.98364e-05(tol = 1e-08)\n",
      "2023-01-31 20:56:58.564 (  49.809s) [main            ]              petsc.cpp:675   INFO| PETSc Krylov solver starting to solve system.\n",
      "2023-01-31 20:56:59.086 (  50.331s) [main            ]         TimeLogger.cpp:28    INFO| Elapsed wall, usr, sys time: 0.522086, 0.480000, 0.040000 (PETSc Krylov solver)\n",
      "2023-01-31 20:56:59.102 (  50.348s) [main            ]       NewtonSolver.cpp:36    INFO| Newton iteration 6: r (abs) = 1.78861e-08 (tol = 1e-08) r (rel) = 4.347e-10(tol = 1e-08)\n",
      "2023-01-31 20:56:59.102 (  50.348s) [main            ]       NewtonSolver.cpp:255   INFO| Newton solver finished in 6 iterations and 6 linear solver iterations.\n"
     ]
    },
    {
     "name": "stdout",
     "output_type": "stream",
     "text": [
      "Time step 7, Number of iterations 6, Load [  0.    0.  -10.5]\n"
     ]
    },
    {
     "name": "stderr",
     "output_type": "stream",
     "text": [
      "2023-01-31 20:56:59.574 (  50.820s) [main            ]              petsc.cpp:675   INFO| PETSc Krylov solver starting to solve system.\n",
      "2023-01-31 20:57:00.034 (  51.279s) [main            ]         TimeLogger.cpp:28    INFO| Elapsed wall, usr, sys time: 0.459883, 0.420000, 0.040000 (PETSc Krylov solver)\n",
      "2023-01-31 20:57:00.329 (  51.574s) [main            ]              petsc.cpp:675   INFO| PETSc Krylov solver starting to solve system.\n",
      "2023-01-31 20:57:00.842 (  52.088s) [main            ]         TimeLogger.cpp:28    INFO| Elapsed wall, usr, sys time: 0.513549, 0.480000, 0.030000 (PETSc Krylov solver)\n",
      "2023-01-31 20:57:00.852 (  52.097s) [main            ]       NewtonSolver.cpp:36    INFO| Newton iteration 2: r (abs) = 1.06336 (tol = 1e-08) r (rel) = 0.031085(tol = 1e-08)\n",
      "2023-01-31 20:57:01.098 (  52.344s) [main            ]              petsc.cpp:675   INFO| PETSc Krylov solver starting to solve system.\n",
      "2023-01-31 20:57:01.615 (  52.861s) [main            ]         TimeLogger.cpp:28    INFO| Elapsed wall, usr, sys time: 0.517261, 0.470000, 0.050000 (PETSc Krylov solver)\n",
      "2023-01-31 20:57:01.627 (  52.873s) [main            ]       NewtonSolver.cpp:36    INFO| Newton iteration 3: r (abs) = 2.0477 (tol = 1e-08) r (rel) = 0.0598598(tol = 1e-08)\n",
      "2023-01-31 20:57:01.866 (  53.111s) [main            ]              petsc.cpp:675   INFO| PETSc Krylov solver starting to solve system.\n",
      "2023-01-31 20:57:02.380 (  53.626s) [main            ]         TimeLogger.cpp:28    INFO| Elapsed wall, usr, sys time: 0.514433, 0.450000, 0.060000 (PETSc Krylov solver)\n",
      "2023-01-31 20:57:02.397 (  53.642s) [main            ]       NewtonSolver.cpp:36    INFO| Newton iteration 4: r (abs) = 0.00897719 (tol = 1e-08) r (rel) = 0.000262427(tol = 1e-08)\n",
      "2023-01-31 20:57:02.639 (  53.885s) [main            ]              petsc.cpp:675   INFO| PETSc Krylov solver starting to solve system.\n",
      "2023-01-31 20:57:03.107 (  54.353s) [main            ]         TimeLogger.cpp:28    INFO| Elapsed wall, usr, sys time: 0.467893, 0.420000, 0.040000 (PETSc Krylov solver)\n",
      "2023-01-31 20:57:03.125 (  54.371s) [main            ]       NewtonSolver.cpp:36    INFO| Newton iteration 5: r (abs) = 0.000167422 (tol = 1e-08) r (rel) = 4.89419e-06(tol = 1e-08)\n",
      "2023-01-31 20:57:03.358 (  54.604s) [main            ]              petsc.cpp:675   INFO| PETSc Krylov solver starting to solve system.\n",
      "2023-01-31 20:57:03.813 (  55.058s) [main            ]         TimeLogger.cpp:28    INFO| Elapsed wall, usr, sys time: 0.454494, 0.410000, 0.040000 (PETSc Krylov solver)\n",
      "2023-01-31 20:57:03.828 (  55.073s) [main            ]       NewtonSolver.cpp:36    INFO| Newton iteration 6: r (abs) = 3.25075e-11 (tol = 1e-08) r (rel) = 9.50282e-13(tol = 1e-08)\n",
      "2023-01-31 20:57:03.828 (  55.073s) [main            ]       NewtonSolver.cpp:255   INFO| Newton solver finished in 6 iterations and 6 linear solver iterations.\n"
     ]
    },
    {
     "name": "stdout",
     "output_type": "stream",
     "text": [
      "Time step 8, Number of iterations 6, Load [  0.   0. -12.]\n"
     ]
    },
    {
     "name": "stderr",
     "output_type": "stream",
     "text": [
      "2023-01-31 20:57:04.236 (  55.481s) [main            ]              petsc.cpp:675   INFO| PETSc Krylov solver starting to solve system.\n",
      "2023-01-31 20:57:04.695 (  55.941s) [main            ]         TimeLogger.cpp:28    INFO| Elapsed wall, usr, sys time: 0.459318, 0.410000, 0.050000 (PETSc Krylov solver)\n",
      "2023-01-31 20:57:04.965 (  56.211s) [main            ]              petsc.cpp:675   INFO| PETSc Krylov solver starting to solve system.\n",
      "2023-01-31 20:57:05.415 (  56.661s) [main            ]         TimeLogger.cpp:28    INFO| Elapsed wall, usr, sys time: 0.450075, 0.420000, 0.040000 (PETSc Krylov solver)\n",
      "2023-01-31 20:57:05.425 (  56.671s) [main            ]       NewtonSolver.cpp:36    INFO| Newton iteration 2: r (abs) = 0.898789 (tol = 1e-08) r (rel) = 0.0309666(tol = 1e-08)\n",
      "2023-01-31 20:57:05.649 (  56.895s) [main            ]              petsc.cpp:675   INFO| PETSc Krylov solver starting to solve system.\n",
      "2023-01-31 20:57:06.129 (  57.375s) [main            ]         TimeLogger.cpp:28    INFO| Elapsed wall, usr, sys time: 0.480405, 0.420000, 0.060000 (PETSc Krylov solver)\n",
      "2023-01-31 20:57:06.141 (  57.387s) [main            ]       NewtonSolver.cpp:36    INFO| Newton iteration 3: r (abs) = 1.38354 (tol = 1e-08) r (rel) = 0.0476679(tol = 1e-08)\n",
      "2023-01-31 20:57:06.386 (  57.632s) [main            ]              petsc.cpp:675   INFO| PETSc Krylov solver starting to solve system.\n",
      "2023-01-31 20:57:06.840 (  58.086s) [main            ]         TimeLogger.cpp:28    INFO| Elapsed wall, usr, sys time: 0.453474, 0.420000, 0.040000 (PETSc Krylov solver)\n",
      "2023-01-31 20:57:06.859 (  58.104s) [main            ]       NewtonSolver.cpp:36    INFO| Newton iteration 4: r (abs) = 0.00185096 (tol = 1e-08) r (rel) = 6.37724e-05(tol = 1e-08)\n",
      "2023-01-31 20:57:07.094 (  58.340s) [main            ]              petsc.cpp:675   INFO| PETSc Krylov solver starting to solve system.\n",
      "2023-01-31 20:57:07.558 (  58.803s) [main            ]         TimeLogger.cpp:28    INFO| Elapsed wall, usr, sys time: 0.463253, 0.390000, 0.060000 (PETSc Krylov solver)\n",
      "2023-01-31 20:57:07.571 (  58.817s) [main            ]       NewtonSolver.cpp:36    INFO| Newton iteration 5: r (abs) = 7.87183e-06 (tol = 1e-08) r (rel) = 2.71213e-07(tol = 1e-08)\n"
     ]
    },
    {
     "name": "stdout",
     "output_type": "stream",
     "text": [
      "Time step 9, Number of iterations 6, Load [  0.    0.  -13.5]\n"
     ]
    },
    {
     "name": "stderr",
     "output_type": "stream",
     "text": [
      "2023-01-31 20:57:07.791 (  59.037s) [main            ]              petsc.cpp:675   INFO| PETSc Krylov solver starting to solve system.\n",
      "2023-01-31 20:57:08.299 (  59.544s) [main            ]         TimeLogger.cpp:28    INFO| Elapsed wall, usr, sys time: 0.507236, 0.450000, 0.050000 (PETSc Krylov solver)\n",
      "2023-01-31 20:57:08.312 (  59.558s) [main            ]       NewtonSolver.cpp:36    INFO| Newton iteration 6: r (abs) = 2.81885e-13 (tol = 1e-08) r (rel) = 9.71198e-15(tol = 1e-08)\n",
      "2023-01-31 20:57:08.312 (  59.558s) [main            ]       NewtonSolver.cpp:255   INFO| Newton solver finished in 6 iterations and 6 linear solver iterations.\n"
     ]
    }
   ],
   "source": [
    "from dolfinx import log\n",
    "log.set_log_level(log.LogLevel.INFO)\n",
    "tval0 = -1.5\n",
    "for n in range(1, 10):\n",
    "    T.value[2] = n * tval0\n",
    "    num_its, converged = solver.solve(u)\n",
    "    assert(converged)\n",
    "    u.x.scatter_forward()\n",
    "    print(f\"Time step {n}, Number of iterations {num_its}, Load {T.value}\")\n",
    "    function_grid[\"u\"][:, :len(u)] = u.x.array.reshape(geometry.shape[0], len(u))\n",
    "    magnitude.interpolate(us)\n",
    "    warped.set_active_scalars(\"mag\")\n",
    "    warped_n = function_grid.warp_by_vector(factor=1)\n",
    "    plotter.update_coordinates(warped_n.points.copy(), render=False)\n",
    "    plotter.update_scalar_bar_range([0, 10])\n",
    "    plotter.update_scalars(magnitude.x.array)\n",
    "    plotter.write_frame()\n",
    "plotter.close()"
   ]
  },
  {
   "cell_type": "markdown",
   "id": "906ef59c-7e89-46e7-9222-9a6e925f4180",
   "metadata": {},
   "source": [
    "<img src=\"./deformation.gif\" alt=\"gif\" class=\"bg-primary mb-1\" width=\"800px\">"
   ]
  },
  {
   "cell_type": "code",
   "execution_count": null,
   "id": "706b21a2-3ba8-4cb7-af34-ce9370eaff16",
   "metadata": {},
   "outputs": [],
   "source": []
  }
 ],
 "metadata": {
  "jupytext": {
   "formats": "ipynb,py:light"
  },
  "kernelspec": {
   "display_name": "Python 3 (ipykernel)",
   "language": "python",
   "name": "python3"
  },
  "language_info": {
   "codemirror_mode": {
    "name": "ipython",
    "version": 3
   },
   "file_extension": ".py",
   "mimetype": "text/x-python",
   "name": "python",
   "nbconvert_exporter": "python",
   "pygments_lexer": "ipython3",
   "version": "3.10.6"
  }
 },
 "nbformat": 4,
 "nbformat_minor": 5
}
