{
 "cells": [
  {
   "cell_type": "markdown",
   "id": "supreme-malpractice",
   "metadata": {},
   "source": [
    "# Hyperelasticity\n",
    "Author: Jørgen S. Dokken and Garth N. Wells\n",
    "\n",
    "This section shows how to solve the hyperelasticity problem for deformation of a beam.\n",
    "\n",
    "We will also show how to create a constant boundary condition for a vector function space.\n",
    "\n",
    "We start by importing DOLFINx and some additional dependencies.\n",
    "Then, we create a slender cantilever consisting of hexahedral elements and create the function space `V` for our unknown."
   ]
  },
  {
   "cell_type": "code",
   "execution_count": 1,
   "id": "optional-cameroon",
   "metadata": {},
   "outputs": [],
   "source": [
    "import numpy as np\n",
    "import ufl\n",
    "\n",
    "from petsc4py import PETSc\n",
    "from mpi4py import MPI\n",
    "from dolfinx import fem, mesh, plot\n",
    "L = 20.0\n",
    "domain = mesh.create_box(MPI.COMM_WORLD,[[0.0,0.0,0.0], [L, 1, 1]], [20, 5, 5], mesh.CellType.hexahedron)\n",
    "V = fem.VectorFunctionSpace(domain, (\"CG\", 2))"
   ]
  },
  {
   "cell_type": "markdown",
   "id": "streaming-neutral",
   "metadata": {},
   "source": [
    "We create two python functions for determining the facets to apply boundary conditions to"
   ]
  },
  {
   "cell_type": "code",
   "execution_count": 2,
   "id": "major-factor",
   "metadata": {},
   "outputs": [],
   "source": [
    "def left(x):\n",
    "    return np.isclose(x[0], 0)\n",
    "\n",
    "def right(x):\n",
    "    return np.isclose(x[0], L)\n",
    "\n",
    "fdim = domain.topology.dim -1\n",
    "left_facets = mesh.locate_entities_boundary(domain, fdim, left)\n",
    "right_facets = mesh.locate_entities_boundary(domain, fdim, right)"
   ]
  },
  {
   "cell_type": "markdown",
   "id": "figured-world",
   "metadata": {},
   "source": [
    "Next, we create a  marker based on these two functions"
   ]
  },
  {
   "cell_type": "code",
   "execution_count": 3,
   "id": "dated-india",
   "metadata": {},
   "outputs": [],
   "source": [
    "# Concatenate and sort the arrays based on facet indices. Left facets marked with 1, right facets with two\n",
    "marked_facets = np.hstack([left_facets, right_facets])\n",
    "marked_values = np.hstack([np.full(len(left_facets), 1, dtype=np.int32), np.full(len(right_facets), 2, dtype=np.int32)])\n",
    "sorted_facets = np.argsort(marked_facets)\n",
    "facet_tag = mesh.meshtags(domain, fdim, marked_facets[sorted_facets], marked_values[sorted_facets])"
   ]
  },
  {
   "cell_type": "markdown",
   "id": "renewable-glossary",
   "metadata": {},
   "source": [
    "We then create a function for supplying the boundary condition on the left side, which is fixed."
   ]
  },
  {
   "cell_type": "code",
   "execution_count": 4,
   "id": "confidential-french",
   "metadata": {},
   "outputs": [],
   "source": [
    "u_bc = np.array((0,) * domain.geometry.dim, dtype=PETSc.ScalarType)"
   ]
  },
  {
   "cell_type": "markdown",
   "id": "musical-documentation",
   "metadata": {},
   "source": [
    "To apply the boundary condition, we identity the dofs located on the facets marked by the `MeshTag`."
   ]
  },
  {
   "cell_type": "code",
   "execution_count": 5,
   "id": "written-monster",
   "metadata": {},
   "outputs": [],
   "source": [
    "left_dofs = fem.locate_dofs_topological(V, facet_tag.dim, facet_tag.indices[facet_tag.values==1])\n",
    "bcs = [fem.dirichletbc(u_bc, left_dofs, V)]"
   ]
  },
  {
   "cell_type": "markdown",
   "id": "indoor-chester",
   "metadata": {},
   "source": [
    "Next, we define the body force on the reference configuration (`B`), and nominal (first Piola-Kirchhoff) traction (`T`). "
   ]
  },
  {
   "cell_type": "code",
   "execution_count": 6,
   "id": "korean-carol",
   "metadata": {},
   "outputs": [],
   "source": [
    "B = fem.Constant(domain, PETSc.ScalarType((0, 0, 0)))\n",
    "T = fem.Constant(domain, PETSc.ScalarType((0, 0, 0)))"
   ]
  },
  {
   "cell_type": "markdown",
   "id": "blond-dynamics",
   "metadata": {},
   "source": [
    "Define the test and solution functions on the space $V$"
   ]
  },
  {
   "cell_type": "code",
   "execution_count": 7,
   "id": "vocational-experiment",
   "metadata": {},
   "outputs": [],
   "source": [
    "v = ufl.TestFunction(V)\n",
    "u = fem.Function(V)"
   ]
  },
  {
   "cell_type": "markdown",
   "id": "bright-belle",
   "metadata": {},
   "source": [
    "Define kinematic quantities used in the problem"
   ]
  },
  {
   "cell_type": "code",
   "execution_count": 8,
   "id": "vertical-original",
   "metadata": {},
   "outputs": [],
   "source": [
    "# Spatial dimension\n",
    "d = len(u)\n",
    "\n",
    "# Identity tensor\n",
    "I = ufl.variable(ufl.Identity(d))\n",
    "\n",
    "# Deformation gradient\n",
    "F = ufl.variable(I + ufl.grad(u))\n",
    "\n",
    "# Right Cauchy-Green tensor\n",
    "C = ufl.variable(F.T * F)\n",
    "\n",
    "# Invariants of deformation tensors\n",
    "Ic = ufl.variable(ufl.tr(C))\n",
    "J  = ufl.variable(ufl.det(F))"
   ]
  },
  {
   "cell_type": "markdown",
   "id": "respiratory-compromise",
   "metadata": {},
   "source": [
    "Define the elasticity model via a stored strain energy density function $\\psi$, and create the expression for the first Piola-Kirchhoff stress:"
   ]
  },
  {
   "cell_type": "code",
   "execution_count": 9,
   "id": "incorrect-hello",
   "metadata": {},
   "outputs": [],
   "source": [
    "# Elasticity parameters\n",
    "E = PETSc.ScalarType(1.0e4)\n",
    "nu = PETSc.ScalarType(0.3)\n",
    "mu = fem.Constant(domain, E/(2*(1 + nu)))\n",
    "lmbda = fem.Constant(domain, E*nu/((1 + nu)*(1 - 2*nu)))\n",
    "# Stored strain energy density (compressible neo-Hookean model)\n",
    "psi = (mu / 2) * (Ic - 3) - mu * ufl.ln(J) + (lmbda / 2) * (ufl.ln(J))**2\n",
    "# Stress\n",
    "# Hyper-elasticity\n",
    "P = ufl.diff(psi, F)"
   ]
  },
  {
   "cell_type": "markdown",
   "id": "grateful-battlefield",
   "metadata": {},
   "source": [
    "```{admonition} Comparison to linear elasticity\n",
    "To illustrate the difference between linear and hyperelasticity, the following lines can be uncommented to solve the linear elasticity problem.\n",
    "```"
   ]
  },
  {
   "cell_type": "code",
   "execution_count": 10,
   "id": "imperial-jurisdiction",
   "metadata": {},
   "outputs": [],
   "source": [
    "# P = 2.0 * mu * ufl.sym(ufl.grad(u)) + lmbda * ufl.tr(ufl.sym(ufl.grad(u))) * I"
   ]
  },
  {
   "cell_type": "markdown",
   "id": "alleged-genesis",
   "metadata": {},
   "source": [
    "Define the variational form with traction integral over all facets with value 2. We set the quadrature degree for the integrals to 4."
   ]
  },
  {
   "cell_type": "code",
   "execution_count": 11,
   "id": "recognized-conclusion",
   "metadata": {},
   "outputs": [],
   "source": [
    "metadata = {\"quadrature_degree\": 4}\n",
    "ds = ufl.Measure('ds', domain=domain, subdomain_data=facet_tag, metadata=metadata)\n",
    "dx = ufl.Measure(\"dx\", domain=domain, metadata=metadata)\n",
    "# Define form F (we want to find u such that F(u) = 0)\n",
    "F = ufl.inner(ufl.grad(v), P)*dx - ufl.inner(v, B)*dx - ufl.inner(v, T)*ds(2) "
   ]
  },
  {
   "cell_type": "markdown",
   "id": "historic-sherman",
   "metadata": {},
   "source": [
    "As the varitional form is non-linear and written on residual form, we use the non-linear problem class from DOLFINx to set up required structures to use a Newton solver."
   ]
  },
  {
   "cell_type": "code",
   "execution_count": 12,
   "id": "threatened-devices",
   "metadata": {},
   "outputs": [],
   "source": [
    "problem = fem.petsc.NonlinearProblem(F, u, bcs)"
   ]
  },
  {
   "cell_type": "markdown",
   "id": "qualified-phrase",
   "metadata": {},
   "source": [
    "and then create and customize the Newton solver"
   ]
  },
  {
   "cell_type": "code",
   "execution_count": 13,
   "id": "special-globe",
   "metadata": {},
   "outputs": [],
   "source": [
    "from dolfinx import nls\n",
    "solver = nls.petsc.NewtonSolver(domain.comm, problem)\n",
    "\n",
    "# Set Newton solver options\n",
    "solver.atol = 1e-8\n",
    "solver.rtol = 1e-8\n",
    "solver.convergence_criterion = \"incremental\""
   ]
  },
  {
   "cell_type": "markdown",
   "id": "marked-hungary",
   "metadata": {},
   "source": [
    "We create a function to plot the solution at each time step."
   ]
  },
  {
   "cell_type": "code",
   "execution_count": 14,
   "id": "noble-perception",
   "metadata": {},
   "outputs": [
    {
     "data": {
      "application/vnd.jupyter.widget-view+json": {
       "model_id": "6656d771ed8944e3973f9c768ec4ba49",
       "version_major": 2,
       "version_minor": 0
      },
      "text/plain": [
       "AppLayout(children=(VBox(children=(HTML(value='<h3>u(0)</h3>'), Dropdown(description='Colormap:', options={'Br…"
      ]
     },
     "metadata": {},
     "output_type": "display_data"
    }
   ],
   "source": [
    "import pyvista\n",
    "pyvista.set_jupyter_backend(\"ipygany\")\n",
    "\n",
    "grid = pyvista.UnstructuredGrid(*plot.create_vtk_mesh(domain, domain.topology.dim))\n",
    "\n",
    "def plot_function(t, uh):\n",
    "    \"\"\"\n",
    "    Create a figure of the concentration uh warped visualized in 3D at timet step t.\n",
    "    \"\"\"\n",
    "    p = pyvista.Plotter()\n",
    "    # Create grid defined by the function space for visualization of the function\n",
    "    topology, cells, geometry = plot.create_vtk_mesh(uh.function_space)\n",
    "    function_grid = pyvista.UnstructuredGrid(topology, cells, geometry)\n",
    "    var_name = f\"u({t})\"\n",
    "    values = np.zeros((geometry.shape[0], 3))\n",
    "    values[:, :len(uh)] = uh.x.array.reshape(geometry.shape[0], len(uh))\n",
    "    function_grid[var_name] = values\n",
    "    function_grid.set_active_vectors(var_name)\n",
    "    # Warp mesh by deformation\n",
    "    warped = function_grid.warp_by_vector(var_name, factor=1)\n",
    "    \n",
    "    # Add mesh to plotter and visualize\n",
    "    actor = p.add_mesh(warped)\n",
    "    p.show_axes()\n",
    "    if not pyvista.OFF_SCREEN:\n",
    "       p.show()\n",
    "    else:\n",
    "        pyvista.start_xvfb()\n",
    "        figure_as_array = p.screenshot(f\"diffusion_{t:.2f}.png\")\n",
    "        # Clear plotter for next plot\n",
    "        p.remove_actor(actor)\n",
    "\n",
    "plot_function(0, u)"
   ]
  },
  {
   "cell_type": "markdown",
   "id": "nasty-entertainment",
   "metadata": {},
   "source": [
    "Finally, we solve the problem over several time steps, updating the y-component of the traction"
   ]
  },
  {
   "cell_type": "code",
   "execution_count": 15,
   "id": "vanilla-referral",
   "metadata": {},
   "outputs": [
    {
     "name": "stderr",
     "output_type": "stream",
     "text": [
      "2022-05-02 19:34:32.940 (   2.723s) [main            ]              petsc.cpp:677   INFO| PETSc Krylov solver starting to solve system.\n",
      "2022-05-02 19:34:33.688 (   3.471s) [main            ]              petsc.cpp:677   INFO| PETSc Krylov solver starting to solve system.\n",
      "2022-05-02 19:34:34.091 (   3.874s) [main            ]       NewtonSolver.cpp:36    INFO| Newton iteration 2: r (abs) = 22.2455 (tol = 1e-08) r (rel) = 0.134278(tol = 1e-08)\n",
      "2022-05-02 19:34:34.295 (   4.078s) [main            ]              petsc.cpp:677   INFO| PETSc Krylov solver starting to solve system.\n",
      "2022-05-02 19:34:34.716 (   4.499s) [main            ]       NewtonSolver.cpp:36    INFO| Newton iteration 3: r (abs) = 2.43261 (tol = 1e-08) r (rel) = 0.0146837(tol = 1e-08)\n",
      "2022-05-02 19:34:34.917 (   4.700s) [main            ]              petsc.cpp:677   INFO| PETSc Krylov solver starting to solve system.\n",
      "2022-05-02 19:34:35.382 (   5.166s) [main            ]       NewtonSolver.cpp:36    INFO| Newton iteration 4: r (abs) = 4.43158 (tol = 1e-08) r (rel) = 0.0267498(tol = 1e-08)\n",
      "2022-05-02 19:34:35.607 (   5.390s) [main            ]              petsc.cpp:677   INFO| PETSc Krylov solver starting to solve system.\n",
      "2022-05-02 19:34:36.071 (   5.854s) [main            ]       NewtonSolver.cpp:36    INFO| Newton iteration 5: r (abs) = 0.144189 (tol = 1e-08) r (rel) = 0.000870353(tol = 1e-08)\n",
      "2022-05-02 19:34:36.294 (   6.077s) [main            ]              petsc.cpp:677   INFO| PETSc Krylov solver starting to solve system.\n",
      "2022-05-02 19:34:36.762 (   6.545s) [main            ]       NewtonSolver.cpp:36    INFO| Newton iteration 6: r (abs) = 0.021424 (tol = 1e-08) r (rel) = 0.000129319(tol = 1e-08)\n",
      "2022-05-02 19:34:36.999 (   6.782s) [main            ]              petsc.cpp:677   INFO| PETSc Krylov solver starting to solve system.\n",
      "2022-05-02 19:34:37.446 (   7.229s) [main            ]       NewtonSolver.cpp:36    INFO| Newton iteration 7: r (abs) = 4.80067e-06 (tol = 1e-08) r (rel) = 2.89777e-08(tol = 1e-08)\n",
      "2022-05-02 19:34:37.670 (   7.454s) [main            ]              petsc.cpp:677   INFO| PETSc Krylov solver starting to solve system.\n"
     ]
    },
    {
     "name": "stdout",
     "output_type": "stream",
     "text": [
      "Time step 1, Number of iterations 8, Load [ 0.   0.  -1.5]\n"
     ]
    },
    {
     "name": "stderr",
     "output_type": "stream",
     "text": [
      "2022-05-02 19:34:38.131 (   7.914s) [main            ]       NewtonSolver.cpp:36    INFO| Newton iteration 8: r (abs) = 2.60965e-11 (tol = 1e-08) r (rel) = 1.57523e-13(tol = 1e-08)\n",
      "2022-05-02 19:34:38.131 (   7.914s) [main            ]       NewtonSolver.cpp:255   INFO| Newton solver finished in 8 iterations and 8 linear solver iterations.\n"
     ]
    },
    {
     "data": {
      "application/vnd.jupyter.widget-view+json": {
       "model_id": "d269473425c94505a7af1d5910a46cb7",
       "version_major": 2,
       "version_minor": 0
      },
      "text/plain": [
       "AppLayout(children=(VBox(children=(HTML(value='<h3>u(1)</h3>'), Dropdown(description='Colormap:', options={'Br…"
      ]
     },
     "metadata": {},
     "output_type": "display_data"
    },
    {
     "name": "stderr",
     "output_type": "stream",
     "text": [
      "2022-05-02 19:34:38.448 (   8.231s) [main            ]              petsc.cpp:677   INFO| PETSc Krylov solver starting to solve system.\n",
      "2022-05-02 19:34:39.141 (   8.924s) [main            ]              petsc.cpp:677   INFO| PETSc Krylov solver starting to solve system.\n",
      "2022-05-02 19:34:39.645 (   9.428s) [main            ]       NewtonSolver.cpp:36    INFO| Newton iteration 2: r (abs) = 17.3254 (tol = 1e-08) r (rel) = 0.117842(tol = 1e-08)\n",
      "2022-05-02 19:34:39.875 (   9.658s) [main            ]              petsc.cpp:677   INFO| PETSc Krylov solver starting to solve system.\n",
      "2022-05-02 19:34:40.355 (  10.139s) [main            ]       NewtonSolver.cpp:36    INFO| Newton iteration 3: r (abs) = 5.14882 (tol = 1e-08) r (rel) = 0.0350207(tol = 1e-08)\n",
      "2022-05-02 19:34:40.593 (  10.376s) [main            ]              petsc.cpp:677   INFO| PETSc Krylov solver starting to solve system.\n",
      "2022-05-02 19:34:41.073 (  10.856s) [main            ]       NewtonSolver.cpp:36    INFO| Newton iteration 4: r (abs) = 7.24003 (tol = 1e-08) r (rel) = 0.0492445(tol = 1e-08)\n",
      "2022-05-02 19:34:41.328 (  11.111s) [main            ]              petsc.cpp:677   INFO| PETSc Krylov solver starting to solve system.\n",
      "2022-05-02 19:34:41.799 (  11.583s) [main            ]       NewtonSolver.cpp:36    INFO| Newton iteration 5: r (abs) = 0.777889 (tol = 1e-08) r (rel) = 0.00529096(tol = 1e-08)\n",
      "2022-05-02 19:34:42.039 (  11.822s) [main            ]              petsc.cpp:677   INFO| PETSc Krylov solver starting to solve system.\n",
      "2022-05-02 19:34:42.530 (  12.314s) [main            ]       NewtonSolver.cpp:36    INFO| Newton iteration 6: r (abs) = 1.25525 (tol = 1e-08) r (rel) = 0.00853785(tol = 1e-08)\n",
      "2022-05-02 19:34:42.769 (  12.552s) [main            ]              petsc.cpp:677   INFO| PETSc Krylov solver starting to solve system.\n",
      "2022-05-02 19:34:43.245 (  13.028s) [main            ]       NewtonSolver.cpp:36    INFO| Newton iteration 7: r (abs) = 0.00849512 (tol = 1e-08) r (rel) = 5.77813e-05(tol = 1e-08)\n"
     ]
    },
    {
     "name": "stdout",
     "output_type": "stream",
     "text": [
      "Time step 2, Number of iterations 9, Load [ 0.  0. -3.]\n"
     ]
    },
    {
     "name": "stderr",
     "output_type": "stream",
     "text": [
      "2022-05-02 19:34:43.492 (  13.275s) [main            ]              petsc.cpp:677   INFO| PETSc Krylov solver starting to solve system.\n",
      "2022-05-02 19:34:43.977 (  13.761s) [main            ]       NewtonSolver.cpp:36    INFO| Newton iteration 8: r (abs) = 0.000192107 (tol = 1e-08) r (rel) = 1.30665e-06(tol = 1e-08)\n",
      "2022-05-02 19:34:44.213 (  13.996s) [main            ]              petsc.cpp:677   INFO| PETSc Krylov solver starting to solve system.\n",
      "2022-05-02 19:34:44.684 (  14.467s) [main            ]       NewtonSolver.cpp:36    INFO| Newton iteration 9: r (abs) = 1.70414e-10 (tol = 1e-08) r (rel) = 1.15911e-12(tol = 1e-08)\n",
      "2022-05-02 19:34:44.684 (  14.467s) [main            ]       NewtonSolver.cpp:255   INFO| Newton solver finished in 9 iterations and 9 linear solver iterations.\n"
     ]
    },
    {
     "data": {
      "application/vnd.jupyter.widget-view+json": {
       "model_id": "d7009da95c3444a79ef67a19a37802f9",
       "version_major": 2,
       "version_minor": 0
      },
      "text/plain": [
       "AppLayout(children=(VBox(children=(HTML(value='<h3>u(2)</h3>'), Dropdown(description='Colormap:', options={'Br…"
      ]
     },
     "metadata": {},
     "output_type": "display_data"
    },
    {
     "name": "stderr",
     "output_type": "stream",
     "text": [
      "2022-05-02 19:34:45.025 (  14.808s) [main            ]              petsc.cpp:677   INFO| PETSc Krylov solver starting to solve system.\n",
      "2022-05-02 19:34:45.739 (  15.522s) [main            ]              petsc.cpp:677   INFO| PETSc Krylov solver starting to solve system.\n",
      "2022-05-02 19:34:46.175 (  15.959s) [main            ]       NewtonSolver.cpp:36    INFO| Newton iteration 2: r (abs) = 10.0011 (tol = 1e-08) r (rel) = 0.0887471(tol = 1e-08)\n",
      "2022-05-02 19:34:46.397 (  16.180s) [main            ]              petsc.cpp:677   INFO| PETSc Krylov solver starting to solve system.\n",
      "2022-05-02 19:34:46.872 (  16.655s) [main            ]       NewtonSolver.cpp:36    INFO| Newton iteration 3: r (abs) = 5.33026 (tol = 1e-08) r (rel) = 0.0472992(tol = 1e-08)\n",
      "2022-05-02 19:34:47.098 (  16.881s) [main            ]              petsc.cpp:677   INFO| PETSc Krylov solver starting to solve system.\n",
      "2022-05-02 19:34:47.571 (  17.354s) [main            ]       NewtonSolver.cpp:36    INFO| Newton iteration 4: r (abs) = 11.9901 (tol = 1e-08) r (rel) = 0.106397(tol = 1e-08)\n",
      "2022-05-02 19:34:47.800 (  17.583s) [main            ]              petsc.cpp:677   INFO| PETSc Krylov solver starting to solve system.\n",
      "2022-05-02 19:34:48.256 (  18.040s) [main            ]       NewtonSolver.cpp:36    INFO| Newton iteration 5: r (abs) = 2.29702 (tol = 1e-08) r (rel) = 0.0203831(tol = 1e-08)\n",
      "2022-05-02 19:34:48.499 (  18.282s) [main            ]              petsc.cpp:677   INFO| PETSc Krylov solver starting to solve system.\n",
      "2022-05-02 19:34:48.994 (  18.777s) [main            ]       NewtonSolver.cpp:36    INFO| Newton iteration 6: r (abs) = 3.90234 (tol = 1e-08) r (rel) = 0.0346282(tol = 1e-08)\n",
      "2022-05-02 19:34:49.217 (  19.000s) [main            ]              petsc.cpp:677   INFO| PETSc Krylov solver starting to solve system.\n",
      "2022-05-02 19:34:49.673 (  19.457s) [main            ]       NewtonSolver.cpp:36    INFO| Newton iteration 7: r (abs) = 0.236535 (tol = 1e-08) r (rel) = 0.00209895(tol = 1e-08)\n",
      "2022-05-02 19:34:49.916 (  19.699s) [main            ]              petsc.cpp:677   INFO| PETSc Krylov solver starting to solve system.\n",
      "2022-05-02 19:34:50.425 (  20.209s) [main            ]       NewtonSolver.cpp:36    INFO| Newton iteration 8: r (abs) = 0.0427142 (tol = 1e-08) r (rel) = 0.000379034(tol = 1e-08)\n",
      "2022-05-02 19:34:50.651 (  20.435s) [main            ]              petsc.cpp:677   INFO| PETSc Krylov solver starting to solve system.\n"
     ]
    },
    {
     "name": "stdout",
     "output_type": "stream",
     "text": [
      "Time step 3, Number of iterations 10, Load [ 0.   0.  -4.5]\n"
     ]
    },
    {
     "name": "stderr",
     "output_type": "stream",
     "text": [
      "2022-05-02 19:34:51.113 (  20.896s) [main            ]       NewtonSolver.cpp:36    INFO| Newton iteration 9: r (abs) = 2.87798e-05 (tol = 1e-08) r (rel) = 2.55384e-07(tol = 1e-08)\n",
      "2022-05-02 19:34:51.336 (  21.119s) [main            ]              petsc.cpp:677   INFO| PETSc Krylov solver starting to solve system.\n",
      "2022-05-02 19:34:51.802 (  21.585s) [main            ]       NewtonSolver.cpp:36    INFO| Newton iteration 10: r (abs) = 6.09593e-10 (tol = 1e-08) r (rel) = 5.40935e-12(tol = 1e-08)\n",
      "2022-05-02 19:34:51.802 (  21.585s) [main            ]       NewtonSolver.cpp:255   INFO| Newton solver finished in 10 iterations and 10 linear solver iterations.\n"
     ]
    },
    {
     "data": {
      "application/vnd.jupyter.widget-view+json": {
       "model_id": "08edb7c6091240d19d4f468805695bf3",
       "version_major": 2,
       "version_minor": 0
      },
      "text/plain": [
       "AppLayout(children=(VBox(children=(HTML(value='<h3>u(3)</h3>'), Dropdown(description='Colormap:', options={'Br…"
      ]
     },
     "metadata": {},
     "output_type": "display_data"
    },
    {
     "name": "stderr",
     "output_type": "stream",
     "text": [
      "2022-05-02 19:34:52.113 (  21.896s) [main            ]              petsc.cpp:677   INFO| PETSc Krylov solver starting to solve system.\n",
      "2022-05-02 19:34:52.787 (  22.570s) [main            ]              petsc.cpp:677   INFO| PETSc Krylov solver starting to solve system.\n",
      "2022-05-02 19:34:53.234 (  23.017s) [main            ]       NewtonSolver.cpp:36    INFO| Newton iteration 2: r (abs) = 5.50693 (tol = 1e-08) r (rel) = 0.0653918(tol = 1e-08)\n",
      "2022-05-02 19:34:53.458 (  23.241s) [main            ]              petsc.cpp:677   INFO| PETSc Krylov solver starting to solve system.\n",
      "2022-05-02 19:34:53.932 (  23.715s) [main            ]       NewtonSolver.cpp:36    INFO| Newton iteration 3: r (abs) = 26.2489 (tol = 1e-08) r (rel) = 0.311692(tol = 1e-08)\n",
      "2022-05-02 19:34:54.176 (  23.959s) [main            ]              petsc.cpp:677   INFO| PETSc Krylov solver starting to solve system.\n",
      "2022-05-02 19:34:54.654 (  24.437s) [main            ]       NewtonSolver.cpp:36    INFO| Newton iteration 4: r (abs) = 2.30927 (tol = 1e-08) r (rel) = 0.0274213(tol = 1e-08)\n",
      "2022-05-02 19:34:54.888 (  24.671s) [main            ]              petsc.cpp:677   INFO| PETSc Krylov solver starting to solve system.\n",
      "2022-05-02 19:34:55.372 (  25.156s) [main            ]       NewtonSolver.cpp:36    INFO| Newton iteration 5: r (abs) = 14.0562 (tol = 1e-08) r (rel) = 0.16691(tol = 1e-08)\n",
      "2022-05-02 19:34:55.596 (  25.379s) [main            ]              petsc.cpp:677   INFO| PETSc Krylov solver starting to solve system.\n",
      "2022-05-02 19:34:56.057 (  25.840s) [main            ]       NewtonSolver.cpp:36    INFO| Newton iteration 6: r (abs) = 0.222774 (tol = 1e-08) r (rel) = 0.00264532(tol = 1e-08)\n",
      "2022-05-02 19:34:56.289 (  26.073s) [main            ]              petsc.cpp:677   INFO| PETSc Krylov solver starting to solve system.\n",
      "2022-05-02 19:34:56.759 (  26.542s) [main            ]       NewtonSolver.cpp:36    INFO| Newton iteration 7: r (abs) = 0.286671 (tol = 1e-08) r (rel) = 0.00340406(tol = 1e-08)\n",
      "2022-05-02 19:34:56.988 (  26.771s) [main            ]              petsc.cpp:677   INFO| PETSc Krylov solver starting to solve system.\n"
     ]
    },
    {
     "name": "stdout",
     "output_type": "stream",
     "text": [
      "Time step 4, Number of iterations 9, Load [ 0.  0. -6.]\n"
     ]
    },
    {
     "name": "stderr",
     "output_type": "stream",
     "text": [
      "2022-05-02 19:34:57.460 (  27.243s) [main            ]       NewtonSolver.cpp:36    INFO| Newton iteration 8: r (abs) = 0.000321869 (tol = 1e-08) r (rel) = 3.82203e-06(tol = 1e-08)\n",
      "2022-05-02 19:34:57.685 (  27.469s) [main            ]              petsc.cpp:677   INFO| PETSc Krylov solver starting to solve system.\n",
      "2022-05-02 19:34:58.171 (  27.955s) [main            ]       NewtonSolver.cpp:36    INFO| Newton iteration 9: r (abs) = 2.63797e-07 (tol = 1e-08) r (rel) = 3.13244e-09(tol = 1e-08)\n",
      "2022-05-02 19:34:58.171 (  27.955s) [main            ]       NewtonSolver.cpp:255   INFO| Newton solver finished in 9 iterations and 9 linear solver iterations.\n"
     ]
    },
    {
     "data": {
      "application/vnd.jupyter.widget-view+json": {
       "model_id": "c14fa89048ff4276a993c9e4f6cabbf3",
       "version_major": 2,
       "version_minor": 0
      },
      "text/plain": [
       "AppLayout(children=(VBox(children=(HTML(value='<h3>u(4)</h3>'), Dropdown(description='Colormap:', options={'Br…"
      ]
     },
     "metadata": {},
     "output_type": "display_data"
    },
    {
     "name": "stderr",
     "output_type": "stream",
     "text": [
      "2022-05-02 19:34:58.476 (  28.259s) [main            ]              petsc.cpp:677   INFO| PETSc Krylov solver starting to solve system.\n",
      "2022-05-02 19:34:59.149 (  28.932s) [main            ]              petsc.cpp:677   INFO| PETSc Krylov solver starting to solve system.\n",
      "2022-05-02 19:34:59.605 (  29.388s) [main            ]       NewtonSolver.cpp:36    INFO| Newton iteration 2: r (abs) = 3.19462 (tol = 1e-08) r (rel) = 0.0496479(tol = 1e-08)\n",
      "2022-05-02 19:34:59.826 (  29.609s) [main            ]              petsc.cpp:677   INFO| PETSc Krylov solver starting to solve system.\n",
      "2022-05-02 19:35:00.283 (  30.066s) [main            ]       NewtonSolver.cpp:36    INFO| Newton iteration 3: r (abs) = 7.71429 (tol = 1e-08) r (rel) = 0.119888(tol = 1e-08)\n",
      "2022-05-02 19:35:00.519 (  30.302s) [main            ]              petsc.cpp:677   INFO| PETSc Krylov solver starting to solve system.\n",
      "2022-05-02 19:35:01.032 (  30.815s) [main            ]       NewtonSolver.cpp:36    INFO| Newton iteration 4: r (abs) = 0.850873 (tol = 1e-08) r (rel) = 0.0132235(tol = 1e-08)\n",
      "2022-05-02 19:35:01.282 (  31.065s) [main            ]              petsc.cpp:677   INFO| PETSc Krylov solver starting to solve system.\n",
      "2022-05-02 19:35:01.775 (  31.558s) [main            ]       NewtonSolver.cpp:36    INFO| Newton iteration 5: r (abs) = 0.371434 (tol = 1e-08) r (rel) = 0.0057725(tol = 1e-08)\n",
      "2022-05-02 19:35:02.005 (  31.788s) [main            ]              petsc.cpp:677   INFO| PETSc Krylov solver starting to solve system.\n",
      "2022-05-02 19:35:02.483 (  32.266s) [main            ]       NewtonSolver.cpp:36    INFO| Newton iteration 6: r (abs) = 0.00215066 (tol = 1e-08) r (rel) = 3.34236e-05(tol = 1e-08)\n",
      "2022-05-02 19:35:02.715 (  32.498s) [main            ]              petsc.cpp:677   INFO| PETSc Krylov solver starting to solve system.\n"
     ]
    },
    {
     "name": "stdout",
     "output_type": "stream",
     "text": [
      "Time step 5, Number of iterations 8, Load [ 0.   0.  -7.5]\n"
     ]
    },
    {
     "name": "stderr",
     "output_type": "stream",
     "text": [
      "2022-05-02 19:35:03.190 (  32.973s) [main            ]       NewtonSolver.cpp:36    INFO| Newton iteration 7: r (abs) = 2.54607e-06 (tol = 1e-08) r (rel) = 3.95687e-08(tol = 1e-08)\n",
      "2022-05-02 19:35:03.425 (  33.208s) [main            ]              petsc.cpp:677   INFO| PETSc Krylov solver starting to solve system.\n",
      "2022-05-02 19:35:03.897 (  33.680s) [main            ]       NewtonSolver.cpp:36    INFO| Newton iteration 8: r (abs) = 3.10461e-13 (tol = 1e-08) r (rel) = 4.82491e-15(tol = 1e-08)\n",
      "2022-05-02 19:35:03.897 (  33.680s) [main            ]       NewtonSolver.cpp:255   INFO| Newton solver finished in 8 iterations and 8 linear solver iterations.\n"
     ]
    },
    {
     "data": {
      "application/vnd.jupyter.widget-view+json": {
       "model_id": "e61eef057dea41a1a9fb14e507099058",
       "version_major": 2,
       "version_minor": 0
      },
      "text/plain": [
       "AppLayout(children=(VBox(children=(HTML(value='<h3>u(5)</h3>'), Dropdown(description='Colormap:', options={'Br…"
      ]
     },
     "metadata": {},
     "output_type": "display_data"
    },
    {
     "name": "stderr",
     "output_type": "stream",
     "text": [
      "2022-05-02 19:35:04.214 (  33.997s) [main            ]              petsc.cpp:677   INFO| PETSc Krylov solver starting to solve system.\n",
      "2022-05-02 19:35:04.894 (  34.678s) [main            ]              petsc.cpp:677   INFO| PETSc Krylov solver starting to solve system.\n",
      "2022-05-02 19:35:05.353 (  35.136s) [main            ]       NewtonSolver.cpp:36    INFO| Newton iteration 2: r (abs) = 2.00649 (tol = 1e-08) r (rel) = 0.0395622(tol = 1e-08)\n",
      "2022-05-02 19:35:05.588 (  35.371s) [main            ]              petsc.cpp:677   INFO| PETSc Krylov solver starting to solve system.\n",
      "2022-05-02 19:35:06.075 (  35.858s) [main            ]       NewtonSolver.cpp:36    INFO| Newton iteration 3: r (abs) = 4.60977 (tol = 1e-08) r (rel) = 0.0908914(tol = 1e-08)\n",
      "2022-05-02 19:35:06.302 (  36.085s) [main            ]              petsc.cpp:677   INFO| PETSc Krylov solver starting to solve system.\n",
      "2022-05-02 19:35:06.794 (  36.577s) [main            ]       NewtonSolver.cpp:36    INFO| Newton iteration 4: r (abs) = 0.185372 (tol = 1e-08) r (rel) = 0.00365501(tol = 1e-08)\n",
      "2022-05-02 19:35:07.043 (  36.826s) [main            ]              petsc.cpp:677   INFO| PETSc Krylov solver starting to solve system.\n"
     ]
    },
    {
     "name": "stdout",
     "output_type": "stream",
     "text": [
      "Time step 6, Number of iterations 7, Load [ 0.  0. -9.]\n"
     ]
    },
    {
     "name": "stderr",
     "output_type": "stream",
     "text": [
      "2022-05-02 19:35:07.521 (  37.304s) [main            ]       NewtonSolver.cpp:36    INFO| Newton iteration 5: r (abs) = 0.024688 (tol = 1e-08) r (rel) = 0.000486777(tol = 1e-08)\n",
      "2022-05-02 19:35:07.749 (  37.532s) [main            ]              petsc.cpp:677   INFO| PETSc Krylov solver starting to solve system.\n",
      "2022-05-02 19:35:08.272 (  38.056s) [main            ]       NewtonSolver.cpp:36    INFO| Newton iteration 6: r (abs) = 5.69255e-06 (tol = 1e-08) r (rel) = 1.12241e-07(tol = 1e-08)\n",
      "2022-05-02 19:35:08.504 (  38.287s) [main            ]              petsc.cpp:677   INFO| PETSc Krylov solver starting to solve system.\n",
      "2022-05-02 19:35:08.993 (  38.776s) [main            ]       NewtonSolver.cpp:36    INFO| Newton iteration 7: r (abs) = 2.60366e-11 (tol = 1e-08) r (rel) = 5.13367e-13(tol = 1e-08)\n",
      "2022-05-02 19:35:08.993 (  38.776s) [main            ]       NewtonSolver.cpp:255   INFO| Newton solver finished in 7 iterations and 7 linear solver iterations.\n"
     ]
    },
    {
     "data": {
      "application/vnd.jupyter.widget-view+json": {
       "model_id": "93fa7232de2d4918bb5d9db6101b2e72",
       "version_major": 2,
       "version_minor": 0
      },
      "text/plain": [
       "AppLayout(children=(VBox(children=(HTML(value='<h3>u(6)</h3>'), Dropdown(description='Colormap:', options={'Br…"
      ]
     },
     "metadata": {},
     "output_type": "display_data"
    },
    {
     "name": "stderr",
     "output_type": "stream",
     "text": [
      "2022-05-02 19:35:09.318 (  39.101s) [main            ]              petsc.cpp:677   INFO| PETSc Krylov solver starting to solve system.\n",
      "2022-05-02 19:35:10.052 (  39.835s) [main            ]              petsc.cpp:677   INFO| PETSc Krylov solver starting to solve system.\n",
      "2022-05-02 19:35:10.516 (  40.300s) [main            ]       NewtonSolver.cpp:36    INFO| Newton iteration 2: r (abs) = 1.38506 (tol = 1e-08) r (rel) = 0.0336622(tol = 1e-08)\n",
      "2022-05-02 19:35:10.748 (  40.531s) [main            ]              petsc.cpp:677   INFO| PETSc Krylov solver starting to solve system.\n",
      "2022-05-02 19:35:11.236 (  41.020s) [main            ]       NewtonSolver.cpp:36    INFO| Newton iteration 3: r (abs) = 3.03739 (tol = 1e-08) r (rel) = 0.07382(tol = 1e-08)\n",
      "2022-05-02 19:35:11.471 (  41.254s) [main            ]              petsc.cpp:677   INFO| PETSc Krylov solver starting to solve system.\n",
      "2022-05-02 19:35:11.955 (  41.738s) [main            ]       NewtonSolver.cpp:36    INFO| Newton iteration 4: r (abs) = 0.0412386 (tol = 1e-08) r (rel) = 0.00100225(tol = 1e-08)\n",
      "2022-05-02 19:35:12.191 (  41.974s) [main            ]              petsc.cpp:677   INFO| PETSc Krylov solver starting to solve system.\n",
      "2022-05-02 19:35:12.665 (  42.448s) [main            ]       NewtonSolver.cpp:36    INFO| Newton iteration 5: r (abs) = 0.00205057 (tol = 1e-08) r (rel) = 4.98364e-05(tol = 1e-08)\n",
      "2022-05-02 19:35:12.899 (  42.682s) [main            ]              petsc.cpp:677   INFO| PETSc Krylov solver starting to solve system.\n"
     ]
    },
    {
     "name": "stdout",
     "output_type": "stream",
     "text": [
      "Time step 7, Number of iterations 6, Load [  0.    0.  -10.5]\n"
     ]
    },
    {
     "name": "stderr",
     "output_type": "stream",
     "text": [
      "2022-05-02 19:35:13.389 (  43.172s) [main            ]       NewtonSolver.cpp:36    INFO| Newton iteration 6: r (abs) = 1.78867e-08 (tol = 1e-08) r (rel) = 4.34713e-10(tol = 1e-08)\n",
      "2022-05-02 19:35:13.389 (  43.172s) [main            ]       NewtonSolver.cpp:255   INFO| Newton solver finished in 6 iterations and 6 linear solver iterations.\n"
     ]
    },
    {
     "data": {
      "application/vnd.jupyter.widget-view+json": {
       "model_id": "a6d468e897b74f5cbf6af43b56b5759f",
       "version_major": 2,
       "version_minor": 0
      },
      "text/plain": [
       "AppLayout(children=(VBox(children=(HTML(value='<h3>u(7)</h3>'), Dropdown(description='Colormap:', options={'Br…"
      ]
     },
     "metadata": {},
     "output_type": "display_data"
    },
    {
     "name": "stderr",
     "output_type": "stream",
     "text": [
      "2022-05-02 19:35:13.696 (  43.480s) [main            ]              petsc.cpp:677   INFO| PETSc Krylov solver starting to solve system.\n",
      "2022-05-02 19:35:14.429 (  44.213s) [main            ]              petsc.cpp:677   INFO| PETSc Krylov solver starting to solve system.\n",
      "2022-05-02 19:35:14.935 (  44.718s) [main            ]       NewtonSolver.cpp:36    INFO| Newton iteration 2: r (abs) = 1.06336 (tol = 1e-08) r (rel) = 0.031085(tol = 1e-08)\n",
      "2022-05-02 19:35:15.181 (  44.964s) [main            ]              petsc.cpp:677   INFO| PETSc Krylov solver starting to solve system.\n",
      "2022-05-02 19:35:15.664 (  45.447s) [main            ]       NewtonSolver.cpp:36    INFO| Newton iteration 3: r (abs) = 2.0477 (tol = 1e-08) r (rel) = 0.0598598(tol = 1e-08)\n",
      "2022-05-02 19:35:15.918 (  45.701s) [main            ]              petsc.cpp:677   INFO| PETSc Krylov solver starting to solve system.\n"
     ]
    },
    {
     "name": "stdout",
     "output_type": "stream",
     "text": [
      "Time step 8, Number of iterations 6, Load [  0.   0. -12.]\n"
     ]
    },
    {
     "name": "stderr",
     "output_type": "stream",
     "text": [
      "2022-05-02 19:35:16.439 (  46.223s) [main            ]       NewtonSolver.cpp:36    INFO| Newton iteration 4: r (abs) = 0.00897719 (tol = 1e-08) r (rel) = 0.000262427(tol = 1e-08)\n",
      "2022-05-02 19:35:16.703 (  46.486s) [main            ]              petsc.cpp:677   INFO| PETSc Krylov solver starting to solve system.\n",
      "2022-05-02 19:35:17.166 (  46.950s) [main            ]       NewtonSolver.cpp:36    INFO| Newton iteration 5: r (abs) = 0.000167422 (tol = 1e-08) r (rel) = 4.89419e-06(tol = 1e-08)\n",
      "2022-05-02 19:35:17.383 (  47.166s) [main            ]              petsc.cpp:677   INFO| PETSc Krylov solver starting to solve system.\n",
      "2022-05-02 19:35:17.834 (  47.617s) [main            ]       NewtonSolver.cpp:36    INFO| Newton iteration 6: r (abs) = 3.24149e-11 (tol = 1e-08) r (rel) = 9.47574e-13(tol = 1e-08)\n",
      "2022-05-02 19:35:17.834 (  47.617s) [main            ]       NewtonSolver.cpp:255   INFO| Newton solver finished in 6 iterations and 6 linear solver iterations.\n"
     ]
    },
    {
     "data": {
      "application/vnd.jupyter.widget-view+json": {
       "model_id": "917a065556a649e88642989465dc33ba",
       "version_major": 2,
       "version_minor": 0
      },
      "text/plain": [
       "AppLayout(children=(VBox(children=(HTML(value='<h3>u(8)</h3>'), Dropdown(description='Colormap:', options={'Br…"
      ]
     },
     "metadata": {},
     "output_type": "display_data"
    },
    {
     "name": "stderr",
     "output_type": "stream",
     "text": [
      "2022-05-02 19:35:18.157 (  47.940s) [main            ]              petsc.cpp:677   INFO| PETSc Krylov solver starting to solve system.\n",
      "2022-05-02 19:35:18.820 (  48.603s) [main            ]              petsc.cpp:677   INFO| PETSc Krylov solver starting to solve system.\n",
      "2022-05-02 19:35:19.277 (  49.060s) [main            ]       NewtonSolver.cpp:36    INFO| Newton iteration 2: r (abs) = 0.898789 (tol = 1e-08) r (rel) = 0.0309666(tol = 1e-08)\n",
      "2022-05-02 19:35:19.500 (  49.283s) [main            ]              petsc.cpp:677   INFO| PETSc Krylov solver starting to solve system.\n",
      "2022-05-02 19:35:19.953 (  49.736s) [main            ]       NewtonSolver.cpp:36    INFO| Newton iteration 3: r (abs) = 1.38354 (tol = 1e-08) r (rel) = 0.0476679(tol = 1e-08)\n",
      "2022-05-02 19:35:20.182 (  49.966s) [main            ]              petsc.cpp:677   INFO| PETSc Krylov solver starting to solve system.\n",
      "2022-05-02 19:35:20.703 (  50.486s) [main            ]       NewtonSolver.cpp:36    INFO| Newton iteration 4: r (abs) = 0.00185096 (tol = 1e-08) r (rel) = 6.37724e-05(tol = 1e-08)\n"
     ]
    },
    {
     "name": "stdout",
     "output_type": "stream",
     "text": [
      "Time step 9, Number of iterations 6, Load [  0.    0.  -13.5]\n"
     ]
    },
    {
     "name": "stderr",
     "output_type": "stream",
     "text": [
      "2022-05-02 19:35:20.946 (  50.729s) [main            ]              petsc.cpp:677   INFO| PETSc Krylov solver starting to solve system.\n",
      "2022-05-02 19:35:21.438 (  51.221s) [main            ]       NewtonSolver.cpp:36    INFO| Newton iteration 5: r (abs) = 7.87183e-06 (tol = 1e-08) r (rel) = 2.71213e-07(tol = 1e-08)\n",
      "2022-05-02 19:35:21.680 (  51.463s) [main            ]              petsc.cpp:677   INFO| PETSc Krylov solver starting to solve system.\n",
      "2022-05-02 19:35:22.179 (  51.962s) [main            ]       NewtonSolver.cpp:36    INFO| Newton iteration 6: r (abs) = 6.18431e-13 (tol = 1e-08) r (rel) = 2.13072e-14(tol = 1e-08)\n",
      "2022-05-02 19:35:22.179 (  51.962s) [main            ]       NewtonSolver.cpp:255   INFO| Newton solver finished in 6 iterations and 6 linear solver iterations.\n"
     ]
    },
    {
     "data": {
      "application/vnd.jupyter.widget-view+json": {
       "model_id": "afd31c128c394da0b2f8c5a84a919deb",
       "version_major": 2,
       "version_minor": 0
      },
      "text/plain": [
       "AppLayout(children=(VBox(children=(HTML(value='<h3>u(9)</h3>'), Dropdown(description='Colormap:', options={'Br…"
      ]
     },
     "metadata": {},
     "output_type": "display_data"
    }
   ],
   "source": [
    "from dolfinx import log\n",
    "log.set_log_level(log.LogLevel.INFO)\n",
    "tval0 = -1.5\n",
    "for n in range(1, 10):\n",
    "    T.value[2] = n * tval0\n",
    "    num_its, converged = solver.solve(u)\n",
    "    assert(converged)\n",
    "    u.x.scatter_forward()\n",
    "    print(f\"Time step {n}, Number of iterations {num_its}, Load {T.value}\")\n",
    "    plot_function(n, u)"
   ]
  },
  {
   "cell_type": "code",
   "execution_count": null,
   "id": "eligible-chambers",
   "metadata": {},
   "outputs": [],
   "source": []
  }
 ],
 "metadata": {
  "kernelspec": {
   "display_name": "Python 3 (ipykernel)",
   "language": "python",
   "name": "python3"
  },
  "language_info": {
   "codemirror_mode": {
    "name": "ipython",
    "version": 3
   },
   "file_extension": ".py",
   "mimetype": "text/x-python",
   "name": "python",
   "nbconvert_exporter": "python",
   "pygments_lexer": "ipython3",
   "version": "3.9.7"
  }
 },
 "nbformat": 4,
 "nbformat_minor": 5
}
