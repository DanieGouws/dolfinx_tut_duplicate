{
 "cells": [
  {
   "cell_type": "markdown",
   "id": "supreme-malpractice",
   "metadata": {},
   "source": [
    "# Hyperelasticity\n",
    "Author: Jørgen S. Dokken and Garth N. Wells\n",
    "\n",
    "This section shows how to solve the hyperelasticity problem for deformation of a beam.\n",
    "\n",
    "We start by importing DOLFINx and some additional dependencies.\n",
    "Then, we create a slender cantilever consisting of hexahedral elements and create the function space `V` for our unknown."
   ]
  },
  {
   "cell_type": "code",
   "execution_count": 2,
   "id": "optional-cameroon",
   "metadata": {},
   "outputs": [],
   "source": [
    "import numpy as np\n",
    "import ufl\n",
    "\n",
    "from petsc4py import PETSc\n",
    "from mpi4py import MPI\n",
    "from dolfinx import fem\n",
    "from dolfinx.mesh import CellType, MeshTags, create_box, locate_entities_boundary\n",
    "L = 20.0\n",
    "mesh = create_box(MPI.COMM_WORLD,[[0.0,0.0,0.0], [L, 1, 1]], [20, 5, 5], CellType.hexahedron)\n",
    "V = fem.VectorFunctionSpace(mesh, (\"CG\", 2))"
   ]
  },
  {
   "cell_type": "markdown",
   "id": "streaming-neutral",
   "metadata": {},
   "source": [
    "We create two python functions for determining the facets to apply boundary conditions to"
   ]
  },
  {
   "cell_type": "code",
   "execution_count": 3,
   "id": "major-factor",
   "metadata": {},
   "outputs": [],
   "source": [
    "def left(x):\n",
    "    return np.isclose(x[0], 0)\n",
    "\n",
    "def right(x):\n",
    "    return np.isclose(x[0], L)\n",
    "\n",
    "left_facets = locate_entities_boundary(mesh, mesh.topology.dim - 1, left)\n",
    "right_facets = locate_entities_boundary(mesh, mesh.topology.dim - 1, right)"
   ]
  },
  {
   "cell_type": "markdown",
   "id": "figured-world",
   "metadata": {},
   "source": [
    "Next, we create a  marker based on these two functions"
   ]
  },
  {
   "cell_type": "code",
   "execution_count": 4,
   "id": "dated-india",
   "metadata": {},
   "outputs": [],
   "source": [
    "# Concatenate and sort the arrays based on facet indices. Left facets marked with 1, right facets with two\n",
    "marked_facets = np.hstack([left_facets, right_facets])\n",
    "marked_values = np.hstack([np.full(len(left_facets), 1, dtype=np.int32), np.full(len(right_facets), 2, dtype=np.int32)])\n",
    "sorted_facets = np.argsort(marked_facets)\n",
    "facet_tag = MeshTags(mesh, mesh.topology.dim-1, marked_facets[sorted_facets], marked_values[sorted_facets])"
   ]
  },
  {
   "cell_type": "markdown",
   "id": "renewable-glossary",
   "metadata": {},
   "source": [
    "We then create a function for supplying the boundary condition on the left side, which is fixed."
   ]
  },
  {
   "cell_type": "code",
   "execution_count": 5,
   "id": "confidential-french",
   "metadata": {},
   "outputs": [],
   "source": [
    "u_bc = fem.Function(V)\n",
    "u_bc.x.array[:] = 0"
   ]
  },
  {
   "cell_type": "markdown",
   "id": "musical-documentation",
   "metadata": {},
   "source": [
    "To apply the boundary condition, we identity the dofs located on the facets marked by the `MeshTag`."
   ]
  },
  {
   "cell_type": "code",
   "execution_count": 6,
   "id": "written-monster",
   "metadata": {},
   "outputs": [],
   "source": [
    "left_dofs = fem.locate_dofs_topological(V, facet_tag.dim, facet_tag.indices[facet_tag.values==1])\n",
    "bcs = [fem.DirichletBC(u_bc, left_dofs)]"
   ]
  },
  {
   "cell_type": "markdown",
   "id": "indoor-chester",
   "metadata": {},
   "source": [
    "Next, we define the body force on the reference configuration (`B`), and nominal (first Piola-Kirchhoff) traction (`T`). "
   ]
  },
  {
   "cell_type": "code",
   "execution_count": 10,
   "id": "korean-carol",
   "metadata": {},
   "outputs": [],
   "source": [
    "B = fem.Constant(mesh, PETSc.ScalarType((0, 0, 0)))\n",
    "T = fem.Constant(mesh, PETSc.ScalarType((0, 0, 0)))"
   ]
  },
  {
   "cell_type": "markdown",
   "id": "blond-dynamics",
   "metadata": {},
   "source": [
    "Define the test and solution functions on the space $V$"
   ]
  },
  {
   "cell_type": "code",
   "execution_count": 11,
   "id": "vocational-experiment",
   "metadata": {},
   "outputs": [],
   "source": [
    "v = ufl.TestFunction(V)\n",
    "u = fem.Function(V)"
   ]
  },
  {
   "cell_type": "markdown",
   "id": "bright-belle",
   "metadata": {},
   "source": [
    "Define kinematic quantities used in the problem"
   ]
  },
  {
   "cell_type": "code",
   "execution_count": 12,
   "id": "vertical-original",
   "metadata": {},
   "outputs": [],
   "source": [
    "# Spatial dimension\n",
    "d = len(u)\n",
    "\n",
    "# Identity tensor\n",
    "I = ufl.variable(ufl.Identity(d))\n",
    "\n",
    "# Deformation gradient\n",
    "F = ufl.variable(I + ufl.grad(u))\n",
    "\n",
    "# Right Cauchy-Green tensor\n",
    "C = ufl.variable(F.T * F)\n",
    "\n",
    "# Invariants of deformation tensors\n",
    "Ic = ufl.variable(ufl.tr(C))\n",
    "J  = ufl.variable(ufl.det(F))"
   ]
  },
  {
   "cell_type": "markdown",
   "id": "respiratory-compromise",
   "metadata": {},
   "source": [
    "Define the elasticity model via a stored strain energy density function $\\psi$, and create the expression for the first Piola-Kirchhoff stress:"
   ]
  },
  {
   "cell_type": "code",
   "execution_count": 13,
   "id": "incorrect-hello",
   "metadata": {},
   "outputs": [],
   "source": [
    "# Elasticity parameters\n",
    "E = PETSc.ScalarType(1.0e4)\n",
    "nu = PETSc.ScalarType(0.3)\n",
    "mu = fem.Constant(mesh, E/(2*(1 + nu)))\n",
    "lmbda = fem.Constant(mesh, E*nu/((1 + nu)*(1 - 2*nu)))\n",
    "# Stored strain energy density (compressible neo-Hookean model)\n",
    "psi = (mu / 2) * (Ic - 3) - mu * ufl.ln(J) + (lmbda / 2) * (ufl.ln(J))**2\n",
    "# Stress\n",
    "# Hyper-elasticity\n",
    "P = ufl.diff(psi, F)"
   ]
  },
  {
   "cell_type": "markdown",
   "id": "grateful-battlefield",
   "metadata": {},
   "source": [
    "```{admonition} Comparison to linear elasticity\n",
    "To illustrate the difference between linear and hyperelasticity, the following lines can be uncommented to solve the linear elasticity problem.\n",
    "```"
   ]
  },
  {
   "cell_type": "code",
   "execution_count": 14,
   "id": "imperial-jurisdiction",
   "metadata": {},
   "outputs": [],
   "source": [
    "# P = 2.0 * mu * ufl.sym(ufl.grad(u)) + lmbda * ufl.tr(ufl.sym(ufl.grad(u))) * I"
   ]
  },
  {
   "cell_type": "markdown",
   "id": "alleged-genesis",
   "metadata": {},
   "source": [
    "Define the variational form with traction integral over all facets with value 2. We set the quadrature degree for the integrals to 4."
   ]
  },
  {
   "cell_type": "code",
   "execution_count": 19,
   "id": "recognized-conclusion",
   "metadata": {},
   "outputs": [],
   "source": [
    "metadata = {\"quadrature_degree\": 4}\n",
    "ds = ufl.Measure('ds', subdomain_data=facet_tag, metadata=metadata)\n",
    "dx = ufl.Measure(\"dx\", metadata=metadata)\n",
    "# Define form F (we want to find u such that F(u) = 0)\n",
    "F = ufl.inner(ufl.grad(v), P)*dx - ufl.inner(v, B)*dx - ufl.inner(v, T)*ds(2) "
   ]
  },
  {
   "cell_type": "markdown",
   "id": "historic-sherman",
   "metadata": {},
   "source": [
    "As the varitional form is non-linear and written on residual form, we use the non-linear problem class from DOLFINx to set up required structures to use a Newton solver."
   ]
  },
  {
   "cell_type": "code",
   "execution_count": 20,
   "id": "threatened-devices",
   "metadata": {},
   "outputs": [],
   "source": [
    "problem = fem.NonlinearProblem(F, u, bcs)"
   ]
  },
  {
   "cell_type": "markdown",
   "id": "qualified-phrase",
   "metadata": {},
   "source": [
    "and then create and customize the Newton solver"
   ]
  },
  {
   "cell_type": "code",
   "execution_count": 21,
   "id": "special-globe",
   "metadata": {},
   "outputs": [],
   "source": [
    "from dolfinx.nls import NewtonSolver\n",
    "solver = NewtonSolver(MPI.COMM_WORLD, problem)\n",
    "\n",
    "# Set Newton solver options\n",
    "solver.atol = 1e-8\n",
    "solver.rtol = 1e-8\n",
    "solver.convergence_criterion = \"incremental\""
   ]
  },
  {
   "cell_type": "markdown",
   "id": "marked-hungary",
   "metadata": {},
   "source": [
    "We create a function to plot the solution at each time step."
   ]
  },
  {
   "cell_type": "code",
   "execution_count": 22,
   "id": "noble-perception",
   "metadata": {},
   "outputs": [
    {
     "name": "stderr",
     "output_type": "stream",
     "text": [
      "WARNING:py.warnings:/usr/local/dolfinx-real/lib/python3.8/dist-packages/dolfinx/plot.py:120: UserWarning: Plotting of higher order functions is experimental.\n",
      "  warnings.warn(\"Plotting of higher order functions is experimental.\")\n",
      "\n"
     ]
    },
    {
     "data": {
      "application/vnd.jupyter.widget-view+json": {
       "model_id": "c97c5e1cab4946c0b65d87c4ee8abb01",
       "version_major": 2,
       "version_minor": 0
      },
      "text/plain": [
       "ViewInteractiveWidget(height=480, layout=Layout(height='auto', width='100%'), width=960)"
      ]
     },
     "metadata": {},
     "output_type": "display_data"
    }
   ],
   "source": [
    "import pyvista\n",
    "from dolfinx.plot import create_vtk_topology\n",
    "# Activate framebuffer, required for visualziation\n",
    "pyvista.start_xvfb(wait=0.05)\n",
    "# Create background plotter and mesh to attach values to\n",
    "topology, cell_types = create_vtk_topology(mesh, mesh.topology.dim)\n",
    "grid = pyvista.UnstructuredGrid(topology, cell_types, mesh.geometry.x)\n",
    "def plot_function(t, uh):\n",
    "    \"\"\"\n",
    "    Create a figure of the concentration uh warped visualized in 3D at timet step t.\n",
    "    \"\"\"\n",
    "    p = pyvista.Plotter(window_size=[960,480])\n",
    "    # Add time-stamp\n",
    "    p.add_text(f\"Time: {t}\", font_size=12, name=\"timelabel\")\n",
    "    p.add_text(\"Deformed configuration\", name=\"title\", position=\"upper_edge\")\n",
    "   \n",
    "    # Update point values on pyvista grid\n",
    "\n",
    "    topology, cell_types = create_vtk_topology(V)\n",
    "     # We create a geometry for our modified mesh using the dof coordinates\n",
    "    geometry = V.tabulate_dof_coordinates()\n",
    "    # As we are dealing with a vector field, we reshape the underlying dof array to accommedate for the three dimensional space\n",
    "    num_dofs = V.dofmap.index_map.size_local + V.dofmap.index_map.num_ghosts\n",
    "    values = np.zeros((num_dofs, 3), dtype=np.float64)\n",
    "    values[:, :mesh.geometry.dim] = uh.x.array.real.reshape(num_dofs, V.dofmap.index_map_bs)\n",
    "\n",
    "    # Create grid defined by the function space for visualization\n",
    "    function_grid = pyvista.UnstructuredGrid(topology, cell_types, geometry)\n",
    "    function_grid[\"u\"] = values\n",
    "    function_grid.set_active_vectors(\"u\")\n",
    "    # Warp mesh by deformation\n",
    "    warped = function_grid.warp_by_vector(\"u\", factor=1)\n",
    "    \n",
    "    # Add mesh to plotter and visualize\n",
    "    actor = p.add_mesh(warped)\n",
    "    p.show_axes()\n",
    "    if not pyvista.OFF_SCREEN:\n",
    "       p.show()\n",
    "    else:\n",
    "        figure_as_array = p.screenshot(f\"diffusion_{t:.2f}.png\")\n",
    "        # Clear plotter for next plot\n",
    "        p.remove_actor(actor)\n",
    "\n",
    "plot_function(0, u)"
   ]
  },
  {
   "cell_type": "markdown",
   "id": "nasty-entertainment",
   "metadata": {},
   "source": [
    "Finally, we solve the problem over several time steps, updating the y-component of the traction"
   ]
  },
  {
   "cell_type": "code",
   "execution_count": 23,
   "id": "vanilla-referral",
   "metadata": {},
   "outputs": [
    {
     "name": "stderr",
     "output_type": "stream",
     "text": [
      "2021-12-18 20:25:30.053 ( 198.622s) [main            ]  PETScKrylovSolver.cpp:97    INFO| PETSc Krylov solver starting to solve system.\n",
      "2021-12-18 20:25:30.833 ( 199.402s) [main            ]  PETScKrylovSolver.cpp:97    INFO| PETSc Krylov solver starting to solve system.\n",
      "2021-12-18 20:25:31.220 ( 199.789s) [main            ]       NewtonSolver.cpp:36    INFO| Newton iteration 2: r (abs) = 22.2455 (tol = 1e-08) r (rel) = 0.134278(tol = 1e-08)\n",
      "2021-12-18 20:25:31.406 ( 199.974s) [main            ]  PETScKrylovSolver.cpp:97    INFO| PETSc Krylov solver starting to solve system.\n",
      "2021-12-18 20:25:31.784 ( 200.353s) [main            ]       NewtonSolver.cpp:36    INFO| Newton iteration 3: r (abs) = 2.43261 (tol = 1e-08) r (rel) = 0.0146837(tol = 1e-08)\n",
      "2021-12-18 20:25:31.970 ( 200.539s) [main            ]  PETScKrylovSolver.cpp:97    INFO| PETSc Krylov solver starting to solve system.\n",
      "2021-12-18 20:25:32.347 ( 200.916s) [main            ]       NewtonSolver.cpp:36    INFO| Newton iteration 4: r (abs) = 4.43158 (tol = 1e-08) r (rel) = 0.0267498(tol = 1e-08)\n",
      "2021-12-18 20:25:32.533 ( 201.102s) [main            ]  PETScKrylovSolver.cpp:97    INFO| PETSc Krylov solver starting to solve system.\n",
      "2021-12-18 20:25:33.051 ( 201.620s) [main            ]       NewtonSolver.cpp:36    INFO| Newton iteration 5: r (abs) = 0.144189 (tol = 1e-08) r (rel) = 0.000870353(tol = 1e-08)\n",
      "2021-12-18 20:25:33.317 ( 201.885s) [main            ]  PETScKrylovSolver.cpp:97    INFO| PETSc Krylov solver starting to solve system.\n",
      "2021-12-18 20:25:33.717 ( 202.286s) [main            ]       NewtonSolver.cpp:36    INFO| Newton iteration 6: r (abs) = 0.021424 (tol = 1e-08) r (rel) = 0.000129319(tol = 1e-08)\n",
      "2021-12-18 20:25:33.989 ( 202.558s) [main            ]  PETScKrylovSolver.cpp:97    INFO| PETSc Krylov solver starting to solve system.\n",
      "2021-12-18 20:25:34.381 ( 202.949s) [main            ]       NewtonSolver.cpp:36    INFO| Newton iteration 7: r (abs) = 4.80068e-06 (tol = 1e-08) r (rel) = 2.89778e-08(tol = 1e-08)\n",
      "2021-12-18 20:25:34.568 ( 203.137s) [main            ]  PETScKrylovSolver.cpp:97    INFO| PETSc Krylov solver starting to solve system.\n",
      "WARNING:py.warnings:/usr/local/dolfinx-real/lib/python3.8/dist-packages/dolfinx/plot.py:120: UserWarning: Plotting of higher order functions is experimental.\n",
      "  warnings.warn(\"Plotting of higher order functions is experimental.\")\n",
      "\n",
      "2021-12-18 20:25:34.971 ( 203.540s) [main            ]       NewtonSolver.cpp:36    INFO| Newton iteration 8: r (abs) = 2.62988e-11 (tol = 1e-08) r (rel) = 1.58745e-13(tol = 1e-08)\n",
      "2021-12-18 20:25:34.971 ( 203.540s) [main            ]       NewtonSolver.cpp:252   INFO| Newton solver finished in 8 iterations and 8 linear solver iterations.\n"
     ]
    },
    {
     "name": "stdout",
     "output_type": "stream",
     "text": [
      "Time step 1, Number of iterations 8, Load [ 0.   0.  -1.5]\n"
     ]
    },
    {
     "data": {
      "application/vnd.jupyter.widget-view+json": {
       "model_id": "e779f635cd804ca5b005820ac52bceed",
       "version_major": 2,
       "version_minor": 0
      },
      "text/plain": [
       "ViewInteractiveWidget(height=480, layout=Layout(height='auto', width='100%'), width=960)"
      ]
     },
     "metadata": {},
     "output_type": "display_data"
    },
    {
     "name": "stderr",
     "output_type": "stream",
     "text": [
      "2021-12-18 20:25:35.542 ( 204.111s) [main            ]  PETScKrylovSolver.cpp:97    INFO| PETSc Krylov solver starting to solve system.\n",
      "2021-12-18 20:25:36.168 ( 204.737s) [main            ]  PETScKrylovSolver.cpp:97    INFO| PETSc Krylov solver starting to solve system.\n",
      "2021-12-18 20:25:36.545 ( 205.114s) [main            ]       NewtonSolver.cpp:36    INFO| Newton iteration 2: r (abs) = 17.3254 (tol = 1e-08) r (rel) = 0.117842(tol = 1e-08)\n",
      "2021-12-18 20:25:36.743 ( 205.312s) [main            ]  PETScKrylovSolver.cpp:97    INFO| PETSc Krylov solver starting to solve system.\n",
      "2021-12-18 20:25:37.258 ( 205.826s) [main            ]       NewtonSolver.cpp:36    INFO| Newton iteration 3: r (abs) = 5.14882 (tol = 1e-08) r (rel) = 0.0350207(tol = 1e-08)\n",
      "2021-12-18 20:25:37.446 ( 206.014s) [main            ]  PETScKrylovSolver.cpp:97    INFO| PETSc Krylov solver starting to solve system.\n",
      "2021-12-18 20:25:37.933 ( 206.502s) [main            ]       NewtonSolver.cpp:36    INFO| Newton iteration 4: r (abs) = 7.24003 (tol = 1e-08) r (rel) = 0.0492445(tol = 1e-08)\n",
      "2021-12-18 20:25:38.122 ( 206.691s) [main            ]  PETScKrylovSolver.cpp:97    INFO| PETSc Krylov solver starting to solve system.\n",
      "2021-12-18 20:25:38.508 ( 207.077s) [main            ]       NewtonSolver.cpp:36    INFO| Newton iteration 5: r (abs) = 0.777889 (tol = 1e-08) r (rel) = 0.00529096(tol = 1e-08)\n",
      "2021-12-18 20:25:38.769 ( 207.338s) [main            ]  PETScKrylovSolver.cpp:97    INFO| PETSc Krylov solver starting to solve system.\n",
      "2021-12-18 20:25:39.166 ( 207.735s) [main            ]       NewtonSolver.cpp:36    INFO| Newton iteration 6: r (abs) = 1.25525 (tol = 1e-08) r (rel) = 0.00853785(tol = 1e-08)\n",
      "2021-12-18 20:25:39.353 ( 207.921s) [main            ]  PETScKrylovSolver.cpp:97    INFO| PETSc Krylov solver starting to solve system.\n",
      "2021-12-18 20:25:39.733 ( 208.302s) [main            ]       NewtonSolver.cpp:36    INFO| Newton iteration 7: r (abs) = 0.00849512 (tol = 1e-08) r (rel) = 5.77813e-05(tol = 1e-08)\n",
      "2021-12-18 20:25:40.009 ( 208.578s) [main            ]  PETScKrylovSolver.cpp:97    INFO| PETSc Krylov solver starting to solve system.\n",
      "2021-12-18 20:25:40.512 ( 209.081s) [main            ]       NewtonSolver.cpp:36    INFO| Newton iteration 8: r (abs) = 0.000192107 (tol = 1e-08) r (rel) = 1.30665e-06(tol = 1e-08)\n",
      "2021-12-18 20:25:40.699 ( 209.268s) [main            ]  PETScKrylovSolver.cpp:97    INFO| PETSc Krylov solver starting to solve system.\n",
      "2021-12-18 20:25:41.077 ( 209.646s) [main            ]       NewtonSolver.cpp:36    INFO| Newton iteration 9: r (abs) = 1.70417e-10 (tol = 1e-08) r (rel) = 1.15913e-12(tol = 1e-08)\n",
      "2021-12-18 20:25:41.077 ( 209.646s) [main            ]       NewtonSolver.cpp:252   INFO| Newton solver finished in 9 iterations and 9 linear solver iterations.\n"
     ]
    },
    {
     "name": "stdout",
     "output_type": "stream",
     "text": [
      "Time step 2, Number of iterations 9, Load [ 0.  0. -3.]\n"
     ]
    },
    {
     "data": {
      "application/vnd.jupyter.widget-view+json": {
       "model_id": "3618769d28154b958623f6e450c938aa",
       "version_major": 2,
       "version_minor": 0
      },
      "text/plain": [
       "ViewInteractiveWidget(height=480, layout=Layout(height='auto', width='100%'), width=960)"
      ]
     },
     "metadata": {},
     "output_type": "display_data"
    },
    {
     "name": "stderr",
     "output_type": "stream",
     "text": [
      "2021-12-18 20:25:41.649 ( 210.218s) [main            ]  PETScKrylovSolver.cpp:97    INFO| PETSc Krylov solver starting to solve system.\n",
      "2021-12-18 20:25:42.341 ( 210.910s) [main            ]  PETScKrylovSolver.cpp:97    INFO| PETSc Krylov solver starting to solve system.\n",
      "2021-12-18 20:25:42.716 ( 211.285s) [main            ]       NewtonSolver.cpp:36    INFO| Newton iteration 2: r (abs) = 10.0011 (tol = 1e-08) r (rel) = 0.0887471(tol = 1e-08)\n",
      "2021-12-18 20:25:42.986 ( 211.555s) [main            ]  PETScKrylovSolver.cpp:97    INFO| PETSc Krylov solver starting to solve system.\n",
      "2021-12-18 20:25:43.365 ( 211.933s) [main            ]       NewtonSolver.cpp:36    INFO| Newton iteration 3: r (abs) = 5.33026 (tol = 1e-08) r (rel) = 0.0472992(tol = 1e-08)\n",
      "2021-12-18 20:25:43.635 ( 212.204s) [main            ]  PETScKrylovSolver.cpp:97    INFO| PETSc Krylov solver starting to solve system.\n",
      "2021-12-18 20:25:44.109 ( 212.678s) [main            ]       NewtonSolver.cpp:36    INFO| Newton iteration 4: r (abs) = 11.9901 (tol = 1e-08) r (rel) = 0.106397(tol = 1e-08)\n",
      "2021-12-18 20:25:44.375 ( 212.944s) [main            ]  PETScKrylovSolver.cpp:97    INFO| PETSc Krylov solver starting to solve system.\n",
      "2021-12-18 20:25:44.892 ( 213.460s) [main            ]       NewtonSolver.cpp:36    INFO| Newton iteration 5: r (abs) = 2.29702 (tol = 1e-08) r (rel) = 0.0203831(tol = 1e-08)\n",
      "2021-12-18 20:25:45.084 ( 213.653s) [main            ]  PETScKrylovSolver.cpp:97    INFO| PETSc Krylov solver starting to solve system.\n",
      "2021-12-18 20:25:45.579 ( 214.148s) [main            ]       NewtonSolver.cpp:36    INFO| Newton iteration 6: r (abs) = 3.90234 (tol = 1e-08) r (rel) = 0.0346282(tol = 1e-08)\n",
      "2021-12-18 20:25:45.851 ( 214.420s) [main            ]  PETScKrylovSolver.cpp:97    INFO| PETSc Krylov solver starting to solve system.\n",
      "2021-12-18 20:25:46.265 ( 214.833s) [main            ]       NewtonSolver.cpp:36    INFO| Newton iteration 7: r (abs) = 0.236535 (tol = 1e-08) r (rel) = 0.00209895(tol = 1e-08)\n",
      "2021-12-18 20:25:46.540 ( 215.109s) [main            ]  PETScKrylovSolver.cpp:97    INFO| PETSc Krylov solver starting to solve system.\n",
      "2021-12-18 20:25:46.961 ( 215.530s) [main            ]       NewtonSolver.cpp:36    INFO| Newton iteration 8: r (abs) = 0.0427142 (tol = 1e-08) r (rel) = 0.000379034(tol = 1e-08)\n",
      "2021-12-18 20:25:47.236 ( 215.805s) [main            ]  PETScKrylovSolver.cpp:97    INFO| PETSc Krylov solver starting to solve system.\n",
      "2021-12-18 20:25:47.730 ( 216.299s) [main            ]       NewtonSolver.cpp:36    INFO| Newton iteration 9: r (abs) = 2.87798e-05 (tol = 1e-08) r (rel) = 2.55384e-07(tol = 1e-08)\n",
      "2021-12-18 20:25:47.995 ( 216.564s) [main            ]  PETScKrylovSolver.cpp:97    INFO| PETSc Krylov solver starting to solve system.\n",
      "2021-12-18 20:25:48.551 ( 217.120s) [main            ]       NewtonSolver.cpp:36    INFO| Newton iteration 10: r (abs) = 6.0895e-10 (tol = 1e-08) r (rel) = 5.40365e-12(tol = 1e-08)\n",
      "2021-12-18 20:25:48.551 ( 217.120s) [main            ]       NewtonSolver.cpp:252   INFO| Newton solver finished in 10 iterations and 10 linear solver iterations.\n"
     ]
    },
    {
     "name": "stdout",
     "output_type": "stream",
     "text": [
      "Time step 3, Number of iterations 10, Load [ 0.   0.  -4.5]\n"
     ]
    },
    {
     "data": {
      "application/vnd.jupyter.widget-view+json": {
       "model_id": "b8fa959a4cd0493c9dcc552839b08c7c",
       "version_major": 2,
       "version_minor": 0
      },
      "text/plain": [
       "ViewInteractiveWidget(height=480, layout=Layout(height='auto', width='100%'), width=960)"
      ]
     },
     "metadata": {},
     "output_type": "display_data"
    },
    {
     "name": "stderr",
     "output_type": "stream",
     "text": [
      "2021-12-18 20:25:49.086 ( 217.655s) [main            ]  PETScKrylovSolver.cpp:97    INFO| PETSc Krylov solver starting to solve system.\n",
      "2021-12-18 20:25:49.660 ( 218.229s) [main            ]  PETScKrylovSolver.cpp:97    INFO| PETSc Krylov solver starting to solve system.\n",
      "2021-12-18 20:25:50.040 ( 218.609s) [main            ]       NewtonSolver.cpp:36    INFO| Newton iteration 2: r (abs) = 5.50693 (tol = 1e-08) r (rel) = 0.0653918(tol = 1e-08)\n",
      "2021-12-18 20:25:50.229 ( 218.798s) [main            ]  PETScKrylovSolver.cpp:97    INFO| PETSc Krylov solver starting to solve system.\n",
      "2021-12-18 20:25:50.607 ( 219.175s) [main            ]       NewtonSolver.cpp:36    INFO| Newton iteration 3: r (abs) = 26.2489 (tol = 1e-08) r (rel) = 0.311692(tol = 1e-08)\n",
      "2021-12-18 20:25:50.876 ( 219.445s) [main            ]  PETScKrylovSolver.cpp:97    INFO| PETSc Krylov solver starting to solve system.\n",
      "2021-12-18 20:25:51.388 ( 219.957s) [main            ]       NewtonSolver.cpp:36    INFO| Newton iteration 4: r (abs) = 2.30927 (tol = 1e-08) r (rel) = 0.0274213(tol = 1e-08)\n",
      "2021-12-18 20:25:51.574 ( 220.143s) [main            ]  PETScKrylovSolver.cpp:97    INFO| PETSc Krylov solver starting to solve system.\n",
      "2021-12-18 20:25:52.073 ( 220.642s) [main            ]       NewtonSolver.cpp:36    INFO| Newton iteration 5: r (abs) = 14.0562 (tol = 1e-08) r (rel) = 0.16691(tol = 1e-08)\n",
      "2021-12-18 20:25:52.264 ( 220.833s) [main            ]  PETScKrylovSolver.cpp:97    INFO| PETSc Krylov solver starting to solve system.\n"
     ]
    },
    {
     "name": "stdout",
     "output_type": "stream",
     "text": [
      "Time step 4, Number of iterations 9, Load [ 0.  0. -6.]\n"
     ]
    },
    {
     "name": "stderr",
     "output_type": "stream",
     "text": [
      "2021-12-18 20:25:52.759 ( 221.327s) [main            ]       NewtonSolver.cpp:36    INFO| Newton iteration 6: r (abs) = 0.222774 (tol = 1e-08) r (rel) = 0.00264532(tol = 1e-08)\n",
      "2021-12-18 20:25:53.025 ( 221.594s) [main            ]  PETScKrylovSolver.cpp:97    INFO| PETSc Krylov solver starting to solve system.\n",
      "2021-12-18 20:25:53.462 ( 222.031s) [main            ]       NewtonSolver.cpp:36    INFO| Newton iteration 7: r (abs) = 0.286671 (tol = 1e-08) r (rel) = 0.00340406(tol = 1e-08)\n",
      "2021-12-18 20:25:53.662 ( 222.230s) [main            ]  PETScKrylovSolver.cpp:97    INFO| PETSc Krylov solver starting to solve system.\n",
      "2021-12-18 20:25:54.147 ( 222.716s) [main            ]       NewtonSolver.cpp:36    INFO| Newton iteration 8: r (abs) = 0.000321869 (tol = 1e-08) r (rel) = 3.82203e-06(tol = 1e-08)\n",
      "2021-12-18 20:25:54.334 ( 222.903s) [main            ]  PETScKrylovSolver.cpp:97    INFO| PETSc Krylov solver starting to solve system.\n",
      "2021-12-18 20:25:54.715 ( 223.284s) [main            ]       NewtonSolver.cpp:36    INFO| Newton iteration 9: r (abs) = 2.63797e-07 (tol = 1e-08) r (rel) = 3.13245e-09(tol = 1e-08)\n",
      "2021-12-18 20:25:54.715 ( 223.284s) [main            ]       NewtonSolver.cpp:252   INFO| Newton solver finished in 9 iterations and 9 linear solver iterations.\n"
     ]
    },
    {
     "data": {
      "application/vnd.jupyter.widget-view+json": {
       "model_id": "9aa0d70220e94c03a5b471b5261a8f4b",
       "version_major": 2,
       "version_minor": 0
      },
      "text/plain": [
       "ViewInteractiveWidget(height=480, layout=Layout(height='auto', width='100%'), width=960)"
      ]
     },
     "metadata": {},
     "output_type": "display_data"
    },
    {
     "name": "stderr",
     "output_type": "stream",
     "text": [
      "2021-12-18 20:25:55.303 ( 223.872s) [main            ]  PETScKrylovSolver.cpp:97    INFO| PETSc Krylov solver starting to solve system.\n",
      "2021-12-18 20:25:55.904 ( 224.472s) [main            ]  PETScKrylovSolver.cpp:97    INFO| PETSc Krylov solver starting to solve system.\n",
      "2021-12-18 20:25:56.383 ( 224.952s) [main            ]       NewtonSolver.cpp:36    INFO| Newton iteration 2: r (abs) = 3.19462 (tol = 1e-08) r (rel) = 0.0496479(tol = 1e-08)\n",
      "2021-12-18 20:25:56.572 ( 225.141s) [main            ]  PETScKrylovSolver.cpp:97    INFO| PETSc Krylov solver starting to solve system.\n",
      "2021-12-18 20:25:56.947 ( 225.516s) [main            ]       NewtonSolver.cpp:36    INFO| Newton iteration 3: r (abs) = 7.71429 (tol = 1e-08) r (rel) = 0.119888(tol = 1e-08)\n",
      "2021-12-18 20:25:57.210 ( 225.779s) [main            ]  PETScKrylovSolver.cpp:97    INFO| PETSc Krylov solver starting to solve system.\n",
      "2021-12-18 20:25:57.606 ( 226.175s) [main            ]       NewtonSolver.cpp:36    INFO| Newton iteration 4: r (abs) = 0.850873 (tol = 1e-08) r (rel) = 0.0132235(tol = 1e-08)\n",
      "2021-12-18 20:25:57.868 ( 226.436s) [main            ]  PETScKrylovSolver.cpp:97    INFO| PETSc Krylov solver starting to solve system.\n",
      "2021-12-18 20:25:58.345 ( 226.914s) [main            ]       NewtonSolver.cpp:36    INFO| Newton iteration 5: r (abs) = 0.371434 (tol = 1e-08) r (rel) = 0.0057725(tol = 1e-08)\n",
      "2021-12-18 20:25:58.617 ( 227.186s) [main            ]  PETScKrylovSolver.cpp:97    INFO| PETSc Krylov solver starting to solve system.\n",
      "2021-12-18 20:25:59.015 ( 227.583s) [main            ]       NewtonSolver.cpp:36    INFO| Newton iteration 6: r (abs) = 0.00215066 (tol = 1e-08) r (rel) = 3.34236e-05(tol = 1e-08)\n",
      "2021-12-18 20:25:59.285 ( 227.854s) [main            ]  PETScKrylovSolver.cpp:97    INFO| PETSc Krylov solver starting to solve system.\n",
      "2021-12-18 20:25:59.792 ( 228.361s) [main            ]       NewtonSolver.cpp:36    INFO| Newton iteration 7: r (abs) = 2.54607e-06 (tol = 1e-08) r (rel) = 3.95687e-08(tol = 1e-08)\n",
      "2021-12-18 20:25:59.975 ( 228.544s) [main            ]  PETScKrylovSolver.cpp:97    INFO| PETSc Krylov solver starting to solve system.\n",
      "2021-12-18 20:26:00.347 ( 228.916s) [main            ]       NewtonSolver.cpp:36    INFO| Newton iteration 8: r (abs) = 3.33871e-13 (tol = 1e-08) r (rel) = 5.18872e-15(tol = 1e-08)\n",
      "2021-12-18 20:26:00.347 ( 228.916s) [main            ]       NewtonSolver.cpp:252   INFO| Newton solver finished in 8 iterations and 8 linear solver iterations.\n"
     ]
    },
    {
     "name": "stdout",
     "output_type": "stream",
     "text": [
      "Time step 5, Number of iterations 8, Load [ 0.   0.  -7.5]\n"
     ]
    },
    {
     "data": {
      "application/vnd.jupyter.widget-view+json": {
       "model_id": "4b320c708e034560a7b477fefbedef44",
       "version_major": 2,
       "version_minor": 0
      },
      "text/plain": [
       "ViewInteractiveWidget(height=480, layout=Layout(height='auto', width='100%'), width=960)"
      ]
     },
     "metadata": {},
     "output_type": "display_data"
    },
    {
     "name": "stderr",
     "output_type": "stream",
     "text": [
      "2021-12-18 20:26:00.914 ( 229.483s) [main            ]  PETScKrylovSolver.cpp:97    INFO| PETSc Krylov solver starting to solve system.\n",
      "2021-12-18 20:26:01.522 ( 230.090s) [main            ]  PETScKrylovSolver.cpp:97    INFO| PETSc Krylov solver starting to solve system.\n",
      "2021-12-18 20:26:02.050 ( 230.618s) [main            ]       NewtonSolver.cpp:36    INFO| Newton iteration 2: r (abs) = 2.00649 (tol = 1e-08) r (rel) = 0.0395622(tol = 1e-08)\n",
      "2021-12-18 20:26:02.328 ( 230.897s) [main            ]  PETScKrylovSolver.cpp:97    INFO| PETSc Krylov solver starting to solve system.\n",
      "2021-12-18 20:26:02.772 ( 231.341s) [main            ]       NewtonSolver.cpp:36    INFO| Newton iteration 3: r (abs) = 4.60977 (tol = 1e-08) r (rel) = 0.0908914(tol = 1e-08)\n",
      "2021-12-18 20:26:03.040 ( 231.609s) [main            ]  PETScKrylovSolver.cpp:97    INFO| PETSc Krylov solver starting to solve system.\n",
      "2021-12-18 20:26:03.436 ( 232.005s) [main            ]       NewtonSolver.cpp:36    INFO| Newton iteration 4: r (abs) = 0.185372 (tol = 1e-08) r (rel) = 0.00365501(tol = 1e-08)\n",
      "2021-12-18 20:26:03.626 ( 232.195s) [main            ]  PETScKrylovSolver.cpp:97    INFO| PETSc Krylov solver starting to solve system.\n",
      "2021-12-18 20:26:04.008 ( 232.577s) [main            ]       NewtonSolver.cpp:36    INFO| Newton iteration 5: r (abs) = 0.024688 (tol = 1e-08) r (rel) = 0.000486777(tol = 1e-08)\n",
      "2021-12-18 20:26:04.277 ( 232.845s) [main            ]  PETScKrylovSolver.cpp:97    INFO| PETSc Krylov solver starting to solve system.\n",
      "2021-12-18 20:26:04.841 ( 233.410s) [main            ]       NewtonSolver.cpp:36    INFO| Newton iteration 6: r (abs) = 5.69255e-06 (tol = 1e-08) r (rel) = 1.12241e-07(tol = 1e-08)\n",
      "2021-12-18 20:26:05.029 ( 233.598s) [main            ]  PETScKrylovSolver.cpp:97    INFO| PETSc Krylov solver starting to solve system.\n",
      "2021-12-18 20:26:05.403 ( 233.972s) [main            ]       NewtonSolver.cpp:36    INFO| Newton iteration 7: r (abs) = 2.58918e-11 (tol = 1e-08) r (rel) = 5.10512e-13(tol = 1e-08)\n",
      "2021-12-18 20:26:05.403 ( 233.972s) [main            ]       NewtonSolver.cpp:252   INFO| Newton solver finished in 7 iterations and 7 linear solver iterations.\n"
     ]
    },
    {
     "name": "stdout",
     "output_type": "stream",
     "text": [
      "Time step 6, Number of iterations 7, Load [ 0.  0. -9.]\n"
     ]
    },
    {
     "data": {
      "application/vnd.jupyter.widget-view+json": {
       "model_id": "f7758cd6380f4f43ab45c61b7e9352cc",
       "version_major": 2,
       "version_minor": 0
      },
      "text/plain": [
       "ViewInteractiveWidget(height=480, layout=Layout(height='auto', width='100%'), width=960)"
      ]
     },
     "metadata": {},
     "output_type": "display_data"
    },
    {
     "name": "stderr",
     "output_type": "stream",
     "text": [
      "2021-12-18 20:26:05.965 ( 234.534s) [main            ]  PETScKrylovSolver.cpp:97    INFO| PETSc Krylov solver starting to solve system.\n",
      "2021-12-18 20:26:06.609 ( 235.177s) [main            ]  PETScKrylovSolver.cpp:97    INFO| PETSc Krylov solver starting to solve system.\n",
      "2021-12-18 20:26:07.006 ( 235.575s) [main            ]       NewtonSolver.cpp:36    INFO| Newton iteration 2: r (abs) = 1.38506 (tol = 1e-08) r (rel) = 0.0336622(tol = 1e-08)\n",
      "2021-12-18 20:26:07.270 ( 235.838s) [main            ]  PETScKrylovSolver.cpp:97    INFO| PETSc Krylov solver starting to solve system.\n",
      "2021-12-18 20:26:07.659 ( 236.228s) [main            ]       NewtonSolver.cpp:36    INFO| Newton iteration 3: r (abs) = 3.03739 (tol = 1e-08) r (rel) = 0.07382(tol = 1e-08)\n"
     ]
    },
    {
     "name": "stdout",
     "output_type": "stream",
     "text": [
      "Time step 7, Number of iterations 6, Load [  0.    0.  -10.5]\n"
     ]
    },
    {
     "name": "stderr",
     "output_type": "stream",
     "text": [
      "2021-12-18 20:26:07.848 ( 236.416s) [main            ]  PETScKrylovSolver.cpp:97    INFO| PETSc Krylov solver starting to solve system.\n",
      "2021-12-18 20:26:08.330 ( 236.898s) [main            ]       NewtonSolver.cpp:36    INFO| Newton iteration 4: r (abs) = 0.0412386 (tol = 1e-08) r (rel) = 0.00100225(tol = 1e-08)\n",
      "2021-12-18 20:26:08.514 ( 237.083s) [main            ]  PETScKrylovSolver.cpp:97    INFO| PETSc Krylov solver starting to solve system.\n",
      "2021-12-18 20:26:08.995 ( 237.564s) [main            ]       NewtonSolver.cpp:36    INFO| Newton iteration 5: r (abs) = 0.00205057 (tol = 1e-08) r (rel) = 4.98364e-05(tol = 1e-08)\n",
      "2021-12-18 20:26:09.180 ( 237.749s) [main            ]  PETScKrylovSolver.cpp:97    INFO| PETSc Krylov solver starting to solve system.\n",
      "2021-12-18 20:26:09.553 ( 238.122s) [main            ]       NewtonSolver.cpp:36    INFO| Newton iteration 6: r (abs) = 1.78867e-08 (tol = 1e-08) r (rel) = 4.34714e-10(tol = 1e-08)\n",
      "2021-12-18 20:26:09.553 ( 238.122s) [main            ]       NewtonSolver.cpp:252   INFO| Newton solver finished in 6 iterations and 6 linear solver iterations.\n"
     ]
    },
    {
     "data": {
      "application/vnd.jupyter.widget-view+json": {
       "model_id": "38dd4c7a1ea34d9f9f64c8ff70dc6568",
       "version_major": 2,
       "version_minor": 0
      },
      "text/plain": [
       "ViewInteractiveWidget(height=480, layout=Layout(height='auto', width='100%'), width=960)"
      ]
     },
     "metadata": {},
     "output_type": "display_data"
    },
    {
     "name": "stderr",
     "output_type": "stream",
     "text": [
      "2021-12-18 20:26:10.111 ( 238.680s) [main            ]  PETScKrylovSolver.cpp:97    INFO| PETSc Krylov solver starting to solve system.\n",
      "2021-12-18 20:26:10.746 ( 239.314s) [main            ]  PETScKrylovSolver.cpp:97    INFO| PETSc Krylov solver starting to solve system.\n",
      "2021-12-18 20:26:11.136 ( 239.705s) [main            ]       NewtonSolver.cpp:36    INFO| Newton iteration 2: r (abs) = 1.06336 (tol = 1e-08) r (rel) = 0.031085(tol = 1e-08)\n",
      "2021-12-18 20:26:11.322 ( 239.891s) [main            ]  PETScKrylovSolver.cpp:97    INFO| PETSc Krylov solver starting to solve system.\n",
      "2021-12-18 20:26:11.800 ( 240.369s) [main            ]       NewtonSolver.cpp:36    INFO| Newton iteration 3: r (abs) = 2.0477 (tol = 1e-08) r (rel) = 0.0598598(tol = 1e-08)\n",
      "2021-12-18 20:26:11.986 ( 240.555s) [main            ]  PETScKrylovSolver.cpp:97    INFO| PETSc Krylov solver starting to solve system.\n"
     ]
    },
    {
     "name": "stdout",
     "output_type": "stream",
     "text": [
      "Time step 8, Number of iterations 6, Load [  0.   0. -12.]\n"
     ]
    },
    {
     "name": "stderr",
     "output_type": "stream",
     "text": [
      "2021-12-18 20:26:12.362 ( 240.931s) [main            ]       NewtonSolver.cpp:36    INFO| Newton iteration 4: r (abs) = 0.00897719 (tol = 1e-08) r (rel) = 0.000262427(tol = 1e-08)\n",
      "2021-12-18 20:26:12.621 ( 241.190s) [main            ]  PETScKrylovSolver.cpp:97    INFO| PETSc Krylov solver starting to solve system.\n",
      "2021-12-18 20:26:13.138 ( 241.706s) [main            ]       NewtonSolver.cpp:36    INFO| Newton iteration 5: r (abs) = 0.000167422 (tol = 1e-08) r (rel) = 4.89419e-06(tol = 1e-08)\n",
      "2021-12-18 20:26:13.320 ( 241.889s) [main            ]  PETScKrylovSolver.cpp:97    INFO| PETSc Krylov solver starting to solve system.\n",
      "2021-12-18 20:26:13.688 ( 242.256s) [main            ]       NewtonSolver.cpp:36    INFO| Newton iteration 6: r (abs) = 3.25874e-11 (tol = 1e-08) r (rel) = 9.52617e-13(tol = 1e-08)\n",
      "2021-12-18 20:26:13.688 ( 242.256s) [main            ]       NewtonSolver.cpp:252   INFO| Newton solver finished in 6 iterations and 6 linear solver iterations.\n"
     ]
    },
    {
     "data": {
      "application/vnd.jupyter.widget-view+json": {
       "model_id": "a9c6610cae82456d939b1f5419547659",
       "version_major": 2,
       "version_minor": 0
      },
      "text/plain": [
       "ViewInteractiveWidget(height=480, layout=Layout(height='auto', width='100%'), width=960)"
      ]
     },
     "metadata": {},
     "output_type": "display_data"
    },
    {
     "name": "stderr",
     "output_type": "stream",
     "text": [
      "2021-12-18 20:26:14.191 ( 242.760s) [main            ]  PETScKrylovSolver.cpp:97    INFO| PETSc Krylov solver starting to solve system.\n",
      "2021-12-18 20:26:14.745 ( 243.314s) [main            ]  PETScKrylovSolver.cpp:97    INFO| PETSc Krylov solver starting to solve system.\n",
      "2021-12-18 20:26:15.120 ( 243.689s) [main            ]       NewtonSolver.cpp:36    INFO| Newton iteration 2: r (abs) = 0.898789 (tol = 1e-08) r (rel) = 0.0309666(tol = 1e-08)\n",
      "2021-12-18 20:26:15.303 ( 243.872s) [main            ]  PETScKrylovSolver.cpp:97    INFO| PETSc Krylov solver starting to solve system.\n",
      "2021-12-18 20:26:15.782 ( 244.351s) [main            ]       NewtonSolver.cpp:36    INFO| Newton iteration 3: r (abs) = 1.38354 (tol = 1e-08) r (rel) = 0.0476679(tol = 1e-08)\n",
      "2021-12-18 20:26:16.044 ( 244.613s) [main            ]  PETScKrylovSolver.cpp:97    INFO| PETSc Krylov solver starting to solve system.\n",
      "2021-12-18 20:26:16.554 ( 245.123s) [main            ]       NewtonSolver.cpp:36    INFO| Newton iteration 4: r (abs) = 0.00185096 (tol = 1e-08) r (rel) = 6.37724e-05(tol = 1e-08)\n",
      "2021-12-18 20:26:16.736 ( 245.304s) [main            ]  PETScKrylovSolver.cpp:97    INFO| PETSc Krylov solver starting to solve system.\n",
      "2021-12-18 20:26:17.107 ( 245.676s) [main            ]       NewtonSolver.cpp:36    INFO| Newton iteration 5: r (abs) = 7.87183e-06 (tol = 1e-08) r (rel) = 2.71213e-07(tol = 1e-08)\n",
      "2021-12-18 20:26:17.292 ( 245.861s) [main            ]  PETScKrylovSolver.cpp:97    INFO| PETSc Krylov solver starting to solve system.\n",
      "2021-12-18 20:26:17.661 ( 246.230s) [main            ]       NewtonSolver.cpp:36    INFO| Newton iteration 6: r (abs) = 7.21799e-13 (tol = 1e-08) r (rel) = 2.48686e-14(tol = 1e-08)\n",
      "2021-12-18 20:26:17.661 ( 246.230s) [main            ]       NewtonSolver.cpp:252   INFO| Newton solver finished in 6 iterations and 6 linear solver iterations.\n"
     ]
    },
    {
     "name": "stdout",
     "output_type": "stream",
     "text": [
      "Time step 9, Number of iterations 6, Load [  0.    0.  -13.5]\n"
     ]
    },
    {
     "data": {
      "application/vnd.jupyter.widget-view+json": {
       "model_id": "baa882b898fa4e10b29b3c6803cef0bb",
       "version_major": 2,
       "version_minor": 0
      },
      "text/plain": [
       "ViewInteractiveWidget(height=480, layout=Layout(height='auto', width='100%'), width=960)"
      ]
     },
     "metadata": {},
     "output_type": "display_data"
    }
   ],
   "source": [
    "from dolfinx.log import set_log_level, LogLevel\n",
    "set_log_level(LogLevel.INFO)\n",
    "tval0 = -1.5\n",
    "for n in range(1, 10):\n",
    "    T.value[2] = n * tval0\n",
    "    num_its, converged = solver.solve(u)\n",
    "    assert(converged)\n",
    "    u.x.scatter_forward()\n",
    "    print(f\"Time step {n}, Number of iterations {num_its}, Load {T.value}\")\n",
    "    plot_function(n, u)"
   ]
  },
  {
   "cell_type": "code",
   "execution_count": null,
   "id": "eligible-chambers",
   "metadata": {},
   "outputs": [],
   "source": []
  }
 ],
 "metadata": {
  "kernelspec": {
   "display_name": "Python 3 (ipykernel)",
   "language": "python",
   "name": "python3"
  },
  "language_info": {
   "codemirror_mode": {
    "name": "ipython",
    "version": 3
   },
   "file_extension": ".py",
   "mimetype": "text/x-python",
   "name": "python",
   "nbconvert_exporter": "python",
   "pygments_lexer": "ipython3",
   "version": "3.9.7"
  }
 },
 "nbformat": 4,
 "nbformat_minor": 5
}
