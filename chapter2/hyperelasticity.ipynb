{
 "cells": [
  {
   "cell_type": "markdown",
   "id": "supreme-malpractice",
   "metadata": {},
   "source": [
    "# Hyperelasticity\n",
    "Author: Jørgen S. Dokken and Garth N. Wells\n",
    "\n",
    "This section shows how to solve the hyperelasticity problem for deformation of a beam.\n",
    "\n",
    "We will also show how to create a constant boundary condition for a vector function space.\n",
    "\n",
    "We start by importing DOLFINx and some additional dependencies.\n",
    "Then, we create a slender cantilever consisting of hexahedral elements and create the function space `V` for our unknown."
   ]
  },
  {
   "cell_type": "code",
   "execution_count": 1,
   "id": "optional-cameroon",
   "metadata": {},
   "outputs": [],
   "source": [
    "import numpy as np\n",
    "import ufl\n",
    "\n",
    "from petsc4py import PETSc\n",
    "from mpi4py import MPI\n",
    "from dolfinx import fem\n",
    "from dolfinx.mesh import CellType, MeshTags, create_box, locate_entities_boundary\n",
    "L = 20.0\n",
    "mesh = create_box(MPI.COMM_WORLD,[[0.0,0.0,0.0], [L, 1, 1]], [20, 5, 5], CellType.hexahedron)\n",
    "V = fem.VectorFunctionSpace(mesh, (\"CG\", 2))"
   ]
  },
  {
   "cell_type": "markdown",
   "id": "streaming-neutral",
   "metadata": {},
   "source": [
    "We create two python functions for determining the facets to apply boundary conditions to"
   ]
  },
  {
   "cell_type": "code",
   "execution_count": 2,
   "id": "major-factor",
   "metadata": {},
   "outputs": [],
   "source": [
    "def left(x):\n",
    "    return np.isclose(x[0], 0)\n",
    "\n",
    "def right(x):\n",
    "    return np.isclose(x[0], L)\n",
    "\n",
    "left_facets = locate_entities_boundary(mesh, mesh.topology.dim - 1, left)\n",
    "right_facets = locate_entities_boundary(mesh, mesh.topology.dim - 1, right)"
   ]
  },
  {
   "cell_type": "markdown",
   "id": "figured-world",
   "metadata": {},
   "source": [
    "Next, we create a  marker based on these two functions"
   ]
  },
  {
   "cell_type": "code",
   "execution_count": 3,
   "id": "dated-india",
   "metadata": {},
   "outputs": [],
   "source": [
    "# Concatenate and sort the arrays based on facet indices. Left facets marked with 1, right facets with two\n",
    "marked_facets = np.hstack([left_facets, right_facets])\n",
    "marked_values = np.hstack([np.full(len(left_facets), 1, dtype=np.int32), np.full(len(right_facets), 2, dtype=np.int32)])\n",
    "sorted_facets = np.argsort(marked_facets)\n",
    "facet_tag = MeshTags(mesh, mesh.topology.dim-1, marked_facets[sorted_facets], marked_values[sorted_facets])"
   ]
  },
  {
   "cell_type": "markdown",
   "id": "renewable-glossary",
   "metadata": {},
   "source": [
    "We then create a function for supplying the boundary condition on the left side, which is fixed."
   ]
  },
  {
   "cell_type": "code",
   "execution_count": 4,
   "id": "confidential-french",
   "metadata": {},
   "outputs": [],
   "source": [
    "u_bc = np.array((0,) * mesh.geometry.dim, dtype=PETSc.ScalarType)"
   ]
  },
  {
   "cell_type": "markdown",
   "id": "musical-documentation",
   "metadata": {},
   "source": [
    "To apply the boundary condition, we identity the dofs located on the facets marked by the `MeshTag`."
   ]
  },
  {
   "cell_type": "code",
   "execution_count": 5,
   "id": "written-monster",
   "metadata": {},
   "outputs": [],
   "source": [
    "left_dofs = fem.locate_dofs_topological(V, facet_tag.dim, facet_tag.indices[facet_tag.values==1])\n",
    "bcs = [fem.dirichletbc(u_bc, left_dofs, V)]"
   ]
  },
  {
   "cell_type": "markdown",
   "id": "indoor-chester",
   "metadata": {},
   "source": [
    "Next, we define the body force on the reference configuration (`B`), and nominal (first Piola-Kirchhoff) traction (`T`). "
   ]
  },
  {
   "cell_type": "code",
   "execution_count": 6,
   "id": "korean-carol",
   "metadata": {},
   "outputs": [],
   "source": [
    "B = fem.Constant(mesh, PETSc.ScalarType((0, 0, 0)))\n",
    "T = fem.Constant(mesh, PETSc.ScalarType((0, 0, 0)))"
   ]
  },
  {
   "cell_type": "markdown",
   "id": "blond-dynamics",
   "metadata": {},
   "source": [
    "Define the test and solution functions on the space $V$"
   ]
  },
  {
   "cell_type": "code",
   "execution_count": 7,
   "id": "vocational-experiment",
   "metadata": {},
   "outputs": [],
   "source": [
    "v = ufl.TestFunction(V)\n",
    "u = fem.Function(V)"
   ]
  },
  {
   "cell_type": "markdown",
   "id": "bright-belle",
   "metadata": {},
   "source": [
    "Define kinematic quantities used in the problem"
   ]
  },
  {
   "cell_type": "code",
   "execution_count": 8,
   "id": "vertical-original",
   "metadata": {},
   "outputs": [],
   "source": [
    "# Spatial dimension\n",
    "d = len(u)\n",
    "\n",
    "# Identity tensor\n",
    "I = ufl.variable(ufl.Identity(d))\n",
    "\n",
    "# Deformation gradient\n",
    "F = ufl.variable(I + ufl.grad(u))\n",
    "\n",
    "# Right Cauchy-Green tensor\n",
    "C = ufl.variable(F.T * F)\n",
    "\n",
    "# Invariants of deformation tensors\n",
    "Ic = ufl.variable(ufl.tr(C))\n",
    "J  = ufl.variable(ufl.det(F))"
   ]
  },
  {
   "cell_type": "markdown",
   "id": "respiratory-compromise",
   "metadata": {},
   "source": [
    "Define the elasticity model via a stored strain energy density function $\\psi$, and create the expression for the first Piola-Kirchhoff stress:"
   ]
  },
  {
   "cell_type": "code",
   "execution_count": 9,
   "id": "incorrect-hello",
   "metadata": {},
   "outputs": [],
   "source": [
    "# Elasticity parameters\n",
    "E = PETSc.ScalarType(1.0e4)\n",
    "nu = PETSc.ScalarType(0.3)\n",
    "mu = fem.Constant(mesh, E/(2*(1 + nu)))\n",
    "lmbda = fem.Constant(mesh, E*nu/((1 + nu)*(1 - 2*nu)))\n",
    "# Stored strain energy density (compressible neo-Hookean model)\n",
    "psi = (mu / 2) * (Ic - 3) - mu * ufl.ln(J) + (lmbda / 2) * (ufl.ln(J))**2\n",
    "# Stress\n",
    "# Hyper-elasticity\n",
    "P = ufl.diff(psi, F)"
   ]
  },
  {
   "cell_type": "markdown",
   "id": "grateful-battlefield",
   "metadata": {},
   "source": [
    "```{admonition} Comparison to linear elasticity\n",
    "To illustrate the difference between linear and hyperelasticity, the following lines can be uncommented to solve the linear elasticity problem.\n",
    "```"
   ]
  },
  {
   "cell_type": "code",
   "execution_count": 10,
   "id": "imperial-jurisdiction",
   "metadata": {},
   "outputs": [],
   "source": [
    "# P = 2.0 * mu * ufl.sym(ufl.grad(u)) + lmbda * ufl.tr(ufl.sym(ufl.grad(u))) * I"
   ]
  },
  {
   "cell_type": "markdown",
   "id": "alleged-genesis",
   "metadata": {},
   "source": [
    "Define the variational form with traction integral over all facets with value 2. We set the quadrature degree for the integrals to 4."
   ]
  },
  {
   "cell_type": "code",
   "execution_count": 11,
   "id": "recognized-conclusion",
   "metadata": {},
   "outputs": [],
   "source": [
    "metadata = {\"quadrature_degree\": 4}\n",
    "ds = ufl.Measure('ds', subdomain_data=facet_tag, metadata=metadata)\n",
    "dx = ufl.Measure(\"dx\", metadata=metadata)\n",
    "# Define form F (we want to find u such that F(u) = 0)\n",
    "F = ufl.inner(ufl.grad(v), P)*dx - ufl.inner(v, B)*dx - ufl.inner(v, T)*ds(2) "
   ]
  },
  {
   "cell_type": "markdown",
   "id": "historic-sherman",
   "metadata": {},
   "source": [
    "As the varitional form is non-linear and written on residual form, we use the non-linear problem class from DOLFINx to set up required structures to use a Newton solver."
   ]
  },
  {
   "cell_type": "code",
   "execution_count": 12,
   "id": "threatened-devices",
   "metadata": {},
   "outputs": [],
   "source": [
    "problem = fem.NonlinearProblem(F, u, bcs)"
   ]
  },
  {
   "cell_type": "markdown",
   "id": "qualified-phrase",
   "metadata": {},
   "source": [
    "and then create and customize the Newton solver"
   ]
  },
  {
   "cell_type": "code",
   "execution_count": 13,
   "id": "special-globe",
   "metadata": {},
   "outputs": [],
   "source": [
    "from dolfinx.nls import NewtonSolver\n",
    "solver = NewtonSolver(MPI.COMM_WORLD, problem)\n",
    "\n",
    "# Set Newton solver options\n",
    "solver.atol = 1e-8\n",
    "solver.rtol = 1e-8\n",
    "solver.convergence_criterion = \"incremental\""
   ]
  },
  {
   "cell_type": "markdown",
   "id": "marked-hungary",
   "metadata": {},
   "source": [
    "We create a function to plot the solution at each time step."
   ]
  },
  {
   "cell_type": "code",
   "execution_count": 14,
   "id": "noble-perception",
   "metadata": {},
   "outputs": [
    {
     "name": "stderr",
     "output_type": "stream",
     "text": [
      "WARNING:py.warnings:/usr/local/dolfinx-real/lib/python3.8/dist-packages/dolfinx/plot.py:120: UserWarning: Plotting of higher order functions is experimental.\n",
      "  warnings.warn(\"Plotting of higher order functions is experimental.\")\n",
      "\n"
     ]
    },
    {
     "data": {
      "application/vnd.jupyter.widget-view+json": {
       "model_id": "c3ae780b4a3546488543f096c7bef2d3",
       "version_major": 2,
       "version_minor": 0
      },
      "text/plain": [
       "AppLayout(children=(VBox(children=(HTML(value='<h3>u(0)</h3>'), Dropdown(description='Colormap:', options={'Br…"
      ]
     },
     "metadata": {},
     "output_type": "display_data"
    }
   ],
   "source": [
    "import pyvista\n",
    "pyvista.set_jupyter_backend(\"ipygany\")\n",
    "\n",
    "from dolfinx.plot import create_vtk_topology\n",
    "topology, cell_types = create_vtk_topology(mesh, mesh.topology.dim)\n",
    "grid = pyvista.UnstructuredGrid(topology, cell_types, mesh.geometry.x)\n",
    "\n",
    "def plot_function(t, uh):\n",
    "    \"\"\"\n",
    "    Create a figure of the concentration uh warped visualized in 3D at timet step t.\n",
    "    \"\"\"\n",
    "    p = pyvista.Plotter()\n",
    "   \n",
    "    # Update point values on pyvista grid\n",
    "\n",
    "    topology, cell_types = create_vtk_topology(V)\n",
    "     # We create a geometry for our modified mesh using the dof coordinates\n",
    "    geometry = V.tabulate_dof_coordinates()\n",
    "    # As we are dealing with a vector field, we reshape the underlying dof array to accommedate for the three dimensional space\n",
    "    num_dofs = V.dofmap.index_map.size_local + V.dofmap.index_map.num_ghosts\n",
    "    values = np.zeros((num_dofs, 3), dtype=np.float64)\n",
    "    values[:, :mesh.geometry.dim] = uh.x.array.real.reshape(num_dofs, V.dofmap.index_map_bs)\n",
    "\n",
    "    # Create grid defined by the function space for visualization\n",
    "    function_grid = pyvista.UnstructuredGrid(topology, cell_types, geometry)\n",
    "    var_name = f\"u({t})\"\n",
    "    function_grid[var_name] = values\n",
    "    function_grid.set_active_vectors(var_name)\n",
    "    # Warp mesh by deformation\n",
    "    warped = function_grid.warp_by_vector(var_name, factor=1)\n",
    "    \n",
    "    # Add mesh to plotter and visualize\n",
    "    actor = p.add_mesh(warped)\n",
    "    p.show_axes()\n",
    "    if not pyvista.OFF_SCREEN:\n",
    "       p.show()\n",
    "    else:\n",
    "        figure_as_array = p.screenshot(f\"diffusion_{t:.2f}.png\")\n",
    "        # Clear plotter for next plot\n",
    "        p.remove_actor(actor)\n",
    "\n",
    "plot_function(0, u)"
   ]
  },
  {
   "cell_type": "markdown",
   "id": "nasty-entertainment",
   "metadata": {},
   "source": [
    "Finally, we solve the problem over several time steps, updating the y-component of the traction"
   ]
  },
  {
   "cell_type": "code",
   "execution_count": 15,
   "id": "vanilla-referral",
   "metadata": {},
   "outputs": [
    {
     "name": "stderr",
     "output_type": "stream",
     "text": [
      "2022-01-07 20:29:20.660 (   1.136s) [main            ]              petsc.cpp:769   INFO| PETSc Krylov solver starting to solve system.\n",
      "2022-01-07 20:29:21.501 (   1.976s) [main            ]              petsc.cpp:769   INFO| PETSc Krylov solver starting to solve system.\n",
      "2022-01-07 20:29:21.963 (   2.438s) [main            ]       NewtonSolver.cpp:34    INFO| Newton iteration 2: r (abs) = 22.2455 (tol = 1e-08) r (rel) = 0.134278(tol = 1e-08)\n",
      "2022-01-07 20:29:22.178 (   2.654s) [main            ]              petsc.cpp:769   INFO| PETSc Krylov solver starting to solve system.\n",
      "2022-01-07 20:29:22.640 (   3.116s) [main            ]       NewtonSolver.cpp:34    INFO| Newton iteration 3: r (abs) = 2.43261 (tol = 1e-08) r (rel) = 0.0146837(tol = 1e-08)\n",
      "2022-01-07 20:29:22.859 (   3.335s) [main            ]              petsc.cpp:769   INFO| PETSc Krylov solver starting to solve system.\n",
      "2022-01-07 20:29:23.306 (   3.782s) [main            ]       NewtonSolver.cpp:34    INFO| Newton iteration 4: r (abs) = 4.43158 (tol = 1e-08) r (rel) = 0.0267498(tol = 1e-08)\n",
      "2022-01-07 20:29:23.510 (   3.986s) [main            ]              petsc.cpp:769   INFO| PETSc Krylov solver starting to solve system.\n",
      "2022-01-07 20:29:23.966 (   4.442s) [main            ]       NewtonSolver.cpp:34    INFO| Newton iteration 5: r (abs) = 0.144189 (tol = 1e-08) r (rel) = 0.000870353(tol = 1e-08)\n",
      "2022-01-07 20:29:24.161 (   4.637s) [main            ]              petsc.cpp:769   INFO| PETSc Krylov solver starting to solve system.\n",
      "2022-01-07 20:29:24.562 (   5.038s) [main            ]       NewtonSolver.cpp:34    INFO| Newton iteration 6: r (abs) = 0.021424 (tol = 1e-08) r (rel) = 0.000129319(tol = 1e-08)\n",
      "2022-01-07 20:29:24.769 (   5.245s) [main            ]              petsc.cpp:769   INFO| PETSc Krylov solver starting to solve system.\n",
      "2022-01-07 20:29:25.168 (   5.644s) [main            ]       NewtonSolver.cpp:34    INFO| Newton iteration 7: r (abs) = 4.80068e-06 (tol = 1e-08) r (rel) = 2.89778e-08(tol = 1e-08)\n",
      "WARNING:py.warnings:/usr/local/dolfinx-real/lib/python3.8/dist-packages/dolfinx/plot.py:120: UserWarning: Plotting of higher order functions is experimental.\n",
      "  warnings.warn(\"Plotting of higher order functions is experimental.\")\n",
      "\n"
     ]
    },
    {
     "name": "stdout",
     "output_type": "stream",
     "text": [
      "Time step 1, Number of iterations 8, Load [ 0.   0.  -1.5]\n"
     ]
    },
    {
     "name": "stderr",
     "output_type": "stream",
     "text": [
      "2022-01-07 20:29:25.361 (   5.836s) [main            ]              petsc.cpp:769   INFO| PETSc Krylov solver starting to solve system.\n",
      "2022-01-07 20:29:25.741 (   6.216s) [main            ]       NewtonSolver.cpp:34    INFO| Newton iteration 8: r (abs) = 2.62988e-11 (tol = 1e-08) r (rel) = 1.58745e-13(tol = 1e-08)\n",
      "2022-01-07 20:29:25.741 (   6.216s) [main            ]       NewtonSolver.cpp:250   INFO| Newton solver finished in 8 iterations and 8 linear solver iterations.\n"
     ]
    },
    {
     "data": {
      "application/vnd.jupyter.widget-view+json": {
       "model_id": "4a83b8aebca94f1c85e23b17f206bcbc",
       "version_major": 2,
       "version_minor": 0
      },
      "text/plain": [
       "AppLayout(children=(VBox(children=(HTML(value='<h3>u(1)</h3>'), Dropdown(description='Colormap:', options={'Br…"
      ]
     },
     "metadata": {},
     "output_type": "display_data"
    },
    {
     "name": "stderr",
     "output_type": "stream",
     "text": [
      "2022-01-07 20:29:26.010 (   6.486s) [main            ]              petsc.cpp:769   INFO| PETSc Krylov solver starting to solve system.\n",
      "2022-01-07 20:29:26.603 (   7.079s) [main            ]              petsc.cpp:769   INFO| PETSc Krylov solver starting to solve system.\n",
      "2022-01-07 20:29:26.985 (   7.460s) [main            ]       NewtonSolver.cpp:34    INFO| Newton iteration 2: r (abs) = 17.3254 (tol = 1e-08) r (rel) = 0.117842(tol = 1e-08)\n",
      "2022-01-07 20:29:27.174 (   7.650s) [main            ]              petsc.cpp:769   INFO| PETSc Krylov solver starting to solve system.\n",
      "2022-01-07 20:29:27.556 (   8.032s) [main            ]       NewtonSolver.cpp:34    INFO| Newton iteration 3: r (abs) = 5.14882 (tol = 1e-08) r (rel) = 0.0350207(tol = 1e-08)\n",
      "2022-01-07 20:29:27.744 (   8.220s) [main            ]              petsc.cpp:769   INFO| PETSc Krylov solver starting to solve system.\n",
      "2022-01-07 20:29:28.125 (   8.600s) [main            ]       NewtonSolver.cpp:34    INFO| Newton iteration 4: r (abs) = 7.24003 (tol = 1e-08) r (rel) = 0.0492445(tol = 1e-08)\n",
      "2022-01-07 20:29:28.314 (   8.790s) [main            ]              petsc.cpp:769   INFO| PETSc Krylov solver starting to solve system.\n",
      "2022-01-07 20:29:28.695 (   9.170s) [main            ]       NewtonSolver.cpp:34    INFO| Newton iteration 5: r (abs) = 0.777889 (tol = 1e-08) r (rel) = 0.00529096(tol = 1e-08)\n",
      "2022-01-07 20:29:28.881 (   9.357s) [main            ]              petsc.cpp:769   INFO| PETSc Krylov solver starting to solve system.\n",
      "2022-01-07 20:29:29.259 (   9.734s) [main            ]       NewtonSolver.cpp:34    INFO| Newton iteration 6: r (abs) = 1.25525 (tol = 1e-08) r (rel) = 0.00853785(tol = 1e-08)\n",
      "2022-01-07 20:29:29.448 (   9.923s) [main            ]              petsc.cpp:769   INFO| PETSc Krylov solver starting to solve system.\n",
      "2022-01-07 20:29:29.834 (  10.310s) [main            ]       NewtonSolver.cpp:34    INFO| Newton iteration 7: r (abs) = 0.00849512 (tol = 1e-08) r (rel) = 5.77813e-05(tol = 1e-08)\n",
      "2022-01-07 20:29:30.025 (  10.501s) [main            ]              petsc.cpp:769   INFO| PETSc Krylov solver starting to solve system.\n"
     ]
    },
    {
     "name": "stdout",
     "output_type": "stream",
     "text": [
      "Time step 2, Number of iterations 9, Load [ 0.  0. -3.]\n"
     ]
    },
    {
     "name": "stderr",
     "output_type": "stream",
     "text": [
      "2022-01-07 20:29:30.410 (  10.886s) [main            ]       NewtonSolver.cpp:34    INFO| Newton iteration 8: r (abs) = 0.000192107 (tol = 1e-08) r (rel) = 1.30665e-06(tol = 1e-08)\n",
      "2022-01-07 20:29:30.601 (  11.076s) [main            ]              petsc.cpp:769   INFO| PETSc Krylov solver starting to solve system.\n",
      "2022-01-07 20:29:30.995 (  11.471s) [main            ]       NewtonSolver.cpp:34    INFO| Newton iteration 9: r (abs) = 1.70417e-10 (tol = 1e-08) r (rel) = 1.15913e-12(tol = 1e-08)\n",
      "2022-01-07 20:29:30.995 (  11.471s) [main            ]       NewtonSolver.cpp:250   INFO| Newton solver finished in 9 iterations and 9 linear solver iterations.\n"
     ]
    },
    {
     "data": {
      "application/vnd.jupyter.widget-view+json": {
       "model_id": "c2f91ab543f94e9598348473d183ab4a",
       "version_major": 2,
       "version_minor": 0
      },
      "text/plain": [
       "AppLayout(children=(VBox(children=(HTML(value='<h3>u(2)</h3>'), Dropdown(description='Colormap:', options={'Br…"
      ]
     },
     "metadata": {},
     "output_type": "display_data"
    },
    {
     "name": "stderr",
     "output_type": "stream",
     "text": [
      "2022-01-07 20:29:31.254 (  11.730s) [main            ]              petsc.cpp:769   INFO| PETSc Krylov solver starting to solve system.\n",
      "2022-01-07 20:29:31.839 (  12.315s) [main            ]              petsc.cpp:769   INFO| PETSc Krylov solver starting to solve system.\n",
      "2022-01-07 20:29:32.258 (  12.733s) [main            ]       NewtonSolver.cpp:34    INFO| Newton iteration 2: r (abs) = 10.0011 (tol = 1e-08) r (rel) = 0.0887471(tol = 1e-08)\n",
      "2022-01-07 20:29:32.474 (  12.950s) [main            ]              petsc.cpp:769   INFO| PETSc Krylov solver starting to solve system.\n",
      "2022-01-07 20:29:32.956 (  13.432s) [main            ]       NewtonSolver.cpp:34    INFO| Newton iteration 3: r (abs) = 5.33026 (tol = 1e-08) r (rel) = 0.0472992(tol = 1e-08)\n",
      "2022-01-07 20:29:33.180 (  13.656s) [main            ]              petsc.cpp:769   INFO| PETSc Krylov solver starting to solve system.\n",
      "2022-01-07 20:29:33.574 (  14.050s) [main            ]       NewtonSolver.cpp:34    INFO| Newton iteration 4: r (abs) = 11.9901 (tol = 1e-08) r (rel) = 0.106397(tol = 1e-08)\n",
      "2022-01-07 20:29:33.764 (  14.240s) [main            ]              petsc.cpp:769   INFO| PETSc Krylov solver starting to solve system.\n",
      "2022-01-07 20:29:34.149 (  14.625s) [main            ]       NewtonSolver.cpp:34    INFO| Newton iteration 5: r (abs) = 2.29702 (tol = 1e-08) r (rel) = 0.0203831(tol = 1e-08)\n",
      "2022-01-07 20:29:34.341 (  14.817s) [main            ]              petsc.cpp:769   INFO| PETSc Krylov solver starting to solve system.\n",
      "2022-01-07 20:29:34.731 (  15.206s) [main            ]       NewtonSolver.cpp:34    INFO| Newton iteration 6: r (abs) = 3.90234 (tol = 1e-08) r (rel) = 0.0346282(tol = 1e-08)\n",
      "2022-01-07 20:29:34.919 (  15.394s) [main            ]              petsc.cpp:769   INFO| PETSc Krylov solver starting to solve system.\n",
      "2022-01-07 20:29:35.306 (  15.781s) [main            ]       NewtonSolver.cpp:34    INFO| Newton iteration 7: r (abs) = 0.236535 (tol = 1e-08) r (rel) = 0.00209895(tol = 1e-08)\n"
     ]
    },
    {
     "name": "stdout",
     "output_type": "stream",
     "text": [
      "Time step 3, Number of iterations 10, Load [ 0.   0.  -4.5]\n"
     ]
    },
    {
     "name": "stderr",
     "output_type": "stream",
     "text": [
      "2022-01-07 20:29:35.499 (  15.974s) [main            ]              petsc.cpp:769   INFO| PETSc Krylov solver starting to solve system.\n",
      "2022-01-07 20:29:35.890 (  16.365s) [main            ]       NewtonSolver.cpp:34    INFO| Newton iteration 8: r (abs) = 0.0427142 (tol = 1e-08) r (rel) = 0.000379034(tol = 1e-08)\n",
      "2022-01-07 20:29:36.081 (  16.556s) [main            ]              petsc.cpp:769   INFO| PETSc Krylov solver starting to solve system.\n",
      "2022-01-07 20:29:36.484 (  16.960s) [main            ]       NewtonSolver.cpp:34    INFO| Newton iteration 9: r (abs) = 2.87798e-05 (tol = 1e-08) r (rel) = 2.55384e-07(tol = 1e-08)\n",
      "2022-01-07 20:29:36.692 (  17.167s) [main            ]              petsc.cpp:769   INFO| PETSc Krylov solver starting to solve system.\n",
      "2022-01-07 20:29:37.088 (  17.564s) [main            ]       NewtonSolver.cpp:34    INFO| Newton iteration 10: r (abs) = 6.0895e-10 (tol = 1e-08) r (rel) = 5.40365e-12(tol = 1e-08)\n",
      "2022-01-07 20:29:37.088 (  17.564s) [main            ]       NewtonSolver.cpp:250   INFO| Newton solver finished in 10 iterations and 10 linear solver iterations.\n"
     ]
    },
    {
     "data": {
      "application/vnd.jupyter.widget-view+json": {
       "model_id": "6ba1ce7132754f828f6a6a7c60b73be5",
       "version_major": 2,
       "version_minor": 0
      },
      "text/plain": [
       "AppLayout(children=(VBox(children=(HTML(value='<h3>u(3)</h3>'), Dropdown(description='Colormap:', options={'Br…"
      ]
     },
     "metadata": {},
     "output_type": "display_data"
    },
    {
     "name": "stderr",
     "output_type": "stream",
     "text": [
      "2022-01-07 20:29:37.338 (  17.814s) [main            ]              petsc.cpp:769   INFO| PETSc Krylov solver starting to solve system.\n",
      "2022-01-07 20:29:37.902 (  18.378s) [main            ]              petsc.cpp:769   INFO| PETSc Krylov solver starting to solve system.\n",
      "2022-01-07 20:29:38.285 (  18.760s) [main            ]       NewtonSolver.cpp:34    INFO| Newton iteration 2: r (abs) = 5.50693 (tol = 1e-08) r (rel) = 0.0653918(tol = 1e-08)\n",
      "2022-01-07 20:29:38.472 (  18.948s) [main            ]              petsc.cpp:769   INFO| PETSc Krylov solver starting to solve system.\n",
      "2022-01-07 20:29:38.855 (  19.331s) [main            ]       NewtonSolver.cpp:34    INFO| Newton iteration 3: r (abs) = 26.2489 (tol = 1e-08) r (rel) = 0.311692(tol = 1e-08)\n",
      "2022-01-07 20:29:39.048 (  19.523s) [main            ]              petsc.cpp:769   INFO| PETSc Krylov solver starting to solve system.\n",
      "2022-01-07 20:29:39.427 (  19.903s) [main            ]       NewtonSolver.cpp:34    INFO| Newton iteration 4: r (abs) = 2.30927 (tol = 1e-08) r (rel) = 0.0274213(tol = 1e-08)\n",
      "2022-01-07 20:29:39.615 (  20.091s) [main            ]              petsc.cpp:769   INFO| PETSc Krylov solver starting to solve system.\n",
      "2022-01-07 20:29:40.048 (  20.524s) [main            ]       NewtonSolver.cpp:34    INFO| Newton iteration 5: r (abs) = 14.0562 (tol = 1e-08) r (rel) = 0.16691(tol = 1e-08)\n",
      "2022-01-07 20:29:40.236 (  20.712s) [main            ]              petsc.cpp:769   INFO| PETSc Krylov solver starting to solve system.\n",
      "2022-01-07 20:29:40.619 (  21.094s) [main            ]       NewtonSolver.cpp:34    INFO| Newton iteration 6: r (abs) = 0.222774 (tol = 1e-08) r (rel) = 0.00264532(tol = 1e-08)\n",
      "2022-01-07 20:29:40.808 (  21.284s) [main            ]              petsc.cpp:769   INFO| PETSc Krylov solver starting to solve system.\n"
     ]
    },
    {
     "name": "stdout",
     "output_type": "stream",
     "text": [
      "Time step 4, Number of iterations 9, Load [ 0.  0. -6.]\n"
     ]
    },
    {
     "name": "stderr",
     "output_type": "stream",
     "text": [
      "2022-01-07 20:29:41.193 (  21.669s) [main            ]       NewtonSolver.cpp:34    INFO| Newton iteration 7: r (abs) = 0.286671 (tol = 1e-08) r (rel) = 0.00340406(tol = 1e-08)\n",
      "2022-01-07 20:29:41.385 (  21.861s) [main            ]              petsc.cpp:769   INFO| PETSc Krylov solver starting to solve system.\n",
      "2022-01-07 20:29:41.767 (  22.242s) [main            ]       NewtonSolver.cpp:34    INFO| Newton iteration 8: r (abs) = 0.000321869 (tol = 1e-08) r (rel) = 3.82203e-06(tol = 1e-08)\n",
      "2022-01-07 20:29:41.957 (  22.433s) [main            ]              petsc.cpp:769   INFO| PETSc Krylov solver starting to solve system.\n",
      "2022-01-07 20:29:42.363 (  22.839s) [main            ]       NewtonSolver.cpp:34    INFO| Newton iteration 9: r (abs) = 2.63797e-07 (tol = 1e-08) r (rel) = 3.13245e-09(tol = 1e-08)\n",
      "2022-01-07 20:29:42.363 (  22.839s) [main            ]       NewtonSolver.cpp:250   INFO| Newton solver finished in 9 iterations and 9 linear solver iterations.\n"
     ]
    },
    {
     "data": {
      "application/vnd.jupyter.widget-view+json": {
       "model_id": "d3c0963ff0554592a3b7b10966901ec1",
       "version_major": 2,
       "version_minor": 0
      },
      "text/plain": [
       "AppLayout(children=(VBox(children=(HTML(value='<h3>u(4)</h3>'), Dropdown(description='Colormap:', options={'Br…"
      ]
     },
     "metadata": {},
     "output_type": "display_data"
    },
    {
     "name": "stderr",
     "output_type": "stream",
     "text": [
      "2022-01-07 20:29:42.620 (  23.096s) [main            ]              petsc.cpp:769   INFO| PETSc Krylov solver starting to solve system.\n",
      "2022-01-07 20:29:43.199 (  23.675s) [main            ]              petsc.cpp:769   INFO| PETSc Krylov solver starting to solve system.\n",
      "2022-01-07 20:29:43.586 (  24.061s) [main            ]       NewtonSolver.cpp:34    INFO| Newton iteration 2: r (abs) = 3.19462 (tol = 1e-08) r (rel) = 0.0496479(tol = 1e-08)\n",
      "2022-01-07 20:29:43.777 (  24.253s) [main            ]              petsc.cpp:769   INFO| PETSc Krylov solver starting to solve system.\n",
      "2022-01-07 20:29:44.166 (  24.642s) [main            ]       NewtonSolver.cpp:34    INFO| Newton iteration 3: r (abs) = 7.71429 (tol = 1e-08) r (rel) = 0.119888(tol = 1e-08)\n",
      "2022-01-07 20:29:44.356 (  24.832s) [main            ]              petsc.cpp:769   INFO| PETSc Krylov solver starting to solve system.\n",
      "2022-01-07 20:29:44.741 (  25.217s) [main            ]       NewtonSolver.cpp:34    INFO| Newton iteration 4: r (abs) = 0.850873 (tol = 1e-08) r (rel) = 0.0132235(tol = 1e-08)\n",
      "2022-01-07 20:29:44.932 (  25.407s) [main            ]              petsc.cpp:769   INFO| PETSc Krylov solver starting to solve system.\n",
      "2022-01-07 20:29:45.320 (  25.796s) [main            ]       NewtonSolver.cpp:34    INFO| Newton iteration 5: r (abs) = 0.371434 (tol = 1e-08) r (rel) = 0.0057725(tol = 1e-08)\n",
      "2022-01-07 20:29:45.509 (  25.985s) [main            ]              petsc.cpp:769   INFO| PETSc Krylov solver starting to solve system.\n",
      "2022-01-07 20:29:45.895 (  26.371s) [main            ]       NewtonSolver.cpp:34    INFO| Newton iteration 6: r (abs) = 0.00215066 (tol = 1e-08) r (rel) = 3.34236e-05(tol = 1e-08)\n",
      "2022-01-07 20:29:46.085 (  26.560s) [main            ]              petsc.cpp:769   INFO| PETSc Krylov solver starting to solve system.\n"
     ]
    },
    {
     "name": "stdout",
     "output_type": "stream",
     "text": [
      "Time step 5, Number of iterations 8, Load [ 0.   0.  -7.5]\n"
     ]
    },
    {
     "name": "stderr",
     "output_type": "stream",
     "text": [
      "2022-01-07 20:29:46.470 (  26.946s) [main            ]       NewtonSolver.cpp:34    INFO| Newton iteration 7: r (abs) = 2.54607e-06 (tol = 1e-08) r (rel) = 3.95687e-08(tol = 1e-08)\n",
      "2022-01-07 20:29:46.658 (  27.134s) [main            ]              petsc.cpp:769   INFO| PETSc Krylov solver starting to solve system.\n",
      "2022-01-07 20:29:47.049 (  27.524s) [main            ]       NewtonSolver.cpp:34    INFO| Newton iteration 8: r (abs) = 3.33871e-13 (tol = 1e-08) r (rel) = 5.18872e-15(tol = 1e-08)\n",
      "2022-01-07 20:29:47.049 (  27.524s) [main            ]       NewtonSolver.cpp:250   INFO| Newton solver finished in 8 iterations and 8 linear solver iterations.\n"
     ]
    },
    {
     "data": {
      "application/vnd.jupyter.widget-view+json": {
       "model_id": "ca74d752ba3d43fbb4dcb50d56822911",
       "version_major": 2,
       "version_minor": 0
      },
      "text/plain": [
       "AppLayout(children=(VBox(children=(HTML(value='<h3>u(5)</h3>'), Dropdown(description='Colormap:', options={'Br…"
      ]
     },
     "metadata": {},
     "output_type": "display_data"
    },
    {
     "name": "stderr",
     "output_type": "stream",
     "text": [
      "2022-01-07 20:29:47.302 (  27.777s) [main            ]              petsc.cpp:769   INFO| PETSc Krylov solver starting to solve system.\n",
      "2022-01-07 20:29:47.879 (  28.355s) [main            ]              petsc.cpp:769   INFO| PETSc Krylov solver starting to solve system.\n",
      "2022-01-07 20:29:48.266 (  28.741s) [main            ]       NewtonSolver.cpp:34    INFO| Newton iteration 2: r (abs) = 2.00649 (tol = 1e-08) r (rel) = 0.0395622(tol = 1e-08)\n",
      "2022-01-07 20:29:48.455 (  28.931s) [main            ]              petsc.cpp:769   INFO| PETSc Krylov solver starting to solve system.\n",
      "2022-01-07 20:29:48.847 (  29.323s) [main            ]       NewtonSolver.cpp:34    INFO| Newton iteration 3: r (abs) = 4.60977 (tol = 1e-08) r (rel) = 0.0908914(tol = 1e-08)\n",
      "2022-01-07 20:29:49.037 (  29.513s) [main            ]              petsc.cpp:769   INFO| PETSc Krylov solver starting to solve system.\n",
      "2022-01-07 20:29:49.419 (  29.894s) [main            ]       NewtonSolver.cpp:34    INFO| Newton iteration 4: r (abs) = 0.185372 (tol = 1e-08) r (rel) = 0.00365501(tol = 1e-08)\n",
      "2022-01-07 20:29:49.606 (  30.082s) [main            ]              petsc.cpp:769   INFO| PETSc Krylov solver starting to solve system.\n"
     ]
    },
    {
     "name": "stdout",
     "output_type": "stream",
     "text": [
      "Time step 6, Number of iterations 7, Load [ 0.  0. -9.]\n"
     ]
    },
    {
     "name": "stderr",
     "output_type": "stream",
     "text": [
      "2022-01-07 20:29:49.987 (  30.462s) [main            ]       NewtonSolver.cpp:34    INFO| Newton iteration 5: r (abs) = 0.024688 (tol = 1e-08) r (rel) = 0.000486777(tol = 1e-08)\n",
      "2022-01-07 20:29:50.177 (  30.653s) [main            ]              petsc.cpp:769   INFO| PETSc Krylov solver starting to solve system.\n",
      "2022-01-07 20:29:50.562 (  31.037s) [main            ]       NewtonSolver.cpp:34    INFO| Newton iteration 6: r (abs) = 5.69255e-06 (tol = 1e-08) r (rel) = 1.12241e-07(tol = 1e-08)\n",
      "2022-01-07 20:29:50.751 (  31.227s) [main            ]              petsc.cpp:769   INFO| PETSc Krylov solver starting to solve system.\n",
      "2022-01-07 20:29:51.138 (  31.614s) [main            ]       NewtonSolver.cpp:34    INFO| Newton iteration 7: r (abs) = 2.58918e-11 (tol = 1e-08) r (rel) = 5.10512e-13(tol = 1e-08)\n",
      "2022-01-07 20:29:51.138 (  31.614s) [main            ]       NewtonSolver.cpp:250   INFO| Newton solver finished in 7 iterations and 7 linear solver iterations.\n"
     ]
    },
    {
     "data": {
      "application/vnd.jupyter.widget-view+json": {
       "model_id": "f3b630e147254b8f85aed933a8bdfe00",
       "version_major": 2,
       "version_minor": 0
      },
      "text/plain": [
       "AppLayout(children=(VBox(children=(HTML(value='<h3>u(6)</h3>'), Dropdown(description='Colormap:', options={'Br…"
      ]
     },
     "metadata": {},
     "output_type": "display_data"
    },
    {
     "name": "stderr",
     "output_type": "stream",
     "text": [
      "2022-01-07 20:29:51.390 (  31.866s) [main            ]              petsc.cpp:769   INFO| PETSc Krylov solver starting to solve system.\n",
      "2022-01-07 20:29:51.959 (  32.435s) [main            ]              petsc.cpp:769   INFO| PETSc Krylov solver starting to solve system.\n",
      "2022-01-07 20:29:52.343 (  32.818s) [main            ]       NewtonSolver.cpp:34    INFO| Newton iteration 2: r (abs) = 1.38506 (tol = 1e-08) r (rel) = 0.0336622(tol = 1e-08)\n",
      "2022-01-07 20:29:52.531 (  33.007s) [main            ]              petsc.cpp:769   INFO| PETSc Krylov solver starting to solve system.\n",
      "2022-01-07 20:29:52.918 (  33.394s) [main            ]       NewtonSolver.cpp:34    INFO| Newton iteration 3: r (abs) = 3.03739 (tol = 1e-08) r (rel) = 0.07382(tol = 1e-08)\n",
      "2022-01-07 20:29:53.108 (  33.584s) [main            ]              petsc.cpp:769   INFO| PETSc Krylov solver starting to solve system.\n",
      "2022-01-07 20:29:53.490 (  33.966s) [main            ]       NewtonSolver.cpp:34    INFO| Newton iteration 4: r (abs) = 0.0412386 (tol = 1e-08) r (rel) = 0.00100225(tol = 1e-08)\n",
      "2022-01-07 20:29:53.682 (  34.158s) [main            ]              petsc.cpp:769   INFO| PETSc Krylov solver starting to solve system.\n"
     ]
    },
    {
     "name": "stdout",
     "output_type": "stream",
     "text": [
      "Time step 7, Number of iterations 6, Load [  0.    0.  -10.5]\n"
     ]
    },
    {
     "name": "stderr",
     "output_type": "stream",
     "text": [
      "2022-01-07 20:29:54.068 (  34.544s) [main            ]       NewtonSolver.cpp:34    INFO| Newton iteration 5: r (abs) = 0.00205057 (tol = 1e-08) r (rel) = 4.98364e-05(tol = 1e-08)\n",
      "2022-01-07 20:29:54.256 (  34.732s) [main            ]              petsc.cpp:769   INFO| PETSc Krylov solver starting to solve system.\n",
      "2022-01-07 20:29:54.640 (  35.115s) [main            ]       NewtonSolver.cpp:34    INFO| Newton iteration 6: r (abs) = 1.78867e-08 (tol = 1e-08) r (rel) = 4.34714e-10(tol = 1e-08)\n",
      "2022-01-07 20:29:54.640 (  35.115s) [main            ]       NewtonSolver.cpp:250   INFO| Newton solver finished in 6 iterations and 6 linear solver iterations.\n"
     ]
    },
    {
     "data": {
      "application/vnd.jupyter.widget-view+json": {
       "model_id": "db9bf709f61b42a9a4e9c66b0f045139",
       "version_major": 2,
       "version_minor": 0
      },
      "text/plain": [
       "AppLayout(children=(VBox(children=(HTML(value='<h3>u(7)</h3>'), Dropdown(description='Colormap:', options={'Br…"
      ]
     },
     "metadata": {},
     "output_type": "display_data"
    },
    {
     "name": "stderr",
     "output_type": "stream",
     "text": [
      "2022-01-07 20:29:54.887 (  35.363s) [main            ]              petsc.cpp:769   INFO| PETSc Krylov solver starting to solve system.\n",
      "2022-01-07 20:29:55.457 (  35.933s) [main            ]              petsc.cpp:769   INFO| PETSc Krylov solver starting to solve system.\n",
      "2022-01-07 20:29:55.844 (  36.320s) [main            ]       NewtonSolver.cpp:34    INFO| Newton iteration 2: r (abs) = 1.06336 (tol = 1e-08) r (rel) = 0.031085(tol = 1e-08)\n",
      "2022-01-07 20:29:56.034 (  36.509s) [main            ]              petsc.cpp:769   INFO| PETSc Krylov solver starting to solve system.\n",
      "2022-01-07 20:29:56.416 (  36.891s) [main            ]       NewtonSolver.cpp:34    INFO| Newton iteration 3: r (abs) = 2.0477 (tol = 1e-08) r (rel) = 0.0598598(tol = 1e-08)\n",
      "2022-01-07 20:29:56.605 (  37.081s) [main            ]              petsc.cpp:769   INFO| PETSc Krylov solver starting to solve system.\n"
     ]
    },
    {
     "name": "stdout",
     "output_type": "stream",
     "text": [
      "Time step 8, Number of iterations 6, Load [  0.   0. -12.]\n"
     ]
    },
    {
     "name": "stderr",
     "output_type": "stream",
     "text": [
      "2022-01-07 20:29:56.989 (  37.465s) [main            ]       NewtonSolver.cpp:34    INFO| Newton iteration 4: r (abs) = 0.00897719 (tol = 1e-08) r (rel) = 0.000262427(tol = 1e-08)\n",
      "2022-01-07 20:29:57.178 (  37.653s) [main            ]              petsc.cpp:769   INFO| PETSc Krylov solver starting to solve system.\n",
      "2022-01-07 20:29:57.561 (  38.036s) [main            ]       NewtonSolver.cpp:34    INFO| Newton iteration 5: r (abs) = 0.000167422 (tol = 1e-08) r (rel) = 4.89419e-06(tol = 1e-08)\n",
      "2022-01-07 20:29:57.751 (  38.226s) [main            ]              petsc.cpp:769   INFO| PETSc Krylov solver starting to solve system.\n",
      "2022-01-07 20:29:58.134 (  38.610s) [main            ]       NewtonSolver.cpp:34    INFO| Newton iteration 6: r (abs) = 3.25874e-11 (tol = 1e-08) r (rel) = 9.52617e-13(tol = 1e-08)\n",
      "2022-01-07 20:29:58.134 (  38.610s) [main            ]       NewtonSolver.cpp:250   INFO| Newton solver finished in 6 iterations and 6 linear solver iterations.\n"
     ]
    },
    {
     "data": {
      "application/vnd.jupyter.widget-view+json": {
       "model_id": "2543c604a99b42a0a54d5a90c1ad8949",
       "version_major": 2,
       "version_minor": 0
      },
      "text/plain": [
       "AppLayout(children=(VBox(children=(HTML(value='<h3>u(8)</h3>'), Dropdown(description='Colormap:', options={'Br…"
      ]
     },
     "metadata": {},
     "output_type": "display_data"
    },
    {
     "name": "stderr",
     "output_type": "stream",
     "text": [
      "2022-01-07 20:29:58.381 (  38.857s) [main            ]              petsc.cpp:769   INFO| PETSc Krylov solver starting to solve system.\n",
      "2022-01-07 20:29:59.001 (  39.476s) [main            ]              petsc.cpp:769   INFO| PETSc Krylov solver starting to solve system.\n",
      "2022-01-07 20:29:59.399 (  39.874s) [main            ]       NewtonSolver.cpp:34    INFO| Newton iteration 2: r (abs) = 0.898789 (tol = 1e-08) r (rel) = 0.0309666(tol = 1e-08)\n",
      "2022-01-07 20:29:59.591 (  40.067s) [main            ]              petsc.cpp:769   INFO| PETSc Krylov solver starting to solve system.\n"
     ]
    },
    {
     "name": "stdout",
     "output_type": "stream",
     "text": [
      "Time step 9, Number of iterations 6, Load [  0.    0.  -13.5]\n"
     ]
    },
    {
     "name": "stderr",
     "output_type": "stream",
     "text": [
      "2022-01-07 20:29:59.974 (  40.449s) [main            ]       NewtonSolver.cpp:34    INFO| Newton iteration 3: r (abs) = 1.38354 (tol = 1e-08) r (rel) = 0.0476679(tol = 1e-08)\n",
      "2022-01-07 20:30:00.163 (  40.638s) [main            ]              petsc.cpp:769   INFO| PETSc Krylov solver starting to solve system.\n",
      "2022-01-07 20:30:00.542 (  41.018s) [main            ]       NewtonSolver.cpp:34    INFO| Newton iteration 4: r (abs) = 0.00185096 (tol = 1e-08) r (rel) = 6.37724e-05(tol = 1e-08)\n",
      "2022-01-07 20:30:00.728 (  41.204s) [main            ]              petsc.cpp:769   INFO| PETSc Krylov solver starting to solve system.\n",
      "2022-01-07 20:30:01.113 (  41.589s) [main            ]       NewtonSolver.cpp:34    INFO| Newton iteration 5: r (abs) = 7.87183e-06 (tol = 1e-08) r (rel) = 2.71213e-07(tol = 1e-08)\n",
      "2022-01-07 20:30:01.301 (  41.777s) [main            ]              petsc.cpp:769   INFO| PETSc Krylov solver starting to solve system.\n",
      "2022-01-07 20:30:01.682 (  42.158s) [main            ]       NewtonSolver.cpp:34    INFO| Newton iteration 6: r (abs) = 7.21799e-13 (tol = 1e-08) r (rel) = 2.48686e-14(tol = 1e-08)\n",
      "2022-01-07 20:30:01.682 (  42.158s) [main            ]       NewtonSolver.cpp:250   INFO| Newton solver finished in 6 iterations and 6 linear solver iterations.\n"
     ]
    },
    {
     "data": {
      "application/vnd.jupyter.widget-view+json": {
       "model_id": "3e78ae95978744c5b1c73f4ae88ea1de",
       "version_major": 2,
       "version_minor": 0
      },
      "text/plain": [
       "AppLayout(children=(VBox(children=(HTML(value='<h3>u(9)</h3>'), Dropdown(description='Colormap:', options={'Br…"
      ]
     },
     "metadata": {},
     "output_type": "display_data"
    }
   ],
   "source": [
    "from dolfinx.log import set_log_level, LogLevel\n",
    "set_log_level(LogLevel.INFO)\n",
    "tval0 = -1.5\n",
    "for n in range(1, 10):\n",
    "    T.value[2] = n * tval0\n",
    "    num_its, converged = solver.solve(u)\n",
    "    assert(converged)\n",
    "    u.x.scatter_forward()\n",
    "    print(f\"Time step {n}, Number of iterations {num_its}, Load {T.value}\")\n",
    "    plot_function(n, u)"
   ]
  },
  {
   "cell_type": "code",
   "execution_count": null,
   "id": "eligible-chambers",
   "metadata": {},
   "outputs": [],
   "source": []
  }
 ],
 "metadata": {
  "kernelspec": {
   "display_name": "Python 3 (ipykernel)",
   "language": "python",
   "name": "python3"
  },
  "language_info": {
   "codemirror_mode": {
    "name": "ipython",
    "version": 3
   },
   "file_extension": ".py",
   "mimetype": "text/x-python",
   "name": "python",
   "nbconvert_exporter": "python",
   "pygments_lexer": "ipython3",
   "version": "3.9.7"
  }
 },
 "nbformat": 4,
 "nbformat_minor": 5
}
