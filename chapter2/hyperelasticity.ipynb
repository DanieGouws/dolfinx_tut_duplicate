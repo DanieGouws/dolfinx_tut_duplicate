{
 "cells": [
  {
   "cell_type": "markdown",
   "id": "908815e6-cdac-4915-bf52-5578f978d2e7",
   "metadata": {},
   "source": [
    "# Hyperelasticity\n",
    "Author: Jørgen S. Dokken and Garth N. Wells\n",
    "\n",
    "This section shows how to solve the hyperelasticity problem for deformation of a beam.\n",
    "\n",
    "We will also show how to create a constant boundary condition for a vector function space.\n",
    "\n",
    "We start by importing DOLFINx and some additional dependencies.\n",
    "Then, we create a slender cantilever consisting of hexahedral elements and create the function space `V` for our unknown."
   ]
  },
  {
   "cell_type": "code",
   "execution_count": 1,
   "id": "optional-cameroon",
   "metadata": {
    "tags": []
   },
   "outputs": [],
   "source": [
    "from dolfinx import log, default_scalar_type\n",
    "from dolfinx.fem.petsc import NonlinearProblem\n",
    "from dolfinx.nls.petsc import NewtonSolver\n",
    "import matplotlib.pyplot as plt\n",
    "import pyvista\n",
    "from dolfinx import nls\n",
    "import numpy as np\n",
    "import ufl\n",
    "\n",
    "from mpi4py import MPI\n",
    "from dolfinx import fem, mesh, plot\n",
    "L = 20.0\n",
    "domain = mesh.create_box(MPI.COMM_WORLD, [[0.0, 0.0, 0.0], [L, 1, 1]], [20, 5, 5], mesh.CellType.hexahedron)\n",
    "V = fem.VectorFunctionSpace(domain, (\"Lagrange\", 2))"
   ]
  },
  {
   "cell_type": "markdown",
   "id": "streaming-neutral",
   "metadata": {},
   "source": [
    "We create two python functions for determining the facets to apply boundary conditions to"
   ]
  },
  {
   "cell_type": "code",
   "execution_count": 2,
   "id": "major-factor",
   "metadata": {},
   "outputs": [],
   "source": [
    "def left(x):\n",
    "    return np.isclose(x[0], 0)\n",
    "\n",
    "\n",
    "def right(x):\n",
    "    return np.isclose(x[0], L)\n",
    "\n",
    "\n",
    "fdim = domain.topology.dim - 1\n",
    "left_facets = mesh.locate_entities_boundary(domain, fdim, left)\n",
    "right_facets = mesh.locate_entities_boundary(domain, fdim, right)"
   ]
  },
  {
   "cell_type": "markdown",
   "id": "figured-world",
   "metadata": {},
   "source": [
    "Next, we create a  marker based on these two functions"
   ]
  },
  {
   "cell_type": "code",
   "execution_count": 3,
   "id": "dated-india",
   "metadata": {},
   "outputs": [],
   "source": [
    "# Concatenate and sort the arrays based on facet indices. Left facets marked with 1, right facets with two\n",
    "marked_facets = np.hstack([left_facets, right_facets])\n",
    "marked_values = np.hstack([np.full_like(left_facets, 1), np.full_like(right_facets, 2)])\n",
    "sorted_facets = np.argsort(marked_facets)\n",
    "facet_tag = mesh.meshtags(domain, fdim, marked_facets[sorted_facets], marked_values[sorted_facets])"
   ]
  },
  {
   "cell_type": "markdown",
   "id": "renewable-glossary",
   "metadata": {},
   "source": [
    "We then create a function for supplying the boundary condition on the left side, which is fixed."
   ]
  },
  {
   "cell_type": "code",
   "execution_count": 4,
   "id": "confidential-french",
   "metadata": {},
   "outputs": [],
   "source": [
    "u_bc = np.array((0,) * domain.geometry.dim, dtype=default_scalar_type)"
   ]
  },
  {
   "cell_type": "markdown",
   "id": "musical-documentation",
   "metadata": {},
   "source": [
    "To apply the boundary condition, we identity the dofs located on the facets marked by the `MeshTag`."
   ]
  },
  {
   "cell_type": "code",
   "execution_count": 5,
   "id": "written-monster",
   "metadata": {},
   "outputs": [],
   "source": [
    "left_dofs = fem.locate_dofs_topological(V, facet_tag.dim, facet_tag.find(1))\n",
    "bcs = [fem.dirichletbc(u_bc, left_dofs, V)]"
   ]
  },
  {
   "cell_type": "markdown",
   "id": "indoor-chester",
   "metadata": {},
   "source": [
    "Next, we define the body force on the reference configuration (`B`), and nominal (first Piola-Kirchhoff) traction (`T`)."
   ]
  },
  {
   "cell_type": "code",
   "execution_count": 6,
   "id": "korean-carol",
   "metadata": {},
   "outputs": [],
   "source": [
    "B = fem.Constant(domain, default_scalar_type((0, 0, 0)))\n",
    "T = fem.Constant(domain, default_scalar_type((0, 0, 0)))"
   ]
  },
  {
   "cell_type": "markdown",
   "id": "blond-dynamics",
   "metadata": {},
   "source": [
    "Define the test and solution functions on the space $V$"
   ]
  },
  {
   "cell_type": "code",
   "execution_count": 7,
   "id": "vocational-experiment",
   "metadata": {},
   "outputs": [],
   "source": [
    "v = ufl.TestFunction(V)\n",
    "u = fem.Function(V)"
   ]
  },
  {
   "cell_type": "markdown",
   "id": "bright-belle",
   "metadata": {},
   "source": [
    "Define kinematic quantities used in the problem"
   ]
  },
  {
   "cell_type": "code",
   "execution_count": 8,
   "id": "vertical-original",
   "metadata": {},
   "outputs": [],
   "source": [
    "# Spatial dimension\n",
    "d = len(u)\n",
    "\n",
    "# Identity tensor\n",
    "I = ufl.variable(ufl.Identity(d))\n",
    "\n",
    "# Deformation gradient\n",
    "F = ufl.variable(I + ufl.grad(u))\n",
    "\n",
    "# Right Cauchy-Green tensor\n",
    "C = ufl.variable(F.T * F)\n",
    "\n",
    "# Invariants of deformation tensors\n",
    "Ic = ufl.variable(ufl.tr(C))\n",
    "J = ufl.variable(ufl.det(F))"
   ]
  },
  {
   "cell_type": "markdown",
   "id": "respiratory-compromise",
   "metadata": {},
   "source": [
    "Define the elasticity model via a stored strain energy density function $\\psi$, and create the expression for the first Piola-Kirchhoff stress:"
   ]
  },
  {
   "cell_type": "code",
   "execution_count": 9,
   "id": "incorrect-hello",
   "metadata": {},
   "outputs": [],
   "source": [
    "# Elasticity parameters\n",
    "E = default_scalar_type(1.0e4)\n",
    "nu = default_scalar_type(0.3)\n",
    "mu = fem.Constant(domain, E / (2 * (1 + nu)))\n",
    "lmbda = fem.Constant(domain, E * nu / ((1 + nu) * (1 - 2 * nu)))\n",
    "# Stored strain energy density (compressible neo-Hookean model)\n",
    "psi = (mu / 2) * (Ic - 3) - mu * ufl.ln(J) + (lmbda / 2) * (ufl.ln(J))**2\n",
    "# Stress\n",
    "# Hyper-elasticity\n",
    "P = ufl.diff(psi, F)"
   ]
  },
  {
   "cell_type": "markdown",
   "id": "grateful-battlefield",
   "metadata": {},
   "source": [
    "```{admonition} Comparison to linear elasticity\n",
    "To illustrate the difference between linear and hyperelasticity, the following lines can be uncommented to solve the linear elasticity problem.\n",
    "```"
   ]
  },
  {
   "cell_type": "code",
   "execution_count": 10,
   "id": "imperial-jurisdiction",
   "metadata": {},
   "outputs": [],
   "source": [
    "# P = 2.0 * mu * ufl.sym(ufl.grad(u)) + lmbda * ufl.tr(ufl.sym(ufl.grad(u))) * I"
   ]
  },
  {
   "cell_type": "markdown",
   "id": "alleged-genesis",
   "metadata": {},
   "source": [
    "Define the variational form with traction integral over all facets with value 2. We set the quadrature degree for the integrals to 4."
   ]
  },
  {
   "cell_type": "code",
   "execution_count": 11,
   "id": "recognized-conclusion",
   "metadata": {},
   "outputs": [],
   "source": [
    "metadata = {\"quadrature_degree\": 4}\n",
    "ds = ufl.Measure('ds', domain=domain, subdomain_data=facet_tag, metadata=metadata)\n",
    "dx = ufl.Measure(\"dx\", domain=domain, metadata=metadata)\n",
    "# Define form F (we want to find u such that F(u) = 0)\n",
    "F = ufl.inner(ufl.grad(v), P) * dx - ufl.inner(v, B) * dx - ufl.inner(v, T) * ds(2)"
   ]
  },
  {
   "cell_type": "markdown",
   "id": "historic-sherman",
   "metadata": {},
   "source": [
    "As the varitional form is non-linear and written on residual form, we use the non-linear problem class from DOLFINx to set up required structures to use a Newton solver."
   ]
  },
  {
   "cell_type": "code",
   "execution_count": 12,
   "id": "threatened-devices",
   "metadata": {},
   "outputs": [],
   "source": [
    "problem = NonlinearProblem(F, u, bcs)"
   ]
  },
  {
   "cell_type": "markdown",
   "id": "qualified-phrase",
   "metadata": {},
   "source": [
    "and then create and customize the Newton solver"
   ]
  },
  {
   "cell_type": "code",
   "execution_count": 13,
   "id": "special-globe",
   "metadata": {},
   "outputs": [],
   "source": [
    "solver = NewtonSolver(domain.comm, problem)\n",
    "\n",
    "# Set Newton solver options\n",
    "solver.atol = 1e-8\n",
    "solver.rtol = 1e-8\n",
    "solver.convergence_criterion = \"incremental\"\n"
   ]
  },
  {
   "cell_type": "markdown",
   "id": "marked-hungary",
   "metadata": {},
   "source": [
    "We create a function to plot the solution at each time step."
   ]
  },
  {
   "cell_type": "code",
   "execution_count": 14,
   "id": "noble-perception",
   "metadata": {},
   "outputs": [],
   "source": [
    "pyvista.start_xvfb()\n",
    "plotter = pyvista.Plotter()\n",
    "plotter.open_gif(\"deformation.gif\", fps=3)\n",
    "\n",
    "topology, cells, geometry = plot.create_vtk_mesh(u.function_space)\n",
    "function_grid = pyvista.UnstructuredGrid(topology, cells, geometry)\n",
    "\n",
    "values = np.zeros((geometry.shape[0], 3))\n",
    "values[:, :len(u)] = u.x.array.reshape(geometry.shape[0], len(u))\n",
    "function_grid[\"u\"] = values\n",
    "function_grid.set_active_vectors(\"u\")\n",
    "\n",
    "# Warp mesh by deformation\n",
    "warped = function_grid.warp_by_vector(\"u\", factor=1)\n",
    "warped.set_active_vectors(\"u\")\n",
    "\n",
    "# Add mesh to plotter and visualize\n",
    "actor = plotter.add_mesh(warped, show_edges=True, lighting=False, clim=[0, 10])\n",
    "\n",
    "# Compute magnitude of displacement to visualize in GIF\n",
    "Vs = fem.FunctionSpace(domain, (\"Lagrange\", 2))\n",
    "magnitude = fem.Function(Vs)\n",
    "us = fem.Expression(ufl.sqrt(sum([u[i]**2 for i in range(len(u))])), Vs.element.interpolation_points())\n",
    "magnitude.interpolate(us)\n",
    "warped[\"mag\"] = magnitude.x.array"
   ]
  },
  {
   "cell_type": "markdown",
   "id": "nasty-entertainment",
   "metadata": {},
   "source": [
    "Finally, we solve the problem over several time steps, updating the y-component of the traction"
   ]
  },
  {
   "cell_type": "code",
   "execution_count": 15,
   "id": "vanilla-referral",
   "metadata": {},
   "outputs": [
    {
     "name": "stderr",
     "output_type": "stream",
     "text": [
      "2023-07-05 12:49:44.484 (   5.121s) [main            ]              petsc.cpp:698   INFO| PETSc Krylov solver starting to solve system.\n",
      "2023-07-05 12:49:44.782 (   5.419s) [main            ]         TimeLogger.cpp:28    INFO| Elapsed wall, usr, sys time: 0.297925, 0.240000, 0.050000 (PETSc Krylov solver)\n",
      "2023-07-05 12:49:44.893 (   5.529s) [main            ]              petsc.cpp:698   INFO| PETSc Krylov solver starting to solve system.\n",
      "2023-07-05 12:49:45.123 (   5.759s) [main            ]         TimeLogger.cpp:28    INFO| Elapsed wall, usr, sys time: 0.230006, 0.210000, 0.030000 (PETSc Krylov solver)\n",
      "2023-07-05 12:49:45.129 (   5.765s) [main            ]       NewtonSolver.cpp:36    INFO| Newton iteration 2: r (abs) = 22.2455 (tol = 1e-08) r (rel) = 0.134278(tol = 1e-08)\n",
      "2023-07-05 12:49:45.234 (   5.870s) [main            ]              petsc.cpp:698   INFO| PETSc Krylov solver starting to solve system.\n",
      "2023-07-05 12:49:45.460 (   6.096s) [main            ]         TimeLogger.cpp:28    INFO| Elapsed wall, usr, sys time: 0.226142, 0.180000, 0.040000 (PETSc Krylov solver)\n",
      "2023-07-05 12:49:45.466 (   6.103s) [main            ]       NewtonSolver.cpp:36    INFO| Newton iteration 3: r (abs) = 2.43261 (tol = 1e-08) r (rel) = 0.0146837(tol = 1e-08)\n",
      "2023-07-05 12:49:45.579 (   6.215s) [main            ]              petsc.cpp:698   INFO| PETSc Krylov solver starting to solve system.\n",
      "2023-07-05 12:49:45.831 (   6.467s) [main            ]         TimeLogger.cpp:28    INFO| Elapsed wall, usr, sys time: 0.251637, 0.220000, 0.040000 (PETSc Krylov solver)\n",
      "2023-07-05 12:49:45.836 (   6.472s) [main            ]       NewtonSolver.cpp:36    INFO| Newton iteration 4: r (abs) = 4.43158 (tol = 1e-08) r (rel) = 0.0267498(tol = 1e-08)\n",
      "2023-07-05 12:49:45.944 (   6.580s) [main            ]              petsc.cpp:698   INFO| PETSc Krylov solver starting to solve system.\n",
      "2023-07-05 12:49:46.205 (   6.841s) [main            ]         TimeLogger.cpp:28    INFO| Elapsed wall, usr, sys time: 0.261538, 0.230000, 0.020000 (PETSc Krylov solver)\n",
      "2023-07-05 12:49:46.210 (   6.847s) [main            ]       NewtonSolver.cpp:36    INFO| Newton iteration 5: r (abs) = 0.144189 (tol = 1e-08) r (rel) = 0.000870353(tol = 1e-08)\n",
      "2023-07-05 12:49:46.317 (   6.953s) [main            ]              petsc.cpp:698   INFO| PETSc Krylov solver starting to solve system.\n",
      "2023-07-05 12:49:46.541 (   7.177s) [main            ]         TimeLogger.cpp:28    INFO| Elapsed wall, usr, sys time: 0.224434, 0.190000, 0.040000 (PETSc Krylov solver)\n",
      "2023-07-05 12:49:46.546 (   7.182s) [main            ]       NewtonSolver.cpp:36    INFO| Newton iteration 6: r (abs) = 0.021424 (tol = 1e-08) r (rel) = 0.000129319(tol = 1e-08)\n",
      "2023-07-05 12:49:46.654 (   7.291s) [main            ]              petsc.cpp:698   INFO| PETSc Krylov solver starting to solve system.\n",
      "2023-07-05 12:49:46.904 (   7.541s) [main            ]         TimeLogger.cpp:28    INFO| Elapsed wall, usr, sys time: 0.250054, 0.230000, 0.020000 (PETSc Krylov solver)\n",
      "2023-07-05 12:49:46.910 (   7.546s) [main            ]       NewtonSolver.cpp:36    INFO| Newton iteration 7: r (abs) = 4.80065e-06 (tol = 1e-08) r (rel) = 2.89777e-08(tol = 1e-08)\n",
      "2023-07-05 12:49:47.021 (   7.657s) [main            ]              petsc.cpp:698   INFO| PETSc Krylov solver starting to solve system.\n",
      "2023-07-05 12:49:47.275 (   7.911s) [main            ]         TimeLogger.cpp:28    INFO| Elapsed wall, usr, sys time: 0.253648, 0.240000, 0.020000 (PETSc Krylov solver)\n",
      "2023-07-05 12:49:47.280 (   7.916s) [main            ]       NewtonSolver.cpp:36    INFO| Newton iteration 8: r (abs) = 2.64761e-11 (tol = 1e-08) r (rel) = 1.59815e-13(tol = 1e-08)\n",
      "2023-07-05 12:49:47.280 (   7.916s) [main            ]       NewtonSolver.cpp:255   INFO| Newton solver finished in 8 iterations and 8 linear solver iterations.\n"
     ]
    },
    {
     "name": "stdout",
     "output_type": "stream",
     "text": [
      "Time step 1, Number of iterations 8, Load [ 0.   0.  -1.5]\n"
     ]
    },
    {
     "name": "stderr",
     "output_type": "stream",
     "text": [
      "2023-07-05 12:49:47.477 (   8.113s) [main            ]              petsc.cpp:698   INFO| PETSc Krylov solver starting to solve system.\n",
      "2023-07-05 12:49:47.708 (   8.345s) [main            ]         TimeLogger.cpp:28    INFO| Elapsed wall, usr, sys time: 0.231524, 0.210000, 0.030000 (PETSc Krylov solver)\n",
      "2023-07-05 12:49:47.822 (   8.458s) [main            ]              petsc.cpp:698   INFO| PETSc Krylov solver starting to solve system.\n",
      "2023-07-05 12:49:48.050 (   8.687s) [main            ]         TimeLogger.cpp:28    INFO| Elapsed wall, usr, sys time: 0.228604, 0.210000, 0.020000 (PETSc Krylov solver)\n",
      "2023-07-05 12:49:48.055 (   8.692s) [main            ]       NewtonSolver.cpp:36    INFO| Newton iteration 2: r (abs) = 17.3254 (tol = 1e-08) r (rel) = 0.117842(tol = 1e-08)\n",
      "2023-07-05 12:49:48.164 (   8.801s) [main            ]              petsc.cpp:698   INFO| PETSc Krylov solver starting to solve system.\n",
      "2023-07-05 12:49:48.393 (   9.029s) [main            ]         TimeLogger.cpp:28    INFO| Elapsed wall, usr, sys time: 0.228288, 0.210000, 0.020000 (PETSc Krylov solver)\n",
      "2023-07-05 12:49:48.398 (   9.034s) [main            ]       NewtonSolver.cpp:36    INFO| Newton iteration 3: r (abs) = 5.14882 (tol = 1e-08) r (rel) = 0.0350207(tol = 1e-08)\n",
      "2023-07-05 12:49:48.508 (   9.144s) [main            ]              petsc.cpp:698   INFO| PETSc Krylov solver starting to solve system.\n",
      "2023-07-05 12:49:48.749 (   9.386s) [main            ]         TimeLogger.cpp:28    INFO| Elapsed wall, usr, sys time: 0.241058, 0.200000, 0.050000 (PETSc Krylov solver)\n",
      "2023-07-05 12:49:48.754 (   9.391s) [main            ]       NewtonSolver.cpp:36    INFO| Newton iteration 4: r (abs) = 7.24003 (tol = 1e-08) r (rel) = 0.0492445(tol = 1e-08)\n",
      "2023-07-05 12:49:48.864 (   9.500s) [main            ]              petsc.cpp:698   INFO| PETSc Krylov solver starting to solve system.\n",
      "2023-07-05 12:49:49.096 (   9.733s) [main            ]         TimeLogger.cpp:28    INFO| Elapsed wall, usr, sys time: 0.232330, 0.200000, 0.030000 (PETSc Krylov solver)\n",
      "2023-07-05 12:49:49.102 (   9.738s) [main            ]       NewtonSolver.cpp:36    INFO| Newton iteration 5: r (abs) = 0.777889 (tol = 1e-08) r (rel) = 0.00529096(tol = 1e-08)\n",
      "2023-07-05 12:49:49.212 (   9.849s) [main            ]              petsc.cpp:698   INFO| PETSc Krylov solver starting to solve system.\n",
      "2023-07-05 12:49:49.439 (  10.075s) [main            ]         TimeLogger.cpp:28    INFO| Elapsed wall, usr, sys time: 0.226751, 0.200000, 0.030000 (PETSc Krylov solver)\n",
      "2023-07-05 12:49:49.444 (  10.081s) [main            ]       NewtonSolver.cpp:36    INFO| Newton iteration 6: r (abs) = 1.25525 (tol = 1e-08) r (rel) = 0.00853785(tol = 1e-08)\n",
      "2023-07-05 12:49:49.555 (  10.191s) [main            ]              petsc.cpp:698   INFO| PETSc Krylov solver starting to solve system.\n",
      "2023-07-05 12:49:49.788 (  10.425s) [main            ]         TimeLogger.cpp:28    INFO| Elapsed wall, usr, sys time: 0.233576, 0.210000, 0.020000 (PETSc Krylov solver)\n",
      "2023-07-05 12:49:49.794 (  10.430s) [main            ]       NewtonSolver.cpp:36    INFO| Newton iteration 7: r (abs) = 0.00849512 (tol = 1e-08) r (rel) = 5.77813e-05(tol = 1e-08)\n",
      "2023-07-05 12:49:49.905 (  10.541s) [main            ]              petsc.cpp:698   INFO| PETSc Krylov solver starting to solve system.\n",
      "2023-07-05 12:49:50.144 (  10.781s) [main            ]         TimeLogger.cpp:28    INFO| Elapsed wall, usr, sys time: 0.239504, 0.210000, 0.030000 (PETSc Krylov solver)\n",
      "2023-07-05 12:49:50.150 (  10.786s) [main            ]       NewtonSolver.cpp:36    INFO| Newton iteration 8: r (abs) = 0.000192107 (tol = 1e-08) r (rel) = 1.30665e-06(tol = 1e-08)\n",
      "2023-07-05 12:49:50.261 (  10.897s) [main            ]              petsc.cpp:698   INFO| PETSc Krylov solver starting to solve system.\n",
      "2023-07-05 12:49:50.490 (  11.127s) [main            ]         TimeLogger.cpp:28    INFO| Elapsed wall, usr, sys time: 0.229071, 0.190000, 0.040000 (PETSc Krylov solver)\n",
      "2023-07-05 12:49:50.496 (  11.132s) [main            ]       NewtonSolver.cpp:36    INFO| Newton iteration 9: r (abs) = 1.69847e-10 (tol = 1e-08) r (rel) = 1.15525e-12(tol = 1e-08)\n",
      "2023-07-05 12:49:50.496 (  11.132s) [main            ]       NewtonSolver.cpp:255   INFO| Newton solver finished in 9 iterations and 9 linear solver iterations.\n",
      "2023-07-05 12:49:50.628 (  11.265s) [main            ]              petsc.cpp:698   INFO| PETSc Krylov solver starting to solve system.\n"
     ]
    },
    {
     "name": "stdout",
     "output_type": "stream",
     "text": [
      "Time step 2, Number of iterations 9, Load [ 0.  0. -3.]\n"
     ]
    },
    {
     "name": "stderr",
     "output_type": "stream",
     "text": [
      "2023-07-05 12:49:50.862 (  11.498s) [main            ]         TimeLogger.cpp:28    INFO| Elapsed wall, usr, sys time: 0.233915, 0.210000, 0.030000 (PETSc Krylov solver)\n",
      "2023-07-05 12:49:50.984 (  11.621s) [main            ]              petsc.cpp:698   INFO| PETSc Krylov solver starting to solve system.\n",
      "2023-07-05 12:49:51.226 (  11.862s) [main            ]         TimeLogger.cpp:28    INFO| Elapsed wall, usr, sys time: 0.241826, 0.210000, 0.020000 (PETSc Krylov solver)\n",
      "2023-07-05 12:49:51.232 (  11.868s) [main            ]       NewtonSolver.cpp:36    INFO| Newton iteration 2: r (abs) = 10.0011 (tol = 1e-08) r (rel) = 0.0887471(tol = 1e-08)\n",
      "2023-07-05 12:49:51.343 (  11.979s) [main            ]              petsc.cpp:698   INFO| PETSc Krylov solver starting to solve system.\n",
      "2023-07-05 12:49:51.597 (  12.233s) [main            ]         TimeLogger.cpp:28    INFO| Elapsed wall, usr, sys time: 0.253656, 0.230000, 0.020000 (PETSc Krylov solver)\n",
      "2023-07-05 12:49:51.603 (  12.240s) [main            ]       NewtonSolver.cpp:36    INFO| Newton iteration 3: r (abs) = 5.33026 (tol = 1e-08) r (rel) = 0.0472992(tol = 1e-08)\n",
      "2023-07-05 12:49:51.730 (  12.367s) [main            ]              petsc.cpp:698   INFO| PETSc Krylov solver starting to solve system.\n",
      "2023-07-05 12:49:52.001 (  12.637s) [main            ]         TimeLogger.cpp:28    INFO| Elapsed wall, usr, sys time: 0.270521, 0.240000, 0.040000 (PETSc Krylov solver)\n",
      "2023-07-05 12:49:52.009 (  12.646s) [main            ]       NewtonSolver.cpp:36    INFO| Newton iteration 4: r (abs) = 11.9901 (tol = 1e-08) r (rel) = 0.106397(tol = 1e-08)\n",
      "2023-07-05 12:49:52.132 (  12.769s) [main            ]              petsc.cpp:698   INFO| PETSc Krylov solver starting to solve system.\n",
      "2023-07-05 12:49:52.375 (  13.012s) [main            ]         TimeLogger.cpp:28    INFO| Elapsed wall, usr, sys time: 0.243169, 0.210000, 0.040000 (PETSc Krylov solver)\n",
      "2023-07-05 12:49:52.383 (  13.019s) [main            ]       NewtonSolver.cpp:36    INFO| Newton iteration 5: r (abs) = 2.29702 (tol = 1e-08) r (rel) = 0.0203831(tol = 1e-08)\n",
      "2023-07-05 12:49:52.495 (  13.131s) [main            ]              petsc.cpp:698   INFO| PETSc Krylov solver starting to solve system.\n",
      "2023-07-05 12:49:52.733 (  13.369s) [main            ]         TimeLogger.cpp:28    INFO| Elapsed wall, usr, sys time: 0.237846, 0.210000, 0.030000 (PETSc Krylov solver)\n",
      "2023-07-05 12:49:52.739 (  13.375s) [main            ]       NewtonSolver.cpp:36    INFO| Newton iteration 6: r (abs) = 3.90234 (tol = 1e-08) r (rel) = 0.0346282(tol = 1e-08)\n",
      "2023-07-05 12:49:52.851 (  13.487s) [main            ]              petsc.cpp:698   INFO| PETSc Krylov solver starting to solve system.\n",
      "2023-07-05 12:49:53.108 (  13.744s) [main            ]         TimeLogger.cpp:28    INFO| Elapsed wall, usr, sys time: 0.256874, 0.200000, 0.050000 (PETSc Krylov solver)\n",
      "2023-07-05 12:49:53.114 (  13.750s) [main            ]       NewtonSolver.cpp:36    INFO| Newton iteration 7: r (abs) = 0.236535 (tol = 1e-08) r (rel) = 0.00209895(tol = 1e-08)\n"
     ]
    },
    {
     "name": "stdout",
     "output_type": "stream",
     "text": [
      "Time step 3, Number of iterations 10, Load [ 0.   0.  -4.5]\n"
     ]
    },
    {
     "name": "stderr",
     "output_type": "stream",
     "text": [
      "2023-07-05 12:49:53.230 (  13.867s) [main            ]              petsc.cpp:698   INFO| PETSc Krylov solver starting to solve system.\n",
      "2023-07-05 12:49:53.468 (  14.104s) [main            ]         TimeLogger.cpp:28    INFO| Elapsed wall, usr, sys time: 0.237286, 0.210000, 0.040000 (PETSc Krylov solver)\n",
      "2023-07-05 12:49:53.474 (  14.110s) [main            ]       NewtonSolver.cpp:36    INFO| Newton iteration 8: r (abs) = 0.0427142 (tol = 1e-08) r (rel) = 0.000379034(tol = 1e-08)\n",
      "2023-07-05 12:49:53.585 (  14.221s) [main            ]              petsc.cpp:698   INFO| PETSc Krylov solver starting to solve system.\n",
      "2023-07-05 12:49:53.822 (  14.458s) [main            ]         TimeLogger.cpp:28    INFO| Elapsed wall, usr, sys time: 0.236977, 0.230000, 0.010000 (PETSc Krylov solver)\n",
      "2023-07-05 12:49:53.827 (  14.463s) [main            ]       NewtonSolver.cpp:36    INFO| Newton iteration 9: r (abs) = 2.87798e-05 (tol = 1e-08) r (rel) = 2.55384e-07(tol = 1e-08)\n",
      "2023-07-05 12:49:53.938 (  14.575s) [main            ]              petsc.cpp:698   INFO| PETSc Krylov solver starting to solve system.\n",
      "2023-07-05 12:49:54.173 (  14.809s) [main            ]         TimeLogger.cpp:28    INFO| Elapsed wall, usr, sys time: 0.234200, 0.220000, 0.010000 (PETSc Krylov solver)\n",
      "2023-07-05 12:49:54.178 (  14.815s) [main            ]       NewtonSolver.cpp:36    INFO| Newton iteration 10: r (abs) = 6.08645e-10 (tol = 1e-08) r (rel) = 5.40094e-12(tol = 1e-08)\n",
      "2023-07-05 12:49:54.178 (  14.815s) [main            ]       NewtonSolver.cpp:255   INFO| Newton solver finished in 10 iterations and 10 linear solver iterations.\n",
      "2023-07-05 12:49:54.315 (  14.951s) [main            ]              petsc.cpp:698   INFO| PETSc Krylov solver starting to solve system.\n",
      "2023-07-05 12:49:54.556 (  15.192s) [main            ]         TimeLogger.cpp:28    INFO| Elapsed wall, usr, sys time: 0.240922, 0.210000, 0.040000 (PETSc Krylov solver)\n",
      "2023-07-05 12:49:54.674 (  15.311s) [main            ]              petsc.cpp:698   INFO| PETSc Krylov solver starting to solve system.\n",
      "2023-07-05 12:49:54.909 (  15.546s) [main            ]         TimeLogger.cpp:28    INFO| Elapsed wall, usr, sys time: 0.234865, 0.200000, 0.040000 (PETSc Krylov solver)\n",
      "2023-07-05 12:49:54.915 (  15.551s) [main            ]       NewtonSolver.cpp:36    INFO| Newton iteration 2: r (abs) = 5.50693 (tol = 1e-08) r (rel) = 0.0653918(tol = 1e-08)\n",
      "2023-07-05 12:49:55.027 (  15.663s) [main            ]              petsc.cpp:698   INFO| PETSc Krylov solver starting to solve system.\n",
      "2023-07-05 12:49:55.264 (  15.901s) [main            ]         TimeLogger.cpp:28    INFO| Elapsed wall, usr, sys time: 0.237351, 0.200000, 0.040000 (PETSc Krylov solver)\n",
      "2023-07-05 12:49:55.270 (  15.906s) [main            ]       NewtonSolver.cpp:36    INFO| Newton iteration 3: r (abs) = 26.2489 (tol = 1e-08) r (rel) = 0.311692(tol = 1e-08)\n",
      "2023-07-05 12:49:55.382 (  16.018s) [main            ]              petsc.cpp:698   INFO| PETSc Krylov solver starting to solve system.\n",
      "2023-07-05 12:49:55.621 (  16.258s) [main            ]         TimeLogger.cpp:28    INFO| Elapsed wall, usr, sys time: 0.239106, 0.210000, 0.030000 (PETSc Krylov solver)\n",
      "2023-07-05 12:49:55.627 (  16.263s) [main            ]       NewtonSolver.cpp:36    INFO| Newton iteration 4: r (abs) = 2.30927 (tol = 1e-08) r (rel) = 0.0274213(tol = 1e-08)\n",
      "2023-07-05 12:49:55.738 (  16.375s) [main            ]              petsc.cpp:698   INFO| PETSc Krylov solver starting to solve system.\n",
      "2023-07-05 12:49:55.975 (  16.612s) [main            ]         TimeLogger.cpp:28    INFO| Elapsed wall, usr, sys time: 0.236996, 0.190000, 0.050000 (PETSc Krylov solver)\n",
      "2023-07-05 12:49:55.981 (  16.617s) [main            ]       NewtonSolver.cpp:36    INFO| Newton iteration 5: r (abs) = 14.0562 (tol = 1e-08) r (rel) = 0.16691(tol = 1e-08)\n",
      "2023-07-05 12:49:56.094 (  16.730s) [main            ]              petsc.cpp:698   INFO| PETSc Krylov solver starting to solve system.\n",
      "2023-07-05 12:49:56.333 (  16.969s) [main            ]         TimeLogger.cpp:28    INFO| Elapsed wall, usr, sys time: 0.238818, 0.200000, 0.040000 (PETSc Krylov solver)\n",
      "2023-07-05 12:49:56.338 (  16.975s) [main            ]       NewtonSolver.cpp:36    INFO| Newton iteration 6: r (abs) = 0.222774 (tol = 1e-08) r (rel) = 0.00264532(tol = 1e-08)\n",
      "2023-07-05 12:49:56.457 (  17.093s) [main            ]              petsc.cpp:698   INFO| PETSc Krylov solver starting to solve system.\n",
      "2023-07-05 12:49:56.719 (  17.356s) [main            ]         TimeLogger.cpp:28    INFO| Elapsed wall, usr, sys time: 0.262442, 0.230000, 0.040000 (PETSc Krylov solver)\n",
      "2023-07-05 12:49:56.725 (  17.362s) [main            ]       NewtonSolver.cpp:36    INFO| Newton iteration 7: r (abs) = 0.286671 (tol = 1e-08) r (rel) = 0.00340406(tol = 1e-08)\n",
      "2023-07-05 12:49:56.842 (  17.478s) [main            ]              petsc.cpp:698   INFO| PETSc Krylov solver starting to solve system.\n",
      "2023-07-05 12:49:57.084 (  17.720s) [main            ]         TimeLogger.cpp:28    INFO| Elapsed wall, usr, sys time: 0.241507, 0.210000, 0.030000 (PETSc Krylov solver)\n",
      "2023-07-05 12:49:57.089 (  17.726s) [main            ]       NewtonSolver.cpp:36    INFO| Newton iteration 8: r (abs) = 0.000321869 (tol = 1e-08) r (rel) = 3.82203e-06(tol = 1e-08)\n",
      "2023-07-05 12:49:57.202 (  17.838s) [main            ]              petsc.cpp:698   INFO| PETSc Krylov solver starting to solve system.\n",
      "2023-07-05 12:49:57.444 (  18.080s) [main            ]         TimeLogger.cpp:28    INFO| Elapsed wall, usr, sys time: 0.241647, 0.190000, 0.050000 (PETSc Krylov solver)\n",
      "2023-07-05 12:49:57.449 (  18.086s) [main            ]       NewtonSolver.cpp:36    INFO| Newton iteration 9: r (abs) = 2.63797e-07 (tol = 1e-08) r (rel) = 3.13244e-09(tol = 1e-08)\n",
      "2023-07-05 12:49:57.449 (  18.086s) [main            ]       NewtonSolver.cpp:255   INFO| Newton solver finished in 9 iterations and 9 linear solver iterations.\n"
     ]
    },
    {
     "name": "stdout",
     "output_type": "stream",
     "text": [
      "Time step 4, Number of iterations 9, Load [ 0.  0. -6.]\n"
     ]
    },
    {
     "name": "stderr",
     "output_type": "stream",
     "text": [
      "2023-07-05 12:49:57.584 (  18.221s) [main            ]              petsc.cpp:698   INFO| PETSc Krylov solver starting to solve system.\n",
      "2023-07-05 12:49:57.822 (  18.459s) [main            ]         TimeLogger.cpp:28    INFO| Elapsed wall, usr, sys time: 0.238080, 0.190000, 0.060000 (PETSc Krylov solver)\n",
      "2023-07-05 12:49:57.943 (  18.580s) [main            ]              petsc.cpp:698   INFO| PETSc Krylov solver starting to solve system.\n",
      "2023-07-05 12:49:58.178 (  18.814s) [main            ]         TimeLogger.cpp:28    INFO| Elapsed wall, usr, sys time: 0.234368, 0.190000, 0.040000 (PETSc Krylov solver)\n",
      "2023-07-05 12:49:58.183 (  18.820s) [main            ]       NewtonSolver.cpp:36    INFO| Newton iteration 2: r (abs) = 3.19462 (tol = 1e-08) r (rel) = 0.0496479(tol = 1e-08)\n",
      "2023-07-05 12:49:58.294 (  18.931s) [main            ]              petsc.cpp:698   INFO| PETSc Krylov solver starting to solve system.\n",
      "2023-07-05 12:49:58.531 (  19.167s) [main            ]         TimeLogger.cpp:28    INFO| Elapsed wall, usr, sys time: 0.236301, 0.190000, 0.050000 (PETSc Krylov solver)\n",
      "2023-07-05 12:49:58.536 (  19.172s) [main            ]       NewtonSolver.cpp:36    INFO| Newton iteration 3: r (abs) = 7.71429 (tol = 1e-08) r (rel) = 0.119888(tol = 1e-08)\n",
      "2023-07-05 12:49:58.647 (  19.283s) [main            ]              petsc.cpp:698   INFO| PETSc Krylov solver starting to solve system.\n",
      "2023-07-05 12:49:58.879 (  19.516s) [main            ]         TimeLogger.cpp:28    INFO| Elapsed wall, usr, sys time: 0.232023, 0.190000, 0.040000 (PETSc Krylov solver)\n",
      "2023-07-05 12:49:58.885 (  19.521s) [main            ]       NewtonSolver.cpp:36    INFO| Newton iteration 4: r (abs) = 0.850873 (tol = 1e-08) r (rel) = 0.0132235(tol = 1e-08)\n",
      "2023-07-05 12:49:58.996 (  19.632s) [main            ]              petsc.cpp:698   INFO| PETSc Krylov solver starting to solve system.\n",
      "2023-07-05 12:49:59.232 (  19.868s) [main            ]         TimeLogger.cpp:28    INFO| Elapsed wall, usr, sys time: 0.235519, 0.200000, 0.030000 (PETSc Krylov solver)\n",
      "2023-07-05 12:49:59.237 (  19.873s) [main            ]       NewtonSolver.cpp:36    INFO| Newton iteration 5: r (abs) = 0.371434 (tol = 1e-08) r (rel) = 0.0057725(tol = 1e-08)\n",
      "2023-07-05 12:49:59.349 (  19.986s) [main            ]              petsc.cpp:698   INFO| PETSc Krylov solver starting to solve system.\n",
      "2023-07-05 12:49:59.593 (  20.230s) [main            ]         TimeLogger.cpp:28    INFO| Elapsed wall, usr, sys time: 0.243976, 0.210000, 0.040000 (PETSc Krylov solver)\n",
      "2023-07-05 12:49:59.598 (  20.235s) [main            ]       NewtonSolver.cpp:36    INFO| Newton iteration 6: r (abs) = 0.00215066 (tol = 1e-08) r (rel) = 3.34236e-05(tol = 1e-08)\n",
      "2023-07-05 12:49:59.715 (  20.351s) [main            ]              petsc.cpp:698   INFO| PETSc Krylov solver starting to solve system.\n",
      "2023-07-05 12:49:59.962 (  20.599s) [main            ]         TimeLogger.cpp:28    INFO| Elapsed wall, usr, sys time: 0.247216, 0.230000, 0.020000 (PETSc Krylov solver)\n",
      "2023-07-05 12:49:59.968 (  20.604s) [main            ]       NewtonSolver.cpp:36    INFO| Newton iteration 7: r (abs) = 2.54607e-06 (tol = 1e-08) r (rel) = 3.95687e-08(tol = 1e-08)\n",
      "2023-07-05 12:50:00.080 (  20.717s) [main            ]              petsc.cpp:698   INFO| PETSc Krylov solver starting to solve system.\n",
      "2023-07-05 12:50:00.316 (  20.952s) [main            ]         TimeLogger.cpp:28    INFO| Elapsed wall, usr, sys time: 0.235380, 0.200000, 0.030000 (PETSc Krylov solver)\n"
     ]
    },
    {
     "name": "stdout",
     "output_type": "stream",
     "text": [
      "Time step 5, Number of iterations 8, Load [ 0.   0.  -7.5]\n"
     ]
    },
    {
     "name": "stderr",
     "output_type": "stream",
     "text": [
      "2023-07-05 12:50:00.321 (  20.957s) [main            ]       NewtonSolver.cpp:36    INFO| Newton iteration 8: r (abs) = 3.42079e-13 (tol = 1e-08) r (rel) = 5.31628e-15(tol = 1e-08)\n",
      "2023-07-05 12:50:00.321 (  20.957s) [main            ]       NewtonSolver.cpp:255   INFO| Newton solver finished in 8 iterations and 8 linear solver iterations.\n",
      "2023-07-05 12:50:00.455 (  21.091s) [main            ]              petsc.cpp:698   INFO| PETSc Krylov solver starting to solve system.\n",
      "2023-07-05 12:50:00.699 (  21.336s) [main            ]         TimeLogger.cpp:28    INFO| Elapsed wall, usr, sys time: 0.244786, 0.190000, 0.050000 (PETSc Krylov solver)\n",
      "2023-07-05 12:50:00.819 (  21.455s) [main            ]              petsc.cpp:698   INFO| PETSc Krylov solver starting to solve system.\n",
      "2023-07-05 12:50:01.071 (  21.707s) [main            ]         TimeLogger.cpp:28    INFO| Elapsed wall, usr, sys time: 0.252486, 0.220000, 0.040000 (PETSc Krylov solver)\n",
      "2023-07-05 12:50:01.076 (  21.713s) [main            ]       NewtonSolver.cpp:36    INFO| Newton iteration 2: r (abs) = 2.00649 (tol = 1e-08) r (rel) = 0.0395622(tol = 1e-08)\n",
      "2023-07-05 12:50:01.187 (  21.823s) [main            ]              petsc.cpp:698   INFO| PETSc Krylov solver starting to solve system.\n",
      "2023-07-05 12:50:01.428 (  22.064s) [main            ]         TimeLogger.cpp:28    INFO| Elapsed wall, usr, sys time: 0.240639, 0.210000, 0.030000 (PETSc Krylov solver)\n",
      "2023-07-05 12:50:01.433 (  22.069s) [main            ]       NewtonSolver.cpp:36    INFO| Newton iteration 3: r (abs) = 4.60977 (tol = 1e-08) r (rel) = 0.0908914(tol = 1e-08)\n",
      "2023-07-05 12:50:01.545 (  22.181s) [main            ]              petsc.cpp:698   INFO| PETSc Krylov solver starting to solve system.\n",
      "2023-07-05 12:50:01.785 (  22.421s) [main            ]         TimeLogger.cpp:28    INFO| Elapsed wall, usr, sys time: 0.239958, 0.210000, 0.030000 (PETSc Krylov solver)\n",
      "2023-07-05 12:50:01.790 (  22.426s) [main            ]       NewtonSolver.cpp:36    INFO| Newton iteration 4: r (abs) = 0.185372 (tol = 1e-08) r (rel) = 0.00365501(tol = 1e-08)\n",
      "2023-07-05 12:50:01.902 (  22.538s) [main            ]              petsc.cpp:698   INFO| PETSc Krylov solver starting to solve system.\n",
      "2023-07-05 12:50:02.153 (  22.790s) [main            ]         TimeLogger.cpp:28    INFO| Elapsed wall, usr, sys time: 0.251681, 0.230000, 0.030000 (PETSc Krylov solver)\n",
      "2023-07-05 12:50:02.159 (  22.795s) [main            ]       NewtonSolver.cpp:36    INFO| Newton iteration 5: r (abs) = 0.024688 (tol = 1e-08) r (rel) = 0.000486777(tol = 1e-08)\n",
      "2023-07-05 12:50:02.273 (  22.909s) [main            ]              petsc.cpp:698   INFO| PETSc Krylov solver starting to solve system.\n",
      "2023-07-05 12:50:02.513 (  23.149s) [main            ]         TimeLogger.cpp:28    INFO| Elapsed wall, usr, sys time: 0.240082, 0.200000, 0.040000 (PETSc Krylov solver)\n",
      "2023-07-05 12:50:02.519 (  23.155s) [main            ]       NewtonSolver.cpp:36    INFO| Newton iteration 6: r (abs) = 5.69255e-06 (tol = 1e-08) r (rel) = 1.12241e-07(tol = 1e-08)\n",
      "2023-07-05 12:50:02.630 (  23.266s) [main            ]              petsc.cpp:698   INFO| PETSc Krylov solver starting to solve system.\n",
      "2023-07-05 12:50:02.870 (  23.506s) [main            ]         TimeLogger.cpp:28    INFO| Elapsed wall, usr, sys time: 0.240158, 0.190000, 0.050000 (PETSc Krylov solver)\n",
      "2023-07-05 12:50:02.875 (  23.512s) [main            ]       NewtonSolver.cpp:36    INFO| Newton iteration 7: r (abs) = 2.66157e-11 (tol = 1e-08) r (rel) = 5.24786e-13(tol = 1e-08)\n",
      "2023-07-05 12:50:02.875 (  23.512s) [main            ]       NewtonSolver.cpp:255   INFO| Newton solver finished in 7 iterations and 7 linear solver iterations.\n"
     ]
    },
    {
     "name": "stdout",
     "output_type": "stream",
     "text": [
      "Time step 6, Number of iterations 7, Load [ 0.  0. -9.]\n"
     ]
    },
    {
     "name": "stderr",
     "output_type": "stream",
     "text": [
      "2023-07-05 12:50:03.020 (  23.656s) [main            ]              petsc.cpp:698   INFO| PETSc Krylov solver starting to solve system.\n",
      "2023-07-05 12:50:03.257 (  23.893s) [main            ]         TimeLogger.cpp:28    INFO| Elapsed wall, usr, sys time: 0.236557, 0.220000, 0.020000 (PETSc Krylov solver)\n",
      "2023-07-05 12:50:03.376 (  24.012s) [main            ]              petsc.cpp:698   INFO| PETSc Krylov solver starting to solve system.\n",
      "2023-07-05 12:50:03.617 (  24.254s) [main            ]         TimeLogger.cpp:28    INFO| Elapsed wall, usr, sys time: 0.241452, 0.200000, 0.050000 (PETSc Krylov solver)\n",
      "2023-07-05 12:50:03.623 (  24.259s) [main            ]       NewtonSolver.cpp:36    INFO| Newton iteration 2: r (abs) = 1.38506 (tol = 1e-08) r (rel) = 0.0336622(tol = 1e-08)\n",
      "2023-07-05 12:50:03.734 (  24.371s) [main            ]              petsc.cpp:698   INFO| PETSc Krylov solver starting to solve system.\n",
      "2023-07-05 12:50:03.975 (  24.611s) [main            ]         TimeLogger.cpp:28    INFO| Elapsed wall, usr, sys time: 0.240270, 0.210000, 0.030000 (PETSc Krylov solver)\n",
      "2023-07-05 12:50:03.980 (  24.616s) [main            ]       NewtonSolver.cpp:36    INFO| Newton iteration 3: r (abs) = 3.03739 (tol = 1e-08) r (rel) = 0.07382(tol = 1e-08)\n",
      "2023-07-05 12:50:04.093 (  24.729s) [main            ]              petsc.cpp:698   INFO| PETSc Krylov solver starting to solve system.\n",
      "2023-07-05 12:50:04.333 (  24.969s) [main            ]         TimeLogger.cpp:28    INFO| Elapsed wall, usr, sys time: 0.239649, 0.220000, 0.020000 (PETSc Krylov solver)\n",
      "2023-07-05 12:50:04.339 (  24.975s) [main            ]       NewtonSolver.cpp:36    INFO| Newton iteration 4: r (abs) = 0.0412386 (tol = 1e-08) r (rel) = 0.00100225(tol = 1e-08)\n",
      "2023-07-05 12:50:04.452 (  25.089s) [main            ]              petsc.cpp:698   INFO| PETSc Krylov solver starting to solve system.\n",
      "2023-07-05 12:50:04.703 (  25.340s) [main            ]         TimeLogger.cpp:28    INFO| Elapsed wall, usr, sys time: 0.250999, 0.220000, 0.030000 (PETSc Krylov solver)\n",
      "2023-07-05 12:50:04.711 (  25.348s) [main            ]       NewtonSolver.cpp:36    INFO| Newton iteration 5: r (abs) = 0.00205057 (tol = 1e-08) r (rel) = 4.98364e-05(tol = 1e-08)\n",
      "2023-07-05 12:50:04.834 (  25.471s) [main            ]              petsc.cpp:698   INFO| PETSc Krylov solver starting to solve system.\n",
      "2023-07-05 12:50:05.071 (  25.707s) [main            ]         TimeLogger.cpp:28    INFO| Elapsed wall, usr, sys time: 0.236383, 0.190000, 0.040000 (PETSc Krylov solver)\n",
      "2023-07-05 12:50:05.076 (  25.712s) [main            ]       NewtonSolver.cpp:36    INFO| Newton iteration 6: r (abs) = 1.78862e-08 (tol = 1e-08) r (rel) = 4.34702e-10(tol = 1e-08)\n",
      "2023-07-05 12:50:05.076 (  25.712s) [main            ]       NewtonSolver.cpp:255   INFO| Newton solver finished in 6 iterations and 6 linear solver iterations.\n"
     ]
    },
    {
     "name": "stdout",
     "output_type": "stream",
     "text": [
      "Time step 7, Number of iterations 6, Load [  0.    0.  -10.5]\n"
     ]
    },
    {
     "name": "stderr",
     "output_type": "stream",
     "text": [
      "2023-07-05 12:50:05.212 (  25.848s) [main            ]              petsc.cpp:698   INFO| PETSc Krylov solver starting to solve system.\n",
      "2023-07-05 12:50:05.451 (  26.087s) [main            ]         TimeLogger.cpp:28    INFO| Elapsed wall, usr, sys time: 0.238825, 0.220000, 0.020000 (PETSc Krylov solver)\n",
      "2023-07-05 12:50:05.567 (  26.203s) [main            ]              petsc.cpp:698   INFO| PETSc Krylov solver starting to solve system.\n",
      "2023-07-05 12:50:05.806 (  26.442s) [main            ]         TimeLogger.cpp:28    INFO| Elapsed wall, usr, sys time: 0.239502, 0.210000, 0.040000 (PETSc Krylov solver)\n",
      "2023-07-05 12:50:05.812 (  26.449s) [main            ]       NewtonSolver.cpp:36    INFO| Newton iteration 2: r (abs) = 1.06336 (tol = 1e-08) r (rel) = 0.031085(tol = 1e-08)\n",
      "2023-07-05 12:50:05.926 (  26.562s) [main            ]              petsc.cpp:698   INFO| PETSc Krylov solver starting to solve system.\n",
      "2023-07-05 12:50:06.161 (  26.797s) [main            ]         TimeLogger.cpp:28    INFO| Elapsed wall, usr, sys time: 0.235081, 0.200000, 0.040000 (PETSc Krylov solver)\n",
      "2023-07-05 12:50:06.166 (  26.803s) [main            ]       NewtonSolver.cpp:36    INFO| Newton iteration 3: r (abs) = 2.0477 (tol = 1e-08) r (rel) = 0.0598598(tol = 1e-08)\n",
      "2023-07-05 12:50:06.279 (  26.915s) [main            ]              petsc.cpp:698   INFO| PETSc Krylov solver starting to solve system.\n",
      "2023-07-05 12:50:06.511 (  27.147s) [main            ]         TimeLogger.cpp:28    INFO| Elapsed wall, usr, sys time: 0.232321, 0.180000, 0.040000 (PETSc Krylov solver)\n",
      "2023-07-05 12:50:06.517 (  27.153s) [main            ]       NewtonSolver.cpp:36    INFO| Newton iteration 4: r (abs) = 0.00897719 (tol = 1e-08) r (rel) = 0.000262427(tol = 1e-08)\n",
      "2023-07-05 12:50:06.629 (  27.265s) [main            ]              petsc.cpp:698   INFO| PETSc Krylov solver starting to solve system.\n",
      "2023-07-05 12:50:06.868 (  27.505s) [main            ]         TimeLogger.cpp:28    INFO| Elapsed wall, usr, sys time: 0.239289, 0.220000, 0.030000 (PETSc Krylov solver)\n",
      "2023-07-05 12:50:06.874 (  27.510s) [main            ]       NewtonSolver.cpp:36    INFO| Newton iteration 5: r (abs) = 0.000167422 (tol = 1e-08) r (rel) = 4.89419e-06(tol = 1e-08)\n",
      "2023-07-05 12:50:06.988 (  27.624s) [main            ]              petsc.cpp:698   INFO| PETSc Krylov solver starting to solve system.\n",
      "2023-07-05 12:50:07.239 (  27.876s) [main            ]         TimeLogger.cpp:28    INFO| Elapsed wall, usr, sys time: 0.251800, 0.200000, 0.050000 (PETSc Krylov solver)\n"
     ]
    },
    {
     "name": "stdout",
     "output_type": "stream",
     "text": [
      "Time step 8, Number of iterations 6, Load [  0.   0. -12.]\n"
     ]
    },
    {
     "name": "stderr",
     "output_type": "stream",
     "text": [
      "2023-07-05 12:50:07.245 (  27.882s) [main            ]       NewtonSolver.cpp:36    INFO| Newton iteration 6: r (abs) = 3.24402e-11 (tol = 1e-08) r (rel) = 9.48314e-13(tol = 1e-08)\n",
      "2023-07-05 12:50:07.245 (  27.882s) [main            ]       NewtonSolver.cpp:255   INFO| Newton solver finished in 6 iterations and 6 linear solver iterations.\n",
      "2023-07-05 12:50:07.382 (  28.019s) [main            ]              petsc.cpp:698   INFO| PETSc Krylov solver starting to solve system.\n",
      "2023-07-05 12:50:07.619 (  28.255s) [main            ]         TimeLogger.cpp:28    INFO| Elapsed wall, usr, sys time: 0.236171, 0.200000, 0.040000 (PETSc Krylov solver)\n",
      "2023-07-05 12:50:07.737 (  28.373s) [main            ]              petsc.cpp:698   INFO| PETSc Krylov solver starting to solve system.\n",
      "2023-07-05 12:50:07.972 (  28.609s) [main            ]         TimeLogger.cpp:28    INFO| Elapsed wall, usr, sys time: 0.235308, 0.200000, 0.030000 (PETSc Krylov solver)\n",
      "2023-07-05 12:50:07.978 (  28.614s) [main            ]       NewtonSolver.cpp:36    INFO| Newton iteration 2: r (abs) = 0.898789 (tol = 1e-08) r (rel) = 0.0309666(tol = 1e-08)\n",
      "2023-07-05 12:50:08.093 (  28.729s) [main            ]              petsc.cpp:698   INFO| PETSc Krylov solver starting to solve system.\n",
      "2023-07-05 12:50:08.355 (  28.991s) [main            ]         TimeLogger.cpp:28    INFO| Elapsed wall, usr, sys time: 0.261661, 0.240000, 0.030000 (PETSc Krylov solver)\n",
      "2023-07-05 12:50:08.360 (  28.996s) [main            ]       NewtonSolver.cpp:36    INFO| Newton iteration 3: r (abs) = 1.38354 (tol = 1e-08) r (rel) = 0.0476679(tol = 1e-08)\n",
      "2023-07-05 12:50:08.476 (  29.112s) [main            ]              petsc.cpp:698   INFO| PETSc Krylov solver starting to solve system.\n",
      "2023-07-05 12:50:08.714 (  29.351s) [main            ]         TimeLogger.cpp:28    INFO| Elapsed wall, usr, sys time: 0.238247, 0.210000, 0.030000 (PETSc Krylov solver)\n",
      "2023-07-05 12:50:08.720 (  29.356s) [main            ]       NewtonSolver.cpp:36    INFO| Newton iteration 4: r (abs) = 0.00185096 (tol = 1e-08) r (rel) = 6.37724e-05(tol = 1e-08)\n",
      "2023-07-05 12:50:08.833 (  29.469s) [main            ]              petsc.cpp:698   INFO| PETSc Krylov solver starting to solve system.\n",
      "2023-07-05 12:50:09.065 (  29.701s) [main            ]         TimeLogger.cpp:28    INFO| Elapsed wall, usr, sys time: 0.231649, 0.200000, 0.030000 (PETSc Krylov solver)\n",
      "2023-07-05 12:50:09.070 (  29.706s) [main            ]       NewtonSolver.cpp:36    INFO| Newton iteration 5: r (abs) = 7.87183e-06 (tol = 1e-08) r (rel) = 2.71213e-07(tol = 1e-08)\n",
      "2023-07-05 12:50:09.183 (  29.819s) [main            ]              petsc.cpp:698   INFO| PETSc Krylov solver starting to solve system.\n",
      "2023-07-05 12:50:09.430 (  30.066s) [main            ]         TimeLogger.cpp:28    INFO| Elapsed wall, usr, sys time: 0.246672, 0.220000, 0.030000 (PETSc Krylov solver)\n",
      "2023-07-05 12:50:09.436 (  30.073s) [main            ]       NewtonSolver.cpp:36    INFO| Newton iteration 6: r (abs) = 4.30231e-13 (tol = 1e-08) r (rel) = 1.4823e-14(tol = 1e-08)\n",
      "2023-07-05 12:50:09.436 (  30.073s) [main            ]       NewtonSolver.cpp:255   INFO| Newton solver finished in 6 iterations and 6 linear solver iterations.\n"
     ]
    },
    {
     "name": "stdout",
     "output_type": "stream",
     "text": [
      "Time step 9, Number of iterations 6, Load [  0.    0.  -13.5]\n"
     ]
    }
   ],
   "source": [
    "log.set_log_level(log.LogLevel.INFO)\n",
    "tval0 = -1.5\n",
    "for n in range(1, 10):\n",
    "    T.value[2] = n * tval0\n",
    "    num_its, converged = solver.solve(u)\n",
    "    assert (converged)\n",
    "    u.x.scatter_forward()\n",
    "    print(f\"Time step {n}, Number of iterations {num_its}, Load {T.value}\")\n",
    "    function_grid[\"u\"][:, :len(u)] = u.x.array.reshape(geometry.shape[0], len(u))\n",
    "    magnitude.interpolate(us)\n",
    "    warped.set_active_scalars(\"mag\")\n",
    "    warped_n = function_grid.warp_by_vector(factor=1)\n",
    "    plotter.update_coordinates(warped_n.points.copy(), render=False)\n",
    "    plotter.update_scalar_bar_range([0, 10])\n",
    "    plotter.update_scalars(magnitude.x.array)\n",
    "    plotter.write_frame()\n",
    "plotter.close()"
   ]
  },
  {
   "cell_type": "markdown",
   "id": "906ef59c-7e89-46e7-9222-9a6e925f4180",
   "metadata": {},
   "source": [
    "<img src=\"./deformation.gif\" alt=\"gif\" class=\"bg-primary mb-1\" width=\"800px\">"
   ]
  }
 ],
 "metadata": {
  "jupytext": {
   "formats": "ipynb,py:light"
  },
  "kernelspec": {
   "display_name": "Python 3 (ipykernel)",
   "language": "python",
   "name": "python3"
  },
  "language_info": {
   "codemirror_mode": {
    "name": "ipython",
    "version": 3
   },
   "file_extension": ".py",
   "mimetype": "text/x-python",
   "name": "python",
   "nbconvert_exporter": "python",
   "pygments_lexer": "ipython3",
   "version": "3.10.6"
  }
 },
 "nbformat": 4,
 "nbformat_minor": 5
}
