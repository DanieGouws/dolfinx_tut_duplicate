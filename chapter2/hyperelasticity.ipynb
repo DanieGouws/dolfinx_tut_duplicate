{
 "cells": [
  {
   "cell_type": "markdown",
   "id": "supreme-malpractice",
   "metadata": {},
   "source": [
    "# Hyperelasticity\n",
    "Author: Jørgen S. Dokken and Garth N. Wells\n",
    "\n",
    "This section shows how to solve the hyperelasticity problem for deformation of a beam.\n",
    "\n",
    "We will also show how to create a constant boundary condition for a vector function space.\n",
    "\n",
    "We start by importing DOLFINx and some additional dependencies.\n",
    "Then, we create a slender cantilever consisting of hexahedral elements and create the function space `V` for our unknown."
   ]
  },
  {
   "cell_type": "code",
   "execution_count": 1,
   "id": "optional-cameroon",
   "metadata": {},
   "outputs": [],
   "source": [
    "import numpy as np\n",
    "import ufl\n",
    "\n",
    "from petsc4py import PETSc\n",
    "from mpi4py import MPI\n",
    "from dolfinx import fem, mesh, plot\n",
    "L = 20.0\n",
    "domain = mesh.create_box(MPI.COMM_WORLD,[[0.0,0.0,0.0], [L, 1, 1]], [20, 5, 5], mesh.CellType.hexahedron)\n",
    "V = fem.VectorFunctionSpace(domain, (\"CG\", 2))"
   ]
  },
  {
   "cell_type": "markdown",
   "id": "streaming-neutral",
   "metadata": {},
   "source": [
    "We create two python functions for determining the facets to apply boundary conditions to"
   ]
  },
  {
   "cell_type": "code",
   "execution_count": 2,
   "id": "major-factor",
   "metadata": {},
   "outputs": [],
   "source": [
    "def left(x):\n",
    "    return np.isclose(x[0], 0)\n",
    "\n",
    "def right(x):\n",
    "    return np.isclose(x[0], L)\n",
    "\n",
    "fdim = domain.topology.dim -1\n",
    "left_facets = mesh.locate_entities_boundary(domain, fdim, left)\n",
    "right_facets = mesh.locate_entities_boundary(domain, fdim, right)"
   ]
  },
  {
   "cell_type": "markdown",
   "id": "figured-world",
   "metadata": {},
   "source": [
    "Next, we create a  marker based on these two functions"
   ]
  },
  {
   "cell_type": "code",
   "execution_count": 3,
   "id": "dated-india",
   "metadata": {},
   "outputs": [],
   "source": [
    "# Concatenate and sort the arrays based on facet indices. Left facets marked with 1, right facets with two\n",
    "marked_facets = np.hstack([left_facets, right_facets])\n",
    "marked_values = np.hstack([np.full_like(left_facets, 1), np.full_like(right_facets, 2)])\n",
    "sorted_facets = np.argsort(marked_facets)\n",
    "facet_tag = mesh.meshtags(domain, fdim, marked_facets[sorted_facets], marked_values[sorted_facets])"
   ]
  },
  {
   "cell_type": "markdown",
   "id": "renewable-glossary",
   "metadata": {},
   "source": [
    "We then create a function for supplying the boundary condition on the left side, which is fixed."
   ]
  },
  {
   "cell_type": "code",
   "execution_count": 4,
   "id": "confidential-french",
   "metadata": {},
   "outputs": [],
   "source": [
    "u_bc = np.array((0,) * domain.geometry.dim, dtype=PETSc.ScalarType)"
   ]
  },
  {
   "cell_type": "markdown",
   "id": "musical-documentation",
   "metadata": {},
   "source": [
    "To apply the boundary condition, we identity the dofs located on the facets marked by the `MeshTag`."
   ]
  },
  {
   "cell_type": "code",
   "execution_count": 5,
   "id": "written-monster",
   "metadata": {},
   "outputs": [],
   "source": [
    "left_dofs = fem.locate_dofs_topological(V, facet_tag.dim, facet_tag.find(1))\n",
    "bcs = [fem.dirichletbc(u_bc, left_dofs, V)]"
   ]
  },
  {
   "cell_type": "markdown",
   "id": "indoor-chester",
   "metadata": {},
   "source": [
    "Next, we define the body force on the reference configuration (`B`), and nominal (first Piola-Kirchhoff) traction (`T`). "
   ]
  },
  {
   "cell_type": "code",
   "execution_count": 6,
   "id": "korean-carol",
   "metadata": {},
   "outputs": [],
   "source": [
    "B = fem.Constant(domain, PETSc.ScalarType((0, 0, 0)))\n",
    "T = fem.Constant(domain, PETSc.ScalarType((0, 0, 0)))"
   ]
  },
  {
   "cell_type": "markdown",
   "id": "blond-dynamics",
   "metadata": {},
   "source": [
    "Define the test and solution functions on the space $V$"
   ]
  },
  {
   "cell_type": "code",
   "execution_count": 7,
   "id": "vocational-experiment",
   "metadata": {},
   "outputs": [],
   "source": [
    "v = ufl.TestFunction(V)\n",
    "u = fem.Function(V)"
   ]
  },
  {
   "cell_type": "markdown",
   "id": "bright-belle",
   "metadata": {},
   "source": [
    "Define kinematic quantities used in the problem"
   ]
  },
  {
   "cell_type": "code",
   "execution_count": 8,
   "id": "vertical-original",
   "metadata": {},
   "outputs": [],
   "source": [
    "# Spatial dimension\n",
    "d = len(u)\n",
    "\n",
    "# Identity tensor\n",
    "I = ufl.variable(ufl.Identity(d))\n",
    "\n",
    "# Deformation gradient\n",
    "F = ufl.variable(I + ufl.grad(u))\n",
    "\n",
    "# Right Cauchy-Green tensor\n",
    "C = ufl.variable(F.T * F)\n",
    "\n",
    "# Invariants of deformation tensors\n",
    "Ic = ufl.variable(ufl.tr(C))\n",
    "J  = ufl.variable(ufl.det(F))"
   ]
  },
  {
   "cell_type": "markdown",
   "id": "respiratory-compromise",
   "metadata": {},
   "source": [
    "Define the elasticity model via a stored strain energy density function $\\psi$, and create the expression for the first Piola-Kirchhoff stress:"
   ]
  },
  {
   "cell_type": "code",
   "execution_count": 9,
   "id": "incorrect-hello",
   "metadata": {},
   "outputs": [],
   "source": [
    "# Elasticity parameters\n",
    "E = PETSc.ScalarType(1.0e4)\n",
    "nu = PETSc.ScalarType(0.3)\n",
    "mu = fem.Constant(domain, E/(2*(1 + nu)))\n",
    "lmbda = fem.Constant(domain, E*nu/((1 + nu)*(1 - 2*nu)))\n",
    "# Stored strain energy density (compressible neo-Hookean model)\n",
    "psi = (mu / 2) * (Ic - 3) - mu * ufl.ln(J) + (lmbda / 2) * (ufl.ln(J))**2\n",
    "# Stress\n",
    "# Hyper-elasticity\n",
    "P = ufl.diff(psi, F)"
   ]
  },
  {
   "cell_type": "markdown",
   "id": "grateful-battlefield",
   "metadata": {},
   "source": [
    "```{admonition} Comparison to linear elasticity\n",
    "To illustrate the difference between linear and hyperelasticity, the following lines can be uncommented to solve the linear elasticity problem.\n",
    "```"
   ]
  },
  {
   "cell_type": "code",
   "execution_count": 10,
   "id": "imperial-jurisdiction",
   "metadata": {},
   "outputs": [],
   "source": [
    "# P = 2.0 * mu * ufl.sym(ufl.grad(u)) + lmbda * ufl.tr(ufl.sym(ufl.grad(u))) * I"
   ]
  },
  {
   "cell_type": "markdown",
   "id": "alleged-genesis",
   "metadata": {},
   "source": [
    "Define the variational form with traction integral over all facets with value 2. We set the quadrature degree for the integrals to 4."
   ]
  },
  {
   "cell_type": "code",
   "execution_count": 11,
   "id": "recognized-conclusion",
   "metadata": {},
   "outputs": [],
   "source": [
    "metadata = {\"quadrature_degree\": 4}\n",
    "ds = ufl.Measure('ds', domain=domain, subdomain_data=facet_tag, metadata=metadata)\n",
    "dx = ufl.Measure(\"dx\", domain=domain, metadata=metadata)\n",
    "# Define form F (we want to find u such that F(u) = 0)\n",
    "F = ufl.inner(ufl.grad(v), P)*dx - ufl.inner(v, B)*dx - ufl.inner(v, T)*ds(2) "
   ]
  },
  {
   "cell_type": "markdown",
   "id": "historic-sherman",
   "metadata": {},
   "source": [
    "As the varitional form is non-linear and written on residual form, we use the non-linear problem class from DOLFINx to set up required structures to use a Newton solver."
   ]
  },
  {
   "cell_type": "code",
   "execution_count": 12,
   "id": "threatened-devices",
   "metadata": {},
   "outputs": [],
   "source": [
    "problem = fem.petsc.NonlinearProblem(F, u, bcs)"
   ]
  },
  {
   "cell_type": "markdown",
   "id": "qualified-phrase",
   "metadata": {},
   "source": [
    "and then create and customize the Newton solver"
   ]
  },
  {
   "cell_type": "code",
   "execution_count": 13,
   "id": "special-globe",
   "metadata": {},
   "outputs": [],
   "source": [
    "from dolfinx import nls\n",
    "solver = nls.petsc.NewtonSolver(domain.comm, problem)\n",
    "\n",
    "# Set Newton solver options\n",
    "solver.atol = 1e-8\n",
    "solver.rtol = 1e-8\n",
    "solver.convergence_criterion = \"incremental\"\n"
   ]
  },
  {
   "cell_type": "markdown",
   "id": "marked-hungary",
   "metadata": {},
   "source": [
    "We create a function to plot the solution at each time step."
   ]
  },
  {
   "cell_type": "code",
   "execution_count": 14,
   "id": "noble-perception",
   "metadata": {},
   "outputs": [],
   "source": [
    "import pyvista\n",
    "import matplotlib.pyplot as plt\n",
    "pyvista.start_xvfb(0.1)\n",
    "plotter = pyvista.Plotter()\n",
    "plotter.open_gif(\"deformation.gif\", fps=3)\n",
    "\n",
    "topology, cells, geometry = plot.create_vtk_mesh(u.function_space)\n",
    "function_grid = pyvista.UnstructuredGrid(topology, cells, geometry)\n",
    "\n",
    "values = np.zeros((geometry.shape[0], 3))\n",
    "values[:, :len(u)] = u.x.array.reshape(geometry.shape[0], len(u))\n",
    "function_grid[\"u\"] = values\n",
    "function_grid.set_active_vectors(\"u\")\n",
    "\n",
    "# Warp mesh by deformation\n",
    "warped = function_grid.warp_by_vector(\"u\", factor=1)\n",
    "warped.set_active_vectors(\"u\")\n",
    "\n",
    "# Add mesh to plotter and visualize\n",
    "actor = plotter.add_mesh(warped, show_edges=True, lighting=False, clim=[0, 10])\n",
    "\n",
    "# Compute magnitude of displacement to visualize in GIF\n",
    "Vs = fem.FunctionSpace(domain, (\"Lagrange\", 2))\n",
    "magnitude = fem.Function(Vs)\n",
    "us = fem.Expression(ufl.sqrt(sum([u[i]**2 for i in range(len(u))])), Vs.element.interpolation_points())\n",
    "magnitude.interpolate(us)\n",
    "warped[\"mag\"] = magnitude.x.array"
   ]
  },
  {
   "cell_type": "markdown",
   "id": "nasty-entertainment",
   "metadata": {},
   "source": [
    "Finally, we solve the problem over several time steps, updating the y-component of the traction"
   ]
  },
  {
   "cell_type": "code",
   "execution_count": 15,
   "id": "vanilla-referral",
   "metadata": {},
   "outputs": [
    {
     "name": "stderr",
     "output_type": "stream",
     "text": [
      "2022-11-21 21:00:40.039 (   1.233s) [main            ]              petsc.cpp:675   INFO| PETSc Krylov solver starting to solve system.\n",
      "2022-11-21 21:00:40.633 (   1.827s) [main            ]         TimeLogger.cpp:28    INFO| Elapsed wall, usr, sys time: 0.593947, 0.520000, 0.080000 (PETSc Krylov solver)\n",
      "2022-11-21 21:00:40.861 (   2.055s) [main            ]              petsc.cpp:675   INFO| PETSc Krylov solver starting to solve system.\n",
      "2022-11-21 21:00:41.283 (   2.477s) [main            ]         TimeLogger.cpp:28    INFO| Elapsed wall, usr, sys time: 0.421694, 0.380000, 0.040000 (PETSc Krylov solver)\n",
      "2022-11-21 21:00:41.292 (   2.486s) [main            ]       NewtonSolver.cpp:36    INFO| Newton iteration 2: r (abs) = 22.2455 (tol = 1e-08) r (rel) = 0.134278(tol = 1e-08)\n",
      "2022-11-21 21:00:41.474 (   2.668s) [main            ]              petsc.cpp:675   INFO| PETSc Krylov solver starting to solve system.\n",
      "2022-11-21 21:00:41.864 (   3.058s) [main            ]         TimeLogger.cpp:28    INFO| Elapsed wall, usr, sys time: 0.390116, 0.320000, 0.070000 (PETSc Krylov solver)\n",
      "2022-11-21 21:00:41.880 (   3.075s) [main            ]       NewtonSolver.cpp:36    INFO| Newton iteration 3: r (abs) = 2.43261 (tol = 1e-08) r (rel) = 0.0146837(tol = 1e-08)\n",
      "2022-11-21 21:00:42.078 (   3.272s) [main            ]              petsc.cpp:675   INFO| PETSc Krylov solver starting to solve system.\n",
      "2022-11-21 21:00:42.464 (   3.659s) [main            ]         TimeLogger.cpp:28    INFO| Elapsed wall, usr, sys time: 0.386777, 0.360000, 0.030000 (PETSc Krylov solver)\n",
      "2022-11-21 21:00:42.473 (   3.668s) [main            ]       NewtonSolver.cpp:36    INFO| Newton iteration 4: r (abs) = 4.43158 (tol = 1e-08) r (rel) = 0.0267498(tol = 1e-08)\n",
      "2022-11-21 21:00:42.662 (   3.856s) [main            ]              petsc.cpp:675   INFO| PETSc Krylov solver starting to solve system.\n",
      "2022-11-21 21:00:43.139 (   4.333s) [main            ]         TimeLogger.cpp:28    INFO| Elapsed wall, usr, sys time: 0.477314, 0.420000, 0.060000 (PETSc Krylov solver)\n",
      "2022-11-21 21:00:43.155 (   4.349s) [main            ]       NewtonSolver.cpp:36    INFO| Newton iteration 5: r (abs) = 0.144189 (tol = 1e-08) r (rel) = 0.000870353(tol = 1e-08)\n",
      "2022-11-21 21:00:43.383 (   4.577s) [main            ]              petsc.cpp:675   INFO| PETSc Krylov solver starting to solve system.\n",
      "2022-11-21 21:00:43.819 (   5.014s) [main            ]         TimeLogger.cpp:28    INFO| Elapsed wall, usr, sys time: 0.436764, 0.380000, 0.060000 (PETSc Krylov solver)\n",
      "2022-11-21 21:00:43.834 (   5.028s) [main            ]       NewtonSolver.cpp:36    INFO| Newton iteration 6: r (abs) = 0.021424 (tol = 1e-08) r (rel) = 0.000129319(tol = 1e-08)\n",
      "2022-11-21 21:00:44.024 (   5.218s) [main            ]              petsc.cpp:675   INFO| PETSc Krylov solver starting to solve system.\n",
      "2022-11-21 21:00:44.431 (   5.625s) [main            ]         TimeLogger.cpp:28    INFO| Elapsed wall, usr, sys time: 0.406325, 0.360000, 0.050000 (PETSc Krylov solver)\n",
      "2022-11-21 21:00:44.440 (   5.634s) [main            ]       NewtonSolver.cpp:36    INFO| Newton iteration 7: r (abs) = 4.80067e-06 (tol = 1e-08) r (rel) = 2.89777e-08(tol = 1e-08)\n",
      "2022-11-21 21:00:44.620 (   5.815s) [main            ]              petsc.cpp:675   INFO| PETSc Krylov solver starting to solve system.\n",
      "2022-11-21 21:00:45.014 (   6.209s) [main            ]         TimeLogger.cpp:28    INFO| Elapsed wall, usr, sys time: 0.393899, 0.360000, 0.040000 (PETSc Krylov solver)\n",
      "2022-11-21 21:00:45.028 (   6.222s) [main            ]       NewtonSolver.cpp:36    INFO| Newton iteration 8: r (abs) = 2.65191e-11 (tol = 1e-08) r (rel) = 1.60074e-13(tol = 1e-08)\n",
      "2022-11-21 21:00:45.028 (   6.222s) [main            ]       NewtonSolver.cpp:255   INFO| Newton solver finished in 8 iterations and 8 linear solver iterations.\n"
     ]
    },
    {
     "name": "stdout",
     "output_type": "stream",
     "text": [
      "Time step 1, Number of iterations 8, Load [ 0.   0.  -1.5]\n"
     ]
    },
    {
     "name": "stderr",
     "output_type": "stream",
     "text": [
      "2022-11-21 21:00:45.469 (   6.663s) [main            ]              petsc.cpp:675   INFO| PETSc Krylov solver starting to solve system.\n",
      "2022-11-21 21:00:45.906 (   7.101s) [main            ]         TimeLogger.cpp:28    INFO| Elapsed wall, usr, sys time: 0.437330, 0.410000, 0.040000 (PETSc Krylov solver)\n",
      "2022-11-21 21:00:46.111 (   7.305s) [main            ]              petsc.cpp:675   INFO| PETSc Krylov solver starting to solve system.\n",
      "2022-11-21 21:00:46.551 (   7.745s) [main            ]         TimeLogger.cpp:28    INFO| Elapsed wall, usr, sys time: 0.439992, 0.390000, 0.050000 (PETSc Krylov solver)\n",
      "2022-11-21 21:00:46.564 (   7.758s) [main            ]       NewtonSolver.cpp:36    INFO| Newton iteration 2: r (abs) = 17.3254 (tol = 1e-08) r (rel) = 0.117842(tol = 1e-08)\n",
      "2022-11-21 21:00:46.767 (   7.961s) [main            ]              petsc.cpp:675   INFO| PETSc Krylov solver starting to solve system.\n",
      "2022-11-21 21:00:47.176 (   8.370s) [main            ]         TimeLogger.cpp:28    INFO| Elapsed wall, usr, sys time: 0.409145, 0.360000, 0.050000 (PETSc Krylov solver)\n",
      "2022-11-21 21:00:47.189 (   8.384s) [main            ]       NewtonSolver.cpp:36    INFO| Newton iteration 3: r (abs) = 5.14882 (tol = 1e-08) r (rel) = 0.0350207(tol = 1e-08)\n",
      "2022-11-21 21:00:47.386 (   8.580s) [main            ]              petsc.cpp:675   INFO| PETSc Krylov solver starting to solve system.\n",
      "2022-11-21 21:00:47.822 (   9.016s) [main            ]         TimeLogger.cpp:28    INFO| Elapsed wall, usr, sys time: 0.436063, 0.410000, 0.030000 (PETSc Krylov solver)\n",
      "2022-11-21 21:00:47.836 (   9.030s) [main            ]       NewtonSolver.cpp:36    INFO| Newton iteration 4: r (abs) = 7.24003 (tol = 1e-08) r (rel) = 0.0492445(tol = 1e-08)\n",
      "2022-11-21 21:00:48.036 (   9.230s) [main            ]              petsc.cpp:675   INFO| PETSc Krylov solver starting to solve system.\n",
      "2022-11-21 21:00:48.449 (   9.643s) [main            ]         TimeLogger.cpp:28    INFO| Elapsed wall, usr, sys time: 0.413361, 0.350000, 0.050000 (PETSc Krylov solver)\n",
      "2022-11-21 21:00:48.463 (   9.657s) [main            ]       NewtonSolver.cpp:36    INFO| Newton iteration 5: r (abs) = 0.777889 (tol = 1e-08) r (rel) = 0.00529096(tol = 1e-08)\n",
      "2022-11-21 21:00:48.662 (   9.857s) [main            ]              petsc.cpp:675   INFO| PETSc Krylov solver starting to solve system.\n",
      "2022-11-21 21:00:49.117 (  10.312s) [main            ]         TimeLogger.cpp:28    INFO| Elapsed wall, usr, sys time: 0.455070, 0.420000, 0.050000 (PETSc Krylov solver)\n",
      "2022-11-21 21:00:49.132 (  10.326s) [main            ]       NewtonSolver.cpp:36    INFO| Newton iteration 6: r (abs) = 1.25525 (tol = 1e-08) r (rel) = 0.00853785(tol = 1e-08)\n",
      "2022-11-21 21:00:49.325 (  10.519s) [main            ]              petsc.cpp:675   INFO| PETSc Krylov solver starting to solve system.\n",
      "2022-11-21 21:00:49.763 (  10.957s) [main            ]         TimeLogger.cpp:28    INFO| Elapsed wall, usr, sys time: 0.438110, 0.390000, 0.040000 (PETSc Krylov solver)\n",
      "2022-11-21 21:00:49.773 (  10.967s) [main            ]       NewtonSolver.cpp:36    INFO| Newton iteration 7: r (abs) = 0.00849512 (tol = 1e-08) r (rel) = 5.77813e-05(tol = 1e-08)\n",
      "2022-11-21 21:00:49.958 (  11.153s) [main            ]              petsc.cpp:675   INFO| PETSc Krylov solver starting to solve system.\n",
      "2022-11-21 21:00:50.385 (  11.579s) [main            ]         TimeLogger.cpp:28    INFO| Elapsed wall, usr, sys time: 0.426390, 0.390000, 0.040000 (PETSc Krylov solver)\n",
      "2022-11-21 21:00:50.401 (  11.596s) [main            ]       NewtonSolver.cpp:36    INFO| Newton iteration 8: r (abs) = 0.000192107 (tol = 1e-08) r (rel) = 1.30665e-06(tol = 1e-08)\n",
      "2022-11-21 21:00:50.609 (  11.803s) [main            ]              petsc.cpp:675   INFO| PETSc Krylov solver starting to solve system.\n",
      "2022-11-21 21:00:51.042 (  12.236s) [main            ]         TimeLogger.cpp:28    INFO| Elapsed wall, usr, sys time: 0.433221, 0.390000, 0.050000 (PETSc Krylov solver)\n",
      "2022-11-21 21:00:51.056 (  12.250s) [main            ]       NewtonSolver.cpp:36    INFO| Newton iteration 9: r (abs) = 1.70369e-10 (tol = 1e-08) r (rel) = 1.1588e-12(tol = 1e-08)\n",
      "2022-11-21 21:00:51.056 (  12.250s) [main            ]       NewtonSolver.cpp:255   INFO| Newton solver finished in 9 iterations and 9 linear solver iterations.\n"
     ]
    },
    {
     "name": "stdout",
     "output_type": "stream",
     "text": [
      "Time step 2, Number of iterations 9, Load [ 0.  0. -3.]\n"
     ]
    },
    {
     "name": "stderr",
     "output_type": "stream",
     "text": [
      "2022-11-21 21:00:51.385 (  12.579s) [main            ]              petsc.cpp:675   INFO| PETSc Krylov solver starting to solve system.\n",
      "2022-11-21 21:00:51.789 (  12.983s) [main            ]         TimeLogger.cpp:28    INFO| Elapsed wall, usr, sys time: 0.403446, 0.380000, 0.030000 (PETSc Krylov solver)\n",
      "2022-11-21 21:00:51.997 (  13.191s) [main            ]              petsc.cpp:675   INFO| PETSc Krylov solver starting to solve system.\n",
      "2022-11-21 21:00:52.409 (  13.603s) [main            ]         TimeLogger.cpp:28    INFO| Elapsed wall, usr, sys time: 0.411893, 0.360000, 0.050000 (PETSc Krylov solver)\n",
      "2022-11-21 21:00:52.418 (  13.613s) [main            ]       NewtonSolver.cpp:36    INFO| Newton iteration 2: r (abs) = 10.0011 (tol = 1e-08) r (rel) = 0.0887471(tol = 1e-08)\n",
      "2022-11-21 21:00:52.622 (  13.816s) [main            ]              petsc.cpp:675   INFO| PETSc Krylov solver starting to solve system.\n",
      "2022-11-21 21:00:53.036 (  14.230s) [main            ]         TimeLogger.cpp:28    INFO| Elapsed wall, usr, sys time: 0.414201, 0.360000, 0.050000 (PETSc Krylov solver)\n",
      "2022-11-21 21:00:53.046 (  14.240s) [main            ]       NewtonSolver.cpp:36    INFO| Newton iteration 3: r (abs) = 5.33026 (tol = 1e-08) r (rel) = 0.0472992(tol = 1e-08)\n",
      "2022-11-21 21:00:53.246 (  14.440s) [main            ]              petsc.cpp:675   INFO| PETSc Krylov solver starting to solve system.\n",
      "2022-11-21 21:00:53.667 (  14.861s) [main            ]         TimeLogger.cpp:28    INFO| Elapsed wall, usr, sys time: 0.421135, 0.370000, 0.060000 (PETSc Krylov solver)\n",
      "2022-11-21 21:00:53.681 (  14.875s) [main            ]       NewtonSolver.cpp:36    INFO| Newton iteration 4: r (abs) = 11.9901 (tol = 1e-08) r (rel) = 0.106397(tol = 1e-08)\n",
      "2022-11-21 21:00:53.883 (  15.078s) [main            ]              petsc.cpp:675   INFO| PETSc Krylov solver starting to solve system.\n",
      "2022-11-21 21:00:54.323 (  15.518s) [main            ]         TimeLogger.cpp:28    INFO| Elapsed wall, usr, sys time: 0.439948, 0.410000, 0.030000 (PETSc Krylov solver)\n",
      "2022-11-21 21:00:54.336 (  15.530s) [main            ]       NewtonSolver.cpp:36    INFO| Newton iteration 5: r (abs) = 2.29702 (tol = 1e-08) r (rel) = 0.0203831(tol = 1e-08)\n",
      "2022-11-21 21:00:54.551 (  15.745s) [main            ]              petsc.cpp:675   INFO| PETSc Krylov solver starting to solve system.\n",
      "2022-11-21 21:00:54.967 (  16.161s) [main            ]         TimeLogger.cpp:28    INFO| Elapsed wall, usr, sys time: 0.416131, 0.380000, 0.040000 (PETSc Krylov solver)\n",
      "2022-11-21 21:00:54.983 (  16.177s) [main            ]       NewtonSolver.cpp:36    INFO| Newton iteration 6: r (abs) = 3.90234 (tol = 1e-08) r (rel) = 0.0346282(tol = 1e-08)\n",
      "2022-11-21 21:00:55.188 (  16.382s) [main            ]              petsc.cpp:675   INFO| PETSc Krylov solver starting to solve system.\n",
      "2022-11-21 21:00:55.630 (  16.825s) [main            ]         TimeLogger.cpp:28    INFO| Elapsed wall, usr, sys time: 0.442174, 0.380000, 0.060000 (PETSc Krylov solver)\n",
      "2022-11-21 21:00:55.645 (  16.839s) [main            ]       NewtonSolver.cpp:36    INFO| Newton iteration 7: r (abs) = 0.236535 (tol = 1e-08) r (rel) = 0.00209895(tol = 1e-08)\n",
      "2022-11-21 21:00:55.838 (  17.032s) [main            ]              petsc.cpp:675   INFO| PETSc Krylov solver starting to solve system.\n",
      "2022-11-21 21:00:56.251 (  17.446s) [main            ]         TimeLogger.cpp:28    INFO| Elapsed wall, usr, sys time: 0.413523, 0.380000, 0.040000 (PETSc Krylov solver)\n",
      "2022-11-21 21:00:56.262 (  17.456s) [main            ]       NewtonSolver.cpp:36    INFO| Newton iteration 8: r (abs) = 0.0427142 (tol = 1e-08) r (rel) = 0.000379034(tol = 1e-08)\n",
      "2022-11-21 21:00:56.469 (  17.663s) [main            ]              petsc.cpp:675   INFO| PETSc Krylov solver starting to solve system.\n",
      "2022-11-21 21:00:56.871 (  18.065s) [main            ]         TimeLogger.cpp:28    INFO| Elapsed wall, usr, sys time: 0.401802, 0.390000, 0.030000 (PETSc Krylov solver)\n",
      "2022-11-21 21:00:56.886 (  18.081s) [main            ]       NewtonSolver.cpp:36    INFO| Newton iteration 9: r (abs) = 2.87798e-05 (tol = 1e-08) r (rel) = 2.55384e-07(tol = 1e-08)\n",
      "2022-11-21 21:00:57.091 (  18.285s) [main            ]              petsc.cpp:675   INFO| PETSc Krylov solver starting to solve system.\n",
      "2022-11-21 21:00:57.512 (  18.706s) [main            ]         TimeLogger.cpp:28    INFO| Elapsed wall, usr, sys time: 0.421529, 0.370000, 0.050000 (PETSc Krylov solver)\n",
      "2022-11-21 21:00:57.523 (  18.717s) [main            ]       NewtonSolver.cpp:36    INFO| Newton iteration 10: r (abs) = 6.08768e-10 (tol = 1e-08) r (rel) = 5.40203e-12(tol = 1e-08)\n",
      "2022-11-21 21:00:57.523 (  18.717s) [main            ]       NewtonSolver.cpp:255   INFO| Newton solver finished in 10 iterations and 10 linear solver iterations.\n"
     ]
    },
    {
     "name": "stdout",
     "output_type": "stream",
     "text": [
      "Time step 3, Number of iterations 10, Load [ 0.   0.  -4.5]\n"
     ]
    },
    {
     "name": "stderr",
     "output_type": "stream",
     "text": [
      "2022-11-21 21:00:57.830 (  19.025s) [main            ]              petsc.cpp:675   INFO| PETSc Krylov solver starting to solve system.\n",
      "2022-11-21 21:00:58.230 (  19.424s) [main            ]         TimeLogger.cpp:28    INFO| Elapsed wall, usr, sys time: 0.399224, 0.350000, 0.050000 (PETSc Krylov solver)\n",
      "2022-11-21 21:00:58.446 (  19.640s) [main            ]              petsc.cpp:675   INFO| PETSc Krylov solver starting to solve system.\n",
      "2022-11-21 21:00:58.865 (  20.059s) [main            ]         TimeLogger.cpp:28    INFO| Elapsed wall, usr, sys time: 0.418814, 0.390000, 0.030000 (PETSc Krylov solver)\n",
      "2022-11-21 21:00:58.875 (  20.069s) [main            ]       NewtonSolver.cpp:36    INFO| Newton iteration 2: r (abs) = 5.50693 (tol = 1e-08) r (rel) = 0.0653918(tol = 1e-08)\n",
      "2022-11-21 21:00:59.080 (  20.274s) [main            ]              petsc.cpp:675   INFO| PETSc Krylov solver starting to solve system.\n",
      "2022-11-21 21:00:59.500 (  20.694s) [main            ]         TimeLogger.cpp:28    INFO| Elapsed wall, usr, sys time: 0.419936, 0.380000, 0.030000 (PETSc Krylov solver)\n",
      "2022-11-21 21:00:59.509 (  20.704s) [main            ]       NewtonSolver.cpp:36    INFO| Newton iteration 3: r (abs) = 26.2489 (tol = 1e-08) r (rel) = 0.311692(tol = 1e-08)\n",
      "2022-11-21 21:00:59.706 (  20.900s) [main            ]              petsc.cpp:675   INFO| PETSc Krylov solver starting to solve system.\n",
      "2022-11-21 21:01:00.140 (  21.334s) [main            ]         TimeLogger.cpp:28    INFO| Elapsed wall, usr, sys time: 0.433518, 0.390000, 0.050000 (PETSc Krylov solver)\n",
      "2022-11-21 21:01:00.151 (  21.345s) [main            ]       NewtonSolver.cpp:36    INFO| Newton iteration 4: r (abs) = 2.30927 (tol = 1e-08) r (rel) = 0.0274213(tol = 1e-08)\n",
      "2022-11-21 21:01:00.347 (  21.541s) [main            ]              petsc.cpp:675   INFO| PETSc Krylov solver starting to solve system.\n",
      "2022-11-21 21:01:00.742 (  21.936s) [main            ]         TimeLogger.cpp:28    INFO| Elapsed wall, usr, sys time: 0.394603, 0.350000, 0.050000 (PETSc Krylov solver)\n",
      "2022-11-21 21:01:00.751 (  21.945s) [main            ]       NewtonSolver.cpp:36    INFO| Newton iteration 5: r (abs) = 14.0562 (tol = 1e-08) r (rel) = 0.16691(tol = 1e-08)\n",
      "2022-11-21 21:01:00.931 (  22.125s) [main            ]              petsc.cpp:675   INFO| PETSc Krylov solver starting to solve system.\n",
      "2022-11-21 21:01:01.381 (  22.575s) [main            ]         TimeLogger.cpp:28    INFO| Elapsed wall, usr, sys time: 0.450431, 0.390000, 0.050000 (PETSc Krylov solver)\n",
      "2022-11-21 21:01:01.396 (  22.590s) [main            ]       NewtonSolver.cpp:36    INFO| Newton iteration 6: r (abs) = 0.222774 (tol = 1e-08) r (rel) = 0.00264532(tol = 1e-08)\n",
      "2022-11-21 21:01:01.595 (  22.790s) [main            ]              petsc.cpp:675   INFO| PETSc Krylov solver starting to solve system.\n",
      "2022-11-21 21:01:02.062 (  23.256s) [main            ]         TimeLogger.cpp:28    INFO| Elapsed wall, usr, sys time: 0.466179, 0.420000, 0.050000 (PETSc Krylov solver)\n",
      "2022-11-21 21:01:02.071 (  23.265s) [main            ]       NewtonSolver.cpp:36    INFO| Newton iteration 7: r (abs) = 0.286671 (tol = 1e-08) r (rel) = 0.00340406(tol = 1e-08)\n",
      "2022-11-21 21:01:02.269 (  23.464s) [main            ]              petsc.cpp:675   INFO| PETSc Krylov solver starting to solve system.\n",
      "2022-11-21 21:01:02.677 (  23.871s) [main            ]         TimeLogger.cpp:28    INFO| Elapsed wall, usr, sys time: 0.407861, 0.340000, 0.070000 (PETSc Krylov solver)\n",
      "2022-11-21 21:01:02.690 (  23.885s) [main            ]       NewtonSolver.cpp:36    INFO| Newton iteration 8: r (abs) = 0.000321869 (tol = 1e-08) r (rel) = 3.82203e-06(tol = 1e-08)\n"
     ]
    },
    {
     "name": "stdout",
     "output_type": "stream",
     "text": [
      "Time step 4, Number of iterations 9, Load [ 0.  0. -6.]\n"
     ]
    },
    {
     "name": "stderr",
     "output_type": "stream",
     "text": [
      "2022-11-21 21:01:02.892 (  24.086s) [main            ]              petsc.cpp:675   INFO| PETSc Krylov solver starting to solve system.\n",
      "2022-11-21 21:01:03.330 (  24.524s) [main            ]         TimeLogger.cpp:28    INFO| Elapsed wall, usr, sys time: 0.437393, 0.390000, 0.040000 (PETSc Krylov solver)\n",
      "2022-11-21 21:01:03.341 (  24.535s) [main            ]       NewtonSolver.cpp:36    INFO| Newton iteration 9: r (abs) = 2.63797e-07 (tol = 1e-08) r (rel) = 3.13244e-09(tol = 1e-08)\n",
      "2022-11-21 21:01:03.341 (  24.535s) [main            ]       NewtonSolver.cpp:255   INFO| Newton solver finished in 9 iterations and 9 linear solver iterations.\n",
      "2022-11-21 21:01:03.695 (  24.889s) [main            ]              petsc.cpp:675   INFO| PETSc Krylov solver starting to solve system.\n",
      "2022-11-21 21:01:04.137 (  25.331s) [main            ]         TimeLogger.cpp:28    INFO| Elapsed wall, usr, sys time: 0.442077, 0.420000, 0.030000 (PETSc Krylov solver)\n",
      "2022-11-21 21:01:04.375 (  25.570s) [main            ]              petsc.cpp:675   INFO| PETSc Krylov solver starting to solve system.\n",
      "2022-11-21 21:01:04.803 (  25.997s) [main            ]         TimeLogger.cpp:28    INFO| Elapsed wall, usr, sys time: 0.427702, 0.390000, 0.040000 (PETSc Krylov solver)\n",
      "2022-11-21 21:01:04.815 (  26.009s) [main            ]       NewtonSolver.cpp:36    INFO| Newton iteration 2: r (abs) = 3.19462 (tol = 1e-08) r (rel) = 0.0496479(tol = 1e-08)\n",
      "2022-11-21 21:01:05.023 (  26.218s) [main            ]              petsc.cpp:675   INFO| PETSc Krylov solver starting to solve system.\n",
      "2022-11-21 21:01:05.469 (  26.663s) [main            ]         TimeLogger.cpp:28    INFO| Elapsed wall, usr, sys time: 0.445087, 0.400000, 0.040000 (PETSc Krylov solver)\n",
      "2022-11-21 21:01:05.484 (  26.678s) [main            ]       NewtonSolver.cpp:36    INFO| Newton iteration 3: r (abs) = 7.71429 (tol = 1e-08) r (rel) = 0.119888(tol = 1e-08)\n",
      "2022-11-21 21:01:05.694 (  26.888s) [main            ]              petsc.cpp:675   INFO| PETSc Krylov solver starting to solve system.\n",
      "2022-11-21 21:01:06.125 (  27.319s) [main            ]         TimeLogger.cpp:28    INFO| Elapsed wall, usr, sys time: 0.431002, 0.390000, 0.040000 (PETSc Krylov solver)\n",
      "2022-11-21 21:01:06.138 (  27.333s) [main            ]       NewtonSolver.cpp:36    INFO| Newton iteration 4: r (abs) = 0.850873 (tol = 1e-08) r (rel) = 0.0132235(tol = 1e-08)\n",
      "2022-11-21 21:01:06.325 (  27.519s) [main            ]              petsc.cpp:675   INFO| PETSc Krylov solver starting to solve system.\n",
      "2022-11-21 21:01:06.773 (  27.968s) [main            ]         TimeLogger.cpp:28    INFO| Elapsed wall, usr, sys time: 0.448435, 0.400000, 0.060000 (PETSc Krylov solver)\n",
      "2022-11-21 21:01:06.786 (  27.981s) [main            ]       NewtonSolver.cpp:36    INFO| Newton iteration 5: r (abs) = 0.371434 (tol = 1e-08) r (rel) = 0.0057725(tol = 1e-08)\n",
      "2022-11-21 21:01:06.975 (  28.169s) [main            ]              petsc.cpp:675   INFO| PETSc Krylov solver starting to solve system.\n",
      "2022-11-21 21:01:07.361 (  28.555s) [main            ]         TimeLogger.cpp:28    INFO| Elapsed wall, usr, sys time: 0.386469, 0.320000, 0.060000 (PETSc Krylov solver)\n",
      "2022-11-21 21:01:07.375 (  28.569s) [main            ]       NewtonSolver.cpp:36    INFO| Newton iteration 6: r (abs) = 0.00215066 (tol = 1e-08) r (rel) = 3.34236e-05(tol = 1e-08)\n",
      "2022-11-21 21:01:07.565 (  28.760s) [main            ]              petsc.cpp:675   INFO| PETSc Krylov solver starting to solve system.\n",
      "2022-11-21 21:01:07.955 (  29.149s) [main            ]         TimeLogger.cpp:28    INFO| Elapsed wall, usr, sys time: 0.389779, 0.350000, 0.040000 (PETSc Krylov solver)\n",
      "2022-11-21 21:01:07.970 (  29.164s) [main            ]       NewtonSolver.cpp:36    INFO| Newton iteration 7: r (abs) = 2.54607e-06 (tol = 1e-08) r (rel) = 3.95687e-08(tol = 1e-08)\n",
      "2022-11-21 21:01:08.153 (  29.347s) [main            ]              petsc.cpp:675   INFO| PETSc Krylov solver starting to solve system.\n",
      "2022-11-21 21:01:08.529 (  29.724s) [main            ]         TimeLogger.cpp:28    INFO| Elapsed wall, usr, sys time: 0.376676, 0.350000, 0.030000 (PETSc Krylov solver)\n",
      "2022-11-21 21:01:08.544 (  29.738s) [main            ]       NewtonSolver.cpp:36    INFO| Newton iteration 8: r (abs) = 2.62506e-13 (tol = 1e-08) r (rel) = 4.07963e-15(tol = 1e-08)\n",
      "2022-11-21 21:01:08.544 (  29.738s) [main            ]       NewtonSolver.cpp:255   INFO| Newton solver finished in 8 iterations and 8 linear solver iterations.\n"
     ]
    },
    {
     "name": "stdout",
     "output_type": "stream",
     "text": [
      "Time step 5, Number of iterations 8, Load [ 0.   0.  -7.5]\n"
     ]
    },
    {
     "name": "stderr",
     "output_type": "stream",
     "text": [
      "2022-11-21 21:01:08.855 (  30.049s) [main            ]              petsc.cpp:675   INFO| PETSc Krylov solver starting to solve system.\n",
      "2022-11-21 21:01:09.234 (  30.428s) [main            ]         TimeLogger.cpp:28    INFO| Elapsed wall, usr, sys time: 0.378799, 0.340000, 0.030000 (PETSc Krylov solver)\n",
      "2022-11-21 21:01:09.440 (  30.634s) [main            ]              petsc.cpp:675   INFO| PETSc Krylov solver starting to solve system.\n",
      "2022-11-21 21:01:09.825 (  31.019s) [main            ]         TimeLogger.cpp:28    INFO| Elapsed wall, usr, sys time: 0.384398, 0.340000, 0.060000 (PETSc Krylov solver)\n",
      "2022-11-21 21:01:09.839 (  31.034s) [main            ]       NewtonSolver.cpp:36    INFO| Newton iteration 2: r (abs) = 2.00649 (tol = 1e-08) r (rel) = 0.0395622(tol = 1e-08)\n",
      "2022-11-21 21:01:10.029 (  31.223s) [main            ]              petsc.cpp:675   INFO| PETSc Krylov solver starting to solve system.\n",
      "2022-11-21 21:01:10.414 (  31.608s) [main            ]         TimeLogger.cpp:28    INFO| Elapsed wall, usr, sys time: 0.385174, 0.340000, 0.040000 (PETSc Krylov solver)\n",
      "2022-11-21 21:01:10.427 (  31.622s) [main            ]       NewtonSolver.cpp:36    INFO| Newton iteration 3: r (abs) = 4.60977 (tol = 1e-08) r (rel) = 0.0908914(tol = 1e-08)\n",
      "2022-11-21 21:01:10.611 (  31.805s) [main            ]              petsc.cpp:675   INFO| PETSc Krylov solver starting to solve system.\n",
      "2022-11-21 21:01:11.026 (  32.221s) [main            ]         TimeLogger.cpp:28    INFO| Elapsed wall, usr, sys time: 0.415641, 0.390000, 0.030000 (PETSc Krylov solver)\n",
      "2022-11-21 21:01:11.041 (  32.235s) [main            ]       NewtonSolver.cpp:36    INFO| Newton iteration 4: r (abs) = 0.185372 (tol = 1e-08) r (rel) = 0.00365501(tol = 1e-08)\n",
      "2022-11-21 21:01:11.251 (  32.446s) [main            ]              petsc.cpp:675   INFO| PETSc Krylov solver starting to solve system.\n",
      "2022-11-21 21:01:11.696 (  32.890s) [main            ]         TimeLogger.cpp:28    INFO| Elapsed wall, usr, sys time: 0.444782, 0.380000, 0.060000 (PETSc Krylov solver)\n",
      "2022-11-21 21:01:11.706 (  32.900s) [main            ]       NewtonSolver.cpp:36    INFO| Newton iteration 5: r (abs) = 0.024688 (tol = 1e-08) r (rel) = 0.000486777(tol = 1e-08)\n",
      "2022-11-21 21:01:11.908 (  33.102s) [main            ]              petsc.cpp:675   INFO| PETSc Krylov solver starting to solve system.\n",
      "2022-11-21 21:01:12.337 (  33.531s) [main            ]         TimeLogger.cpp:28    INFO| Elapsed wall, usr, sys time: 0.428332, 0.390000, 0.040000 (PETSc Krylov solver)\n",
      "2022-11-21 21:01:12.350 (  33.545s) [main            ]       NewtonSolver.cpp:36    INFO| Newton iteration 6: r (abs) = 5.69255e-06 (tol = 1e-08) r (rel) = 1.12241e-07(tol = 1e-08)\n",
      "2022-11-21 21:01:12.546 (  33.740s) [main            ]              petsc.cpp:675   INFO| PETSc Krylov solver starting to solve system.\n",
      "2022-11-21 21:01:12.953 (  34.148s) [main            ]         TimeLogger.cpp:28    INFO| Elapsed wall, usr, sys time: 0.407520, 0.370000, 0.040000 (PETSc Krylov solver)\n",
      "2022-11-21 21:01:12.966 (  34.160s) [main            ]       NewtonSolver.cpp:36    INFO| Newton iteration 7: r (abs) = 2.61602e-11 (tol = 1e-08) r (rel) = 5.15804e-13(tol = 1e-08)\n",
      "2022-11-21 21:01:12.966 (  34.161s) [main            ]       NewtonSolver.cpp:255   INFO| Newton solver finished in 7 iterations and 7 linear solver iterations.\n"
     ]
    },
    {
     "name": "stdout",
     "output_type": "stream",
     "text": [
      "Time step 6, Number of iterations 7, Load [ 0.  0. -9.]\n"
     ]
    },
    {
     "name": "stderr",
     "output_type": "stream",
     "text": [
      "2022-11-21 21:01:13.309 (  34.503s) [main            ]              petsc.cpp:675   INFO| PETSc Krylov solver starting to solve system.\n",
      "2022-11-21 21:01:13.741 (  34.935s) [main            ]         TimeLogger.cpp:28    INFO| Elapsed wall, usr, sys time: 0.432035, 0.400000, 0.030000 (PETSc Krylov solver)\n",
      "2022-11-21 21:01:13.973 (  35.167s) [main            ]              petsc.cpp:675   INFO| PETSc Krylov solver starting to solve system.\n",
      "2022-11-21 21:01:14.404 (  35.599s) [main            ]         TimeLogger.cpp:28    INFO| Elapsed wall, usr, sys time: 0.431272, 0.400000, 0.040000 (PETSc Krylov solver)\n",
      "2022-11-21 21:01:14.421 (  35.615s) [main            ]       NewtonSolver.cpp:36    INFO| Newton iteration 2: r (abs) = 1.38506 (tol = 1e-08) r (rel) = 0.0336622(tol = 1e-08)\n",
      "2022-11-21 21:01:14.629 (  35.823s) [main            ]              petsc.cpp:675   INFO| PETSc Krylov solver starting to solve system.\n",
      "2022-11-21 21:01:15.100 (  36.294s) [main            ]         TimeLogger.cpp:28    INFO| Elapsed wall, usr, sys time: 0.471107, 0.420000, 0.060000 (PETSc Krylov solver)\n",
      "2022-11-21 21:01:15.109 (  36.303s) [main            ]       NewtonSolver.cpp:36    INFO| Newton iteration 3: r (abs) = 3.03739 (tol = 1e-08) r (rel) = 0.07382(tol = 1e-08)\n",
      "2022-11-21 21:01:15.292 (  36.487s) [main            ]              petsc.cpp:675   INFO| PETSc Krylov solver starting to solve system.\n",
      "2022-11-21 21:01:15.747 (  36.942s) [main            ]         TimeLogger.cpp:28    INFO| Elapsed wall, usr, sys time: 0.455043, 0.400000, 0.050000 (PETSc Krylov solver)\n",
      "2022-11-21 21:01:15.763 (  36.957s) [main            ]       NewtonSolver.cpp:36    INFO| Newton iteration 4: r (abs) = 0.0412386 (tol = 1e-08) r (rel) = 0.00100225(tol = 1e-08)\n",
      "2022-11-21 21:01:15.960 (  37.155s) [main            ]              petsc.cpp:675   INFO| PETSc Krylov solver starting to solve system.\n",
      "2022-11-21 21:01:16.374 (  37.569s) [main            ]         TimeLogger.cpp:28    INFO| Elapsed wall, usr, sys time: 0.413924, 0.390000, 0.040000 (PETSc Krylov solver)\n",
      "2022-11-21 21:01:16.388 (  37.582s) [main            ]       NewtonSolver.cpp:36    INFO| Newton iteration 5: r (abs) = 0.00205057 (tol = 1e-08) r (rel) = 4.98364e-05(tol = 1e-08)\n",
      "2022-11-21 21:01:16.594 (  37.788s) [main            ]              petsc.cpp:675   INFO| PETSc Krylov solver starting to solve system.\n",
      "2022-11-21 21:01:17.005 (  38.199s) [main            ]         TimeLogger.cpp:28    INFO| Elapsed wall, usr, sys time: 0.411388, 0.370000, 0.040000 (PETSc Krylov solver)\n",
      "2022-11-21 21:01:17.015 (  38.209s) [main            ]       NewtonSolver.cpp:36    INFO| Newton iteration 6: r (abs) = 1.78861e-08 (tol = 1e-08) r (rel) = 4.347e-10(tol = 1e-08)\n",
      "2022-11-21 21:01:17.015 (  38.209s) [main            ]       NewtonSolver.cpp:255   INFO| Newton solver finished in 6 iterations and 6 linear solver iterations.\n"
     ]
    },
    {
     "name": "stdout",
     "output_type": "stream",
     "text": [
      "Time step 7, Number of iterations 6, Load [  0.    0.  -10.5]\n"
     ]
    },
    {
     "name": "stderr",
     "output_type": "stream",
     "text": [
      "2022-11-21 21:01:17.348 (  38.543s) [main            ]              petsc.cpp:675   INFO| PETSc Krylov solver starting to solve system.\n",
      "2022-11-21 21:01:17.754 (  38.948s) [main            ]         TimeLogger.cpp:28    INFO| Elapsed wall, usr, sys time: 0.405808, 0.340000, 0.060000 (PETSc Krylov solver)\n",
      "2022-11-21 21:01:17.975 (  39.169s) [main            ]              petsc.cpp:675   INFO| PETSc Krylov solver starting to solve system.\n",
      "2022-11-21 21:01:18.375 (  39.569s) [main            ]         TimeLogger.cpp:28    INFO| Elapsed wall, usr, sys time: 0.400473, 0.350000, 0.050000 (PETSc Krylov solver)\n",
      "2022-11-21 21:01:18.391 (  39.585s) [main            ]       NewtonSolver.cpp:36    INFO| Newton iteration 2: r (abs) = 1.06336 (tol = 1e-08) r (rel) = 0.031085(tol = 1e-08)\n",
      "2022-11-21 21:01:18.602 (  39.797s) [main            ]              petsc.cpp:675   INFO| PETSc Krylov solver starting to solve system.\n",
      "2022-11-21 21:01:19.006 (  40.200s) [main            ]         TimeLogger.cpp:28    INFO| Elapsed wall, usr, sys time: 0.403737, 0.370000, 0.040000 (PETSc Krylov solver)\n",
      "2022-11-21 21:01:19.020 (  40.215s) [main            ]       NewtonSolver.cpp:36    INFO| Newton iteration 3: r (abs) = 2.0477 (tol = 1e-08) r (rel) = 0.0598598(tol = 1e-08)\n",
      "2022-11-21 21:01:19.222 (  40.416s) [main            ]              petsc.cpp:675   INFO| PETSc Krylov solver starting to solve system.\n",
      "2022-11-21 21:01:19.643 (  40.837s) [main            ]         TimeLogger.cpp:28    INFO| Elapsed wall, usr, sys time: 0.420798, 0.380000, 0.040000 (PETSc Krylov solver)\n",
      "2022-11-21 21:01:19.658 (  40.852s) [main            ]       NewtonSolver.cpp:36    INFO| Newton iteration 4: r (abs) = 0.00897719 (tol = 1e-08) r (rel) = 0.000262427(tol = 1e-08)\n",
      "2022-11-21 21:01:19.868 (  41.063s) [main            ]              petsc.cpp:675   INFO| PETSc Krylov solver starting to solve system.\n",
      "2022-11-21 21:01:20.313 (  41.507s) [main            ]         TimeLogger.cpp:28    INFO| Elapsed wall, usr, sys time: 0.444724, 0.380000, 0.060000 (PETSc Krylov solver)\n",
      "2022-11-21 21:01:20.328 (  41.522s) [main            ]       NewtonSolver.cpp:36    INFO| Newton iteration 5: r (abs) = 0.000167422 (tol = 1e-08) r (rel) = 4.89419e-06(tol = 1e-08)\n",
      "2022-11-21 21:01:20.532 (  41.726s) [main            ]              petsc.cpp:675   INFO| PETSc Krylov solver starting to solve system.\n",
      "2022-11-21 21:01:20.967 (  42.161s) [main            ]         TimeLogger.cpp:28    INFO| Elapsed wall, usr, sys time: 0.434653, 0.380000, 0.060000 (PETSc Krylov solver)\n",
      "2022-11-21 21:01:20.976 (  42.170s) [main            ]       NewtonSolver.cpp:36    INFO| Newton iteration 6: r (abs) = 3.25075e-11 (tol = 1e-08) r (rel) = 9.50282e-13(tol = 1e-08)\n",
      "2022-11-21 21:01:20.976 (  42.170s) [main            ]       NewtonSolver.cpp:255   INFO| Newton solver finished in 6 iterations and 6 linear solver iterations.\n"
     ]
    },
    {
     "name": "stdout",
     "output_type": "stream",
     "text": [
      "Time step 8, Number of iterations 6, Load [  0.   0. -12.]\n"
     ]
    },
    {
     "name": "stderr",
     "output_type": "stream",
     "text": [
      "2022-11-21 21:01:21.350 (  42.544s) [main            ]              petsc.cpp:675   INFO| PETSc Krylov solver starting to solve system.\n",
      "2022-11-21 21:01:21.772 (  42.966s) [main            ]         TimeLogger.cpp:28    INFO| Elapsed wall, usr, sys time: 0.421819, 0.370000, 0.050000 (PETSc Krylov solver)\n",
      "2022-11-21 21:01:22.015 (  43.209s) [main            ]              petsc.cpp:675   INFO| PETSc Krylov solver starting to solve system.\n",
      "2022-11-21 21:01:22.450 (  43.645s) [main            ]         TimeLogger.cpp:28    INFO| Elapsed wall, usr, sys time: 0.435635, 0.410000, 0.030000 (PETSc Krylov solver)\n",
      "2022-11-21 21:01:22.466 (  43.660s) [main            ]       NewtonSolver.cpp:36    INFO| Newton iteration 2: r (abs) = 0.898789 (tol = 1e-08) r (rel) = 0.0309666(tol = 1e-08)\n",
      "2022-11-21 21:01:22.687 (  43.881s) [main            ]              petsc.cpp:675   INFO| PETSc Krylov solver starting to solve system.\n",
      "2022-11-21 21:01:23.081 (  44.276s) [main            ]         TimeLogger.cpp:28    INFO| Elapsed wall, usr, sys time: 0.394647, 0.350000, 0.050000 (PETSc Krylov solver)\n",
      "2022-11-21 21:01:23.095 (  44.289s) [main            ]       NewtonSolver.cpp:36    INFO| Newton iteration 3: r (abs) = 1.38354 (tol = 1e-08) r (rel) = 0.0476679(tol = 1e-08)\n",
      "2022-11-21 21:01:23.282 (  44.476s) [main            ]              petsc.cpp:675   INFO| PETSc Krylov solver starting to solve system.\n",
      "2022-11-21 21:01:23.734 (  44.928s) [main            ]         TimeLogger.cpp:28    INFO| Elapsed wall, usr, sys time: 0.452076, 0.410000, 0.040000 (PETSc Krylov solver)\n",
      "2022-11-21 21:01:23.748 (  44.943s) [main            ]       NewtonSolver.cpp:36    INFO| Newton iteration 4: r (abs) = 0.00185096 (tol = 1e-08) r (rel) = 6.37724e-05(tol = 1e-08)\n",
      "2022-11-21 21:01:23.944 (  45.139s) [main            ]              petsc.cpp:675   INFO| PETSc Krylov solver starting to solve system.\n",
      "2022-11-21 21:01:24.384 (  45.578s) [main            ]         TimeLogger.cpp:28    INFO| Elapsed wall, usr, sys time: 0.439849, 0.410000, 0.040000 (PETSc Krylov solver)\n",
      "2022-11-21 21:01:24.393 (  45.587s) [main            ]       NewtonSolver.cpp:36    INFO| Newton iteration 5: r (abs) = 7.87183e-06 (tol = 1e-08) r (rel) = 2.71213e-07(tol = 1e-08)\n"
     ]
    },
    {
     "name": "stdout",
     "output_type": "stream",
     "text": [
      "Time step 9, Number of iterations 6, Load [  0.    0.  -13.5]\n"
     ]
    },
    {
     "name": "stderr",
     "output_type": "stream",
     "text": [
      "2022-11-21 21:01:24.573 (  45.767s) [main            ]              petsc.cpp:675   INFO| PETSc Krylov solver starting to solve system.\n",
      "2022-11-21 21:01:24.970 (  46.164s) [main            ]         TimeLogger.cpp:28    INFO| Elapsed wall, usr, sys time: 0.396769, 0.360000, 0.030000 (PETSc Krylov solver)\n",
      "2022-11-21 21:01:24.979 (  46.173s) [main            ]       NewtonSolver.cpp:36    INFO| Newton iteration 6: r (abs) = 2.81885e-13 (tol = 1e-08) r (rel) = 9.71198e-15(tol = 1e-08)\n",
      "2022-11-21 21:01:24.979 (  46.173s) [main            ]       NewtonSolver.cpp:255   INFO| Newton solver finished in 6 iterations and 6 linear solver iterations.\n"
     ]
    }
   ],
   "source": [
    "from dolfinx import log\n",
    "log.set_log_level(log.LogLevel.INFO)\n",
    "tval0 = -1.5\n",
    "for n in range(1, 10):\n",
    "    T.value[2] = n * tval0\n",
    "    num_its, converged = solver.solve(u)\n",
    "    assert(converged)\n",
    "    u.x.scatter_forward()\n",
    "    print(f\"Time step {n}, Number of iterations {num_its}, Load {T.value}\")\n",
    "    function_grid[\"u\"][:, :len(u)] = u.x.array.reshape(geometry.shape[0], len(u))\n",
    "    magnitude.interpolate(us)\n",
    "    warped.set_active_scalars(\"mag\")\n",
    "    warped_n = function_grid.warp_by_vector(factor=1)\n",
    "    plotter.update_coordinates(warped_n.points.copy(), render=False)\n",
    "    plotter.update_scalar_bar_range([0, 10])\n",
    "    plotter.update_scalars(magnitude.x.array)\n",
    "    plotter.write_frame()\n",
    "plotter.close()"
   ]
  },
  {
   "cell_type": "markdown",
   "id": "906ef59c-7e89-46e7-9222-9a6e925f4180",
   "metadata": {},
   "source": [
    "<img src=\"./deformation.gif\" alt=\"gif\" class=\"bg-primary mb-1\" width=\"800px\">"
   ]
  },
  {
   "cell_type": "code",
   "execution_count": null,
   "id": "706b21a2-3ba8-4cb7-af34-ce9370eaff16",
   "metadata": {},
   "outputs": [],
   "source": []
  }
 ],
 "metadata": {
  "jupytext": {
   "formats": "ipynb,py:light"
  },
  "kernelspec": {
   "display_name": "Python 3 (ipykernel)",
   "language": "python",
   "name": "python3"
  },
  "language_info": {
   "codemirror_mode": {
    "name": "ipython",
    "version": 3
   },
   "file_extension": ".py",
   "mimetype": "text/x-python",
   "name": "python",
   "nbconvert_exporter": "python",
   "pygments_lexer": "ipython3",
   "version": "3.10.6"
  }
 },
 "nbformat": 4,
 "nbformat_minor": 5
}
