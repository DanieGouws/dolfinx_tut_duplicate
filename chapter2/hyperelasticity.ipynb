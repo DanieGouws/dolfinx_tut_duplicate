{
 "cells": [
  {
   "cell_type": "markdown",
   "id": "908815e6-cdac-4915-bf52-5578f978d2e7",
   "metadata": {},
   "source": [
    "# Hyperelasticity\n",
    "Author: Jørgen S. Dokken and Garth N. Wells\n",
    "\n",
    "This section shows how to solve the hyperelasticity problem for deformation of a beam.\n",
    "\n",
    "We will also show how to create a constant boundary condition for a vector function space.\n",
    "\n",
    "We start by importing DOLFINx and some additional dependencies.\n",
    "Then, we create a slender cantilever consisting of hexahedral elements and create the function space `V` for our unknown."
   ]
  },
  {
   "cell_type": "code",
   "execution_count": 1,
   "id": "optional-cameroon",
   "metadata": {
    "tags": []
   },
   "outputs": [],
   "source": [
    "from dolfinx import log, default_scalar_type\n",
    "from dolfinx.fem.petsc import NonlinearProblem\n",
    "from dolfinx.nls.petsc import NewtonSolver\n",
    "import matplotlib.pyplot as plt\n",
    "import pyvista\n",
    "from dolfinx import nls\n",
    "import numpy as np\n",
    "import ufl\n",
    "\n",
    "from mpi4py import MPI\n",
    "from dolfinx import fem, mesh, plot\n",
    "L = 20.0\n",
    "domain = mesh.create_box(MPI.COMM_WORLD, [[0.0, 0.0, 0.0], [L, 1, 1]], [20, 5, 5], mesh.CellType.hexahedron)\n",
    "V = fem.VectorFunctionSpace(domain, (\"Lagrange\", 2))"
   ]
  },
  {
   "cell_type": "markdown",
   "id": "streaming-neutral",
   "metadata": {},
   "source": [
    "We create two python functions for determining the facets to apply boundary conditions to"
   ]
  },
  {
   "cell_type": "code",
   "execution_count": 2,
   "id": "major-factor",
   "metadata": {},
   "outputs": [],
   "source": [
    "def left(x):\n",
    "    return np.isclose(x[0], 0)\n",
    "\n",
    "\n",
    "def right(x):\n",
    "    return np.isclose(x[0], L)\n",
    "\n",
    "\n",
    "fdim = domain.topology.dim - 1\n",
    "left_facets = mesh.locate_entities_boundary(domain, fdim, left)\n",
    "right_facets = mesh.locate_entities_boundary(domain, fdim, right)"
   ]
  },
  {
   "cell_type": "markdown",
   "id": "figured-world",
   "metadata": {},
   "source": [
    "Next, we create a  marker based on these two functions"
   ]
  },
  {
   "cell_type": "code",
   "execution_count": 3,
   "id": "dated-india",
   "metadata": {},
   "outputs": [],
   "source": [
    "# Concatenate and sort the arrays based on facet indices. Left facets marked with 1, right facets with two\n",
    "marked_facets = np.hstack([left_facets, right_facets])\n",
    "marked_values = np.hstack([np.full_like(left_facets, 1), np.full_like(right_facets, 2)])\n",
    "sorted_facets = np.argsort(marked_facets)\n",
    "facet_tag = mesh.meshtags(domain, fdim, marked_facets[sorted_facets], marked_values[sorted_facets])"
   ]
  },
  {
   "cell_type": "markdown",
   "id": "renewable-glossary",
   "metadata": {},
   "source": [
    "We then create a function for supplying the boundary condition on the left side, which is fixed."
   ]
  },
  {
   "cell_type": "code",
   "execution_count": 4,
   "id": "confidential-french",
   "metadata": {},
   "outputs": [],
   "source": [
    "u_bc = np.array((0,) * domain.geometry.dim, dtype=default_scalar_type)"
   ]
  },
  {
   "cell_type": "markdown",
   "id": "musical-documentation",
   "metadata": {},
   "source": [
    "To apply the boundary condition, we identity the dofs located on the facets marked by the `MeshTag`."
   ]
  },
  {
   "cell_type": "code",
   "execution_count": 5,
   "id": "written-monster",
   "metadata": {},
   "outputs": [],
   "source": [
    "left_dofs = fem.locate_dofs_topological(V, facet_tag.dim, facet_tag.find(1))\n",
    "bcs = [fem.dirichletbc(u_bc, left_dofs, V)]"
   ]
  },
  {
   "cell_type": "markdown",
   "id": "indoor-chester",
   "metadata": {},
   "source": [
    "Next, we define the body force on the reference configuration (`B`), and nominal (first Piola-Kirchhoff) traction (`T`)."
   ]
  },
  {
   "cell_type": "code",
   "execution_count": 6,
   "id": "korean-carol",
   "metadata": {},
   "outputs": [],
   "source": [
    "B = fem.Constant(domain, default_scalar_type((0, 0, 0)))\n",
    "T = fem.Constant(domain, default_scalar_type((0, 0, 0)))"
   ]
  },
  {
   "cell_type": "markdown",
   "id": "blond-dynamics",
   "metadata": {},
   "source": [
    "Define the test and solution functions on the space $V$"
   ]
  },
  {
   "cell_type": "code",
   "execution_count": 7,
   "id": "vocational-experiment",
   "metadata": {},
   "outputs": [],
   "source": [
    "v = ufl.TestFunction(V)\n",
    "u = fem.Function(V)"
   ]
  },
  {
   "cell_type": "markdown",
   "id": "bright-belle",
   "metadata": {},
   "source": [
    "Define kinematic quantities used in the problem"
   ]
  },
  {
   "cell_type": "code",
   "execution_count": 8,
   "id": "vertical-original",
   "metadata": {},
   "outputs": [],
   "source": [
    "# Spatial dimension\n",
    "d = len(u)\n",
    "\n",
    "# Identity tensor\n",
    "I = ufl.variable(ufl.Identity(d))\n",
    "\n",
    "# Deformation gradient\n",
    "F = ufl.variable(I + ufl.grad(u))\n",
    "\n",
    "# Right Cauchy-Green tensor\n",
    "C = ufl.variable(F.T * F)\n",
    "\n",
    "# Invariants of deformation tensors\n",
    "Ic = ufl.variable(ufl.tr(C))\n",
    "J = ufl.variable(ufl.det(F))"
   ]
  },
  {
   "cell_type": "markdown",
   "id": "respiratory-compromise",
   "metadata": {},
   "source": [
    "Define the elasticity model via a stored strain energy density function $\\psi$, and create the expression for the first Piola-Kirchhoff stress:"
   ]
  },
  {
   "cell_type": "code",
   "execution_count": 9,
   "id": "incorrect-hello",
   "metadata": {},
   "outputs": [],
   "source": [
    "# Elasticity parameters\n",
    "E = default_scalar_type(1.0e4)\n",
    "nu = default_scalar_type(0.3)\n",
    "mu = fem.Constant(domain, E / (2 * (1 + nu)))\n",
    "lmbda = fem.Constant(domain, E * nu / ((1 + nu) * (1 - 2 * nu)))\n",
    "# Stored strain energy density (compressible neo-Hookean model)\n",
    "psi = (mu / 2) * (Ic - 3) - mu * ufl.ln(J) + (lmbda / 2) * (ufl.ln(J))**2\n",
    "# Stress\n",
    "# Hyper-elasticity\n",
    "P = ufl.diff(psi, F)"
   ]
  },
  {
   "cell_type": "markdown",
   "id": "grateful-battlefield",
   "metadata": {},
   "source": [
    "```{admonition} Comparison to linear elasticity\n",
    "To illustrate the difference between linear and hyperelasticity, the following lines can be uncommented to solve the linear elasticity problem.\n",
    "```"
   ]
  },
  {
   "cell_type": "code",
   "execution_count": 10,
   "id": "imperial-jurisdiction",
   "metadata": {},
   "outputs": [],
   "source": [
    "# P = 2.0 * mu * ufl.sym(ufl.grad(u)) + lmbda * ufl.tr(ufl.sym(ufl.grad(u))) * I"
   ]
  },
  {
   "cell_type": "markdown",
   "id": "alleged-genesis",
   "metadata": {},
   "source": [
    "Define the variational form with traction integral over all facets with value 2. We set the quadrature degree for the integrals to 4."
   ]
  },
  {
   "cell_type": "code",
   "execution_count": 11,
   "id": "recognized-conclusion",
   "metadata": {},
   "outputs": [],
   "source": [
    "metadata = {\"quadrature_degree\": 4}\n",
    "ds = ufl.Measure('ds', domain=domain, subdomain_data=facet_tag, metadata=metadata)\n",
    "dx = ufl.Measure(\"dx\", domain=domain, metadata=metadata)\n",
    "# Define form F (we want to find u such that F(u) = 0)\n",
    "F = ufl.inner(ufl.grad(v), P) * dx - ufl.inner(v, B) * dx - ufl.inner(v, T) * ds(2)"
   ]
  },
  {
   "cell_type": "markdown",
   "id": "historic-sherman",
   "metadata": {},
   "source": [
    "As the varitional form is non-linear and written on residual form, we use the non-linear problem class from DOLFINx to set up required structures to use a Newton solver."
   ]
  },
  {
   "cell_type": "code",
   "execution_count": 12,
   "id": "threatened-devices",
   "metadata": {},
   "outputs": [],
   "source": [
    "problem = NonlinearProblem(F, u, bcs)"
   ]
  },
  {
   "cell_type": "markdown",
   "id": "qualified-phrase",
   "metadata": {},
   "source": [
    "and then create and customize the Newton solver"
   ]
  },
  {
   "cell_type": "code",
   "execution_count": 13,
   "id": "special-globe",
   "metadata": {},
   "outputs": [],
   "source": [
    "solver = NewtonSolver(domain.comm, problem)\n",
    "\n",
    "# Set Newton solver options\n",
    "solver.atol = 1e-8\n",
    "solver.rtol = 1e-8\n",
    "solver.convergence_criterion = \"incremental\"\n"
   ]
  },
  {
   "cell_type": "markdown",
   "id": "marked-hungary",
   "metadata": {},
   "source": [
    "We create a function to plot the solution at each time step."
   ]
  },
  {
   "cell_type": "code",
   "execution_count": 14,
   "id": "noble-perception",
   "metadata": {},
   "outputs": [],
   "source": [
    "pyvista.start_xvfb()\n",
    "plotter = pyvista.Plotter()\n",
    "plotter.open_gif(\"deformation.gif\", fps=3)\n",
    "\n",
    "topology, cells, geometry = plot.create_vtk_mesh(u.function_space)\n",
    "function_grid = pyvista.UnstructuredGrid(topology, cells, geometry)\n",
    "\n",
    "values = np.zeros((geometry.shape[0], 3))\n",
    "values[:, :len(u)] = u.x.array.reshape(geometry.shape[0], len(u))\n",
    "function_grid[\"u\"] = values\n",
    "function_grid.set_active_vectors(\"u\")\n",
    "\n",
    "# Warp mesh by deformation\n",
    "warped = function_grid.warp_by_vector(\"u\", factor=1)\n",
    "warped.set_active_vectors(\"u\")\n",
    "\n",
    "# Add mesh to plotter and visualize\n",
    "actor = plotter.add_mesh(warped, show_edges=True, lighting=False, clim=[0, 10])\n",
    "\n",
    "# Compute magnitude of displacement to visualize in GIF\n",
    "Vs = fem.FunctionSpace(domain, (\"Lagrange\", 2))\n",
    "magnitude = fem.Function(Vs)\n",
    "us = fem.Expression(ufl.sqrt(sum([u[i]**2 for i in range(len(u))])), Vs.element.interpolation_points())\n",
    "magnitude.interpolate(us)\n",
    "warped[\"mag\"] = magnitude.x.array"
   ]
  },
  {
   "cell_type": "markdown",
   "id": "nasty-entertainment",
   "metadata": {},
   "source": [
    "Finally, we solve the problem over several time steps, updating the y-component of the traction"
   ]
  },
  {
   "cell_type": "code",
   "execution_count": 15,
   "id": "vanilla-referral",
   "metadata": {},
   "outputs": [
    {
     "name": "stderr",
     "output_type": "stream",
     "text": [
      "2023-08-12 11:07:47.883 (   8.574s) [main            ]              petsc.cpp:698   INFO| PETSc Krylov solver starting to solve system.\n",
      "2023-08-12 11:07:48.471 (   9.162s) [main            ]         TimeLogger.cpp:28    INFO| Elapsed wall, usr, sys time: 0.587626, 0.510000, 0.070000 (PETSc Krylov solver)\n",
      "2023-08-12 11:07:48.697 (   9.388s) [main            ]              petsc.cpp:698   INFO| PETSc Krylov solver starting to solve system.\n",
      "2023-08-12 11:07:49.134 (   9.825s) [main            ]         TimeLogger.cpp:28    INFO| Elapsed wall, usr, sys time: 0.436879, 0.400000, 0.040000 (PETSc Krylov solver)\n",
      "2023-08-12 11:07:49.144 (   9.835s) [main            ]       NewtonSolver.cpp:36    INFO| Newton iteration 2: r (abs) = 22.2455 (tol = 1e-08) r (rel) = 0.134278(tol = 1e-08)\n",
      "2023-08-12 11:07:49.353 (  10.044s) [main            ]              petsc.cpp:698   INFO| PETSc Krylov solver starting to solve system.\n",
      "2023-08-12 11:07:49.786 (  10.477s) [main            ]         TimeLogger.cpp:28    INFO| Elapsed wall, usr, sys time: 0.433188, 0.400000, 0.050000 (PETSc Krylov solver)\n",
      "2023-08-12 11:07:49.796 (  10.487s) [main            ]       NewtonSolver.cpp:36    INFO| Newton iteration 3: r (abs) = 2.43261 (tol = 1e-08) r (rel) = 0.0146837(tol = 1e-08)\n",
      "2023-08-12 11:07:50.009 (  10.700s) [main            ]              petsc.cpp:698   INFO| PETSc Krylov solver starting to solve system.\n",
      "2023-08-12 11:07:50.443 (  11.134s) [main            ]         TimeLogger.cpp:28    INFO| Elapsed wall, usr, sys time: 0.433830, 0.380000, 0.050000 (PETSc Krylov solver)\n",
      "2023-08-12 11:07:50.454 (  11.145s) [main            ]       NewtonSolver.cpp:36    INFO| Newton iteration 4: r (abs) = 4.43158 (tol = 1e-08) r (rel) = 0.0267498(tol = 1e-08)\n",
      "2023-08-12 11:07:50.683 (  11.374s) [main            ]              petsc.cpp:698   INFO| PETSc Krylov solver starting to solve system.\n",
      "2023-08-12 11:07:51.162 (  11.853s) [main            ]         TimeLogger.cpp:28    INFO| Elapsed wall, usr, sys time: 0.479020, 0.430000, 0.050000 (PETSc Krylov solver)\n",
      "2023-08-12 11:07:51.173 (  11.864s) [main            ]       NewtonSolver.cpp:36    INFO| Newton iteration 5: r (abs) = 0.144189 (tol = 1e-08) r (rel) = 0.000870353(tol = 1e-08)\n",
      "2023-08-12 11:07:51.394 (  12.085s) [main            ]              petsc.cpp:698   INFO| PETSc Krylov solver starting to solve system.\n",
      "2023-08-12 11:07:51.858 (  12.549s) [main            ]         TimeLogger.cpp:28    INFO| Elapsed wall, usr, sys time: 0.463848, 0.420000, 0.050000 (PETSc Krylov solver)\n"
     ]
    },
    {
     "name": "stdout",
     "output_type": "stream",
     "text": [
      "Time step 1, Number of iterations 8, Load [ 0.   0.  -1.5]\n"
     ]
    },
    {
     "name": "stderr",
     "output_type": "stream",
     "text": [
      "2023-08-12 11:07:51.869 (  12.560s) [main            ]       NewtonSolver.cpp:36    INFO| Newton iteration 6: r (abs) = 0.021424 (tol = 1e-08) r (rel) = 0.000129319(tol = 1e-08)\n",
      "2023-08-12 11:07:52.100 (  12.791s) [main            ]              petsc.cpp:698   INFO| PETSc Krylov solver starting to solve system.\n",
      "2023-08-12 11:07:52.536 (  13.227s) [main            ]         TimeLogger.cpp:28    INFO| Elapsed wall, usr, sys time: 0.435971, 0.400000, 0.040000 (PETSc Krylov solver)\n",
      "2023-08-12 11:07:52.545 (  13.236s) [main            ]       NewtonSolver.cpp:36    INFO| Newton iteration 7: r (abs) = 4.80065e-06 (tol = 1e-08) r (rel) = 2.89777e-08(tol = 1e-08)\n",
      "2023-08-12 11:07:52.754 (  13.445s) [main            ]              petsc.cpp:698   INFO| PETSc Krylov solver starting to solve system.\n",
      "2023-08-12 11:07:53.199 (  13.890s) [main            ]         TimeLogger.cpp:28    INFO| Elapsed wall, usr, sys time: 0.444845, 0.440000, 0.020000 (PETSc Krylov solver)\n",
      "2023-08-12 11:07:53.209 (  13.900s) [main            ]       NewtonSolver.cpp:36    INFO| Newton iteration 8: r (abs) = 2.64761e-11 (tol = 1e-08) r (rel) = 1.59815e-13(tol = 1e-08)\n",
      "2023-08-12 11:07:53.209 (  13.900s) [main            ]       NewtonSolver.cpp:255   INFO| Newton solver finished in 8 iterations and 8 linear solver iterations.\n",
      "2023-08-12 11:07:53.617 (  14.308s) [main            ]              petsc.cpp:698   INFO| PETSc Krylov solver starting to solve system.\n",
      "2023-08-12 11:07:54.093 (  14.784s) [main            ]         TimeLogger.cpp:28    INFO| Elapsed wall, usr, sys time: 0.475306, 0.430000, 0.050000 (PETSc Krylov solver)\n",
      "2023-08-12 11:07:54.320 (  15.011s) [main            ]              petsc.cpp:698   INFO| PETSc Krylov solver starting to solve system.\n",
      "2023-08-12 11:07:54.810 (  15.501s) [main            ]         TimeLogger.cpp:28    INFO| Elapsed wall, usr, sys time: 0.489950, 0.440000, 0.050000 (PETSc Krylov solver)\n",
      "2023-08-12 11:07:54.821 (  15.512s) [main            ]       NewtonSolver.cpp:36    INFO| Newton iteration 2: r (abs) = 17.3254 (tol = 1e-08) r (rel) = 0.117842(tol = 1e-08)\n",
      "2023-08-12 11:07:55.051 (  15.742s) [main            ]              petsc.cpp:698   INFO| PETSc Krylov solver starting to solve system.\n",
      "2023-08-12 11:07:55.527 (  16.218s) [main            ]         TimeLogger.cpp:28    INFO| Elapsed wall, usr, sys time: 0.475897, 0.420000, 0.060000 (PETSc Krylov solver)\n",
      "2023-08-12 11:07:55.538 (  16.229s) [main            ]       NewtonSolver.cpp:36    INFO| Newton iteration 3: r (abs) = 5.14882 (tol = 1e-08) r (rel) = 0.0350207(tol = 1e-08)\n",
      "2023-08-12 11:07:55.768 (  16.459s) [main            ]              petsc.cpp:698   INFO| PETSc Krylov solver starting to solve system.\n",
      "2023-08-12 11:07:56.285 (  16.976s) [main            ]         TimeLogger.cpp:28    INFO| Elapsed wall, usr, sys time: 0.516873, 0.490000, 0.040000 (PETSc Krylov solver)\n",
      "2023-08-12 11:07:56.296 (  16.987s) [main            ]       NewtonSolver.cpp:36    INFO| Newton iteration 4: r (abs) = 7.24003 (tol = 1e-08) r (rel) = 0.0492445(tol = 1e-08)\n",
      "2023-08-12 11:07:56.578 (  17.269s) [main            ]              petsc.cpp:698   INFO| PETSc Krylov solver starting to solve system.\n",
      "2023-08-12 11:07:57.124 (  17.815s) [main            ]         TimeLogger.cpp:28    INFO| Elapsed wall, usr, sys time: 0.545815, 0.480000, 0.070000 (PETSc Krylov solver)\n",
      "2023-08-12 11:07:57.137 (  17.828s) [main            ]       NewtonSolver.cpp:36    INFO| Newton iteration 5: r (abs) = 0.777889 (tol = 1e-08) r (rel) = 0.00529096(tol = 1e-08)\n",
      "2023-08-12 11:07:57.391 (  18.082s) [main            ]              petsc.cpp:698   INFO| PETSc Krylov solver starting to solve system.\n",
      "2023-08-12 11:07:57.871 (  18.562s) [main            ]         TimeLogger.cpp:28    INFO| Elapsed wall, usr, sys time: 0.480001, 0.420000, 0.060000 (PETSc Krylov solver)\n",
      "2023-08-12 11:07:57.882 (  18.573s) [main            ]       NewtonSolver.cpp:36    INFO| Newton iteration 6: r (abs) = 1.25525 (tol = 1e-08) r (rel) = 0.00853785(tol = 1e-08)\n",
      "2023-08-12 11:07:58.101 (  18.792s) [main            ]              petsc.cpp:698   INFO| PETSc Krylov solver starting to solve system.\n",
      "2023-08-12 11:07:58.542 (  19.233s) [main            ]         TimeLogger.cpp:28    INFO| Elapsed wall, usr, sys time: 0.440557, 0.400000, 0.040000 (PETSc Krylov solver)\n",
      "2023-08-12 11:07:58.555 (  19.246s) [main            ]       NewtonSolver.cpp:36    INFO| Newton iteration 7: r (abs) = 0.00849512 (tol = 1e-08) r (rel) = 5.77813e-05(tol = 1e-08)\n",
      "2023-08-12 11:07:58.790 (  19.481s) [main            ]              petsc.cpp:698   INFO| PETSc Krylov solver starting to solve system.\n",
      "2023-08-12 11:07:59.265 (  19.956s) [main            ]         TimeLogger.cpp:28    INFO| Elapsed wall, usr, sys time: 0.475273, 0.410000, 0.060000 (PETSc Krylov solver)\n",
      "2023-08-12 11:07:59.279 (  19.970s) [main            ]       NewtonSolver.cpp:36    INFO| Newton iteration 8: r (abs) = 0.000192107 (tol = 1e-08) r (rel) = 1.30665e-06(tol = 1e-08)\n",
      "2023-08-12 11:07:59.557 (  20.248s) [main            ]              petsc.cpp:698   INFO| PETSc Krylov solver starting to solve system.\n",
      "2023-08-12 11:08:00.053 (  20.744s) [main            ]         TimeLogger.cpp:28    INFO| Elapsed wall, usr, sys time: 0.496056, 0.450000, 0.050000 (PETSc Krylov solver)\n",
      "2023-08-12 11:08:00.068 (  20.759s) [main            ]       NewtonSolver.cpp:36    INFO| Newton iteration 9: r (abs) = 1.69847e-10 (tol = 1e-08) r (rel) = 1.15525e-12(tol = 1e-08)\n",
      "2023-08-12 11:08:00.068 (  20.760s) [main            ]       NewtonSolver.cpp:255   INFO| Newton solver finished in 9 iterations and 9 linear solver iterations.\n"
     ]
    },
    {
     "name": "stdout",
     "output_type": "stream",
     "text": [
      "Time step 2, Number of iterations 9, Load [ 0.  0. -3.]\n"
     ]
    },
    {
     "name": "stderr",
     "output_type": "stream",
     "text": [
      "2023-08-12 11:08:00.371 (  21.062s) [main            ]              petsc.cpp:698   INFO| PETSc Krylov solver starting to solve system.\n",
      "2023-08-12 11:08:00.839 (  21.530s) [main            ]         TimeLogger.cpp:28    INFO| Elapsed wall, usr, sys time: 0.467343, 0.430000, 0.040000 (PETSc Krylov solver)\n",
      "2023-08-12 11:08:01.100 (  21.791s) [main            ]              petsc.cpp:698   INFO| PETSc Krylov solver starting to solve system.\n",
      "2023-08-12 11:08:01.649 (  22.340s) [main            ]         TimeLogger.cpp:28    INFO| Elapsed wall, usr, sys time: 0.549092, 0.500000, 0.060000 (PETSc Krylov solver)\n",
      "2023-08-12 11:08:01.662 (  22.353s) [main            ]       NewtonSolver.cpp:36    INFO| Newton iteration 2: r (abs) = 10.0011 (tol = 1e-08) r (rel) = 0.0887471(tol = 1e-08)\n",
      "2023-08-12 11:08:01.882 (  22.573s) [main            ]              petsc.cpp:698   INFO| PETSc Krylov solver starting to solve system.\n",
      "2023-08-12 11:08:02.398 (  23.089s) [main            ]         TimeLogger.cpp:28    INFO| Elapsed wall, usr, sys time: 0.515478, 0.490000, 0.030000 (PETSc Krylov solver)\n",
      "2023-08-12 11:08:02.409 (  23.100s) [main            ]       NewtonSolver.cpp:36    INFO| Newton iteration 3: r (abs) = 5.33026 (tol = 1e-08) r (rel) = 0.0472992(tol = 1e-08)\n",
      "2023-08-12 11:08:02.629 (  23.320s) [main            ]              petsc.cpp:698   INFO| PETSc Krylov solver starting to solve system.\n",
      "2023-08-12 11:08:03.088 (  23.779s) [main            ]         TimeLogger.cpp:28    INFO| Elapsed wall, usr, sys time: 0.459210, 0.440000, 0.030000 (PETSc Krylov solver)\n",
      "2023-08-12 11:08:03.107 (  23.798s) [main            ]       NewtonSolver.cpp:36    INFO| Newton iteration 4: r (abs) = 11.9901 (tol = 1e-08) r (rel) = 0.106397(tol = 1e-08)\n",
      "2023-08-12 11:08:03.366 (  24.057s) [main            ]              petsc.cpp:698   INFO| PETSc Krylov solver starting to solve system.\n",
      "2023-08-12 11:08:03.943 (  24.634s) [main            ]         TimeLogger.cpp:28    INFO| Elapsed wall, usr, sys time: 0.577672, 0.530000, 0.050000 (PETSc Krylov solver)\n",
      "2023-08-12 11:08:03.957 (  24.648s) [main            ]       NewtonSolver.cpp:36    INFO| Newton iteration 5: r (abs) = 2.29702 (tol = 1e-08) r (rel) = 0.0203831(tol = 1e-08)\n",
      "2023-08-12 11:08:04.196 (  24.888s) [main            ]              petsc.cpp:698   INFO| PETSc Krylov solver starting to solve system.\n",
      "2023-08-12 11:08:04.741 (  25.432s) [main            ]         TimeLogger.cpp:28    INFO| Elapsed wall, usr, sys time: 0.544654, 0.500000, 0.050000 (PETSc Krylov solver)\n",
      "2023-08-12 11:08:04.755 (  25.446s) [main            ]       NewtonSolver.cpp:36    INFO| Newton iteration 6: r (abs) = 3.90234 (tol = 1e-08) r (rel) = 0.0346282(tol = 1e-08)\n",
      "2023-08-12 11:08:05.007 (  25.698s) [main            ]              petsc.cpp:698   INFO| PETSc Krylov solver starting to solve system.\n",
      "2023-08-12 11:08:05.496 (  26.187s) [main            ]         TimeLogger.cpp:28    INFO| Elapsed wall, usr, sys time: 0.488277, 0.460000, 0.040000 (PETSc Krylov solver)\n",
      "2023-08-12 11:08:05.509 (  26.200s) [main            ]       NewtonSolver.cpp:36    INFO| Newton iteration 7: r (abs) = 0.236535 (tol = 1e-08) r (rel) = 0.00209895(tol = 1e-08)\n",
      "2023-08-12 11:08:05.737 (  26.428s) [main            ]              petsc.cpp:698   INFO| PETSc Krylov solver starting to solve system.\n",
      "2023-08-12 11:08:06.243 (  26.934s) [main            ]         TimeLogger.cpp:28    INFO| Elapsed wall, usr, sys time: 0.506296, 0.460000, 0.040000 (PETSc Krylov solver)\n",
      "2023-08-12 11:08:06.255 (  26.946s) [main            ]       NewtonSolver.cpp:36    INFO| Newton iteration 8: r (abs) = 0.0427142 (tol = 1e-08) r (rel) = 0.000379034(tol = 1e-08)\n",
      "2023-08-12 11:08:06.478 (  27.169s) [main            ]              petsc.cpp:698   INFO| PETSc Krylov solver starting to solve system.\n",
      "2023-08-12 11:08:06.903 (  27.594s) [main            ]         TimeLogger.cpp:28    INFO| Elapsed wall, usr, sys time: 0.425166, 0.360000, 0.060000 (PETSc Krylov solver)\n",
      "2023-08-12 11:08:06.913 (  27.604s) [main            ]       NewtonSolver.cpp:36    INFO| Newton iteration 9: r (abs) = 2.87798e-05 (tol = 1e-08) r (rel) = 2.55384e-07(tol = 1e-08)\n",
      "2023-08-12 11:08:07.156 (  27.847s) [main            ]              petsc.cpp:698   INFO| PETSc Krylov solver starting to solve system.\n",
      "2023-08-12 11:08:07.596 (  28.287s) [main            ]         TimeLogger.cpp:28    INFO| Elapsed wall, usr, sys time: 0.440597, 0.400000, 0.050000 (PETSc Krylov solver)\n"
     ]
    },
    {
     "name": "stdout",
     "output_type": "stream",
     "text": [
      "Time step 3, Number of iterations 10, Load [ 0.   0.  -4.5]\n"
     ]
    },
    {
     "name": "stderr",
     "output_type": "stream",
     "text": [
      "2023-08-12 11:08:07.607 (  28.298s) [main            ]       NewtonSolver.cpp:36    INFO| Newton iteration 10: r (abs) = 6.08645e-10 (tol = 1e-08) r (rel) = 5.40094e-12(tol = 1e-08)\n",
      "2023-08-12 11:08:07.607 (  28.298s) [main            ]       NewtonSolver.cpp:255   INFO| Newton solver finished in 10 iterations and 10 linear solver iterations.\n",
      "2023-08-12 11:08:07.876 (  28.567s) [main            ]              petsc.cpp:698   INFO| PETSc Krylov solver starting to solve system.\n",
      "2023-08-12 11:08:08.311 (  29.002s) [main            ]         TimeLogger.cpp:28    INFO| Elapsed wall, usr, sys time: 0.435033, 0.390000, 0.050000 (PETSc Krylov solver)\n",
      "2023-08-12 11:08:08.543 (  29.234s) [main            ]              petsc.cpp:698   INFO| PETSc Krylov solver starting to solve system.\n",
      "2023-08-12 11:08:08.985 (  29.676s) [main            ]         TimeLogger.cpp:28    INFO| Elapsed wall, usr, sys time: 0.442115, 0.400000, 0.050000 (PETSc Krylov solver)\n",
      "2023-08-12 11:08:08.998 (  29.689s) [main            ]       NewtonSolver.cpp:36    INFO| Newton iteration 2: r (abs) = 5.50693 (tol = 1e-08) r (rel) = 0.0653918(tol = 1e-08)\n",
      "2023-08-12 11:08:09.287 (  29.978s) [main            ]              petsc.cpp:698   INFO| PETSc Krylov solver starting to solve system.\n",
      "2023-08-12 11:08:09.874 (  30.565s) [main            ]         TimeLogger.cpp:28    INFO| Elapsed wall, usr, sys time: 0.587055, 0.550000, 0.040000 (PETSc Krylov solver)\n",
      "2023-08-12 11:08:09.890 (  30.581s) [main            ]       NewtonSolver.cpp:36    INFO| Newton iteration 3: r (abs) = 26.2489 (tol = 1e-08) r (rel) = 0.311692(tol = 1e-08)\n",
      "2023-08-12 11:08:10.124 (  30.815s) [main            ]              petsc.cpp:698   INFO| PETSc Krylov solver starting to solve system.\n",
      "2023-08-12 11:08:10.589 (  31.280s) [main            ]         TimeLogger.cpp:28    INFO| Elapsed wall, usr, sys time: 0.464863, 0.400000, 0.060000 (PETSc Krylov solver)\n",
      "2023-08-12 11:08:10.604 (  31.295s) [main            ]       NewtonSolver.cpp:36    INFO| Newton iteration 4: r (abs) = 2.30927 (tol = 1e-08) r (rel) = 0.0274213(tol = 1e-08)\n",
      "2023-08-12 11:08:10.832 (  31.523s) [main            ]              petsc.cpp:698   INFO| PETSc Krylov solver starting to solve system.\n",
      "2023-08-12 11:08:11.316 (  32.007s) [main            ]         TimeLogger.cpp:28    INFO| Elapsed wall, usr, sys time: 0.483985, 0.440000, 0.050000 (PETSc Krylov solver)\n",
      "2023-08-12 11:08:11.333 (  32.024s) [main            ]       NewtonSolver.cpp:36    INFO| Newton iteration 5: r (abs) = 14.0562 (tol = 1e-08) r (rel) = 0.16691(tol = 1e-08)\n",
      "2023-08-12 11:08:11.603 (  32.294s) [main            ]              petsc.cpp:698   INFO| PETSc Krylov solver starting to solve system.\n",
      "2023-08-12 11:08:12.102 (  32.793s) [main            ]         TimeLogger.cpp:28    INFO| Elapsed wall, usr, sys time: 0.499506, 0.470000, 0.020000 (PETSc Krylov solver)\n",
      "2023-08-12 11:08:12.118 (  32.809s) [main            ]       NewtonSolver.cpp:36    INFO| Newton iteration 6: r (abs) = 0.222774 (tol = 1e-08) r (rel) = 0.00264532(tol = 1e-08)\n",
      "2023-08-12 11:08:12.339 (  33.030s) [main            ]              petsc.cpp:698   INFO| PETSc Krylov solver starting to solve system.\n",
      "2023-08-12 11:08:12.875 (  33.566s) [main            ]         TimeLogger.cpp:28    INFO| Elapsed wall, usr, sys time: 0.535693, 0.470000, 0.060000 (PETSc Krylov solver)\n",
      "2023-08-12 11:08:12.885 (  33.576s) [main            ]       NewtonSolver.cpp:36    INFO| Newton iteration 7: r (abs) = 0.286671 (tol = 1e-08) r (rel) = 0.00340406(tol = 1e-08)\n",
      "2023-08-12 11:08:13.111 (  33.802s) [main            ]              petsc.cpp:698   INFO| PETSc Krylov solver starting to solve system.\n",
      "2023-08-12 11:08:13.565 (  34.256s) [main            ]         TimeLogger.cpp:28    INFO| Elapsed wall, usr, sys time: 0.453989, 0.410000, 0.050000 (PETSc Krylov solver)\n",
      "2023-08-12 11:08:13.575 (  34.267s) [main            ]       NewtonSolver.cpp:36    INFO| Newton iteration 8: r (abs) = 0.000321869 (tol = 1e-08) r (rel) = 3.82203e-06(tol = 1e-08)\n",
      "2023-08-12 11:08:13.845 (  34.536s) [main            ]              petsc.cpp:698   INFO| PETSc Krylov solver starting to solve system.\n",
      "2023-08-12 11:08:14.353 (  35.044s) [main            ]         TimeLogger.cpp:28    INFO| Elapsed wall, usr, sys time: 0.507513, 0.460000, 0.050000 (PETSc Krylov solver)\n",
      "2023-08-12 11:08:14.363 (  35.054s) [main            ]       NewtonSolver.cpp:36    INFO| Newton iteration 9: r (abs) = 2.63797e-07 (tol = 1e-08) r (rel) = 3.13244e-09(tol = 1e-08)\n",
      "2023-08-12 11:08:14.363 (  35.054s) [main            ]       NewtonSolver.cpp:255   INFO| Newton solver finished in 9 iterations and 9 linear solver iterations.\n"
     ]
    },
    {
     "name": "stdout",
     "output_type": "stream",
     "text": [
      "Time step 4, Number of iterations 9, Load [ 0.  0. -6.]\n"
     ]
    },
    {
     "name": "stderr",
     "output_type": "stream",
     "text": [
      "2023-08-12 11:08:14.653 (  35.344s) [main            ]              petsc.cpp:698   INFO| PETSc Krylov solver starting to solve system.\n",
      "2023-08-12 11:08:15.130 (  35.821s) [main            ]         TimeLogger.cpp:28    INFO| Elapsed wall, usr, sys time: 0.477112, 0.450000, 0.030000 (PETSc Krylov solver)\n",
      "2023-08-12 11:08:15.385 (  36.076s) [main            ]              petsc.cpp:698   INFO| PETSc Krylov solver starting to solve system.\n",
      "2023-08-12 11:08:15.857 (  36.548s) [main            ]         TimeLogger.cpp:28    INFO| Elapsed wall, usr, sys time: 0.471693, 0.420000, 0.050000 (PETSc Krylov solver)\n",
      "2023-08-12 11:08:15.868 (  36.559s) [main            ]       NewtonSolver.cpp:36    INFO| Newton iteration 2: r (abs) = 3.19462 (tol = 1e-08) r (rel) = 0.0496479(tol = 1e-08)\n",
      "2023-08-12 11:08:16.080 (  36.771s) [main            ]              petsc.cpp:698   INFO| PETSc Krylov solver starting to solve system.\n",
      "2023-08-12 11:08:16.650 (  37.341s) [main            ]         TimeLogger.cpp:28    INFO| Elapsed wall, usr, sys time: 0.570078, 0.550000, 0.030000 (PETSc Krylov solver)\n",
      "2023-08-12 11:08:16.662 (  37.353s) [main            ]       NewtonSolver.cpp:36    INFO| Newton iteration 3: r (abs) = 7.71429 (tol = 1e-08) r (rel) = 0.119888(tol = 1e-08)\n",
      "2023-08-12 11:08:16.879 (  37.570s) [main            ]              petsc.cpp:698   INFO| PETSc Krylov solver starting to solve system.\n",
      "2023-08-12 11:08:17.341 (  38.032s) [main            ]         TimeLogger.cpp:28    INFO| Elapsed wall, usr, sys time: 0.461730, 0.440000, 0.020000 (PETSc Krylov solver)\n",
      "2023-08-12 11:08:17.352 (  38.043s) [main            ]       NewtonSolver.cpp:36    INFO| Newton iteration 4: r (abs) = 0.850873 (tol = 1e-08) r (rel) = 0.0132235(tol = 1e-08)\n",
      "2023-08-12 11:08:17.585 (  38.276s) [main            ]              petsc.cpp:698   INFO| PETSc Krylov solver starting to solve system.\n",
      "2023-08-12 11:08:18.082 (  38.773s) [main            ]         TimeLogger.cpp:28    INFO| Elapsed wall, usr, sys time: 0.497861, 0.460000, 0.040000 (PETSc Krylov solver)\n",
      "2023-08-12 11:08:18.095 (  38.786s) [main            ]       NewtonSolver.cpp:36    INFO| Newton iteration 5: r (abs) = 0.371434 (tol = 1e-08) r (rel) = 0.0057725(tol = 1e-08)\n",
      "2023-08-12 11:08:18.316 (  39.007s) [main            ]              petsc.cpp:698   INFO| PETSc Krylov solver starting to solve system.\n",
      "2023-08-12 11:08:18.790 (  39.481s) [main            ]         TimeLogger.cpp:28    INFO| Elapsed wall, usr, sys time: 0.474298, 0.450000, 0.030000 (PETSc Krylov solver)\n",
      "2023-08-12 11:08:18.803 (  39.494s) [main            ]       NewtonSolver.cpp:36    INFO| Newton iteration 6: r (abs) = 0.00215066 (tol = 1e-08) r (rel) = 3.34236e-05(tol = 1e-08)\n",
      "2023-08-12 11:08:19.025 (  39.716s) [main            ]              petsc.cpp:698   INFO| PETSc Krylov solver starting to solve system.\n",
      "2023-08-12 11:08:19.479 (  40.170s) [main            ]         TimeLogger.cpp:28    INFO| Elapsed wall, usr, sys time: 0.454457, 0.410000, 0.040000 (PETSc Krylov solver)\n",
      "2023-08-12 11:08:19.489 (  40.180s) [main            ]       NewtonSolver.cpp:36    INFO| Newton iteration 7: r (abs) = 2.54607e-06 (tol = 1e-08) r (rel) = 3.95687e-08(tol = 1e-08)\n",
      "2023-08-12 11:08:19.739 (  40.430s) [main            ]              petsc.cpp:698   INFO| PETSc Krylov solver starting to solve system.\n",
      "2023-08-12 11:08:20.179 (  40.870s) [main            ]         TimeLogger.cpp:28    INFO| Elapsed wall, usr, sys time: 0.440340, 0.390000, 0.060000 (PETSc Krylov solver)\n",
      "2023-08-12 11:08:20.190 (  40.881s) [main            ]       NewtonSolver.cpp:36    INFO| Newton iteration 8: r (abs) = 3.42079e-13 (tol = 1e-08) r (rel) = 5.31628e-15(tol = 1e-08)\n",
      "2023-08-12 11:08:20.190 (  40.881s) [main            ]       NewtonSolver.cpp:255   INFO| Newton solver finished in 8 iterations and 8 linear solver iterations.\n"
     ]
    },
    {
     "name": "stdout",
     "output_type": "stream",
     "text": [
      "Time step 5, Number of iterations 8, Load [ 0.   0.  -7.5]\n"
     ]
    },
    {
     "name": "stderr",
     "output_type": "stream",
     "text": [
      "2023-08-12 11:08:20.466 (  41.157s) [main            ]              petsc.cpp:698   INFO| PETSc Krylov solver starting to solve system.\n",
      "2023-08-12 11:08:20.907 (  41.598s) [main            ]         TimeLogger.cpp:28    INFO| Elapsed wall, usr, sys time: 0.441906, 0.420000, 0.020000 (PETSc Krylov solver)\n",
      "2023-08-12 11:08:21.135 (  41.826s) [main            ]              petsc.cpp:698   INFO| PETSc Krylov solver starting to solve system.\n",
      "2023-08-12 11:08:21.648 (  42.339s) [main            ]         TimeLogger.cpp:28    INFO| Elapsed wall, usr, sys time: 0.513185, 0.480000, 0.050000 (PETSc Krylov solver)\n",
      "2023-08-12 11:08:21.660 (  42.351s) [main            ]       NewtonSolver.cpp:36    INFO| Newton iteration 2: r (abs) = 2.00649 (tol = 1e-08) r (rel) = 0.0395622(tol = 1e-08)\n",
      "2023-08-12 11:08:21.892 (  42.583s) [main            ]              petsc.cpp:698   INFO| PETSc Krylov solver starting to solve system.\n",
      "2023-08-12 11:08:22.340 (  43.031s) [main            ]         TimeLogger.cpp:28    INFO| Elapsed wall, usr, sys time: 0.447779, 0.420000, 0.030000 (PETSc Krylov solver)\n",
      "2023-08-12 11:08:22.350 (  43.042s) [main            ]       NewtonSolver.cpp:36    INFO| Newton iteration 3: r (abs) = 4.60977 (tol = 1e-08) r (rel) = 0.0908914(tol = 1e-08)\n",
      "2023-08-12 11:08:22.568 (  43.259s) [main            ]              petsc.cpp:698   INFO| PETSc Krylov solver starting to solve system.\n",
      "2023-08-12 11:08:23.005 (  43.697s) [main            ]         TimeLogger.cpp:28    INFO| Elapsed wall, usr, sys time: 0.437733, 0.420000, 0.020000 (PETSc Krylov solver)\n",
      "2023-08-12 11:08:23.017 (  43.708s) [main            ]       NewtonSolver.cpp:36    INFO| Newton iteration 4: r (abs) = 0.185372 (tol = 1e-08) r (rel) = 0.00365501(tol = 1e-08)\n",
      "2023-08-12 11:08:23.236 (  43.927s) [main            ]              petsc.cpp:698   INFO| PETSc Krylov solver starting to solve system.\n",
      "2023-08-12 11:08:23.663 (  44.354s) [main            ]         TimeLogger.cpp:28    INFO| Elapsed wall, usr, sys time: 0.426863, 0.400000, 0.030000 (PETSc Krylov solver)\n",
      "2023-08-12 11:08:23.673 (  44.364s) [main            ]       NewtonSolver.cpp:36    INFO| Newton iteration 5: r (abs) = 0.024688 (tol = 1e-08) r (rel) = 0.000486777(tol = 1e-08)\n"
     ]
    },
    {
     "name": "stdout",
     "output_type": "stream",
     "text": [
      "Time step 6, Number of iterations 7, Load [ 0.  0. -9.]"
     ]
    },
    {
     "name": "stderr",
     "output_type": "stream",
     "text": [
      "2023-08-12 11:08:23.887 (  44.578s) [main            ]              petsc.cpp:698   INFO| PETSc Krylov solver starting to solve system.\n",
      "2023-08-12 11:08:24.353 (  45.044s) [main            ]         TimeLogger.cpp:28    INFO| Elapsed wall, usr, sys time: 0.466439, 0.420000, 0.060000 (PETSc Krylov solver)\n",
      "2023-08-12 11:08:24.364 (  45.055s) [main            ]       NewtonSolver.cpp:36    INFO| Newton iteration 6: r (abs) = 5.69255e-06 (tol = 1e-08) r (rel) = 1.12241e-07(tol = 1e-08)\n",
      "2023-08-12 11:08:24.580 (  45.271s) [main            ]              petsc.cpp:698   INFO| PETSc Krylov solver starting to solve system.\n",
      "2023-08-12 11:08:25.051 (  45.742s) [main            ]         TimeLogger.cpp:28    INFO| Elapsed wall, usr, sys time: 0.470625, 0.440000, 0.040000 (PETSc Krylov solver)\n",
      "2023-08-12 11:08:25.064 (  45.755s) [main            ]       NewtonSolver.cpp:36    INFO| Newton iteration 7: r (abs) = 2.66157e-11 (tol = 1e-08) r (rel) = 5.24786e-13(tol = 1e-08)\n",
      "2023-08-12 11:08:25.064 (  45.755s) [main            ]       NewtonSolver.cpp:255   INFO| Newton solver finished in 7 iterations and 7 linear solver iterations.\n"
     ]
    },
    {
     "name": "stdout",
     "output_type": "stream",
     "text": [
      "\n"
     ]
    },
    {
     "name": "stderr",
     "output_type": "stream",
     "text": [
      "2023-08-12 11:08:25.364 (  46.055s) [main            ]              petsc.cpp:698   INFO| PETSc Krylov solver starting to solve system.\n",
      "2023-08-12 11:08:25.805 (  46.497s) [main            ]         TimeLogger.cpp:28    INFO| Elapsed wall, usr, sys time: 0.441239, 0.390000, 0.050000 (PETSc Krylov solver)\n",
      "2023-08-12 11:08:26.078 (  46.769s) [main            ]              petsc.cpp:698   INFO| PETSc Krylov solver starting to solve system.\n",
      "2023-08-12 11:08:26.535 (  47.226s) [main            ]         TimeLogger.cpp:28    INFO| Elapsed wall, usr, sys time: 0.456407, 0.420000, 0.050000 (PETSc Krylov solver)\n",
      "2023-08-12 11:08:26.545 (  47.236s) [main            ]       NewtonSolver.cpp:36    INFO| Newton iteration 2: r (abs) = 1.38506 (tol = 1e-08) r (rel) = 0.0336622(tol = 1e-08)\n",
      "2023-08-12 11:08:26.766 (  47.457s) [main            ]              petsc.cpp:698   INFO| PETSc Krylov solver starting to solve system.\n",
      "2023-08-12 11:08:27.237 (  47.928s) [main            ]         TimeLogger.cpp:28    INFO| Elapsed wall, usr, sys time: 0.471073, 0.430000, 0.040000 (PETSc Krylov solver)\n",
      "2023-08-12 11:08:27.248 (  47.939s) [main            ]       NewtonSolver.cpp:36    INFO| Newton iteration 3: r (abs) = 3.03739 (tol = 1e-08) r (rel) = 0.07382(tol = 1e-08)\n",
      "2023-08-12 11:08:27.473 (  48.164s) [main            ]              petsc.cpp:698   INFO| PETSc Krylov solver starting to solve system.\n",
      "2023-08-12 11:08:27.916 (  48.608s) [main            ]         TimeLogger.cpp:28    INFO| Elapsed wall, usr, sys time: 0.443361, 0.410000, 0.040000 (PETSc Krylov solver)\n",
      "2023-08-12 11:08:27.929 (  48.620s) [main            ]       NewtonSolver.cpp:36    INFO| Newton iteration 4: r (abs) = 0.0412386 (tol = 1e-08) r (rel) = 0.00100225(tol = 1e-08)\n",
      "2023-08-12 11:08:28.152 (  48.843s) [main            ]              petsc.cpp:698   INFO| PETSc Krylov solver starting to solve system.\n",
      "2023-08-12 11:08:28.584 (  49.275s) [main            ]         TimeLogger.cpp:28    INFO| Elapsed wall, usr, sys time: 0.431692, 0.380000, 0.050000 (PETSc Krylov solver)\n"
     ]
    },
    {
     "name": "stdout",
     "output_type": "stream",
     "text": [
      "Time step 7, Number of iterations 6, Load [  0.    0.  -10.5]\n"
     ]
    },
    {
     "name": "stderr",
     "output_type": "stream",
     "text": [
      "2023-08-12 11:08:28.597 (  49.288s) [main            ]       NewtonSolver.cpp:36    INFO| Newton iteration 5: r (abs) = 0.00205057 (tol = 1e-08) r (rel) = 4.98364e-05(tol = 1e-08)\n",
      "2023-08-12 11:08:28.826 (  49.517s) [main            ]              petsc.cpp:698   INFO| PETSc Krylov solver starting to solve system.\n",
      "2023-08-12 11:08:29.279 (  49.970s) [main            ]         TimeLogger.cpp:28    INFO| Elapsed wall, usr, sys time: 0.453083, 0.410000, 0.050000 (PETSc Krylov solver)\n",
      "2023-08-12 11:08:29.292 (  49.983s) [main            ]       NewtonSolver.cpp:36    INFO| Newton iteration 6: r (abs) = 1.78862e-08 (tol = 1e-08) r (rel) = 4.34702e-10(tol = 1e-08)\n",
      "2023-08-12 11:08:29.292 (  49.983s) [main            ]       NewtonSolver.cpp:255   INFO| Newton solver finished in 6 iterations and 6 linear solver iterations.\n",
      "2023-08-12 11:08:29.613 (  50.304s) [main            ]              petsc.cpp:698   INFO| PETSc Krylov solver starting to solve system.\n",
      "2023-08-12 11:08:30.061 (  50.752s) [main            ]         TimeLogger.cpp:28    INFO| Elapsed wall, usr, sys time: 0.447997, 0.390000, 0.060000 (PETSc Krylov solver)\n",
      "2023-08-12 11:08:30.295 (  50.986s) [main            ]              petsc.cpp:698   INFO| PETSc Krylov solver starting to solve system.\n",
      "2023-08-12 11:08:30.773 (  51.464s) [main            ]         TimeLogger.cpp:28    INFO| Elapsed wall, usr, sys time: 0.478793, 0.420000, 0.060000 (PETSc Krylov solver)\n",
      "2023-08-12 11:08:30.785 (  51.476s) [main            ]       NewtonSolver.cpp:36    INFO| Newton iteration 2: r (abs) = 1.06336 (tol = 1e-08) r (rel) = 0.031085(tol = 1e-08)\n",
      "2023-08-12 11:08:31.003 (  51.694s) [main            ]              petsc.cpp:698   INFO| PETSc Krylov solver starting to solve system.\n",
      "2023-08-12 11:08:31.459 (  52.150s) [main            ]         TimeLogger.cpp:28    INFO| Elapsed wall, usr, sys time: 0.455785, 0.420000, 0.040000 (PETSc Krylov solver)\n",
      "2023-08-12 11:08:31.475 (  52.166s) [main            ]       NewtonSolver.cpp:36    INFO| Newton iteration 3: r (abs) = 2.0477 (tol = 1e-08) r (rel) = 0.0598598(tol = 1e-08)\n",
      "2023-08-12 11:08:31.735 (  52.426s) [main            ]              petsc.cpp:698   INFO| PETSc Krylov solver starting to solve system.\n",
      "2023-08-12 11:08:32.234 (  52.925s) [main            ]         TimeLogger.cpp:28    INFO| Elapsed wall, usr, sys time: 0.499050, 0.450000, 0.050000 (PETSc Krylov solver)\n",
      "2023-08-12 11:08:32.250 (  52.942s) [main            ]       NewtonSolver.cpp:36    INFO| Newton iteration 4: r (abs) = 0.00897719 (tol = 1e-08) r (rel) = 0.000262427(tol = 1e-08)\n",
      "2023-08-12 11:08:32.492 (  53.183s) [main            ]              petsc.cpp:698   INFO| PETSc Krylov solver starting to solve system.\n",
      "2023-08-12 11:08:33.054 (  53.745s) [main            ]         TimeLogger.cpp:28    INFO| Elapsed wall, usr, sys time: 0.561527, 0.530000, 0.040000 (PETSc Krylov solver)\n",
      "2023-08-12 11:08:33.071 (  53.762s) [main            ]       NewtonSolver.cpp:36    INFO| Newton iteration 5: r (abs) = 0.000167422 (tol = 1e-08) r (rel) = 4.89419e-06(tol = 1e-08)\n",
      "2023-08-12 11:08:33.310 (  54.001s) [main            ]              petsc.cpp:698   INFO| PETSc Krylov solver starting to solve system.\n",
      "2023-08-12 11:08:33.780 (  54.471s) [main            ]         TimeLogger.cpp:28    INFO| Elapsed wall, usr, sys time: 0.470016, 0.420000, 0.060000 (PETSc Krylov solver)\n",
      "2023-08-12 11:08:33.792 (  54.483s) [main            ]       NewtonSolver.cpp:36    INFO| Newton iteration 6: r (abs) = 3.24402e-11 (tol = 1e-08) r (rel) = 9.48314e-13(tol = 1e-08)\n",
      "2023-08-12 11:08:33.792 (  54.483s) [main            ]       NewtonSolver.cpp:255   INFO| Newton solver finished in 6 iterations and 6 linear solver iterations.\n"
     ]
    },
    {
     "name": "stdout",
     "output_type": "stream",
     "text": [
      "Time step 8, Number of iterations 6, Load [  0.   0. -12.]\n"
     ]
    },
    {
     "name": "stderr",
     "output_type": "stream",
     "text": [
      "2023-08-12 11:08:34.090 (  54.781s) [main            ]              petsc.cpp:698   INFO| PETSc Krylov solver starting to solve system.\n",
      "2023-08-12 11:08:34.570 (  55.261s) [main            ]         TimeLogger.cpp:28    INFO| Elapsed wall, usr, sys time: 0.480474, 0.450000, 0.050000 (PETSc Krylov solver)\n",
      "2023-08-12 11:08:34.847 (  55.538s) [main            ]              petsc.cpp:698   INFO| PETSc Krylov solver starting to solve system.\n",
      "2023-08-12 11:08:35.320 (  56.011s) [main            ]         TimeLogger.cpp:28    INFO| Elapsed wall, usr, sys time: 0.472308, 0.450000, 0.020000 (PETSc Krylov solver)\n",
      "2023-08-12 11:08:35.331 (  56.022s) [main            ]       NewtonSolver.cpp:36    INFO| Newton iteration 2: r (abs) = 0.898789 (tol = 1e-08) r (rel) = 0.0309666(tol = 1e-08)\n",
      "2023-08-12 11:08:35.581 (  56.272s) [main            ]              petsc.cpp:698   INFO| PETSc Krylov solver starting to solve system.\n",
      "2023-08-12 11:08:36.084 (  56.775s) [main            ]         TimeLogger.cpp:28    INFO| Elapsed wall, usr, sys time: 0.502654, 0.460000, 0.050000 (PETSc Krylov solver)\n",
      "2023-08-12 11:08:36.096 (  56.787s) [main            ]       NewtonSolver.cpp:36    INFO| Newton iteration 3: r (abs) = 1.38354 (tol = 1e-08) r (rel) = 0.0476679(tol = 1e-08)\n",
      "2023-08-12 11:08:36.322 (  57.013s) [main            ]              petsc.cpp:698   INFO| PETSc Krylov solver starting to solve system.\n",
      "2023-08-12 11:08:36.823 (  57.514s) [main            ]         TimeLogger.cpp:28    INFO| Elapsed wall, usr, sys time: 0.500863, 0.450000, 0.060000 (PETSc Krylov solver)\n",
      "2023-08-12 11:08:36.834 (  57.525s) [main            ]       NewtonSolver.cpp:36    INFO| Newton iteration 4: r (abs) = 0.00185096 (tol = 1e-08) r (rel) = 6.37724e-05(tol = 1e-08)\n",
      "2023-08-12 11:08:37.091 (  57.782s) [main            ]              petsc.cpp:698   INFO| PETSc Krylov solver starting to solve system.\n",
      "2023-08-12 11:08:37.607 (  58.298s) [main            ]         TimeLogger.cpp:28    INFO| Elapsed wall, usr, sys time: 0.515933, 0.500000, 0.030000 (PETSc Krylov solver)\n",
      "2023-08-12 11:08:37.621 (  58.312s) [main            ]       NewtonSolver.cpp:36    INFO| Newton iteration 5: r (abs) = 7.87183e-06 (tol = 1e-08) r (rel) = 2.71213e-07(tol = 1e-08)\n",
      "2023-08-12 11:08:37.853 (  58.544s) [main            ]              petsc.cpp:698   INFO| PETSc Krylov solver starting to solve system.\n",
      "2023-08-12 11:08:38.284 (  58.975s) [main            ]         TimeLogger.cpp:28    INFO| Elapsed wall, usr, sys time: 0.431054, 0.390000, 0.050000 (PETSc Krylov solver)\n",
      "2023-08-12 11:08:38.296 (  58.987s) [main            ]       NewtonSolver.cpp:36    INFO| Newton iteration 6: r (abs) = 4.30231e-13 (tol = 1e-08) r (rel) = 1.4823e-14(tol = 1e-08)\n",
      "2023-08-12 11:08:38.296 (  58.987s) [main            ]       NewtonSolver.cpp:255   INFO| Newton solver finished in 6 iterations and 6 linear solver iterations.\n"
     ]
    },
    {
     "name": "stdout",
     "output_type": "stream",
     "text": [
      "Time step 9, Number of iterations 6, Load [  0.    0.  -13.5]\n"
     ]
    }
   ],
   "source": [
    "log.set_log_level(log.LogLevel.INFO)\n",
    "tval0 = -1.5\n",
    "for n in range(1, 10):\n",
    "    T.value[2] = n * tval0\n",
    "    num_its, converged = solver.solve(u)\n",
    "    assert (converged)\n",
    "    u.x.scatter_forward()\n",
    "    print(f\"Time step {n}, Number of iterations {num_its}, Load {T.value}\")\n",
    "    function_grid[\"u\"][:, :len(u)] = u.x.array.reshape(geometry.shape[0], len(u))\n",
    "    magnitude.interpolate(us)\n",
    "    warped.set_active_scalars(\"mag\")\n",
    "    warped_n = function_grid.warp_by_vector(factor=1)\n",
    "    plotter.update_coordinates(warped_n.points.copy(), render=False)\n",
    "    plotter.update_scalar_bar_range([0, 10])\n",
    "    plotter.update_scalars(magnitude.x.array)\n",
    "    plotter.write_frame()\n",
    "plotter.close()"
   ]
  },
  {
   "cell_type": "markdown",
   "id": "906ef59c-7e89-46e7-9222-9a6e925f4180",
   "metadata": {},
   "source": [
    "<img src=\"./deformation.gif\" alt=\"gif\" class=\"bg-primary mb-1\" width=\"800px\">"
   ]
  }
 ],
 "metadata": {
  "jupytext": {
   "formats": "ipynb,py:light"
  },
  "kernelspec": {
   "display_name": "Python 3 (ipykernel)",
   "language": "python",
   "name": "python3"
  },
  "language_info": {
   "codemirror_mode": {
    "name": "ipython",
    "version": 3
   },
   "file_extension": ".py",
   "mimetype": "text/x-python",
   "name": "python",
   "nbconvert_exporter": "python",
   "pygments_lexer": "ipython3",
   "version": "3.10.6"
  }
 },
 "nbformat": 4,
 "nbformat_minor": 5
}
