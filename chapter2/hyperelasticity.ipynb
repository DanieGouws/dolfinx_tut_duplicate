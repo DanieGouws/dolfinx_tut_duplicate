{
 "cells": [
  {
   "cell_type": "markdown",
   "id": "supreme-malpractice",
   "metadata": {},
   "source": [
    "# Hyperelasticity\n",
    "Author: Jørgen S. Dokken and Garth N. Wells\n",
    "\n",
    "This section shows how to solve the hyperelasticity problem for deformation of a beam.\n",
    "\n",
    "We will also show how to create a constant boundary condition for a vector function space.\n",
    "\n",
    "We start by importing DOLFINx and some additional dependencies.\n",
    "Then, we create a slender cantilever consisting of hexahedral elements and create the function space `V` for our unknown."
   ]
  },
  {
   "cell_type": "code",
   "execution_count": 1,
   "id": "optional-cameroon",
   "metadata": {},
   "outputs": [],
   "source": [
    "import numpy as np\n",
    "import ufl\n",
    "\n",
    "from petsc4py import PETSc\n",
    "from mpi4py import MPI\n",
    "from dolfinx import fem, mesh, plot\n",
    "L = 20.0\n",
    "domain = mesh.create_box(MPI.COMM_WORLD,[[0.0,0.0,0.0], [L, 1, 1]], [20, 5, 5], mesh.CellType.hexahedron)\n",
    "V = fem.VectorFunctionSpace(domain, (\"CG\", 2))"
   ]
  },
  {
   "cell_type": "markdown",
   "id": "streaming-neutral",
   "metadata": {},
   "source": [
    "We create two python functions for determining the facets to apply boundary conditions to"
   ]
  },
  {
   "cell_type": "code",
   "execution_count": 2,
   "id": "major-factor",
   "metadata": {},
   "outputs": [],
   "source": [
    "def left(x):\n",
    "    return np.isclose(x[0], 0)\n",
    "\n",
    "def right(x):\n",
    "    return np.isclose(x[0], L)\n",
    "\n",
    "fdim = domain.topology.dim -1\n",
    "left_facets = mesh.locate_entities_boundary(domain, fdim, left)\n",
    "right_facets = mesh.locate_entities_boundary(domain, fdim, right)"
   ]
  },
  {
   "cell_type": "markdown",
   "id": "figured-world",
   "metadata": {},
   "source": [
    "Next, we create a  marker based on these two functions"
   ]
  },
  {
   "cell_type": "code",
   "execution_count": 3,
   "id": "dated-india",
   "metadata": {},
   "outputs": [],
   "source": [
    "# Concatenate and sort the arrays based on facet indices. Left facets marked with 1, right facets with two\n",
    "marked_facets = np.hstack([left_facets, right_facets])\n",
    "marked_values = np.hstack([np.full(len(left_facets), 1, dtype=np.int32), np.full(len(right_facets), 2, dtype=np.int32)])\n",
    "sorted_facets = np.argsort(marked_facets)\n",
    "facet_tag = mesh.meshtags(domain, fdim, marked_facets[sorted_facets], marked_values[sorted_facets])"
   ]
  },
  {
   "cell_type": "markdown",
   "id": "renewable-glossary",
   "metadata": {},
   "source": [
    "We then create a function for supplying the boundary condition on the left side, which is fixed."
   ]
  },
  {
   "cell_type": "code",
   "execution_count": 4,
   "id": "confidential-french",
   "metadata": {},
   "outputs": [],
   "source": [
    "u_bc = np.array((0,) * domain.geometry.dim, dtype=PETSc.ScalarType)"
   ]
  },
  {
   "cell_type": "markdown",
   "id": "musical-documentation",
   "metadata": {},
   "source": [
    "To apply the boundary condition, we identity the dofs located on the facets marked by the `MeshTag`."
   ]
  },
  {
   "cell_type": "code",
   "execution_count": 5,
   "id": "written-monster",
   "metadata": {},
   "outputs": [],
   "source": [
    "left_dofs = fem.locate_dofs_topological(V, facet_tag.dim, facet_tag.indices[facet_tag.values==1])\n",
    "bcs = [fem.dirichletbc(u_bc, left_dofs, V)]"
   ]
  },
  {
   "cell_type": "markdown",
   "id": "indoor-chester",
   "metadata": {},
   "source": [
    "Next, we define the body force on the reference configuration (`B`), and nominal (first Piola-Kirchhoff) traction (`T`). "
   ]
  },
  {
   "cell_type": "code",
   "execution_count": 6,
   "id": "korean-carol",
   "metadata": {},
   "outputs": [],
   "source": [
    "B = fem.Constant(domain, PETSc.ScalarType((0, 0, 0)))\n",
    "T = fem.Constant(domain, PETSc.ScalarType((0, 0, 0)))"
   ]
  },
  {
   "cell_type": "markdown",
   "id": "blond-dynamics",
   "metadata": {},
   "source": [
    "Define the test and solution functions on the space $V$"
   ]
  },
  {
   "cell_type": "code",
   "execution_count": 7,
   "id": "vocational-experiment",
   "metadata": {},
   "outputs": [],
   "source": [
    "v = ufl.TestFunction(V)\n",
    "u = fem.Function(V)"
   ]
  },
  {
   "cell_type": "markdown",
   "id": "bright-belle",
   "metadata": {},
   "source": [
    "Define kinematic quantities used in the problem"
   ]
  },
  {
   "cell_type": "code",
   "execution_count": 8,
   "id": "vertical-original",
   "metadata": {},
   "outputs": [],
   "source": [
    "# Spatial dimension\n",
    "d = len(u)\n",
    "\n",
    "# Identity tensor\n",
    "I = ufl.variable(ufl.Identity(d))\n",
    "\n",
    "# Deformation gradient\n",
    "F = ufl.variable(I + ufl.grad(u))\n",
    "\n",
    "# Right Cauchy-Green tensor\n",
    "C = ufl.variable(F.T * F)\n",
    "\n",
    "# Invariants of deformation tensors\n",
    "Ic = ufl.variable(ufl.tr(C))\n",
    "J  = ufl.variable(ufl.det(F))"
   ]
  },
  {
   "cell_type": "markdown",
   "id": "respiratory-compromise",
   "metadata": {},
   "source": [
    "Define the elasticity model via a stored strain energy density function $\\psi$, and create the expression for the first Piola-Kirchhoff stress:"
   ]
  },
  {
   "cell_type": "code",
   "execution_count": 9,
   "id": "incorrect-hello",
   "metadata": {},
   "outputs": [],
   "source": [
    "# Elasticity parameters\n",
    "E = PETSc.ScalarType(1.0e4)\n",
    "nu = PETSc.ScalarType(0.3)\n",
    "mu = fem.Constant(domain, E/(2*(1 + nu)))\n",
    "lmbda = fem.Constant(domain, E*nu/((1 + nu)*(1 - 2*nu)))\n",
    "# Stored strain energy density (compressible neo-Hookean model)\n",
    "psi = (mu / 2) * (Ic - 3) - mu * ufl.ln(J) + (lmbda / 2) * (ufl.ln(J))**2\n",
    "# Stress\n",
    "# Hyper-elasticity\n",
    "P = ufl.diff(psi, F)"
   ]
  },
  {
   "cell_type": "markdown",
   "id": "grateful-battlefield",
   "metadata": {},
   "source": [
    "```{admonition} Comparison to linear elasticity\n",
    "To illustrate the difference between linear and hyperelasticity, the following lines can be uncommented to solve the linear elasticity problem.\n",
    "```"
   ]
  },
  {
   "cell_type": "code",
   "execution_count": 10,
   "id": "imperial-jurisdiction",
   "metadata": {},
   "outputs": [],
   "source": [
    "# P = 2.0 * mu * ufl.sym(ufl.grad(u)) + lmbda * ufl.tr(ufl.sym(ufl.grad(u))) * I"
   ]
  },
  {
   "cell_type": "markdown",
   "id": "alleged-genesis",
   "metadata": {},
   "source": [
    "Define the variational form with traction integral over all facets with value 2. We set the quadrature degree for the integrals to 4."
   ]
  },
  {
   "cell_type": "code",
   "execution_count": 11,
   "id": "recognized-conclusion",
   "metadata": {},
   "outputs": [],
   "source": [
    "metadata = {\"quadrature_degree\": 4}\n",
    "ds = ufl.Measure('ds', domain=domain, subdomain_data=facet_tag, metadata=metadata)\n",
    "dx = ufl.Measure(\"dx\", domain=domain, metadata=metadata)\n",
    "# Define form F (we want to find u such that F(u) = 0)\n",
    "F = ufl.inner(ufl.grad(v), P)*dx - ufl.inner(v, B)*dx - ufl.inner(v, T)*ds(2) "
   ]
  },
  {
   "cell_type": "markdown",
   "id": "historic-sherman",
   "metadata": {},
   "source": [
    "As the varitional form is non-linear and written on residual form, we use the non-linear problem class from DOLFINx to set up required structures to use a Newton solver."
   ]
  },
  {
   "cell_type": "code",
   "execution_count": 12,
   "id": "threatened-devices",
   "metadata": {},
   "outputs": [],
   "source": [
    "problem = fem.petsc.NonlinearProblem(F, u, bcs)"
   ]
  },
  {
   "cell_type": "markdown",
   "id": "qualified-phrase",
   "metadata": {},
   "source": [
    "and then create and customize the Newton solver"
   ]
  },
  {
   "cell_type": "code",
   "execution_count": 13,
   "id": "special-globe",
   "metadata": {},
   "outputs": [],
   "source": [
    "from dolfinx import nls\n",
    "solver = nls.petsc.NewtonSolver(domain.comm, problem)\n",
    "\n",
    "# Set Newton solver options\n",
    "solver.atol = 1e-8\n",
    "solver.rtol = 1e-8\n",
    "solver.convergence_criterion = \"incremental\""
   ]
  },
  {
   "cell_type": "markdown",
   "id": "marked-hungary",
   "metadata": {},
   "source": [
    "We create a function to plot the solution at each time step."
   ]
  },
  {
   "cell_type": "code",
   "execution_count": 14,
   "id": "noble-perception",
   "metadata": {},
   "outputs": [
    {
     "data": {
      "application/vnd.jupyter.widget-view+json": {
       "model_id": "dd6e5f1953fb41269a72fa70e96515f3",
       "version_major": 2,
       "version_minor": 0
      },
      "text/plain": [
       "AppLayout(children=(VBox(children=(HTML(value='<h3>u(0)</h3>'), Dropdown(description='Colormap:', options={'Br…"
      ]
     },
     "metadata": {},
     "output_type": "display_data"
    }
   ],
   "source": [
    "import pyvista\n",
    "pyvista.set_jupyter_backend(\"ipygany\")\n",
    "\n",
    "grid = pyvista.UnstructuredGrid(*plot.create_vtk_mesh(domain, domain.topology.dim))\n",
    "\n",
    "def plot_function(t, uh):\n",
    "    \"\"\"\n",
    "    Create a figure of the concentration uh warped visualized in 3D at timet step t.\n",
    "    \"\"\"\n",
    "    p = pyvista.Plotter()\n",
    "    # Create grid defined by the function space for visualization of the function\n",
    "    topology, cells, geometry = plot.create_vtk_mesh(uh.function_space)\n",
    "    function_grid = pyvista.UnstructuredGrid(topology, cells, geometry)\n",
    "    var_name = f\"u({t})\"\n",
    "    values = np.zeros((geometry.shape[0], 3))\n",
    "    values[:, :len(uh)] = uh.x.array.reshape(geometry.shape[0], len(uh))\n",
    "    function_grid[var_name] = values\n",
    "    function_grid.set_active_vectors(var_name)\n",
    "    # Warp mesh by deformation\n",
    "    warped = function_grid.warp_by_vector(var_name, factor=1)\n",
    "    \n",
    "    # Add mesh to plotter and visualize\n",
    "    actor = p.add_mesh(warped)\n",
    "    p.show_axes()\n",
    "    if not pyvista.OFF_SCREEN:\n",
    "       p.show()\n",
    "    else:\n",
    "        pyvista.start_xvfb()\n",
    "        figure_as_array = p.screenshot(f\"diffusion_{t:.2f}.png\")\n",
    "        # Clear plotter for next plot\n",
    "        p.remove_actor(actor)\n",
    "\n",
    "plot_function(0, u)"
   ]
  },
  {
   "cell_type": "markdown",
   "id": "nasty-entertainment",
   "metadata": {},
   "source": [
    "Finally, we solve the problem over several time steps, updating the y-component of the traction"
   ]
  },
  {
   "cell_type": "code",
   "execution_count": 15,
   "id": "vanilla-referral",
   "metadata": {},
   "outputs": [
    {
     "name": "stderr",
     "output_type": "stream",
     "text": [
      "2022-06-16 19:40:20.080 (   2.986s) [main            ]              petsc.cpp:677   INFO| PETSc Krylov solver starting to solve system.\n",
      "2022-06-16 19:40:20.810 (   3.715s) [main            ]              petsc.cpp:677   INFO| PETSc Krylov solver starting to solve system.\n",
      "2022-06-16 19:40:21.218 (   4.123s) [main            ]       NewtonSolver.cpp:36    INFO| Newton iteration 2: r (abs) = 22.2455 (tol = 1e-08) r (rel) = 0.134278(tol = 1e-08)\n",
      "2022-06-16 19:40:21.449 (   4.354s) [main            ]              petsc.cpp:677   INFO| PETSc Krylov solver starting to solve system.\n",
      "2022-06-16 19:40:21.901 (   4.806s) [main            ]       NewtonSolver.cpp:36    INFO| Newton iteration 3: r (abs) = 2.43261 (tol = 1e-08) r (rel) = 0.0146837(tol = 1e-08)\n",
      "2022-06-16 19:40:22.113 (   5.019s) [main            ]              petsc.cpp:677   INFO| PETSc Krylov solver starting to solve system.\n",
      "2022-06-16 19:40:22.535 (   5.441s) [main            ]       NewtonSolver.cpp:36    INFO| Newton iteration 4: r (abs) = 4.43158 (tol = 1e-08) r (rel) = 0.0267498(tol = 1e-08)\n",
      "2022-06-16 19:40:22.747 (   5.653s) [main            ]              petsc.cpp:677   INFO| PETSc Krylov solver starting to solve system.\n",
      "2022-06-16 19:40:23.202 (   6.107s) [main            ]       NewtonSolver.cpp:36    INFO| Newton iteration 5: r (abs) = 0.144189 (tol = 1e-08) r (rel) = 0.000870353(tol = 1e-08)\n",
      "2022-06-16 19:40:23.421 (   6.327s) [main            ]              petsc.cpp:677   INFO| PETSc Krylov solver starting to solve system.\n",
      "2022-06-16 19:40:23.837 (   6.742s) [main            ]       NewtonSolver.cpp:36    INFO| Newton iteration 6: r (abs) = 0.021424 (tol = 1e-08) r (rel) = 0.000129319(tol = 1e-08)\n",
      "2022-06-16 19:40:24.043 (   6.949s) [main            ]              petsc.cpp:677   INFO| PETSc Krylov solver starting to solve system.\n",
      "2022-06-16 19:40:24.501 (   7.406s) [main            ]       NewtonSolver.cpp:36    INFO| Newton iteration 7: r (abs) = 4.80066e-06 (tol = 1e-08) r (rel) = 2.89777e-08(tol = 1e-08)\n"
     ]
    },
    {
     "name": "stdout",
     "output_type": "stream",
     "text": [
      "Time step 1, Number of iterations 8, Load [ 0.   0.  -1.5]\n"
     ]
    },
    {
     "name": "stderr",
     "output_type": "stream",
     "text": [
      "2022-06-16 19:40:24.714 (   7.619s) [main            ]              petsc.cpp:677   INFO| PETSc Krylov solver starting to solve system.\n",
      "2022-06-16 19:40:25.122 (   8.027s) [main            ]       NewtonSolver.cpp:36    INFO| Newton iteration 8: r (abs) = 2.62902e-11 (tol = 1e-08) r (rel) = 1.58693e-13(tol = 1e-08)\n",
      "2022-06-16 19:40:25.122 (   8.027s) [main            ]       NewtonSolver.cpp:255   INFO| Newton solver finished in 8 iterations and 8 linear solver iterations.\n"
     ]
    },
    {
     "data": {
      "application/vnd.jupyter.widget-view+json": {
       "model_id": "3c2d7f09d91a4900ba44a1268be84871",
       "version_major": 2,
       "version_minor": 0
      },
      "text/plain": [
       "AppLayout(children=(VBox(children=(HTML(value='<h3>u(1)</h3>'), Dropdown(description='Colormap:', options={'Br…"
      ]
     },
     "metadata": {},
     "output_type": "display_data"
    },
    {
     "name": "stderr",
     "output_type": "stream",
     "text": [
      "2022-06-16 19:40:25.418 (   8.323s) [main            ]              petsc.cpp:677   INFO| PETSc Krylov solver starting to solve system.\n",
      "2022-06-16 19:40:26.086 (   8.991s) [main            ]              petsc.cpp:677   INFO| PETSc Krylov solver starting to solve system.\n",
      "2022-06-16 19:40:26.572 (   9.478s) [main            ]       NewtonSolver.cpp:36    INFO| Newton iteration 2: r (abs) = 17.3254 (tol = 1e-08) r (rel) = 0.117842(tol = 1e-08)\n",
      "2022-06-16 19:40:26.807 (   9.713s) [main            ]              petsc.cpp:677   INFO| PETSc Krylov solver starting to solve system.\n",
      "2022-06-16 19:40:27.334 (  10.240s) [main            ]       NewtonSolver.cpp:36    INFO| Newton iteration 3: r (abs) = 5.14882 (tol = 1e-08) r (rel) = 0.0350207(tol = 1e-08)\n",
      "2022-06-16 19:40:27.587 (  10.493s) [main            ]              petsc.cpp:677   INFO| PETSc Krylov solver starting to solve system.\n",
      "2022-06-16 19:40:28.119 (  11.024s) [main            ]       NewtonSolver.cpp:36    INFO| Newton iteration 4: r (abs) = 7.24003 (tol = 1e-08) r (rel) = 0.0492445(tol = 1e-08)\n",
      "2022-06-16 19:40:28.353 (  11.259s) [main            ]              petsc.cpp:677   INFO| PETSc Krylov solver starting to solve system.\n",
      "2022-06-16 19:40:28.841 (  11.746s) [main            ]       NewtonSolver.cpp:36    INFO| Newton iteration 5: r (abs) = 0.777889 (tol = 1e-08) r (rel) = 0.00529096(tol = 1e-08)\n",
      "2022-06-16 19:40:29.092 (  11.998s) [main            ]              petsc.cpp:677   INFO| PETSc Krylov solver starting to solve system.\n",
      "2022-06-16 19:40:29.640 (  12.546s) [main            ]       NewtonSolver.cpp:36    INFO| Newton iteration 6: r (abs) = 1.25525 (tol = 1e-08) r (rel) = 0.00853785(tol = 1e-08)\n",
      "2022-06-16 19:40:29.849 (  12.755s) [main            ]              petsc.cpp:677   INFO| PETSc Krylov solver starting to solve system.\n",
      "2022-06-16 19:40:30.296 (  13.201s) [main            ]       NewtonSolver.cpp:36    INFO| Newton iteration 7: r (abs) = 0.00849512 (tol = 1e-08) r (rel) = 5.77813e-05(tol = 1e-08)\n"
     ]
    },
    {
     "name": "stdout",
     "output_type": "stream",
     "text": [
      "Time step 2, Number of iterations 9, Load [ 0.  0. -3.]\n"
     ]
    },
    {
     "name": "stderr",
     "output_type": "stream",
     "text": [
      "2022-06-16 19:40:30.504 (  13.410s) [main            ]              petsc.cpp:677   INFO| PETSc Krylov solver starting to solve system.\n",
      "2022-06-16 19:40:30.958 (  13.863s) [main            ]       NewtonSolver.cpp:36    INFO| Newton iteration 8: r (abs) = 0.000192107 (tol = 1e-08) r (rel) = 1.30665e-06(tol = 1e-08)\n",
      "2022-06-16 19:40:31.157 (  14.063s) [main            ]              petsc.cpp:677   INFO| PETSc Krylov solver starting to solve system.\n",
      "2022-06-16 19:40:31.596 (  14.502s) [main            ]       NewtonSolver.cpp:36    INFO| Newton iteration 9: r (abs) = 1.70517e-10 (tol = 1e-08) r (rel) = 1.15981e-12(tol = 1e-08)\n",
      "2022-06-16 19:40:31.596 (  14.502s) [main            ]       NewtonSolver.cpp:255   INFO| Newton solver finished in 9 iterations and 9 linear solver iterations.\n"
     ]
    },
    {
     "data": {
      "application/vnd.jupyter.widget-view+json": {
       "model_id": "9266ef71f38b483db52e0ea131dfea01",
       "version_major": 2,
       "version_minor": 0
      },
      "text/plain": [
       "AppLayout(children=(VBox(children=(HTML(value='<h3>u(2)</h3>'), Dropdown(description='Colormap:', options={'Br…"
      ]
     },
     "metadata": {},
     "output_type": "display_data"
    },
    {
     "name": "stderr",
     "output_type": "stream",
     "text": [
      "2022-06-16 19:40:31.917 (  14.822s) [main            ]              petsc.cpp:677   INFO| PETSc Krylov solver starting to solve system.\n",
      "2022-06-16 19:40:32.541 (  15.447s) [main            ]              petsc.cpp:677   INFO| PETSc Krylov solver starting to solve system.\n",
      "2022-06-16 19:40:32.983 (  15.889s) [main            ]       NewtonSolver.cpp:36    INFO| Newton iteration 2: r (abs) = 10.0011 (tol = 1e-08) r (rel) = 0.0887471(tol = 1e-08)\n",
      "2022-06-16 19:40:33.200 (  16.105s) [main            ]              petsc.cpp:677   INFO| PETSc Krylov solver starting to solve system.\n",
      "2022-06-16 19:40:33.660 (  16.566s) [main            ]       NewtonSolver.cpp:36    INFO| Newton iteration 3: r (abs) = 5.33026 (tol = 1e-08) r (rel) = 0.0472992(tol = 1e-08)\n",
      "2022-06-16 19:40:33.880 (  16.786s) [main            ]              petsc.cpp:677   INFO| PETSc Krylov solver starting to solve system.\n",
      "2022-06-16 19:40:34.301 (  17.206s) [main            ]       NewtonSolver.cpp:36    INFO| Newton iteration 4: r (abs) = 11.9901 (tol = 1e-08) r (rel) = 0.106397(tol = 1e-08)\n",
      "2022-06-16 19:40:34.508 (  17.414s) [main            ]              petsc.cpp:677   INFO| PETSc Krylov solver starting to solve system.\n",
      "2022-06-16 19:40:34.923 (  17.828s) [main            ]       NewtonSolver.cpp:36    INFO| Newton iteration 5: r (abs) = 2.29702 (tol = 1e-08) r (rel) = 0.0203831(tol = 1e-08)\n",
      "2022-06-16 19:40:35.122 (  18.027s) [main            ]              petsc.cpp:677   INFO| PETSc Krylov solver starting to solve system.\n",
      "2022-06-16 19:40:35.580 (  18.485s) [main            ]       NewtonSolver.cpp:36    INFO| Newton iteration 6: r (abs) = 3.90234 (tol = 1e-08) r (rel) = 0.0346282(tol = 1e-08)\n"
     ]
    },
    {
     "name": "stdout",
     "output_type": "stream",
     "text": [
      "Time step 3, Number of iterations 10, Load [ 0.   0.  -4.5]\n"
     ]
    },
    {
     "name": "stderr",
     "output_type": "stream",
     "text": [
      "2022-06-16 19:40:35.813 (  18.719s) [main            ]              petsc.cpp:677   INFO| PETSc Krylov solver starting to solve system.\n",
      "2022-06-16 19:40:36.252 (  19.157s) [main            ]       NewtonSolver.cpp:36    INFO| Newton iteration 7: r (abs) = 0.236535 (tol = 1e-08) r (rel) = 0.00209895(tol = 1e-08)\n",
      "2022-06-16 19:40:36.466 (  19.371s) [main            ]              petsc.cpp:677   INFO| PETSc Krylov solver starting to solve system.\n",
      "2022-06-16 19:40:36.921 (  19.826s) [main            ]       NewtonSolver.cpp:36    INFO| Newton iteration 8: r (abs) = 0.0427142 (tol = 1e-08) r (rel) = 0.000379034(tol = 1e-08)\n",
      "2022-06-16 19:40:37.142 (  20.048s) [main            ]              petsc.cpp:677   INFO| PETSc Krylov solver starting to solve system.\n",
      "2022-06-16 19:40:37.613 (  20.519s) [main            ]       NewtonSolver.cpp:36    INFO| Newton iteration 9: r (abs) = 2.87798e-05 (tol = 1e-08) r (rel) = 2.55384e-07(tol = 1e-08)\n",
      "2022-06-16 19:40:37.842 (  20.748s) [main            ]              petsc.cpp:677   INFO| PETSc Krylov solver starting to solve system.\n",
      "2022-06-16 19:40:38.352 (  21.257s) [main            ]       NewtonSolver.cpp:36    INFO| Newton iteration 10: r (abs) = 6.09866e-10 (tol = 1e-08) r (rel) = 5.41178e-12(tol = 1e-08)\n",
      "2022-06-16 19:40:38.352 (  21.257s) [main            ]       NewtonSolver.cpp:255   INFO| Newton solver finished in 10 iterations and 10 linear solver iterations.\n"
     ]
    },
    {
     "data": {
      "application/vnd.jupyter.widget-view+json": {
       "model_id": "8c470b1fb54c4633b5fbaff0eb6fe591",
       "version_major": 2,
       "version_minor": 0
      },
      "text/plain": [
       "AppLayout(children=(VBox(children=(HTML(value='<h3>u(3)</h3>'), Dropdown(description='Colormap:', options={'Br…"
      ]
     },
     "metadata": {},
     "output_type": "display_data"
    },
    {
     "name": "stderr",
     "output_type": "stream",
     "text": [
      "2022-06-16 19:40:38.683 (  21.589s) [main            ]              petsc.cpp:677   INFO| PETSc Krylov solver starting to solve system.\n",
      "2022-06-16 19:40:39.392 (  22.298s) [main            ]              petsc.cpp:677   INFO| PETSc Krylov solver starting to solve system.\n",
      "2022-06-16 19:40:39.860 (  22.765s) [main            ]       NewtonSolver.cpp:36    INFO| Newton iteration 2: r (abs) = 5.50693 (tol = 1e-08) r (rel) = 0.0653918(tol = 1e-08)\n",
      "2022-06-16 19:40:40.088 (  22.993s) [main            ]              petsc.cpp:677   INFO| PETSc Krylov solver starting to solve system.\n",
      "2022-06-16 19:40:40.562 (  23.467s) [main            ]       NewtonSolver.cpp:36    INFO| Newton iteration 3: r (abs) = 26.2489 (tol = 1e-08) r (rel) = 0.311692(tol = 1e-08)\n",
      "2022-06-16 19:40:40.787 (  23.692s) [main            ]              petsc.cpp:677   INFO| PETSc Krylov solver starting to solve system.\n",
      "2022-06-16 19:40:41.224 (  24.129s) [main            ]       NewtonSolver.cpp:36    INFO| Newton iteration 4: r (abs) = 2.30927 (tol = 1e-08) r (rel) = 0.0274213(tol = 1e-08)\n",
      "2022-06-16 19:40:41.450 (  24.356s) [main            ]              petsc.cpp:677   INFO| PETSc Krylov solver starting to solve system.\n",
      "2022-06-16 19:40:41.887 (  24.793s) [main            ]       NewtonSolver.cpp:36    INFO| Newton iteration 5: r (abs) = 14.0562 (tol = 1e-08) r (rel) = 0.16691(tol = 1e-08)\n",
      "2022-06-16 19:40:42.123 (  25.029s) [main            ]              petsc.cpp:677   INFO| PETSc Krylov solver starting to solve system.\n",
      "2022-06-16 19:40:42.595 (  25.500s) [main            ]       NewtonSolver.cpp:36    INFO| Newton iteration 6: r (abs) = 0.222774 (tol = 1e-08) r (rel) = 0.00264532(tol = 1e-08)\n",
      "2022-06-16 19:40:42.817 (  25.723s) [main            ]              petsc.cpp:677   INFO| PETSc Krylov solver starting to solve system.\n",
      "2022-06-16 19:40:43.283 (  26.189s) [main            ]       NewtonSolver.cpp:36    INFO| Newton iteration 7: r (abs) = 0.286671 (tol = 1e-08) r (rel) = 0.00340406(tol = 1e-08)\n",
      "2022-06-16 19:40:43.495 (  26.401s) [main            ]              petsc.cpp:677   INFO| PETSc Krylov solver starting to solve system.\n"
     ]
    },
    {
     "name": "stdout",
     "output_type": "stream",
     "text": [
      "Time step 4, Number of iterations 9, Load [ 0.  0. -6.]\n"
     ]
    },
    {
     "name": "stderr",
     "output_type": "stream",
     "text": [
      "2022-06-16 19:40:43.936 (  26.841s) [main            ]       NewtonSolver.cpp:36    INFO| Newton iteration 8: r (abs) = 0.000321869 (tol = 1e-08) r (rel) = 3.82203e-06(tol = 1e-08)\n",
      "2022-06-16 19:40:44.145 (  27.051s) [main            ]              petsc.cpp:677   INFO| PETSc Krylov solver starting to solve system.\n",
      "2022-06-16 19:40:44.625 (  27.531s) [main            ]       NewtonSolver.cpp:36    INFO| Newton iteration 9: r (abs) = 2.63797e-07 (tol = 1e-08) r (rel) = 3.13245e-09(tol = 1e-08)\n",
      "2022-06-16 19:40:44.625 (  27.531s) [main            ]       NewtonSolver.cpp:255   INFO| Newton solver finished in 9 iterations and 9 linear solver iterations.\n"
     ]
    },
    {
     "data": {
      "application/vnd.jupyter.widget-view+json": {
       "model_id": "30febceddf8f418c950c43231a806efe",
       "version_major": 2,
       "version_minor": 0
      },
      "text/plain": [
       "AppLayout(children=(VBox(children=(HTML(value='<h3>u(4)</h3>'), Dropdown(description='Colormap:', options={'Br…"
      ]
     },
     "metadata": {},
     "output_type": "display_data"
    },
    {
     "name": "stderr",
     "output_type": "stream",
     "text": [
      "2022-06-16 19:40:44.955 (  27.861s) [main            ]              petsc.cpp:677   INFO| PETSc Krylov solver starting to solve system.\n",
      "2022-06-16 19:40:45.591 (  28.497s) [main            ]              petsc.cpp:677   INFO| PETSc Krylov solver starting to solve system.\n",
      "2022-06-16 19:40:46.046 (  28.951s) [main            ]       NewtonSolver.cpp:36    INFO| Newton iteration 2: r (abs) = 3.19462 (tol = 1e-08) r (rel) = 0.0496479(tol = 1e-08)\n",
      "2022-06-16 19:40:46.283 (  29.189s) [main            ]              petsc.cpp:677   INFO| PETSc Krylov solver starting to solve system.\n",
      "2022-06-16 19:40:46.744 (  29.650s) [main            ]       NewtonSolver.cpp:36    INFO| Newton iteration 3: r (abs) = 7.71429 (tol = 1e-08) r (rel) = 0.119888(tol = 1e-08)\n",
      "2022-06-16 19:40:46.958 (  29.863s) [main            ]              petsc.cpp:677   INFO| PETSc Krylov solver starting to solve system.\n",
      "2022-06-16 19:40:47.422 (  30.327s) [main            ]       NewtonSolver.cpp:36    INFO| Newton iteration 4: r (abs) = 0.850873 (tol = 1e-08) r (rel) = 0.0132235(tol = 1e-08)\n",
      "2022-06-16 19:40:47.667 (  30.573s) [main            ]              petsc.cpp:677   INFO| PETSc Krylov solver starting to solve system.\n",
      "2022-06-16 19:40:48.142 (  31.047s) [main            ]       NewtonSolver.cpp:36    INFO| Newton iteration 5: r (abs) = 0.371434 (tol = 1e-08) r (rel) = 0.0057725(tol = 1e-08)\n",
      "2022-06-16 19:40:48.388 (  31.293s) [main            ]              petsc.cpp:677   INFO| PETSc Krylov solver starting to solve system.\n",
      "2022-06-16 19:40:48.873 (  31.779s) [main            ]       NewtonSolver.cpp:36    INFO| Newton iteration 6: r (abs) = 0.00215066 (tol = 1e-08) r (rel) = 3.34236e-05(tol = 1e-08)\n",
      "2022-06-16 19:40:49.106 (  32.011s) [main            ]              petsc.cpp:677   INFO| PETSc Krylov solver starting to solve system.\n",
      "2022-06-16 19:40:49.602 (  32.508s) [main            ]       NewtonSolver.cpp:36    INFO| Newton iteration 7: r (abs) = 2.54607e-06 (tol = 1e-08) r (rel) = 3.95687e-08(tol = 1e-08)\n",
      "2022-06-16 19:40:49.862 (  32.767s) [main            ]              petsc.cpp:677   INFO| PETSc Krylov solver starting to solve system.\n",
      "2022-06-16 19:40:50.417 (  33.323s) [main            ]       NewtonSolver.cpp:36    INFO| Newton iteration 8: r (abs) = 2.21258e-13 (tol = 1e-08) r (rel) = 3.43859e-15(tol = 1e-08)\n"
     ]
    },
    {
     "name": "stdout",
     "output_type": "stream",
     "text": [
      "Time step 5, Number of iterations 8, Load [ 0.   0.  -7.5]\n"
     ]
    },
    {
     "name": "stderr",
     "output_type": "stream",
     "text": [
      "2022-06-16 19:40:50.417 (  33.323s) [main            ]       NewtonSolver.cpp:255   INFO| Newton solver finished in 8 iterations and 8 linear solver iterations.\n"
     ]
    },
    {
     "data": {
      "application/vnd.jupyter.widget-view+json": {
       "model_id": "fca4fae0a5bc49bbb5875304b05d2aa6",
       "version_major": 2,
       "version_minor": 0
      },
      "text/plain": [
       "AppLayout(children=(VBox(children=(HTML(value='<h3>u(5)</h3>'), Dropdown(description='Colormap:', options={'Br…"
      ]
     },
     "metadata": {},
     "output_type": "display_data"
    },
    {
     "name": "stderr",
     "output_type": "stream",
     "text": [
      "2022-06-16 19:40:50.812 (  33.718s) [main            ]              petsc.cpp:677   INFO| PETSc Krylov solver starting to solve system.\n",
      "2022-06-16 19:40:51.663 (  34.569s) [main            ]              petsc.cpp:677   INFO| PETSc Krylov solver starting to solve system.\n",
      "2022-06-16 19:40:52.202 (  35.107s) [main            ]       NewtonSolver.cpp:36    INFO| Newton iteration 2: r (abs) = 2.00649 (tol = 1e-08) r (rel) = 0.0395622(tol = 1e-08)\n",
      "2022-06-16 19:40:52.452 (  35.358s) [main            ]              petsc.cpp:677   INFO| PETSc Krylov solver starting to solve system.\n",
      "2022-06-16 19:40:52.966 (  35.872s) [main            ]       NewtonSolver.cpp:36    INFO| Newton iteration 3: r (abs) = 4.60977 (tol = 1e-08) r (rel) = 0.0908914(tol = 1e-08)\n",
      "2022-06-16 19:40:53.223 (  36.128s) [main            ]              petsc.cpp:677   INFO| PETSc Krylov solver starting to solve system.\n",
      "2022-06-16 19:40:53.725 (  36.630s) [main            ]       NewtonSolver.cpp:36    INFO| Newton iteration 4: r (abs) = 0.185372 (tol = 1e-08) r (rel) = 0.00365501(tol = 1e-08)\n",
      "2022-06-16 19:40:53.950 (  36.856s) [main            ]              petsc.cpp:677   INFO| PETSc Krylov solver starting to solve system.\n",
      "2022-06-16 19:40:54.406 (  37.312s) [main            ]       NewtonSolver.cpp:36    INFO| Newton iteration 5: r (abs) = 0.024688 (tol = 1e-08) r (rel) = 0.000486777(tol = 1e-08)\n"
     ]
    },
    {
     "name": "stdout",
     "output_type": "stream",
     "text": [
      "Time step 6, Number of iterations 7, Load [ 0.  0. -9.]\n"
     ]
    },
    {
     "name": "stderr",
     "output_type": "stream",
     "text": [
      "2022-06-16 19:40:54.660 (  37.565s) [main            ]              petsc.cpp:677   INFO| PETSc Krylov solver starting to solve system.\n",
      "2022-06-16 19:40:55.174 (  38.080s) [main            ]       NewtonSolver.cpp:36    INFO| Newton iteration 6: r (abs) = 5.69255e-06 (tol = 1e-08) r (rel) = 1.12241e-07(tol = 1e-08)\n",
      "2022-06-16 19:40:55.395 (  38.301s) [main            ]              petsc.cpp:677   INFO| PETSc Krylov solver starting to solve system.\n",
      "2022-06-16 19:40:55.838 (  38.744s) [main            ]       NewtonSolver.cpp:36    INFO| Newton iteration 7: r (abs) = 2.61275e-11 (tol = 1e-08) r (rel) = 5.15159e-13(tol = 1e-08)\n",
      "2022-06-16 19:40:55.838 (  38.744s) [main            ]       NewtonSolver.cpp:255   INFO| Newton solver finished in 7 iterations and 7 linear solver iterations.\n"
     ]
    },
    {
     "data": {
      "application/vnd.jupyter.widget-view+json": {
       "model_id": "5906ef1114e649949e7a796478e0dbe2",
       "version_major": 2,
       "version_minor": 0
      },
      "text/plain": [
       "AppLayout(children=(VBox(children=(HTML(value='<h3>u(6)</h3>'), Dropdown(description='Colormap:', options={'Br…"
      ]
     },
     "metadata": {},
     "output_type": "display_data"
    },
    {
     "name": "stderr",
     "output_type": "stream",
     "text": [
      "2022-06-16 19:40:56.173 (  39.078s) [main            ]              petsc.cpp:677   INFO| PETSc Krylov solver starting to solve system.\n",
      "2022-06-16 19:40:56.844 (  39.750s) [main            ]              petsc.cpp:677   INFO| PETSc Krylov solver starting to solve system.\n",
      "2022-06-16 19:40:57.317 (  40.222s) [main            ]       NewtonSolver.cpp:36    INFO| Newton iteration 2: r (abs) = 1.38506 (tol = 1e-08) r (rel) = 0.0336622(tol = 1e-08)\n",
      "2022-06-16 19:40:57.557 (  40.463s) [main            ]              petsc.cpp:677   INFO| PETSc Krylov solver starting to solve system.\n",
      "2022-06-16 19:40:58.025 (  40.931s) [main            ]       NewtonSolver.cpp:36    INFO| Newton iteration 3: r (abs) = 3.03739 (tol = 1e-08) r (rel) = 0.07382(tol = 1e-08)\n",
      "2022-06-16 19:40:58.249 (  41.154s) [main            ]              petsc.cpp:677   INFO| PETSc Krylov solver starting to solve system.\n",
      "2022-06-16 19:40:58.730 (  41.635s) [main            ]       NewtonSolver.cpp:36    INFO| Newton iteration 4: r (abs) = 0.0412386 (tol = 1e-08) r (rel) = 0.00100225(tol = 1e-08)\n",
      "2022-06-16 19:40:58.960 (  41.866s) [main            ]              petsc.cpp:677   INFO| PETSc Krylov solver starting to solve system.\n"
     ]
    },
    {
     "name": "stdout",
     "output_type": "stream",
     "text": [
      "Time step 7, Number of iterations 6, Load [  0.    0.  -10.5]\n"
     ]
    },
    {
     "name": "stderr",
     "output_type": "stream",
     "text": [
      "2022-06-16 19:40:59.409 (  42.314s) [main            ]       NewtonSolver.cpp:36    INFO| Newton iteration 5: r (abs) = 0.00205057 (tol = 1e-08) r (rel) = 4.98364e-05(tol = 1e-08)\n",
      "2022-06-16 19:40:59.619 (  42.525s) [main            ]              petsc.cpp:677   INFO| PETSc Krylov solver starting to solve system.\n",
      "2022-06-16 19:41:00.071 (  42.977s) [main            ]       NewtonSolver.cpp:36    INFO| Newton iteration 6: r (abs) = 1.78865e-08 (tol = 1e-08) r (rel) = 4.34709e-10(tol = 1e-08)\n",
      "2022-06-16 19:41:00.071 (  42.977s) [main            ]       NewtonSolver.cpp:255   INFO| Newton solver finished in 6 iterations and 6 linear solver iterations.\n"
     ]
    },
    {
     "data": {
      "application/vnd.jupyter.widget-view+json": {
       "model_id": "03b51dd7f2194f54ba08bb75733e4b23",
       "version_major": 2,
       "version_minor": 0
      },
      "text/plain": [
       "AppLayout(children=(VBox(children=(HTML(value='<h3>u(7)</h3>'), Dropdown(description='Colormap:', options={'Br…"
      ]
     },
     "metadata": {},
     "output_type": "display_data"
    },
    {
     "name": "stderr",
     "output_type": "stream",
     "text": [
      "2022-06-16 19:41:00.369 (  43.274s) [main            ]              petsc.cpp:677   INFO| PETSc Krylov solver starting to solve system.\n",
      "2022-06-16 19:41:01.004 (  43.909s) [main            ]              petsc.cpp:677   INFO| PETSc Krylov solver starting to solve system.\n",
      "2022-06-16 19:41:01.465 (  44.370s) [main            ]       NewtonSolver.cpp:36    INFO| Newton iteration 2: r (abs) = 1.06336 (tol = 1e-08) r (rel) = 0.031085(tol = 1e-08)\n",
      "2022-06-16 19:41:01.676 (  44.581s) [main            ]              petsc.cpp:677   INFO| PETSc Krylov solver starting to solve system.\n",
      "2022-06-16 19:41:02.126 (  45.032s) [main            ]       NewtonSolver.cpp:36    INFO| Newton iteration 3: r (abs) = 2.0477 (tol = 1e-08) r (rel) = 0.0598598(tol = 1e-08)\n",
      "2022-06-16 19:41:02.361 (  45.266s) [main            ]              petsc.cpp:677   INFO| PETSc Krylov solver starting to solve system.\n",
      "2022-06-16 19:41:02.816 (  45.721s) [main            ]       NewtonSolver.cpp:36    INFO| Newton iteration 4: r (abs) = 0.00897719 (tol = 1e-08) r (rel) = 0.000262427(tol = 1e-08)\n",
      "2022-06-16 19:41:03.038 (  45.944s) [main            ]              petsc.cpp:677   INFO| PETSc Krylov solver starting to solve system.\n",
      "2022-06-16 19:41:03.531 (  46.436s) [main            ]       NewtonSolver.cpp:36    INFO| Newton iteration 5: r (abs) = 0.000167422 (tol = 1e-08) r (rel) = 4.89419e-06(tol = 1e-08)\n",
      "2022-06-16 19:41:03.774 (  46.680s) [main            ]              petsc.cpp:677   INFO| PETSc Krylov solver starting to solve system.\n"
     ]
    },
    {
     "name": "stdout",
     "output_type": "stream",
     "text": [
      "Time step 8, Number of iterations 6, Load [  0.   0. -12.]\n"
     ]
    },
    {
     "name": "stderr",
     "output_type": "stream",
     "text": [
      "2022-06-16 19:41:04.252 (  47.158s) [main            ]       NewtonSolver.cpp:36    INFO| Newton iteration 6: r (abs) = 3.25859e-11 (tol = 1e-08) r (rel) = 9.52574e-13(tol = 1e-08)\n",
      "2022-06-16 19:41:04.252 (  47.158s) [main            ]       NewtonSolver.cpp:255   INFO| Newton solver finished in 6 iterations and 6 linear solver iterations.\n"
     ]
    },
    {
     "data": {
      "application/vnd.jupyter.widget-view+json": {
       "model_id": "29d03fa1b23c49429fbe92496656b8d8",
       "version_major": 2,
       "version_minor": 0
      },
      "text/plain": [
       "AppLayout(children=(VBox(children=(HTML(value='<h3>u(8)</h3>'), Dropdown(description='Colormap:', options={'Br…"
      ]
     },
     "metadata": {},
     "output_type": "display_data"
    },
    {
     "name": "stderr",
     "output_type": "stream",
     "text": [
      "2022-06-16 19:41:04.566 (  47.472s) [main            ]              petsc.cpp:677   INFO| PETSc Krylov solver starting to solve system.\n",
      "2022-06-16 19:41:05.217 (  48.123s) [main            ]              petsc.cpp:677   INFO| PETSc Krylov solver starting to solve system.\n",
      "2022-06-16 19:41:05.709 (  48.614s) [main            ]       NewtonSolver.cpp:36    INFO| Newton iteration 2: r (abs) = 0.898789 (tol = 1e-08) r (rel) = 0.0309666(tol = 1e-08)\n",
      "2022-06-16 19:41:05.927 (  48.832s) [main            ]              petsc.cpp:677   INFO| PETSc Krylov solver starting to solve system.\n",
      "2022-06-16 19:41:06.372 (  49.278s) [main            ]       NewtonSolver.cpp:36    INFO| Newton iteration 3: r (abs) = 1.38354 (tol = 1e-08) r (rel) = 0.0476679(tol = 1e-08)\n",
      "2022-06-16 19:41:06.595 (  49.500s) [main            ]              petsc.cpp:677   INFO| PETSc Krylov solver starting to solve system.\n",
      "2022-06-16 19:41:07.025 (  49.930s) [main            ]       NewtonSolver.cpp:36    INFO| Newton iteration 4: r (abs) = 0.00185096 (tol = 1e-08) r (rel) = 6.37724e-05(tol = 1e-08)\n",
      "2022-06-16 19:41:07.231 (  50.136s) [main            ]              petsc.cpp:677   INFO| PETSc Krylov solver starting to solve system.\n",
      "2022-06-16 19:41:07.707 (  50.612s) [main            ]       NewtonSolver.cpp:36    INFO| Newton iteration 5: r (abs) = 7.87183e-06 (tol = 1e-08) r (rel) = 2.71213e-07(tol = 1e-08)\n",
      "2022-06-16 19:41:07.952 (  50.857s) [main            ]              petsc.cpp:677   INFO| PETSc Krylov solver starting to solve system.\n"
     ]
    },
    {
     "name": "stdout",
     "output_type": "stream",
     "text": [
      "Time step 9, Number of iterations 6, Load [  0.    0.  -13.5]\n"
     ]
    },
    {
     "name": "stderr",
     "output_type": "stream",
     "text": [
      "2022-06-16 19:41:08.418 (  51.323s) [main            ]       NewtonSolver.cpp:36    INFO| Newton iteration 6: r (abs) = 3.3155e-13 (tol = 1e-08) r (rel) = 1.14231e-14(tol = 1e-08)\n",
      "2022-06-16 19:41:08.418 (  51.323s) [main            ]       NewtonSolver.cpp:255   INFO| Newton solver finished in 6 iterations and 6 linear solver iterations.\n"
     ]
    },
    {
     "data": {
      "application/vnd.jupyter.widget-view+json": {
       "model_id": "6b8432663f394688968bf20124b7806f",
       "version_major": 2,
       "version_minor": 0
      },
      "text/plain": [
       "AppLayout(children=(VBox(children=(HTML(value='<h3>u(9)</h3>'), Dropdown(description='Colormap:', options={'Br…"
      ]
     },
     "metadata": {},
     "output_type": "display_data"
    }
   ],
   "source": [
    "from dolfinx import log\n",
    "log.set_log_level(log.LogLevel.INFO)\n",
    "tval0 = -1.5\n",
    "for n in range(1, 10):\n",
    "    T.value[2] = n * tval0\n",
    "    num_its, converged = solver.solve(u)\n",
    "    assert(converged)\n",
    "    u.x.scatter_forward()\n",
    "    print(f\"Time step {n}, Number of iterations {num_its}, Load {T.value}\")\n",
    "    plot_function(n, u)"
   ]
  },
  {
   "cell_type": "code",
   "execution_count": null,
   "id": "eligible-chambers",
   "metadata": {},
   "outputs": [],
   "source": []
  }
 ],
 "metadata": {
  "jupytext": {
   "formats": "ipynb,py:light"
  },
  "kernelspec": {
   "display_name": "Python 3 (ipykernel)",
   "language": "python",
   "name": "python3"
  },
  "language_info": {
   "codemirror_mode": {
    "name": "ipython",
    "version": 3
   },
   "file_extension": ".py",
   "mimetype": "text/x-python",
   "name": "python",
   "nbconvert_exporter": "python",
   "pygments_lexer": "ipython3",
   "version": "3.9.7"
  }
 },
 "nbformat": 4,
 "nbformat_minor": 5
}
