{
 "cells": [
  {
   "cell_type": "markdown",
   "id": "908815e6-cdac-4915-bf52-5578f978d2e7",
   "metadata": {},
   "source": [
    "# Hyperelasticity\n",
    "Author: Jørgen S. Dokken and Garth N. Wells\n",
    "\n",
    "This section shows how to solve the hyperelasticity problem for deformation of a beam.\n",
    "\n",
    "We will also show how to create a constant boundary condition for a vector function space.\n",
    "\n",
    "We start by importing DOLFINx and some additional dependencies.\n",
    "Then, we create a slender cantilever consisting of hexahedral elements and create the function space `V` for our unknown."
   ]
  },
  {
   "cell_type": "code",
   "execution_count": 1,
   "id": "optional-cameroon",
   "metadata": {
    "tags": []
   },
   "outputs": [],
   "source": [
    "from dolfinx import log\n",
    "import matplotlib.pyplot as plt\n",
    "import pyvista\n",
    "from dolfinx import nls\n",
    "import numpy as np\n",
    "import ufl\n",
    "\n",
    "from petsc4py import PETSc\n",
    "from mpi4py import MPI\n",
    "from dolfinx import fem, mesh, plot\n",
    "L = 20.0\n",
    "domain = mesh.create_box(MPI.COMM_WORLD, [[0.0, 0.0, 0.0], [L, 1, 1]], [20, 5, 5], mesh.CellType.hexahedron)\n",
    "V = fem.VectorFunctionSpace(domain, (\"Lagrange\", 2))"
   ]
  },
  {
   "cell_type": "markdown",
   "id": "streaming-neutral",
   "metadata": {},
   "source": [
    "We create two python functions for determining the facets to apply boundary conditions to"
   ]
  },
  {
   "cell_type": "code",
   "execution_count": 2,
   "id": "major-factor",
   "metadata": {},
   "outputs": [],
   "source": [
    "def left(x):\n",
    "    return np.isclose(x[0], 0)\n",
    "\n",
    "\n",
    "def right(x):\n",
    "    return np.isclose(x[0], L)\n",
    "\n",
    "\n",
    "fdim = domain.topology.dim - 1\n",
    "left_facets = mesh.locate_entities_boundary(domain, fdim, left)\n",
    "right_facets = mesh.locate_entities_boundary(domain, fdim, right)"
   ]
  },
  {
   "cell_type": "markdown",
   "id": "figured-world",
   "metadata": {},
   "source": [
    "Next, we create a  marker based on these two functions"
   ]
  },
  {
   "cell_type": "code",
   "execution_count": 3,
   "id": "dated-india",
   "metadata": {},
   "outputs": [],
   "source": [
    "# Concatenate and sort the arrays based on facet indices. Left facets marked with 1, right facets with two\n",
    "marked_facets = np.hstack([left_facets, right_facets])\n",
    "marked_values = np.hstack([np.full_like(left_facets, 1), np.full_like(right_facets, 2)])\n",
    "sorted_facets = np.argsort(marked_facets)\n",
    "facet_tag = mesh.meshtags(domain, fdim, marked_facets[sorted_facets], marked_values[sorted_facets])"
   ]
  },
  {
   "cell_type": "markdown",
   "id": "renewable-glossary",
   "metadata": {},
   "source": [
    "We then create a function for supplying the boundary condition on the left side, which is fixed."
   ]
  },
  {
   "cell_type": "code",
   "execution_count": 4,
   "id": "confidential-french",
   "metadata": {},
   "outputs": [],
   "source": [
    "u_bc = np.array((0,) * domain.geometry.dim, dtype=PETSc.ScalarType)"
   ]
  },
  {
   "cell_type": "markdown",
   "id": "musical-documentation",
   "metadata": {},
   "source": [
    "To apply the boundary condition, we identity the dofs located on the facets marked by the `MeshTag`."
   ]
  },
  {
   "cell_type": "code",
   "execution_count": 5,
   "id": "written-monster",
   "metadata": {},
   "outputs": [],
   "source": [
    "left_dofs = fem.locate_dofs_topological(V, facet_tag.dim, facet_tag.find(1))\n",
    "bcs = [fem.dirichletbc(u_bc, left_dofs, V)]"
   ]
  },
  {
   "cell_type": "markdown",
   "id": "indoor-chester",
   "metadata": {},
   "source": [
    "Next, we define the body force on the reference configuration (`B`), and nominal (first Piola-Kirchhoff) traction (`T`)."
   ]
  },
  {
   "cell_type": "code",
   "execution_count": 6,
   "id": "korean-carol",
   "metadata": {},
   "outputs": [],
   "source": [
    "B = fem.Constant(domain, PETSc.ScalarType((0, 0, 0)))\n",
    "T = fem.Constant(domain, PETSc.ScalarType((0, 0, 0)))"
   ]
  },
  {
   "cell_type": "markdown",
   "id": "blond-dynamics",
   "metadata": {},
   "source": [
    "Define the test and solution functions on the space $V$"
   ]
  },
  {
   "cell_type": "code",
   "execution_count": 7,
   "id": "vocational-experiment",
   "metadata": {},
   "outputs": [],
   "source": [
    "v = ufl.TestFunction(V)\n",
    "u = fem.Function(V)"
   ]
  },
  {
   "cell_type": "markdown",
   "id": "bright-belle",
   "metadata": {},
   "source": [
    "Define kinematic quantities used in the problem"
   ]
  },
  {
   "cell_type": "code",
   "execution_count": 8,
   "id": "vertical-original",
   "metadata": {},
   "outputs": [],
   "source": [
    "# Spatial dimension\n",
    "d = len(u)\n",
    "\n",
    "# Identity tensor\n",
    "I = ufl.variable(ufl.Identity(d))\n",
    "\n",
    "# Deformation gradient\n",
    "F = ufl.variable(I + ufl.grad(u))\n",
    "\n",
    "# Right Cauchy-Green tensor\n",
    "C = ufl.variable(F.T * F)\n",
    "\n",
    "# Invariants of deformation tensors\n",
    "Ic = ufl.variable(ufl.tr(C))\n",
    "J = ufl.variable(ufl.det(F))"
   ]
  },
  {
   "cell_type": "markdown",
   "id": "respiratory-compromise",
   "metadata": {},
   "source": [
    "Define the elasticity model via a stored strain energy density function $\\psi$, and create the expression for the first Piola-Kirchhoff stress:"
   ]
  },
  {
   "cell_type": "code",
   "execution_count": 9,
   "id": "incorrect-hello",
   "metadata": {},
   "outputs": [],
   "source": [
    "# Elasticity parameters\n",
    "E = PETSc.ScalarType(1.0e4)\n",
    "nu = PETSc.ScalarType(0.3)\n",
    "mu = fem.Constant(domain, E / (2 * (1 + nu)))\n",
    "lmbda = fem.Constant(domain, E * nu / ((1 + nu) * (1 - 2 * nu)))\n",
    "# Stored strain energy density (compressible neo-Hookean model)\n",
    "psi = (mu / 2) * (Ic - 3) - mu * ufl.ln(J) + (lmbda / 2) * (ufl.ln(J))**2\n",
    "# Stress\n",
    "# Hyper-elasticity\n",
    "P = ufl.diff(psi, F)"
   ]
  },
  {
   "cell_type": "markdown",
   "id": "grateful-battlefield",
   "metadata": {},
   "source": [
    "```{admonition} Comparison to linear elasticity\n",
    "To illustrate the difference between linear and hyperelasticity, the following lines can be uncommented to solve the linear elasticity problem.\n",
    "```"
   ]
  },
  {
   "cell_type": "code",
   "execution_count": 10,
   "id": "imperial-jurisdiction",
   "metadata": {},
   "outputs": [],
   "source": [
    "# P = 2.0 * mu * ufl.sym(ufl.grad(u)) + lmbda * ufl.tr(ufl.sym(ufl.grad(u))) * I"
   ]
  },
  {
   "cell_type": "markdown",
   "id": "alleged-genesis",
   "metadata": {},
   "source": [
    "Define the variational form with traction integral over all facets with value 2. We set the quadrature degree for the integrals to 4."
   ]
  },
  {
   "cell_type": "code",
   "execution_count": 11,
   "id": "recognized-conclusion",
   "metadata": {},
   "outputs": [],
   "source": [
    "metadata = {\"quadrature_degree\": 4}\n",
    "ds = ufl.Measure('ds', domain=domain, subdomain_data=facet_tag, metadata=metadata)\n",
    "dx = ufl.Measure(\"dx\", domain=domain, metadata=metadata)\n",
    "# Define form F (we want to find u such that F(u) = 0)\n",
    "F = ufl.inner(ufl.grad(v), P) * dx - ufl.inner(v, B) * dx - ufl.inner(v, T) * ds(2)"
   ]
  },
  {
   "cell_type": "markdown",
   "id": "historic-sherman",
   "metadata": {},
   "source": [
    "As the varitional form is non-linear and written on residual form, we use the non-linear problem class from DOLFINx to set up required structures to use a Newton solver."
   ]
  },
  {
   "cell_type": "code",
   "execution_count": 12,
   "id": "threatened-devices",
   "metadata": {},
   "outputs": [],
   "source": [
    "problem = fem.petsc.NonlinearProblem(F, u, bcs)"
   ]
  },
  {
   "cell_type": "markdown",
   "id": "qualified-phrase",
   "metadata": {},
   "source": [
    "and then create and customize the Newton solver"
   ]
  },
  {
   "cell_type": "code",
   "execution_count": 13,
   "id": "special-globe",
   "metadata": {},
   "outputs": [],
   "source": [
    "solver = nls.petsc.NewtonSolver(domain.comm, problem)\n",
    "\n",
    "# Set Newton solver options\n",
    "solver.atol = 1e-8\n",
    "solver.rtol = 1e-8\n",
    "solver.convergence_criterion = \"incremental\"\n"
   ]
  },
  {
   "cell_type": "markdown",
   "id": "marked-hungary",
   "metadata": {},
   "source": [
    "We create a function to plot the solution at each time step."
   ]
  },
  {
   "cell_type": "code",
   "execution_count": 14,
   "id": "noble-perception",
   "metadata": {},
   "outputs": [],
   "source": [
    "pyvista.start_xvfb()\n",
    "plotter = pyvista.Plotter()\n",
    "plotter.open_gif(\"deformation.gif\", fps=3)\n",
    "\n",
    "topology, cells, geometry = plot.create_vtk_mesh(u.function_space)\n",
    "function_grid = pyvista.UnstructuredGrid(topology, cells, geometry)\n",
    "\n",
    "values = np.zeros((geometry.shape[0], 3))\n",
    "values[:, :len(u)] = u.x.array.reshape(geometry.shape[0], len(u))\n",
    "function_grid[\"u\"] = values\n",
    "function_grid.set_active_vectors(\"u\")\n",
    "\n",
    "# Warp mesh by deformation\n",
    "warped = function_grid.warp_by_vector(\"u\", factor=1)\n",
    "warped.set_active_vectors(\"u\")\n",
    "\n",
    "# Add mesh to plotter and visualize\n",
    "actor = plotter.add_mesh(warped, show_edges=True, lighting=False, clim=[0, 10])\n",
    "\n",
    "# Compute magnitude of displacement to visualize in GIF\n",
    "Vs = fem.FunctionSpace(domain, (\"Lagrange\", 2))\n",
    "magnitude = fem.Function(Vs)\n",
    "us = fem.Expression(ufl.sqrt(sum([u[i]**2 for i in range(len(u))])), Vs.element.interpolation_points())\n",
    "magnitude.interpolate(us)\n",
    "warped[\"mag\"] = magnitude.x.array"
   ]
  },
  {
   "cell_type": "markdown",
   "id": "nasty-entertainment",
   "metadata": {},
   "source": [
    "Finally, we solve the problem over several time steps, updating the y-component of the traction"
   ]
  },
  {
   "cell_type": "code",
   "execution_count": 15,
   "id": "vanilla-referral",
   "metadata": {},
   "outputs": [
    {
     "name": "stderr",
     "output_type": "stream",
     "text": [
      "2023-07-03 18:33:17.572 (   9.241s) [main            ]              petsc.cpp:675   INFO| PETSc Krylov solver starting to solve system.\n",
      "2023-07-03 18:33:18.168 (   9.837s) [main            ]         TimeLogger.cpp:28    INFO| Elapsed wall, usr, sys time: 0.596216, 0.540000, 0.050000 (PETSc Krylov solver)\n",
      "2023-07-03 18:33:18.397 (  10.066s) [main            ]              petsc.cpp:675   INFO| PETSc Krylov solver starting to solve system.\n",
      "2023-07-03 18:33:18.887 (  10.556s) [main            ]         TimeLogger.cpp:28    INFO| Elapsed wall, usr, sys time: 0.490533, 0.460000, 0.030000 (PETSc Krylov solver)\n",
      "2023-07-03 18:33:18.898 (  10.567s) [main            ]       NewtonSolver.cpp:36    INFO| Newton iteration 2: r (abs) = 22.2455 (tol = 1e-08) r (rel) = 0.134278(tol = 1e-08)\n",
      "2023-07-03 18:33:19.120 (  10.789s) [main            ]              petsc.cpp:675   INFO| PETSc Krylov solver starting to solve system.\n",
      "2023-07-03 18:33:19.639 (  11.308s) [main            ]         TimeLogger.cpp:28    INFO| Elapsed wall, usr, sys time: 0.519103, 0.480000, 0.040000 (PETSc Krylov solver)\n",
      "2023-07-03 18:33:19.655 (  11.324s) [main            ]       NewtonSolver.cpp:36    INFO| Newton iteration 3: r (abs) = 2.43261 (tol = 1e-08) r (rel) = 0.0146837(tol = 1e-08)\n",
      "2023-07-03 18:33:19.911 (  11.580s) [main            ]              petsc.cpp:675   INFO| PETSc Krylov solver starting to solve system.\n",
      "2023-07-03 18:33:20.381 (  12.050s) [main            ]         TimeLogger.cpp:28    INFO| Elapsed wall, usr, sys time: 0.469708, 0.430000, 0.040000 (PETSc Krylov solver)\n",
      "2023-07-03 18:33:20.393 (  12.062s) [main            ]       NewtonSolver.cpp:36    INFO| Newton iteration 4: r (abs) = 4.43158 (tol = 1e-08) r (rel) = 0.0267498(tol = 1e-08)\n",
      "2023-07-03 18:33:20.644 (  12.313s) [main            ]              petsc.cpp:675   INFO| PETSc Krylov solver starting to solve system.\n",
      "2023-07-03 18:33:21.159 (  12.828s) [main            ]         TimeLogger.cpp:28    INFO| Elapsed wall, usr, sys time: 0.514982, 0.460000, 0.060000 (PETSc Krylov solver)\n",
      "2023-07-03 18:33:21.170 (  12.839s) [main            ]       NewtonSolver.cpp:36    INFO| Newton iteration 5: r (abs) = 0.144189 (tol = 1e-08) r (rel) = 0.000870353(tol = 1e-08)\n",
      "2023-07-03 18:33:21.406 (  13.075s) [main            ]              petsc.cpp:675   INFO| PETSc Krylov solver starting to solve system.\n",
      "2023-07-03 18:33:21.921 (  13.590s) [main            ]         TimeLogger.cpp:28    INFO| Elapsed wall, usr, sys time: 0.515148, 0.470000, 0.050000 (PETSc Krylov solver)\n",
      "2023-07-03 18:33:21.933 (  13.602s) [main            ]       NewtonSolver.cpp:36    INFO| Newton iteration 6: r (abs) = 0.021424 (tol = 1e-08) r (rel) = 0.000129319(tol = 1e-08)\n",
      "2023-07-03 18:33:22.188 (  13.857s) [main            ]              petsc.cpp:675   INFO| PETSc Krylov solver starting to solve system.\n",
      "2023-07-03 18:33:22.722 (  14.391s) [main            ]         TimeLogger.cpp:28    INFO| Elapsed wall, usr, sys time: 0.534131, 0.530000, 0.010000 (PETSc Krylov solver)\n",
      "2023-07-03 18:33:22.739 (  14.408s) [main            ]       NewtonSolver.cpp:36    INFO| Newton iteration 7: r (abs) = 4.80065e-06 (tol = 1e-08) r (rel) = 2.89777e-08(tol = 1e-08)\n",
      "2023-07-03 18:33:22.995 (  14.664s) [main            ]              petsc.cpp:675   INFO| PETSc Krylov solver starting to solve system.\n",
      "2023-07-03 18:33:23.519 (  15.188s) [main            ]         TimeLogger.cpp:28    INFO| Elapsed wall, usr, sys time: 0.523520, 0.480000, 0.050000 (PETSc Krylov solver)\n"
     ]
    },
    {
     "name": "stdout",
     "output_type": "stream",
     "text": [
      "Time step 1, Number of iterations 8, Load [ 0.   0.  -1.5]\n"
     ]
    },
    {
     "name": "stderr",
     "output_type": "stream",
     "text": [
      "2023-07-03 18:33:23.531 (  15.200s) [main            ]       NewtonSolver.cpp:36    INFO| Newton iteration 8: r (abs) = 2.64761e-11 (tol = 1e-08) r (rel) = 1.59815e-13(tol = 1e-08)\n",
      "2023-07-03 18:33:23.531 (  15.200s) [main            ]       NewtonSolver.cpp:255   INFO| Newton solver finished in 8 iterations and 8 linear solver iterations.\n",
      "2023-07-03 18:33:23.934 (  15.603s) [main            ]              petsc.cpp:675   INFO| PETSc Krylov solver starting to solve system.\n",
      "2023-07-03 18:33:24.381 (  16.050s) [main            ]         TimeLogger.cpp:28    INFO| Elapsed wall, usr, sys time: 0.447366, 0.380000, 0.080000 (PETSc Krylov solver)\n",
      "2023-07-03 18:33:24.603 (  16.272s) [main            ]              petsc.cpp:675   INFO| PETSc Krylov solver starting to solve system.\n",
      "2023-07-03 18:33:25.032 (  16.701s) [main            ]         TimeLogger.cpp:28    INFO| Elapsed wall, usr, sys time: 0.429411, 0.370000, 0.060000 (PETSc Krylov solver)\n",
      "2023-07-03 18:33:25.043 (  16.712s) [main            ]       NewtonSolver.cpp:36    INFO| Newton iteration 2: r (abs) = 17.3254 (tol = 1e-08) r (rel) = 0.117842(tol = 1e-08)\n",
      "2023-07-03 18:33:25.249 (  16.918s) [main            ]              petsc.cpp:675   INFO| PETSc Krylov solver starting to solve system.\n",
      "2023-07-03 18:33:25.649 (  17.318s) [main            ]         TimeLogger.cpp:28    INFO| Elapsed wall, usr, sys time: 0.400288, 0.360000, 0.050000 (PETSc Krylov solver)\n",
      "2023-07-03 18:33:25.661 (  17.330s) [main            ]       NewtonSolver.cpp:36    INFO| Newton iteration 3: r (abs) = 5.14882 (tol = 1e-08) r (rel) = 0.0350207(tol = 1e-08)\n",
      "2023-07-03 18:33:25.878 (  17.547s) [main            ]              petsc.cpp:675   INFO| PETSc Krylov solver starting to solve system.\n",
      "2023-07-03 18:33:26.317 (  17.986s) [main            ]         TimeLogger.cpp:28    INFO| Elapsed wall, usr, sys time: 0.439718, 0.380000, 0.050000 (PETSc Krylov solver)\n",
      "2023-07-03 18:33:26.331 (  18.000s) [main            ]       NewtonSolver.cpp:36    INFO| Newton iteration 4: r (abs) = 7.24003 (tol = 1e-08) r (rel) = 0.0492445(tol = 1e-08)\n",
      "2023-07-03 18:33:26.549 (  18.218s) [main            ]              petsc.cpp:675   INFO| PETSc Krylov solver starting to solve system.\n",
      "2023-07-03 18:33:26.990 (  18.659s) [main            ]         TimeLogger.cpp:28    INFO| Elapsed wall, usr, sys time: 0.441241, 0.390000, 0.050000 (PETSc Krylov solver)\n",
      "2023-07-03 18:33:27.001 (  18.670s) [main            ]       NewtonSolver.cpp:36    INFO| Newton iteration 5: r (abs) = 0.777889 (tol = 1e-08) r (rel) = 0.00529096(tol = 1e-08)\n",
      "2023-07-03 18:33:27.202 (  18.871s) [main            ]              petsc.cpp:675   INFO| PETSc Krylov solver starting to solve system.\n",
      "2023-07-03 18:33:27.610 (  19.279s) [main            ]         TimeLogger.cpp:28    INFO| Elapsed wall, usr, sys time: 0.407511, 0.380000, 0.040000 (PETSc Krylov solver)\n",
      "2023-07-03 18:33:27.619 (  19.288s) [main            ]       NewtonSolver.cpp:36    INFO| Newton iteration 6: r (abs) = 1.25525 (tol = 1e-08) r (rel) = 0.00853785(tol = 1e-08)\n",
      "2023-07-03 18:33:27.819 (  19.488s) [main            ]              petsc.cpp:675   INFO| PETSc Krylov solver starting to solve system.\n",
      "2023-07-03 18:33:28.246 (  19.915s) [main            ]         TimeLogger.cpp:28    INFO| Elapsed wall, usr, sys time: 0.426908, 0.400000, 0.030000 (PETSc Krylov solver)\n"
     ]
    },
    {
     "name": "stdout",
     "output_type": "stream",
     "text": [
      "Time step 2, Number of iterations 9, Load [ 0.  0. -3.]\n"
     ]
    },
    {
     "name": "stderr",
     "output_type": "stream",
     "text": [
      "2023-07-03 18:33:28.258 (  19.927s) [main            ]       NewtonSolver.cpp:36    INFO| Newton iteration 7: r (abs) = 0.00849512 (tol = 1e-08) r (rel) = 5.77813e-05(tol = 1e-08)\n",
      "2023-07-03 18:33:28.477 (  20.146s) [main            ]              petsc.cpp:675   INFO| PETSc Krylov solver starting to solve system.\n",
      "2023-07-03 18:33:28.886 (  20.555s) [main            ]         TimeLogger.cpp:28    INFO| Elapsed wall, usr, sys time: 0.408655, 0.370000, 0.040000 (PETSc Krylov solver)\n",
      "2023-07-03 18:33:28.896 (  20.565s) [main            ]       NewtonSolver.cpp:36    INFO| Newton iteration 8: r (abs) = 0.000192107 (tol = 1e-08) r (rel) = 1.30665e-06(tol = 1e-08)\n",
      "2023-07-03 18:33:29.105 (  20.774s) [main            ]              petsc.cpp:675   INFO| PETSc Krylov solver starting to solve system.\n",
      "2023-07-03 18:33:29.541 (  21.210s) [main            ]         TimeLogger.cpp:28    INFO| Elapsed wall, usr, sys time: 0.435578, 0.390000, 0.050000 (PETSc Krylov solver)\n",
      "2023-07-03 18:33:29.551 (  21.220s) [main            ]       NewtonSolver.cpp:36    INFO| Newton iteration 9: r (abs) = 1.69847e-10 (tol = 1e-08) r (rel) = 1.15525e-12(tol = 1e-08)\n",
      "2023-07-03 18:33:29.552 (  21.220s) [main            ]       NewtonSolver.cpp:255   INFO| Newton solver finished in 9 iterations and 9 linear solver iterations.\n",
      "2023-07-03 18:33:29.830 (  21.499s) [main            ]              petsc.cpp:675   INFO| PETSc Krylov solver starting to solve system.\n",
      "2023-07-03 18:33:30.223 (  21.891s) [main            ]         TimeLogger.cpp:28    INFO| Elapsed wall, usr, sys time: 0.392153, 0.350000, 0.050000 (PETSc Krylov solver)\n",
      "2023-07-03 18:33:30.423 (  22.092s) [main            ]              petsc.cpp:675   INFO| PETSc Krylov solver starting to solve system.\n",
      "2023-07-03 18:33:30.864 (  22.533s) [main            ]         TimeLogger.cpp:28    INFO| Elapsed wall, usr, sys time: 0.441053, 0.400000, 0.040000 (PETSc Krylov solver)\n",
      "2023-07-03 18:33:30.876 (  22.545s) [main            ]       NewtonSolver.cpp:36    INFO| Newton iteration 2: r (abs) = 10.0011 (tol = 1e-08) r (rel) = 0.0887471(tol = 1e-08)\n",
      "2023-07-03 18:33:31.083 (  22.752s) [main            ]              petsc.cpp:675   INFO| PETSc Krylov solver starting to solve system.\n",
      "2023-07-03 18:33:31.480 (  23.149s) [main            ]         TimeLogger.cpp:28    INFO| Elapsed wall, usr, sys time: 0.396417, 0.360000, 0.040000 (PETSc Krylov solver)\n",
      "2023-07-03 18:33:31.489 (  23.158s) [main            ]       NewtonSolver.cpp:36    INFO| Newton iteration 3: r (abs) = 5.33026 (tol = 1e-08) r (rel) = 0.0472992(tol = 1e-08)\n",
      "2023-07-03 18:33:31.678 (  23.347s) [main            ]              petsc.cpp:675   INFO| PETSc Krylov solver starting to solve system.\n",
      "2023-07-03 18:33:32.073 (  23.742s) [main            ]         TimeLogger.cpp:28    INFO| Elapsed wall, usr, sys time: 0.394998, 0.360000, 0.040000 (PETSc Krylov solver)\n",
      "2023-07-03 18:33:32.085 (  23.754s) [main            ]       NewtonSolver.cpp:36    INFO| Newton iteration 4: r (abs) = 11.9901 (tol = 1e-08) r (rel) = 0.106397(tol = 1e-08)\n",
      "2023-07-03 18:33:32.286 (  23.954s) [main            ]              petsc.cpp:675   INFO| PETSc Krylov solver starting to solve system.\n",
      "2023-07-03 18:33:32.710 (  24.379s) [main            ]         TimeLogger.cpp:28    INFO| Elapsed wall, usr, sys time: 0.424920, 0.380000, 0.050000 (PETSc Krylov solver)\n",
      "2023-07-03 18:33:32.722 (  24.391s) [main            ]       NewtonSolver.cpp:36    INFO| Newton iteration 5: r (abs) = 2.29702 (tol = 1e-08) r (rel) = 0.0203831(tol = 1e-08)\n",
      "2023-07-03 18:33:32.939 (  24.608s) [main            ]              petsc.cpp:675   INFO| PETSc Krylov solver starting to solve system.\n",
      "2023-07-03 18:33:33.367 (  25.036s) [main            ]         TimeLogger.cpp:28    INFO| Elapsed wall, usr, sys time: 0.427888, 0.400000, 0.030000 (PETSc Krylov solver)\n",
      "2023-07-03 18:33:33.379 (  25.048s) [main            ]       NewtonSolver.cpp:36    INFO| Newton iteration 6: r (abs) = 3.90234 (tol = 1e-08) r (rel) = 0.0346282(tol = 1e-08)\n",
      "2023-07-03 18:33:33.657 (  25.325s) [main            ]              petsc.cpp:675   INFO| PETSc Krylov solver starting to solve system.\n",
      "2023-07-03 18:33:34.135 (  25.804s) [main            ]         TimeLogger.cpp:28    INFO| Elapsed wall, usr, sys time: 0.478789, 0.420000, 0.060000 (PETSc Krylov solver)\n",
      "2023-07-03 18:33:34.149 (  25.818s) [main            ]       NewtonSolver.cpp:36    INFO| Newton iteration 7: r (abs) = 0.236535 (tol = 1e-08) r (rel) = 0.00209895(tol = 1e-08)\n",
      "2023-07-03 18:33:34.369 (  26.038s) [main            ]              petsc.cpp:675   INFO| PETSc Krylov solver starting to solve system.\n",
      "2023-07-03 18:33:34.820 (  26.489s) [main            ]         TimeLogger.cpp:28    INFO| Elapsed wall, usr, sys time: 0.451059, 0.430000, 0.030000 (PETSc Krylov solver)\n",
      "2023-07-03 18:33:34.832 (  26.501s) [main            ]       NewtonSolver.cpp:36    INFO| Newton iteration 8: r (abs) = 0.0427142 (tol = 1e-08) r (rel) = 0.000379034(tol = 1e-08)\n",
      "2023-07-03 18:33:35.072 (  26.741s) [main            ]              petsc.cpp:675   INFO| PETSc Krylov solver starting to solve system.\n",
      "2023-07-03 18:33:35.500 (  27.169s) [main            ]         TimeLogger.cpp:28    INFO| Elapsed wall, usr, sys time: 0.428158, 0.390000, 0.040000 (PETSc Krylov solver)\n",
      "2023-07-03 18:33:35.513 (  27.182s) [main            ]       NewtonSolver.cpp:36    INFO| Newton iteration 9: r (abs) = 2.87798e-05 (tol = 1e-08) r (rel) = 2.55384e-07(tol = 1e-08)\n",
      "2023-07-03 18:33:35.736 (  27.405s) [main            ]              petsc.cpp:675   INFO| PETSc Krylov solver starting to solve system.\n",
      "2023-07-03 18:33:36.264 (  27.933s) [main            ]         TimeLogger.cpp:28    INFO| Elapsed wall, usr, sys time: 0.528369, 0.490000, 0.050000 (PETSc Krylov solver)\n"
     ]
    },
    {
     "name": "stdout",
     "output_type": "stream",
     "text": [
      "Time step 3, Number of iterations 10, Load [ 0.   0.  -4.5]\n"
     ]
    },
    {
     "name": "stderr",
     "output_type": "stream",
     "text": [
      "2023-07-03 18:33:36.281 (  27.950s) [main            ]       NewtonSolver.cpp:36    INFO| Newton iteration 10: r (abs) = 6.08645e-10 (tol = 1e-08) r (rel) = 5.40094e-12(tol = 1e-08)\n",
      "2023-07-03 18:33:36.281 (  27.950s) [main            ]       NewtonSolver.cpp:255   INFO| Newton solver finished in 10 iterations and 10 linear solver iterations.\n",
      "2023-07-03 18:33:36.600 (  28.269s) [main            ]              petsc.cpp:675   INFO| PETSc Krylov solver starting to solve system.\n",
      "2023-07-03 18:33:37.108 (  28.777s) [main            ]         TimeLogger.cpp:28    INFO| Elapsed wall, usr, sys time: 0.507597, 0.450000, 0.060000 (PETSc Krylov solver)\n",
      "2023-07-03 18:33:37.374 (  29.043s) [main            ]              petsc.cpp:675   INFO| PETSc Krylov solver starting to solve system.\n",
      "2023-07-03 18:33:37.853 (  29.522s) [main            ]         TimeLogger.cpp:28    INFO| Elapsed wall, usr, sys time: 0.478865, 0.440000, 0.040000 (PETSc Krylov solver)\n",
      "2023-07-03 18:33:37.863 (  29.532s) [main            ]       NewtonSolver.cpp:36    INFO| Newton iteration 2: r (abs) = 5.50693 (tol = 1e-08) r (rel) = 0.0653918(tol = 1e-08)\n",
      "2023-07-03 18:33:38.083 (  29.752s) [main            ]              petsc.cpp:675   INFO| PETSc Krylov solver starting to solve system.\n",
      "2023-07-03 18:33:38.581 (  30.250s) [main            ]         TimeLogger.cpp:28    INFO| Elapsed wall, usr, sys time: 0.497998, 0.440000, 0.070000 (PETSc Krylov solver)\n",
      "2023-07-03 18:33:38.598 (  30.267s) [main            ]       NewtonSolver.cpp:36    INFO| Newton iteration 3: r (abs) = 26.2489 (tol = 1e-08) r (rel) = 0.311692(tol = 1e-08)\n",
      "2023-07-03 18:33:38.852 (  30.521s) [main            ]              petsc.cpp:675   INFO| PETSc Krylov solver starting to solve system.\n",
      "2023-07-03 18:33:39.336 (  31.005s) [main            ]         TimeLogger.cpp:28    INFO| Elapsed wall, usr, sys time: 0.484294, 0.430000, 0.060000 (PETSc Krylov solver)\n",
      "2023-07-03 18:33:39.347 (  31.016s) [main            ]       NewtonSolver.cpp:36    INFO| Newton iteration 4: r (abs) = 2.30927 (tol = 1e-08) r (rel) = 0.0274213(tol = 1e-08)\n",
      "2023-07-03 18:33:39.591 (  31.260s) [main            ]              petsc.cpp:675   INFO| PETSc Krylov solver starting to solve system.\n",
      "2023-07-03 18:33:40.088 (  31.757s) [main            ]         TimeLogger.cpp:28    INFO| Elapsed wall, usr, sys time: 0.496727, 0.460000, 0.050000 (PETSc Krylov solver)\n",
      "2023-07-03 18:33:40.100 (  31.769s) [main            ]       NewtonSolver.cpp:36    INFO| Newton iteration 5: r (abs) = 14.0562 (tol = 1e-08) r (rel) = 0.16691(tol = 1e-08)\n",
      "2023-07-03 18:33:40.349 (  32.018s) [main            ]              petsc.cpp:675   INFO| PETSc Krylov solver starting to solve system.\n",
      "2023-07-03 18:33:40.840 (  32.509s) [main            ]         TimeLogger.cpp:28    INFO| Elapsed wall, usr, sys time: 0.490262, 0.430000, 0.060000 (PETSc Krylov solver)\n",
      "2023-07-03 18:33:40.851 (  32.520s) [main            ]       NewtonSolver.cpp:36    INFO| Newton iteration 6: r (abs) = 0.222774 (tol = 1e-08) r (rel) = 0.00264532(tol = 1e-08)\n",
      "2023-07-03 18:33:41.075 (  32.744s) [main            ]              petsc.cpp:675   INFO| PETSc Krylov solver starting to solve system.\n",
      "2023-07-03 18:33:41.600 (  33.269s) [main            ]         TimeLogger.cpp:28    INFO| Elapsed wall, usr, sys time: 0.525470, 0.470000, 0.050000 (PETSc Krylov solver)\n",
      "2023-07-03 18:33:41.615 (  33.284s) [main            ]       NewtonSolver.cpp:36    INFO| Newton iteration 7: r (abs) = 0.286671 (tol = 1e-08) r (rel) = 0.00340406(tol = 1e-08)\n",
      "2023-07-03 18:33:41.858 (  33.527s) [main            ]              petsc.cpp:675   INFO| PETSc Krylov solver starting to solve system.\n",
      "2023-07-03 18:33:42.463 (  34.132s) [main            ]         TimeLogger.cpp:28    INFO| Elapsed wall, usr, sys time: 0.605453, 0.550000, 0.060000 (PETSc Krylov solver)\n",
      "2023-07-03 18:33:42.480 (  34.149s) [main            ]       NewtonSolver.cpp:36    INFO| Newton iteration 8: r (abs) = 0.000321869 (tol = 1e-08) r (rel) = 3.82203e-06(tol = 1e-08)\n",
      "2023-07-03 18:33:42.731 (  34.400s) [main            ]              petsc.cpp:675   INFO| PETSc Krylov solver starting to solve system.\n",
      "2023-07-03 18:33:43.322 (  34.991s) [main            ]         TimeLogger.cpp:28    INFO| Elapsed wall, usr, sys time: 0.590086, 0.530000, 0.060000 (PETSc Krylov solver)\n",
      "2023-07-03 18:33:43.337 (  35.006s) [main            ]       NewtonSolver.cpp:36    INFO| Newton iteration 9: r (abs) = 2.63797e-07 (tol = 1e-08) r (rel) = 3.13244e-09(tol = 1e-08)\n",
      "2023-07-03 18:33:43.337 (  35.006s) [main            ]       NewtonSolver.cpp:255   INFO| Newton solver finished in 9 iterations and 9 linear solver iterations.\n"
     ]
    },
    {
     "name": "stdout",
     "output_type": "stream",
     "text": [
      "Time step 4, Number of iterations 9, Load [ 0.  0. -6.]\n"
     ]
    },
    {
     "name": "stderr",
     "output_type": "stream",
     "text": [
      "2023-07-03 18:33:43.671 (  35.340s) [main            ]              petsc.cpp:675   INFO| PETSc Krylov solver starting to solve system.\n",
      "2023-07-03 18:33:44.232 (  35.901s) [main            ]         TimeLogger.cpp:28    INFO| Elapsed wall, usr, sys time: 0.560872, 0.510000, 0.060000 (PETSc Krylov solver)\n",
      "2023-07-03 18:33:44.509 (  36.178s) [main            ]              petsc.cpp:675   INFO| PETSc Krylov solver starting to solve system.\n",
      "2023-07-03 18:33:45.072 (  36.741s) [main            ]         TimeLogger.cpp:28    INFO| Elapsed wall, usr, sys time: 0.563000, 0.510000, 0.050000 (PETSc Krylov solver)\n",
      "2023-07-03 18:33:45.086 (  36.755s) [main            ]       NewtonSolver.cpp:36    INFO| Newton iteration 2: r (abs) = 3.19462 (tol = 1e-08) r (rel) = 0.0496479(tol = 1e-08)\n",
      "2023-07-03 18:33:45.318 (  36.987s) [main            ]              petsc.cpp:675   INFO| PETSc Krylov solver starting to solve system.\n",
      "2023-07-03 18:33:45.835 (  37.504s) [main            ]         TimeLogger.cpp:28    INFO| Elapsed wall, usr, sys time: 0.516673, 0.460000, 0.060000 (PETSc Krylov solver)\n",
      "2023-07-03 18:33:45.846 (  37.515s) [main            ]       NewtonSolver.cpp:36    INFO| Newton iteration 3: r (abs) = 7.71429 (tol = 1e-08) r (rel) = 0.119888(tol = 1e-08)\n",
      "2023-07-03 18:33:46.078 (  37.746s) [main            ]              petsc.cpp:675   INFO| PETSc Krylov solver starting to solve system.\n",
      "2023-07-03 18:33:46.650 (  38.319s) [main            ]         TimeLogger.cpp:28    INFO| Elapsed wall, usr, sys time: 0.572734, 0.530000, 0.040000 (PETSc Krylov solver)\n",
      "2023-07-03 18:33:46.664 (  38.333s) [main            ]       NewtonSolver.cpp:36    INFO| Newton iteration 4: r (abs) = 0.850873 (tol = 1e-08) r (rel) = 0.0132235(tol = 1e-08)\n",
      "2023-07-03 18:33:46.911 (  38.580s) [main            ]              petsc.cpp:675   INFO| PETSc Krylov solver starting to solve system.\n",
      "2023-07-03 18:33:47.419 (  39.088s) [main            ]         TimeLogger.cpp:28    INFO| Elapsed wall, usr, sys time: 0.507777, 0.470000, 0.030000 (PETSc Krylov solver)\n",
      "2023-07-03 18:33:47.428 (  39.097s) [main            ]       NewtonSolver.cpp:36    INFO| Newton iteration 5: r (abs) = 0.371434 (tol = 1e-08) r (rel) = 0.0057725(tol = 1e-08)\n",
      "2023-07-03 18:33:47.639 (  39.308s) [main            ]              petsc.cpp:675   INFO| PETSc Krylov solver starting to solve system.\n",
      "2023-07-03 18:33:48.271 (  39.940s) [main            ]         TimeLogger.cpp:28    INFO| Elapsed wall, usr, sys time: 0.632005, 0.600000, 0.040000 (PETSc Krylov solver)\n",
      "2023-07-03 18:33:48.290 (  39.959s) [main            ]       NewtonSolver.cpp:36    INFO| Newton iteration 6: r (abs) = 0.00215066 (tol = 1e-08) r (rel) = 3.34236e-05(tol = 1e-08)\n",
      "2023-07-03 18:33:48.560 (  40.229s) [main            ]              petsc.cpp:675   INFO| PETSc Krylov solver starting to solve system.\n",
      "2023-07-03 18:33:49.197 (  40.866s) [main            ]         TimeLogger.cpp:28    INFO| Elapsed wall, usr, sys time: 0.636433, 0.590000, 0.050000 (PETSc Krylov solver)\n",
      "2023-07-03 18:33:49.214 (  40.883s) [main            ]       NewtonSolver.cpp:36    INFO| Newton iteration 7: r (abs) = 2.54607e-06 (tol = 1e-08) r (rel) = 3.95687e-08(tol = 1e-08)\n",
      "2023-07-03 18:33:49.476 (  41.145s) [main            ]              petsc.cpp:675   INFO| PETSc Krylov solver starting to solve system.\n",
      "2023-07-03 18:33:50.014 (  41.683s) [main            ]         TimeLogger.cpp:28    INFO| Elapsed wall, usr, sys time: 0.538491, 0.480000, 0.050000 (PETSc Krylov solver)\n"
     ]
    },
    {
     "name": "stdout",
     "output_type": "stream",
     "text": [
      "Time step 5, Number of iterations 8, Load [ 0.   0.  -7.5]\n"
     ]
    },
    {
     "name": "stderr",
     "output_type": "stream",
     "text": [
      "2023-07-03 18:33:50.027 (  41.696s) [main            ]       NewtonSolver.cpp:36    INFO| Newton iteration 8: r (abs) = 3.42079e-13 (tol = 1e-08) r (rel) = 5.31628e-15(tol = 1e-08)\n",
      "2023-07-03 18:33:50.027 (  41.696s) [main            ]       NewtonSolver.cpp:255   INFO| Newton solver finished in 8 iterations and 8 linear solver iterations.\n",
      "2023-07-03 18:33:50.350 (  42.019s) [main            ]              petsc.cpp:675   INFO| PETSc Krylov solver starting to solve system.\n",
      "2023-07-03 18:33:50.843 (  42.512s) [main            ]         TimeLogger.cpp:28    INFO| Elapsed wall, usr, sys time: 0.493284, 0.440000, 0.050000 (PETSc Krylov solver)\n",
      "2023-07-03 18:33:51.103 (  42.772s) [main            ]              petsc.cpp:675   INFO| PETSc Krylov solver starting to solve system.\n",
      "2023-07-03 18:33:51.717 (  43.386s) [main            ]         TimeLogger.cpp:28    INFO| Elapsed wall, usr, sys time: 0.614257, 0.550000, 0.070000 (PETSc Krylov solver)\n",
      "2023-07-03 18:33:51.731 (  43.400s) [main            ]       NewtonSolver.cpp:36    INFO| Newton iteration 2: r (abs) = 2.00649 (tol = 1e-08) r (rel) = 0.0395622(tol = 1e-08)\n",
      "2023-07-03 18:33:51.957 (  43.626s) [main            ]              petsc.cpp:675   INFO| PETSc Krylov solver starting to solve system.\n",
      "2023-07-03 18:33:52.410 (  44.079s) [main            ]         TimeLogger.cpp:28    INFO| Elapsed wall, usr, sys time: 0.453213, 0.410000, 0.040000 (PETSc Krylov solver)\n",
      "2023-07-03 18:33:52.423 (  44.092s) [main            ]       NewtonSolver.cpp:36    INFO| Newton iteration 3: r (abs) = 4.60977 (tol = 1e-08) r (rel) = 0.0908914(tol = 1e-08)\n",
      "2023-07-03 18:33:52.621 (  44.290s) [main            ]              petsc.cpp:675   INFO| PETSc Krylov solver starting to solve system.\n",
      "2023-07-03 18:33:53.051 (  44.720s) [main            ]         TimeLogger.cpp:28    INFO| Elapsed wall, usr, sys time: 0.429451, 0.390000, 0.040000 (PETSc Krylov solver)\n",
      "2023-07-03 18:33:53.061 (  44.730s) [main            ]       NewtonSolver.cpp:36    INFO| Newton iteration 4: r (abs) = 0.185372 (tol = 1e-08) r (rel) = 0.00365501(tol = 1e-08)\n",
      "2023-07-03 18:33:53.289 (  44.958s) [main            ]              petsc.cpp:675   INFO| PETSc Krylov solver starting to solve system.\n",
      "2023-07-03 18:33:53.791 (  45.460s) [main            ]         TimeLogger.cpp:28    INFO| Elapsed wall, usr, sys time: 0.501594, 0.460000, 0.060000 (PETSc Krylov solver)\n",
      "2023-07-03 18:33:53.802 (  45.471s) [main            ]       NewtonSolver.cpp:36    INFO| Newton iteration 5: r (abs) = 0.024688 (tol = 1e-08) r (rel) = 0.000486777(tol = 1e-08)\n",
      "2023-07-03 18:33:54.017 (  45.686s) [main            ]              petsc.cpp:675   INFO| PETSc Krylov solver starting to solve system.\n",
      "2023-07-03 18:33:54.460 (  46.129s) [main            ]         TimeLogger.cpp:28    INFO| Elapsed wall, usr, sys time: 0.442477, 0.380000, 0.060000 (PETSc Krylov solver)\n",
      "2023-07-03 18:33:54.471 (  46.140s) [main            ]       NewtonSolver.cpp:36    INFO| Newton iteration 6: r (abs) = 5.69255e-06 (tol = 1e-08) r (rel) = 1.12241e-07(tol = 1e-08)\n",
      "2023-07-03 18:33:54.731 (  46.400s) [main            ]              petsc.cpp:675   INFO| PETSc Krylov solver starting to solve system.\n",
      "2023-07-03 18:33:55.231 (  46.900s) [main            ]         TimeLogger.cpp:28    INFO| Elapsed wall, usr, sys time: 0.499697, 0.460000, 0.050000 (PETSc Krylov solver)\n",
      "2023-07-03 18:33:55.242 (  46.911s) [main            ]       NewtonSolver.cpp:36    INFO| Newton iteration 7: r (abs) = 2.66157e-11 (tol = 1e-08) r (rel) = 5.24786e-13(tol = 1e-08)\n",
      "2023-07-03 18:33:55.242 (  46.911s) [main            ]       NewtonSolver.cpp:255   INFO| Newton solver finished in 7 iterations and 7 linear solver iterations.\n"
     ]
    },
    {
     "name": "stdout",
     "output_type": "stream",
     "text": [
      "Time step 6, Number of iterations 7, Load [ 0.  0. -9.]\n"
     ]
    },
    {
     "name": "stderr",
     "output_type": "stream",
     "text": [
      "2023-07-03 18:33:55.525 (  47.194s) [main            ]              petsc.cpp:675   INFO| PETSc Krylov solver starting to solve system.\n",
      "2023-07-03 18:33:56.040 (  47.709s) [main            ]         TimeLogger.cpp:28    INFO| Elapsed wall, usr, sys time: 0.514544, 0.470000, 0.050000 (PETSc Krylov solver)\n",
      "2023-07-03 18:33:56.283 (  47.952s) [main            ]              petsc.cpp:675   INFO| PETSc Krylov solver starting to solve system.\n",
      "2023-07-03 18:33:56.792 (  48.461s) [main            ]         TimeLogger.cpp:28    INFO| Elapsed wall, usr, sys time: 0.509216, 0.460000, 0.050000 (PETSc Krylov solver)\n",
      "2023-07-03 18:33:56.803 (  48.472s) [main            ]       NewtonSolver.cpp:36    INFO| Newton iteration 2: r (abs) = 1.38506 (tol = 1e-08) r (rel) = 0.0336622(tol = 1e-08)\n",
      "2023-07-03 18:33:57.051 (  48.720s) [main            ]              petsc.cpp:675   INFO| PETSc Krylov solver starting to solve system.\n",
      "2023-07-03 18:33:57.526 (  49.195s) [main            ]         TimeLogger.cpp:28    INFO| Elapsed wall, usr, sys time: 0.474575, 0.440000, 0.040000 (PETSc Krylov solver)\n",
      "2023-07-03 18:33:57.539 (  49.208s) [main            ]       NewtonSolver.cpp:36    INFO| Newton iteration 3: r (abs) = 3.03739 (tol = 1e-08) r (rel) = 0.07382(tol = 1e-08)\n",
      "2023-07-03 18:33:57.799 (  49.468s) [main            ]              petsc.cpp:675   INFO| PETSc Krylov solver starting to solve system.\n",
      "2023-07-03 18:33:58.230 (  49.899s) [main            ]         TimeLogger.cpp:28    INFO| Elapsed wall, usr, sys time: 0.430974, 0.400000, 0.030000 (PETSc Krylov solver)\n",
      "2023-07-03 18:33:58.242 (  49.911s) [main            ]       NewtonSolver.cpp:36    INFO| Newton iteration 4: r (abs) = 0.0412386 (tol = 1e-08) r (rel) = 0.00100225(tol = 1e-08)\n",
      "2023-07-03 18:33:58.463 (  50.132s) [main            ]              petsc.cpp:675   INFO| PETSc Krylov solver starting to solve system.\n",
      "2023-07-03 18:33:58.922 (  50.590s) [main            ]         TimeLogger.cpp:28    INFO| Elapsed wall, usr, sys time: 0.458887, 0.420000, 0.040000 (PETSc Krylov solver)\n",
      "2023-07-03 18:33:58.932 (  50.601s) [main            ]       NewtonSolver.cpp:36    INFO| Newton iteration 5: r (abs) = 0.00205057 (tol = 1e-08) r (rel) = 4.98364e-05(tol = 1e-08)\n",
      "2023-07-03 18:33:59.161 (  50.830s) [main            ]              petsc.cpp:675   INFO| PETSc Krylov solver starting to solve system.\n",
      "2023-07-03 18:33:59.593 (  51.262s) [main            ]         TimeLogger.cpp:28    INFO| Elapsed wall, usr, sys time: 0.431213, 0.390000, 0.040000 (PETSc Krylov solver)\n",
      "2023-07-03 18:33:59.602 (  51.271s) [main            ]       NewtonSolver.cpp:36    INFO| Newton iteration 6: r (abs) = 1.78862e-08 (tol = 1e-08) r (rel) = 4.34702e-10(tol = 1e-08)\n",
      "2023-07-03 18:33:59.602 (  51.271s) [main            ]       NewtonSolver.cpp:255   INFO| Newton solver finished in 6 iterations and 6 linear solver iterations.\n"
     ]
    },
    {
     "name": "stdout",
     "output_type": "stream",
     "text": [
      "Time step 7, Number of iterations 6, Load [  0.    0.  -10.5]\n"
     ]
    },
    {
     "name": "stderr",
     "output_type": "stream",
     "text": [
      "2023-07-03 18:33:59.869 (  51.538s) [main            ]              petsc.cpp:675   INFO| PETSc Krylov solver starting to solve system.\n",
      "2023-07-03 18:34:00.317 (  51.986s) [main            ]         TimeLogger.cpp:28    INFO| Elapsed wall, usr, sys time: 0.447373, 0.420000, 0.040000 (PETSc Krylov solver)\n",
      "2023-07-03 18:34:00.549 (  52.218s) [main            ]              petsc.cpp:675   INFO| PETSc Krylov solver starting to solve system.\n",
      "2023-07-03 18:34:01.000 (  52.669s) [main            ]         TimeLogger.cpp:28    INFO| Elapsed wall, usr, sys time: 0.451243, 0.410000, 0.040000 (PETSc Krylov solver)\n",
      "2023-07-03 18:34:01.013 (  52.682s) [main            ]       NewtonSolver.cpp:36    INFO| Newton iteration 2: r (abs) = 1.06336 (tol = 1e-08) r (rel) = 0.031085(tol = 1e-08)\n",
      "2023-07-03 18:34:01.267 (  52.936s) [main            ]              petsc.cpp:675   INFO| PETSc Krylov solver starting to solve system.\n",
      "2023-07-03 18:34:01.719 (  53.388s) [main            ]         TimeLogger.cpp:28    INFO| Elapsed wall, usr, sys time: 0.451591, 0.420000, 0.030000 (PETSc Krylov solver)\n",
      "2023-07-03 18:34:01.729 (  53.398s) [main            ]       NewtonSolver.cpp:36    INFO| Newton iteration 3: r (abs) = 2.0477 (tol = 1e-08) r (rel) = 0.0598598(tol = 1e-08)\n",
      "2023-07-03 18:34:01.956 (  53.625s) [main            ]              petsc.cpp:675   INFO| PETSc Krylov solver starting to solve system.\n",
      "2023-07-03 18:34:02.444 (  54.113s) [main            ]         TimeLogger.cpp:28    INFO| Elapsed wall, usr, sys time: 0.487825, 0.450000, 0.050000 (PETSc Krylov solver)\n",
      "2023-07-03 18:34:02.456 (  54.125s) [main            ]       NewtonSolver.cpp:36    INFO| Newton iteration 4: r (abs) = 0.00897719 (tol = 1e-08) r (rel) = 0.000262427(tol = 1e-08)\n",
      "2023-07-03 18:34:02.677 (  54.346s) [main            ]              petsc.cpp:675   INFO| PETSc Krylov solver starting to solve system.\n",
      "2023-07-03 18:34:03.146 (  54.815s) [main            ]         TimeLogger.cpp:28    INFO| Elapsed wall, usr, sys time: 0.469464, 0.410000, 0.060000 (PETSc Krylov solver)\n",
      "2023-07-03 18:34:03.158 (  54.827s) [main            ]       NewtonSolver.cpp:36    INFO| Newton iteration 5: r (abs) = 0.000167422 (tol = 1e-08) r (rel) = 4.89419e-06(tol = 1e-08)\n",
      "2023-07-03 18:34:03.369 (  55.038s) [main            ]              petsc.cpp:675   INFO| PETSc Krylov solver starting to solve system.\n",
      "2023-07-03 18:34:03.804 (  55.473s) [main            ]         TimeLogger.cpp:28    INFO| Elapsed wall, usr, sys time: 0.435085, 0.410000, 0.030000 (PETSc Krylov solver)\n",
      "2023-07-03 18:34:03.814 (  55.483s) [main            ]       NewtonSolver.cpp:36    INFO| Newton iteration 6: r (abs) = 3.24402e-11 (tol = 1e-08) r (rel) = 9.48314e-13(tol = 1e-08)\n",
      "2023-07-03 18:34:03.814 (  55.483s) [main            ]       NewtonSolver.cpp:255   INFO| Newton solver finished in 6 iterations and 6 linear solver iterations.\n"
     ]
    },
    {
     "name": "stdout",
     "output_type": "stream",
     "text": [
      "Time step 8, Number of iterations 6, Load [  0.   0. -12.]\n"
     ]
    },
    {
     "name": "stderr",
     "output_type": "stream",
     "text": [
      "2023-07-03 18:34:04.109 (  55.778s) [main            ]              petsc.cpp:675   INFO| PETSc Krylov solver starting to solve system.\n",
      "2023-07-03 18:34:04.533 (  56.202s) [main            ]         TimeLogger.cpp:28    INFO| Elapsed wall, usr, sys time: 0.424062, 0.370000, 0.060000 (PETSc Krylov solver)\n",
      "2023-07-03 18:34:04.768 (  56.437s) [main            ]              petsc.cpp:675   INFO| PETSc Krylov solver starting to solve system.\n",
      "2023-07-03 18:34:05.210 (  56.879s) [main            ]         TimeLogger.cpp:28    INFO| Elapsed wall, usr, sys time: 0.441240, 0.380000, 0.060000 (PETSc Krylov solver)\n",
      "2023-07-03 18:34:05.222 (  56.891s) [main            ]       NewtonSolver.cpp:36    INFO| Newton iteration 2: r (abs) = 0.898789 (tol = 1e-08) r (rel) = 0.0309666(tol = 1e-08)\n",
      "2023-07-03 18:34:05.429 (  57.098s) [main            ]              petsc.cpp:675   INFO| PETSc Krylov solver starting to solve system.\n",
      "2023-07-03 18:34:05.840 (  57.509s) [main            ]         TimeLogger.cpp:28    INFO| Elapsed wall, usr, sys time: 0.410668, 0.360000, 0.050000 (PETSc Krylov solver)\n",
      "2023-07-03 18:34:05.851 (  57.520s) [main            ]       NewtonSolver.cpp:36    INFO| Newton iteration 3: r (abs) = 1.38354 (tol = 1e-08) r (rel) = 0.0476679(tol = 1e-08)\n",
      "2023-07-03 18:34:06.057 (  57.725s) [main            ]              petsc.cpp:675   INFO| PETSc Krylov solver starting to solve system.\n",
      "2023-07-03 18:34:06.509 (  58.178s) [main            ]         TimeLogger.cpp:28    INFO| Elapsed wall, usr, sys time: 0.452814, 0.410000, 0.050000 (PETSc Krylov solver)\n",
      "2023-07-03 18:34:06.519 (  58.188s) [main            ]       NewtonSolver.cpp:36    INFO| Newton iteration 4: r (abs) = 0.00185096 (tol = 1e-08) r (rel) = 6.37724e-05(tol = 1e-08)\n",
      "2023-07-03 18:34:06.733 (  58.401s) [main            ]              petsc.cpp:675   INFO| PETSc Krylov solver starting to solve system.\n",
      "2023-07-03 18:34:07.179 (  58.848s) [main            ]         TimeLogger.cpp:28    INFO| Elapsed wall, usr, sys time: 0.446726, 0.410000, 0.040000 (PETSc Krylov solver)\n",
      "2023-07-03 18:34:07.200 (  58.869s) [main            ]       NewtonSolver.cpp:36    INFO| Newton iteration 5: r (abs) = 7.87183e-06 (tol = 1e-08) r (rel) = 2.71213e-07(tol = 1e-08)\n",
      "2023-07-03 18:34:07.434 (  59.103s) [main            ]              petsc.cpp:675   INFO| PETSc Krylov solver starting to solve system.\n",
      "2023-07-03 18:34:07.848 (  59.517s) [main            ]         TimeLogger.cpp:28    INFO| Elapsed wall, usr, sys time: 0.413990, 0.370000, 0.050000 (PETSc Krylov solver)\n",
      "2023-07-03 18:34:07.858 (  59.527s) [main            ]       NewtonSolver.cpp:36    INFO| Newton iteration 6: r (abs) = 4.30231e-13 (tol = 1e-08) r (rel) = 1.4823e-14(tol = 1e-08)\n",
      "2023-07-03 18:34:07.858 (  59.527s) [main            ]       NewtonSolver.cpp:255   INFO| Newton solver finished in 6 iterations and 6 linear solver iterations.\n"
     ]
    },
    {
     "name": "stdout",
     "output_type": "stream",
     "text": [
      "Time step 9, Number of iterations 6, Load [  0.    0.  -13.5]\n"
     ]
    }
   ],
   "source": [
    "log.set_log_level(log.LogLevel.INFO)\n",
    "tval0 = -1.5\n",
    "for n in range(1, 10):\n",
    "    T.value[2] = n * tval0\n",
    "    num_its, converged = solver.solve(u)\n",
    "    assert (converged)\n",
    "    u.x.scatter_forward()\n",
    "    print(f\"Time step {n}, Number of iterations {num_its}, Load {T.value}\")\n",
    "    function_grid[\"u\"][:, :len(u)] = u.x.array.reshape(geometry.shape[0], len(u))\n",
    "    magnitude.interpolate(us)\n",
    "    warped.set_active_scalars(\"mag\")\n",
    "    warped_n = function_grid.warp_by_vector(factor=1)\n",
    "    plotter.update_coordinates(warped_n.points.copy(), render=False)\n",
    "    plotter.update_scalar_bar_range([0, 10])\n",
    "    plotter.update_scalars(magnitude.x.array)\n",
    "    plotter.write_frame()\n",
    "plotter.close()"
   ]
  },
  {
   "cell_type": "markdown",
   "id": "906ef59c-7e89-46e7-9222-9a6e925f4180",
   "metadata": {},
   "source": [
    "<img src=\"./deformation.gif\" alt=\"gif\" class=\"bg-primary mb-1\" width=\"800px\">"
   ]
  }
 ],
 "metadata": {
  "jupytext": {
   "formats": "ipynb,py:light"
  },
  "kernelspec": {
   "display_name": "Python 3 (ipykernel)",
   "language": "python",
   "name": "python3"
  },
  "language_info": {
   "codemirror_mode": {
    "name": "ipython",
    "version": 3
   },
   "file_extension": ".py",
   "mimetype": "text/x-python",
   "name": "python",
   "nbconvert_exporter": "python",
   "pygments_lexer": "ipython3",
   "version": "3.10.6"
  }
 },
 "nbformat": 4,
 "nbformat_minor": 5
}
