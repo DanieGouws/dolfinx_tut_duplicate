{
 "cells": [
  {
   "cell_type": "markdown",
   "id": "supreme-malpractice",
   "metadata": {},
   "source": [
    "# Hyperelasticity\n",
    "Author: Jørgen S. Dokken and Garth N. Wells\n",
    "\n",
    "This section shows how to solve the hyperelasticity problem for deformation of a beam.\n",
    "\n",
    "We will also show how to create a constant boundary condition for a vector function space.\n",
    "\n",
    "We start by importing DOLFINx and some additional dependencies.\n",
    "Then, we create a slender cantilever consisting of hexahedral elements and create the function space `V` for our unknown."
   ]
  },
  {
   "cell_type": "code",
   "execution_count": 1,
   "id": "optional-cameroon",
   "metadata": {},
   "outputs": [],
   "source": [
    "import numpy as np\n",
    "import ufl\n",
    "\n",
    "from petsc4py import PETSc\n",
    "from mpi4py import MPI\n",
    "from dolfinx import fem, mesh, plot\n",
    "L = 20.0\n",
    "domain = mesh.create_box(MPI.COMM_WORLD,[[0.0,0.0,0.0], [L, 1, 1]], [20, 5, 5], mesh.CellType.hexahedron)\n",
    "V = fem.VectorFunctionSpace(domain, (\"CG\", 2))"
   ]
  },
  {
   "cell_type": "markdown",
   "id": "streaming-neutral",
   "metadata": {},
   "source": [
    "We create two python functions for determining the facets to apply boundary conditions to"
   ]
  },
  {
   "cell_type": "code",
   "execution_count": 2,
   "id": "major-factor",
   "metadata": {},
   "outputs": [],
   "source": [
    "def left(x):\n",
    "    return np.isclose(x[0], 0)\n",
    "\n",
    "def right(x):\n",
    "    return np.isclose(x[0], L)\n",
    "\n",
    "fdim = domain.topology.dim -1\n",
    "left_facets = mesh.locate_entities_boundary(domain, fdim, left)\n",
    "right_facets = mesh.locate_entities_boundary(domain, fdim, right)"
   ]
  },
  {
   "cell_type": "markdown",
   "id": "figured-world",
   "metadata": {},
   "source": [
    "Next, we create a  marker based on these two functions"
   ]
  },
  {
   "cell_type": "code",
   "execution_count": 3,
   "id": "dated-india",
   "metadata": {},
   "outputs": [],
   "source": [
    "# Concatenate and sort the arrays based on facet indices. Left facets marked with 1, right facets with two\n",
    "marked_facets = np.hstack([left_facets, right_facets])\n",
    "marked_values = np.hstack([np.full_like(left_facets, 1), np.full_like(right_facets, 2)])\n",
    "sorted_facets = np.argsort(marked_facets)\n",
    "facet_tag = mesh.meshtags(domain, fdim, marked_facets[sorted_facets], marked_values[sorted_facets])"
   ]
  },
  {
   "cell_type": "markdown",
   "id": "renewable-glossary",
   "metadata": {},
   "source": [
    "We then create a function for supplying the boundary condition on the left side, which is fixed."
   ]
  },
  {
   "cell_type": "code",
   "execution_count": 4,
   "id": "confidential-french",
   "metadata": {},
   "outputs": [],
   "source": [
    "u_bc = np.array((0,) * domain.geometry.dim, dtype=PETSc.ScalarType)"
   ]
  },
  {
   "cell_type": "markdown",
   "id": "musical-documentation",
   "metadata": {},
   "source": [
    "To apply the boundary condition, we identity the dofs located on the facets marked by the `MeshTag`."
   ]
  },
  {
   "cell_type": "code",
   "execution_count": 5,
   "id": "written-monster",
   "metadata": {},
   "outputs": [],
   "source": [
    "left_dofs = fem.locate_dofs_topological(V, facet_tag.dim, facet_tag.find(1))\n",
    "bcs = [fem.dirichletbc(u_bc, left_dofs, V)]"
   ]
  },
  {
   "cell_type": "markdown",
   "id": "indoor-chester",
   "metadata": {},
   "source": [
    "Next, we define the body force on the reference configuration (`B`), and nominal (first Piola-Kirchhoff) traction (`T`). "
   ]
  },
  {
   "cell_type": "code",
   "execution_count": 6,
   "id": "korean-carol",
   "metadata": {},
   "outputs": [],
   "source": [
    "B = fem.Constant(domain, PETSc.ScalarType((0, 0, 0)))\n",
    "T = fem.Constant(domain, PETSc.ScalarType((0, 0, 0)))"
   ]
  },
  {
   "cell_type": "markdown",
   "id": "blond-dynamics",
   "metadata": {},
   "source": [
    "Define the test and solution functions on the space $V$"
   ]
  },
  {
   "cell_type": "code",
   "execution_count": 7,
   "id": "vocational-experiment",
   "metadata": {},
   "outputs": [],
   "source": [
    "v = ufl.TestFunction(V)\n",
    "u = fem.Function(V)"
   ]
  },
  {
   "cell_type": "markdown",
   "id": "bright-belle",
   "metadata": {},
   "source": [
    "Define kinematic quantities used in the problem"
   ]
  },
  {
   "cell_type": "code",
   "execution_count": 8,
   "id": "vertical-original",
   "metadata": {},
   "outputs": [],
   "source": [
    "# Spatial dimension\n",
    "d = len(u)\n",
    "\n",
    "# Identity tensor\n",
    "I = ufl.variable(ufl.Identity(d))\n",
    "\n",
    "# Deformation gradient\n",
    "F = ufl.variable(I + ufl.grad(u))\n",
    "\n",
    "# Right Cauchy-Green tensor\n",
    "C = ufl.variable(F.T * F)\n",
    "\n",
    "# Invariants of deformation tensors\n",
    "Ic = ufl.variable(ufl.tr(C))\n",
    "J  = ufl.variable(ufl.det(F))"
   ]
  },
  {
   "cell_type": "markdown",
   "id": "respiratory-compromise",
   "metadata": {},
   "source": [
    "Define the elasticity model via a stored strain energy density function $\\psi$, and create the expression for the first Piola-Kirchhoff stress:"
   ]
  },
  {
   "cell_type": "code",
   "execution_count": 9,
   "id": "incorrect-hello",
   "metadata": {},
   "outputs": [],
   "source": [
    "# Elasticity parameters\n",
    "E = PETSc.ScalarType(1.0e4)\n",
    "nu = PETSc.ScalarType(0.3)\n",
    "mu = fem.Constant(domain, E/(2*(1 + nu)))\n",
    "lmbda = fem.Constant(domain, E*nu/((1 + nu)*(1 - 2*nu)))\n",
    "# Stored strain energy density (compressible neo-Hookean model)\n",
    "psi = (mu / 2) * (Ic - 3) - mu * ufl.ln(J) + (lmbda / 2) * (ufl.ln(J))**2\n",
    "# Stress\n",
    "# Hyper-elasticity\n",
    "P = ufl.diff(psi, F)"
   ]
  },
  {
   "cell_type": "markdown",
   "id": "grateful-battlefield",
   "metadata": {},
   "source": [
    "```{admonition} Comparison to linear elasticity\n",
    "To illustrate the difference between linear and hyperelasticity, the following lines can be uncommented to solve the linear elasticity problem.\n",
    "```"
   ]
  },
  {
   "cell_type": "code",
   "execution_count": 10,
   "id": "imperial-jurisdiction",
   "metadata": {},
   "outputs": [],
   "source": [
    "# P = 2.0 * mu * ufl.sym(ufl.grad(u)) + lmbda * ufl.tr(ufl.sym(ufl.grad(u))) * I"
   ]
  },
  {
   "cell_type": "markdown",
   "id": "alleged-genesis",
   "metadata": {},
   "source": [
    "Define the variational form with traction integral over all facets with value 2. We set the quadrature degree for the integrals to 4."
   ]
  },
  {
   "cell_type": "code",
   "execution_count": 11,
   "id": "recognized-conclusion",
   "metadata": {},
   "outputs": [],
   "source": [
    "metadata = {\"quadrature_degree\": 4}\n",
    "ds = ufl.Measure('ds', domain=domain, subdomain_data=facet_tag, metadata=metadata)\n",
    "dx = ufl.Measure(\"dx\", domain=domain, metadata=metadata)\n",
    "# Define form F (we want to find u such that F(u) = 0)\n",
    "F = ufl.inner(ufl.grad(v), P)*dx - ufl.inner(v, B)*dx - ufl.inner(v, T)*ds(2) "
   ]
  },
  {
   "cell_type": "markdown",
   "id": "historic-sherman",
   "metadata": {},
   "source": [
    "As the varitional form is non-linear and written on residual form, we use the non-linear problem class from DOLFINx to set up required structures to use a Newton solver."
   ]
  },
  {
   "cell_type": "code",
   "execution_count": 12,
   "id": "threatened-devices",
   "metadata": {},
   "outputs": [],
   "source": [
    "problem = fem.petsc.NonlinearProblem(F, u, bcs)"
   ]
  },
  {
   "cell_type": "markdown",
   "id": "qualified-phrase",
   "metadata": {},
   "source": [
    "and then create and customize the Newton solver"
   ]
  },
  {
   "cell_type": "code",
   "execution_count": 13,
   "id": "special-globe",
   "metadata": {},
   "outputs": [],
   "source": [
    "from dolfinx import nls\n",
    "solver = nls.petsc.NewtonSolver(domain.comm, problem)\n",
    "\n",
    "# Set Newton solver options\n",
    "solver.atol = 1e-8\n",
    "solver.rtol = 1e-8\n",
    "solver.convergence_criterion = \"incremental\""
   ]
  },
  {
   "cell_type": "markdown",
   "id": "marked-hungary",
   "metadata": {},
   "source": [
    "We create a function to plot the solution at each time step."
   ]
  },
  {
   "cell_type": "code",
   "execution_count": 14,
   "id": "noble-perception",
   "metadata": {},
   "outputs": [
    {
     "data": {
      "application/vnd.jupyter.widget-view+json": {
       "model_id": "26917d76de8a461987744c88e554221b",
       "version_major": 2,
       "version_minor": 0
      },
      "text/plain": [
       "AppLayout(children=(VBox(children=(HTML(value='<h3>u(0)</h3>'), Dropdown(description='Colormap:', options={'Br…"
      ]
     },
     "metadata": {},
     "output_type": "display_data"
    }
   ],
   "source": [
    "import pyvista\n",
    "pyvista.set_jupyter_backend(\"ipygany\")\n",
    "\n",
    "grid = pyvista.UnstructuredGrid(*plot.create_vtk_mesh(domain, domain.topology.dim))\n",
    "\n",
    "def plot_function(t, uh):\n",
    "    \"\"\"\n",
    "    Create a figure of the concentration uh warped visualized in 3D at timet step t.\n",
    "    \"\"\"\n",
    "    p = pyvista.Plotter()\n",
    "    # Create grid defined by the function space for visualization of the function\n",
    "    topology, cells, geometry = plot.create_vtk_mesh(uh.function_space)\n",
    "    function_grid = pyvista.UnstructuredGrid(topology, cells, geometry)\n",
    "    var_name = f\"u({t})\"\n",
    "    values = np.zeros((geometry.shape[0], 3))\n",
    "    values[:, :len(uh)] = uh.x.array.reshape(geometry.shape[0], len(uh))\n",
    "    function_grid[var_name] = values\n",
    "    function_grid.set_active_vectors(var_name)\n",
    "    # Warp mesh by deformation\n",
    "    warped = function_grid.warp_by_vector(var_name, factor=1)\n",
    "    \n",
    "    # Add mesh to plotter and visualize\n",
    "    actor = p.add_mesh(warped)\n",
    "    p.show_axes()\n",
    "    if not pyvista.OFF_SCREEN:\n",
    "       p.show()\n",
    "    else:\n",
    "        pyvista.start_xvfb()\n",
    "        figure_as_array = p.screenshot(f\"diffusion_{t:.2f}.png\")\n",
    "        # Clear plotter for next plot\n",
    "        p.remove_actor(actor)\n",
    "\n",
    "plot_function(0, u)"
   ]
  },
  {
   "cell_type": "markdown",
   "id": "nasty-entertainment",
   "metadata": {},
   "source": [
    "Finally, we solve the problem over several time steps, updating the y-component of the traction"
   ]
  },
  {
   "cell_type": "code",
   "execution_count": null,
   "id": "vanilla-referral",
   "metadata": {},
   "outputs": [
    {
     "name": "stderr",
     "output_type": "stream",
     "text": [
      "2022-08-02 20:53:10.917 (   3.032s) [main            ]              petsc.cpp:677   INFO| PETSc Krylov solver starting to solve system.\n",
      "2022-08-02 20:53:11.706 (   3.820s) [main            ]              petsc.cpp:677   INFO| PETSc Krylov solver starting to solve system.\n",
      "2022-08-02 20:53:12.119 (   4.233s) [main            ]       NewtonSolver.cpp:36    INFO| Newton iteration 2: r (abs) = 22.2455 (tol = 1e-08) r (rel) = 0.134278(tol = 1e-08)\n",
      "2022-08-02 20:53:12.316 (   4.430s) [main            ]              petsc.cpp:677   INFO| PETSc Krylov solver starting to solve system.\n",
      "2022-08-02 20:53:12.725 (   4.839s) [main            ]       NewtonSolver.cpp:36    INFO| Newton iteration 3: r (abs) = 2.43261 (tol = 1e-08) r (rel) = 0.0146837(tol = 1e-08)\n",
      "2022-08-02 20:53:12.933 (   5.047s) [main            ]              petsc.cpp:677   INFO| PETSc Krylov solver starting to solve system.\n",
      "2022-08-02 20:53:13.363 (   5.477s) [main            ]       NewtonSolver.cpp:36    INFO| Newton iteration 4: r (abs) = 4.43158 (tol = 1e-08) r (rel) = 0.0267498(tol = 1e-08)\n",
      "2022-08-02 20:53:13.569 (   5.683s) [main            ]              petsc.cpp:677   INFO| PETSc Krylov solver starting to solve system.\n",
      "2022-08-02 20:53:14.011 (   6.126s) [main            ]       NewtonSolver.cpp:36    INFO| Newton iteration 5: r (abs) = 0.144189 (tol = 1e-08) r (rel) = 0.000870353(tol = 1e-08)\n",
      "2022-08-02 20:53:14.215 (   6.330s) [main            ]              petsc.cpp:677   INFO| PETSc Krylov solver starting to solve system.\n",
      "2022-08-02 20:53:14.652 (   6.766s) [main            ]       NewtonSolver.cpp:36    INFO| Newton iteration 6: r (abs) = 0.021424 (tol = 1e-08) r (rel) = 0.000129319(tol = 1e-08)\n",
      "2022-08-02 20:53:14.850 (   6.965s) [main            ]              petsc.cpp:677   INFO| PETSc Krylov solver starting to solve system.\n"
     ]
    },
    {
     "name": "stdout",
     "output_type": "stream",
     "text": [
      "Time step 1, Number of iterations 8, Load [ 0.   0.  -1.5]\n"
     ]
    },
    {
     "name": "stderr",
     "output_type": "stream",
     "text": [
      "2022-08-02 20:53:15.261 (   7.375s) [main            ]       NewtonSolver.cpp:36    INFO| Newton iteration 7: r (abs) = 4.80067e-06 (tol = 1e-08) r (rel) = 2.89777e-08(tol = 1e-08)\n",
      "2022-08-02 20:53:15.467 (   7.581s) [main            ]              petsc.cpp:677   INFO| PETSc Krylov solver starting to solve system.\n",
      "2022-08-02 20:53:15.901 (   8.016s) [main            ]       NewtonSolver.cpp:36    INFO| Newton iteration 8: r (abs) = 2.65191e-11 (tol = 1e-08) r (rel) = 1.60074e-13(tol = 1e-08)\n",
      "2022-08-02 20:53:15.901 (   8.016s) [main            ]       NewtonSolver.cpp:255   INFO| Newton solver finished in 8 iterations and 8 linear solver iterations.\n"
     ]
    },
    {
     "data": {
      "application/vnd.jupyter.widget-view+json": {
       "model_id": "0b1efcb4955b4cc9a3b0774698670f61",
       "version_major": 2,
       "version_minor": 0
      },
      "text/plain": [
       "AppLayout(children=(VBox(children=(HTML(value='<h3>u(1)</h3>'), Dropdown(description='Colormap:', options={'Br…"
      ]
     },
     "metadata": {},
     "output_type": "display_data"
    },
    {
     "name": "stderr",
     "output_type": "stream",
     "text": [
      "2022-08-02 20:53:16.209 (   8.323s) [main            ]              petsc.cpp:677   INFO| PETSc Krylov solver starting to solve system.\n",
      "2022-08-02 20:53:16.837 (   8.952s) [main            ]              petsc.cpp:677   INFO| PETSc Krylov solver starting to solve system.\n",
      "2022-08-02 20:53:17.246 (   9.361s) [main            ]       NewtonSolver.cpp:36    INFO| Newton iteration 2: r (abs) = 17.3254 (tol = 1e-08) r (rel) = 0.117842(tol = 1e-08)\n",
      "2022-08-02 20:53:17.443 (   9.558s) [main            ]              petsc.cpp:677   INFO| PETSc Krylov solver starting to solve system.\n",
      "2022-08-02 20:53:17.855 (   9.970s) [main            ]       NewtonSolver.cpp:36    INFO| Newton iteration 3: r (abs) = 5.14882 (tol = 1e-08) r (rel) = 0.0350207(tol = 1e-08)\n",
      "2022-08-02 20:53:18.059 (  10.173s) [main            ]              petsc.cpp:677   INFO| PETSc Krylov solver starting to solve system.\n",
      "2022-08-02 20:53:18.502 (  10.617s) [main            ]       NewtonSolver.cpp:36    INFO| Newton iteration 4: r (abs) = 7.24003 (tol = 1e-08) r (rel) = 0.0492445(tol = 1e-08)\n",
      "2022-08-02 20:53:18.702 (  10.817s) [main            ]              petsc.cpp:677   INFO| PETSc Krylov solver starting to solve system.\n",
      "2022-08-02 20:53:19.122 (  11.237s) [main            ]       NewtonSolver.cpp:36    INFO| Newton iteration 5: r (abs) = 0.777889 (tol = 1e-08) r (rel) = 0.00529096(tol = 1e-08)\n",
      "2022-08-02 20:53:19.319 (  11.433s) [main            ]              petsc.cpp:677   INFO| PETSc Krylov solver starting to solve system.\n",
      "2022-08-02 20:53:19.725 (  11.840s) [main            ]       NewtonSolver.cpp:36    INFO| Newton iteration 6: r (abs) = 1.25525 (tol = 1e-08) r (rel) = 0.00853785(tol = 1e-08)\n",
      "2022-08-02 20:53:19.924 (  12.039s) [main            ]              petsc.cpp:677   INFO| PETSc Krylov solver starting to solve system.\n",
      "2022-08-02 20:53:20.329 (  12.444s) [main            ]       NewtonSolver.cpp:36    INFO| Newton iteration 7: r (abs) = 0.00849512 (tol = 1e-08) r (rel) = 5.77813e-05(tol = 1e-08)\n",
      "2022-08-02 20:53:20.535 (  12.650s) [main            ]              petsc.cpp:677   INFO| PETSc Krylov solver starting to solve system.\n"
     ]
    },
    {
     "name": "stdout",
     "output_type": "stream",
     "text": [
      "Time step 2, Number of iterations 9, Load [ 0.  0. -3.]\n"
     ]
    },
    {
     "name": "stderr",
     "output_type": "stream",
     "text": [
      "2022-08-02 20:53:20.969 (  13.083s) [main            ]       NewtonSolver.cpp:36    INFO| Newton iteration 8: r (abs) = 0.000192107 (tol = 1e-08) r (rel) = 1.30665e-06(tol = 1e-08)\n",
      "2022-08-02 20:53:21.179 (  13.293s) [main            ]              petsc.cpp:677   INFO| PETSc Krylov solver starting to solve system.\n",
      "2022-08-02 20:53:21.586 (  13.700s) [main            ]       NewtonSolver.cpp:36    INFO| Newton iteration 9: r (abs) = 1.70369e-10 (tol = 1e-08) r (rel) = 1.1588e-12(tol = 1e-08)\n",
      "2022-08-02 20:53:21.586 (  13.700s) [main            ]       NewtonSolver.cpp:255   INFO| Newton solver finished in 9 iterations and 9 linear solver iterations.\n"
     ]
    },
    {
     "data": {
      "application/vnd.jupyter.widget-view+json": {
       "model_id": "0ae82613debd49d29c02d839b6c5b83c",
       "version_major": 2,
       "version_minor": 0
      },
      "text/plain": [
       "AppLayout(children=(VBox(children=(HTML(value='<h3>u(2)</h3>'), Dropdown(description='Colormap:', options={'Br…"
      ]
     },
     "metadata": {},
     "output_type": "display_data"
    },
    {
     "name": "stderr",
     "output_type": "stream",
     "text": [
      "2022-08-02 20:53:21.857 (  13.971s) [main            ]              petsc.cpp:677   INFO| PETSc Krylov solver starting to solve system.\n",
      "2022-08-02 20:53:22.462 (  14.577s) [main            ]              petsc.cpp:677   INFO| PETSc Krylov solver starting to solve system.\n",
      "2022-08-02 20:53:22.866 (  14.981s) [main            ]       NewtonSolver.cpp:36    INFO| Newton iteration 2: r (abs) = 10.0011 (tol = 1e-08) r (rel) = 0.0887471(tol = 1e-08)\n",
      "2022-08-02 20:53:23.064 (  15.179s) [main            ]              petsc.cpp:677   INFO| PETSc Krylov solver starting to solve system.\n",
      "2022-08-02 20:53:23.470 (  15.585s) [main            ]       NewtonSolver.cpp:36    INFO| Newton iteration 3: r (abs) = 5.33026 (tol = 1e-08) r (rel) = 0.0472992(tol = 1e-08)\n",
      "2022-08-02 20:53:23.669 (  15.783s) [main            ]              petsc.cpp:677   INFO| PETSc Krylov solver starting to solve system.\n",
      "2022-08-02 20:53:24.077 (  16.192s) [main            ]       NewtonSolver.cpp:36    INFO| Newton iteration 4: r (abs) = 11.9901 (tol = 1e-08) r (rel) = 0.106397(tol = 1e-08)\n",
      "2022-08-02 20:53:24.282 (  16.396s) [main            ]              petsc.cpp:677   INFO| PETSc Krylov solver starting to solve system.\n",
      "2022-08-02 20:53:24.691 (  16.805s) [main            ]       NewtonSolver.cpp:36    INFO| Newton iteration 5: r (abs) = 2.29702 (tol = 1e-08) r (rel) = 0.0203831(tol = 1e-08)\n",
      "2022-08-02 20:53:24.887 (  17.001s) [main            ]              petsc.cpp:677   INFO| PETSc Krylov solver starting to solve system.\n",
      "2022-08-02 20:53:25.309 (  17.424s) [main            ]       NewtonSolver.cpp:36    INFO| Newton iteration 6: r (abs) = 3.90234 (tol = 1e-08) r (rel) = 0.0346282(tol = 1e-08)\n",
      "2022-08-02 20:53:25.533 (  17.647s) [main            ]              petsc.cpp:677   INFO| PETSc Krylov solver starting to solve system.\n",
      "2022-08-02 20:53:25.964 (  18.078s) [main            ]       NewtonSolver.cpp:36    INFO| Newton iteration 7: r (abs) = 0.236535 (tol = 1e-08) r (rel) = 0.00209895(tol = 1e-08)\n",
      "2022-08-02 20:53:26.175 (  18.290s) [main            ]              petsc.cpp:677   INFO| PETSc Krylov solver starting to solve system.\n",
      "2022-08-02 20:53:26.584 (  18.698s) [main            ]       NewtonSolver.cpp:36    INFO| Newton iteration 8: r (abs) = 0.0427142 (tol = 1e-08) r (rel) = 0.000379034(tol = 1e-08)\n"
     ]
    },
    {
     "name": "stdout",
     "output_type": "stream",
     "text": [
      "Time step 3, Number of iterations 10, Load [ 0.   0.  -4.5]\n"
     ]
    },
    {
     "name": "stderr",
     "output_type": "stream",
     "text": [
      "2022-08-02 20:53:26.801 (  18.916s) [main            ]              petsc.cpp:677   INFO| PETSc Krylov solver starting to solve system.\n",
      "2022-08-02 20:53:27.213 (  19.327s) [main            ]       NewtonSolver.cpp:36    INFO| Newton iteration 9: r (abs) = 2.87798e-05 (tol = 1e-08) r (rel) = 2.55384e-07(tol = 1e-08)\n",
      "2022-08-02 20:53:27.409 (  19.523s) [main            ]              petsc.cpp:677   INFO| PETSc Krylov solver starting to solve system.\n",
      "2022-08-02 20:53:27.836 (  19.950s) [main            ]       NewtonSolver.cpp:36    INFO| Newton iteration 10: r (abs) = 6.08768e-10 (tol = 1e-08) r (rel) = 5.40203e-12(tol = 1e-08)\n",
      "2022-08-02 20:53:27.836 (  19.950s) [main            ]       NewtonSolver.cpp:255   INFO| Newton solver finished in 10 iterations and 10 linear solver iterations.\n"
     ]
    },
    {
     "data": {
      "application/vnd.jupyter.widget-view+json": {
       "model_id": "0181c8eebd0d496b8cee45004d7832d1",
       "version_major": 2,
       "version_minor": 0
      },
      "text/plain": [
       "AppLayout(children=(VBox(children=(HTML(value='<h3>u(3)</h3>'), Dropdown(description='Colormap:', options={'Br…"
      ]
     },
     "metadata": {},
     "output_type": "display_data"
    },
    {
     "name": "stderr",
     "output_type": "stream",
     "text": [
      "2022-08-02 20:53:28.128 (  20.242s) [main            ]              petsc.cpp:677   INFO| PETSc Krylov solver starting to solve system.\n",
      "2022-08-02 20:53:28.748 (  20.862s) [main            ]              petsc.cpp:677   INFO| PETSc Krylov solver starting to solve system.\n",
      "2022-08-02 20:53:29.186 (  21.301s) [main            ]       NewtonSolver.cpp:36    INFO| Newton iteration 2: r (abs) = 5.50693 (tol = 1e-08) r (rel) = 0.0653918(tol = 1e-08)\n",
      "2022-08-02 20:53:29.393 (  21.507s) [main            ]              petsc.cpp:677   INFO| PETSc Krylov solver starting to solve system.\n",
      "2022-08-02 20:53:29.863 (  21.978s) [main            ]       NewtonSolver.cpp:36    INFO| Newton iteration 3: r (abs) = 26.2489 (tol = 1e-08) r (rel) = 0.311692(tol = 1e-08)\n",
      "2022-08-02 20:53:30.068 (  22.183s) [main            ]              petsc.cpp:677   INFO| PETSc Krylov solver starting to solve system.\n",
      "2022-08-02 20:53:30.489 (  22.604s) [main            ]       NewtonSolver.cpp:36    INFO| Newton iteration 4: r (abs) = 2.30927 (tol = 1e-08) r (rel) = 0.0274213(tol = 1e-08)\n",
      "2022-08-02 20:53:30.697 (  22.811s) [main            ]              petsc.cpp:677   INFO| PETSc Krylov solver starting to solve system.\n",
      "2022-08-02 20:53:31.115 (  23.230s) [main            ]       NewtonSolver.cpp:36    INFO| Newton iteration 5: r (abs) = 14.0562 (tol = 1e-08) r (rel) = 0.16691(tol = 1e-08)\n",
      "2022-08-02 20:53:31.310 (  23.425s) [main            ]              petsc.cpp:677   INFO| PETSc Krylov solver starting to solve system.\n",
      "2022-08-02 20:53:31.715 (  23.830s) [main            ]       NewtonSolver.cpp:36    INFO| Newton iteration 6: r (abs) = 0.222774 (tol = 1e-08) r (rel) = 0.00264532(tol = 1e-08)\n",
      "2022-08-02 20:53:31.921 (  24.035s) [main            ]              petsc.cpp:677   INFO| PETSc Krylov solver starting to solve system.\n",
      "2022-08-02 20:53:32.342 (  24.457s) [main            ]       NewtonSolver.cpp:36    INFO| Newton iteration 7: r (abs) = 0.286671 (tol = 1e-08) r (rel) = 0.00340406(tol = 1e-08)\n",
      "2022-08-02 20:53:32.545 (  24.660s) [main            ]              petsc.cpp:677   INFO| PETSc Krylov solver starting to solve system.\n",
      "2022-08-02 20:53:32.950 (  25.064s) [main            ]       NewtonSolver.cpp:36    INFO| Newton iteration 8: r (abs) = 0.000321869 (tol = 1e-08) r (rel) = 3.82203e-06(tol = 1e-08)\n"
     ]
    },
    {
     "name": "stdout",
     "output_type": "stream",
     "text": [
      "Time step 4, Number of iterations 9, Load [ 0.  0. -6.]\n"
     ]
    },
    {
     "name": "stderr",
     "output_type": "stream",
     "text": [
      "2022-08-02 20:53:33.155 (  25.270s) [main            ]              petsc.cpp:677   INFO| PETSc Krylov solver starting to solve system.\n",
      "2022-08-02 20:53:33.594 (  25.708s) [main            ]       NewtonSolver.cpp:36    INFO| Newton iteration 9: r (abs) = 2.63797e-07 (tol = 1e-08) r (rel) = 3.13244e-09(tol = 1e-08)\n",
      "2022-08-02 20:53:33.594 (  25.708s) [main            ]       NewtonSolver.cpp:255   INFO| Newton solver finished in 9 iterations and 9 linear solver iterations.\n"
     ]
    },
    {
     "data": {
      "application/vnd.jupyter.widget-view+json": {
       "model_id": "ab3e61724c084fd4ab378378fbc9581b",
       "version_major": 2,
       "version_minor": 0
      },
      "text/plain": [
       "AppLayout(children=(VBox(children=(HTML(value='<h3>u(4)</h3>'), Dropdown(description='Colormap:', options={'Br…"
      ]
     },
     "metadata": {},
     "output_type": "display_data"
    },
    {
     "name": "stderr",
     "output_type": "stream",
     "text": [
      "2022-08-02 20:53:33.878 (  25.993s) [main            ]              petsc.cpp:677   INFO| PETSc Krylov solver starting to solve system.\n",
      "2022-08-02 20:53:34.484 (  26.599s) [main            ]              petsc.cpp:677   INFO| PETSc Krylov solver starting to solve system.\n",
      "2022-08-02 20:53:34.893 (  27.007s) [main            ]       NewtonSolver.cpp:36    INFO| Newton iteration 2: r (abs) = 3.19462 (tol = 1e-08) r (rel) = 0.0496479(tol = 1e-08)\n",
      "2022-08-02 20:53:35.126 (  27.240s) [main            ]              petsc.cpp:677   INFO| PETSc Krylov solver starting to solve system.\n",
      "2022-08-02 20:53:35.567 (  27.682s) [main            ]       NewtonSolver.cpp:36    INFO| Newton iteration 3: r (abs) = 7.71429 (tol = 1e-08) r (rel) = 0.119888(tol = 1e-08)\n",
      "2022-08-02 20:53:35.773 (  27.888s) [main            ]              petsc.cpp:677   INFO| PETSc Krylov solver starting to solve system.\n",
      "2022-08-02 20:53:36.199 (  28.313s) [main            ]       NewtonSolver.cpp:36    INFO| Newton iteration 4: r (abs) = 0.850873 (tol = 1e-08) r (rel) = 0.0132235(tol = 1e-08)\n",
      "2022-08-02 20:53:36.414 (  28.529s) [main            ]              petsc.cpp:677   INFO| PETSc Krylov solver starting to solve system.\n"
     ]
    },
    {
     "name": "stdout",
     "output_type": "stream",
     "text": [
      "Time step 5, Number of iterations 8, Load [ 0.   0.  -7.5]\n"
     ]
    },
    {
     "name": "stderr",
     "output_type": "stream",
     "text": [
      "2022-08-02 20:53:36.839 (  28.954s) [main            ]       NewtonSolver.cpp:36    INFO| Newton iteration 5: r (abs) = 0.371434 (tol = 1e-08) r (rel) = 0.0057725(tol = 1e-08)\n",
      "2022-08-02 20:53:37.047 (  29.162s) [main            ]              petsc.cpp:677   INFO| PETSc Krylov solver starting to solve system.\n",
      "2022-08-02 20:53:37.453 (  29.568s) [main            ]       NewtonSolver.cpp:36    INFO| Newton iteration 6: r (abs) = 0.00215066 (tol = 1e-08) r (rel) = 3.34236e-05(tol = 1e-08)\n",
      "2022-08-02 20:53:37.658 (  29.772s) [main            ]              petsc.cpp:677   INFO| PETSc Krylov solver starting to solve system.\n",
      "2022-08-02 20:53:38.066 (  30.180s) [main            ]       NewtonSolver.cpp:36    INFO| Newton iteration 7: r (abs) = 2.54607e-06 (tol = 1e-08) r (rel) = 3.95687e-08(tol = 1e-08)\n",
      "2022-08-02 20:53:38.277 (  30.392s) [main            ]              petsc.cpp:677   INFO| PETSc Krylov solver starting to solve system.\n",
      "2022-08-02 20:53:38.695 (  30.810s) [main            ]       NewtonSolver.cpp:36    INFO| Newton iteration 8: r (abs) = 2.62506e-13 (tol = 1e-08) r (rel) = 4.07963e-15(tol = 1e-08)\n",
      "2022-08-02 20:53:38.695 (  30.810s) [main            ]       NewtonSolver.cpp:255   INFO| Newton solver finished in 8 iterations and 8 linear solver iterations.\n"
     ]
    },
    {
     "data": {
      "application/vnd.jupyter.widget-view+json": {
       "model_id": "f5b178d4b7ff4658a42cad920ecd19bb",
       "version_major": 2,
       "version_minor": 0
      },
      "text/plain": [
       "AppLayout(children=(VBox(children=(HTML(value='<h3>u(5)</h3>'), Dropdown(description='Colormap:', options={'Br…"
      ]
     },
     "metadata": {},
     "output_type": "display_data"
    },
    {
     "name": "stderr",
     "output_type": "stream",
     "text": [
      "2022-08-02 20:53:38.970 (  31.085s) [main            ]              petsc.cpp:677   INFO| PETSc Krylov solver starting to solve system.\n",
      "2022-08-02 20:53:39.575 (  31.690s) [main            ]              petsc.cpp:677   INFO| PETSc Krylov solver starting to solve system.\n",
      "2022-08-02 20:53:39.983 (  32.097s) [main            ]       NewtonSolver.cpp:36    INFO| Newton iteration 2: r (abs) = 2.00649 (tol = 1e-08) r (rel) = 0.0395622(tol = 1e-08)\n",
      "2022-08-02 20:53:40.217 (  32.332s) [main            ]              petsc.cpp:677   INFO| PETSc Krylov solver starting to solve system.\n",
      "2022-08-02 20:53:40.653 (  32.768s) [main            ]       NewtonSolver.cpp:36    INFO| Newton iteration 3: r (abs) = 4.60977 (tol = 1e-08) r (rel) = 0.0908914(tol = 1e-08)\n",
      "2022-08-02 20:53:40.860 (  32.975s) [main            ]              petsc.cpp:677   INFO| PETSc Krylov solver starting to solve system.\n",
      "2022-08-02 20:53:41.272 (  33.387s) [main            ]       NewtonSolver.cpp:36    INFO| Newton iteration 4: r (abs) = 0.185372 (tol = 1e-08) r (rel) = 0.00365501(tol = 1e-08)\n",
      "2022-08-02 20:53:41.479 (  33.593s) [main            ]              petsc.cpp:677   INFO| PETSc Krylov solver starting to solve system.\n",
      "2022-08-02 20:53:41.899 (  34.014s) [main            ]       NewtonSolver.cpp:36    INFO| Newton iteration 5: r (abs) = 0.024688 (tol = 1e-08) r (rel) = 0.000486777(tol = 1e-08)\n",
      "2022-08-02 20:53:42.107 (  34.221s) [main            ]              petsc.cpp:677   INFO| PETSc Krylov solver starting to solve system.\n"
     ]
    },
    {
     "name": "stdout",
     "output_type": "stream",
     "text": [
      "Time step 6, Number of iterations 7, Load [ 0.  0. -9.]\n"
     ]
    },
    {
     "name": "stderr",
     "output_type": "stream",
     "text": [
      "2022-08-02 20:53:42.529 (  34.644s) [main            ]       NewtonSolver.cpp:36    INFO| Newton iteration 6: r (abs) = 5.69255e-06 (tol = 1e-08) r (rel) = 1.12241e-07(tol = 1e-08)\n",
      "2022-08-02 20:53:42.734 (  34.849s) [main            ]              petsc.cpp:677   INFO| PETSc Krylov solver starting to solve system.\n",
      "2022-08-02 20:53:43.142 (  35.256s) [main            ]       NewtonSolver.cpp:36    INFO| Newton iteration 7: r (abs) = 2.61602e-11 (tol = 1e-08) r (rel) = 5.15804e-13(tol = 1e-08)\n",
      "2022-08-02 20:53:43.142 (  35.256s) [main            ]       NewtonSolver.cpp:255   INFO| Newton solver finished in 7 iterations and 7 linear solver iterations.\n"
     ]
    },
    {
     "data": {
      "application/vnd.jupyter.widget-view+json": {
       "model_id": "bde1d5f2458445fa9fcdc7ee5119b6d3",
       "version_major": 2,
       "version_minor": 0
      },
      "text/plain": [
       "AppLayout(children=(VBox(children=(HTML(value='<h3>u(6)</h3>'), Dropdown(description='Colormap:', options={'Br…"
      ]
     },
     "metadata": {},
     "output_type": "display_data"
    },
    {
     "name": "stderr",
     "output_type": "stream",
     "text": [
      "2022-08-02 20:53:43.415 (  35.530s) [main            ]              petsc.cpp:677   INFO| PETSc Krylov solver starting to solve system.\n",
      "2022-08-02 20:53:44.021 (  36.135s) [main            ]              petsc.cpp:677   INFO| PETSc Krylov solver starting to solve system.\n",
      "2022-08-02 20:53:44.433 (  36.548s) [main            ]       NewtonSolver.cpp:36    INFO| Newton iteration 2: r (abs) = 1.38506 (tol = 1e-08) r (rel) = 0.0336622(tol = 1e-08)\n",
      "2022-08-02 20:53:44.631 (  36.745s) [main            ]              petsc.cpp:677   INFO| PETSc Krylov solver starting to solve system.\n",
      "2022-08-02 20:53:45.052 (  37.166s) [main            ]       NewtonSolver.cpp:36    INFO| Newton iteration 3: r (abs) = 3.03739 (tol = 1e-08) r (rel) = 0.07382(tol = 1e-08)\n",
      "2022-08-02 20:53:45.248 (  37.362s) [main            ]              petsc.cpp:677   INFO| PETSc Krylov solver starting to solve system.\n",
      "2022-08-02 20:53:45.668 (  37.783s) [main            ]       NewtonSolver.cpp:36    INFO| Newton iteration 4: r (abs) = 0.0412386 (tol = 1e-08) r (rel) = 0.00100225(tol = 1e-08)\n",
      "2022-08-02 20:53:45.873 (  37.987s) [main            ]              petsc.cpp:677   INFO| PETSc Krylov solver starting to solve system.\n",
      "2022-08-02 20:53:46.282 (  38.397s) [main            ]       NewtonSolver.cpp:36    INFO| Newton iteration 5: r (abs) = 0.00205057 (tol = 1e-08) r (rel) = 4.98364e-05(tol = 1e-08)\n",
      "2022-08-02 20:53:46.498 (  38.613s) [main            ]              petsc.cpp:677   INFO| PETSc Krylov solver starting to solve system.\n",
      "2022-08-02 20:53:46.914 (  39.029s) [main            ]       NewtonSolver.cpp:36    INFO| Newton iteration 6: r (abs) = 1.78861e-08 (tol = 1e-08) r (rel) = 4.347e-10(tol = 1e-08)\n",
      "2022-08-02 20:53:46.914 (  39.029s) [main            ]       NewtonSolver.cpp:255   INFO| Newton solver finished in 6 iterations and 6 linear solver iterations.\n"
     ]
    },
    {
     "name": "stdout",
     "output_type": "stream",
     "text": [
      "Time step 7, Number of iterations 6, Load [  0.    0.  -10.5]\n"
     ]
    },
    {
     "data": {
      "application/vnd.jupyter.widget-view+json": {
       "model_id": "138e0fa5ee4a4192aeb8d11102cc70a0",
       "version_major": 2,
       "version_minor": 0
      },
      "text/plain": [
       "AppLayout(children=(VBox(children=(HTML(value='<h3>u(7)</h3>'), Dropdown(description='Colormap:', options={'Br…"
      ]
     },
     "metadata": {},
     "output_type": "display_data"
    },
    {
     "name": "stderr",
     "output_type": "stream",
     "text": [
      "2022-08-02 20:53:47.207 (  39.322s) [main            ]              petsc.cpp:677   INFO| PETSc Krylov solver starting to solve system.\n",
      "2022-08-02 20:53:47.830 (  39.944s) [main            ]              petsc.cpp:677   INFO| PETSc Krylov solver starting to solve system.\n",
      "2022-08-02 20:53:48.244 (  40.359s) [main            ]       NewtonSolver.cpp:36    INFO| Newton iteration 2: r (abs) = 1.06336 (tol = 1e-08) r (rel) = 0.031085(tol = 1e-08)\n",
      "2022-08-02 20:53:48.457 (  40.571s) [main            ]              petsc.cpp:677   INFO| PETSc Krylov solver starting to solve system.\n",
      "2022-08-02 20:53:48.892 (  41.006s) [main            ]       NewtonSolver.cpp:36    INFO| Newton iteration 3: r (abs) = 2.0477 (tol = 1e-08) r (rel) = 0.0598598(tol = 1e-08)\n",
      "2022-08-02 20:53:49.099 (  41.214s) [main            ]              petsc.cpp:677   INFO| PETSc Krylov solver starting to solve system.\n",
      "2022-08-02 20:53:49.516 (  41.631s) [main            ]       NewtonSolver.cpp:36    INFO| Newton iteration 4: r (abs) = 0.00897719 (tol = 1e-08) r (rel) = 0.000262427(tol = 1e-08)\n",
      "2022-08-02 20:53:49.714 (  41.828s) [main            ]              petsc.cpp:677   INFO| PETSc Krylov solver starting to solve system.\n",
      "2022-08-02 20:53:50.130 (  42.244s) [main            ]       NewtonSolver.cpp:36    INFO| Newton iteration 5: r (abs) = 0.000167422 (tol = 1e-08) r (rel) = 4.89419e-06(tol = 1e-08)\n",
      "2022-08-02 20:53:50.339 (  42.453s) [main            ]              petsc.cpp:677   INFO| PETSc Krylov solver starting to solve system.\n",
      "2022-08-02 20:53:50.771 (  42.885s) [main            ]       NewtonSolver.cpp:36    INFO| Newton iteration 6: r (abs) = 3.25075e-11 (tol = 1e-08) r (rel) = 9.50282e-13(tol = 1e-08)\n",
      "2022-08-02 20:53:50.771 (  42.885s) [main            ]       NewtonSolver.cpp:255   INFO| Newton solver finished in 6 iterations and 6 linear solver iterations.\n"
     ]
    },
    {
     "name": "stdout",
     "output_type": "stream",
     "text": [
      "Time step 8, Number of iterations 6, Load [  0.   0. -12.]\n"
     ]
    },
    {
     "data": {
      "application/vnd.jupyter.widget-view+json": {
       "model_id": "7fb5e4ee9a2d4c4baaf8c066c9fca482",
       "version_major": 2,
       "version_minor": 0
      },
      "text/plain": [
       "AppLayout(children=(VBox(children=(HTML(value='<h3>u(8)</h3>'), Dropdown(description='Colormap:', options={'Br…"
      ]
     },
     "metadata": {},
     "output_type": "display_data"
    },
    {
     "name": "stderr",
     "output_type": "stream",
     "text": [
      "2022-08-02 20:53:51.051 (  43.165s) [main            ]              petsc.cpp:677   INFO| PETSc Krylov solver starting to solve system.\n",
      "2022-08-02 20:53:51.695 (  43.810s) [main            ]              petsc.cpp:677   INFO| PETSc Krylov solver starting to solve system.\n",
      "2022-08-02 20:53:52.131 (  44.245s) [main            ]       NewtonSolver.cpp:36    INFO| Newton iteration 2: r (abs) = 0.898789 (tol = 1e-08) r (rel) = 0.0309666(tol = 1e-08)\n",
      "2022-08-02 20:53:52.328 (  44.442s) [main            ]              petsc.cpp:677   INFO| PETSc Krylov solver starting to solve system.\n",
      "2022-08-02 20:53:52.743 (  44.858s) [main            ]       NewtonSolver.cpp:36    INFO| Newton iteration 3: r (abs) = 1.38354 (tol = 1e-08) r (rel) = 0.0476679(tol = 1e-08)\n",
      "2022-08-02 20:53:52.941 (  45.056s) [main            ]              petsc.cpp:677   INFO| PETSc Krylov solver starting to solve system.\n",
      "2022-08-02 20:53:53.360 (  45.474s) [main            ]       NewtonSolver.cpp:36    INFO| Newton iteration 4: r (abs) = 0.00185096 (tol = 1e-08) r (rel) = 6.37724e-05(tol = 1e-08)\n",
      "2022-08-02 20:53:53.574 (  45.689s) [main            ]              petsc.cpp:677   INFO| PETSc Krylov solver starting to solve system.\n"
     ]
    },
    {
     "name": "stdout",
     "output_type": "stream",
     "text": [
      "Time step 9, Number of iterations 6, Load [  0.    0.  -13.5]\n"
     ]
    },
    {
     "name": "stderr",
     "output_type": "stream",
     "text": [
      "2022-08-02 20:53:54.008 (  46.123s) [main            ]       NewtonSolver.cpp:36    INFO| Newton iteration 5: r (abs) = 7.87183e-06 (tol = 1e-08) r (rel) = 2.71213e-07(tol = 1e-08)\n",
      "2022-08-02 20:53:54.216 (  46.330s) [main            ]              petsc.cpp:677   INFO| PETSc Krylov solver starting to solve system.\n",
      "2022-08-02 20:53:54.645 (  46.760s) [main            ]       NewtonSolver.cpp:36    INFO| Newton iteration 6: r (abs) = 2.81885e-13 (tol = 1e-08) r (rel) = 9.71198e-15(tol = 1e-08)\n",
      "2022-08-02 20:53:54.646 (  46.760s) [main            ]       NewtonSolver.cpp:255   INFO| Newton solver finished in 6 iterations and 6 linear solver iterations.\n"
     ]
    },
    {
     "data": {
      "application/vnd.jupyter.widget-view+json": {
       "model_id": "5cf9588faa524584b60b869f7895bc38",
       "version_major": 2,
       "version_minor": 0
      },
      "text/plain": [
       "AppLayout(children=(VBox(children=(HTML(value='<h3>u(9)</h3>'), Dropdown(description='Colormap:', options={'Br…"
      ]
     },
     "metadata": {},
     "output_type": "display_data"
    }
   ],
   "source": [
    "from dolfinx import log\n",
    "log.set_log_level(log.LogLevel.INFO)\n",
    "tval0 = -1.5\n",
    "for n in range(1, 10):\n",
    "    T.value[2] = n * tval0\n",
    "    num_its, converged = solver.solve(u)\n",
    "    assert(converged)\n",
    "    u.x.scatter_forward()\n",
    "    print(f\"Time step {n}, Number of iterations {num_its}, Load {T.value}\")\n",
    "    plot_function(n, u)"
   ]
  },
  {
   "cell_type": "code",
   "execution_count": null,
   "id": "eligible-chambers",
   "metadata": {},
   "outputs": [],
   "source": []
  }
 ],
 "metadata": {
  "jupytext": {
   "formats": "ipynb,py:light"
  },
  "kernelspec": {
   "display_name": "Python 3 (ipykernel)",
   "language": "python",
   "name": "python3"
  },
  "language_info": {
   "codemirror_mode": {
    "name": "ipython",
    "version": 3
   },
   "file_extension": ".py",
   "mimetype": "text/x-python",
   "name": "python",
   "nbconvert_exporter": "python",
   "pygments_lexer": "ipython3",
   "version": "3.10.4"
  }
 },
 "nbformat": 4,
 "nbformat_minor": 5
}
