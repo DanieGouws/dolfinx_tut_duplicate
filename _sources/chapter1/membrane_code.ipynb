{
 "cells": [
  {
   "cell_type": "markdown",
   "metadata": {},
   "source": [
    "# Implementation\n",
    "Author: Jørgen S. Dokken\n",
    "\n",
    "In this section, we will solve the deflection of the membrane problem.\n",
    "After finishing this section, you should be able to:\n",
    "- Create a simple mesh using the GMSH Python API and load it into DOLFINx\n",
    "- How to create a constant boundary conditions using a geometrical identifier\n",
    "- Using s`ufl.SpatialCoordinate` to create a spatially varying function\n",
    "- How to interpolate a `ufl.Expression` into an appropriate function space\n",
    "- How to evaluate a `dolfinx.Function` at any point $x$\n",
    "- Use Paraview to visualize the solution of a PDE\n",
    "\n",
    "## Creating the mesh\n",
    "\n",
    "To create the computational geometry, we use the python-API of [GMSH](http://gmsh.info/). We start by import the gmsh-module, and initalizing it."
   ]
  },
  {
   "cell_type": "code",
   "execution_count": 1,
   "metadata": {},
   "outputs": [],
   "source": [
    "import gmsh\n",
    "gmsh.initialize()"
   ]
  },
  {
   "cell_type": "markdown",
   "metadata": {},
   "source": [
    "The next step is to create the membrane and starting the computations by the GMSH CAD kernel, to generate the relevant underlying data structures. The arguments into `addDisk` is the x, y and z coordinate of the center of the circle, while the to last argument is the x-radius and y-radius."
   ]
  },
  {
   "cell_type": "code",
   "execution_count": 2,
   "metadata": {},
   "outputs": [],
   "source": [
    "membrane = gmsh.model.occ.addDisk(0, 0, 0, 1, 1)\n",
    "gmsh.model.occ.synchronize()"
   ]
  },
  {
   "cell_type": "markdown",
   "metadata": {},
   "source": [
    "The next step is to make the membrane a physical surface, such that it is recognized by gmsh when generating the mesh. As a surface is a two-dimensional entity, we add two as the first argument, the entity tag of the membrane as the second argument, and the last argument is the physical tag. In a later demo, we will get into when this tag matters."
   ]
  },
  {
   "cell_type": "code",
   "execution_count": 3,
   "metadata": {},
   "outputs": [],
   "source": [
    "gdim = 2\n",
    "status = gmsh.model.addPhysicalGroup(gdim, [membrane], 1)"
   ]
  },
  {
   "cell_type": "markdown",
   "metadata": {},
   "source": [
    "Finally, we generate the two-dimensional mesh. We set a uniform mesh size by modifying the GMSH options"
   ]
  },
  {
   "cell_type": "code",
   "execution_count": 4,
   "metadata": {},
   "outputs": [
    {
     "name": "stdout",
     "output_type": "stream",
     "text": [
      "Info    : Meshing 1D...\n",
      "Info    : Meshing curve 1 (Ellipse)\n",
      "Info    : Done meshing 1D (Wall 0.000206132s, CPU 0.000536s)\n",
      "Info    : Meshing 2D...\n",
      "Info    : Meshing surface 1 (Plane, Frontal-Delaunay)\n",
      "Info    : Done meshing 2D (Wall 0.0743901s, CPU 0.074966s)\n",
      "Info    : 1549 nodes 3097 elements\n"
     ]
    }
   ],
   "source": [
    "gmsh.option.setNumber(\"Mesh.CharacteristicLengthMin\",0.05)\n",
    "gmsh.option.setNumber(\"Mesh.CharacteristicLengthMax\",0.05)\n",
    "gmsh.model.mesh.generate(gdim)"
   ]
  },
  {
   "cell_type": "markdown",
   "metadata": {},
   "source": [
    "We will import the GMSH-mesh directly from GMSH, using the approach in Section 2 of [A GMSH tutorial for DOLFINx](http://jsdokken.com/converted_files/tutorial_gmsh.html). To make sure this runs in parallel and  serial, we will read in the mesh on one processor, and let DOLFINx distribute the mesh data among the processros."
   ]
  },
  {
   "cell_type": "code",
   "execution_count": 5,
   "metadata": {},
   "outputs": [],
   "source": [
    "from dolfinx.io import extract_gmsh_geometry, extract_gmsh_topology_and_markers, ufl_mesh_from_gmsh\n",
    "from mpi4py import MPI\n",
    "if MPI.COMM_WORLD.rank == 0:\n",
    "    # Get mesh geometry\n",
    "    geometry_data = extract_gmsh_geometry(gmsh.model)\n",
    "    # Get mesh topology for each element\n",
    "    topology_data = extract_gmsh_topology_and_markers(gmsh.model)"
   ]
  },
  {
   "cell_type": "markdown",
   "metadata": {},
   "source": [
    "The topology data is a dictionary, where the key is the gmsh cell type (an integer). Each key accesses a dictionary with the topology data and corresponding topology markers. As this mesh only contains one cell type (triangles), as we did not mark any facets, we do not need to loop over the keys of this dictionary, only extract the first one."
   ]
  },
  {
   "cell_type": "code",
   "execution_count": 6,
   "metadata": {},
   "outputs": [],
   "source": [
    "import numpy as np\n",
    "if MPI.COMM_WORLD.rank == 0:\n",
    "    # Extract the cell type and number of nodes per cell and broadcast\n",
    "    # it to the other processors \n",
    "    gmsh_cell_type = list(topology_data.keys())[0]    \n",
    "    properties = gmsh.model.mesh.getElementProperties(gmsh_cell_type)\n",
    "    name, dim, order, num_nodes, local_coords, _ = properties\n",
    "    cells = topology_data[gmsh_cell_type][\"topology\"]\n",
    "    cell_id, num_nodes = MPI.COMM_WORLD.bcast([gmsh_cell_type, num_nodes], root=0)\n",
    "else:        \n",
    "    cell_id, num_nodes = MPI.COMM_WORLD.bcast([None, None], root=0)\n",
    "    cells, geometry_data = np.empty([0, num_nodes]), np.empty([0, gdim])"
   ]
  },
  {
   "cell_type": "markdown",
   "metadata": {},
   "source": [
    "As we have now broadcasted all the information required to distribute the mesh in parallel"
   ]
  },
  {
   "cell_type": "code",
   "execution_count": 7,
   "metadata": {},
   "outputs": [],
   "source": [
    "from dolfinx.io import cell_perm_gmsh\n",
    "from dolfinx.cpp.mesh import to_type\n",
    "from dolfinx.mesh import create_mesh\n",
    "\n",
    "# Permute topology data from MSH-ordering to dolfinx-ordering\n",
    "ufl_domain = ufl_mesh_from_gmsh(cell_id, gdim)\n",
    "gmsh_cell_perm = cell_perm_gmsh(to_type(str(ufl_domain.ufl_cell())), num_nodes)\n",
    "cells = cells[:, gmsh_cell_perm]\n",
    "\n",
    "# Create distributed mesh\n",
    "mesh = create_mesh(MPI.COMM_WORLD, cells, geometry_data[:, :gdim], ufl_domain)"
   ]
  },
  {
   "cell_type": "markdown",
   "metadata": {},
   "source": [
    "We define the function space as in the previous tutorial"
   ]
  },
  {
   "cell_type": "code",
   "execution_count": 8,
   "metadata": {},
   "outputs": [],
   "source": [
    "from dolfinx import fem\n",
    "V = fem.FunctionSpace(mesh, (\"CG\", 1))"
   ]
  },
  {
   "cell_type": "markdown",
   "metadata": {},
   "source": [
    "## Defining a spatially varying load\n",
    "The right hand side pressure function is represented using `ufl.SpatialCoordinate` and a two constants, one for $\\beta$ and one for $R_0$."
   ]
  },
  {
   "cell_type": "code",
   "execution_count": 9,
   "metadata": {},
   "outputs": [],
   "source": [
    "import ufl\n",
    "from petsc4py.PETSc import ScalarType\n",
    "x = ufl.SpatialCoordinate(mesh)\n",
    "beta = fem.Constant(mesh, ScalarType(12))\n",
    "R0 = fem.Constant(mesh, ScalarType(0.3))\n",
    "p = 4 * ufl.exp(-beta**2 * (x[0]**2 + (x[1] - R0)**2))"
   ]
  },
  {
   "cell_type": "markdown",
   "metadata": {},
   "source": [
    "## Create a Dirichlet boundary condition using geometrical conditions\n",
    "The next step is to create the homogenous boundary condition. As opposed to the [First tutorial](./fundamentals_code.ipynb) we will use `dolfinx.fem.locate_dofs_geometrical` to locate the degrees of freedom on the boundary. As we know that our domain is a circle with radius 1, we know that any degree of freedom should be located at a coordinate $(x,y)$ such that $\\sqrt{x^2+y^2}=1$."
   ]
  },
  {
   "cell_type": "code",
   "execution_count": 10,
   "metadata": {},
   "outputs": [],
   "source": [
    "def on_boundary(x):\n",
    "    return np.isclose(np.sqrt(x[0]**2 + x[1]**2), 1)\n",
    "boundary_dofs = fem.locate_dofs_geometrical(V, on_boundary)"
   ]
  },
  {
   "cell_type": "markdown",
   "metadata": {},
   "source": [
    "As our Dirichlet condition is homogenous (`u=0` on the whole boundary), we can initialize the `dolfinx.fem.dirichletbc` with a constant value, the degrees of freedom and the function space to apply the boundary condition on."
   ]
  },
  {
   "cell_type": "code",
   "execution_count": 11,
   "metadata": {},
   "outputs": [],
   "source": [
    "bc = fem.dirichletbc(ScalarType(0), boundary_dofs, V)"
   ]
  },
  {
   "cell_type": "markdown",
   "metadata": {},
   "source": [
    "## Defining the variational problem\n",
    "The variational problem is the same as in our first Poisson problem, where `f` is replaced by `p`."
   ]
  },
  {
   "cell_type": "code",
   "execution_count": 12,
   "metadata": {},
   "outputs": [],
   "source": [
    "u = ufl.TrialFunction(V)\n",
    "v = ufl.TestFunction(V)\n",
    "a = ufl.dot(ufl.grad(u), ufl.grad(v)) * ufl.dx\n",
    "L = p * v * ufl.dx\n",
    "problem = fem.LinearProblem(a, L, bcs=[bc], petsc_options={\"ksp_type\": \"preonly\", \"pc_type\": \"lu\"})\n",
    "uh = problem.solve()"
   ]
  },
  {
   "cell_type": "markdown",
   "metadata": {},
   "source": [
    "## Interpolation of a `ufl`-expression\n",
    "As we previously defined the load `p` as a spatially varying function, we would like to interpolate this function into an appropriate function space for visualization. To do this we use the `dolfinx.Expression`. The expression takes in any `ufl`-expression, and a set of points on the reference element. We will use the interpolation points of the space we want to interpolate in to."
   ]
  },
  {
   "cell_type": "code",
   "execution_count": 13,
   "metadata": {},
   "outputs": [],
   "source": [
    "expr = fem.Expression(p, V.element.interpolation_points)\n",
    "pressure = fem.Function(V)\n",
    "pressure.interpolate(expr)"
   ]
  },
  {
   "cell_type": "markdown",
   "metadata": {},
   "source": [
    "## Plotting the solution over a line\n",
    "We first plot the deflection $u_h$ over the domain $\\Omega$."
   ]
  },
  {
   "cell_type": "code",
   "execution_count": 39,
   "metadata": {
    "scrolled": true
   },
   "outputs": [
    {
     "data": {
      "application/vnd.jupyter.widget-view+json": {
       "model_id": "b20881a066eb4acbbca59f155880745b",
       "version_major": 2,
       "version_minor": 0
      },
      "text/plain": [
       "AppLayout(children=(VBox(children=(HTML(value='<h3>u</h3>'), Dropdown(description='Colormap:', options={'BrBG'…"
      ]
     },
     "metadata": {},
     "output_type": "display_data"
    }
   ],
   "source": [
    "from dolfinx.plot import create_vtk_topology\n",
    "import pyvista\n",
    "pyvista.set_jupyter_backend(\"ipygany\")\n",
    "\n",
    "# Extract topology from mesh and create pyvista mesh\n",
    "topology, cell_types = create_vtk_topology(mesh, mesh.topology.dim)\n",
    "grid = pyvista.UnstructuredGrid(topology, cell_types, mesh.geometry.x)\n",
    "\n",
    "\n",
    "# Set deflection values and add it to plotter\n",
    "grid.point_data[\"u\"] = uh.compute_point_values().real\n",
    "warped = grid.warp_by_scalar(\"u\", factor=25)\n",
    "\n",
    "plotter = pyvista.Plotter()\n",
    "plotter.add_mesh(warped, show_edges=True, show_scalar_bar=True, scalars=\"u\")\n",
    "if not pyvista.OFF_SCREEN:\n",
    "    plotter.show()\n",
    "else:\n",
    "    pyvista.start_xvfb()\n",
    "    plotter.screenshot(\"deflection.png\")"
   ]
  },
  {
   "cell_type": "markdown",
   "metadata": {},
   "source": [
    "We next plot the load on the domain"
   ]
  },
  {
   "cell_type": "code",
   "execution_count": 40,
   "metadata": {},
   "outputs": [
    {
     "data": {
      "application/vnd.jupyter.widget-view+json": {
       "model_id": "e02a1b16fe7e49c79bbb27530b9ec539",
       "version_major": 2,
       "version_minor": 0
      },
      "text/plain": [
       "AppLayout(children=(VBox(children=(HTML(value='<h3>p</h3>'), Dropdown(description='Colormap:', options={'BrBG'…"
      ]
     },
     "metadata": {},
     "output_type": "display_data"
    }
   ],
   "source": [
    "load_plotter = pyvista.Plotter()\n",
    "grid.point_data[\"p\"] = pressure.compute_point_values().real\n",
    "warped_p = grid.warp_by_scalar(\"p\", factor=0.5)\n",
    "warped_p.set_active_scalars(\"p\")\n",
    "load_plotter.add_mesh(warped_p, show_scalar_bar=True)\n",
    "if not pyvista.OFF_SCREEN:\n",
    "    load_plotter.show()\n",
    "else:\n",
    "    pyvista.start_xvfb()\n",
    "    load_plotter.screenshot(\"load.png\")"
   ]
  },
  {
   "cell_type": "markdown",
   "metadata": {},
   "source": [
    "## Making curve plots throughout the domain\n",
    "Another way to compare the deflection and the load is to make a plot along the line $x=0$. \n",
    "This is just a matter of defining a set of points along the $y$-axis and evaluating the finite element functions $u$ and $p$ at these points. "
   ]
  },
  {
   "cell_type": "code",
   "execution_count": 41,
   "metadata": {},
   "outputs": [],
   "source": [
    "tol = 0.001 # Avoid hitting the outside of the domain\n",
    "y = np.linspace(-1 + tol, 1 - tol, 101)\n",
    "points = np.zeros((3, 101))\n",
    "points[1] = y\n",
    "u_values = []\n",
    "p_values = []"
   ]
  },
  {
   "cell_type": "markdown",
   "metadata": {},
   "source": [
    "As a finite element function is the linear combination of all degrees of freedom, $u_h(x)=\\sum_{i=1}^N c_i \\phi_i(x)$ where $c_i$ are the coefficients of $u_h$, $\\phi_i$ the $i$th basis function, we can compute the exact solution at any point in $\\Omega$.\n",
    "However, as a mesh consists of a large set of degrees of freedom (i.e. $N$ is large), we want to reduce the number of evaluations of the basis function $\\phi_i(x)$. We do this by identifying which cell of the mesh $x$ is in. \n",
    "This is efficiently done by creating a bounding box tree of the cells of the mesh, allowing a quick recursive search through the mesh entities."
   ]
  },
  {
   "cell_type": "code",
   "execution_count": 42,
   "metadata": {},
   "outputs": [],
   "source": [
    "from dolfinx import geometry\n",
    "bb_tree = geometry.BoundingBoxTree(mesh, mesh.topology.dim)"
   ]
  },
  {
   "cell_type": "markdown",
   "metadata": {},
   "source": [
    "Now we can compute which cells the bounding box tree collides with using `dolfinx.geometry.compute_collisions_point`. This function returns a list of cells whose bounding box collide for each input point. As different points might have different number of cells, the data is stored in `dolfinx.cpp.graph.AdjacencyList_int32`, where one can access the cells for the `i`th point by calling `links(i)`.\n",
    " However, as the bounding box of a cell spans more of $\\mathbb{R}^n$ than the actual cell, we check that the actual cell collides with cell \n",
    " using `dolfinx.geometry.select_colliding_cells`, who measures the exact distance between the point and the cell (approximated as a convex hull for higher order geometries).\n",
    "This function also returns an adjacency-list, as the point might align with a facet, edge or vertex that is shared between multiple cells in the mesh.\n",
    "\n",
    "Finally, we would like the code below to run in parallel, when the mesh is distributed over multiple processors. In that case, it is not guaranteed that every point in `points` is on each processor. Therefore we create a subset `points_on_proc` only containing the points found on the current processor."
   ]
  },
  {
   "cell_type": "code",
   "execution_count": 43,
   "metadata": {},
   "outputs": [],
   "source": [
    "cells = []\n",
    "points_on_proc = []\n",
    "# Find cells whose bounding-box collide with the the points\n",
    "cell_candidates = geometry.compute_collisions(bb_tree, points.T)\n",
    "# Choose one of the cells that contains the point\n",
    "colliding_cells = geometry.compute_colliding_cells(mesh, cell_candidates, points.T)\n",
    "for i, point in enumerate(points.T):\n",
    "    if len(colliding_cells.links(i))>0:\n",
    "        points_on_proc.append(point)\n",
    "        cells.append(colliding_cells.links(i)[0])"
   ]
  },
  {
   "cell_type": "markdown",
   "metadata": {},
   "source": [
    "We now got a list of points on the processor, on in which cell each point belongs. We can then call `uh.eval` and `pressure.eval` to obtain the set of values for all the points."
   ]
  },
  {
   "cell_type": "code",
   "execution_count": 44,
   "metadata": {},
   "outputs": [],
   "source": [
    "points_on_proc = np.array(points_on_proc, dtype=np.float64)\n",
    "u_values = uh.eval(points_on_proc, cells)\n",
    "p_values = pressure.eval(points_on_proc, cells)"
   ]
  },
  {
   "cell_type": "markdown",
   "metadata": {},
   "source": [
    "As we now have an array of coordinates and two arrays of function values, we use matplotlib to plot them"
   ]
  },
  {
   "cell_type": "code",
   "execution_count": 45,
   "metadata": {},
   "outputs": [
    {
     "data": {
      "image/png": "[encoded data removed]",
      "text/plain": [
       "<Figure size 432x288 with 1 Axes>"
      ]
     },
     "metadata": {
      "needs_background": "light"
     },
     "output_type": "display_data"
    }
   ],
   "source": [
    "import matplotlib.pyplot as plt\n",
    "fig = plt.figure()\n",
    "plt.plot(points_on_proc[:,1], 50*u_values, \"k\", linewidth=2, label=\"Deflection ($\\\\times 50$)\")\n",
    "plt.plot(points_on_proc[:, 1], p_values, \"b--\", linewidth = 2, label=\"Load\")\n",
    "plt.grid(True)\n",
    "plt.xlabel(\"y\")\n",
    "plt.legend()\n",
    "# If run in parallel as a python file, we save a plot per processor\n",
    "plt.savefig(f\"membrane_rank{MPI.COMM_WORLD.rank:d}.png\")"
   ]
  },
  {
   "cell_type": "markdown",
   "metadata": {},
   "source": [
    "## Saving functions to file\n",
    "As mentioned in the previous section, we can also use Paraview to visualize the solution."
   ]
  },
  {
   "cell_type": "code",
   "execution_count": 46,
   "metadata": {},
   "outputs": [],
   "source": [
    "from dolfinx.io import XDMFFile\n",
    "pressure.name = \"Load\"\n",
    "uh.name = \"Deflection\"\n",
    "with XDMFFile(MPI.COMM_WORLD, \"results_membrane.xdmf\", \"w\") as xdmf:\n",
    "    xdmf.write_mesh(mesh)\n",
    "    xdmf.write_function(pressure)\n",
    "    xdmf.write_function(uh)"
   ]
  },
  {
   "cell_type": "code",
   "execution_count": null,
   "metadata": {},
   "outputs": [],
   "source": []
  }
 ],
 "metadata": {
  "kernelspec": {
   "display_name": "Python 3 (ipykernel)",
   "language": "python",
   "name": "python3"
  },
  "language_info": {
   "codemirror_mode": {
    "name": "ipython",
    "version": 3
   },
   "file_extension": ".py",
   "mimetype": "text/x-python",
   "name": "python",
   "nbconvert_exporter": "python",
   "pygments_lexer": "ipython3",
   "version": "3.9.7"
  }
 },
 "nbformat": 4,
 "nbformat_minor": 4
}
