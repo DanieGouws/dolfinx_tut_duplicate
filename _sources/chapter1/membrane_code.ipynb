{
 "metadata": {
  "language_info": {
   "codemirror_mode": {
    "name": "ipython",
    "version": 3
   },
   "file_extension": ".py",
   "mimetype": "text/x-python",
   "name": "python",
   "nbconvert_exporter": "python",
   "pygments_lexer": "ipython3",
   "version": "3.8.5-final"
  },
  "orig_nbformat": 2,
  "kernelspec": {
   "name": "python3",
   "display_name": "Python 3.8.5 64-bit",
   "metadata": {
    "interpreter": {
     "hash": "31f2aee4e71d21fbe5cf8b01ff0e069b9275f58929596ceb00d14d90e3e16cd6"
    }
   }
  }
 },
 "nbformat": 4,
 "nbformat_minor": 2,
 "cells": [
  {
   "source": [
    "# Implementation\n",
    "Author: Jørgen S. Dokken\n",
    "\n",
    "In this section, we will solve the deflection of the membrane problem.\n",
    "After finishing this section, you should be able to:\n",
    "- Create a simple mesh using the GMSH Python API and load it into dolfin-x\n",
    "- How to create boundary conditions using a geometrical identifier\n",
    "- Using spatial coordinate to create a spatially varying function\n",
    "- How to project a `ufl.Product` into an appropriate function space\n",
    "- How to evaluate a `dolfinx.Function` at any point $x$\n",
    "- Use Paraview to visualize the solution of a PDE\n",
    "\n",
    "## Creating the mesh\n",
    "\n",
    "To create the computational geometry, we use the python-API of [GMSH](http://gmsh.info/). We start by import the gmsh-module, and initalizing it."
   ],
   "cell_type": "markdown",
   "metadata": {}
  },
  {
   "cell_type": "code",
   "execution_count": 1,
   "metadata": {},
   "outputs": [],
   "source": [
    "import gmsh\n",
    "gmsh.initialize()"
   ]
  },
  {
   "source": [
    "The next step is to create the membrane and starting the computations by the GMSH CAD kernel, to generate the relevant underlying data structures. The arguments into `addDisk` is the x, y and z coordinate of the center of the circle, while the to last argument is the x-radius and y-radius."
   ],
   "cell_type": "markdown",
   "metadata": {}
  },
  {
   "cell_type": "code",
   "execution_count": null,
   "metadata": {},
   "outputs": [],
   "source": [
    "membrane = gmsh.model.occ.addDisk(0, 0, 0, 1, 1)\n",
    "gmsh.model.occ.synchronize()"
   ]
  },
  {
   "source": [
    "The next step is to make the membrane a physical surface, such that it is recognized by gmsh when generating the mesh. As a surface is a two-dimensional entity, we add two as the first argument, and the entity tag of the as the second argument. The last argument is the physical tag. In a later demo, we will get into when this tag matters."
   ],
   "cell_type": "markdown",
   "metadata": {}
  },
  {
   "cell_type": "code",
   "execution_count": null,
   "metadata": {},
   "outputs": [],
   "source": [
    "gdim = 2\n",
    "status = gmsh.model.addPhysicalGroup(gdim, [membrane], 1)"
   ]
  },
  {
   "source": [
    "Finally, we generate the two-dimensional mesh. We set a uniform mesh size by modifying the GMSH options"
   ],
   "cell_type": "markdown",
   "metadata": {}
  },
  {
   "cell_type": "code",
   "execution_count": null,
   "metadata": {},
   "outputs": [],
   "source": [
    "gmsh.option.setNumber(\"Mesh.CharacteristicLengthMin\",0.05)\n",
    "gmsh.option.setNumber(\"Mesh.CharacteristicLengthMax\",0.05)\n",
    "gmsh.model.mesh.generate(gdim)"
   ]
  },
  {
   "source": [
    "We will import the GMSH-mesh directly from GMSH, using the approach in Section 2 of [A GMSH tutorial for dolfinx](http://jsdokken.com/converted_files/tutorial_gmsh.html). To make sure this runs in parallel and  serial, we will read in the mesh on one processor, and let dolfin-X distribute the mesh data among the processros."
   ],
   "cell_type": "markdown",
   "metadata": {}
  },
  {
   "cell_type": "code",
   "execution_count": null,
   "metadata": {},
   "outputs": [],
   "source": [
    "from dolfinx.io import extract_gmsh_geometry,extract_gmsh_topology_and_markers, ufl_mesh_from_gmsh\n",
    "from mpi4py import MPI\n",
    "from warnings import filterwarnings\n",
    "\n",
    "filterwarnings(\"ignore\")\n",
    "if MPI.COMM_WORLD.rank == 0:\n",
    "    # Get mesh geometry\n",
    "    geometry_data = extract_gmsh_geometry(gmsh.model)\n",
    "    # Get mesh topology for each element\n",
    "    topology_data = extract_gmsh_topology_and_markers(gmsh.model)"
   ]
  },
  {
   "source": [
    "The topology data is a dictionary, where the key is the gmsh cell type (an integer). Each key accesses a dictionary with the topology data and corresponding topology markers. As this mesh only contains one cell type (triangles), as we did not mark any facets, we do not need to loop over the keys of this dictionary, only extract the first one."
   ],
   "cell_type": "markdown",
   "metadata": {}
  },
  {
   "cell_type": "code",
   "execution_count": null,
   "metadata": {},
   "outputs": [],
   "source": [
    "import numpy as np\n",
    "if MPI.COMM_WORLD.rank == 0:\n",
    "    # Extract the cell type and number of nodes per cell and broadcast\n",
    "    # it to the other processors \n",
    "    gmsh_cell_type = list(topology_data.keys())[0]    \n",
    "    properties = gmsh.model.mesh.getElementProperties(gmsh_cell_type)\n",
    "    name, dim, order, num_nodes, local_coords, _ = properties\n",
    "    cells = topology_data[gmsh_cell_type][\"topology\"]\n",
    "    cell_id, num_nodes = MPI.COMM_WORLD.bcast([gmsh_cell_type, num_nodes], root=0)\n",
    "else:        \n",
    "    cell_id, num_nodes = MPI.COMM_WORLD.bcast([None, None], root=0)\n",
    "    cells, geometry_data = np.empty([0, num_nodes]), np.empty([0, gdim])"
   ]
  },
  {
   "source": [
    "As we have now broadcasted all the information required to distribute the mesh in parallel"
   ],
   "cell_type": "markdown",
   "metadata": {}
  },
  {
   "cell_type": "code",
   "execution_count": null,
   "metadata": {},
   "outputs": [],
   "source": [
    "from dolfinx.cpp.io import perm_gmsh\n",
    "from dolfinx.cpp.mesh import to_type\n",
    "from dolfinx.mesh import create_mesh\n",
    "\n",
    "# Permute topology data from MSH-ordering to dolfinx-ordering\n",
    "ufl_domain = ufl_mesh_from_gmsh(cell_id, gdim)\n",
    "gmsh_cell_perm = perm_gmsh(to_type(str(ufl_domain.ufl_cell())), num_nodes)\n",
    "cells = cells[:, gmsh_cell_perm]\n",
    "\n",
    "# Create distributed mesh\n",
    "mesh = create_mesh(MPI.COMM_WORLD, cells, geometry_data[:, :gdim], ufl_domain)"
   ]
  },
  {
   "source": [
    "We define the function space as in the previous tutorial"
   ],
   "cell_type": "markdown",
   "metadata": {}
  },
  {
   "cell_type": "code",
   "execution_count": null,
   "metadata": {},
   "outputs": [],
   "source": [
    "import dolfinx\n",
    "from petsc4py import PETSc\n",
    "V = dolfinx.FunctionSpace(mesh, (\"CG\", 1))"
   ]
  },
  {
   "source": [
    "## Defining a spatially varying load\n",
    "The right hand side pressure function is represented using `ufl.SpatialCoordinate` and a two constants, one for $\\beta$ and one for $R_0$."
   ],
   "cell_type": "markdown",
   "metadata": {}
  },
  {
   "cell_type": "code",
   "execution_count": null,
   "metadata": {},
   "outputs": [],
   "source": [
    "import ufl\n",
    "x = ufl.SpatialCoordinate(mesh)\n",
    "beta = dolfinx.Constant(mesh, 12)\n",
    "R0 = dolfinx.Constant(mesh, 0.3)\n",
    "p = 4 * ufl.exp(-beta**2 * (x[0]**2 + (x[1] - R0)**2))"
   ]
  },
  {
   "source": [
    "## Create a Dirichlet boundary condition using geometrical conditions\n",
    "The next step is to create the homogenous boundary condition. As opposed to the [First tutorial](./fundamentals_code.ipynb) we will use `dolfinx.fem.locate_dofs_geometrical` to locate the degrees of freedom on the boundary. As we know that our domain is a circle with radius 1, we know that any degree of freedom should be located at a coordinate $(x,y)$ such that $\\sqrt{x^2+y^2}=1$."
   ],
   "cell_type": "markdown",
   "metadata": {}
  },
  {
   "cell_type": "code",
   "execution_count": null,
   "metadata": {},
   "outputs": [],
   "source": [
    "def on_boundary(x):\n",
    "    return np.isclose(np.sqrt(x[0]**2+x[1]**2), 1)\n",
    "\n",
    "uD = dolfinx.Function(V)\n",
    "with uD.vector.localForm() as loc:\n",
    "    loc.set(0)\n",
    "boundary_dofs = dolfinx.fem.locate_dofs_geometrical(V, on_boundary)\n",
    "bc = dolfinx.DirichletBC(uD, boundary_dofs)"
   ]
  },
  {
   "source": [
    "## Defining the variational problem\n",
    "The variational problem is the same as in our first Poisson problem, where `f` is replaced by `p`."
   ],
   "cell_type": "markdown",
   "metadata": {}
  },
  {
   "cell_type": "code",
   "execution_count": null,
   "metadata": {},
   "outputs": [],
   "source": [
    "u = ufl.TrialFunction(V)\n",
    "v = ufl.TestFunction(V)\n",
    "a = ufl.dot(ufl.grad(u), ufl.grad(v)) * ufl.dx\n",
    "L = p * v * ufl.dx\n",
    "problem = dolfinx.fem.LinearProblem(a, L, bcs=[bc], petsc_options={\"ksp_type\": \"preonly\", \"pc_type\": \"lu\"})\n",
    "uh = problem.solve()"
   ]
  },
  {
   "source": [
    "## Projection of a `ufl`-Expression\n",
    "As we previously defined the load `p` as a spatially varying function, we would like to interpolate this function into an appropriate function space for visualization."
   ],
   "cell_type": "markdown",
   "metadata": {}
  },
  {
   "cell_type": "code",
   "execution_count": null,
   "metadata": {},
   "outputs": [],
   "source": [
    "def project(expression, V):\n",
    "    u_, v_ = ufl.TrialFunction(V), ufl.TestFunction(V)\n",
    "    a_p = ufl.inner(u_, v) * ufl.dx\n",
    "    L_p = ufl.inner(expression, v_) * ufl.dx\n",
    "    projection = dolfinx.fem.LinearProblem(a_p, L_p)\n",
    "    return projection.solve()\n",
    "\n",
    "pressure = project(p, V)"
   ]
  },
  {
   "source": [
    "## Plotting the solution over a line\n",
    "We first plot the load $p$ and deflection $u_h$ over the domain $\\Omega$."
   ],
   "cell_type": "markdown",
   "metadata": {}
  },
  {
   "cell_type": "code",
   "execution_count": null,
   "metadata": {},
   "outputs": [],
   "source": [
    "import matplotlib.pyplot as plt\n",
    "import dolfinx.plotting\n",
    "fig, (ax1, ax2, ax3) = plt.subplots(1, 3, figsize=(20,60))\n",
    "# Select first subfigure\n",
    "plt.sca(ax1)\n",
    "dolfinx.plotting.plot(mesh, title=\"Membrane\", color=\"k\")\n",
    "# Select second subfigure \n",
    "plt.sca(ax2)\n",
    "dolfinx.plotting.plot(uh, title=\"Deflection\")\n",
    "# Select third subfigure\n",
    "plt.sca(ax3)\n",
    "dolfinx.plotting.plot(pressure, title=\"Load\")"
   ]
  },
  {
   "source": [
    "## Making curve plots throughout the domain\n",
    "Another way to compare the deflection and the load is to make a plot along the line $x=0$. \n",
    "This is just a matter of defining a set of points along the $y$-axis and evaluating the finite element functions $u$ and $p$ at these points. "
   ],
   "cell_type": "markdown",
   "metadata": {}
  },
  {
   "cell_type": "code",
   "execution_count": null,
   "metadata": {},
   "outputs": [],
   "source": [
    "tol = 0.001 # Avoid hitting the outside of the domain\n",
    "y = np.linspace(-1 + tol, 1 - tol, 101)\n",
    "points = np.zeros((3, 101))\n",
    "points[1] = y\n",
    "u_values = []\n",
    "p_values = []"
   ]
  },
  {
   "source": [
    "As a finite element function is the linear combination of all degrees of freedom, $u_h(x)=\\sum_{i=1}^N c_i \\phi_i(x)$ where $c_i$ are the coefficients of $u_h$, $\\phi_i$ the $i$th basis function, we can compute the exact solution at any point in $\\Omega$.\n",
    "However, as a mesh consists of a large set of degrees of freedom (i.e. $N$ is large), we want to reduce the number of evaluations of the basis function $\\phi_i(x)$. We do this by identifying which cell of the mesh $x$ is in. \n",
    "This is efficiently done by creating a bounding box tree of the cells of the mesh, allowing a quick recursive search through the mesh entities."
   ],
   "cell_type": "markdown",
   "metadata": {}
  },
  {
   "cell_type": "code",
   "execution_count": null,
   "metadata": {},
   "outputs": [],
   "source": [
    "import dolfinx.geometry\n",
    "bb_tree = dolfinx.geometry.BoundingBoxTree(mesh, mesh.topology.dim)"
   ]
  },
  {
   "source": [
    "Now we can compute which cells the bounding box tree collides with using `dolfinx.geometry.compute_collisions_point`. This function returns a list of cells whose bounding box collide with the point.\n",
    " However, as the bounding box of a cell spans more of $\\mathbb{R}^n$ than the actual cell, we check that the actual cell collides with cell \n",
    " using `dolfinx.geometry.select_colliding_cells`, whose input is the mesh, the list of cell candidates and an integer.\n",
    " The integer is used to tell `dolfinx` how many cells colliding with the point that should be return (if any).\n",
    " This is because if the point `p` is on an interal cell facet or edge, it can belong to multiple cells. As we are currently consider a problem using first order continous functions, it is not important which cell we select if the point is on an interior facet.\n",
    "\n",
    "Finally, we would like the code below to run in parallel, when the mesh is distributed over multiple processors. In that case, it is not guaranteed that every point in `points` is on each processor. Therefore we create a subset `points_on_proc` only containing the points found on the current processor."
   ],
   "cell_type": "markdown",
   "metadata": {}
  },
  {
   "cell_type": "code",
   "execution_count": null,
   "metadata": {},
   "outputs": [],
   "source": [
    "\n",
    "cells = []\n",
    "points_on_proc = []\n",
    "for point in points.T:\n",
    "    # Find cells that are close to the point\n",
    "    cell_candidates = dolfinx.geometry.compute_collisions_point(bb_tree, point)\n",
    "    # Choose one of the cells that contains the point\n",
    "    cell = dolfinx.geometry.select_colliding_cells(mesh, cell_candidates, point, 1)\n",
    "    # Only use evaluate for points on current processor\n",
    "    if len(cell) == 1:\n",
    "        points_on_proc.append(point)\n",
    "        cells.append(cell[0])"
   ]
  },
  {
   "source": [
    "We now got a list of points on the processor, on in which cell each point belongs. We can then call `uh.eval` and `pressure.eval` to obtain the set of values for all the points."
   ],
   "cell_type": "markdown",
   "metadata": {}
  },
  {
   "cell_type": "code",
   "execution_count": null,
   "metadata": {},
   "outputs": [],
   "source": [
    "points_on_proc = np.array(points_on_proc, dtype=np.float64)\n",
    "u_values = uh.eval(points_on_proc, cells)\n",
    "p_values = pressure.eval(points_on_proc, cells)"
   ]
  },
  {
   "source": [
    "As we now have an array of coordinates and two arrays of function values, we use matplotlib to plot them"
   ],
   "cell_type": "markdown",
   "metadata": {}
  },
  {
   "cell_type": "code",
   "execution_count": null,
   "metadata": {},
   "outputs": [],
   "source": [
    "fig = plt.figure(figsize=(15,7.5))\n",
    "plt.plot(points_on_proc[:,1], 50*u_values, \"k\", linewidth=2, label=\"Deflection ($\\\\times 50$)\")\n",
    "plt.plot(points_on_proc[:, 1], p_values, \"b--\", linewidth = 2, label=\"Load\")\n",
    "plt.grid(True)\n",
    "plt.xlabel(\"y\")\n",
    "plt.legend()\n",
    "# If run in parallel as a python file, we save a plot per processor\n",
    "plt.savefig(\"membrane_rank{0:d}.png\".format(MPI.COMM_WORLD.rank))"
   ]
  },
  {
   "source": [
    "## Saving functions to file\n",
    "As mentioned in the previous section, we can also use Paraview to visualize the solution."
   ],
   "cell_type": "markdown",
   "metadata": {}
  },
  {
   "cell_type": "code",
   "execution_count": null,
   "metadata": {},
   "outputs": [],
   "source": [
    "import dolfinx.io\n",
    "pressure.name = \"Load\"\n",
    "uh.name = \"Deflection\"\n",
    "with dolfinx.io.XDMFFile(MPI.COMM_WORLD, \"results_membrane.xdmf\", \"w\") as xdmf:\n",
    "    xdmf.write_mesh(mesh)\n",
    "    xdmf.write_function(pressure)\n",
    "    xdmf.write_function(uh)"
   ]
  }
 ]
}