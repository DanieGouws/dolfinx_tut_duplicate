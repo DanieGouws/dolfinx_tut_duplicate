{
 "cells": [
  {
   "cell_type": "markdown",
   "metadata": {},
   "source": [
    "# Implementation\n",
    "\n",
    "Author: Jørgen Schartum Dokken\n",
    "\n",
    "This implementation is an adaptation of the work in {cite}`FenicsTutorial` to dolfin-X.\n",
    "\n",
    "In this section, you will learn:\n",
    "- How to use the built-in meshes in dolfin-x\n",
    "- How to create a Dirichlet boundary conditions on the whole domain boundary\n",
    "- How to define a weak formulation of your PDE\n",
    "- How to solve the resulting system of linear equations\n",
    "- How to visualize the solution using a variety of tools\n",
    "- How to compute the $L^2(\\Omega)$ error and the error at mesh vertices\n",
    "## Interactive tutorials\n",
    "```{admonition} Run the tutorial as Jupyter notebook in browser\n",
    "As this book has been published as a Jupyter Book, each code can be run in your browser as a Jupyter notebook. To start such a notebook click the rocket symbol in the top right corner of the relevant tutorial.\n",
    "```\n",
    "\n",
    "The Poisson problem has so far featured a general domain $\\Omega$ and general functions $u_D$ for the boundary conditions and $f$ for the right hand side.\n",
    "Therefore, we need to make specific choices of $\\Omega, u_D$ and $f$. A wise choice is to construct a problem  with a known analytical solution, so that we can check that the computed solution is correct. The primary candidates are lower-order polynomials. The continuous Galerkin finite element spaces of degree $r$ will exactly reproduce polynomials of degree $r$. \n",
    "<!-- Particularly, piecewise linear continuous Galerkin finite elements are able to exactly reproduce a quadratic polynomial on \n",
    "a uniformly partitioned mesh. -->\n",
    " We use this fact to construct a quadratic function in $2D$. In particular we choose\n",
    "\\begin{align}\n",
    " u_e(x,y)=1+x^2+2y^2\n",
    " \\end{align}\n",
    "\n",
    "Inserting $u_e$ in the original boundary problem, we find that  \n",
    "\\begin{align}\n",
    "    f(x,y)= -6,\\qquad u_d(x,y)=u_e(x,y)=1+x^2+2y^2,\n",
    "\\end{align}\n",
    "regardless of the shape of the domain as long as we prescribe \n",
    "$u_e$ on the boundary.\n",
    "\n",
    "For simplicity, we choose the domain to be a unit square $\\Omega=[0,1]\\times [0,1]$\n",
    "\n",
    "This simple but very powerful method for constructing test problems is called _the method of manufactured solutions_. \n",
    "First pick a simple expression for the exact solution, plug into\n",
    "the equation to obtain the right-hand side (source term $f$). Then solve the equation with this right hand side, and using the exact solution as boundary condition. Finally, we create a program that tries to reproduce the exact solution.\n",
    "\n",
    "Note that in many cases, it can be hard to determine if the program works if it produces an error of size $10^{-5}$ on a\n",
    "$20 \\times 20$ grid. However, since we are using Sobolev spaces,\n",
    "we usually known about the numerical errors _asymptotic properties_. For instance that it is proportional to $h^2$ if $h$ is the size of a cell in the mesh. We can then compare the error on meshes with different $h$-values to see if the asymptotic behavior is correct. This technique will be explained in detail in the chapter [Improving your fenics code](./../chapter4/convergence).\n",
    "\n",
    "However, in cases where we have a solution we know that should have no approximation error, we know that the solution should\n",
    "be produces to machine precision by the program.\n",
    "\n",
    "The first eight lines of the program is importing the different modules required for solving the problem."
   ]
  },
  {
   "cell_type": "code",
   "execution_count": 1,
   "metadata": {},
   "outputs": [],
   "source": [
    "import dolfinx\n",
    "import numpy\n",
    "import ufl\n",
    "from mpi4py import MPI\n",
    "from petsc4py import PETSc"
   ]
  },
  {
   "cell_type": "markdown",
   "metadata": {},
   "source": [
    "A major difference between a traditional FEniCS code and a FEniCS-X code, is that one is not advised to use the wildcard import. Instead of wrapping [MPI](https://mpi4py.readthedocs.io/en/stable/) and [PETSc](https://pypi.org/project/petsc4py/) modules inside dolfin-X, we would like to directly use the modules, as they are  well documented and makes dolfin-X easier to understand.\n",
    "\n",
    "## Generating  simple meshes\n",
    "The next step is to define the discrete domain, _the mesh_\n"
   ]
  },
  {
   "cell_type": "code",
   "execution_count": 2,
   "metadata": {},
   "outputs": [],
   "source": [
    "mesh = dolfinx.UnitSquareMesh(MPI.COMM_WORLD, 8, 8, dolfinx.cpp.mesh.CellType.quadrilateral)"
   ]
  },
  {
   "cell_type": "markdown",
   "metadata": {},
   "source": [
    "which defines a uniform finite element mesh over the unit square $[0,1]\\times[0, 1]$. The mesh consists of _cells_, which in 2D can be either triangles of quadrilaterals. Note that in addition to give how many elements we would like to have in each direction. \n",
    "Note that we also supply the _MPI-communicator_. \n",
    "This is to specify how we would like the program to behave in parallel. If we supply `MPI.COMM_WORLD` we create a single mesh,\n",
    "which data is distributed over the number of processors we \n",
    "would like to use. We can for instance run the program in \n",
    "parallel on two processors by using `mpirun`, as: \n",
    "``` bash\n",
    " mpirun -n 2 python3 t1.py\n",
    "```\n",
    "However, if we would like to create a separate mesh on each processor, we can use `MPI.COMM_SELF`. This is for instance \n",
    "useful if we run a small problem, and would like to run it with\n",
    "multiple parameters.\n",
    "\n",
    "## Defining the finite element function space\n",
    " Once the mesh has been created, we can create the finite element function space $V$:\n"
   ]
  },
  {
   "cell_type": "code",
   "execution_count": 3,
   "metadata": {},
   "outputs": [],
   "source": [
    " V = dolfinx.FunctionSpace(mesh, (\"CG\", 1))"
   ]
  },
  {
   "cell_type": "markdown",
   "metadata": {},
   "source": [
    "The second argument is the tuple containing the type of finite element, and the element degree. The type of element here is \"CG\", which implies the standard Lagrange family of elements. \n",
    "Dolfin-X supports a large variety on elements on simplices \n",
    "(triangles and tetrahedrons) and non-simplices (quadrilaterals\n",
    "and hexahedrons). For an overview, see:\n",
    "*FIXME: Add link to all the elements we support*\n",
    "\n",
    "The element degree in the code is 1. This means that we are choosing the standard $P_1$ linear Lagrange element, which has degrees of freedom at the vertices. The computed solution will be continuous across elements and linearly varying in $x$ and $y$ inside each element. Higher degree polynomial approximations is obtained by increasing the degree argument. \n",
    "\n",
    "## Defining the boundary conditions\n",
    "\n",
    "The next step is to specify the boundary condition $u=u_D$ on $\\partial\\Omega_D$, which is done by over several steps. The first step is to define the function $u_D$. Into this function, we would like to interpolate the boundary condition $1 + x^2+2y^2$. We do this by first defining a `dolfinx.Function`, and then use a [lambda-function](https://docs.python.org/3/tutorial/controlflow.html#lambda-expressions) in Python to define the \n",
    "spatially varying function. As we would like this program to work on one or multiple processors, we have to update the coefficients of $u_D$ that data shared between the processors. We do this by updating the ghost values in the `PETScVector` storing this data.\n"
   ]
  },
  {
   "cell_type": "code",
   "execution_count": 4,
   "metadata": {},
   "outputs": [],
   "source": [
    "uD = dolfinx.Function(V)\n",
    "uD.interpolate(lambda x: 1 + x[0]**2 + 2 * x[1]**2)\n",
    "uD.vector.ghostUpdate(addv=PETSc.InsertMode.INSERT, mode=PETSc.ScatterMode.FORWARD)"
   ]
  },
  {
   "cell_type": "markdown",
   "metadata": {},
   "source": [
    "We now have the boundary data (and in this case the solution of \n",
    "the finite element problem) represented in the discrete function space.\n",
    "Next we would like to apply the boundary values to all degrees of freedom that is on the boundary of the discrete domain. We start by identifying the facets (line-segments) representing the outer boundary, using `dolfinx.cpp.mesh.compute_boundary_facets`.\n",
    "This function returns an array booleans of the same size as the number of facets on this processor, where `True` indicates that the local facet $i$ is on the boundary. To reduce this to only the indices that are `True`, we use `numpy.where`.\n"
   ]
  },
  {
   "cell_type": "code",
   "execution_count": 5,
   "metadata": {},
   "outputs": [],
   "source": [
    "fdim = mesh.topology.dim - 1\n",
    "# Create facet to cell connectivity required to determine boundary facets\n",
    "mesh.topology.create_connectivity(fdim, mesh.topology.dim)\n",
    "boundary_facets = numpy.where(numpy.array(dolfinx.cpp.mesh.compute_boundary_facets(mesh.topology)) == 1)[0]"
   ]
  },
  {
   "cell_type": "markdown",
   "metadata": {},
   "source": [
    "For the current problem, as we are using the \"CG\" 1 function space, the degrees of freedom are located at the vertices of each cell, thus each facet contains two degrees of freedom. \n",
    "\n",
    "To find the local indices of these degrees of freedom, we se `dolfinx.fem.locate_dofs_topological`, which takes in the function space, the dimension of entities in the mesh we would like to identify and the local entities. \n",
    "```{admonition} Local ordering of degrees of freedom and mesh vertices\n",
    "Many people expect there to be a 1-1 correspondence between the mesh coordinates and the coordinates of the degrees of freedom. \n",
    "However, this is only true in the case of `CG` 1 elements on a first order mesh. Therefore, in `dolfinx` we use separate local numbering for the mesh coordinates and the dof coordinates. To obtain the local dof coordinates we can use `V.tabulate_dof_coordinates()`, while the ordering of the local vertices can be obtained by `mesh.geometry.x`.\n",
    "```\n",
    "With this data at hand, we can create the Dirichlet boundary condition"
   ]
  },
  {
   "cell_type": "code",
   "execution_count": 6,
   "metadata": {},
   "outputs": [],
   "source": [
    "boundary_dofs = dolfinx.fem.locate_dofs_topological(V, fdim, boundary_facets)\n",
    "bc = dolfinx.DirichletBC(uD, boundary_dofs)"
   ]
  },
  {
   "cell_type": "markdown",
   "metadata": {},
   "source": [
    "## Defining the trial and test function\n",
    "\n",
    "In mathematics, we distinguish between trial and test spaces $V$ and $\\hat{V}$. The only difference in the present problem is the boundary conditions.\n",
    "In FEniCS-X, we do not specify boundary conditions as part of the function space, so it is sufficient to use a common space for the trial and test function:"
   ]
  },
  {
   "cell_type": "code",
   "execution_count": 7,
   "metadata": {},
   "outputs": [],
   "source": [
    "u = ufl.TrialFunction(V)\n",
    "v = ufl.TestFunction(V)"
   ]
  },
  {
   "cell_type": "markdown",
   "metadata": {},
   "source": [
    "## Defining the source term\n",
    "As the source term is constant over the domain, we use `dolfinx.Constant`"
   ]
  },
  {
   "cell_type": "code",
   "execution_count": 8,
   "metadata": {},
   "outputs": [],
   "source": [
    "f = dolfinx.Constant(mesh, -6)"
   ]
  },
  {
   "cell_type": "markdown",
   "metadata": {},
   "source": [
    "```{admonition} Compilation speed-up\n",
    "Instead of wrapping $-6$ in a `dolfinx.Constant, we could simply define $f$ as `f=-6`.\n",
    "However, if we would like to change this parameter at a later in the simulation, we would have to redefine our variational formulation. The `dolfinx.Constant` allows us to update the value in $f$ by using `f.value=5`. Additionally, by indicating that $f$ is a constant, we speed of compilation of the variational formulations required for created the linear system. \n",
    "```\n",
    "## Defining the variational problem\n",
    "As we now have defined all variables used to describe our variational problem, we can create the weak formulation"
   ]
  },
  {
   "cell_type": "code",
   "execution_count": 9,
   "metadata": {},
   "outputs": [],
   "source": [
    "a = ufl.dot(ufl.grad(u), ufl.grad(v)) * ufl.dx\n",
    "L = f * v * ufl.dx"
   ]
  },
  {
   "cell_type": "markdown",
   "metadata": {},
   "source": [
    "Note that there is a very close correspondence between the Python syntax and the mathematical syntax\n",
    "$\\int_{\\Omega} \\nabla u \\cdot \\nabla v ~\\mathrm{d} x$ and $\\int_{\\Omega}fv~\\mathrm{d} x$. \n",
    "The integration over the domain $\\Omega$ is defined by using `ufl.dx`, an integration measure over all cells of the mesh.\n",
    "\n",
    "This is the key strength of FEniCS-X: the formulas in the variational formulation translate directly to very similar Python code, a feature that makes it easy to specify and solve complicated PDE problems. The language used to express weak forms is the Unified Form Language [UFL](https://doi.org/10.1145/2566630).\n",
    "\n",
    "## Expressing inner products\n",
    "The inner product $\\int_\\Omega \\nabla u \\cdot \\nabla v ~\\mathrm{d} x$ can be expressed in various ways in UFL. We have used the notation `ufl.dot(ufl.grad(u), ufl.grad(v))*uf.dx`. The dot product in UFL computes the sum (contraction) over the last index of the first factor and first index of the second factor. In this case, both factors are tensors of rank one (vectors) and so the sum is just over the single index of both $\\nabla u$ and $\\nabla v$. To compute an inner product of matrices (with two indices), one must instead of `ufl.dot` use the function `ufl.inner`. For vectors, `ufl.dot` and `ufl.inner` are equivalent.\n",
    "\n",
    "## Forming and solving the linear system\n",
    "\n",
    "Having defined the finite element variational problem and boundary condition, we can create our `dolfinx.fem.LinearProblem`, as class for solving \n",
    "the variational problem: Find $u_h\\in V$ such that $a(u_h, v)==L(v) \\quad \\forall v \\in \\hat{V}$. We will use PETSc as our linear algebra backend, using a direct solver (LU-factorization).  See the [PETSc-documentation](https://www.mcs.anl.gov/petsc/petsc-current/docs/linearsolvertable.html) of the method for more information."
   ]
  },
  {
   "cell_type": "code",
   "execution_count": 10,
   "metadata": {},
   "outputs": [],
   "source": [
    "problem = dolfinx.fem.LinearProblem(a, L, bcs=[bc], petsc_options={\"ksp_type\": \"preonly\", \"pc_type\": \"lu\"})\n",
    "uh = problem.solve()"
   ]
  },
  {
   "cell_type": "markdown",
   "metadata": {},
   "source": [
    "Using `problem.solve()` we solve the linear system of equations and return a `dolfinx.Function` containing the solution.\n",
    "## Computing the error\n",
    "Finally, we compute the error to check the accuracy of the solution. We do this by comparing the finite element solution `u` with the exact solution. We do this by interpolating the exact solution into the the $P_2$-function space."
   ]
  },
  {
   "cell_type": "code",
   "execution_count": 11,
   "metadata": {},
   "outputs": [],
   "source": [
    "V2 = dolfinx.FunctionSpace(mesh, (\"CG\", 2))\n",
    "uex = dolfinx.Function(V2)\n",
    "uex.interpolate(lambda x: 1 + x[0]**2 + 2 * x[1]**2)\n",
    "uex.vector.ghostUpdate(addv=PETSc.InsertMode.INSERT, mode=PETSc.ScatterMode.FORWARD)"
   ]
  },
  {
   "cell_type": "code",
   "execution_count": 12,
   "metadata": {},
   "outputs": [],
   "source": [
    "L2_error = ufl.inner(uh - uex, uh - uex) * ufl.dx\n",
    "error_L2 = numpy.sqrt(dolfinx.fem.assemble_scalar(L2_error))"
   ]
  },
  {
   "cell_type": "markdown",
   "metadata": {},
   "source": [
    "We also compute the maximum error at any degree of freedom.\n",
    "As the finite element function $u$ can be expressed as a linear combination of basis functions $\\phi_j$, spanning the space $V$:\n",
    "\n",
    "$ u = \\sum_{j=1}^N U_j\\phi_j.$\n",
    "By writing `problem.solve()`\n",
    "we compute all the coefficients $U_1,\\dots, U_N$. These values are known as the _degrees of freedom_ (dofs). We can access the degrees of freedom by accessing the underlying vector in `uh`.\n",
    "However, as a second order function space has more dofs than a linear function space, we cannot compare these arrays directly.\n",
    "Therefore we compute the values of both `uex` and `uD` at the mesh nodes (for a linear mesh this is the vertices).\n",
    "\n",
    "We compute the error in two different ways. First, we compute the $L^2$-norm of the error, defined by $E=\\sqrt{\\int_\\Omega (u_D-u_h)^2\\mathrm{d} x}$. We use UFL to express the $L^2$-error:"
   ]
  },
  {
   "cell_type": "code",
   "execution_count": 13,
   "metadata": {},
   "outputs": [
    {
     "name": "stdout",
     "output_type": "stream",
     "text": [
      "Error_L2 = 8.24e-03\n",
      "Error_max = 7.11e-15\n"
     ]
    }
   ],
   "source": [
    "u_vertex_values = uh.compute_point_values()\n",
    "u_ex_vertex_values = uex.compute_point_values()\n",
    "error_max = numpy.max(numpy.abs(u_vertex_values - u_ex_vertex_values))\n",
    "print(\"Error_L2 = {0:.2e}\".format(error_L2))\n",
    "print(\"Error_max = {0:.2e}\".format(error_max))"
   ]
  },
  {
   "cell_type": "markdown",
   "metadata": {},
   "source": [
    "## Plotting the solution using pyvista\n",
    "Once the solution has been computed, we will visualize it using [pyvista](https://docs.pyvista.org/), an interface to the VTK toolkit.\n",
    "We start by converting the mesh to a format that can be used with `pyvista`.\n",
    "To do this we use the function `dolfinx.plot.create_vtk_topology`. The first step is to create an unstructured grid that can be used by `pyvista`."
   ]
  },
  {
   "cell_type": "code",
   "execution_count": 14,
   "metadata": {},
   "outputs": [],
   "source": [
    "import dolfinx.plot\n",
    "topology, cell_types = dolfinx.plot.create_vtk_topology(mesh, mesh.topology.dim)"
   ]
  },
  {
   "cell_type": "code",
   "execution_count": 15,
   "metadata": {},
   "outputs": [],
   "source": [
    "import pyvista\n",
    "grid = pyvista.UnstructuredGrid(topology, cell_types, mesh.geometry.x)"
   ]
  },
  {
   "cell_type": "markdown",
   "metadata": {},
   "source": [
    "Next, we attach data from our solution `uh` by computing the values of the function at each vertex."
   ]
  },
  {
   "cell_type": "code",
   "execution_count": 16,
   "metadata": {},
   "outputs": [],
   "source": [
    "grid.point_arrays[\"u\"] = uh.compute_point_values().real\n",
    "grid.set_active_scalars(\"u\")"
   ]
  },
  {
   "cell_type": "markdown",
   "metadata": {},
   "source": [
    "We can now use the `pyvista.Plotter` to visualize the solution. We visualize it by showing it in 2D and warped in 3D. yte\n",
    "In the jupyter notebook environment, we use the default setting of `pyvista.OFF_SCREEN=False`, which will render plots directly in the notebook. . PYVITo render in the online notebooks or in docker containers without X-forwarding, we need to start a virtual framebuffer.\n",
    "```{admonition} Rendering with pyvista using Docker-containers\n",
    "To make the plots render, we have to call `pyvista.utilities.xvfb.start_xvfb` to start a virtual framebuffer.\n",
    "```"
   ]
  },
  {
   "cell_type": "code",
   "execution_count": 17,
   "metadata": {},
   "outputs": [
    {
     "data": {
      "image/png": "[encoded data removed]",
      "text/plain": [
       "<PIL.Image.Image image mode=RGB size=1024x768 at 0x7F215E9ABD30>"
      ]
     },
     "metadata": {},
     "output_type": "display_data"
    }
   ],
   "source": [
    "from pyvista.utilities.xvfb import start_xvfb\n",
    "start_xvfb(wait=0.0)\n",
    "\n",
    "plotter = pyvista.Plotter()\n",
    "plotter.add_mesh(grid, show_edges=True, show_scalar_bar=True)\n",
    "plotter.view_xy()\n",
    "if not pyvista.OFF_SCREEN:\n",
    "    plotter.show()\n",
    "figure = plotter.screenshot(\"fundamentals.png\")"
   ]
  },
  {
   "cell_type": "markdown",
   "metadata": {},
   "source": [
    "## Interactive plotting in notebooks\n",
    "To create an interactive plot using pyvista in a Jupyter notebook we us `pyvista.ITKPlotter` which uses `itkwidgets`."
   ]
  },
  {
   "cell_type": "code",
   "execution_count": 18,
   "metadata": {},
   "outputs": [
    {
     "data": {
      "application/vnd.jupyter.widget-view+json": {
       "model_id": "e874ed626ab84788bd82deb7b885fe4e",
       "version_major": 2,
       "version_minor": 0
      },
      "text/plain": [
       "Viewer(geometries=[{'vtkClass': 'vtkPolyData', 'points': {'vtkClass': 'vtkPoints', 'name': '_points', 'numberO…"
      ]
     },
     "metadata": {},
     "output_type": "display_data"
    }
   ],
   "source": [
    "if not pyvista.OFF_SCREEN:\n",
    "    plotter_itk = pyvista.PlotterITK()\n",
    "    plotter_itk.add_mesh(grid)\n",
    "    plotter_itk.show(True)"
   ]
  },
  {
   "cell_type": "markdown",
   "metadata": {},
   "source": [
    "## External post-processing\n",
    "For post-processing outside the python code, it is suggested to save the solution to file using either `dolfinx.io.VTKFile` or `dolfinx.io.XDMFFile` and using [Paraview](https://www.paraview.org/). This ifs especially suggested for 3D visualization."
   ]
  },
  {
   "cell_type": "code",
   "execution_count": 19,
   "metadata": {},
   "outputs": [],
   "source": [
    "import dolfinx.io\n",
    "outfile = dolfinx.io.VTKFile(\"output.pvd\")\n",
    "outfile.write(uh)\n",
    "xdmffile = dolfinx.io.XDMFFile(MPI.COMM_WORLD, \"output.xdmf\", \"w\")\n",
    "xdmffile.write_mesh(mesh)\n",
    "xdmffile.write_function(uh)\n",
    "xdmffile.close()"
   ]
  },
  {
   "cell_type": "markdown",
   "metadata": {},
   "source": [
    "```{bibliography}\n",
    "   :filter: cited and ({\"chapter1/fundamentals_code\"} >= docnames)\n",
    "```"
   ]
  },
  {
   "cell_type": "code",
   "execution_count": null,
   "metadata": {},
   "outputs": [],
   "source": []
  }
 ],
 "metadata": {
  "kernelspec": {
   "display_name": "Python 3",
   "language": "python",
   "name": "python3"
  },
  "language_info": {
   "codemirror_mode": {
    "name": "ipython",
    "version": 3
   },
   "file_extension": ".py",
   "mimetype": "text/x-python",
   "name": "python",
   "nbconvert_exporter": "python",
   "pygments_lexer": "ipython3",
   "version": "3.8.5"
  }
 },
 "nbformat": 4,
 "nbformat_minor": 4
}
