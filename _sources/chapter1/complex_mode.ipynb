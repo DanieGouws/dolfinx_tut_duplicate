{
 "cells": [
  {
   "cell_type": "markdown",
   "id": "116651d1-d44d-471d-b13c-36855d8464ec",
   "metadata": {},
   "source": [
    "# Running DOLFINx in complex mode\n",
    "\n",
    "Author: Jørgen S. Dokken\n",
    "\n",
    "This section will explain how to run DOLFINx in complex mode, and its peculiarities.\n",
    "\n",
    "## TODO: Add complex example"
   ]
  },
  {
   "cell_type": "code",
   "execution_count": 1,
   "id": "4d5b03e3-4d7f-45b7-95eb-9130a5141f34",
   "metadata": {},
   "outputs": [],
   "source": [
    "import dolfinx\n",
    "from petsc4py import PETSc\n",
    "import numpy as np\n",
    "assert np.dtype(PETSc.ScalarType).kind == 'c'"
   ]
  },
  {
   "cell_type": "code",
   "execution_count": null,
   "id": "be8461a0-a089-4ff3-8bc8-61b016407e70",
   "metadata": {},
   "outputs": [],
   "source": []
  }
 ],
 "metadata": {
  "jupytext": {
   "formats": "ipynb,py:light"
  },
  "kernelspec": {
   "display_name": "Python 3 (DOLFINx complex)",
   "language": "python",
   "name": "python3-complex"
  },
  "language_info": {
   "codemirror_mode": {
    "name": "ipython",
    "version": 3
   },
   "file_extension": ".py",
   "mimetype": "text/x-python",
   "name": "python",
   "nbconvert_exporter": "python",
   "pygments_lexer": "ipython3",
   "version": "3.10.4"
  }
 },
 "nbformat": 4,
 "nbformat_minor": 5
}
