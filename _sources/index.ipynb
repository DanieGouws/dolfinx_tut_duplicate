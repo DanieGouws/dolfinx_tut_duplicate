{
 "cells": [
  {
   "cell_type": "markdown",
   "id": "joined-journalist",
   "metadata": {},
   "source": [
    "# The FEniCS-X tutorial\n",
    "Author: Jørgen S. Dokken\n",
    "\n",
    "This web-page gives a concise overview of the functionality of [Dolfin-X](https://github.com/FEniCS/dolfinx/), including a gentle introduction to the finite element method. This web-page is an adaptation of the FEniCS tutorial {cite}`FenicsTutorial`.\n",
    "\n",
    "Dolfin-X can be used as either a C++ or Python software, but this tutorial will focus on Python programming, as it is the simplest and most effective approach for beginners. After having gone through this tutorial, the reader should familiarize themselves with the Dolfin-X [documentation](https://docs.fenicsproject.org/dolfinx/main/python/), which includes the API and numerous demos.\n",
    "\n",
    "Comments and corrections to this web-page should be submitted to the issue tracker by going to the relevant page in the tutorial, then click the ![git](git.png)-symbol in the top right corner and \"open issue\".\n",
    "\n",
    "**Interactive tutorials**\n",
    "\n",
    "As this book has been published as a Jupyter Book, we provide interactive notebooks that can be run in the browser. To start such a notebook click the ![Binder symbol](binder.png)-symbol in the top right corner of the relevant tutorial."
   ]
  },
  {
   "cell_type": "code",
   "execution_count": 1,
   "id": "gorgeous-declaration",
   "metadata": {},
   "outputs": [
    {
     "name": "stdout",
     "output_type": "stream",
     "text": [
      "Dolfin-X version: 2019.2.9.99 is installed\n"
     ]
    }
   ],
   "source": [
    "import dolfinx\n",
    "print(f\"Dolfin-X version: {dolfinx.__version__} is installed\")"
   ]
  },
  {
   "cell_type": "markdown",
   "id": "dedicated-order",
   "metadata": {},
   "source": [
    "**References**\n",
    "```{bibliography}\n",
    ":filter: docname in docnames\n",
    "```"
   ]
  },
  {
   "cell_type": "code",
   "execution_count": null,
   "id": "ceramic-convertible",
   "metadata": {},
   "outputs": [],
   "source": []
  }
 ],
 "metadata": {
  "kernelspec": {
   "display_name": "Python 3",
   "language": "python",
   "name": "python3"
  },
  "language_info": {
   "codemirror_mode": {
    "name": "ipython",
    "version": 3
   },
   "file_extension": ".py",
   "mimetype": "text/x-python",
   "name": "python",
   "nbconvert_exporter": "python",
   "pygments_lexer": "ipython3",
   "version": "3.8.5"
  }
 },
 "nbformat": 4,
 "nbformat_minor": 5
}