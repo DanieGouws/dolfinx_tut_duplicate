{
 "cells": [
  {
   "cell_type": "markdown",
   "metadata": {},
   "source": [
    "# Implementation\n",
    "\n",
    "Author: Jørgen S. Dokken\n",
    "\n",
    "## Test problem\n",
    "To solve a test problem, we need to choose the right hand side $f$ and the coefficient $q(u)$ and the boundary $u_D$. Previously, we have worked with manufactured solutions that can  be reproduced without approximation errors. This is more difficult in non-linear porblems, and the algebra is more tedious. Howeve, we will utilize UFLs differentiation capabilities to obtain a manufactured solution. \n",
    "\n",
    "For this problem, we will choose $q(u) = 1 + u^2$ and define a two dimensional manufactured solution that is linear in $x$ and $y$:"
   ]
  },
  {
   "cell_type": "code",
   "execution_count": 10,
   "metadata": {},
   "outputs": [
    {
     "name": "stderr",
     "output_type": "stream",
     "text": [
      "2022-01-07 20:35:20.186 (  37.888s) [main            ]              utils.cpp:531   INFO| Compute partition of cells across ranks\n",
      "2022-01-07 20:35:20.186 (  37.888s) [main            ]         graphbuild.cpp:549   INFO| Build mesh dual graph\n",
      "2022-01-07 20:35:20.186 (  37.888s) [main            ]         graphbuild.cpp:307   INFO| Build local part of mesh dual graph\n",
      "2022-01-07 20:35:20.187 (  37.889s) [main            ]         graphbuild.cpp:47    INFO| Build nonlocal part of mesh dual graph\n",
      "2022-01-07 20:35:20.187 (  37.889s) [main            ]         graphbuild.cpp:561   INFO| Graph edges (local:560, non-local:0)\n",
      "2022-01-07 20:35:20.187 (  37.889s) [main            ]       partitioners.cpp:273   INFO| Compute graph partition using PT-SCOTCH\n",
      "2022-01-07 20:35:20.187 (  37.890s) [main            ]         graphbuild.cpp:307   INFO| Build local part of mesh dual graph\n",
      "2022-01-07 20:35:20.188 (  37.891s) [main            ]           ordering.cpp:201   INFO| GPS pseudo-diameter:(38) 181-18\n",
      "\n",
      "2022-01-07 20:35:20.188 (  37.891s) [main            ]           Topology.cpp:591   INFO| Create topology\n",
      "2022-01-07 20:35:20.188 (  37.891s) [main            ]          partition.cpp:183   INFO| Compute ghost indices\n"
     ]
    }
   ],
   "source": [
    "import ufl\n",
    "from mpi4py import MPI\n",
    "\n",
    "from dolfinx.fem import (dirichletbc, Function, FunctionSpace, NonlinearProblem,\n",
    "                         assemble_scalar, form, locate_dofs_topological)\n",
    "from dolfinx.log import set_log_level, LogLevel\n",
    "from dolfinx.mesh import create_unit_square, locate_entities_boundary\n",
    "from dolfinx.nls import NewtonSolver\n",
    "\n",
    "def q(u):\n",
    "    return 1 + u**2\n",
    "\n",
    "mesh = create_unit_square(MPI.COMM_WORLD, 10, 10)\n",
    "x = ufl.SpatialCoordinate(mesh)\n",
    "u_ufl = 1 + x[0] + 2*x[1]\n",
    "f = - ufl.div(q(u_ufl)*ufl.grad(u_ufl))"
   ]
  },
  {
   "cell_type": "markdown",
   "metadata": {},
   "source": [
    "Note that since `x` is a 2D vector, the first component (index 0) resemble $x$, while the second component (index 1) resemble $y$. The resulting function `f` can be directly used in variational formulations in DOLFINx.\n",
    "\n",
    "As we now have defined our source term and exact solution, we can create the appropriate function space and boundary conditions.\n",
    "Note that as we have already defined the exact solution, we only have to convert it to a python function that can be evaluated in the interpolation function. We do this by employing the Python `eval` and `lambda`-functions. "
   ]
  },
  {
   "cell_type": "code",
   "execution_count": 11,
   "metadata": {},
   "outputs": [
    {
     "name": "stderr",
     "output_type": "stream",
     "text": [
      "2022-01-07 20:35:20.856 (  38.558s) [main            ]topologycomputation.cpp:616   INFO| Computing mesh entities of dimension 0\n",
      "2022-01-07 20:35:20.857 (  38.560s) [main            ]topologycomputation.cpp:616   INFO| Computing mesh entities of dimension 1\n",
      "2022-01-07 20:35:20.858 (  38.561s) [main            ]topologycomputation.cpp:656   INFO| Requesting connectivity 1 - 2\n",
      "2022-01-07 20:35:20.858 (  38.561s) [main            ]topologycomputation.cpp:520   INFO| Computing mesh connectivity 1 - 2 from transpose.\n",
      "2022-01-07 20:35:20.858 (  38.561s) [main            ]topologycomputation.cpp:656   INFO| Requesting connectivity 1 - 1\n",
      "2022-01-07 20:35:20.858 (  38.561s) [main            ]topologycomputation.cpp:656   INFO| Requesting connectivity 1 - 0\n",
      "2022-01-07 20:35:20.858 (  38.561s) [main            ]topologycomputation.cpp:656   INFO| Requesting connectivity 0 - 2\n",
      "2022-01-07 20:35:20.858 (  38.561s) [main            ]topologycomputation.cpp:520   INFO| Computing mesh connectivity 0 - 2 from transpose.\n",
      "2022-01-07 20:35:20.858 (  38.561s) [main            ]topologycomputation.cpp:656   INFO| Requesting connectivity 2 - 0\n",
      "2022-01-07 20:35:20.859 (  38.562s) [main            ]topologycomputation.cpp:656   INFO| Requesting connectivity 1 - 2\n"
     ]
    }
   ],
   "source": [
    "from petsc4py import PETSc\n",
    "import numpy\n",
    "V = FunctionSpace(mesh, (\"CG\", 1))\n",
    "u_exact = lambda x: eval(str(u_ufl))\n",
    "u_D = Function(V)\n",
    "u_D.interpolate(u_exact)\n",
    "u_D.x.scatter_forward()\n",
    "fdim = mesh.topology.dim - 1\n",
    "boundary_facets = locate_entities_boundary(mesh, fdim, lambda x: numpy.full(x.shape[1], True, dtype=bool))\n",
    "bc = dirichletbc(u_D, locate_dofs_topological(V, fdim, boundary_facets))"
   ]
  },
  {
   "cell_type": "markdown",
   "metadata": {},
   "source": [
    "We are now ready to define the variational formulation. Note that as the problem is non-linear, we have replace the `TrialFunction` with a `Function`, which serves as the unknown of our problem."
   ]
  },
  {
   "cell_type": "code",
   "execution_count": 12,
   "metadata": {},
   "outputs": [],
   "source": [
    "uh = Function(V)\n",
    "v = ufl.TestFunction(V)\n",
    "F = q(uh)*ufl.dot(ufl.grad(uh), ufl.grad(v))*ufl.dx - f*v*ufl.dx"
   ]
  },
  {
   "cell_type": "markdown",
   "metadata": {},
   "source": [
    "The next step is to define the non-linear problem. As it is non-linear we will use [Newtons method](https://en.wikipedia.org/wiki/Newton%27s_method).\n",
    "Newton's method requires methods for evaluating the residual `F` (including application of boundary conditions), as well as a method for computing the Jacobian matrix. DOLFINx provides the function `NonlinearProblem` that implements these methods. In addition to the boundary conditions, you can supply the variational form for the Jacobian (computed if not supplied), and form and jit parameters, see the [JIT parameters section](../chapter4/compiler_parameters.ipynb)."
   ]
  },
  {
   "cell_type": "code",
   "execution_count": 13,
   "metadata": {},
   "outputs": [],
   "source": [
    "problem = NonlinearProblem(F, uh, bcs=[bc])"
   ]
  },
  {
   "cell_type": "markdown",
   "metadata": {},
   "source": [
    "Next, we use the dolfinx Newton solver. We can set the convergence criterions for the solver by changing the absolute tolerance (`atol`), relative tolerance (`rtol`) or the convergence criterion (`residual` or `incremental`)."
   ]
  },
  {
   "cell_type": "code",
   "execution_count": 14,
   "metadata": {},
   "outputs": [
    {
     "name": "stderr",
     "output_type": "stream",
     "text": [
      "2022-01-07 20:35:22.474 (  40.176s) [main            ]    SparsityPattern.cpp:381   INFO| Column ghost size increased from 0 to 0\n",
      "\n"
     ]
    }
   ],
   "source": [
    "solver = NewtonSolver(MPI.COMM_WORLD, problem)\n",
    "solver.convergence_criterion = \"incremental\"\n",
    "solver.rtol = 1e-6\n",
    "solver.report = True"
   ]
  },
  {
   "cell_type": "markdown",
   "metadata": {},
   "source": [
    "We can modify the linear solver in each Newton iteration by accessing the underlying `PETSc` object."
   ]
  },
  {
   "cell_type": "code",
   "execution_count": 15,
   "metadata": {},
   "outputs": [],
   "source": [
    "ksp = solver.krylov_solver\n",
    "opts = PETSc.Options()\n",
    "option_prefix = ksp.getOptionsPrefix()\n",
    "opts[f\"{option_prefix}ksp_type\"] = \"cg\"\n",
    "opts[f\"{option_prefix}pc_type\"] = \"gamg\"\n",
    "opts[f\"{option_prefix}pc_factor_mat_solver_type\"] = \"mumps\"\n",
    "ksp.setFromOptions()"
   ]
  },
  {
   "cell_type": "markdown",
   "metadata": {},
   "source": [
    "We are now ready to solve the non-linear problem. We assert that the solver has converged and print the number of iterations."
   ]
  },
  {
   "cell_type": "code",
   "execution_count": 16,
   "metadata": {},
   "outputs": [
    {
     "name": "stdout",
     "output_type": "stream",
     "text": [
      "Number of interations: 8\n"
     ]
    },
    {
     "name": "stderr",
     "output_type": "stream",
     "text": [
      "2022-01-07 20:35:23.672 (  41.375s) [main            ]              petsc.cpp:769   INFO| PETSc Krylov solver starting to solve system.\n",
      "2022-01-07 20:35:23.677 (  41.379s) [main            ]              petsc.cpp:769   INFO| PETSc Krylov solver starting to solve system.\n",
      "2022-01-07 20:35:23.680 (  41.382s) [main            ]       NewtonSolver.cpp:34    INFO| Newton iteration 2: r (abs) = 20.3794 (tol = 1e-10) r (rel) = 0.922544(tol = 1e-06)\n",
      "2022-01-07 20:35:23.680 (  41.383s) [main            ]              petsc.cpp:769   INFO| PETSc Krylov solver starting to solve system.\n",
      "2022-01-07 20:35:23.683 (  41.386s) [main            ]       NewtonSolver.cpp:34    INFO| Newton iteration 3: r (abs) = 6.95285 (tol = 1e-10) r (rel) = 0.314745(tol = 1e-06)\n",
      "2022-01-07 20:35:23.684 (  41.386s) [main            ]              petsc.cpp:769   INFO| PETSc Krylov solver starting to solve system.\n",
      "2022-01-07 20:35:23.685 (  41.388s) [main            ]       NewtonSolver.cpp:34    INFO| Newton iteration 4: r (abs) = 2.93575 (tol = 1e-10) r (rel) = 0.132897(tol = 1e-06)\n",
      "2022-01-07 20:35:23.685 (  41.388s) [main            ]              petsc.cpp:769   INFO| PETSc Krylov solver starting to solve system.\n",
      "2022-01-07 20:35:23.687 (  41.389s) [main            ]       NewtonSolver.cpp:34    INFO| Newton iteration 5: r (abs) = 0.700593 (tol = 1e-10) r (rel) = 0.0317148(tol = 1e-06)\n",
      "2022-01-07 20:35:23.687 (  41.389s) [main            ]              petsc.cpp:769   INFO| PETSc Krylov solver starting to solve system.\n",
      "2022-01-07 20:35:23.688 (  41.390s) [main            ]       NewtonSolver.cpp:34    INFO| Newton iteration 6: r (abs) = 0.0490796 (tol = 1e-10) r (rel) = 0.00222176(tol = 1e-06)\n",
      "2022-01-07 20:35:23.688 (  41.390s) [main            ]              petsc.cpp:769   INFO| PETSc Krylov solver starting to solve system.\n",
      "2022-01-07 20:35:23.690 (  41.392s) [main            ]       NewtonSolver.cpp:34    INFO| Newton iteration 7: r (abs) = 0.000299464 (tol = 1e-10) r (rel) = 1.35563e-05(tol = 1e-06)\n",
      "2022-01-07 20:35:23.690 (  41.392s) [main            ]              petsc.cpp:769   INFO| PETSc Krylov solver starting to solve system.\n",
      "2022-01-07 20:35:23.691 (  41.394s) [main            ]       NewtonSolver.cpp:34    INFO| Newton iteration 8: r (abs) = 1.52969e-08 (tol = 1e-10) r (rel) = 6.92466e-10(tol = 1e-06)\n",
      "2022-01-07 20:35:23.691 (  41.394s) [main            ]       NewtonSolver.cpp:250   INFO| Newton solver finished in 8 iterations and 45 linear solver iterations.\n"
     ]
    }
   ],
   "source": [
    "set_log_level(LogLevel.INFO)\n",
    "n, converged = solver.solve(uh)\n",
    "uh.x.scatter_forward()\n",
    "assert(converged)\n",
    "print(f\"Number of interations: {n:d}\")"
   ]
  },
  {
   "cell_type": "markdown",
   "metadata": {},
   "source": [
    "We observe that the solver converges after $8$ iterations.\n",
    "If we think of the problem in terms of finite differences on a uniform mesh, $\\mathcal{P}_1$ elements mimic standard second-order finite differences, which compute the derivative of a linear or quadratic funtion exactly. Here $\\nabla u$ is a constant vector, which is multiplied by $1+u^2$, which is a second order polynomial in $x$ and $y$, which the finite difference operator would compute exactly. We can therefore, even with $\\mathcal{P}_1$ elements, expect the manufactured solution to be reproduced by the numerical method. However, if we had chosen a nonlinearity, such as $1+u^4$, this would not be the case, and we would need to verify convergence rates."
   ]
  },
  {
   "cell_type": "code",
   "execution_count": 17,
   "metadata": {},
   "outputs": [
    {
     "name": "stdout",
     "output_type": "stream",
     "text": [
      "L2-error: 1.51e-15\n",
      "Error_max: 5.55e-15\n"
     ]
    },
    {
     "name": "stderr",
     "output_type": "stream",
     "text": [
      "2022-01-07 20:35:25.667 (  43.370s) [main            ]topologycomputation.cpp:616   INFO| Computing mesh entities of dimension 0\n",
      "2022-01-07 20:35:25.667 (  43.370s) [main            ]topologycomputation.cpp:616   INFO| Computing mesh entities of dimension 1\n"
     ]
    }
   ],
   "source": [
    "# Compute L2 error and error at nodes\n",
    "V_ex = FunctionSpace(mesh, (\"CG\", 2))\n",
    "u_ex = Function(V_ex)\n",
    "u_ex.interpolate(u_exact)\n",
    "error_local = assemble_scalar(form((uh - u_ex)**2 * ufl.dx))\n",
    "error_L2 = numpy.sqrt(mesh.comm.allreduce(error_local, op=MPI.SUM))\n",
    "if mesh.comm.rank == 0:\n",
    "    print(f\"L2-error: {error_L2:.2e}\")\n",
    "\n",
    "# Compute values at mesh vertices\n",
    "u_vertex_values = uh.compute_point_values()\n",
    "u_ex_vertex_values = u_ex.compute_point_values()\n",
    "error_max = mesh.comm.allreduce(numpy.max(numpy.abs(u_vertex_values - u_ex_vertex_values)), op=MPI.MAX)\n",
    "if mesh.comm.rank == 0:\n",
    "    print(f\"Error_max: {error_max:.2e}\")"
   ]
  },
  {
   "cell_type": "code",
   "execution_count": null,
   "metadata": {},
   "outputs": [],
   "source": []
  }
 ],
 "metadata": {
  "kernelspec": {
   "display_name": "Python 3 (ipykernel)",
   "language": "python",
   "name": "python3"
  },
  "language_info": {
   "codemirror_mode": {
    "name": "ipython",
    "version": 3
   },
   "file_extension": ".py",
   "mimetype": "text/x-python",
   "name": "python",
   "nbconvert_exporter": "python",
   "pygments_lexer": "ipython3",
   "version": "3.9.7"
  }
 },
 "nbformat": 4,
 "nbformat_minor": 4
}
