{
 "cells": [
  {
   "cell_type": "markdown",
   "metadata": {},
   "source": [
    "# A known analytical solution\n",
    "Author: Jørgen S. Dokken\n",
    "\n",
    "Just as for the [Poisson problem](./../chapter1/fundamentals_code), we construct a test problem which makes it easy to determine if the calculations are correct.\n",
    "\n",
    "Since we know that our first-order time-stepping scheme is exact for linear functions, we create a problem which has linear variation in time. We combine this with a quadratic variation in space. Therefore, we choose the analytical solution to be\n",
    "\\begin{align}\n",
    "u = 1 + x^2+\\alpha y^2 + \\beta t\n",
    "\\end{align}\n",
    "which yields a function whose computed values at the degrees of freedom will be exact, regardless of the mesh size and $\\Delta t$ as long as the mesh is uniformly partitioned.\n",
    "By inserting this into our original PDE, we find that the right hand side $f=\\beta-2-2\\alpha$. The boundary value $u_d(x,y,t)=1+x^2+\\alpha y^2 + \\beta t$ and the initial value $u_0(x,y)=1+x^2+\\alpha y^2$.\n",
    "\n",
    "We start by defining the temporal discretization parameters, along with the parameters for $\\alpha$ and $\\beta$."
   ]
  },
  {
   "cell_type": "code",
   "execution_count": 1,
   "metadata": {},
   "outputs": [],
   "source": [
    "t = 0 # Start time\n",
    "T = 2 # End time\n",
    "num_steps = 20 # Number of time steps\n",
    "dt = (T-t)/num_steps # Time step size\n",
    "alpha = 3\n",
    "beta = 1.2"
   ]
  },
  {
   "cell_type": "markdown",
   "metadata": {},
   "source": [
    "As for the previous problem, we define the mesh and appropriate function spaces."
   ]
  },
  {
   "cell_type": "code",
   "execution_count": 2,
   "metadata": {},
   "outputs": [],
   "source": [
    "import dolfinx\n",
    "import numpy\n",
    "from dolfinx.cpp.mesh import CellType\n",
    "from mpi4py import MPI\n",
    "from petsc4py import PETSc\n",
    "\n",
    "nx, ny = 5, 5\n",
    "mesh = dolfinx.UnitSquareMesh(MPI.COMM_WORLD, nx, ny, CellType.triangle)\n",
    "V = dolfinx.FunctionSpace(mesh, (\"CG\", 1))"
   ]
  },
  {
   "cell_type": "markdown",
   "metadata": {},
   "source": [
    "## Defining the exact solution\n",
    "As in the membrane problem, we create a Python-class to resemble the exact solution"
   ]
  },
  {
   "cell_type": "code",
   "execution_count": 3,
   "metadata": {},
   "outputs": [],
   "source": [
    "class exact_solution():\n",
    "    def __init__(self, alpha, beta, t):\n",
    "        self.alpha = alpha\n",
    "        self.beta = beta\n",
    "        self.t = t\n",
    "    def __call__(self, x):\n",
    "        return 1 + x[0]**2 + self.alpha * x[1]**2 + self.beta * self.t\n",
    "u_exact = exact_solution(alpha, beta, t)"
   ]
  },
  {
   "cell_type": "markdown",
   "metadata": {},
   "source": [
    "## Defining the boundary condition\n",
    "As in the previous chapters, we define a Dirichlet boundary condition over the whole boundary"
   ]
  },
  {
   "cell_type": "code",
   "execution_count": 4,
   "metadata": {},
   "outputs": [],
   "source": [
    "u_D = dolfinx.Function(V)\n",
    "u_D.interpolate(u_exact)\n",
    "u_D.vector.ghostUpdate(addv=PETSc.InsertMode.INSERT, mode=PETSc.ScatterMode.FORWARD)\n",
    "fdim = mesh.topology.dim - 1\n",
    "boundary_facets = dolfinx.mesh.locate_entities_boundary(\n",
    "    mesh, fdim, lambda x: numpy.full(x.shape[1], True, dtype=bool))\n",
    "bc = dolfinx.DirichletBC(u_D, dolfinx.fem.locate_dofs_topological(V, fdim, boundary_facets))"
   ]
  },
  {
   "cell_type": "markdown",
   "metadata": {},
   "source": [
    "## Defining the variational formualation\n",
    "As we have set $t=0$ in `u_exact`, we can reuse this variable to obtain $u_n$ for the first time step."
   ]
  },
  {
   "cell_type": "code",
   "execution_count": 5,
   "metadata": {},
   "outputs": [],
   "source": [
    "u_n = dolfinx.Function(V)\n",
    "u_n.interpolate(u_exact)\n",
    "u_n.vector.ghostUpdate(addv=PETSc.InsertMode.INSERT, mode=PETSc.ScatterMode.FORWARD)"
   ]
  },
  {
   "cell_type": "markdown",
   "metadata": {},
   "source": [
    "As $f$ is a constant independent of $t$, we can define it as a constant."
   ]
  },
  {
   "cell_type": "code",
   "execution_count": 6,
   "metadata": {},
   "outputs": [],
   "source": [
    "f = dolfinx.Constant(mesh, beta - 2 - 2 * alpha)"
   ]
  },
  {
   "cell_type": "markdown",
   "metadata": {},
   "source": [
    "We can now create our variational formulation, with the bilinear form `a` and  linear form `L`."
   ]
  },
  {
   "cell_type": "code",
   "execution_count": 7,
   "metadata": {},
   "outputs": [],
   "source": [
    "import ufl\n",
    "u, v = ufl.TrialFunction(V), ufl.TestFunction(V)\n",
    "F = u*v*ufl.dx + dt*ufl.dot(ufl.grad(u), ufl.grad(v))*ufl.dx - (u_n + dt*f)*v*ufl.dx\n",
    "a = ufl.lhs(F)\n",
    "L = ufl.rhs(F)"
   ]
  },
  {
   "cell_type": "markdown",
   "metadata": {},
   "source": [
    "## Create the matrix and and vector for the linear problem\n",
    "To ensure that we are solving the variational problem efficiently, we will create several structures which can reuse data, such as matrix sparisty patterns. Especially note as the bilinear form `a` is independent of time, we only need to assemble the matrix once."
   ]
  },
  {
   "cell_type": "code",
   "execution_count": 8,
   "metadata": {},
   "outputs": [],
   "source": [
    "A = dolfinx.fem.assemble_matrix(a, bcs=[bc])\n",
    "A.assemble()\n",
    "b = dolfinx.fem.create_vector(L)\n",
    "uh = dolfinx.Function(V)"
   ]
  },
  {
   "cell_type": "markdown",
   "metadata": {},
   "source": [
    "## Define a linear variational solver\n",
    "We will use [PETSc](https://www.mcs.anl.gov/petsc/) to solve the resulting linear algebra problem. We use the Python-API `petsc4py` to define the solver. We will use a linear solver."
   ]
  },
  {
   "cell_type": "code",
   "execution_count": 9,
   "metadata": {},
   "outputs": [],
   "source": [
    "solver = PETSc.KSP().create(mesh.mpi_comm())\n",
    "solver.setOperators(A)\n",
    "solver.setType(PETSc.KSP.Type.PREONLY)\n",
    "solver.getPC().setType(PETSc.PC.Type.LU)"
   ]
  },
  {
   "cell_type": "markdown",
   "metadata": {},
   "source": [
    "## Solving the time-dependent problem\n",
    "With these structures in place, we crete our time-stepping loop.\n",
    "In this loop, we first update the Dirichlet boundary condition by interpolating the updated \n",
    "expression `u_exact` into `V`. The next step is to re-assemble the vector `b`, with the update `u_n`.\n",
    "Then, we need to apply the boundary condition to this vector. We do this by using the lifting operation,\n",
    "which applies the boundary condition such that symmetry of the matrix is preserved.\n",
    "Then we solve the problem using PETSc and update `u_n` with the data from `uh`."
   ]
  },
  {
   "cell_type": "code",
   "execution_count": 10,
   "metadata": {},
   "outputs": [],
   "source": [
    "for n in range(num_steps):\n",
    "    # Update Diriclet boundary condition \n",
    "    u_exact.t+=dt\n",
    "    u_D.interpolate(u_exact)\n",
    "    u_D.vector.ghostUpdate(addv=PETSc.InsertMode.INSERT, mode=PETSc.ScatterMode.FORWARD)\n",
    "    \n",
    "    # Update the right hand side reusing the initial vector\n",
    "    with b.localForm() as loc_b:\n",
    "        loc_b.set(0)\n",
    "    dolfinx.fem.assemble_vector(b, L)\n",
    "    \n",
    "    # Apply Dirichlet boundary condition to the vector\n",
    "    dolfinx.fem.apply_lifting(b, [a], [[bc]])\n",
    "    b.ghostUpdate(addv=PETSc.InsertMode.ADD_VALUES, mode=PETSc.ScatterMode.REVERSE)\n",
    "    dolfinx.fem.set_bc(b, [bc])\n",
    "\n",
    "    # Solve linear problem\n",
    "    solver.solve(b, uh.vector)\n",
    "    uh.vector.ghostUpdate(addv=PETSc.InsertMode.INSERT_VALUES, mode=PETSc.ScatterMode.FORWARD)    \n",
    "    # Update solution at previous time step (u_n)\n",
    "    with uh.vector.localForm() as loc, u_n.vector.localForm() as loc_n:\n",
    "        loc.copy(loc_n)"
   ]
  },
  {
   "cell_type": "markdown",
   "metadata": {},
   "source": [
    "## Verifying the numerical solution\n",
    "As in the first chapter, we compute the L2-error and the error at the mesh vertices \n",
    "to verify our implementation."
   ]
  },
  {
   "cell_type": "code",
   "execution_count": 11,
   "metadata": {},
   "outputs": [
    {
     "name": "stdout",
     "output_type": "stream",
     "text": [
      "L2-error: 2.83e-02\n",
      "Error_max: 7.11e-15\n"
     ]
    }
   ],
   "source": [
    "# Compute L2 error and error at nodes\n",
    "V_ex = dolfinx.FunctionSpace(mesh, (\"CG\", 2))\n",
    "u_ex = dolfinx.Function(V_ex)\n",
    "u_ex.interpolate(u_exact)\n",
    "u_ex.vector.ghostUpdate(addv=PETSc.InsertMode.INSERT, mode=PETSc.ScatterMode.FORWARD)\n",
    "error_L2 = numpy.sqrt(MPI.COMM_WORLD.allreduce(dolfinx.fem.assemble_scalar((uh - u_ex)**2 * ufl.dx), op=MPI.SUM))\n",
    "print(f\"L2-error: {error_L2:.2e}\")\n",
    "\n",
    "# Compute values at mesh vertices\n",
    "u_vertex_values = uh.compute_point_values()\n",
    "u_ex_vertex_values = u_ex.compute_point_values()\n",
    "error_max = numpy.max(numpy.abs(u_vertex_values - u_ex_vertex_values))\n",
    "print(f\"Error_max: {error_max:.2e}\")"
   ]
  },
  {
   "cell_type": "code",
   "execution_count": null,
   "metadata": {},
   "outputs": [],
   "source": []
  }
 ],
 "metadata": {
  "kernelspec": {
   "display_name": "Python 3",
   "language": "python",
   "name": "python3"
  },
  "language_info": {
   "codemirror_mode": {
    "name": "ipython",
    "version": 3
   },
   "file_extension": ".py",
   "mimetype": "text/x-python",
   "name": "python",
   "nbconvert_exporter": "python",
   "pygments_lexer": "ipython3",
   "version": "3.8.5"
  }
 },
 "nbformat": 4,
 "nbformat_minor": 4
}
