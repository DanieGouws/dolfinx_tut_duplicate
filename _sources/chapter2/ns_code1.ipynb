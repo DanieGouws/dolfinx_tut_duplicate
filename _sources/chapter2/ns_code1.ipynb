{
 "metadata": {
  "language_info": {
   "codemirror_mode": {
    "name": "ipython",
    "version": 3
   },
   "file_extension": ".py",
   "mimetype": "text/x-python",
   "name": "python",
   "nbconvert_exporter": "python",
   "pygments_lexer": "ipython3",
   "version": 3
  },
  "orig_nbformat": 2
 },
 "nbformat": 4,
 "nbformat_minor": 2,
 "cells": [
  {
   "source": [
    "# Test problem 1: Channel flow\n",
    "\n",
    "Authors: Jørgen S. Dokken, Anders Logg and Hans Petter Langtangen\n",
    "\n",
    "In this section, we will compute the flow bewteen two infinite plates, so-called channel or Poiseuille flow.\n",
    "As we shall see, this problem has an analytical solution. \n",
    "Let $H$ be the distance between the plates and  $L$ the length of the channel. There are no body forces. \n",
    "\n",
    "We may scale the problem first to get rid of seemingly independent physical paramters. The physics of this problem is governed by viscous effects only, in the direction perpendicularr to the flow, so a time scale should be based on diffusin accross the channel: $t_v=H^2/\\nu$. We let $U$, some characteristic inflow velocity, be the velocity scale and $H$ the spatial scale. The pressure scale is taken as the characteristic shear stress, $\\mu U/H$, since this is a primary example of shear flow. Inserting $\\bar{x}=x/H, \\bar{y}=y/H, \\bar{z}=z/H, \\bar{u}=u/U, \\bar{p}=Hp/{\\mu U}$, and $\\bar{t}=H^2/\\nu$ in the equations results in the scaled Navier-Stokes equations (dropping the bars after scaling)\n",
    "```{math}\n",
    ":label: ns-scaled\n",
    "\\frac{\\partial u}{\\partial t}+ \\mathrm{Re} u \\cdot \\nabla u &= -\\nabla p + \\nabla^2 u,\\\\\n",
    "\\nabla \\cdot u &=0.\n",
    "```\n",
    "Here, $\\mathrm{Re}=\\rho UH/\\mu$ is the Reynolds number. Because of the time and pressure scales, which are different from convection dominated fluid flow, the Reynolds number is associated with the convective term and not the viscity term.\n",
    "\n",
    "The exact solution is derived by assuming $u=(u_x(x,y,z),0,0)$ with the $x$-axis pointing along the channel. Since $\\nabla \\cdot u = 0$, $u$ cannot be dependent on $x$.\n",
    "\n",
    "The physics of channel flow is also two-dimensional so we can omit the $z$-coordinate (more precisely: $\\partial/\\partial z = 0$). Inserting $u=(u_x, 0, 0)$ in the (scaled) governing equations gives $u_x''(y)=\\frac{\\partial p}{\\partial x)}$.\n",
    "Differentiating this equation with respect to $x$ shows that \n",
    "$\\frac{\\partial^2p}{\\partial^2x}=0$ so $\\partial p/\\partial x$ s a constant here called $-\\beta$. This is the driving force of the flow and can be specified as a known parameter in the problem. Integrating $u_x''(x)=-\\beta$ over the width of the channel, $[0,1]$, and requiring $u=(0,0,0)$ at the channel walls, results in $u_x=\\frac{1}{2}\\beta y(1-y)$. The characteristic inlet velocity $U$ can be taken as the maximum inflow at $y=0.5$, implying $\\beta=8$. The length of the  channel, $L/H$ in the scaled model, has no impact on the result, so for simplicity we just compute on the unit square. Mathematically, the pressure must be prescribed at a point, but since $p$ does not depend on $y$, we can set $p$ to a known value, e.g. zero, along the outlet boundary $x=1$. The result is\n",
    "$p(x)=8(1-x)$ and $u_x=4y(1-y)$.\n",
    "\n",
    "The boundary conditions can be set as $p=8$ at $x=0$, $p=0$ at $x=1$ and $u=(0,0,0)$ on the walls $y=0.1$. This defines the pressure drop and should result in unit maximum velocity at the inlet and outlet and a parabolic velocity profile without no further specifications. Note that it is only meaningful to solve the Navier-Stokes equations i n 2D or 3D geometries, although the underlying mathematical problem collapses to two $1D$ problems, one for $u_x(y)$ and one for $p(x)$."
   ],
   "cell_type": "markdown",
   "metadata": {}
  }
 ]
}