{
 "cells": [
  {
   "cell_type": "markdown",
   "metadata": {},
   "source": [
    "# Test problem 1: Channel flow (Poiseuille flow)\n",
    "\n",
    "Authors: Anders Logg and Hans Petter Langtangen\n",
    "\n",
    "Adapted by: Jørgen S. Dokken\n",
    "\n",
    "In this section, you will learn how to:\n",
    "- Solve the Navier-Stokes problem using a splitting scheme\n",
    "- Visualize functions from higher order Lagrangian spaces\n",
    "\n",
    "In this section, we will compute the flow bewteen two infinite plates, so-called channel or Poiseuille flow.\n",
    "As we shall see, this problem has an analytical solution. \n",
    "Let $H$ be the distance between the plates and  $L$ the length of the channel. There are no body forces. \n",
    "\n",
    "We may scale the problem first to get rid of seemingly independent physical parameters. The physics of this problem is governed by viscous effects only, in the direction perpendicular to the flow, so a time scale should be based on diffusion accross the channel: $t_v=H^2/\\nu$. We let $U$, some characteristic inflow velocity, be the velocity scale and $H$ the spatial scale. The pressure scale is taken as the characteristic shear stress, $\\mu U/H$, since this is a primary example of shear flow. Inserting $\\bar{x}=x/H, \\bar{y}=y/H, \\bar{z}=z/H, \\bar{u}=u/U, \\bar{p}=Hp/{\\mu U}$, and $\\bar{t}=H^2/\\nu$ in the equations results in the scaled Navier-Stokes equations (dropping the bars after scaling)\n",
    "```{math}\n",
    ":label: ns-scaled\n",
    "\\frac{\\partial u}{\\partial t}+ \\mathrm{Re} u \\cdot \\nabla u &= -\\nabla p + \\nabla^2 u,\\\\\n",
    "\\nabla \\cdot u &=0.\n",
    "```\n",
    "A detailed derivation for scaling of the Navier-Stokes equation for a large variety of physical situations can be found in [Chapter 4.2](https://www.doi.org/10.1007/978-3-319-32726-6_4) of [Scaling of Differential Equations](https://www.doi.org/10.1007/978-3-319-32726-6) (open-access) by Hans Petter Langtangen and Geir K. Pedersen.\n",
    "\n",
    "Here, $\\mathrm{Re}=\\rho UH/\\mu$ is the Reynolds number. Because of the time and pressure scales, which are different from convection dominated fluid flow, the Reynolds number is associated with the convective term and not the viscity term.\n",
    "\n",
    "The exact solution is derived by assuming $u=(u_x(x,y,z),0,0)$ with the $x$-axis pointing along the channel. Since $\\nabla \\cdot u = 0$, $u$ cannot be dependent on $x$.\n",
    "\n",
    "The physics of channel flow is also two-dimensional so we can omit the $z$-coordinate (more precisely: $\\partial/\\partial z = 0$). Inserting $u=(u_x, 0, 0)$ in the (scaled) governing equations gives $u_x''(y)=\\frac{\\partial p}{\\partial x)}$.\n",
    "Differentiating this equation with respect to $x$ shows that \n",
    "$\\frac{\\partial^2p}{\\partial^2x}=0$ so $\\partial p/\\partial x$ s a constant here called $-\\beta$. This is the driving force of the flow and can be specified as a known parameter in the problem. Integrating $u_x''(x)=-\\beta$ over the width of the channel, $[0,1]$, and requiring $u=(0,0,0)$ at the channel walls, results in $u_x=\\frac{1}{2}\\beta y(1-y)$. The characteristic inlet velocity $U$ can be taken as the maximum inflow at $y=0.5$, implying $\\beta=8$. The length of the  channel, $L/H$ in the scaled model, has no impact on the result, so for simplicity we just compute on the unit square. Mathematically, the pressure must be prescribed at a point, but since $p$ does not depend on $y$, we can set $p$ to a known value, e.g. zero, along the outlet boundary $x=1$. The result is\n",
    "$p(x)=8(1-x)$ and $u_x=4y(1-y)$.\n",
    "\n",
    "The boundary conditions can be set as $p=8$ at $x=0$, $p=0$ at $x=1$ and $u=(0,0,0)$ on the walls $y=0.1$. This defines the pressure drop and should result in unit maximum velocity at the inlet and outlet and a parabolic velocity profile without no further specifications. Note that it is only meaningful to solve the Navier-Stokes equations i n 2D or 3D geometries, although the underlying mathematical problem collapses to two $1D$ problems, one for $u_x(y)$ and one for $p(x)$.\n",
    "\n",
    "The scaled model is not so easy to simulate using a standard Navier-Stokes solver with dimensions. However, one can argue that the convection term is zero, so the Re coefficient in front of this term in the scaled PDEs is not important and can be set to unity. In that case, setting $\\rho=\\mu=1$ in the original Navier-Stokes equations resembles the scaled model.\n",
    "\n",
    "For a specific engineering problem one wants to simulate a specific fluid and set corresponding parameters. A general solver is therefore most naturally implemented with dimensions and using the original physical parameters. \n",
    "However, scaling may greatly simplify numerical simulations.\n",
    "First of all, it shows that all fluids behave in the  same way; it does not matter whether we have oil, gas, or water flowing betwen two plates, and it does not matter how fast the flow is (up to some critical value of the Reynolds number where the flow becomes unstable and transitions  to a complicated turbulent flow of totally differnent nature.)\n",
    " This means that one simulation is enough to cover all types of channel flow!\n",
    "In other applications, scaling shows that it might be necessary to just set the fraction of some parameters (dimensionless numbers) rather than the parameters themselves. This simplifies exploring the input parameter space which is often the purpose of simulation. Frequently, the scaled problem is run by setting some of the input parameters with dimension to fixed values (often unity)."
   ]
  },
  {
   "cell_type": "markdown",
   "metadata": {},
   "source": [
    "## Implementation\n",
    "\n",
    "Author: Jørgen S. Dokken\n",
    "\n",
    "As in the previous example, we load the `dolfinx`-module, along with the `mpi4py`-module, and create the unit square mesh and define the run-time and temporal discretization"
   ]
  },
  {
   "cell_type": "code",
   "execution_count": 1,
   "metadata": {},
   "outputs": [],
   "source": [
    "import dolfinx\n",
    "from mpi4py import MPI\n",
    "\n",
    "mesh = dolfinx.UnitSquareMesh(MPI.COMM_WORLD, 10, 10)\n",
    "t = 0\n",
    "T = 10\n",
    "num_steps = 500\n",
    "dt = T/num_steps"
   ]
  },
  {
   "cell_type": "markdown",
   "metadata": {},
   "source": [
    "As oposed to the previous demos, we will create our two function spaces using the `ufl` element definitions as input"
   ]
  },
  {
   "cell_type": "code",
   "execution_count": 2,
   "metadata": {},
   "outputs": [],
   "source": [
    "import ufl\n",
    "v_cg2 = ufl.VectorElement(\"CG\", mesh.ufl_cell(), 2)\n",
    "s_cg1 = ufl.FiniteElement(\"CG\", mesh.ufl_cell(), 1)\n",
    "V = dolfinx.FunctionSpace(mesh, v_cg2)\n",
    "Q = dolfinx.FunctionSpace(mesh, s_cg1)"
   ]
  },
  {
   "cell_type": "markdown",
   "metadata": {},
   "source": [
    "The first space `V` is a vector valued function space for the velocity, while `Q` is a scalar valued function space for pressure. We use piecewise quadratic elements for the velocity and piecewise linear elements for the pressure. When createing the vector finite element, the dimension of the vector element will be set to the geometric dimension of the mesh. One can easily create vector-valued function spaces with other dimensions by adding the keyword argument dim, i.e.\n",
    "`v_cg = ufl.VectorElement(\"CG\", mesh.ufl_cell(), 2, dim=10)`.\n",
    "\n",
    "```{admonition} Stable finite element spaces for the Navier-Stokes equation\n",
    "It is well-known that certain finite element spacces are not *stable* for the Navier-Stokes equations, or even for the  simpler Stokes equation. The prime example of an unstable pair of finite element spacecs is to use first order degree continuous piecewise polynomials for both the velocity and the pressure.\n",
    "Using an unstable pair of spaces typically results in a solution with *spurious* (unwanted, non-physical) oscillations in the pressure solution. The simple remedy is to use continuous piecewise quadratic elements for the velocity and continuous piecewise linear elements for the pressure. Together, these elements form the so-called *Taylor-Hood* element. Spurious oscillations may occur also for splitting methids if an unstable element pair is used.\n",
    "}\n",
    "Since we have two different function spaces, we need to create two sets of trial and test functions:"
   ]
  },
  {
   "cell_type": "code",
   "execution_count": 3,
   "metadata": {},
   "outputs": [],
   "source": [
    "u = ufl.TrialFunction(V)\n",
    "v = ufl.TestFunction(V)\n",
    "p = ufl.TrialFunction(Q)\n",
    "q = ufl.TestFunction(Q)"
   ]
  },
  {
   "cell_type": "markdown",
   "metadata": {},
   "source": [
    "As we have seen in [Linear elasticty problem](./linearelasticity_code) we can use Python-functions to create the different Dirichlet conditions. For this problem, we have three Dirichlet condition: First, we will set $u=0$ at the walls of the channel, that is at $y=0$ and $y=1$. In this case, we will use `dolfinx.fem.locate_dofs_geometrical`"
   ]
  },
  {
   "cell_type": "code",
   "execution_count": 4,
   "metadata": {},
   "outputs": [],
   "source": [
    "from petsc4py import PETSc\n",
    "import numpy as np\n",
    "def walls(x):\n",
    "    return np.logical_or(np.isclose(x[1],0), np.isclose(x[1],1))\n",
    "wall_dofs = dolfinx.fem.locate_dofs_geometrical(V, walls)\n",
    "u_noslip = dolfinx.Function(V)\n",
    "with u_noslip.vector.localForm() as loc:\n",
    "    loc.set(0)\n",
    "bc_noslip = dolfinx.DirichletBC(u_noslip, wall_dofs)"
   ]
  },
  {
   "cell_type": "markdown",
   "metadata": {},
   "source": [
    "Second, we will set $p=8$ at the inflow ($x=0$)"
   ]
  },
  {
   "cell_type": "code",
   "execution_count": 5,
   "metadata": {},
   "outputs": [],
   "source": [
    "def inflow(x):\n",
    "    return np.isclose(x[0], 0)\n",
    "inflow_dofs = dolfinx.fem.locate_dofs_geometrical(Q, inflow)\n",
    "p_inflow = dolfinx.Function(Q)\n",
    "with p_inflow.vector.localForm() as loc:\n",
    "    loc.set(8)\n",
    "bc_inflow = dolfinx.DirichletBC(p_inflow, inflow_dofs)"
   ]
  },
  {
   "cell_type": "markdown",
   "metadata": {},
   "source": [
    "And finally, $p=0$ at the outflow ($x=1$). This will result in a pressure gradient that will accelerate the flow from the initial state with zero velocity. At the end, we collect the boundary conditions for the velocity and pressure in Python lists so we can easily access them in the following computation."
   ]
  },
  {
   "cell_type": "code",
   "execution_count": 6,
   "metadata": {},
   "outputs": [],
   "source": [
    "def outflow(x):\n",
    "    return np.isclose(x[0], 1)\n",
    "outflow_dofs = dolfinx.fem.locate_dofs_geometrical(Q, outflow)\n",
    "p_outflow = dolfinx.Function(Q)\n",
    "with p_outflow.vector.localForm() as loc:\n",
    "    loc.set(0)\n",
    "bc_outflow = dolfinx.DirichletBC(p_outflow, outflow_dofs)\n",
    "bcu = [bc_noslip]\n",
    "bcp = [bc_inflow, bc_outflow]"
   ]
  },
  {
   "cell_type": "markdown",
   "metadata": {},
   "source": [
    "We now move on to the  definition of the three variational forms, one for each step in the IPCS scheme. Let us look at the definition of the first variational problem and the relevant parameters."
   ]
  },
  {
   "cell_type": "code",
   "execution_count": 7,
   "metadata": {},
   "outputs": [],
   "source": [
    "u_n = dolfinx.Function(V)\n",
    "u_n.name = \"u_n\"\n",
    "U = 0.5*(u_n + u)\n",
    "n = ufl.FacetNormal(mesh)\n",
    "f = dolfinx.Constant(mesh, (0,0))\n",
    "k = dolfinx.Constant(mesh, dt)\n",
    "mu = dolfinx.Constant(mesh, 1)\n",
    "rho = dolfinx.Constant(mesh, 1)"
   ]
  },
  {
   "cell_type": "markdown",
   "metadata": {},
   "source": [
    "```{admonition} Usage of \"dolfinx.Constant\"\n",
    "Note that we have wrapped several parameters as constants. This is to reduce the compilation-time of the variational formulations. By wrapping them as a constant, we can change the variable\n",
    "```\n",
    "The next step is to set up the variational form of the first step.\n",
    "As the variational problem contains a mix of known and unknown quantities, we will use the following naming convention: `u` is the known (mathematically $u^{n+1}$) as a trial function in the variational form. `u_` is the most recently computed approximation ($u^{n+1}$ available as a `Function` object), `u_n` is $u^n$, and the same convetion goes for `p,p_` ($p^{n+1}$) and `p_n` (p^n)."
   ]
  },
  {
   "cell_type": "code",
   "execution_count": 8,
   "metadata": {},
   "outputs": [],
   "source": [
    "from ufl import Identity, div, dot, ds, dx, inner, lhs, nabla_grad, rhs, sym\n",
    "# Define strain-rate tensor\n",
    "def epsilon(u):\n",
    "    return sym(nabla_grad(u))\n",
    "\n",
    "# Define stress tensor\n",
    "def sigma(u, p):\n",
    "    return 2*mu*epsilon(u) - p*Identity(u.geometric_dimension())\n",
    "\n",
    "# Define the variational problem for the first step\n",
    "p_n = dolfinx.Function(Q)\n",
    "p_n.name = \"p_n\"\n",
    "F1 = rho*dot((u - u_n) / k, v)*dx\n",
    "F1 += rho*dot(dot(u_n, nabla_grad(u_n)), v)*dx\n",
    "F1 += inner(sigma(U, p_n), epsilon(v))*dx\n",
    "F1 += dot(p_n*n, v)*ds - dot(mu*nabla_grad(U)*n, v)*ds\n",
    "F1 -= dot(f, v)*dx\n",
    "a1 = lhs(F1)\n",
    "L1 = rhs(F1)"
   ]
  },
  {
   "cell_type": "markdown",
   "metadata": {},
   "source": [
    "Note that we have used the `ufl`-functions `lhs` and `rhs` to sort out the bilinear form $a(u,v)$ and linear form $L(v)$. This is particulary convenient in longer and more complicated variational forms. With our particular discretization $a(u,v)$ `a1` is not time dependent, and only has to be assembled once, while the right hand side is dependent on the solution from the previous time step (`u_n`). Thus, we do as for the [](./heat_code), and create the matrix outside the time-loop."
   ]
  },
  {
   "cell_type": "code",
   "execution_count": 9,
   "metadata": {},
   "outputs": [],
   "source": [
    "A1 = dolfinx.fem.assemble_matrix(a1, bcs=bcu)\n",
    "A1.assemble()\n",
    "b1 = dolfinx.fem.create_vector(L1)"
   ]
  },
  {
   "cell_type": "markdown",
   "metadata": {},
   "source": [
    "We now set up similar variational formulations and structures for the second and third step"
   ]
  },
  {
   "cell_type": "code",
   "execution_count": 10,
   "metadata": {},
   "outputs": [],
   "source": [
    "# Define variational problem for step 2\n",
    "u_ = dolfinx.Function(V)\n",
    "a2 = dot(nabla_grad(p), nabla_grad(q))*dx\n",
    "L2 = dot(nabla_grad(p_n), nabla_grad(q))*dx - (1/k)*div(u_)*q*dx\n",
    "A2 = dolfinx.fem.assemble_matrix(a2, bcs=bcp)\n",
    "A2.assemble()\n",
    "b2 = dolfinx.fem.create_vector(L2)\n",
    "\n",
    "# Define variational problem for step 3\n",
    "p_ = dolfinx.Function(Q)\n",
    "a3 = dot(u, v)*dx\n",
    "L3 = dot(u_, v)*dx - k*dot(nabla_grad(p_ - p_n), v)*dx\n",
    "A3 = dolfinx.fem.assemble_matrix(a3)\n",
    "A3.assemble()\n",
    "b3 = dolfinx.fem.create_vector(L3)"
   ]
  },
  {
   "cell_type": "markdown",
   "metadata": {},
   "source": [
    "As we have create all the linear structures for the problem, we can now create a solver for each of them using PETSc. We can therefore customize the solution strategy for each step. For the tentative velocity step and pressure correction step, we will use the Stabilized version of BiConjugate Gradient to solve the linear system, and using algebraic myltigrid for preconditioning. For the last step, the velocity update, we use a conjugate gradient method with successive over relaxation, Gauss Seidel (SOR) preconditioning."
   ]
  },
  {
   "cell_type": "code",
   "execution_count": 11,
   "metadata": {},
   "outputs": [],
   "source": [
    "# Solver for step 1\n",
    "solver1 = PETSc.KSP().create(mesh.mpi_comm())\n",
    "solver1.setOperators(A1)\n",
    "solver1.setType(PETSc.KSP.Type.BCGS)\n",
    "pc1 = solver1.getPC()\n",
    "pc1.setType(PETSc.PC.Type.HYPRE)\n",
    "pc1.setHYPREType(\"boomeramg\")\n",
    "\n",
    "# Solver for step 2\n",
    "solver2 = PETSc.KSP().create(mesh.mpi_comm())\n",
    "solver2.setOperators(A2)\n",
    "solver2.setType(PETSc.KSP.Type.BCGS)\n",
    "pc2 = solver2.getPC()\n",
    "pc2.setType(PETSc.PC.Type.HYPRE)\n",
    "pc2.setHYPREType(\"boomeramg\")\n",
    "\n",
    "# Solver for step 3\n",
    "solver3 = PETSc.KSP().create(mesh.mpi_comm())\n",
    "solver3.setOperators(A3)\n",
    "solver3.setType(PETSc.KSP.Type.CG)\n",
    "pc3 = solver3.getPC()\n",
    "pc3.setType(PETSc.PC.Type.SOR)"
   ]
  },
  {
   "cell_type": "markdown",
   "metadata": {},
   "source": [
    "We prepare output files for the velocity and pressure data, and write the mesh and initial conditions to file"
   ]
  },
  {
   "cell_type": "code",
   "execution_count": 12,
   "metadata": {},
   "outputs": [],
   "source": [
    "import dolfinx.io\n",
    "xdmf = dolfinx.io.XDMFFile(MPI.COMM_WORLD, \"poiseuille.xdmf\", \"w\")\n",
    "xdmf.write_mesh(mesh)\n",
    "xdmf.write_function(u_n, t)\n",
    "xdmf.write_function(p_n, t)"
   ]
  },
  {
   "cell_type": "markdown",
   "metadata": {},
   "source": [
    "We also interpolate the analytical solution into our function-space and create a variational formulation for the $L^2$-error.\n"
   ]
  },
  {
   "cell_type": "code",
   "execution_count": 13,
   "metadata": {},
   "outputs": [],
   "source": [
    "import numpy as np\n",
    "def u_exact(x):\n",
    "    values = np.zeros((2, x.shape[1]), dtype=PETSc.ScalarType)\n",
    "    values[0] = 4*x[1]*(1.0 - x[1])\n",
    "    return values\n",
    "u_ex = dolfinx.Function(V)\n",
    "u_ex.interpolate(u_exact)\n",
    "u_ex.vector.ghostUpdate(addv=PETSc.InsertMode.INSERT_VALUES, mode=PETSc.ScatterMode.FORWARD)\n",
    "\n",
    "L2_error = dot(u_ - u_ex, u_ - u_ex)*dx\n"
   ]
  },
  {
   "cell_type": "markdown",
   "metadata": {},
   "source": [
    "The next step is to create the loop over time. Note that we for all three steps only have to assemble the right hand side and apply the boundary condition using lifting."
   ]
  },
  {
   "cell_type": "code",
   "execution_count": 14,
   "metadata": {
    "tags": []
   },
   "outputs": [
    {
     "name": "stdout",
     "output_type": "stream",
     "text": [
      "Time 0.02, L2-error 5.88e-01, Max error 1.60e-01\n",
      "Time 0.42, L2-error 1.09e-02, Max error 1.28e-04\n",
      "Time 0.82, L2-error 2.11e-04, Max error 2.61e-04\n",
      "Time 1.22, L2-error 2.00e-05, Max error 1.52e-04\n",
      "Time 1.62, L2-error 9.53e-06, Max error 8.04e-05\n",
      "Time 2.02, L2-error 5.79e-06, Max error 4.82e-05\n",
      "Time 2.42, L2-error 4.37e-06, Max error 3.19e-05\n",
      "Time 2.82, L2-error 3.76e-06, Max error 2.27e-05\n",
      "Time 3.22, L2-error 3.45e-06, Max error 1.71e-05\n",
      "Time 3.62, L2-error 3.28e-06, Max error 1.33e-05\n",
      "Time 4.02, L2-error 3.17e-06, Max error 1.07e-05\n",
      "Time 4.42, L2-error 3.11e-06, Max error 8.79e-06\n",
      "Time 4.82, L2-error 3.07e-06, Max error 7.38e-06\n",
      "Time 5.22, L2-error 3.04e-06, Max error 6.98e-06\n",
      "Time 5.62, L2-error 3.03e-06, Max error 7.42e-06\n",
      "Time 6.02, L2-error 3.02e-06, Max error 7.75e-06\n",
      "Time 6.42, L2-error 3.01e-06, Max error 8.02e-06\n",
      "Time 6.82, L2-error 3.01e-06, Max error 8.23e-06\n",
      "Time 7.22, L2-error 3.00e-06, Max error 8.39e-06\n",
      "Time 7.62, L2-error 3.00e-06, Max error 8.53e-06\n",
      "Time 8.02, L2-error 3.00e-06, Max error 8.63e-06\n",
      "Time 8.42, L2-error 3.00e-06, Max error 8.72e-06\n",
      "Time 8.82, L2-error 3.00e-06, Max error 8.79e-06\n",
      "Time 9.22, L2-error 3.00e-06, Max error 8.84e-06\n",
      "Time 9.62, L2-error 3.00e-06, Max error 8.89e-06\n",
      "Time 10.00, L2-error 3.00e-06, Max error 9.25e-06\n"
     ]
    }
   ],
   "source": [
    "for i in range(num_steps):\n",
    "    # Update current time step\n",
    "    t += dt\n",
    "\n",
    "    # Step 1: Tentative veolcity step\n",
    "    with b1.localForm() as loc_1:\n",
    "        loc_1.set(0)\n",
    "    dolfinx.fem.assemble_vector(b1, L1)\n",
    "    dolfinx.fem.apply_lifting(b1, [a1], [bcu])\n",
    "    b1.ghostUpdate(addv=PETSc.InsertMode.ADD_VALUES, mode=PETSc.ScatterMode.REVERSE)\n",
    "    dolfinx.fem.set_bc(b1, bcu)\n",
    "    solver1.solve(b1, u_.vector)\n",
    "    u_.vector.ghostUpdate(addv=PETSc.InsertMode.INSERT, mode=PETSc.ScatterMode.FORWARD)\n",
    "    \n",
    "    # Step 2: Pressure corrrection step\n",
    "    with b2.localForm() as loc_2:\n",
    "        loc_2.set(0)\n",
    "    dolfinx.fem.assemble_vector(b2, L2)\n",
    "    dolfinx.fem.apply_lifting(b2, [a2], [bcp])\n",
    "    b2.ghostUpdate(addv=PETSc.InsertMode.ADD_VALUES, mode=PETSc.ScatterMode.REVERSE)\n",
    "    dolfinx.fem.set_bc(b2, bcp)\n",
    "    solver2.solve(b2, p_.vector)\n",
    "    p_.vector.ghostUpdate(addv=PETSc.InsertMode.INSERT, mode=PETSc.ScatterMode.FORWARD)\n",
    "\n",
    "    # Step 3: Velocity correction step\n",
    "    with b3.localForm() as loc_3:\n",
    "        loc_3.set(0)\n",
    "    dolfinx.fem.assemble_vector(b3, L3)\n",
    "    b3.ghostUpdate(addv=PETSc.InsertMode.ADD_VALUES, mode=PETSc.ScatterMode.REVERSE)\n",
    "    solver3.solve(b3, u_.vector)\n",
    "    \n",
    "    # Update variable with solution form this time step\n",
    "    with u_.vector.localForm() as loc_, u_n.vector.localForm() as loc_n:\n",
    "        loc_.copy(loc_n)\n",
    "    with p_.vector.localForm() as loc_, p_n.vector.localForm() as loc_n:\n",
    "        loc_.copy(loc_n)\n",
    "    # Write solutions to file\n",
    "    xdmf.write_function(u_n, t)\n",
    "    xdmf.write_function(p_n, t)\n",
    "\n",
    "    # Compute error at current time-step\n",
    "    error_L2 = np.sqrt(MPI.COMM_WORLD.allreduce(dolfinx.fem.assemble_scalar(L2_error), op=MPI.SUM))\n",
    "    error_max = MPI.COMM_WORLD.allreduce(np.max(u_.vector.array - u_ex.vector.array), op=MPI.MAX)\n",
    "    # Print error only every 20th step and at the last step\n",
    "    if (i % 20 == 0) or (i == num_steps - 1):\n",
    "        print(\"Time {0:.2f}, L2-error {1:.2e}, Max error {2:.2e}\".format(t, error_L2, error_max))\n",
    "# Close xmdf file\n",
    "xdmf.close()\n"
   ]
  },
  {
   "cell_type": "markdown",
   "metadata": {},
   "source": [
    "## Verification\n",
    "As for the previous problems we compute the error at each degree of freedom and the $L^2(\\Omega)$-error. We start with the  initial condition $u=(0,0)$. We have not specified the initial condition explicitly, and FEniCS-X wil initialize all `Function`s including `u_n` and `u_` to zero. Since the exact solution is quadratic, we expect to reach machine precision within finite time. For our implementation, we observe that the error quickly approaches zero, and is of order $10^{-6}$ at $T=10\n",
    "\n",
    "## Visualization of higher order functions\n",
    "As the velocity field $u$ is a second order Lagrangian space, it's degrees of freedom does not align with the mesh vertices.\n",
    "To be able to visualize this, we use the convenience function `dolfinx.plot.create_vtk_topology`. However, we will send in the function-space of the velocity field."
   ]
  },
  {
   "cell_type": "code",
   "execution_count": 17,
   "metadata": {},
   "outputs": [
    {
     "data": {
      "image/png": "[encoded data removed]",
      "text/plain": [
       "<PIL.Image.Image image mode=RGB size=1024x768 at 0x7F8E54149EE0>"
      ]
     },
     "metadata": {},
     "output_type": "display_data"
    }
   ],
   "source": [
    "import dolfinx.plot\n",
    "import pyvista\n",
    "# Start xvfb for rendering plots\n",
    "from pyvista.utilities.xvfb import start_xvfb\n",
    "start_xvfb(wait=0)\n",
    "\n",
    "topology, cell_types = dolfinx.plot.create_vtk_topology(V)\n",
    "# To make this function work in parallel, we only consider ghosts owned by the current process\n",
    "num_dofs_local = V.dofmap.index_map.size_local\n",
    "# We create a geometry for our modified mesh using the dof coordinates\n",
    "geometry = V.tabulate_dof_coordinates()[:num_dofs_local]\n",
    "# As we are dealing with a vector field, we reshape the underlying dof array to accommedate for the three dimensional space\n",
    "values = np.zeros((V.dofmap.index_map.size_local, 3), dtype=np.float64)\n",
    "values[:, :mesh.geometry.dim] = u_n.vector.array.real.reshape(V.dofmap.index_map.size_local, V.dofmap.index_map_bs)\n",
    "\n",
    "# Create a point cloud of glyphs\n",
    "function_grid = pyvista.UnstructuredGrid(topology, cell_types, geometry)\n",
    "function_grid[\"u\"] = values\n",
    "glyphs = function_grid.glyph(orient=\"u\", factor=0.2)\n",
    "\n",
    "# Create a pyvista-grid for the mesh\n",
    "topology_m, cell_types_m = dolfinx.plot.create_vtk_topology(mesh, mesh.topology.dim)\n",
    "grid = pyvista.UnstructuredGrid(topology_m, cell_types_m, mesh.geometry.x)\n",
    "\n",
    "# Create plotter\n",
    "plotter = pyvista.Plotter()\n",
    "plotter.add_mesh(grid, style=\"wireframe\", color=\"k\")\n",
    "plotter.add_mesh(glyphs)\n",
    "plotter.view_xy()\n",
    "if not pyvista.OFF_SCREEN:\n",
    "    plotter.show()\n",
    "fig_as_array = plotter.screenshot(\"glyphs.png\")"
   ]
  },
  {
   "cell_type": "markdown",
   "metadata": {},
   "source": [
    "![Velocity field](glyphs.png)"
   ]
  },
  {
   "cell_type": "code",
   "execution_count": null,
   "metadata": {},
   "outputs": [],
   "source": []
  }
 ],
 "metadata": {
  "kernelspec": {
   "display_name": "Python 3",
   "language": "python",
   "name": "python3"
  },
  "language_info": {
   "codemirror_mode": {
    "name": "ipython",
    "version": 3
   },
   "file_extension": ".py",
   "mimetype": "text/x-python",
   "name": "python",
   "nbconvert_exporter": "python",
   "pygments_lexer": "ipython3",
   "version": "3.8.5"
  }
 },
 "nbformat": 4,
 "nbformat_minor": 4
}
