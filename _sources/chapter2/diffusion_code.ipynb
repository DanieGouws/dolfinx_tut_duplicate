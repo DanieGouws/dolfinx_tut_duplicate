{
 "cells": [
  {
   "cell_type": "markdown",
   "metadata": {},
   "source": [
    "# Diffusion of a Gaussian function\n",
    "\n",
    "Author: Jørgen S. Dokken\n",
    "\n",
    "Let us now solve a more interesting problem, namely the diffusion of a Gaussian hill. We take the initial value to be \n",
    "\\begin{align}\n",
    "    u_0(x,y)&= e^{-ax^2-ay^2}\n",
    "\\end{align}\n",
    "for $a=5$ on the domain $[-2,-2]\\times[2,2]$. For this problem we will use homogeneous Dirichlet boundary conditions ($u_D=0$).\n",
    "\n",
    "The first difference from the previous problem is that we are not using a unit square. We create the rectangular domain with `dolfinx.RectangleMesh`."
   ]
  },
  {
   "cell_type": "code",
   "execution_count": 1,
   "metadata": {},
   "outputs": [],
   "source": [
    "import dolfinx\n",
    "import numpy as np\n",
    "from dolfinx.cpp.mesh import CellType\n",
    "from mpi4py import MPI\n",
    "from petsc4py import PETSc\n",
    "\n",
    "# Define temporal parameters\n",
    "t = 0 # Start time\n",
    "T = 2.0 # Final time\n",
    "num_steps = 61     \n",
    "dt = T / num_steps # time step size\n",
    "\n",
    "# Define mesh\n",
    "nx, ny = 50, 50\n",
    "mesh = dolfinx.RectangleMesh(MPI.COMM_WORLD, [np.array([-2, -2, 0]), np.array([2, 2, 0])], [nx, ny], CellType.triangle)\n",
    "V = dolfinx.FunctionSpace(mesh, (\"CG\", 1))"
   ]
  },
  {
   "cell_type": "markdown",
   "metadata": {},
   "source": [
    "Note that we have used a much higher resolution that before to better resolve features of the solution. \n",
    "We also easily update the intial and boundary conditions. Instead of using a class to define the initial condition, we simply use a function"
   ]
  },
  {
   "cell_type": "code",
   "execution_count": 2,
   "metadata": {},
   "outputs": [],
   "source": [
    "# Create initial condition\n",
    "def initial_condition(x):\n",
    "    a = 5\n",
    "    return np.exp(-a*(x[0]**2+x[1]**2))\n",
    "u_n = dolfinx.Function(V)\n",
    "u_n.name = \"u_n\"\n",
    "u_n.interpolate(initial_condition)\n",
    "u_n.vector.ghostUpdate(addv=PETSc.InsertMode.INSERT, mode=PETSc.ScatterMode.FORWARD)\n",
    "\n",
    "# Create boundary condition\n",
    "u_D = dolfinx.Function(V)\n",
    "with u_D.vector.localForm() as loc:\n",
    "    loc.set(0)\n",
    "fdim = mesh.topology.dim - 1\n",
    "boundary_facets = dolfinx.mesh.locate_entities_boundary(\n",
    "    mesh, fdim, lambda x: np.full(x.shape[1], True, dtype=np.bool))\n",
    "bc = dolfinx.DirichletBC(u_D, dolfinx.fem.locate_dofs_topological(V, fdim, boundary_facets))"
   ]
  },
  {
   "cell_type": "markdown",
   "metadata": {},
   "source": [
    "## Time-dependent output\n",
    "To visualize the solution in an external program such as Paraview, we create a an `XDMFFile` which we can store multiple solutions in. The main advantage with an XDMFFile, is that we only need to store the mesh once, and can append multiple solutions to the same grid, reducing the storage space.\n",
    "The first argument to the XDMFFile is which communicator should be used to store the data. As we would like one output, independent of the number of processors, we use the `COMM_WORLD`. The second argument is the file name of the output file, while the third argument is the state of the file, \n",
    "this could be read (`\"r\"`), write (`\"w\"`) or append (`\"a\"`)."
   ]
  },
  {
   "cell_type": "code",
   "execution_count": 3,
   "metadata": {},
   "outputs": [],
   "source": [
    "from dolfinx.io import XDMFFile\n",
    "xdmf = XDMFFile(MPI.COMM_WORLD, \"diffusion.xdmf\", \"w\")\n",
    "xdmf.write_mesh(mesh)\n",
    "# Define solution variable, and interpolate initial solution for visualization in Paraview\n",
    "uh = dolfinx.Function(V)\n",
    "uh.name = \"uh\"\n",
    "uh.interpolate(initial_condition)\n",
    "uh.vector.ghostUpdate(addv=PETSc.InsertMode.INSERT, mode=PETSc.ScatterMode.FORWARD)\n",
    "xdmf.write_function(uh, t)"
   ]
  },
  {
   "cell_type": "markdown",
   "metadata": {},
   "source": [
    "## Variational problem and solver\n",
    "As in the previous example, we prepare objects for time dependent problems, such that we do not have to recreate data-structures."
   ]
  },
  {
   "cell_type": "code",
   "execution_count": 4,
   "metadata": {},
   "outputs": [],
   "source": [
    "import ufl\n",
    "u, v = ufl.TrialFunction(V), ufl.TestFunction(V)\n",
    "f = dolfinx.Constant(mesh, 0)\n",
    "a = u * v * ufl.dx + dt*ufl.dot(ufl.grad(u), ufl.grad(v)) * ufl.dx \n",
    "L = (u_n + dt * f) * v * ufl.dx"
   ]
  },
  {
   "cell_type": "markdown",
   "metadata": {},
   "source": [
    "## Preparing linear algebra structures for time dependent problems\n",
    "We observe that the left hand side of the system, the matrix $A$ does not change from one time step to another, thus we only need to assemble it once. However, the right hand side, which is dependent on the previous time step `u_n`, we have to assemble it every time step. Therefore, we only create a vector `b` based on `L`, which we will reuse at every time step.  \n"
   ]
  },
  {
   "cell_type": "code",
   "execution_count": 5,
   "metadata": {},
   "outputs": [],
   "source": [
    "A = dolfinx.fem.assemble_matrix(a, bcs=[bc])\n",
    "A.assemble()\n",
    "b = dolfinx.fem.create_vector(L)"
   ]
  },
  {
   "cell_type": "markdown",
   "metadata": {},
   "source": [
    "## Using petsc4py to create a linear solver\n",
    "As we have already assembled `a` into the matrix `A`, we can no longer use the `dolfinx.fem.LinearProblem` class to solve the problem. Therefore, we create a linear algebra solver using PETSc, and assign the matrix `A` to the solver, and choose the solution strategy."
   ]
  },
  {
   "cell_type": "code",
   "execution_count": 6,
   "metadata": {},
   "outputs": [],
   "source": [
    "solver = PETSc.KSP().create(mesh.mpi_comm())\n",
    "solver.setOperators(A)\n",
    "solver.setType(PETSc.KSP.Type.PREONLY)\n",
    "solver.getPC().setType(PETSc.PC.Type.LU)"
   ]
  },
  {
   "cell_type": "markdown",
   "metadata": {},
   "source": [
    "## Visualization of time dependent problem using pyvista\n",
    "We use the dolfin-X plotting functionality, which is based on pyvista to plot the solution at every $15$th time step. We would also like to visualize a colorbar reflecting the minimal and maximum value of $u$ at each time step. We use the following convenience function `plot_function` for this:"
   ]
  },
  {
   "cell_type": "code",
   "execution_count": 7,
   "metadata": {},
   "outputs": [],
   "source": [
    "import pyvista\n",
    "import dolfinx.plot\n",
    "# Activate framebuffer, required for visualziation\n",
    "from pyvista.utilities.xvfb import start_xvfb\n",
    "start_xvfb(wait=0)\n",
    "\n",
    "# Set off_screen to False if running in a notebook\n",
    "off_screen = True\n",
    "# Create background plotter and mesh to attach values to\n",
    "topology, cell_types = dolfinx.plot.create_vtk_topology(mesh, mesh.topology.dim)\n",
    "grid = pyvista.UnstructuredGrid(topology, cell_types, mesh.geometry.x)\n",
    "\n",
    "def plot_function(t, uh, off_screen):\n",
    "    \"\"\"\n",
    "    Create a figure of the concentration uh warped visualized in 3D at timet step t.\n",
    "    \"\"\"\n",
    "    p = pyvista.Plotter(off_screen=off_screen, title=\"Concentration\", window_size=[800, 800])\n",
    "    # Add time-stamp\n",
    "    p.add_text(f\"Time: {t}\", font_size=12, name=\"timelabel\")\n",
    "    # Update point values on pyvista grid\n",
    "    grid.point_arrays[\"u\"] = uh.compute_point_values().real\n",
    "    # Warp mesh by point values\n",
    "    warped = grid.warp_by_scalar(\"u\", factor=1.5)\n",
    "\n",
    "    # Add mesh to plotter and visualize in notebook or save as figure\n",
    "    actor = p.add_mesh(warped)\n",
    "    if off_screen:\n",
    "       p.screenshot(f\"diffusion_{t:.2f}.png\")\n",
    "    else:\n",
    "       p.show()\n",
    "    # Clear plotter for next plot\n",
    "    p.remove_actor(actor)\n",
    "plot_function(0, uh, off_screen)\n",
    "# Uncomment to create interactive plot of the initial condition\n",
    "# plotter_ITK = pyvista.PlotterITK()\n",
    "# plotter_ITK.add_mesh(grid)\n",
    "# plotter_ITK.show(True)"
   ]
  },
  {
   "cell_type": "markdown",
   "metadata": {},
   "source": [
    "## Updating the solution and right hand side per time step\n",
    "To be able to solve the variation problem at each time step, we have to assemble the right hand side and apply the boundary condition before calling\n",
    "`solver.solve(b, uh.vector)`. We start by resetting the values in `b` as we are reusing the vector at every time step. \n",
    "The next step is to assemble the vector, calling `dolfinx.fem.assemble(b, L)` which means that we are assemble the linear for `L(v)` into the vector `b`. Note that we do not supply the boundary conditions for assembly, as opposed to the left hand side. \n",
    "This is because we want to use lifting to apply the boundary condition, which preserves symmetry of the matrix $A$ if the bilinear form $a(u,v)=a(v,u)$ without Dirichlet boundary conditions.\n",
    "When we have applied the boundary condition, we can solve the linear system abd update values that are potentially shared between processors.\n",
    "Finally, before moving to the next time step, we update the solution at the previous time step to the solution at this time step."
   ]
  },
  {
   "cell_type": "code",
   "execution_count": 8,
   "metadata": {},
   "outputs": [],
   "source": [
    "for i in range(num_steps):\n",
    "    t += dt\n",
    "\n",
    "    # Update the right hand side reusing the initial vector\n",
    "    with b.localForm() as loc_b:\n",
    "        loc_b.set(0)\n",
    "    dolfinx.fem.assemble_vector(b, L)\n",
    "    \n",
    "    # Apply Dirichlet boundary condition to the vector\n",
    "    dolfinx.fem.apply_lifting(b, [a], [[bc]])\n",
    "    b.ghostUpdate(addv=PETSc.InsertMode.ADD_VALUES, mode=PETSc.ScatterMode.REVERSE)\n",
    "    dolfinx.fem.set_bc(b, [bc])\n",
    "\n",
    "    # Solve linear problem\n",
    "    solver.solve(b, uh.vector)\n",
    "    uh.vector.ghostUpdate(addv=PETSc.InsertMode.INSERT_VALUES, mode=PETSc.ScatterMode.FORWARD)\n",
    "\n",
    "    # Update solution at previous time step (u_n)\n",
    "    with uh.vector.localForm() as loc, u_n.vector.localForm() as loc_n:\n",
    "        loc.copy(result=loc_n)\n",
    "\n",
    "    # Write solution to file\n",
    "    xdmf.write_function(uh, t)\n",
    "    # Plot every 20th time step\n",
    "    if i % 15 == 0:\n",
    "        plot_function(t, uh, off_screen)\n",
    "\n",
    "xdmf.close()"
   ]
  },
  {
   "cell_type": "markdown",
   "metadata": {},
   "source": [
    "We obtain the following sequence\n",
    "\n",
    "![diff0.00](diffusion_0.00.png)\n",
    "![diff0.03](diffusion_0.03.png)\n",
    "![diff0.52](diffusion_0.52.png)\n",
    "![diff1.02](diffusion_1.02.png)\n",
    "![diff1.51](diffusion_1.51.png)\n",
    "![diff2.00](diffusion_2.00.png)\n",
    "\n",
    "## Animation with Paraview\n",
    "We can also use Paraview to create an animation. We open the file in paraview with `File->Open`, and then press `Apply` in the properties panel.\n",
    "\n",
    "Then, we add a time-annotation to the figure, pressing: `Sources->Alphabetical->Annotate Time` and `Apply` in the properties panel. It Is also a good idea to select an output resolution, by pressing `View->Preview->1280 x 720 (HD)`.\n",
    "\n",
    "Then finally, click `File->Save Animation`, and save the animation to the desired format, such as `avi`, `ogv` or a sequence of `png`s. Make sure to set the framerate to something, sensible, in the range of $5-10$ frames per second."
   ]
  }
 ],
 "metadata": {
  "kernelspec": {
   "display_name": "Python 3",
   "language": "python",
   "name": "python3"
  },
  "language_info": {
   "codemirror_mode": {
    "name": "ipython",
    "version": 3
   },
   "file_extension": ".py",
   "mimetype": "text/x-python",
   "name": "python",
   "nbconvert_exporter": "python",
   "pygments_lexer": "ipython3",
   "version": "3.8.5"
  }
 },
 "nbformat": 4,
 "nbformat_minor": 4
}
