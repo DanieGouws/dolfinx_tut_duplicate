{
 "cells": [
  {
   "cell_type": "markdown",
   "id": "supreme-malpractice",
   "metadata": {},
   "source": [
    "# Hyperelasticity\n",
    "Author: Jørgen S. Dokken and Garth N. Wells\n",
    "\n",
    "This section shows how to solve the hyperelasticity problem for deformation of a beam.\n",
    "\n",
    "We will also show how to create a constant boundary condition for a vector function space.\n",
    "\n",
    "We start by importing DOLFINx and some additional dependencies.\n",
    "Then, we create a slender cantilever consisting of hexahedral elements and create the function space `V` for our unknown."
   ]
  },
  {
   "cell_type": "code",
   "execution_count": 1,
   "id": "optional-cameroon",
   "metadata": {},
   "outputs": [],
   "source": [
    "import numpy as np\n",
    "import ufl\n",
    "\n",
    "from petsc4py import PETSc\n",
    "from mpi4py import MPI\n",
    "from dolfinx import fem\n",
    "from dolfinx.mesh import CellType, MeshTags, create_box, locate_entities_boundary\n",
    "L = 20.0\n",
    "mesh = create_box(MPI.COMM_WORLD,[[0.0,0.0,0.0], [L, 1, 1]], [20, 5, 5], CellType.hexahedron)\n",
    "V = fem.VectorFunctionSpace(mesh, (\"CG\", 2))"
   ]
  },
  {
   "cell_type": "markdown",
   "id": "streaming-neutral",
   "metadata": {},
   "source": [
    "We create two python functions for determining the facets to apply boundary conditions to"
   ]
  },
  {
   "cell_type": "code",
   "execution_count": 2,
   "id": "major-factor",
   "metadata": {},
   "outputs": [],
   "source": [
    "def left(x):\n",
    "    return np.isclose(x[0], 0)\n",
    "\n",
    "def right(x):\n",
    "    return np.isclose(x[0], L)\n",
    "\n",
    "left_facets = locate_entities_boundary(mesh, mesh.topology.dim - 1, left)\n",
    "right_facets = locate_entities_boundary(mesh, mesh.topology.dim - 1, right)"
   ]
  },
  {
   "cell_type": "markdown",
   "id": "figured-world",
   "metadata": {},
   "source": [
    "Next, we create a  marker based on these two functions"
   ]
  },
  {
   "cell_type": "code",
   "execution_count": 3,
   "id": "dated-india",
   "metadata": {},
   "outputs": [],
   "source": [
    "# Concatenate and sort the arrays based on facet indices. Left facets marked with 1, right facets with two\n",
    "marked_facets = np.hstack([left_facets, right_facets])\n",
    "marked_values = np.hstack([np.full(len(left_facets), 1, dtype=np.int32), np.full(len(right_facets), 2, dtype=np.int32)])\n",
    "sorted_facets = np.argsort(marked_facets)\n",
    "facet_tag = MeshTags(mesh, mesh.topology.dim-1, marked_facets[sorted_facets], marked_values[sorted_facets])"
   ]
  },
  {
   "cell_type": "markdown",
   "id": "renewable-glossary",
   "metadata": {},
   "source": [
    "We then create a function for supplying the boundary condition on the left side, which is fixed."
   ]
  },
  {
   "cell_type": "code",
   "execution_count": 9,
   "id": "confidential-french",
   "metadata": {},
   "outputs": [],
   "source": [
    "u_bc = np.array((0,) * mesh.geometry.dim, dtype=PETSc.ScalarType)"
   ]
  },
  {
   "cell_type": "markdown",
   "id": "musical-documentation",
   "metadata": {},
   "source": [
    "To apply the boundary condition, we identity the dofs located on the facets marked by the `MeshTag`."
   ]
  },
  {
   "cell_type": "code",
   "execution_count": 10,
   "id": "written-monster",
   "metadata": {},
   "outputs": [],
   "source": [
    "left_dofs = fem.locate_dofs_topological(V, facet_tag.dim, facet_tag.indices[facet_tag.values==1])\n",
    "bcs = [fem.DirichletBC(u_bc, left_dofs, V)]"
   ]
  },
  {
   "cell_type": "markdown",
   "id": "indoor-chester",
   "metadata": {},
   "source": [
    "Next, we define the body force on the reference configuration (`B`), and nominal (first Piola-Kirchhoff) traction (`T`). "
   ]
  },
  {
   "cell_type": "code",
   "execution_count": 11,
   "id": "korean-carol",
   "metadata": {},
   "outputs": [],
   "source": [
    "B = fem.Constant(mesh, PETSc.ScalarType((0, 0, 0)))\n",
    "T = fem.Constant(mesh, PETSc.ScalarType((0, 0, 0)))"
   ]
  },
  {
   "cell_type": "markdown",
   "id": "blond-dynamics",
   "metadata": {},
   "source": [
    "Define the test and solution functions on the space $V$"
   ]
  },
  {
   "cell_type": "code",
   "execution_count": 12,
   "id": "vocational-experiment",
   "metadata": {},
   "outputs": [],
   "source": [
    "v = ufl.TestFunction(V)\n",
    "u = fem.Function(V)"
   ]
  },
  {
   "cell_type": "markdown",
   "id": "bright-belle",
   "metadata": {},
   "source": [
    "Define kinematic quantities used in the problem"
   ]
  },
  {
   "cell_type": "code",
   "execution_count": 13,
   "id": "vertical-original",
   "metadata": {},
   "outputs": [],
   "source": [
    "# Spatial dimension\n",
    "d = len(u)\n",
    "\n",
    "# Identity tensor\n",
    "I = ufl.variable(ufl.Identity(d))\n",
    "\n",
    "# Deformation gradient\n",
    "F = ufl.variable(I + ufl.grad(u))\n",
    "\n",
    "# Right Cauchy-Green tensor\n",
    "C = ufl.variable(F.T * F)\n",
    "\n",
    "# Invariants of deformation tensors\n",
    "Ic = ufl.variable(ufl.tr(C))\n",
    "J  = ufl.variable(ufl.det(F))"
   ]
  },
  {
   "cell_type": "markdown",
   "id": "respiratory-compromise",
   "metadata": {},
   "source": [
    "Define the elasticity model via a stored strain energy density function $\\psi$, and create the expression for the first Piola-Kirchhoff stress:"
   ]
  },
  {
   "cell_type": "code",
   "execution_count": 14,
   "id": "incorrect-hello",
   "metadata": {},
   "outputs": [],
   "source": [
    "# Elasticity parameters\n",
    "E = PETSc.ScalarType(1.0e4)\n",
    "nu = PETSc.ScalarType(0.3)\n",
    "mu = fem.Constant(mesh, E/(2*(1 + nu)))\n",
    "lmbda = fem.Constant(mesh, E*nu/((1 + nu)*(1 - 2*nu)))\n",
    "# Stored strain energy density (compressible neo-Hookean model)\n",
    "psi = (mu / 2) * (Ic - 3) - mu * ufl.ln(J) + (lmbda / 2) * (ufl.ln(J))**2\n",
    "# Stress\n",
    "# Hyper-elasticity\n",
    "P = ufl.diff(psi, F)"
   ]
  },
  {
   "cell_type": "markdown",
   "id": "grateful-battlefield",
   "metadata": {},
   "source": [
    "```{admonition} Comparison to linear elasticity\n",
    "To illustrate the difference between linear and hyperelasticity, the following lines can be uncommented to solve the linear elasticity problem.\n",
    "```"
   ]
  },
  {
   "cell_type": "code",
   "execution_count": 15,
   "id": "imperial-jurisdiction",
   "metadata": {},
   "outputs": [],
   "source": [
    "# P = 2.0 * mu * ufl.sym(ufl.grad(u)) + lmbda * ufl.tr(ufl.sym(ufl.grad(u))) * I"
   ]
  },
  {
   "cell_type": "markdown",
   "id": "alleged-genesis",
   "metadata": {},
   "source": [
    "Define the variational form with traction integral over all facets with value 2. We set the quadrature degree for the integrals to 4."
   ]
  },
  {
   "cell_type": "code",
   "execution_count": 16,
   "id": "recognized-conclusion",
   "metadata": {},
   "outputs": [],
   "source": [
    "metadata = {\"quadrature_degree\": 4}\n",
    "ds = ufl.Measure('ds', subdomain_data=facet_tag, metadata=metadata)\n",
    "dx = ufl.Measure(\"dx\", metadata=metadata)\n",
    "# Define form F (we want to find u such that F(u) = 0)\n",
    "F = ufl.inner(ufl.grad(v), P)*dx - ufl.inner(v, B)*dx - ufl.inner(v, T)*ds(2) "
   ]
  },
  {
   "cell_type": "markdown",
   "id": "historic-sherman",
   "metadata": {},
   "source": [
    "As the varitional form is non-linear and written on residual form, we use the non-linear problem class from DOLFINx to set up required structures to use a Newton solver."
   ]
  },
  {
   "cell_type": "code",
   "execution_count": 17,
   "id": "threatened-devices",
   "metadata": {},
   "outputs": [],
   "source": [
    "problem = fem.NonlinearProblem(F, u, bcs)"
   ]
  },
  {
   "cell_type": "markdown",
   "id": "qualified-phrase",
   "metadata": {},
   "source": [
    "and then create and customize the Newton solver"
   ]
  },
  {
   "cell_type": "code",
   "execution_count": 18,
   "id": "special-globe",
   "metadata": {},
   "outputs": [],
   "source": [
    "from dolfinx.nls import NewtonSolver\n",
    "solver = NewtonSolver(MPI.COMM_WORLD, problem)\n",
    "\n",
    "# Set Newton solver options\n",
    "solver.atol = 1e-8\n",
    "solver.rtol = 1e-8\n",
    "solver.convergence_criterion = \"incremental\""
   ]
  },
  {
   "cell_type": "markdown",
   "id": "marked-hungary",
   "metadata": {},
   "source": [
    "We create a function to plot the solution at each time step."
   ]
  },
  {
   "cell_type": "code",
   "execution_count": 19,
   "id": "noble-perception",
   "metadata": {},
   "outputs": [
    {
     "name": "stderr",
     "output_type": "stream",
     "text": [
      "WARNING:py.warnings:/usr/local/dolfinx-real/lib/python3.8/dist-packages/dolfinx/plot.py:120: UserWarning: Plotting of higher order functions is experimental.\n",
      "  warnings.warn(\"Plotting of higher order functions is experimental.\")\n",
      "\n"
     ]
    },
    {
     "data": {
      "application/vnd.jupyter.widget-view+json": {
       "model_id": "4749a09f709c4505a0a11a77dcd8f562",
       "version_major": 2,
       "version_minor": 0
      },
      "text/plain": [
       "ViewInteractiveWidget(height=480, layout=Layout(height='auto', width='100%'), width=960)"
      ]
     },
     "metadata": {},
     "output_type": "display_data"
    }
   ],
   "source": [
    "import pyvista\n",
    "from dolfinx.plot import create_vtk_topology\n",
    "# Activate framebuffer, required for visualziation\n",
    "pyvista.start_xvfb(wait=0.05)\n",
    "# Create background plotter and mesh to attach values to\n",
    "topology, cell_types = create_vtk_topology(mesh, mesh.topology.dim)\n",
    "grid = pyvista.UnstructuredGrid(topology, cell_types, mesh.geometry.x)\n",
    "def plot_function(t, uh):\n",
    "    \"\"\"\n",
    "    Create a figure of the concentration uh warped visualized in 3D at timet step t.\n",
    "    \"\"\"\n",
    "    p = pyvista.Plotter(window_size=[960,480])\n",
    "    # Add time-stamp\n",
    "    p.add_text(f\"Time: {t}\", font_size=12, name=\"timelabel\")\n",
    "    p.add_text(\"Deformed configuration\", name=\"title\", position=\"upper_edge\")\n",
    "   \n",
    "    # Update point values on pyvista grid\n",
    "\n",
    "    topology, cell_types = create_vtk_topology(V)\n",
    "     # We create a geometry for our modified mesh using the dof coordinates\n",
    "    geometry = V.tabulate_dof_coordinates()\n",
    "    # As we are dealing with a vector field, we reshape the underlying dof array to accommedate for the three dimensional space\n",
    "    num_dofs = V.dofmap.index_map.size_local + V.dofmap.index_map.num_ghosts\n",
    "    values = np.zeros((num_dofs, 3), dtype=np.float64)\n",
    "    values[:, :mesh.geometry.dim] = uh.x.array.real.reshape(num_dofs, V.dofmap.index_map_bs)\n",
    "\n",
    "    # Create grid defined by the function space for visualization\n",
    "    function_grid = pyvista.UnstructuredGrid(topology, cell_types, geometry)\n",
    "    function_grid[\"u\"] = values\n",
    "    function_grid.set_active_vectors(\"u\")\n",
    "    # Warp mesh by deformation\n",
    "    warped = function_grid.warp_by_vector(\"u\", factor=1)\n",
    "    \n",
    "    # Add mesh to plotter and visualize\n",
    "    actor = p.add_mesh(warped)\n",
    "    p.show_axes()\n",
    "    if not pyvista.OFF_SCREEN:\n",
    "       p.show()\n",
    "    else:\n",
    "        figure_as_array = p.screenshot(f\"diffusion_{t:.2f}.png\")\n",
    "        # Clear plotter for next plot\n",
    "        p.remove_actor(actor)\n",
    "\n",
    "plot_function(0, u)"
   ]
  },
  {
   "cell_type": "markdown",
   "id": "nasty-entertainment",
   "metadata": {},
   "source": [
    "Finally, we solve the problem over several time steps, updating the y-component of the traction"
   ]
  },
  {
   "cell_type": "code",
   "execution_count": null,
   "id": "vanilla-referral",
   "metadata": {},
   "outputs": [
    {
     "name": "stderr",
     "output_type": "stream",
     "text": [
      "2021-12-25 17:07:25.161 ( 168.262s) [main            ]              petsc.cpp:769   INFO| PETSc Krylov solver starting to solve system.\n",
      "2021-12-25 17:07:25.927 ( 169.029s) [main            ]              petsc.cpp:769   INFO| PETSc Krylov solver starting to solve system.\n",
      "2021-12-25 17:07:26.333 ( 169.434s) [main            ]       NewtonSolver.cpp:34    INFO| Newton iteration 2: r (abs) = 22.2455 (tol = 1e-08) r (rel) = 0.134278(tol = 1e-08)\n",
      "2021-12-25 17:07:26.526 ( 169.628s) [main            ]              petsc.cpp:769   INFO| PETSc Krylov solver starting to solve system.\n",
      "2021-12-25 17:07:26.993 ( 170.095s) [main            ]       NewtonSolver.cpp:34    INFO| Newton iteration 3: r (abs) = 2.43261 (tol = 1e-08) r (rel) = 0.0146837(tol = 1e-08)\n",
      "2021-12-25 17:07:27.241 ( 170.343s) [main            ]              petsc.cpp:769   INFO| PETSc Krylov solver starting to solve system.\n",
      "2021-12-25 17:07:27.695 ( 170.797s) [main            ]       NewtonSolver.cpp:34    INFO| Newton iteration 4: r (abs) = 4.43158 (tol = 1e-08) r (rel) = 0.0267498(tol = 1e-08)\n",
      "2021-12-25 17:07:27.886 ( 170.988s) [main            ]              petsc.cpp:769   INFO| PETSc Krylov solver starting to solve system.\n",
      "2021-12-25 17:07:28.370 ( 171.471s) [main            ]       NewtonSolver.cpp:34    INFO| Newton iteration 5: r (abs) = 0.144189 (tol = 1e-08) r (rel) = 0.000870353(tol = 1e-08)\n",
      "2021-12-25 17:07:28.619 ( 171.720s) [main            ]              petsc.cpp:769   INFO| PETSc Krylov solver starting to solve system.\n",
      "2021-12-25 17:07:29.128 ( 172.230s) [main            ]       NewtonSolver.cpp:34    INFO| Newton iteration 6: r (abs) = 0.021424 (tol = 1e-08) r (rel) = 0.000129319(tol = 1e-08)\n",
      "2021-12-25 17:07:29.378 ( 172.480s) [main            ]              petsc.cpp:769   INFO| PETSc Krylov solver starting to solve system.\n",
      "2021-12-25 17:07:29.892 ( 172.994s) [main            ]       NewtonSolver.cpp:34    INFO| Newton iteration 7: r (abs) = 4.80068e-06 (tol = 1e-08) r (rel) = 2.89778e-08(tol = 1e-08)\n",
      "2021-12-25 17:07:30.140 ( 173.242s) [main            ]              petsc.cpp:769   INFO| PETSc Krylov solver starting to solve system.\n",
      "WARNING:py.warnings:/usr/local/dolfinx-real/lib/python3.8/dist-packages/dolfinx/plot.py:120: UserWarning: Plotting of higher order functions is experimental.\n",
      "  warnings.warn(\"Plotting of higher order functions is experimental.\")\n",
      "\n",
      "2021-12-25 17:07:30.646 ( 173.748s) [main            ]       NewtonSolver.cpp:34    INFO| Newton iteration 8: r (abs) = 2.62988e-11 (tol = 1e-08) r (rel) = 1.58745e-13(tol = 1e-08)\n",
      "2021-12-25 17:07:30.646 ( 173.748s) [main            ]       NewtonSolver.cpp:250   INFO| Newton solver finished in 8 iterations and 8 linear solver iterations.\n"
     ]
    },
    {
     "name": "stdout",
     "output_type": "stream",
     "text": [
      "Time step 1, Number of iterations 8, Load [ 0.   0.  -1.5]\n"
     ]
    },
    {
     "data": {
      "application/vnd.jupyter.widget-view+json": {
       "model_id": "fe3ce5a1ea2744f58e0625ab0583fa0a",
       "version_major": 2,
       "version_minor": 0
      },
      "text/plain": [
       "ViewInteractiveWidget(height=480, layout=Layout(height='auto', width='100%'), width=960)"
      ]
     },
     "metadata": {},
     "output_type": "display_data"
    },
    {
     "name": "stderr",
     "output_type": "stream",
     "text": [
      "2021-12-25 17:07:31.253 ( 174.355s) [main            ]              petsc.cpp:769   INFO| PETSc Krylov solver starting to solve system.\n",
      "2021-12-25 17:07:31.959 ( 175.061s) [main            ]              petsc.cpp:769   INFO| PETSc Krylov solver starting to solve system.\n",
      "2021-12-25 17:07:32.400 ( 175.501s) [main            ]       NewtonSolver.cpp:34    INFO| Newton iteration 2: r (abs) = 17.3254 (tol = 1e-08) r (rel) = 0.117842(tol = 1e-08)\n",
      "2021-12-25 17:07:32.668 ( 175.770s) [main            ]              petsc.cpp:769   INFO| PETSc Krylov solver starting to solve system.\n",
      "2021-12-25 17:07:33.185 ( 176.286s) [main            ]       NewtonSolver.cpp:34    INFO| Newton iteration 3: r (abs) = 5.14882 (tol = 1e-08) r (rel) = 0.0350207(tol = 1e-08)\n",
      "2021-12-25 17:07:33.457 ( 176.559s) [main            ]              petsc.cpp:769   INFO| PETSc Krylov solver starting to solve system.\n",
      "2021-12-25 17:07:33.990 ( 177.092s) [main            ]       NewtonSolver.cpp:34    INFO| Newton iteration 4: r (abs) = 7.24003 (tol = 1e-08) r (rel) = 0.0492445(tol = 1e-08)\n",
      "2021-12-25 17:07:34.244 ( 177.346s) [main            ]              petsc.cpp:769   INFO| PETSc Krylov solver starting to solve system.\n",
      "2021-12-25 17:07:34.700 ( 177.802s) [main            ]       NewtonSolver.cpp:34    INFO| Newton iteration 5: r (abs) = 0.777889 (tol = 1e-08) r (rel) = 0.00529096(tol = 1e-08)\n",
      "2021-12-25 17:07:34.987 ( 178.088s) [main            ]              petsc.cpp:769   INFO| PETSc Krylov solver starting to solve system.\n",
      "2021-12-25 17:07:35.521 ( 178.622s) [main            ]       NewtonSolver.cpp:34    INFO| Newton iteration 6: r (abs) = 1.25525 (tol = 1e-08) r (rel) = 0.00853785(tol = 1e-08)\n",
      "2021-12-25 17:07:35.825 ( 178.927s) [main            ]              petsc.cpp:769   INFO| PETSc Krylov solver starting to solve system.\n",
      "2021-12-25 17:07:36.395 ( 179.496s) [main            ]       NewtonSolver.cpp:34    INFO| Newton iteration 7: r (abs) = 0.00849512 (tol = 1e-08) r (rel) = 5.77813e-05(tol = 1e-08)\n",
      "2021-12-25 17:07:36.647 ( 179.748s) [main            ]              petsc.cpp:769   INFO| PETSc Krylov solver starting to solve system.\n",
      "2021-12-25 17:07:37.160 ( 180.261s) [main            ]       NewtonSolver.cpp:34    INFO| Newton iteration 8: r (abs) = 0.000192107 (tol = 1e-08) r (rel) = 1.30665e-06(tol = 1e-08)\n",
      "2021-12-25 17:07:37.355 ( 180.456s) [main            ]              petsc.cpp:769   INFO| PETSc Krylov solver starting to solve system.\n",
      "2021-12-25 17:07:37.874 ( 180.975s) [main            ]       NewtonSolver.cpp:34    INFO| Newton iteration 9: r (abs) = 1.70417e-10 (tol = 1e-08) r (rel) = 1.15913e-12(tol = 1e-08)\n",
      "2021-12-25 17:07:37.874 ( 180.975s) [main            ]       NewtonSolver.cpp:250   INFO| Newton solver finished in 9 iterations and 9 linear solver iterations.\n"
     ]
    },
    {
     "name": "stdout",
     "output_type": "stream",
     "text": [
      "Time step 2, Number of iterations 9, Load [ 0.  0. -3.]\n"
     ]
    },
    {
     "data": {
      "application/vnd.jupyter.widget-view+json": {
       "model_id": "a3d9294a6106497ab0e01a92e48f93f4",
       "version_major": 2,
       "version_minor": 0
      },
      "text/plain": [
       "ViewInteractiveWidget(height=480, layout=Layout(height='auto', width='100%'), width=960)"
      ]
     },
     "metadata": {},
     "output_type": "display_data"
    },
    {
     "name": "stderr",
     "output_type": "stream",
     "text": [
      "2021-12-25 17:07:38.428 ( 181.530s) [main            ]              petsc.cpp:769   INFO| PETSc Krylov solver starting to solve system.\n",
      "2021-12-25 17:07:39.075 ( 182.177s) [main            ]              petsc.cpp:769   INFO| PETSc Krylov solver starting to solve system.\n",
      "2021-12-25 17:07:39.533 ( 182.634s) [main            ]       NewtonSolver.cpp:34    INFO| Newton iteration 2: r (abs) = 10.0011 (tol = 1e-08) r (rel) = 0.0887471(tol = 1e-08)\n",
      "2021-12-25 17:07:39.795 ( 182.897s) [main            ]              petsc.cpp:769   INFO| PETSc Krylov solver starting to solve system.\n",
      "2021-12-25 17:07:40.318 ( 183.420s) [main            ]       NewtonSolver.cpp:34    INFO| Newton iteration 3: r (abs) = 5.33026 (tol = 1e-08) r (rel) = 0.0472992(tol = 1e-08)\n",
      "2021-12-25 17:07:40.566 ( 183.668s) [main            ]              petsc.cpp:769   INFO| PETSc Krylov solver starting to solve system.\n",
      "2021-12-25 17:07:41.042 ( 184.143s) [main            ]       NewtonSolver.cpp:34    INFO| Newton iteration 4: r (abs) = 11.9901 (tol = 1e-08) r (rel) = 0.106397(tol = 1e-08)\n",
      "2021-12-25 17:07:41.294 ( 184.395s) [main            ]              petsc.cpp:769   INFO| PETSc Krylov solver starting to solve system.\n",
      "2021-12-25 17:07:41.816 ( 184.918s) [main            ]       NewtonSolver.cpp:34    INFO| Newton iteration 5: r (abs) = 2.29702 (tol = 1e-08) r (rel) = 0.0203831(tol = 1e-08)\n",
      "2021-12-25 17:07:42.068 ( 185.169s) [main            ]              petsc.cpp:769   INFO| PETSc Krylov solver starting to solve system.\n",
      "2021-12-25 17:07:42.589 ( 185.690s) [main            ]       NewtonSolver.cpp:34    INFO| Newton iteration 6: r (abs) = 3.90234 (tol = 1e-08) r (rel) = 0.0346282(tol = 1e-08)\n",
      "2021-12-25 17:07:42.841 ( 185.943s) [main            ]              petsc.cpp:769   INFO| PETSc Krylov solver starting to solve system.\n",
      "2021-12-25 17:07:43.367 ( 186.468s) [main            ]       NewtonSolver.cpp:34    INFO| Newton iteration 7: r (abs) = 0.236535 (tol = 1e-08) r (rel) = 0.00209895(tol = 1e-08)\n",
      "2021-12-25 17:07:43.620 ( 186.722s) [main            ]              petsc.cpp:769   INFO| PETSc Krylov solver starting to solve system.\n"
     ]
    }
   ],
   "source": [
    "from dolfinx.log import set_log_level, LogLevel\n",
    "set_log_level(LogLevel.INFO)\n",
    "tval0 = -1.5\n",
    "for n in range(1, 10):\n",
    "    T.value[2] = n * tval0\n",
    "    num_its, converged = solver.solve(u)\n",
    "    assert(converged)\n",
    "    u.x.scatter_forward()\n",
    "    print(f\"Time step {n}, Number of iterations {num_its}, Load {T.value}\")\n",
    "    plot_function(n, u)"
   ]
  },
  {
   "cell_type": "code",
   "execution_count": null,
   "id": "eligible-chambers",
   "metadata": {},
   "outputs": [],
   "source": []
  }
 ],
 "metadata": {
  "kernelspec": {
   "display_name": "Python 3 (ipykernel)",
   "language": "python",
   "name": "python3"
  },
  "language_info": {
   "codemirror_mode": {
    "name": "ipython",
    "version": 3
   },
   "file_extension": ".py",
   "mimetype": "text/x-python",
   "name": "python",
   "nbconvert_exporter": "python",
   "pygments_lexer": "ipython3",
   "version": "3.9.7"
  }
 },
 "nbformat": 4,
 "nbformat_minor": 5
}
