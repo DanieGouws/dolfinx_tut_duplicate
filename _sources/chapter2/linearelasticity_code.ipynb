{
 "metadata": {
  "language_info": {
   "codemirror_mode": {
    "name": "ipython",
    "version": 3
   },
   "file_extension": ".py",
   "mimetype": "text/x-python",
   "name": "python",
   "nbconvert_exporter": "python",
   "pygments_lexer": "ipython3",
   "version": "3.8.5-final"
  },
  "orig_nbformat": 2,
  "kernelspec": {
   "name": "python3",
   "display_name": "Python 3",
   "language": "python"
  }
 },
 "nbformat": 4,
 "nbformat_minor": 2,
 "cells": [
  {
   "source": [
    "# Implementation\n",
    "Author: Jørgen S. Dokken\n",
    "## Test problem\n",
    "As a test example, we will model a clamped beam deformed under its own weigth in 3D. This can be modeled, by setting the right-hand side body force per unit volume to $f=(0,0,-\\rho g)$ with $\\rho$ the density of the beam and $g$ the acceleration of gravity. The beam is box-shaped with length $L$ and has a square cross section of width $W$. we set $u=u_D=(0,0,0)$ at the clamped end, x=0. The rest of the boundary is traction free, that is, we set $T=0$. We start by defining the physical variables used in the program."
   ],
   "cell_type": "markdown",
   "metadata": {}
  },
  {
   "cell_type": "code",
   "execution_count": 1,
   "metadata": {},
   "outputs": [],
   "source": [
    "# Scaled variable\n",
    "L = 1\n",
    "W = 0.2\n",
    "mu = 1\n",
    "rho = 1\n",
    "delta = W/L\n",
    "gamma = 0.4*delta**2\n",
    "beta = 1.25\n",
    "lambda_ = beta\n",
    "g = gamma"
   ]
  },
  {
   "source": [
    "We then create the mesh, which will consist of hexahedral elements, along with the function space. We will use the convenience function `VectorFunctionSpace`. However, we also could have used `ufl`s functionality, creating a vector element `element = ufl.VectorElement(\"CG\", mesh.ufl_cell(), 1)\n",
    "`, and intitializing the function space as `V = dolfinx.FunctionSpace(mesh, element)`."
   ],
   "cell_type": "markdown",
   "metadata": {}
  },
  {
   "cell_type": "code",
   "execution_count": 2,
   "metadata": {},
   "outputs": [],
   "source": [
    "import dolfinx\n",
    "import numpy as np\n",
    "from mpi4py import MPI\n",
    "from dolfinx.cpp.mesh import CellType\n",
    "\n",
    "mesh = dolfinx.BoxMesh(MPI.COMM_WORLD, [np.array([0,0,0]), np.array([L, W, W])], [20,6,6], cell_type=CellType.hexahedron)\n",
    "V = dolfinx.VectorFunctionSpace(mesh, (\"CG\", 1))"
   ]
  },
  {
   "source": [
    "## Boundary conditions\n",
    "As we would like to clamp the boundary at $x=0$, we do this by using a marker function, which locate the facets where $x$ is close to zero by machine prescision."
   ],
   "cell_type": "markdown",
   "metadata": {}
  },
  {
   "cell_type": "code",
   "execution_count": 3,
   "metadata": {},
   "outputs": [],
   "source": [
    "def clamped_boundary(x):\n",
    "    return np.isclose(x[0], 0)\n",
    "\n",
    "fdim = mesh.topology.dim - 1\n",
    "boundary_facets = dolfinx.mesh.locate_entities_boundary(mesh, fdim, clamped_boundary)\n",
    "\n",
    "u_D = dolfinx.Function(V)\n",
    "with u_D.vector.localForm() as loc:\n",
    "    loc.set(0)\n",
    "bc = dolfinx.DirichletBC(u_D, dolfinx.fem.locate_dofs_topological(V, fdim, boundary_facets))"
   ]
  },
  {
   "source": [
    "As we want the traction $T$ over the remaining boundary to be $0$, we create a `dolfinx.Constant`"
   ],
   "cell_type": "markdown",
   "metadata": {}
  },
  {
   "cell_type": "code",
   "execution_count": 4,
   "metadata": {},
   "outputs": [],
   "source": [
    "T = dolfinx.Constant(mesh, (0, 0, 0))"
   ]
  },
  {
   "source": [
    "We also want to specify the integration measure $\\mathrm{d}s$, which should be the integral over the boundary of our domain. We do this by using `ufl`, and its built in integration measures"
   ],
   "cell_type": "markdown",
   "metadata": {}
  },
  {
   "cell_type": "code",
   "execution_count": 5,
   "metadata": {},
   "outputs": [],
   "source": [
    "import ufl\n",
    "ds = ufl.Measure(\"ds\", domain=mesh)"
   ]
  },
  {
   "source": [
    "## Variational formulation\n",
    "We are now ready to create our variational formulation in close to mathematical syntax, as for the previous problems."
   ],
   "cell_type": "markdown",
   "metadata": {}
  },
  {
   "cell_type": "code",
   "execution_count": 6,
   "metadata": {},
   "outputs": [],
   "source": [
    "def epsilon(u):\n",
    "    return ufl.sym(ufl.grad(u)) # Equivalent to 0.5*(ufl.nabla_grad(u) + ufl.nabla_grad(u).T)\n",
    "def sigma(u):\n",
    "    return lambda_ * ufl.nabla_div(u) * ufl.Identity(u.geometric_dimension()) + 2*mu*epsilon(u)\n",
    "\n",
    "u = ufl.TrialFunction(V)\n",
    "v = ufl.TestFunction(V)\n",
    "f = dolfinx.Constant(mesh, (0, 0, -rho*g))\n",
    "a = ufl.inner(sigma(u), epsilon(v)) * ufl.dx\n",
    "L = ufl.dot(f, v) * ufl.dx + ufl.dot(T, v) * ds"
   ]
  },
  {
   "source": [
    "```{note}\n",
    "Note that we used `nabla_grad` and optionally `nabla_div` for the variational formulation, as oposed to our previous usage of \n",
    "`div` and `grad`. This is because for scalar functions $\\nabla u$ has a clear meaning\n",
    "$\\nabla u = \\left(\\frac{\\partial u}{\\partial x}, \\frac{\\partial u}{\\partial y}, \\frac{\\partial u}{\\partial z} \\right)$.\n",
    "\n",
    "However, if $u$ is vector valued, the meaning is less clear. Some sources define $\\nabla u$ as a matrix with the elements $\\frac{\\partial u_j}{\\partial x_i}$, while other  sources prefer \n",
    "$\\frac{\\partial u_i}{\\partial x_j}$. In dolfin-X `grad(u)` is defined as the amtrix with element $\\frac{\\partial u_i}{\\partial x_j}$. However, as it is common in continuum mechanics to use the other definition, `ufl` supplies us with `nabla_grad` for this purpose.\n",
    "```\n",
    " \n",
    "## Solve the linear variational problem\n",
    "As in the previous demos, we assemble the matrix and right hand side vector and use PETSc to solve our variational problem"
   ],
   "cell_type": "markdown",
   "metadata": {}
  },
  {
   "cell_type": "code",
   "execution_count": 7,
   "metadata": {},
   "outputs": [],
   "source": [
    "problem = dolfinx.fem.LinearProblem(a, L, bcs=[bc], petsc_options={\"ksp_type\": \"preonly\", \"pc_type\": \"lu\"})\n",
    "uh = problem.solve()"
   ]
  },
  {
   "source": [
    "## Visualization\n",
    "We will use Paraview to visualize the solution of this problem.\n",
    "As explained in previous sections, we save the solution with `XDMFFile`.\n",
    "After opening the file `deformation.xdmf` in Paraview and pressing `Apply`, one can press the `Warp by vector button` \n",
    "![Warp by vector](warp_by_vector.png) or go through the top menu (`Filters->Alphabetical->Warp by Vector`) and press `Apply`. We can also change the color of the deformed beam by changing the value in the color menu ![color](color.png) from `Solid Color` to `Deformation`."
   ],
   "cell_type": "markdown",
   "metadata": {}
  },
  {
   "cell_type": "code",
   "execution_count": 8,
   "metadata": {},
   "outputs": [],
   "source": [
    "import dolfinx.io\n",
    "with dolfinx.io.XDMFFile(MPI.COMM_WORLD, \"deformation.xdmf\", \"w\") as xdmf:\n",
    "    xdmf.write_mesh(mesh)\n",
    "    uh.name = \"Deformation\"\n",
    "    xdmf.write_function(uh)"
   ]
  },
  {
   "source": [
    "With some additional modifications, we can obtain the following visualization\n",
    "![Deformed beam](beam.png)"
   ],
   "cell_type": "markdown",
   "metadata": {}
  },
  {
   "source": [
    "## Stress computation\n",
    "As soon as the displacement is computed, we can compute various stress measures. We will compute the von Mises stress defined as $\\sigma_m=\\sqrt{\\frac{3}{2}s:s}$ where $s$ is the deviatoric stress tensor $s(u)=\\sigma(u)-\\frac{1}{3}\\mathrm{tr}(\\sigma(u))I$."
   ],
   "cell_type": "markdown",
   "metadata": {}
  },
  {
   "cell_type": "code",
   "execution_count": 9,
   "metadata": {},
   "outputs": [],
   "source": [
    "s = sigma(uh) -1./3*ufl.tr(sigma(uh))*ufl.Identity(uh.geometric_dimension())\n",
    "von_Mises = ufl.sqrt(3./2*ufl.inner(s, s))"
   ]
  },
  {
   "source": [
    "The `von_Mises` variable is now an expression that must be projected into an appropriate function space so that we can visualize it. As `uh` is a linear combination of first order piecewise continuous functions, the von Mises stresses will be a cell-wise constant function."
   ],
   "cell_type": "markdown",
   "metadata": {}
  },
  {
   "cell_type": "code",
   "execution_count": 10,
   "metadata": {},
   "outputs": [
    {
     "output_type": "execute_result",
     "data": {
      "text/plain": [
       "Coefficient(FunctionSpace(Mesh(VectorElement(FiniteElement('Q', hexahedron, 1), dim=3), 0), FiniteElement('DQ', hexahedron, 0)), 5)"
      ]
     },
     "metadata": {},
     "execution_count": 10
    }
   ],
   "source": [
    "V_von_mises = dolfinx.FunctionSpace(mesh, (\"DG\", 0))\n",
    "p = ufl.TrialFunction(V_von_mises)\n",
    "q = ufl.TestFunction(V_von_mises)\n",
    "a_v = ufl.inner(p, q) * ufl.dx\n",
    "L_v = ufl.inner(von_Mises, q) * ufl.dx\n",
    "stresses = dolfinx.Function(V_von_mises)\n",
    "problem = dolfinx.fem.LinearProblem(a_v, L_v, u=stresses)\n",
    "problem.solve()\n",
    "# FIXME: Add way to visualize DG 0 functions"
   ]
  }
 ]
}