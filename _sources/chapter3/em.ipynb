{
 "cells": [
  {
   "cell_type": "markdown",
   "metadata": {},
   "source": [
    "# Electromagnetics example\n",
    "\n",
    "Author: Jørgen S. Dokken\n",
    "\n",
    "Based on the tutorial by: Hans Petter Langtangen and Anders Logg\n",
    "\n",
    "In this example, we will consider an iron cylinder with copper wires wound around the cylinder, as shown below\n",
    "\n",
    "![Cross section of wires](wire.png)\n",
    "\n",
    "Through the copper wires a static current of $J=1A$ is flowing.\n",
    "We would like to compute the magnetic field $B$ in the iron cylinder, the copper wires, and the surrounding vaccum. \n",
    "\n",
    "We start by simplifying the problem to a 2D problem. We can do this by assuming that the cylinder extends far along the z-axis and as a consequence the field is virtually independent of the z-coordinate. \n",
    "Next, we consder Maxwell's equation to derive a Poisson equation for the magnetic field (or rather its potential)\n",
    "```{math}\n",
    "\\nabla \\cdot D &= \\rho,\\\\\n",
    "\\nabla \\cdot B &= 0,\\\\\n",
    "\\nabla \\times E &= -\\frac{\\partial B}{\\partial t},\\\\\n",
    "\\nabla \\times H &= \\frac{\\partial D}{\\partial t}+ J.\n",
    "```\n",
    "Here, $D$ is the displacement field, $B$ is the magnetic field, $E$ is the electric field, and $H$ is the magnetizing field.\n",
    "In addition to Maxwell's equation, we need a constitutive relation between $B$ and $H$,\n",
    "```{math}\n",
    "B =\\mu H,\n",
    "```\n",
    "which holds for an isotropic linear magnetic medium. \n",
    "Here, $\\mu$ is the magnetic permability of the material. \n",
    "Now, since $B$ is solenodial (divergence free) accoording to Maxwell's equations, we known that $B$ must be the curl of some vector field $A$. This field is called the magnetic vector potential. Since the problem is static and thus $\\frac{\\partial D}{\\partial t}=0$, it follows that\n",
    "```{math}\n",
    "J = \\nabla \\times H = \\nabla \\times(\\mu^{-1} B)=\\nabla \\times (\\mu^{-1}\\nabla \\times A ) = -\\nabla \\cdot (\\mu^{-1}\\nabla A).\n",
    "```\n",
    "In the last step, we have expanded the second derivatives and used the gauge freedom of $A$ to simplify the equations to a simple vector-valued Poisson equation for the magnetic vector potential; if $B=\\nabla \\times A$, then $B=\\nabla \\times (A+\\nabla \\phi)$ for any scalar field $\\phi$ (the gauge function).\n",
    "For the current problem, we thus need to solve the following 2D Poisson problem for the $z$-component $A_z$ of the magnetic \n",
    "vector potential\n",
    "```{math}\n",
    "    - \\nabla \\cdot (\\mu^{-1} \\nabla A_z) &= J_z && \\text{in } \\mathbb{R}^2,\\\\\n",
    "    \\lim_{\\vert(x,y)\\vert\\to \\infty}A_z &= 0.&&\n",
    "```\n",
    "Since we cannot solve the problem on an infinite domain, we will truncate the domain using a large disk, and set $A_z=0$ on the boundary. The current $J_z$ is set to $+1$A in the interior set of the circles (copper-wire cross sections) and to $-1$ A in the exteriror set of circles in the cross section figure.\n",
    "Once the magnetic field vector potential has been computed, we can compute the magnetic field $B=B(x,y)$ by\n",
    "```{math}\n",
    "    B(x,y)=\\left(\\frac{\\partial A_z}{\\partial y}, - \\frac{\\partial A_z}{\\partial x} \\right).\n",
    "```\n",
    "The weak formulation is easily obtained by multiplication of a test function $v$, followed by integration by parts, where all boundary integrals vanishes due to the Dirichlet condition, we obtain $a(A_z,v)=L(v)$ with\n",
    "```{math}\n",
    "a(A_z, v)&=\\int_\\Omega \\mu^{-1}\\nabla A_z \\cdot \\nabla v ~\\mathrm{d}x,\\\\\n",
    "L(v)&=\\int_\\Omega J_z v~\\mathrm{d} x.\n",
    "```\n",
    "\n"
   ]
  },
  {
   "cell_type": "markdown",
   "metadata": {},
   "source": [
    "## Meshing a complex structure with subdomains\n",
    "Author: Jørgen S. Dokken\n",
    "\n",
    "We create the domain visualized in the cross section figure above using gmsh. Note that we are using the `gmsh.model.occ.fragment` commands to ensure that the boundaries of the wires are resolved in the mesh."
   ]
  },
  {
   "cell_type": "code",
   "execution_count": 6,
   "metadata": {},
   "outputs": [],
   "source": [
    "import gmsh\n",
    "import numpy as np\n",
    "from mpi4py import MPI\n",
    "\n",
    "rank = MPI.COMM_WORLD.rank\n",
    "\n",
    "gmsh.initialize()\n",
    "r = 0.1   # Radius of copper wires\n",
    "R = 5     # Radius of domain\n",
    "a = 1     # Radius of inner iron cylinder\n",
    "b = 1.2   # Radius of outer iron cylinder\n",
    "N = 8     # Number of windings\n",
    "c_1 = 0.8 # Radius of inner copper wires\n",
    "c_2 = 1.4 # Radius of outer copper wires\n",
    "gdim = 2  # Geometric dimension of the mesh\n",
    "if rank == 0:\n",
    "\n",
    "    # Define geometry for iron cylinder\n",
    "    outer_iron = gmsh.model.occ.addCircle(0, 0, 0, b)\n",
    "    inner_iron = gmsh.model.occ.addCircle(0, 0, 0, a)\n",
    "    gmsh.model.occ.addCurveLoop([outer_iron], 5)\n",
    "    gmsh.model.occ.addCurveLoop([inner_iron], 6)\n",
    "    iron = gmsh.model.occ.addPlaneSurface([5, 6])\n",
    "    gmsh.model.occ.synchronize()\n",
    "\n",
    "    # Define geometry for background\n",
    "    background = gmsh.model.occ.addDisk(0, 0, 0, R, R)\n",
    "    gmsh.model.occ.synchronize()\n",
    "\n",
    "    # Define the copper-wires inside iron cylinder\n",
    "    angles_N = [i*2*np.pi/N for i in range(N)]\n",
    "    wires_N = [(2, gmsh.model.occ.addDisk(c_1*np.cos(v), c_1*np.sin(v), 0, r, r)) for v in angles_N]\n",
    "\n",
    "    # Define the copper-wires outside the iron cylinder\n",
    "    angles_S = [(i+0.5)*2*np.pi/N for i in range(N)]\n",
    "    wires_S = [(2, gmsh.model.occ.addDisk(c_2*np.cos(v), c_2*np.sin(v), 0, r, r)) for v in angles_S]\n",
    "    gmsh.model.occ.synchronize()\n",
    "    # Resolve all boundaries of the different wires in the background domain\n",
    "    all_surfaces = [(2, iron)]\n",
    "    all_surfaces.extend(wires_S)\n",
    "    all_surfaces.extend(wires_N)\n",
    "    whole_domain = gmsh.model.occ.fragment([(2, background)], all_surfaces)\n",
    "    gmsh.model.occ.synchronize()\n",
    "    # Create physical markers for the different wires.\n",
    "    # We use the following markers:\n",
    "    # - Vacuum: 0\n",
    "    # - Iron cylinder: 1\n",
    "    # - Inner copper wires: $[2,3,\\dots,N+1]$\n",
    "    # - Outer copper wires: $[N+2,\\dots, 2\\cdot N+1]\n",
    "    inner_tag = 2\n",
    "    outer_tag = 2 + N\n",
    "    background_surfaces = []\n",
    "    other_surfaces = []\n",
    "    for domain in whole_domain[0]:\n",
    "        com = gmsh.model.occ.getCenterOfMass(domain[0], domain[1])\n",
    "        mass = gmsh.model.occ.getMass(domain[0], domain[1])\n",
    "        # Identify iron circle by its mass\n",
    "        if np.isclose(mass, np.pi*(b**2-a**2)):\n",
    "            gmsh.model.addPhysicalGroup(domain[0], [domain[1]], tag=1)\n",
    "            other_surfaces.append(domain)\n",
    "        # Identify the background circle by its center of mass\n",
    "        elif np.allclose(com, [0, 0, 0]):\n",
    "            background_surfaces.append(domain[1])\n",
    "\n",
    "        # Identify the inner circles by their center of mass\n",
    "        elif np.isclose(np.linalg.norm(com), c_1):\n",
    "            gmsh.model.addPhysicalGroup(domain[0], [domain[1]], inner_tag)\n",
    "            inner_tag +=1\n",
    "            other_surfaces.append(domain)\n",
    "        # Identify the outer circles by their center of mass\n",
    "        elif np.isclose(np.linalg.norm(com), c_2):\n",
    "            gmsh.model.addPhysicalGroup(domain[0], [domain[1]], outer_tag)\n",
    "            outer_tag +=1\n",
    "            other_surfaces.append(domain)\n",
    "    # Add marker for the vacuum\n",
    "    gmsh.model.addPhysicalGroup(2, background_surfaces, tag=0)\n",
    "    # Create mesh resolution that is fine around the wires and\n",
    "    # iron cylinder, coarser the further away you get\n",
    "    gmsh.model.mesh.field.add(\"Distance\", 1)\n",
    "    edges = gmsh.model.getBoundary(other_surfaces)\n",
    "    gmsh.model.mesh.field.setNumbers(1, \"EdgesList\", [e[1] for e in edges])\n",
    "    gmsh.model.mesh.field.add(\"Threshold\", 2)\n",
    "    gmsh.model.mesh.field.setNumber(2, \"IField\", 1)\n",
    "    gmsh.model.mesh.field.setNumber(2, \"LcMin\", r / 2)\n",
    "    gmsh.model.mesh.field.setNumber(2, \"LcMax\", 5 * r)\n",
    "    gmsh.model.mesh.field.setNumber(2, \"DistMin\", 2 * r)\n",
    "    gmsh.model.mesh.field.setNumber(2, \"DistMax\", 4 * r)\n",
    "    gmsh.model.mesh.field.setAsBackgroundMesh(2)\n",
    "    # Generate mesh\n",
    "    gmsh.option.setNumber(\"Mesh.Algorithm\", 7)\n",
    "    gmsh.model.mesh.generate(gdim)    "
   ]
  },
  {
   "cell_type": "markdown",
   "metadata": {},
   "source": [
    "As in [the Navier-Stokes tutorial](../chapter2/ns_code2) we load the mesh directly into dolfin-X, without writing it to file. This time, we create `MeshTags` for the physical cell data."
   ]
  },
  {
   "cell_type": "code",
   "execution_count": 7,
   "metadata": {},
   "outputs": [
    {
     "name": "stderr",
     "output_type": "stream",
     "text": [
      "WARNING:py.warnings:A builtin ctypes object gave a PEP3118 format string that does not match its itemsize, so a best-guess will be made of the data type. Newer versions of python may behave correctly.\n",
      "\n"
     ]
    }
   ],
   "source": [
    "from dolfinx.io import extract_gmsh_geometry, extract_gmsh_topology_and_markers, ufl_mesh_from_gmsh\n",
    "from dolfinx.cpp.io import perm_gmsh, extract_local_entities\n",
    "from dolfinx.cpp.mesh import to_type, cell_entity_type\n",
    "from dolfinx.cpp.graph import AdjacencyList_int32\n",
    "from dolfinx.mesh import create_meshtags, create_mesh\n",
    "if rank == 0:\n",
    "    # Get mesh geometry\n",
    "    x = extract_gmsh_geometry(gmsh.model)\n",
    "\n",
    "    # Get mesh topology for each element\n",
    "    topologies = extract_gmsh_topology_and_markers(gmsh.model)\n",
    "    # Get information about each cell type from the msh files\n",
    "    num_cell_types = len(topologies.keys())\n",
    "    cell_information = {}\n",
    "    cell_dimensions = np.zeros(num_cell_types, dtype=np.int32)\n",
    "    for i, element in enumerate(topologies.keys()):\n",
    "        properties = gmsh.model.mesh.getElementProperties(element)\n",
    "        name, dim, order, num_nodes, local_coords, _ = properties\n",
    "        cell_information[i] = {\"id\": element, \"dim\": dim, \"num_nodes\": num_nodes}\n",
    "        cell_dimensions[i] = dim\n",
    "\n",
    "    # Sort elements by ascending dimension\n",
    "    perm_sort = np.argsort(cell_dimensions)\n",
    "\n",
    "    # Broadcast cell type data and geometric dimension\n",
    "    cell_id = cell_information[perm_sort[-1]][\"id\"]\n",
    "    tdim = cell_information[perm_sort[-1]][\"dim\"]\n",
    "    num_nodes = cell_information[perm_sort[-1]][\"num_nodes\"]\n",
    "    cell_id, num_nodes = MPI.COMM_WORLD.bcast([cell_id, num_nodes], root=0)\n",
    "\n",
    "    cells = topologies[cell_id][\"topology\"]\n",
    "    cell_values = topologies[cell_id][\"cell_data\"]\n",
    "else:\n",
    "    cell_id, num_nodes = MPI.COMM_WORLD.bcast([None, None], root=0)\n",
    "    cells, x = np.empty([0, num_nodes]), np.empty([0, gdim])\n",
    "    cell_values = np.empty((0,))\n",
    "gmsh.finalize()"
   ]
  },
  {
   "cell_type": "markdown",
   "metadata": {},
   "source": [
    "We now distribute the mesh over multiple processors"
   ]
  },
  {
   "cell_type": "code",
   "execution_count": 8,
   "metadata": {},
   "outputs": [],
   "source": [
    "# Create distributed mesh\n",
    "ufl_domain = ufl_mesh_from_gmsh(cell_id, gdim)\n",
    "gmsh_cell_perm = perm_gmsh(to_type(str(ufl_domain.ufl_cell())), num_nodes)\n",
    "cells = cells[:, gmsh_cell_perm]\n",
    "mesh = create_mesh(MPI.COMM_WORLD, cells, x[:, :gdim], ufl_domain)\n",
    "tdim = mesh.topology.dim\n",
    "\n",
    "local_entities, local_values = extract_local_entities(mesh, tdim, cells, cell_values)\n",
    "mesh.topology.create_connectivity(tdim, 0)\n",
    "adj = AdjacencyList_int32(local_entities)\n",
    "ct = create_meshtags(mesh, tdim, adj, np.int32(local_values))"
   ]
  },
  {
   "cell_type": "markdown",
   "metadata": {},
   "source": [
    "To inspect the mesh, we use Paraview, and obtain the following mesh"
   ]
  },
  {
   "cell_type": "code",
   "execution_count": 9,
   "metadata": {},
   "outputs": [],
   "source": [
    "import dolfinx.io\n",
    "with dolfinx.io.XDMFFile(MPI.COMM_WORLD, \"mt.xdmf\", \"w\") as xdmf:\n",
    "    xdmf.write_mesh(mesh)\n",
    "    xdmf.write_meshtags(ct)"
   ]
  },
  {
   "cell_type": "markdown",
   "metadata": {},
   "source": [
    "We can also visualize the subdommains using pyvista"
   ]
  },
  {
   "cell_type": "code",
   "execution_count": 11,
   "metadata": {},
   "outputs": [
    {
     "data": {
      "image/png": "[encoded data removed]",
      "text/plain": [
       "<PIL.Image.Image image mode=RGB size=1024x768 at 0x7F28ABDD49D0>"
      ]
     },
     "metadata": {},
     "output_type": "display_data"
    }
   ],
   "source": [
    "import pyvista\n",
    "import dolfinx.plot\n",
    "# Start virtual framebuffer\n",
    "from pyvista.utilities.xvfb import start_xvfb\n",
    "start_xvfb(wait=0)\n",
    "\n",
    "plotter = pyvista.Plotter()\n",
    "topology, cell_types = dolfinx.plot.create_vtk_topology(mesh, mesh.topology.dim)\n",
    "grid = pyvista.UnstructuredGrid(topology, cell_types, mesh.geometry.x)\n",
    "num_local_cells = mesh.topology.index_map(mesh.topology.dim).size_local\n",
    "grid.cell_arrays[\"Marker\"] = ct.values[ct.indices<num_local_cells]\n",
    "grid.set_active_scalars(\"Marker\")\n",
    "actor = plotter.add_mesh(grid)\n",
    "plotter.view_xy()\n",
    "if not pyvista.OFF_SCREEN:\n",
    "    plotter.show()\n",
    "cell_tag_fig = plotter.screenshot(\"cell_tags.png\")"
   ]
  },
  {
   "cell_type": "markdown",
   "metadata": {},
   "source": [
    "![Domain markers](cell_tags.png)\n",
    "\n",
    "Next, we define the discontinous functions for the permability $\\mu$ and current $J_z$ using the `MeshTags` as in [Defining material parameters through subdomains](./subdomains)"
   ]
  },
  {
   "cell_type": "code",
   "execution_count": null,
   "metadata": {},
   "outputs": [],
   "source": [
    "Q = dolfinx.FunctionSpace(mesh, (\"DG\", 0))\n",
    "material_tags = np.unique(ct.values)\n",
    "mu = dolfinx.Function(Q)\n",
    "J = dolfinx.Function(Q)\n",
    "with mu.vector.localForm() as loc_mu, J.vector.localForm() as loc_J:\n",
    "    # As we only set some values in J, initialize all as 0\n",
    "    loc_J.set(0)\n",
    "    for tag in material_tags:\n",
    "        cells = ct.indices[ct.values==tag]\n",
    "        num_cells = len(cells)\n",
    "        # Set values for mu\n",
    "        if tag == 0:\n",
    "            mu_ = 4 * np.pi*1e-7 # Vacuum\n",
    "        elif tag == 1:\n",
    "            mu_ = 1e-5 # Iron (This should really be 6.3e-3)\n",
    "        else:\n",
    "            mu_ = 1.26e-6 # Copper\n",
    "        loc_mu.setValues(cells, np.full(num_cells, mu_))\n",
    "        # Set values for J\n",
    "        if tag in range(2, 2+N):\n",
    "            loc_J.setValues(cells, np.full(num_cells, 1))\n",
    "        elif tag in range(2+N, 2*N + 2):\n",
    "            loc_J.setValues(cells, np.full(num_cells, -1))"
   ]
  },
  {
   "cell_type": "markdown",
   "metadata": {},
   "source": [
    "In the code above, we have used a somewhat less extreme value for the magnetic permability of iron. This is to make the solution a little more interesting. It would otherwise be completely dominated by the field in the iron cylinder.\n",
    "\n",
    "We can now define the weak problem"
   ]
  },
  {
   "cell_type": "code",
   "execution_count": null,
   "metadata": {},
   "outputs": [],
   "source": [
    "import ufl\n",
    "V = dolfinx.FunctionSpace(mesh, (\"CG\", 1))\n",
    "u_bc = dolfinx.Function(V)\n",
    "with u_bc.vector.localForm() as bc_loc:\n",
    "    bc_loc.set(0)\n",
    "facets = dolfinx.mesh.locate_entities_boundary(mesh, tdim-1, lambda x: np.full(x.shape[1], True))\n",
    "dofs = dolfinx.fem.locate_dofs_topological(V, tdim-1, facets)\n",
    "bc = dolfinx.DirichletBC(u_bc, dofs)\n",
    "\n",
    "u = ufl.TrialFunction(V)\n",
    "v = ufl.TestFunction(V)\n",
    "a = (1 / mu) * ufl.dot(ufl.grad(u), ufl.grad(v)) * ufl.dx\n",
    "L = J * v * ufl.dx"
   ]
  },
  {
   "cell_type": "markdown",
   "metadata": {},
   "source": [
    "We are now ready to solve the linear problem"
   ]
  },
  {
   "cell_type": "code",
   "execution_count": null,
   "metadata": {},
   "outputs": [],
   "source": [
    "A_z = dolfinx.Function(V)\n",
    "problem = dolfinx.fem.LinearProblem(a, L, u=A_z, bcs=[bc])\n",
    "problem.solve()"
   ]
  },
  {
   "cell_type": "markdown",
   "metadata": {},
   "source": [
    "As we have computed the magnetic potential, we can now compute the magnetic field, by setting `B=curl(A_z)`. Note that as we have chosen a function space of first order piecewise linear function to describe our potential, the curl of a function in this space is a discontinous zeroth order function (a function of cell-wise constants). However, to simplify the visualization, we project the curl into a first order continous function space\n"
   ]
  },
  {
   "cell_type": "code",
   "execution_count": null,
   "metadata": {},
   "outputs": [],
   "source": [
    "W = dolfinx.VectorFunctionSpace(mesh, (\"DG\", 0))\n",
    "p = ufl.TrialFunction(W)\n",
    "q = ufl.TestFunction(W)\n",
    "a_w = ufl.inner(p, q) * ufl.dx\n",
    "L_w = ufl.inner(ufl.as_vector((A_z.dx(1), -A_z.dx(0))), q) * ufl.dx\n",
    "projection = dolfinx.fem.LinearProblem(a_w, L_w)\n",
    "B = projection.solve()"
   ]
  },
  {
   "cell_type": "markdown",
   "metadata": {},
   "source": [
    "Note that we used `ufl.as_vector` to interpret the `Python`-tuple `(A_z.dx(1), -A_z.dx(0))` as a vector in the unified form language (UFL).\n",
    "\n",
    "We now plot the magnetic potential $A_z$ and the magnetic field $B$. We start by creating a new plotter"
   ]
  },
  {
   "cell_type": "code",
   "execution_count": null,
   "metadata": {},
   "outputs": [],
   "source": [
    "plotter = pyvista.Plotter()\n",
    "topology, cell_types = dolfinx.plot.create_vtk_topology(mesh, mesh.topology.dim)\n",
    "num_dofs_local = V.dofmap.index_map.size_local\n",
    "grid = pyvista.UnstructuredGrid(topology, cell_types, mesh.geometry.x)\n",
    "grid.point_arrays[\"A_z\"] = A_z.compute_point_values()\n",
    "grid.set_active_scalars(\"A_z\")\n",
    "warp = grid.warp_by_scalar(\"A_z\", factor=1e7)\n",
    "actor = plotter.add_mesh(warp)\n",
    "if not pyvista.OFF_SCREEN:\n",
    "    plotter.show()\n",
    "Az_fig = plotter.screenshot(\"Az.png\")"
   ]
  },
  {
   "cell_type": "markdown",
   "metadata": {},
   "source": [
    "![Magnetic potential](Az.png)\n",
    "\n",
    "## Visualizing the magnetic field\n",
    "As the magnetic field is a piecewise constant vector field, we need create a custom plotting function.\n",
    "We start by computing the midpoints of each cell, which is where we would like to visualize the cell-wise constant vector.\n",
    "Next, we take the data from the function `B`, and  shape it to become a 3D vector.\n",
    "We connect the vector field with the midpoint by using `pyvista.PolyData`."
   ]
  },
  {
   "cell_type": "code",
   "execution_count": null,
   "metadata": {},
   "outputs": [],
   "source": [
    "plotter = pyvista.Plotter()\n",
    "plotter.set_position([0,0,5])\n",
    "\n",
    "midpoints = dolfinx.cpp.mesh.midpoints(mesh, mesh.topology.dim, range(mesh.topology.index_map(mesh.topology.dim).size_local))\n",
    "\n",
    "num_dofs_local = W.dofmap.index_map.size_local\n",
    "values = np.zeros((num_dofs_local, 3), dtype=np.float64)\n",
    "values[:, :mesh.geometry.dim] = B.vector.array.real.reshape(num_dofs_local, W.dofmap.index_map_bs)\n",
    "cloud = pyvista.PolyData(midpoints)\n",
    "cloud[\"B\"] = values\n",
    "glyphs = cloud.glyph(\"B\", factor=2e6)\n",
    "actor = plotter.add_mesh(grid, style=\"wireframe\", color=\"k\")\n",
    "actor2 = plotter.add_mesh(glyphs)\n",
    "\n",
    "if not pyvista.OFF_SCREEN:\n",
    "    plotter.show()\n",
    "B_fig = plotter.screenshot(\"B.png\")"
   ]
  },
  {
   "cell_type": "markdown",
   "metadata": {},
   "source": [
    "![Magnetic field](B.png)"
   ]
  },
  {
   "cell_type": "code",
   "execution_count": null,
   "metadata": {},
   "outputs": [],
   "source": []
  }
 ],
 "metadata": {
  "kernelspec": {
   "display_name": "Python 3",
   "language": "python",
   "name": "python3"
  },
  "language_info": {
   "codemirror_mode": {
    "name": "ipython",
    "version": 3
   },
   "file_extension": ".py",
   "mimetype": "text/x-python",
   "name": "python",
   "nbconvert_exporter": "python",
   "pygments_lexer": "ipython3",
   "version": "3.8.5"
  }
 },
 "nbformat": 4,
 "nbformat_minor": 4
}
