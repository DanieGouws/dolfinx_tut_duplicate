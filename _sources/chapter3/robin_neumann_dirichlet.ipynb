{
 "metadata": {
  "language_info": {
   "codemirror_mode": {
    "name": "ipython",
    "version": 3
   },
   "file_extension": ".py",
   "mimetype": "text/x-python",
   "name": "python",
   "nbconvert_exporter": "python",
   "pygments_lexer": "ipython3",
   "version": 3
  },
  "orig_nbformat": 2
 },
 "nbformat": 4,
 "nbformat_minor": 2,
 "cells": [
  {
   "source": [
    "# Setting multiple Dirichlet, Neumann, and Robin conditions\n",
    "Author: Jørgen S. Dokken\n",
    "We consider the variable coefficient example from [the previous section](subdomains.ipynb). In this section we will cover how to apply a mixture of Dirichlet, Neumann and Robin type boundary conditions for this type of problem.\n",
    "\n",
    "We divide our boundary into three distinct sections:\n",
    "- $\\Gamma_D$ for Dirichlet conditions:\n",
    "```{math}\n",
    "    u=u_D^0 \\text{ on } \\Gamma_D^0, \\quad u=u_D^1 \\text{ on } \\Gamma_D^1, \\dots\n",
    "```\n",
    "where $\\Gamma_D=\\Gamma_D^0\\cup \\Gamma_D^1 \\cup \\dots$.\n",
    "- $\\Gamma_N$ for Neumann conditions:\n",
    "```{math}\n",
    "    -\\kappa \\frac{\\partial u}{\\partial n}=g_0 \\text{ on } \\Gamma_N^0, \n",
    "    -\\kappa \\frac{\\partial u}{\\partial n}=g_1 \\text{ on } \\Gamma_N^1\n",
    "```\n",
    "where $\\Gamma_N=\\Gamma_N^0\\cup \\Gamma_N^1 \\cup \\dots$.\n",
    "- $\\Gamma_R$ for Robin conditions:\n",
    "```{math}\n",
    "-\\kappa \\frac{\\partial u}{\\partial n}=r(u-s)\n",
    "```\n",
    "where $r$ and $s$ are specified functions. The Robin condition is most often used to model heat transfer to the surroundings and arise naturally from Newton's cooling law.\n",
    "In that case, $r$ is a heat transfer coefficient, and $s$ is the temperature of the surroundings. \n",
    "Both can be space and time-dependent. The Robin conditions apply at some parts $\\Gamma_R^0,\\Gamma_R^1,\\dots, of the boundary:\n",
    "```{math}\n",
    "    -\\kappa \\frac{\\partial u}{\\partial n}=r_0(u-s_0) \\text{ on } \\Gamma_R^0\n",
    "    -\\kappa \\frac{\\partial u}{\\partial n}=r_1(u-s_1) \\text{ on } \\Gamma_R^1\n",
    "```\n",
    "# The PDE problem\n",
    "We can summarize the PDE problem as\n",
    "```{math}\n",
    "-\\nabla (\\kappa \\nabla u) &&= f & \\text{in } \\Omega,\n",
    "u&=u_D^i && \\text{on } \\Gamma_D^i, \\qquad i=0,1,\\dots\\\\\n",
    "-\\kappa \\frac{\\partial u}{\\partial n}&=g_0 &&\\text{on } \\Gamma_N^0,\\qquad i=0,1,\\dots\n",
    "-\\kappa \\frac{\\partial u}{\\partial n}&=r_i(u-s_i) \\text{ on } \\Gamma_R^i, \\qquad i=0,1\n",
    "```"
   ],
   "cell_type": "markdown",
   "metadata": {}
  },
  {
   "cell_type": "code",
   "execution_count": null,
   "metadata": {},
   "outputs": [],
   "source": []
  }
 ]
}