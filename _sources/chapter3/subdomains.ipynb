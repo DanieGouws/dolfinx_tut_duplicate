{
 "cells": [
  {
   "cell_type": "markdown",
   "metadata": {},
   "source": [
    "# Defining subdomains for different materials\n",
    "Author: Jørgen S. Dokken\n",
    "\n",
    "Solving PDEs in domains made up of different materials is frequently encountered task. In FEniCSx, we handle these problems by defining a Discontinous cell-wise constant function.\n",
    "Such a function can be created over any mesh in the following way\n",
    "## Subdomains on built-in meshes"
   ]
  },
  {
   "cell_type": "code",
   "execution_count": 1,
   "metadata": {},
   "outputs": [],
   "source": [
    "import dolfinx\n",
    "from mpi4py import MPI\n",
    "\n",
    "mesh = dolfinx.UnitSquareMesh(MPI.COMM_WORLD, 10, 10)\n",
    "Q = dolfinx.FunctionSpace(mesh, (\"DG\", 0))"
   ]
  },
  {
   "cell_type": "markdown",
   "metadata": {},
   "source": [
    "We will use a simple example with two materials in two dimensions to demonstrate the idea. The whole domain will be $\\Omega=[0,1]\\times[0,1]$, which consists of two subdomains \n",
    "$\\Omega_0=[0,1]\\times [0,1/2]$ and $\\Omega_1=[0,1]\\times[1/2, 1]$. We start by creating two python functions, where each returns `True` if the input coordinate is inside its domain."
   ]
  },
  {
   "cell_type": "code",
   "execution_count": 2,
   "metadata": {},
   "outputs": [],
   "source": [
    "def Omega_0(x):\n",
    "    return x[1] <= 0.5\n",
    "\n",
    "def Omega_1(x):\n",
    "    return x[1] >= 0.5"
   ]
  },
  {
   "cell_type": "markdown",
   "metadata": {},
   "source": [
    "Note that both fucntion uses a $\\leq$ or $\\geq$, as FEniCSx will evaluate each cell at all of the vertices, and thus for has to return `True` for all vertices align with the interface to be marked properly.\n",
    "\n",
    "We will solve a variable-coefficient extension of the Poisson equation\n",
    "\n",
    "$$\n",
    "-\\nabla \\cdot [\\kappa (x,y)\\nabla u(x, y)]= 1 \\qquad \\text{in } \\Omega,\n",
    "$$\n",
    "$$\n",
    "u=u_D=1 \\qquad \\text{on } \\partial\\Omega_D=[0,y], y\\in[0,1]\n",
    "$$\n",
    "$$\n",
    "-\\frac{\\partial u}{\\partial n}=0 \\qquad \\text{on } \\partial\\Omega\\setminus \\partial\\Omega_D\n",
    "$$\n",
    "\n",
    "Our next step is to define $\\kappa$"
   ]
  },
  {
   "cell_type": "code",
   "execution_count": 3,
   "metadata": {},
   "outputs": [],
   "source": [
    "kappa = dolfinx.Function(Q)\n",
    "cells_0 = dolfinx.mesh.locate_entities(mesh, mesh.topology.dim, Omega_0)\n",
    "cells_1 = dolfinx.mesh.locate_entities(mesh, mesh.topology.dim, Omega_1)"
   ]
  },
  {
   "cell_type": "markdown",
   "metadata": {},
   "source": [
    "In the previous code block, we found which cells (triangular elements) which satisfies the condition for being in $\\Omega_0, \\Omega_1$. As the $DG-0$ function contain only one degree of freedom per mesh, there is a one to one mapping between the cell indicies and the degrees of freedom. We let $\\kappa=\\begin{cases}\n",
    "1 &\\text{if } x\\in\\Omega_0\\\\\n",
    "0.1& \\text{if } x\\in\\Omega_1\\\\\n",
    "\\end{cases}$"
   ]
  },
  {
   "cell_type": "code",
   "execution_count": 4,
   "metadata": {},
   "outputs": [],
   "source": [
    "import numpy as np\n",
    "with kappa.vector.localForm() as loc:\n",
    "    loc.setValues(cells_0, np.full(len(cells_0), 1))\n",
    "    loc.setValues(cells_1, np.full(len(cells_1), 0.1))"
   ]
  },
  {
   "cell_type": "markdown",
   "metadata": {},
   "source": [
    "We are now ready to define our variational formulation and  Dirichlet boundary condition after using integration by parts "
   ]
  },
  {
   "cell_type": "code",
   "execution_count": 5,
   "metadata": {},
   "outputs": [],
   "source": [
    "import ufl\n",
    "V = dolfinx.FunctionSpace(mesh, (\"CG\", 1))\n",
    "u, v = ufl.TrialFunction(V), ufl.TestFunction(V)\n",
    "a = ufl.inner(kappa*ufl.grad(u), ufl.grad(v))*ufl.dx\n",
    "x = ufl.SpatialCoordinate(mesh)\n",
    "L = dolfinx.Constant(mesh, 1) * v * ufl.dx\n",
    "dofs = dolfinx.fem.locate_dofs_geometrical(V, lambda x: np.isclose(x[0], 0))\n",
    "u_D = dolfinx.Function(V)\n",
    "with u_D.vector.localForm() as loc:\n",
    "    loc.setValues(dofs, np.full(len(dofs), 1))\n",
    "bcs = [dolfinx.DirichletBC(u_D, dofs)]"
   ]
  },
  {
   "cell_type": "markdown",
   "metadata": {},
   "source": [
    "We can now solve and visualize the solution of the problem"
   ]
  },
  {
   "cell_type": "code",
   "execution_count": 6,
   "metadata": {},
   "outputs": [
    {
     "data": {
      "application/vnd.jupyter.widget-view+json": {
       "model_id": "531b619c78f8480a9479ceb2e0b68a63",
       "version_major": 2,
       "version_minor": 0
      },
      "text/plain": [
       "ViewInteractiveWidget(height=800, layout=Layout(height='auto', width='100%'), width=800)"
      ]
     },
     "metadata": {},
     "output_type": "display_data"
    }
   ],
   "source": [
    "problem = dolfinx.fem.LinearProblem(a, L, bcs=bcs, petsc_options={\"ksp_type\": \"preonly\", \"pc_type\": \"lu\"})\n",
    "uh = problem.solve()\n",
    "\n",
    "import pyvista\n",
    "# Start virtual framebuffer\n",
    "pyvista.start_xvfb(wait=0.0)\n",
    "\n",
    "import dolfinx.plot\n",
    "p = pyvista.Plotter(window_size=[800, 800], shape=(1,2))\n",
    "# Filter out ghosted cells\n",
    "num_cells_local = mesh.topology.index_map(mesh.topology.dim).size_local\n",
    "marker = np.zeros(num_cells_local, dtype=np.int32)\n",
    "cells_0 = cells_0[cells_0<num_cells_local]\n",
    "cells_1 = cells_1[cells_1<num_cells_local]\n",
    "marker[cells_0] = 1\n",
    "marker[cells_1] = 2\n",
    "topology, cell_types = dolfinx.plot.create_vtk_topology(mesh, mesh.topology.dim, np.arange(num_cells_local, dtype=np.int32))\n",
    "grid = pyvista.UnstructuredGrid(topology, cell_types, mesh.geometry.x)\n",
    "grid.cell_arrays[\"Marker\"] = marker\n",
    "grid.set_active_scalars(\"Marker\")\n",
    "p.subplot(0,0)\n",
    "actor0 = p.add_mesh(grid, show_edges=True)\n",
    "p.subplot(0,1)\n",
    "point_values = uh.compute_point_values()\n",
    "if np.iscomplexobj(point_values):\n",
    "    point_values = point_values.real\n",
    "grid.point_data[\"u\"] = point_values\n",
    "grid.set_active_scalars(\"u\")\n",
    "actor1 = p.add_mesh(grid, show_edges=True)\n",
    "if not pyvista.OFF_SCREEN:\n",
    "    p.show()\n",
    "else:\n",
    "    figure = p.screenshot(\"subdomains_structured.png\")"
   ]
  },
  {
   "cell_type": "markdown",
   "metadata": {},
   "source": [
    "We clearly observe different behavior in the two regions, whose both has the same Dirichlet boundary condition on the left side, where $x=0$."
   ]
  },
  {
   "cell_type": "markdown",
   "metadata": {},
   "source": [
    "## Interpolation with Python-function\n",
    "As we saw in the first approach, in many cases, we can use the geometrical coordinates to determine which coefficient we should use. Using the unstructured mesh from the previous example, we illustrate an alternative approach using interpolation:"
   ]
  },
  {
   "cell_type": "code",
   "execution_count": 7,
   "metadata": {},
   "outputs": [],
   "source": [
    "from petsc4py import PETSc\n",
    "def eval_kappa(x):\n",
    "    values = np.zeros(x.shape[1],dtype=PETSc.ScalarType)\n",
    "    # Create a boolean array indicating which dofs (corresponding to cell centers)\n",
    "    # that are in each domain\n",
    "    top_coords = x[1]>0.5 \n",
    "    bottom_coords = x[1]<0.5\n",
    "    values[top_coords] = np.full(sum(top_coords), 0.1)\n",
    "    values[bottom_coords] = np.full(sum(bottom_coords), 1)\n",
    "    return values\n",
    "kappa2 = dolfinx.Function(Q)\n",
    "kappa2.interpolate(eval_kappa)\n",
    "kappa2.x.scatter_forward()"
   ]
  },
  {
   "cell_type": "markdown",
   "metadata": {},
   "source": [
    "We verify this by assembling the error between this new function and the old one"
   ]
  },
  {
   "cell_type": "code",
   "execution_count": 8,
   "metadata": {},
   "outputs": [
    {
     "name": "stdout",
     "output_type": "stream",
     "text": [
      "0.0\n"
     ]
    }
   ],
   "source": [
    "# Difference in kappa's\n",
    "error = mesh.mpi_comm().allreduce(dolfinx.fem.assemble_scalar((kappa-kappa2)**2*ufl.dx))\n",
    "print(error)"
   ]
  },
  {
   "cell_type": "markdown",
   "metadata": {},
   "source": [
    "## Subdomains defined from external mesh data\n",
    "Let us now consider the same problem, but using GMSH to generate the mesh and subdomains. We will then in turn show how to use this data to generate discontinuous functions in DOLFINx."
   ]
  },
  {
   "cell_type": "code",
   "execution_count": 9,
   "metadata": {},
   "outputs": [],
   "source": [
    "import gmsh\n",
    "gmsh.initialize()\n",
    "proc = MPI.COMM_WORLD.rank \n",
    "top_marker = 2\n",
    "bottom_marker = 1\n",
    "left_marker = 1\n",
    "if proc == 0:\n",
    "    # We create one rectangle for each subdomain\n",
    "    gmsh.model.occ.addRectangle(0, 0, 0, 1, 0.5, tag=1)\n",
    "    gmsh.model.occ.addRectangle(0, 0.5, 0, 1, 0.5, tag=2)\n",
    "    # We fuse the two rectangles and keep the interface between them \n",
    "    gmsh.model.occ.fragment([(2,1)],[(2,2)])\n",
    "    gmsh.model.occ.synchronize()\n",
    "   \n",
    "    # Mark the top (2) and bottom (1) rectangle\n",
    "    top, bottom = None, None\n",
    "    for surface in gmsh.model.getEntities(dim=2):\n",
    "        com = gmsh.model.occ.getCenterOfMass(surface[0], surface[1])\n",
    "        if np.allclose(com, [0.5,0.25, 0]):\n",
    "            bottom = surface[1]\n",
    "        else:\n",
    "            top = surface[1]\n",
    "    gmsh.model.addPhysicalGroup(2, [bottom], bottom_marker)\n",
    "    gmsh.model.addPhysicalGroup(2, [top], top_marker)\n",
    "    # Tag the left boundary\n",
    "    left = []\n",
    "    for line in gmsh.model.getEntities(dim=1):\n",
    "        com = gmsh.model.occ.getCenterOfMass(line[0], line[1])\n",
    "        if np.isclose(com[0], 0):\n",
    "            left.append(line[1])\n",
    "    gmsh.model.addPhysicalGroup(1, left, left_marker)\n",
    "    gmsh.model.mesh.generate(2)\n",
    "    gmsh.write(\"mesh.msh\")\n",
    "gmsh.finalize()"
   ]
  },
  {
   "cell_type": "markdown",
   "metadata": {},
   "source": [
    "## Convert msh-files to XDMF using meshio\n",
    "We will use `meshio` to read in the `msh` file, and convert it to a more suitable IO format. Meshio requires `h54py`, and can be installed on linux with the following commands:\n",
    "```{code}\n",
    "export HDF5_MPI=\"ON\"\n",
    "export CC=mpicc\n",
    "export HDF5_DIR=\"/usr/lib/x86_64-linux-gnu/hdf5/mpich/\"\n",
    "pip3 install --no-cache-dir --no-binary=h5py h5py meshio\n",
    "```\n",
    "We start by creating a convenience function for extracting data for a single cell type, and creating a new `meshio.Mesh`."
   ]
  },
  {
   "cell_type": "code",
   "execution_count": 10,
   "metadata": {},
   "outputs": [],
   "source": [
    "import meshio\n",
    "def create_mesh(mesh, cell_type, prune_z=False):\n",
    "    cells = mesh.get_cells_type(cell_type)\n",
    "    cell_data = mesh.get_cell_data(\"gmsh:physical\", cell_type)\n",
    "    out_mesh = meshio.Mesh(points=mesh.points, cells={cell_type: cells}, cell_data={\"name_to_read\":[cell_data]})\n",
    "    if prune_z:\n",
    "        out_mesh.prune_z_0()\n",
    "    return out_mesh"
   ]
  },
  {
   "cell_type": "markdown",
   "metadata": {},
   "source": [
    "This function returns a meshio mesh, including physical markers for the given type. The `prune_z` argument is for cases where we want to use two dimensional meshes. The last coordinate in the mesh (as it is generated in a 3D space) has to be removed for DOLFINx to consider this as a two dimensional geometry."
   ]
  },
  {
   "cell_type": "code",
   "execution_count": 11,
   "metadata": {},
   "outputs": [],
   "source": [
    "if proc == 0:\n",
    "    # Read in mesh\n",
    "    msh = meshio.read(\"mesh.msh\")\n",
    "   \n",
    "    # Create and save one file for the mesh, and one file for the facets \n",
    "    triangle_mesh = create_mesh(msh, \"triangle\", prune_z=True)\n",
    "    line_mesh = create_mesh(msh, \"line\", prune_z=True)\n",
    "    meshio.write(\"mesh.xdmf\", triangle_mesh)\n",
    "    meshio.write(\"mt.xdmf\", line_mesh)"
   ]
  },
  {
   "cell_type": "markdown",
   "metadata": {},
   "source": [
    "We have now written the mesh and the cell markers to one file, and the facet markers in a separate file. We can now read this data in DOLFINx using `XDMFFile.read_mesh` and `XDMFFile.read_meshtags`. The `dolfinx.MeshTags` stores the index of the entity, along with the value of the marker in two one dimensional arrays.\n",
    "\n",
    "Note that we have generated and written the mesh on only one processor. However, the `xdmf`-format supports parallel IO, and we can thus read the mesh in parallel."
   ]
  },
  {
   "cell_type": "code",
   "execution_count": 12,
   "metadata": {},
   "outputs": [],
   "source": [
    "import dolfinx.io\n",
    "with dolfinx.io.XDMFFile(MPI.COMM_WORLD, \"mesh.xdmf\", \"r\") as xdmf:\n",
    "    mesh = xdmf.read_mesh(name=\"Grid\")\n",
    "    ct = xdmf.read_meshtags(mesh, name=\"Grid\")\n",
    "mesh.topology.create_connectivity(mesh.topology.dim, mesh.topology.dim-1)\n",
    "with dolfinx.io.XDMFFile(MPI.COMM_WORLD, \"mt.xdmf\", \"r\") as xdmf:\n",
    "    ft = xdmf.read_meshtags(mesh, name=\"Grid\")"
   ]
  },
  {
   "cell_type": "markdown",
   "metadata": {},
   "source": [
    "We have now read in the mesh and corresponding cell and facet data. We can now create our discontinuous function `kappa` as follows"
   ]
  },
  {
   "cell_type": "code",
   "execution_count": 13,
   "metadata": {},
   "outputs": [],
   "source": [
    "Q = dolfinx.FunctionSpace(mesh, (\"DG\", 0))\n",
    "kappa = dolfinx.Function(Q)\n",
    "with kappa.vector.localForm() as loc:\n",
    "    bottom_cells = ct.indices[ct.values==bottom_marker]\n",
    "    loc.setValues(bottom_cells, np.full(len(bottom_cells), 1))\n",
    "    top_cells = ct.indices[ct.values==top_marker]\n",
    "    loc.setValues(top_cells, np.full(len(top_cells), 0.1))"
   ]
  },
  {
   "cell_type": "markdown",
   "metadata": {},
   "source": [
    "We can also efficiently use the facet data `ft` to create the Dirichlet boundary condition"
   ]
  },
  {
   "cell_type": "code",
   "execution_count": 14,
   "metadata": {},
   "outputs": [],
   "source": [
    "V = dolfinx.FunctionSpace(mesh, (\"CG\", 1))\n",
    "u_bc = dolfinx.Function(V)\n",
    "left_facets = ft.indices[ft.values==left_marker]\n",
    "left_dofs = dolfinx.fem.locate_dofs_topological(V, mesh.topology.dim-1, left_facets)\n",
    "with u_bc.vector.localForm() as loc:\n",
    "    loc.setValues(left_dofs, np.full(len(left_dofs), 1))\n",
    "bcs = [dolfinx.DirichletBC(u_bc, left_dofs)]"
   ]
  },
  {
   "cell_type": "markdown",
   "metadata": {},
   "source": [
    "We can now solve the problem in a similar fashion as above"
   ]
  },
  {
   "cell_type": "code",
   "execution_count": 15,
   "metadata": {},
   "outputs": [
    {
     "data": {
      "application/vnd.jupyter.widget-view+json": {
       "model_id": "e2a9531dbe3844ccb1db6afa0f0ddc6d",
       "version_major": 2,
       "version_minor": 0
      },
      "text/plain": [
       "ViewInteractiveWidget(height=800, layout=Layout(height='auto', width='100%'), width=800)"
      ]
     },
     "metadata": {},
     "output_type": "display_data"
    }
   ],
   "source": [
    "import ufl\n",
    "u, v = ufl.TrialFunction(V), ufl.TestFunction(V)\n",
    "a = ufl.inner(kappa*ufl.grad(u), ufl.grad(v))*ufl.dx\n",
    "x = ufl.SpatialCoordinate(mesh)\n",
    "L = dolfinx.Constant(mesh, 1) * v * ufl.dx\n",
    "\n",
    "problem = dolfinx.fem.LinearProblem(a, L, bcs=bcs, petsc_options={\"ksp_type\": \"preonly\", \"pc_type\": \"lu\"})\n",
    "uh = problem.solve()\n",
    "\n",
    "# As the dolfinx.MeshTag contains a value for every cell in the\n",
    "# geometry, we can attach it directly to the grid\n",
    "\n",
    "topology, cell_types = dolfinx.plot.create_vtk_topology(mesh, mesh.topology.dim)\n",
    "grid = pyvista.UnstructuredGrid(topology, cell_types, mesh.geometry.x)\n",
    "num_local_cells = mesh.topology.index_map(mesh.topology.dim).size_local\n",
    "grid.cell_arrays[\"Marker\"] = ct.values[ct.indices<num_local_cells]\n",
    "grid.set_active_scalars(\"Marker\")\n",
    "\n",
    "p = pyvista.Plotter(window_size=[800, 800], shape=(1,2))\n",
    "p.subplot(0,0)\n",
    "p.add_mesh(grid, show_edges=True)\n",
    "p.subplot(0,1)\n",
    "point_values = uh.compute_point_values()\n",
    "if np.iscomplexobj(point_values):\n",
    "    point_values = point_values.real\n",
    "grid.point_data[\"u\"] = point_values\n",
    "grid.set_active_scalars(\"u\")\n",
    "actor1 = p.add_mesh(grid, show_edges=True)\n",
    "if not pyvista.OFF_SCREEN:\n",
    "    p.show()\n",
    "else:\n",
    "    figure = p.screenshot(\"subdomains_unstructured.png\")"
   ]
  },
  {
   "cell_type": "code",
   "execution_count": null,
   "metadata": {},
   "outputs": [],
   "source": []
  }
 ],
 "metadata": {
  "kernelspec": {
   "display_name": "Python 3",
   "language": "python",
   "name": "python3"
  },
  "language_info": {
   "codemirror_mode": {
    "name": "ipython",
    "version": 3
   },
   "file_extension": ".py",
   "mimetype": "text/x-python",
   "name": "python",
   "nbconvert_exporter": "python",
   "pygments_lexer": "ipython3",
   "version": "3.8.5"
  }
 },
 "nbformat": 4,
 "nbformat_minor": 4
}