{
 "cells": [
  {
   "cell_type": "markdown",
   "metadata": {},
   "source": [
    "# Combining Dirichlet and Neumann conditions\n",
    "\n",
    "Let's return to the Poisson problem from the [Fundamentals chapter](./../chapter1/fundamentals.md) and see how to extend the mathematics and the implementation to handle Dirichlet condition in combination with a Neumann condition.\n",
    "The domain is still the unit square, but now we set the Dirichlet condition $u=u_D$ at the left and right sides, while the Neumann condition \n",
    "```{math}\n",
    "-\\frac{\\partial u}{\\partial n}=g\n",
    "```\n",
    "is applied to the  remaining sides $y=0$ and $y=1$.\n",
    "\n",
    "## The PDE problem\n",
    "Let $\\Lambda_D$ and $\\Lambda_N$ denote parts of the boundary $\\partial \\Omega$ where the Dirichlet and Neumann conditions apply, respectively.\n",
    "The complete boundary-value problem can be written as\n",
    "```{math}\n",
    "-\\nabla^2 u &=f && \\text{in } \\Omega,\\\\\n",
    "u&=u_D &&\\text{on } \\Lambda_D.\\\\\n",
    "-\\frac{\\partial u}{\\partial n}&=g && \\text{on }\\Lambda_N\n",
    "```\n",
    "Again, we choose $u=1+x^2+2y^2$ as the exact solution and adjust $f, g,$ and $u_D$ accordingly\n",
    "```{math}\n",
    "f(x,y)&=-6,\\\\\n",
    "g(x,y)&=\\begin{cases}\n",
    "0, & y=0,\\\\\n",
    "-4, & y=1,\n",
    "\\end{cases}\\\\\n",
    "u_D(x,y)&=1+x^2+2y^2.\n",
    "```\n",
    "For the ease of programming, we define $g$ as a function over the whole domain $\\Omega$ such that $g$ takes on the correct values at $y=0$ and $y=1$. One possible extension is\n",
    "```{math}\n",
    " g(x,y)=-4y.\n",
    "```\n",
    "## The variational formulation\n",
    "The first task is to derive the variational formulatin. This time we cannot omit the boundary term arising from integration by parts, because $v$ is only zero on $\\Lambda_D$. We have\n",
    "```{math}\n",
    "    -\\int_\\Omega (\\nabla^2u)v\\mathrm{d} x =\n",
    "    \\int_\\Omega \\nabla u \\cdot \\nabla v \\mathrm{d} x\n",
    "     - \\int_{\\partial\\Omega}\\frac{\\partial u}{\\partial n}v\\mathrm{d}s,\n",
    "```\n",
    "and since $v=0$ on $\\Lambda_D$,\n",
    "```{math}\n",
    "  - \\int_{\\partial\\Omega}\\frac{\\partial u}{\\partial n}v\\mathrm{d}s=\n",
    "    - \\int_{\\Lambda_N}\\frac{\\partial u}{\\partial n}v\\mathrm{d}s\n",
    "    =\\int_{\\Lambda_N} gv\\mathrm{d}s,\n",
    "```\n",
    "by applying the boundary condition on $\\Lambda_N$.\n",
    "The resulting weak from reads\n",
    "```{math}\n",
    "    \\int_\\Omega \\nabla u \\cdot \\nabla v \\mathrm{d} x = \\int_\\Omega fv\\mathrm{d} x - \\int_{\\Lambda_N}gv\\mathrm{d}s.\n",
    "```\n",
    "Expressing this equation in the standard notation $a(u,v)=L(v)$ is straight-forward with \n",
    "```{math}\n",
    "    a(u,v) &= \\int_{\\Omega} \\nabla u \\cdot \\nabla v \\mathrm{d} x,\\\\\n",
    "    L(v) &= \\int_{\\Omega} fv \\mathrm{d} x - \\int_{\\Lambda_N} gv~\\mathrm{d} s.\n",
    "```\n",
    "\n",
    "## Implementation\n",
    "Author: Jørgen S. Dokken\n",
    "As in the previous example, we define our mesh,function space and bilinear form $a(u,v)$."
   ]
  },
  {
   "cell_type": "code",
   "execution_count": 11,
   "metadata": {},
   "outputs": [],
   "source": [
    "import dolfinx\n",
    "import numpy as np\n",
    "import ufl\n",
    "\n",
    "from mpi4py import MPI\n",
    "from petsc4py import PETSc\n",
    "\n",
    "mesh = dolfinx.UnitSquareMesh(MPI.COMM_WORLD, 10, 10)\n",
    "V = dolfinx.FunctionSpace(mesh, (\"CG\", 1))\n",
    "u = ufl.TrialFunction(V)\n",
    "v = ufl.TestFunction(V)\n",
    "a = ufl.dot(ufl.grad(u), ufl.grad(v))*ufl.dx"
   ]
  },
  {
   "cell_type": "markdown",
   "metadata": {},
   "source": [
    "Now we get to the Neumann and Dirichlet boundary condition. As previously, we use a Python-function to define the boundary where we should have a Dirichlet condition. Then, with this function, we locate degrees of freedom that fullfils this condition. "
   ]
  },
  {
   "cell_type": "code",
   "execution_count": 12,
   "metadata": {},
   "outputs": [],
   "source": [
    "def u_exact(x):\n",
    "    return 1 + x[0]**2 + 2*x[1]**2\n",
    "\n",
    "def boundary_D(x):\n",
    "    return np.logical_or(np.isclose(x[0], 0), np.isclose(x[0],1))\n",
    "\n",
    "dofs_D = dolfinx.fem.locate_dofs_geometrical(V, boundary_D)\n",
    "u_bc = dolfinx.Function(V)\n",
    "u_bc.interpolate(u_exact)\n",
    "u_bc.vector.ghostUpdate(PETSc.InsertMode.INSERT_VALUES, PETSc.ScatterMode.FORWARD)\n",
    "bc = dolfinx.DirichletBC(u_bc, dofs_D)"
   ]
  },
  {
   "cell_type": "markdown",
   "metadata": {},
   "source": [
    "The next step is to define the Neumann condition. We first define $g$ uses `UFL`s `SpatialCoordinate`-function, and then in turn create a boundary integration measure `ds`. As the test function $v$ is zero on the boundary integrals over the Dirichlet boundary dissapears, and wee can integrate `g*v*ds` over the entire boundary."
   ]
  },
  {
   "cell_type": "code",
   "execution_count": 13,
   "metadata": {},
   "outputs": [],
   "source": [
    "x = ufl.SpatialCoordinate(mesh)\n",
    "g = -4 * x[1]\n",
    "f = dolfinx.Constant(mesh, -6)\n",
    "L = f * v * ufl.dx - g * v * ufl.ds"
   ]
  },
  {
   "cell_type": "markdown",
   "metadata": {},
   "source": [
    "We can now assemble and solve the linear system of equations "
   ]
  },
  {
   "cell_type": "code",
   "execution_count": 14,
   "metadata": {},
   "outputs": [
    {
     "name": "stdout",
     "output_type": "stream",
     "text": [
      "Error_L2 = 5.27e-03\n",
      "Error_max = 7.11e-15\n"
     ]
    }
   ],
   "source": [
    "problem = dolfinx.fem.LinearProblem(a, L, bcs=[bc], petsc_options={\"ksp_type\": \"preonly\", \"pc_type\": \"lu\"})\n",
    "uh = problem.solve()\n",
    "\n",
    "V2 = dolfinx.FunctionSpace(mesh, (\"CG\", 2))\n",
    "uex = dolfinx.Function(V2)\n",
    "uex.interpolate(u_exact)\n",
    "uex.vector.ghostUpdate(addv=PETSc.InsertMode.INSERT, mode=PETSc.ScatterMode.FORWARD)\n",
    "error_L2 = dolfinx.fem.assemble_scalar((uh - uex)**2 * ufl.dx)\n",
    "error_L2 = np.sqrt(MPI.COMM_WORLD.allreduce(error_L2, op=MPI.SUM))\n",
    "\n",
    "u_vertex_values = uh.compute_point_values()\n",
    "u_ex_vertex_values = uex.compute_point_values()\n",
    "error_max = np.max(np.abs(u_vertex_values - u_ex_vertex_values))\n",
    "error_max = MPI.COMM_WORLD.allreduce(error_max, op=MPI.MAX)\n",
    "print(\"Error_L2 = {0:.2e}\".format(error_L2))\n",
    "print(\"Error_max = {0:.2e}\".format(error_max))"
   ]
  },
  {
   "cell_type": "markdown",
   "metadata": {},
   "source": [
    "## Visualization\n",
    "To look at the actual solution, run the script as a python script with `off_screen=True` or as a Jupyter notebook with `off_screen=False`"
   ]
  },
  {
   "cell_type": "code",
   "execution_count": 15,
   "metadata": {},
   "outputs": [],
   "source": [
    "import pyvista\n",
    "import dolfinx.plot\n",
    "pyvista_cells, cell_types = dolfinx.plot.create_vtk_topology(mesh, mesh.topology.dim)\n",
    "grid = pyvista.UnstructuredGrid(pyvista_cells, cell_types, mesh.geometry.x)\n",
    "point_values = uh.compute_point_values()\n",
    "if np.iscomplexobj(point_values):\n",
    "    point_values = point_values.real\n",
    "grid.point_arrays[\"u\"] = point_values\n",
    "grid.set_active_scalars(\"u\")\n",
    "\n",
    "off_screen = True\n",
    "plotter = pyvista.Plotter(off_screen=off_screen)\n",
    "plotter.add_text(\"uh\", position=\"upper_edge\", font_size=14, color=\"black\")\n",
    "plotter.add_mesh(grid, show_edges=True)\n",
    "plotter.view_xy()\n",
    "if off_screen:\n",
    "    plotter.screenshot(\"neumann_dirichlet.png\", window_size=[800,800])\n",
    "else:\n",
    "    plotter.show()"
   ]
  },
  {
   "cell_type": "code",
   "execution_count": null,
   "metadata": {},
   "outputs": [],
   "source": []
  }
 ],
 "metadata": {
  "kernelspec": {
   "display_name": "Python 3",
   "language": "python",
   "name": "python3"
  },
  "language_info": {
   "codemirror_mode": {
    "name": "ipython",
    "version": 3
   },
   "file_extension": ".py",
   "mimetype": "text/x-python",
   "name": "python",
   "nbconvert_exporter": "python",
   "pygments_lexer": "ipython3",
   "version": "3.8.5"
  }
 },
 "nbformat": 4,
 "nbformat_minor": 4
}
