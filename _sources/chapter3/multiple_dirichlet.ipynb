{
 "cells": [
  {
   "cell_type": "markdown",
   "metadata": {},
   "source": [
    "# Setting multiple Dirichlet condition\n",
    "\n",
    "In the previous section, we used a single function to $u_d$ to setting Dirichlet conditions on two parts of the boundary. However, it is often more practical to use multiple functins, one for each subdomain of the boundary. We consider a similar example to [the previous example](./neumann_dirichlet_code) and redefine it consist of two Dirichlet boundary conditions\n",
    "\n",
    "$$\n",
    "-\\nabla^2 u =f \\quad \\text{in } \\Omega,\n",
    "$$\n",
    "\n",
    "$$\n",
    "u=u_L \\quad \\text{on } \\Lambda_D^L\n",
    "$$\n",
    "\n",
    "$$\n",
    "u=u_R \\quad \\text{on } \\Lambda_D^R\n",
    "$$\n",
    "\n",
    "$$\n",
    "-\\frac{\\partial u}{\\partial n} = g \\quad \\text{on } \\Lambda_N.\n",
    "$$\n",
    "Here, $\\Lambda_D^L$ is the left boundary $x=0$,  while $\\Lambda_D^R$ is the right boundary $x=1$. \n",
    "We note that $u_L(y)=1+2y^2$, $u_R(y)=2+2y^2$ and $g(y)=-4y$ using the same analytical example as in the previous section.\n",
    "\n",
    "We start by defining the mesh, function space and variational formulation as in the previous exercise"
   ]
  },
  {
   "cell_type": "code",
   "execution_count": 1,
   "metadata": {},
   "outputs": [],
   "source": [
    "import dolfinx\n",
    "import numpy as np\n",
    "import ufl\n",
    "\n",
    "from mpi4py import MPI\n",
    "\n",
    "def u_exact(x):\n",
    "    return 1 + x[0]**2 + 2*x[1]**2\n",
    "\n",
    "mesh = dolfinx.UnitSquareMesh(MPI.COMM_WORLD, 10, 10)\n",
    "V = dolfinx.FunctionSpace(mesh, (\"CG\", 1))\n",
    "u = ufl.TrialFunction(V)\n",
    "v = ufl.TestFunction(V)\n",
    "a = ufl.dot(ufl.grad(u), ufl.grad(v))*ufl.dx\n",
    "x = ufl.SpatialCoordinate(mesh)\n",
    "g = - 4 * x[1]\n",
    "f = dolfinx.Constant(mesh, -6)\n",
    "L = f * v * ufl.dx - g * v * ufl.ds"
   ]
  },
  {
   "cell_type": "markdown",
   "metadata": {},
   "source": [
    "We next mark the two boundaries separately, starting with the left boundary"
   ]
  },
  {
   "cell_type": "code",
   "execution_count": 2,
   "metadata": {},
   "outputs": [],
   "source": [
    "dofs_L = dolfinx.fem.locate_dofs_geometrical(V, lambda x: np.isclose(x[0], 0))\n",
    "u_L = dolfinx.Function(V)\n",
    "u_L.interpolate(lambda x: 1 + 2*x[1]**2)\n",
    "u_L.x.scatter_forward()\n",
    "bc_L = dolfinx.DirichletBC(u_L, dofs_L)"
   ]
  },
  {
   "cell_type": "markdown",
   "metadata": {},
   "source": [
    "Note that we have used `lambda`-functions to compactly define the functions returning the subdomain evaluation and function evaluation. We can use a similar procedure for the right boundary condition, and gather both boundary conditions in a vector `bcs`."
   ]
  },
  {
   "cell_type": "code",
   "execution_count": 3,
   "metadata": {},
   "outputs": [],
   "source": [
    "dofs_R = dolfinx.fem.locate_dofs_geometrical(V, lambda x: np.isclose(x[0], 1))\n",
    "u_R = dolfinx.Function(V)\n",
    "u_R.interpolate(lambda x: 2 + 2*x[1]**2)\n",
    "u_R.x.scatter_forward()\n",
    "bc_R = dolfinx.DirichletBC(u_R, dofs_R)\n",
    "bcs = [bc_R, bc_L]"
   ]
  },
  {
   "cell_type": "markdown",
   "metadata": {},
   "source": [
    "We are now ready to again solve the problem, and check the $L^2$ and max error at the mesh vertices."
   ]
  },
  {
   "cell_type": "code",
   "execution_count": 4,
   "metadata": {},
   "outputs": [
    {
     "name": "stdout",
     "output_type": "stream",
     "text": [
      "Error_L2 : 5.27e-03\n",
      "Error_max : 6.22e-15\n"
     ]
    }
   ],
   "source": [
    "problem = dolfinx.fem.LinearProblem(a, L, bcs=bcs, petsc_options={\"ksp_type\": \"preonly\", \"pc_type\": \"lu\"})\n",
    "uh = problem.solve()\n",
    "\n",
    "V2 = dolfinx.FunctionSpace(mesh, (\"CG\", 2))\n",
    "uex = dolfinx.Function(V2)\n",
    "uex.interpolate(u_exact)\n",
    "uex.x.scatter_forward()\n",
    "error_L2 = dolfinx.fem.assemble_scalar((uh - uex)**2 * ufl.dx)\n",
    "error_L2 = np.sqrt(MPI.COMM_WORLD.allreduce(error_L2, op=MPI.SUM))\n",
    "\n",
    "u_vertex_values = uh.compute_point_values()\n",
    "u_ex_vertex_values = uex.compute_point_values()\n",
    "error_max = np.max(np.abs(u_vertex_values - u_ex_vertex_values))\n",
    "error_max = MPI.COMM_WORLD.allreduce(error_max, op=MPI.MAX)\n",
    "print(f\"Error_L2 : {error_L2:.2e}\")\n",
    "print(f\"Error_max : {error_max:.2e}\")"
   ]
  },
  {
   "cell_type": "markdown",
   "metadata": {},
   "source": [
    "## Visualization\n",
    "To visualize the solution, run the script with in a Jupyter notebook with `off_screen=False` or as a python script with `off_screen=True`."
   ]
  },
  {
   "cell_type": "code",
   "execution_count": 5,
   "metadata": {},
   "outputs": [
    {
     "data": {
      "application/vnd.jupyter.widget-view+json": {
       "model_id": "a67bee08256d44e2ae3c06687f323de7",
       "version_major": 2,
       "version_minor": 0
      },
      "text/plain": [
       "ViewInteractiveWidget(height=768, layout=Layout(height='auto', width='100%'), width=1024)"
      ]
     },
     "metadata": {},
     "output_type": "display_data"
    }
   ],
   "source": [
    "import pyvista\n",
    "# Start virtual framebuffer\n",
    "pyvista.start_xvfb(wait=0.0)\n",
    "\n",
    "import dolfinx.plot\n",
    "pyvista_cells, cell_types = dolfinx.plot.create_vtk_topology(mesh, mesh.topology.dim)\n",
    "grid = pyvista.UnstructuredGrid(pyvista_cells, cell_types, mesh.geometry.x)\n",
    "point_values = uh.compute_point_values()\n",
    "if np.iscomplexobj(point_values):\n",
    "    point_values = point_values.real\n",
    "grid.point_arrays[\"u\"] = point_values\n",
    "grid.set_active_scalars(\"u\")\n",
    "\n",
    "plotter = pyvista.Plotter()\n",
    "plotter.add_text(\"uh\", position=\"upper_edge\", font_size=14, color=\"black\")\n",
    "plotter.add_mesh(grid, show_edges=True)\n",
    "plotter.view_xy()\n",
    "if not pyvista.OFF_SCREEN:\n",
    "    plotter.show()\n",
    "else:\n",
    "    figure = plotter.screenshot(\"multiple_dirichlet.png\")"
   ]
  },
  {
   "cell_type": "code",
   "execution_count": null,
   "metadata": {},
   "outputs": [],
   "source": []
  }
 ],
 "metadata": {
  "kernelspec": {
   "display_name": "Python 3",
   "language": "python",
   "name": "python3"
  },
  "language_info": {
   "codemirror_mode": {
    "name": "ipython",
    "version": 3
   },
   "file_extension": ".py",
   "mimetype": "text/x-python",
   "name": "python",
   "nbconvert_exporter": "python",
   "pygments_lexer": "ipython3",
   "version": "3.8.5"
  }
 },
 "nbformat": 4,
 "nbformat_minor": 4
}