{
 "cells": [
  {
   "cell_type": "markdown",
   "id": "073e2acd",
   "metadata": {},
   "source": [
    "# JIT Parameters\n",
    "Author:Jørgen S. Dokken\n",
    "\n",
    "In this chapter, we will explore how to optimize and inspect the integration kernels used in DOLFINx.\n",
    "As we have seen in the previous demos, dolfinx uses the [Unified form language](https://github.com/FEniCS/ufl/) to describe variational problems.\n",
    "\n",
    "These descriptions has to be translated in to code for assembling the right and left hand side of the discrete variational problem. \n",
    "\n",
    "DOLFINx uses [ffcx](https://github.com/FEniCS/ffcx/) to generate efficient C code assembling the element matrices.\n",
    "This C code is in turned compiled using [CFFI](https://cffi.readthedocs.io/en/latest/), and we can specify a variety of compile options.\n",
    "\n",
    "We start by specifying the current directory as the place to place the generated C files, we obtain the current directory using pathlib"
   ]
  },
  {
   "cell_type": "code",
   "execution_count": 1,
   "id": "d15751a5",
   "metadata": {},
   "outputs": [
    {
     "name": "stdout",
     "output_type": "stream",
     "text": [
      "Directory to put C files in: /home/shared/chapter4/.cache\n"
     ]
    }
   ],
   "source": [
    "from pathlib import Path\n",
    "cache_dir = f\"{str(Path.cwd())}/.cache\"\n",
    "print(f\"Directory to put C files in: {cache_dir}\")"
   ]
  },
  {
   "cell_type": "markdown",
   "id": "3f832e78",
   "metadata": {},
   "source": [
    "Next we generate a general function to assemble the mass matrix for a UnitCube. Note that we use `dolfinx.fem.Form` to compile the variational form. For codes using `dolfinx.LinearProblem`, you can supply `jit_parameters` as a keyword argument."
   ]
  },
  {
   "cell_type": "code",
   "execution_count": 2,
   "id": "a25b567d",
   "metadata": {},
   "outputs": [],
   "source": [
    "import dolfinx\n",
    "from mpi4py import MPI\n",
    "from typing import Dict\n",
    "import time\n",
    "import ufl\n",
    "\n",
    "def compile_form(space:str, degree:int, jit_parameters:Dict):\n",
    "    N = 10\n",
    "    mesh = dolfinx.UnitCubeMesh(MPI.COMM_WORLD, N, N, N)\n",
    "    V = dolfinx.FunctionSpace(mesh, (space, degree))\n",
    "    u = ufl.TrialFunction(V)\n",
    "    v = ufl.TestFunction(V)\n",
    "    a = ufl.inner(u, v) * ufl.dx\n",
    "    a_compiled = dolfinx.fem.Form(a, jit_parameters=jit_parameters)\n",
    "    start = time.time()\n",
    "    dolfinx.fem.assemble_matrix(a_compiled)\n",
    "    end = time.time()\n",
    "    print(f\"({space}, {degree}) {jit_parameters['cffi_extra_compile_args']}: {end-start} s\")"
   ]
  },
  {
   "cell_type": "markdown",
   "id": "93afb3b1",
   "metadata": {},
   "source": [
    "We start by considering the different levels of optimization the C compiled can use on the optimized code. A list of optimization options and explainations can be found [here](https://gcc.gnu.org/onlinedocs/gcc/Optimize-Options.html)"
   ]
  },
  {
   "cell_type": "code",
   "execution_count": 3,
   "id": "89f1aa99",
   "metadata": {},
   "outputs": [],
   "source": [
    "optimization_options = [\"-O1\", \"-O2\", \"-O3\", \"-Ofast\"]"
   ]
  },
  {
   "cell_type": "markdown",
   "id": "2c4e990d",
   "metadata": {},
   "source": [
    "The next option we can choose is if we want to compile the code with `-march=native` or not. This option enables instructions for the local machine, and can give different results on different systems. More information can be found [here](https://gcc.gnu.org/onlinedocs/gcc/AArch64-Options.html#g_t-march-and--mcpu-Feature-Modifiers)"
   ]
  },
  {
   "cell_type": "code",
   "execution_count": 4,
   "id": "290e2bf0",
   "metadata": {},
   "outputs": [],
   "source": [
    "march_native = [True, False]"
   ]
  },
  {
   "cell_type": "markdown",
   "id": "343e51ab",
   "metadata": {},
   "source": [
    "We choose a subset of finite element spaces, varying the order of the space to look at the effects it has on the assembly time with different compile options."
   ]
  },
  {
   "cell_type": "code",
   "execution_count": 5,
   "id": "15d6fe23",
   "metadata": {},
   "outputs": [
    {
     "name": "stdout",
     "output_type": "stream",
     "text": [
      "(N1curl, 1) ['-O1', '-march=native']: 0.02358245849609375 s\n",
      "(N1curl, 1) ['-O2', '-march=native']: 0.02239680290222168 s\n",
      "(N1curl, 1) ['-O3', '-march=native']: 0.019269227981567383 s\n",
      "(N1curl, 1) ['-Ofast', '-march=native']: 0.01844191551208496 s\n",
      "(N1curl, 1) ['-O1']: 0.02351093292236328 s\n",
      "(N1curl, 1) ['-O2']: 0.022663593292236328 s\n",
      "(N1curl, 1) ['-O3']: 0.0205535888671875 s\n",
      "(N1curl, 1) ['-Ofast']: 0.01865553855895996 s\n",
      "(N1curl, 2) ['-O1', '-march=native']: 0.36463403701782227 s\n",
      "(N1curl, 2) ['-O2', '-march=native']: 0.28248047828674316 s\n",
      "(N1curl, 2) ['-O3', '-march=native']: 0.15567302703857422 s\n",
      "(N1curl, 2) ['-Ofast', '-march=native']: 0.17487168312072754 s\n",
      "(N1curl, 2) ['-O1']: 0.34765076637268066 s\n",
      "(N1curl, 2) ['-O2']: 0.2997701168060303 s\n",
      "(N1curl, 2) ['-O3']: 0.18477249145507812 s\n",
      "(N1curl, 2) ['-Ofast']: 0.17911696434020996 s\n",
      "(N1curl, 3) ['-O1', '-march=native']: 2.34515118598938 s\n",
      "(N1curl, 3) ['-O2', '-march=native']: 2.121826171875 s\n",
      "(N1curl, 3) ['-O3', '-march=native']: 0.887540340423584 s\n",
      "(N1curl, 3) ['-Ofast', '-march=native']: 0.8927888870239258 s\n",
      "(N1curl, 3) ['-O1']: 2.666625499725342 s\n",
      "(N1curl, 3) ['-O2']: 2.579758882522583 s\n",
      "(N1curl, 3) ['-O3']: 1.4963996410369873 s\n",
      "(N1curl, 3) ['-Ofast']: 1.4668617248535156 s\n",
      "(CG, 1) ['-O1', '-march=native']: 0.005071878433227539 s\n",
      "(CG, 1) ['-O2', '-march=native']: 0.005331277847290039 s\n",
      "(CG, 1) ['-O3', '-march=native']: 0.004893064498901367 s\n",
      "(CG, 1) ['-Ofast', '-march=native']: 0.005663871765136719 s\n",
      "(CG, 1) ['-O1']: 0.005278587341308594 s\n",
      "(CG, 1) ['-O2']: 0.005583286285400391 s\n",
      "(CG, 1) ['-O3']: 0.0050165653228759766 s\n",
      "(CG, 1) ['-Ofast']: 0.0047855377197265625 s\n",
      "(CG, 2) ['-O1', '-march=native']: 0.042411088943481445 s\n",
      "(CG, 2) ['-O2', '-march=native']: 0.041135549545288086 s\n",
      "(CG, 2) ['-O3', '-march=native']: 0.03868865966796875 s\n",
      "(CG, 2) ['-Ofast', '-march=native']: 0.03909873962402344 s\n",
      "(CG, 2) ['-O1']: 0.043932437896728516 s\n",
      "(CG, 2) ['-O2']: 0.04411435127258301 s\n",
      "(CG, 2) ['-O3']: 0.043426513671875 s\n",
      "(CG, 2) ['-Ofast']: 0.03881955146789551 s\n",
      "(CG, 3) ['-O1', '-march=native']: 0.17799067497253418 s\n",
      "(CG, 3) ['-O2', '-march=native']: 0.1824805736541748 s\n",
      "(CG, 3) ['-O3', '-march=native']: 0.16198444366455078 s\n",
      "(CG, 3) ['-Ofast', '-march=native']: 0.15658807754516602 s\n",
      "(CG, 3) ['-O1']: 0.24227571487426758 s\n",
      "(CG, 3) ['-O2']: 0.2009589672088623 s\n",
      "(CG, 3) ['-O3']: 0.16854000091552734 s\n",
      "(CG, 3) ['-Ofast']: 0.16658377647399902 s\n",
      "(RT, 1) ['-O1', '-march=native']: 0.02400040626525879 s\n",
      "(RT, 1) ['-O2', '-march=native']: 0.019255638122558594 s\n",
      "(RT, 1) ['-O3', '-march=native']: 0.013936281204223633 s\n",
      "(RT, 1) ['-Ofast', '-march=native']: 0.013363122940063477 s\n",
      "(RT, 1) ['-O1']: 0.016825199127197266 s\n",
      "(RT, 1) ['-O2']: 0.018396854400634766 s\n",
      "(RT, 1) ['-O3']: 0.016160249710083008 s\n",
      "(RT, 1) ['-Ofast']: 0.014037132263183594 s\n",
      "(RT, 2) ['-O1', '-march=native']: 0.2053079605102539 s\n",
      "(RT, 2) ['-O2', '-march=native']: 0.17415118217468262 s\n",
      "(RT, 2) ['-O3', '-march=native']: 0.11889767646789551 s\n",
      "(RT, 2) ['-Ofast', '-march=native']: 0.11994457244873047 s\n",
      "(RT, 2) ['-O1']: 0.20112061500549316 s\n",
      "(RT, 2) ['-O2']: 0.1912064552307129 s\n",
      "(RT, 2) ['-O3']: 0.13911890983581543 s\n",
      "(RT, 2) ['-Ofast']: 0.1391441822052002 s\n",
      "(RT, 3) ['-O1', '-march=native']: 1.672398567199707 s\n",
      "(RT, 3) ['-O2', '-march=native']: 1.3014743328094482 s\n",
      "(RT, 3) ['-O3', '-march=native']: 0.5380518436431885 s\n",
      "(RT, 3) ['-Ofast', '-march=native']: 0.5467996597290039 s\n",
      "(RT, 3) ['-O1']: 1.7603273391723633 s\n",
      "(RT, 3) ['-O2']: 1.5129048824310303 s\n",
      "(RT, 3) ['-O3']: 0.9354259967803955 s\n",
      "(RT, 3) ['-Ofast']: 0.9162938594818115 s\n"
     ]
    }
   ],
   "source": [
    "for space in [\"N1curl\", \"CG\", \"RT\"]:\n",
    "    for degree in [1, 2, 3]:\n",
    "        for native in march_native:\n",
    "            for option in optimization_options:\n",
    "                if native:\n",
    "                    cffi_options = [option, \"-march=native\"]\n",
    "                else:\n",
    "                    cffi_options = [option]\n",
    "                jit_parameters = {\"cffi_extra_compile_args\": cffi_options, \n",
    "                    \"cache_dir\": cache_dir, \"cffi_libraries\": [\"m\"]}\n",
    "                compile_form(space, degree, jit_parameters=jit_parameters)"
   ]
  },
  {
   "cell_type": "markdown",
   "id": "29b572e8",
   "metadata": {},
   "source": [
    "As we observed in the output, the main influence on the compilation time is the optimization level, but in certain cases, `-march=native` can reduce the compilation file significantly."
   ]
  },
  {
   "cell_type": "code",
   "execution_count": null,
   "id": "a5964cea",
   "metadata": {},
   "outputs": [],
   "source": []
  }
 ],
 "metadata": {
  "kernelspec": {
   "display_name": "Python 3",
   "language": "python",
   "name": "python3"
  },
  "language_info": {
   "codemirror_mode": {
    "name": "ipython",
    "version": 3
   },
   "file_extension": ".py",
   "mimetype": "text/x-python",
   "name": "python",
   "nbconvert_exporter": "python",
   "pygments_lexer": "ipython3",
   "version": "3.8.5"
  }
 },
 "nbformat": 4,
 "nbformat_minor": 5
}
