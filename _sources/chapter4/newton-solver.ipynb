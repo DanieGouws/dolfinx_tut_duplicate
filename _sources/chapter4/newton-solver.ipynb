{
 "cells": [
  {
   "cell_type": "markdown",
   "id": "b9cdb14c-e72e-4af6-a15d-0c16208f91a1",
   "metadata": {},
   "source": [
    "# Custom Newton solvers\n",
    "Author: Jørgen S. Dokken\n",
    "\n",
    "Newtons method, as used in the [non-linear Poisson](./../chapter2/nonlinpoisson_code) problem, is a way of solving a non-linear equation as a sequence of linear equations.\n",
    "\n",
    "Given a function $F:\\mathbb{R}^M\\mapsto \\mathbb{R}^M$, we have that $u_k, u_{k+1}\\in \\mathbb{R}^M$ is related as:\n",
    "\n",
    "$$x_{k+1} = x_{k} - J_F(x_k)^{-1} F(x_k)$$\n",
    "\n",
    "where $J_F$ is the Jacobian matrix of $F$.\n",
    "\n",
    "We can rewrite this equation as $\\delta x_k = x_{k+1} - x_{k}$,\n",
    "\n",
    "$$\n",
    "J_F(x_k)\\delta x_k = - F(x_k)\n",
    "$$\n",
    "\n",
    "and\n",
    "\n",
    "$$\n",
    "x_{k+1} = x_k + \\delta x_k.\n",
    "$$"
   ]
  },
  {
   "cell_type": "markdown",
   "id": "b56589d5-7bff-4679-995a-eb159d43509b",
   "metadata": {},
   "source": [
    "## Problem specification\n",
    "We start by importing all packages needed to solve the problem."
   ]
  },
  {
   "cell_type": "code",
   "execution_count": 1,
   "id": "906854df-c830-4360-8dfe-19666246604a",
   "metadata": {},
   "outputs": [],
   "source": [
    "import dolfinx\n",
    "import matplotlib.pyplot as plt\n",
    "import numpy as np\n",
    "import pyvista\n",
    "import ufl\n",
    "from mpi4py import MPI\n",
    "from petsc4py import PETSc"
   ]
  },
  {
   "cell_type": "markdown",
   "id": "ca93fb7f-4447-4ee9-b26b-b8417eba0bda",
   "metadata": {},
   "source": [
    "We will consider the following non-linear problem:\n",
    "\n",
    "$$ u^2 - 2 u = x^2 + 4x + 3 \\text{ in } [0,1] $$\n",
    "For this problem, we have two solutions, $u=-x-1$, $u=x+3$.\n",
    "We define these roots as python functions, and create an appropriate spacing for plotting these soultions."
   ]
  },
  {
   "cell_type": "code",
   "execution_count": 2,
   "id": "1add746d-35b0-439f-81cf-a9b92a780d2b",
   "metadata": {},
   "outputs": [],
   "source": [
    "def root_0(x):\n",
    "    return 3 + x[0]\n",
    "\n",
    "\n",
    "def root_1(x):\n",
    "    return -1 - x[0]\n",
    "\n",
    "\n",
    "N = 10\n",
    "roots = [root_0, root_1]\n",
    "x_spacing = np.linspace(0, 1, N)"
   ]
  },
  {
   "cell_type": "markdown",
   "id": "8981561a-d457-4fa9-8645-9e32c5c06941",
   "metadata": {},
   "source": [
    "We will start with an initial guess for this problem, $u_0 = 0$.\n",
    "Next, we define the mesh, and the appropriate function space and function `uh` to hold the approximate solution."
   ]
  },
  {
   "cell_type": "code",
   "execution_count": 3,
   "id": "e847e363-6799-4eea-88cf-c8c5abf2649a",
   "metadata": {},
   "outputs": [],
   "source": [
    "mesh = dolfinx.mesh.create_unit_interval(MPI.COMM_WORLD, N)\n",
    "V = dolfinx.fem.FunctionSpace(mesh, (\"CG\", 1))\n",
    "uh = dolfinx.fem.Function(V)"
   ]
  },
  {
   "cell_type": "markdown",
   "id": "55e289ca-7b1b-4af9-a70c-f260ab7cb572",
   "metadata": {},
   "source": [
    "## Definition of residual and Jacobian\n",
    "Next, we define the variational form, by multiplying by a test function and integrating over the domain $[0,1]$"
   ]
  },
  {
   "cell_type": "code",
   "execution_count": 4,
   "id": "ee5f4157-468f-489e-bfc9-d38b23d0f1ff",
   "metadata": {},
   "outputs": [],
   "source": [
    "v = ufl.TestFunction(V)\n",
    "x = ufl.SpatialCoordinate(mesh)\n",
    "F = uh**2 * v * ufl.dx - 2 * uh * v * ufl.dx - (x[0]**2 + 4 * x[0] + 3) * v * ufl.dx\n",
    "residual = dolfinx.fem.form(F)"
   ]
  },
  {
   "cell_type": "markdown",
   "id": "08b23c3f-beb2-4002-8776-4bd309953636",
   "metadata": {},
   "source": [
    "Next, we can define the jacobian $J_F$, by using `ufl.derivative`."
   ]
  },
  {
   "cell_type": "code",
   "execution_count": 5,
   "id": "931cf191-0da5-4acc-9bd4-6dabffaceddf",
   "metadata": {},
   "outputs": [],
   "source": [
    "J = ufl.derivative(F, uh)\n",
    "jacobian = dolfinx.fem.form(J)"
   ]
  },
  {
   "cell_type": "markdown",
   "id": "99a77888-79e7-4a7c-9cbb-d213c998318f",
   "metadata": {},
   "source": [
    "As we will solve this problem in an iterative fashion, we would like to create the sparse matrix and vector containing the residual only once.\n",
    "## Setup of iteration-independent structures"
   ]
  },
  {
   "cell_type": "code",
   "execution_count": 6,
   "id": "39094d34-37bc-40cb-993b-28fba415c407",
   "metadata": {},
   "outputs": [],
   "source": [
    "A = dolfinx.fem.petsc.create_matrix(jacobian)\n",
    "L = dolfinx.fem.petsc.create_vector(residual)"
   ]
  },
  {
   "cell_type": "markdown",
   "id": "751873b8-67f5-47ce-b461-92a6e1b38b67",
   "metadata": {},
   "source": [
    "Next, we create the linear solver and the vector to hold `dx`."
   ]
  },
  {
   "cell_type": "code",
   "execution_count": 7,
   "id": "5ea8a657-de0e-460c-920d-f532dbd8d2b2",
   "metadata": {},
   "outputs": [],
   "source": [
    "solver = PETSc.KSP().create(mesh.comm)\n",
    "solver.setOperators(A)\n",
    "dx = dolfinx.fem.Function(V)"
   ]
  },
  {
   "cell_type": "markdown",
   "id": "e886ec68-6bef-47d0-813d-7622b3e834cb",
   "metadata": {},
   "source": [
    "We would like to monitor the evolution of `uh` for each iteration. Therefore, we get the dof coordinates, and sort them in increasing order."
   ]
  },
  {
   "cell_type": "code",
   "execution_count": 8,
   "id": "79ec8591-46ba-4033-81b9-e494acab8c94",
   "metadata": {},
   "outputs": [],
   "source": [
    "i = 0\n",
    "coords = V.tabulate_dof_coordinates()[:, 0]\n",
    "sort_order = np.argsort(coords)\n",
    "max_iterations = 25\n",
    "solutions = np.zeros((max_iterations + 1, len(coords)))\n",
    "solutions[0] = uh.x.array[sort_order]"
   ]
  },
  {
   "cell_type": "markdown",
   "id": "cae7e06d-ce42-4e62-9697-238a6f3ac284",
   "metadata": {},
   "source": [
    "We are now ready to solve the linear problem. At each iteration, we reassemble the Jacobian and residual, and use the norm of the magnitude of the update (`dx`) as a termination criteria. \n",
    "## The Newton iterations"
   ]
  },
  {
   "cell_type": "code",
   "execution_count": 9,
   "id": "85778eb8-65cb-46cc-aa65-80050bd35914",
   "metadata": {},
   "outputs": [
    {
     "name": "stdout",
     "output_type": "stream",
     "text": [
      "Iteration 1: Correction norm 29.415833333333342\n",
      "Iteration 2: Correction norm 10.776793575710077\n",
      "Iteration 3: Correction norm 2.0488925318207616\n",
      "Iteration 4: Correction norm 0.08991946662079764\n",
      "Iteration 5: Correction norm 0.00022775697020822858\n",
      "Iteration 6: Correction norm 2.211496656626386e-09\n",
      "Iteration 7: Correction norm 1.7457052351197382e-15\n"
     ]
    }
   ],
   "source": [
    "i = 0\n",
    "while i < max_iterations:\n",
    "    # Assemble Jacobian and residual\n",
    "    with L.localForm() as loc_L:\n",
    "        loc_L.set(0)\n",
    "    A.zeroEntries()\n",
    "    dolfinx.fem.petsc.assemble_matrix(A, jacobian)\n",
    "    A.assemble()\n",
    "    dolfinx.fem.petsc.assemble_vector(L, residual)\n",
    "    L.ghostUpdate(addv=PETSc.InsertMode.ADD_VALUES, mode=PETSc.ScatterMode.REVERSE)\n",
    "    \n",
    "    # Scale residual by -1\n",
    "    L.scale(-1)\n",
    "    L.ghostUpdate(addv=PETSc.InsertMode.INSERT_VALUES, mode=PETSc.ScatterMode.FORWARD)\n",
    "\n",
    "    # Solve linear problem\n",
    "    solver.solve(L, dx.vector)\n",
    "    dx.x.scatter_forward()\n",
    "    # Update u_{i+1} = u_i + delta x_i\n",
    "    uh.x.array[:] += dx.x.array\n",
    "    i += 1\n",
    "\n",
    "    # Compute norm of update\n",
    "    correction_norm = dx.vector.norm(0)\n",
    "    print(f\"Iteration {i}: Correction norm {correction_norm}\")\n",
    "    if correction_norm < 1e-10:\n",
    "        break\n",
    "    solutions[i,:] = uh.x.array[sort_order]"
   ]
  },
  {
   "cell_type": "markdown",
   "id": "b7a95ac0-e9da-41fb-8370-3a7dc2fc0a6a",
   "metadata": {},
   "source": [
    "We now compute the magnitude of the residual."
   ]
  },
  {
   "cell_type": "code",
   "execution_count": 10,
   "id": "fb0d52ef-5093-4146-8aff-b3731662a7c5",
   "metadata": {},
   "outputs": [
    {
     "name": "stdout",
     "output_type": "stream",
     "text": [
      "Final residual 6.379796870252556e-16\n"
     ]
    }
   ],
   "source": [
    "dolfinx.fem.petsc.assemble_vector(L, residual)\n",
    "print(f\"Final residual {L.norm(0)}\")"
   ]
  },
  {
   "cell_type": "markdown",
   "id": "fbc8ee4f-1bb4-47fd-8479-c36a02bec075",
   "metadata": {},
   "source": [
    "## Visualization of Newton iterations\n",
    "We next look at the evolution of the solutions and the error of the solution when compared to the two exact roots of the problem."
   ]
  },
  {
   "cell_type": "code",
   "execution_count": 11,
   "id": "659d4e28-84ed-4cdf-a821-172ed979cd47",
   "metadata": {},
   "outputs": [
    {
     "name": "stdout",
     "output_type": "stream",
     "text": [
      "L2-error (root 0) 5.033222956847167\n",
      "L2-error (root 1) 1.1102230246251564e-16\n"
     ]
    },
    {
     "data": {
      "text/plain": [
       "<matplotlib.legend.Legend at 0x7f36f21b22f0>"
      ]
     },
     "execution_count": 11,
     "metadata": {},
     "output_type": "execute_result"
    },
    {
     "data": {
      "image/png": "[encoded data removed]",
      "text/plain": [
       "<Figure size 1080x576 with 1 Axes>"
      ]
     },
     "metadata": {
      "needs_background": "light"
     },
     "output_type": "display_data"
    }
   ],
   "source": [
    "# Plot solution for each of the iterations\n",
    "fig = plt.figure(figsize=(15, 8))\n",
    "for j, solution in enumerate(solutions[:i]):\n",
    "    plt.plot(coords[sort_order], solution, label=f\"Iteration {j}\")\n",
    "\n",
    "# Plot each of the roots of the problem, and compare the approximate solution with each of them\n",
    "args = (\"--go\",)\n",
    "for j, root in enumerate(roots):\n",
    "    u_ex = root(x)\n",
    "    L2_error = dolfinx.fem.form(ufl.inner(uh - u_ex, uh - u_ex) * ufl.dx)\n",
    "    global_L2 = mesh.comm.allreduce(dolfinx.fem.assemble_scalar(L2_error), op=MPI.SUM)\n",
    "    print(f\"L2-error (root {j}) {np.sqrt(global_L2)}\")\n",
    "\n",
    "    kwargs = {} if j == 0 else {\"label\": \"u_exact\"}\n",
    "    plt.plot(x_spacing, root(x_spacing.reshape(1, -1)), *args, **kwargs)\n",
    "plt.grid()\n",
    "plt.legend()"
   ]
  },
  {
   "cell_type": "markdown",
   "id": "34e2947c-e8ee-4f94-8bf5-7841228199a3",
   "metadata": {},
   "source": [
    "# Newton's method with DirichletBC\n",
    "In the previous example, we did not consider handling of Dirichlet boundary conditions. \n",
    "For this example, we will consider the [non-linear Poisson](./../chapter2/nonlinpoisson)-problem.\n",
    "We start by defining the mesh, the analytical solution and the forcing term $f$."
   ]
  },
  {
   "cell_type": "code",
   "execution_count": 12,
   "id": "cc509353-11b7-4d17-bbe2-02c17b4b952f",
   "metadata": {},
   "outputs": [],
   "source": [
    "def q(u):\n",
    "    return 1 + u**2\n",
    "\n",
    "\n",
    "domain = dolfinx.mesh.create_unit_square(MPI.COMM_WORLD, 10, 10)\n",
    "x = ufl.SpatialCoordinate(domain)\n",
    "u_ufl = 1 + x[0] + 2 * x[1]\n",
    "f = - ufl.div(q(u_ufl) * ufl.grad(u_ufl))\n",
    "\n",
    "\n",
    "def u_exact(x):\n",
    "    return eval(str(u_ufl))"
   ]
  },
  {
   "cell_type": "markdown",
   "id": "542898f8-8852-4069-ac62-39532fd41d0a",
   "metadata": {},
   "source": [
    "Next, we define the boundary condition `bc`, the residual `F` and the Jacobian `J`."
   ]
  },
  {
   "cell_type": "code",
   "execution_count": 13,
   "id": "e02ac180-260b-49e5-9b44-830636cc6710",
   "metadata": {
    "lines_to_next_cell": 0
   },
   "outputs": [],
   "source": [
    "V = dolfinx.fem.FunctionSpace(domain, (\"CG\", 1))\n",
    "u_D = dolfinx.fem.Function(V)\n",
    "u_D.interpolate(u_exact)\n",
    "fdim = domain.topology.dim - 1\n",
    "domain.topology.create_connectivity(fdim, fdim + 1)\n",
    "boundary_facets = dolfinx.mesh.exterior_facet_indices(domain.topology)\n",
    "bc = dolfinx.fem.dirichletbc(u_D, dolfinx.fem.locate_dofs_topological(V, fdim, boundary_facets))\n",
    "\n",
    "uh = dolfinx.fem.Function(V)\n",
    "v = ufl.TestFunction(V)\n",
    "F = q(uh) * ufl.dot(ufl.grad(uh), ufl.grad(v)) * ufl.dx - f * v * ufl.dx\n",
    "J = ufl.derivative(F, uh)\n",
    "residual = dolfinx.fem.form(F)\n",
    "jacobian = dolfinx.fem.form(J)\n"
   ]
  },
  {
   "cell_type": "markdown",
   "id": "fcc7d41e-c7d0-460c-993d-7b2b85b323b3",
   "metadata": {},
   "source": [
    "Next, we define the matrix `A`, right hand side vector `L` and the correction function `dx`"
   ]
  },
  {
   "cell_type": "code",
   "execution_count": 14,
   "id": "c4975fcd-a5c0-4bd1-9823-eed2e26b6c32",
   "metadata": {},
   "outputs": [],
   "source": [
    "dx = dolfinx.fem.Function(V)\n",
    "A = dolfinx.fem.petsc.create_matrix(jacobian)\n",
    "L = dolfinx.fem.petsc.create_vector(residual)\n",
    "solver = PETSc.KSP().create(mesh.comm)\n",
    "solver.setOperators(A)"
   ]
  },
  {
   "cell_type": "markdown",
   "id": "7ab3366e-397f-4b72-9266-a5bb1d6245b3",
   "metadata": {
    "lines_to_next_cell": 2
   },
   "source": [
    "As we for this problem has strong Dirichlet conditions, we need to apply lifting to the right hand side of our Newton problem.\n",
    "We previously had that we wanted to solve the system:\n",
    "\n",
    "$$\n",
    "\\begin{align}\n",
    "J_F(x_k)\\delta x_k &= - F(x_k)\\\\\n",
    "x_{k+1} &= x_k + \\delta x_k\n",
    "\\end{align}\n",
    "$$\n",
    "\n",
    "we want $x_{k+1}\\vert_{bc}= u_D$. However, we do not know if $x_k\\vert_{bc}=u_D$.\n",
    "Therefore, we want to apply the following boundary condition for our correction $\\delta x_k$\n",
    "\n",
    "$$\n",
    "\\delta x_k\\vert_{bc} = u_D-x_k\\vert_{bc}\n",
    "$$\n",
    "\n",
    "We therefore arrive at the following Newton scheme"
   ]
  },
  {
   "cell_type": "code",
   "execution_count": 15,
   "id": "d7dede61-7d58-4719-87e3-5b9ac405b22d",
   "metadata": {},
   "outputs": [
    {
     "name": "stdout",
     "output_type": "stream",
     "text": [
      "Iteration 1: Correction norm 217.42584709370274, L2 error: 1.0094486886121277\n",
      "Iteration 2: Correction norm 154.6084904024956, L2 error: 1.02588563725238\n",
      "Iteration 3: Correction norm 49.27246829373009, L2 error: 0.35418859182768087\n",
      "Iteration 4: Correction norm 16.956120024679905, L2 error: 0.0712937382503967\n",
      "Iteration 5: Correction norm 3.166797879449401, L2 error: 0.0045650470120915145\n",
      "Iteration 6: Correction norm 0.17136484115613163, L2 error: 2.6269980227751225e-05\n",
      "Iteration 7: Correction norm 0.0008143265267735323, L2 error: 1.2302021592446042e-09\n",
      "Iteration 8: Correction norm 3.734667253358911e-08, L2 error: 7.0518563018820226e-15\n",
      "Iteration 9: Correction norm 5.462777547226226e-13, L2 error: 2.739351072626026e-16\n"
     ]
    }
   ],
   "source": [
    "i = 0\n",
    "error = dolfinx.fem.form(ufl.inner(uh - u_ufl, uh - u_ufl) * ufl.dx(metadata={\"quadrature_degree\": 4}))\n",
    "L2_error = []\n",
    "dx_norm = []\n",
    "while i < max_iterations:\n",
    "    # Assemble Jacobian and residual\n",
    "    with L.localForm() as loc_L:\n",
    "        loc_L.set(0)\n",
    "    A.zeroEntries()\n",
    "    dolfinx.fem.petsc.assemble_matrix(A, jacobian, bcs=[bc])\n",
    "    A.assemble()\n",
    "    dolfinx.fem.petsc.assemble_vector(L, residual)\n",
    "    L.ghostUpdate(addv=PETSc.InsertMode.ADD, mode=PETSc.ScatterMode.REVERSE)\n",
    "    L.scale(-1)\n",
    "\n",
    "    # Compute b - J(u_D-u_(i-1))\n",
    "    dolfinx.fem.petsc.apply_lifting(L, [jacobian], [[bc]], x0=[uh.vector], scale=1) \n",
    "    # Set dx|_bc = u_{i-1}-u_D\n",
    "    dolfinx.fem.petsc.set_bc(L, [bc], uh.vector, 1.0)\n",
    "    L.ghostUpdate(addv=PETSc.InsertMode.INSERT_VALUES, mode=PETSc.ScatterMode.FORWARD)\n",
    "\n",
    "    # Solve linear problem\n",
    "    solver.solve(L, dx.vector)\n",
    "    dx.x.scatter_forward()\n",
    "\n",
    "    # Update u_{i+1} = u_i + delta x_i\n",
    "    uh.x.array[:] += dx.x.array\n",
    "    i += 1\n",
    "\n",
    "    # Compute norm of update\n",
    "    correction_norm = dx.vector.norm(0)\n",
    "\n",
    "    # Compute L2 error comparing to the analytical solution\n",
    "    L2_error.append(np.sqrt(mesh.comm.allreduce(dolfinx.fem.assemble_scalar(error), op=MPI.SUM)))\n",
    "    dx_norm.append(correction_norm)\n",
    "    \n",
    "    print(f\"Iteration {i}: Correction norm {correction_norm}, L2 error: {L2_error[-1]}\")\n",
    "    if correction_norm < 1e-10:\n",
    "        break"
   ]
  },
  {
   "cell_type": "markdown",
   "id": "c183dd4b-6715-4018-a30b-10930c8aeb14",
   "metadata": {},
   "source": [
    "We plot the $L^2$-error and the residual norm ($\\delta x$) per iteration"
   ]
  },
  {
   "cell_type": "code",
   "execution_count": 16,
   "id": "b3b5250d-21cb-4a63-948b-a7aa80392371",
   "metadata": {},
   "outputs": [
    {
     "data": {
      "image/png": "[encoded data removed]",
      "text/plain": [
       "<Figure size 1080x576 with 2 Axes>"
      ]
     },
     "metadata": {
      "needs_background": "light"
     },
     "output_type": "display_data"
    }
   ],
   "source": [
    "fig = plt.figure(figsize=(15, 8))\n",
    "plt.subplot(121)\n",
    "plt.plot(np.arange(i), L2_error)\n",
    "plt.title(r\"$L^2(\\Omega)$-error of $u_h$\")\n",
    "ax = plt.gca()\n",
    "ax.set_yscale('log')\n",
    "plt.xlabel(\"Iterations\")\n",
    "plt.ylabel(r\"$L^2$-error\")\n",
    "plt.grid()\n",
    "plt.subplot(122)\n",
    "plt.title(r\"Residual of $\\vert\\vert\\delta x_i\\vert\\vert$\") \n",
    "plt.plot(np.arange(i), dx_norm)\n",
    "ax = plt.gca()\n",
    "ax.set_yscale('log')\n",
    "plt.xlabel(\"Iterations\")\n",
    "plt.ylabel(r\"$\\vert\\vert \\delta x\\vert\\vert$\")\n",
    "plt.grid()"
   ]
  },
  {
   "cell_type": "markdown",
   "id": "4b64ffe6-9bf5-435b-9018-16be354dc489",
   "metadata": {},
   "source": [
    "We compute the max error and plot the solution"
   ]
  },
  {
   "cell_type": "code",
   "execution_count": 17,
   "id": "defb735f-7a3d-48ea-b5fe-f29bd59664a7",
   "metadata": {},
   "outputs": [
    {
     "name": "stdout",
     "output_type": "stream",
     "text": [
      "Error_max: 8.88e-16\n"
     ]
    }
   ],
   "source": [
    "error_max = domain.comm.allreduce(np.max(np.abs(uh.x.array - u_D.x.array)), op=MPI.MAX)\n",
    "if domain.comm.rank == 0:\n",
    "    print(f\"Error_max: {error_max:.2e}\")"
   ]
  },
  {
   "cell_type": "code",
   "execution_count": 18,
   "id": "b6f14bf6-c1a7-4edb-9a75-7fdceabd8f0d",
   "metadata": {},
   "outputs": [
    {
     "name": "stderr",
     "output_type": "stream",
     "text": [
      "\u001b[0m\u001b[2m2022-07-03 13:22:38.267 (   1.352s) [        392EB000]    vtkExtractEdges.cxx:435   INFO| \u001b[0mExecuting edge extractor: points are renumbered\u001b[0m\n",
      "\u001b[0m\u001b[2m2022-07-03 13:22:38.267 (   1.352s) [        392EB000]    vtkExtractEdges.cxx:551   INFO| \u001b[0mCreated 320 edges\u001b[0m\n"
     ]
    },
    {
     "data": {
      "application/vnd.jupyter.widget-view+json": {
       "model_id": "2c976444325d42dd9b16ac02f189b511",
       "version_major": 2,
       "version_minor": 0
      },
      "text/plain": [
       "Renderer(camera=PerspectiveCamera(aspect=1.3333333333333333, children=(DirectionalLight(intensity=0.25, positi…"
      ]
     },
     "metadata": {},
     "output_type": "display_data"
    }
   ],
   "source": [
    "pyvista.set_jupyter_backend(\"pythreejs\")\n",
    "u_topology, u_cell_types, u_geometry = dolfinx.plot.create_vtk_mesh(V)\n",
    "u_grid = pyvista.UnstructuredGrid(u_topology, u_cell_types, u_geometry)\n",
    "u_grid.point_data[\"u\"] = uh.x.array.real\n",
    "u_grid.set_active_scalars(\"u\")\n",
    "u_plotter = pyvista.Plotter()\n",
    "u_plotter.add_mesh(u_grid, show_edges=True)\n",
    "u_plotter.view_xy()\n",
    "if not pyvista.OFF_SCREEN:\n",
    "    u_plotter.show()"
   ]
  },
  {
   "cell_type": "code",
   "execution_count": null,
   "id": "a45898d9-8729-4066-baf9-438b4c1b0c21",
   "metadata": {},
   "outputs": [],
   "source": []
  }
 ],
 "metadata": {
  "jupytext": {
   "formats": "ipynb,py:light"
  },
  "kernelspec": {
   "display_name": "Python 3 (ipykernel)",
   "language": "python",
   "name": "python3"
  },
  "language_info": {
   "codemirror_mode": {
    "name": "ipython",
    "version": 3
   },
   "file_extension": ".py",
   "mimetype": "text/x-python",
   "name": "python",
   "nbconvert_exporter": "python",
   "pygments_lexer": "ipython3",
   "version": "3.10.4"
  }
 },
 "nbformat": 4,
 "nbformat_minor": 5
}
