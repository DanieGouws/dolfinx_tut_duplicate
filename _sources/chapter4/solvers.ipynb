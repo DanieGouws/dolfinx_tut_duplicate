{
 "metadata": {
  "language_info": {
   "codemirror_mode": {
    "name": "ipython",
    "version": 3
   },
   "file_extension": ".py",
   "mimetype": "text/x-python",
   "name": "python",
   "nbconvert_exporter": "python",
   "pygments_lexer": "ipython3",
   "version": "3.8.5-final"
  },
  "orig_nbformat": 2,
  "kernelspec": {
   "name": "python3",
   "display_name": "Python 3",
   "language": "python"
  }
 },
 "nbformat": 4,
 "nbformat_minor": 2,
 "cells": [
  {
   "source": [
    "# Solver configuration and error control\n",
    "Author: Jørgen S. Dokken\n",
    "\n",
    "In this section, we will go through how to specify what linear algebra solver we would like to use to solve our PDEs, as well as how to verify the implemenation by considering convergence rates.\n",
    "\n",
    "```{math}\n",
    "-\\Delta u &= f &&\\text{in } \\Omega\\\\\n",
    "u&= u_D &&\\text{on } \\partial \\Omega.\n",
    "```\n",
    "Using the manufactured solution $u_D=\\cos(2\\pi x)\\cos(2\\pi y)$, we obtain $f=8\\pi^2\\cos(2\\pi x)\\cos(2\\pi y)$.\n",
    "We start by creating a generic module for evaluating the analytical solution  at any point $x$."
   ],
   "cell_type": "markdown",
   "metadata": {}
  },
  {
   "cell_type": "code",
   "execution_count": 1,
   "metadata": {},
   "outputs": [],
   "source": [
    "import dolfinx\n",
    "import numpy\n",
    "import ufl\n",
    "\n",
    "def u_ex(mod):\n",
    "    return lambda x: mod.cos(2*mod.pi*x[0])*mod.cos(2*mod.pi*x[1])"
   ]
  },
  {
   "source": [
    "Note that the return type of `u_ex` is a `lambda` function. Thus, we can create two different lambda functions, one using `numpy` (which will be used for interpolation) and one using `ufl` (which will be used for defining the source term)"
   ],
   "cell_type": "markdown",
   "metadata": {}
  },
  {
   "cell_type": "code",
   "execution_count": 2,
   "metadata": {},
   "outputs": [],
   "source": [
    "u_numpy = u_ex(numpy)\n",
    "u_ufl = u_ex(ufl)"
   ]
  },
  {
   "source": [
    "We start by using ufl to define our source term, using `ufl.SpatialCoordinate` as input to `u_ufl`."
   ],
   "cell_type": "markdown",
   "metadata": {}
  },
  {
   "cell_type": "code",
   "execution_count": 3,
   "metadata": {},
   "outputs": [],
   "source": [
    "from mpi4py import MPI\n",
    "mesh = dolfinx.UnitSquareMesh(MPI.COMM_WORLD, 30, 30)\n",
    "x = ufl.SpatialCoordinate(mesh)\n",
    "f = -ufl.div(ufl.grad(u_ufl(x)))"
   ]
  },
  {
   "source": [
    "Next, we define our linear variational problem"
   ],
   "cell_type": "markdown",
   "metadata": {}
  },
  {
   "cell_type": "code",
   "execution_count": 10,
   "metadata": {},
   "outputs": [],
   "source": [
    "from petsc4py import PETSc\n",
    "V = dolfinx.FunctionSpace(mesh, (\"CG\", 1))\n",
    "u = ufl.TrialFunction(V)\n",
    "v = ufl.TestFunction(V)\n",
    "a = ufl.inner(ufl.grad(u), ufl.grad(v)) * ufl.dx\n",
    "L = f * v * ufl.dx\n",
    "u_bc = dolfinx.Function(V)\n",
    "u_bc.interpolate(u_numpy)\n",
    "u_bc.vector.ghostUpdate(addv=PETSc.InsertMode.INSERT, mode=PETSc.ScatterMode.FORWARD)\n",
    "facets = dolfinx.mesh.locate_entities_boundary(mesh, mesh.topology.dim -1, lambda x: numpy.full(x.shape[1], True))\n",
    "dofs = dolfinx.fem.locate_dofs_topological(V, mesh.topology.dim-1, facets)\n",
    "bcs = [dolfinx.DirichletBC(u_bc, dofs)]"
   ]
  },
  {
   "source": [
    "We start by solving the problem with an LU factorization, a direct solver method (similar to Gaussian elimination)."
   ],
   "cell_type": "markdown",
   "metadata": {}
  },
  {
   "cell_type": "code",
   "execution_count": 9,
   "metadata": {},
   "outputs": [],
   "source": [
    "default_problem = dolfinx.fem.LinearProblem(a, L, bcs=bcs,\n",
    "petsc_options={\"ksp_type\": \"preonly\", \"pc_type\": \"lu\"})\n",
    "uh = default_problem.solve()"
   ]
  },
  {
   "source": [
    "We now look at the solver process by inspecting the `PETSc`-solver. As the view-options in PETSc are not adjusted for notebooks (`solver.view()` will print output to the terminal if used in a `.py` file), we write the solver output to file and read it in and print the output."
   ],
   "cell_type": "markdown",
   "metadata": {}
  },
  {
   "cell_type": "code",
   "execution_count": 6,
   "metadata": {},
   "outputs": [
    {
     "output_type": "stream",
     "name": "stdout",
     "text": [
      "KSP Object: (dolfinx_solve_140206046543936) 1 MPI processes\n\n  type: preonly\n\n  maximum iterations=10000, initial guess is zero\n\n  tolerances:  relative=1e-05, absolute=1e-50, divergence=10000.\n\n  left preconditioning\n\n  using NONE norm type for convergence test\n\nPC Object: (dolfinx_solve_140206046543936) 1 MPI processes\n\n  type: lu\n\n    out-of-place factorization\n\n    tolerance for zero pivot 2.22045e-14\n\n    matrix ordering: nd\n\n    factor fill ratio given 5., needed 5.0719\n\n      Factored matrix follows:\n\n        Mat Object: 1 MPI processes\n\n          type: seqaij\n\n          rows=961, cols=961\n\n          package used to perform factorization: petsc\n\n          total: nonzeros=32871, allocated nonzeros=32871\n\n            not using I-node routines\n\n  linear system matrix = precond matrix:\n\n  Mat Object: 1 MPI processes\n\n    type: seqaij\n\n    rows=961, cols=961\n\n    total: nonzeros=6481, allocated nonzeros=6481\n\n    total number of mallocs used during MatSetValues calls=0\n\n      not using I-node routines\n\n"
     ]
    }
   ],
   "source": [
    "lu_solver = default_problem.solver\n",
    "viewer = PETSc.Viewer().createASCII(\"lu_output.txt\")\n",
    "lu_solver.view(viewer)\n",
    "solver_output = open(\"lu_output.txt\", \"r\")\n",
    "for line in solver_output.readlines():\n",
    "    print(line)"
   ]
  },
  {
   "source": [
    "This is a very robust and simple method, and is the recommended method up to a few thousand unknowns and can be efficiently used for many 2D and smaller 3D problems. However, sparse LU decomposition quickly becomes slow, as for a $N\\times N$-matrix the number of floating point operations scales as $\\sim (2/3)N^3$.\n",
    "\n",
    "For large problems, we instead need to use an iterative method which are faster and require less memory. \n",
    "## Choosing a linear solver and preconditioner\n",
    "As the Poisson equation results in a symmetric, positive definite system matrix, the optimal Krylov solver is the conjugate gradient (CG) method. The default preconditioner is the incomplete LU factorization (ILU), which is a popular and robous overall preconditioner. We can change the preconditioner by setting `\"pc_type\"` to some of the other preconditioners in petsc, which you can find in the [PETSc documentation](https://www.mcs.anl.gov/petsc/documentation/linearsolvertable.html). \n",
    "You can set any opition in `PETSc` through the `petsc_options` input, such as the absolute tolerance (`\"ksp_atol\"`), relative tolerance (`\"ksp_rtol\"`) and maximum number of iterations (`\"ksp_max_it\"`)."
   ],
   "cell_type": "markdown",
   "metadata": {}
  },
  {
   "cell_type": "code",
   "execution_count": 7,
   "metadata": {},
   "outputs": [
    {
     "output_type": "stream",
     "name": "stdout",
     "text": [
      "KSP Object: (dolfinx_solve_140206046743040) 1 MPI processes\n\n  type: cg\n\n  maximum iterations=1000, initial guess is zero\n\n  tolerances:  relative=1e-06, absolute=1e-10, divergence=10000.\n\n  left preconditioning\n\n  using PRECONDITIONED norm type for convergence test\n\nPC Object: (dolfinx_solve_140206046743040) 1 MPI processes\n\n  type: ilu\n\n    out-of-place factorization\n\n    0 levels of fill\n\n    tolerance for zero pivot 2.22045e-14\n\n    matrix ordering: natural\n\n    factor fill ratio given 1., needed 1.\n\n      Factored matrix follows:\n\n        Mat Object: 1 MPI processes\n\n          type: seqaij\n\n          rows=961, cols=961\n\n          package used to perform factorization: petsc\n\n          total: nonzeros=6481, allocated nonzeros=6481\n\n            not using I-node routines\n\n  linear system matrix = precond matrix:\n\n  Mat Object: 1 MPI processes\n\n    type: seqaij\n\n    rows=961, cols=961\n\n    total: nonzeros=6481, allocated nonzeros=6481\n\n    total number of mallocs used during MatSetValues calls=0\n\n      not using I-node routines\n\n"
     ]
    }
   ],
   "source": [
    "cg_problem = dolfinx.fem.LinearProblem(a, L, bcs=bcs,\n",
    "petsc_options={\"ksp_type\": \"cg\", \"ksp_rtol\":1e-6, \"ksp_atol\":1e-10, \"ksp_max_it\": 1000})\n",
    "uh = cg_problem.solve()\n",
    "cg_solver = cg_problem.solver\n",
    "viewer = PETSc.Viewer().createASCII(\"cg_output.txt\")\n",
    "cg_solver.view(viewer)\n",
    "solver_output = open(\"cg_output.txt\", \"r\")\n",
    "for line in solver_output.readlines():\n",
    "    print(line)"
   ]
  },
  {
   "source": [
    "For non-symmetrix problems, a Krylov solver for non-symmetrix systems, such as GMRES is a better."
   ],
   "cell_type": "markdown",
   "metadata": {}
  },
  {
   "cell_type": "code",
   "execution_count": 8,
   "metadata": {},
   "outputs": [
    {
     "output_type": "stream",
     "name": "stdout",
     "text": [
      "KSP Object: (dolfinx_solve_140206046741600) 1 MPI processes\n\n  type: gmres\n\n    restart=30, using Classical (unmodified) Gram-Schmidt Orthogonalization with no iterative refinement\n\n    happy breakdown tolerance 1e-30\n\n  maximum iterations=1000, initial guess is zero\n\n  tolerances:  relative=1e-06, absolute=1e-10, divergence=10000.\n\n  left preconditioning\n\n  using PRECONDITIONED norm type for convergence test\n\nPC Object: (dolfinx_solve_140206046741600) 1 MPI processes\n\n  type: none\n\n  linear system matrix = precond matrix:\n\n  Mat Object: 1 MPI processes\n\n    type: seqaij\n\n    rows=961, cols=961\n\n    total: nonzeros=6481, allocated nonzeros=6481\n\n    total number of mallocs used during MatSetValues calls=0\n\n      not using I-node routines\n\n"
     ]
    }
   ],
   "source": [
    "gmres_problem = dolfinx.fem.LinearProblem(a, L, bcs=bcs,\n",
    "petsc_options={\"ksp_type\": \"gmres\", \"ksp_rtol\":1e-6, \"ksp_atol\":1e-10, \"ksp_max_it\": 1000, \"pc_type\": \"none\"})\n",
    "uh = gmres_problem.solve()\n",
    "gmres_solver = gmres_problem.solver\n",
    "viewer = PETSc.Viewer().createASCII(\"gmres_output.txt\")\n",
    "gmres_solver.view(viewer)\n",
    "solver_output = open(\"gmres_output.txt\", \"r\")\n",
    "for line in solver_output.readlines():\n",
    "    print(line)"
   ]
  },
  {
   "source": [
    "```{admonition} A remark regarding verification using iterative solvers\n",
    "When we consider manufactured solutions where we expect the resulting error to be of machine precision, it gets complicated when we use iterative methods. The problem is to keep the error due to the iterative solution smaller than the tolerance used in the iterative test. For linear elements and small meshes, a tolerance of between $10^{-11}$ and $10^{-12}$ works well in the case of Krylov solvers too.\n",
    "```"
   ],
   "cell_type": "markdown",
   "metadata": {}
  }
 ]
}