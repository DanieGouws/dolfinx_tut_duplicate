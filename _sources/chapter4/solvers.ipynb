{
 "metadata": {
  "language_info": {
   "codemirror_mode": {
    "name": "ipython",
    "version": 3
   },
   "file_extension": ".py",
   "mimetype": "text/x-python",
   "name": "python",
   "nbconvert_exporter": "python",
   "pygments_lexer": "ipython3",
   "version": "3.8.5-final"
  },
  "orig_nbformat": 2,
  "kernelspec": {
   "name": "python3",
   "display_name": "Python 3",
   "language": "python"
  }
 },
 "nbformat": 4,
 "nbformat_minor": 2,
 "cells": [
  {
   "source": [
    "# Solver configuration and error control\n",
    "Author: Jørgen S. Dokken\n",
    "\n",
    "In this section, we will go through how to specify what linear algebra solver we would like to use to solve our PDEs, as well as how to verify the implemenation by considering convergence rates.\n",
    "\n",
    "```{math}\n",
    "-\\Delta u &= f &&\\text{in } \\Omega\\\\\n",
    "u&= u_D &&\\text{on } \\partial \\Omega.\n",
    "```\n",
    "Using the manufactured solution $u_D=\\cos(2\\pi x)\\cos(2\\pi y)$, we obtain $f=8\\pi^2\\cos(2\\pi x)\\cos(2\\pi y)$.\n",
    "We start by creating a generic module for evaluating the analytical solution  at any point $x$."
   ],
   "cell_type": "markdown",
   "metadata": {}
  },
  {
   "cell_type": "code",
   "execution_count": 7,
   "metadata": {},
   "outputs": [],
   "source": [
    "import dolfinx\n",
    "import numpy\n",
    "import ufl\n",
    "\n",
    "def u_ex(mod):\n",
    "    return lambda x: mod.cos(2*mod.pi*x[0])*mod.cos(2*mod.pi*x[1])"
   ]
  },
  {
   "source": [
    "Note that the return type of `u_ex` is a `lambda` function. Thus, we can create two different lambda functions, one using `numpy` (which will be used for interpolation) and one using `ufl` (which will be used for defining the source term)"
   ],
   "cell_type": "markdown",
   "metadata": {}
  },
  {
   "cell_type": "code",
   "execution_count": 8,
   "metadata": {},
   "outputs": [],
   "source": [
    "u_numpy = u_ex(numpy)\n",
    "u_ufl = u_ex(ufl)"
   ]
  },
  {
   "source": [
    "We start by using ufl to define our source term, using `ufl.SpatialCoordinate` as input to `u_ufl`."
   ],
   "cell_type": "markdown",
   "metadata": {}
  },
  {
   "cell_type": "code",
   "execution_count": 9,
   "metadata": {},
   "outputs": [],
   "source": [
    "from mpi4py import MPI\n",
    "mesh = dolfinx.UnitSquareMesh(MPI.COMM_WORLD, 30, 30)\n",
    "x = ufl.SpatialCoordinate(mesh)\n",
    "f = -ufl.div(ufl.grad(u_ufl(x)))"
   ]
  },
  {
   "source": [
    "Next, we define our linear variational problem"
   ],
   "cell_type": "markdown",
   "metadata": {}
  },
  {
   "cell_type": "code",
   "execution_count": 10,
   "metadata": {},
   "outputs": [],
   "source": [
    "import petsc4py, sys\n",
    "petsc4py.init(sys.argv)\n",
    "from petsc4py import PETSc\n",
    "V = dolfinx.FunctionSpace(mesh, (\"CG\", 1))\n",
    "u = ufl.TrialFunction(V)\n",
    "v = ufl.TestFunction(V)\n",
    "a = u * v * ufl.dx\n",
    "L = f * v * ufl.dx\n",
    "u_bc = dolfinx.Function(V)\n",
    "u_bc.interpolate(u_numpy)\n",
    "u_bc.vector.ghostUpdate(addv=PETSc.InsertMode.INSERT, mode=PETSc.ScatterMode.FORWARD)\n",
    "facets = dolfinx.mesh.locate_entities_boundary(mesh, mesh.topology.dim -1, lambda x: numpy.full(x.shape[1], True))\n",
    "dofs = dolfinx.fem.locate_dofs_topological(V, mesh.topology.dim-1, facets)\n",
    "bcs = [dolfinx.DirichletBC(u_bc, dofs)]"
   ]
  },
  {
   "source": [
    "We start by solving the problem with an LU factorization, a direct solver method."
   ],
   "cell_type": "markdown",
   "metadata": {}
  },
  {
   "cell_type": "code",
   "execution_count": 11,
   "metadata": {},
   "outputs": [],
   "source": [
    "\n",
    "default_problem = dolfinx.fem.LinearProblem(a, L, bcs=bcs,\n",
    "petsc_options={\"ksp_type\": \"preonly\", \"pc_type\": \"lu\"})\n",
    "uh = default_problem.solve()"
   ]
  },
  {
   "source": [
    "We now look at the solver process by inspecting the `PETSc`-solver. As the view-options in PETSc are not adjusted for notebooks (`solver.view()` will print output to the terminal if used in a `.py` file), we write the solver output to file and read it in and print the output."
   ],
   "cell_type": "markdown",
   "metadata": {}
  },
  {
   "cell_type": "code",
   "execution_count": 12,
   "metadata": {},
   "outputs": [
    {
     "output_type": "stream",
     "name": "stdout",
     "text": [
      "KSP Object: (dolfinx_solve_140163524346160) 1 MPI processes\n\n  type: preonly\n\n  maximum iterations=10000, initial guess is zero\n\n  tolerances:  relative=1e-05, absolute=1e-50, divergence=10000.\n\n  left preconditioning\n\n  using NONE norm type for convergence test\n\nPC Object: (dolfinx_solve_140163524346160) 1 MPI processes\n\n  type: lu\n\n    out-of-place factorization\n\n    tolerance for zero pivot 2.22045e-14\n\n    matrix ordering: nd\n\n    factor fill ratio given 5., needed 5.0719\n\n      Factored matrix follows:\n\n        Mat Object: 1 MPI processes\n\n          type: seqaij\n\n          rows=961, cols=961\n\n          package used to perform factorization: petsc\n\n          total: nonzeros=32871, allocated nonzeros=32871\n\n            not using I-node routines\n\n  linear system matrix = precond matrix:\n\n  Mat Object: 1 MPI processes\n\n    type: seqaij\n\n    rows=961, cols=961\n\n    total: nonzeros=6481, allocated nonzeros=6481\n\n    total number of mallocs used during MatSetValues calls=0\n\n      not using I-node routines\n\n"
     ]
    }
   ],
   "source": [
    "solver = default_problem.solver\n",
    "viewer = PETSc.Viewer().createASCII(\"solver_output.txt\")\n",
    "solver.view(viewer)\n",
    "solver_output = open(\"solver_output.txt\", \"r\")\n",
    "for line in solver_output.readlines():\n",
    "    print(line)"
   ]
  }
 ]
}