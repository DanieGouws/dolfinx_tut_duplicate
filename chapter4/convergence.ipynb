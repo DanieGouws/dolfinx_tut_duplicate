{
 "cells": [
  {
   "cell_type": "markdown",
   "metadata": {},
   "source": [
    "# Error control: Computing convergence rates\n",
    "Author: Jørgen S. Dokken, Hans Petter Langtangen, Anders Logg\n",
    "\n",
    "For any numerical method one of the most central questions is its *convergence rate*: How fast does the error go to zero when the resolution is increased (mesh size decreased).\n",
    "\n",
    "For the finite element method, this usually corresponds to proving, theoretically or imperically, that the error $e=u_e-u_h$ is bounded by the mesh size $h$ to some power $r$, that is $\\vert\\vert e \\vert\\vert\\leq Ch^r$ for some mesh independent constant $C$. The number $r$ is called the *convergence rate* of the method. Note that the different norms like the $L^2$-norm $\\vert\\vert e\\vert\\vert$ or the $H_0^1$-norm have different convergence rates."
   ]
  },
  {
   "cell_type": "markdown",
   "metadata": {},
   "source": [
    "## Computing error norms\n",
    "We start by creating a manufactured problem, using the same problem as in [the solver configuration](./solvers.ipynb).\n"
   ]
  },
  {
   "cell_type": "code",
   "execution_count": 5,
   "metadata": {},
   "outputs": [],
   "source": [
    "import numpy\n",
    "import ufl\n",
    "from mpi4py import MPI\n",
    "from petsc4py import PETSc\n",
    "from dolfinx.fem import DirichletBC, Function, FunctionSpace, LinearProblem, assemble_scalar, locate_dofs_topological\n",
    "from dolfinx.generation import UnitSquareMesh\n",
    "from dolfinx.mesh import locate_entities_boundary\n",
    "from ufl import SpatialCoordinate, TestFunction, TrialFunction, div, dot, dx, grad, inner\n",
    "\n",
    "def u_ex(mod):\n",
    "    return lambda x: mod.cos(2*mod.pi*x[0])*mod.cos(2*mod.pi*x[1])\n",
    "\n",
    "u_numpy = u_ex(numpy)\n",
    "u_ufl = u_ex(ufl)\n",
    "\n",
    "def solve_poisson(N=10, degree=1):\n",
    "\n",
    "    mesh = UnitSquareMesh(MPI.COMM_WORLD, N, N)\n",
    "    x = SpatialCoordinate(mesh)\n",
    "    f = -div(grad(u_ufl(x)))\n",
    "    V = FunctionSpace(mesh, (\"CG\", degree))\n",
    "    u = TrialFunction(V)\n",
    "    v = TestFunction(V)\n",
    "    a = inner(grad(u), grad(v)) * dx\n",
    "    L = f * v * dx\n",
    "    u_bc = Function(V)\n",
    "    u_bc.interpolate(u_numpy)\n",
    "    facets = locate_entities_boundary(mesh, mesh.topology.dim -1, lambda x: numpy.full(x.shape[1], True))\n",
    "    dofs = locate_dofs_topological(V, mesh.topology.dim-1, facets)\n",
    "    bcs = [DirichletBC(u_bc, dofs)]\n",
    "    default_problem = LinearProblem(a, L, bcs=bcs, petsc_options={\"ksp_type\": \"preonly\", \"pc_type\": \"lu\"})\n",
    "    return default_problem.solve(), u_ufl(x)"
   ]
  },
  {
   "cell_type": "markdown",
   "metadata": {},
   "source": [
    "Now, we can compute the error between the analyical solution `u_ex=u_ufl(x)` and approximated solution `uh`. A natural choice might seem to compute `(u_ex-uh)**2*ufl.dx`. "
   ]
  },
  {
   "cell_type": "code",
   "execution_count": 6,
   "metadata": {},
   "outputs": [
    {
     "name": "stdout",
     "output_type": "stream",
     "text": [
      "L2-error: 5.28e-02\n"
     ]
    }
   ],
   "source": [
    "import numpy as np\n",
    "uh, u_ex = solve_poisson(10)\n",
    "error = (uh - u_ex)**2 * ufl.dx\n",
    "E = np.sqrt(assemble_scalar(error))\n",
    "print(f\"L2-error: {E:.2e}\")"
   ]
  },
  {
   "cell_type": "markdown",
   "metadata": {},
   "source": [
    "Sometimes it is of interest to compute the error fo the gradient field, $\\vert\\vert \\nabla(u_e-u_h)\\vert\\vert$, often referred to as the $H_0^1$-nrom of the error, this can be expressed as"
   ]
  },
  {
   "cell_type": "code",
   "execution_count": 7,
   "metadata": {},
   "outputs": [
    {
     "name": "stdout",
     "output_type": "stream",
     "text": [
      "H01-error: 1.36e+00\n"
     ]
    }
   ],
   "source": [
    "eh = uh - u_ex\n",
    "error_H10 = dot(grad(eh), grad(eh)) * dx\n",
    "E_H10 = np.sqrt(assemble_scalar(error_H10))\n",
    "print(f\"H01-error: {E_H10:.2e}\")"
   ]
  },
  {
   "cell_type": "markdown",
   "metadata": {},
   "source": [
    "## Computing convergence rates\n",
    "Let us consider a sequence of mesh resolutions $h_0>h_1>h_2$, where $h_i=\\frac{1}{N_i}$ we compute the errors for a range of $N_i$s"
   ]
  },
  {
   "cell_type": "code",
   "execution_count": 9,
   "metadata": {},
   "outputs": [
    {
     "name": "stdout",
     "output_type": "stream",
     "text": [
      "h: 2.50e-01 Error: 2.43e-01\n",
      "h: 1.25e-01 Error: 7.96e-02\n",
      "h: 6.25e-02 Error: 2.15e-02\n",
      "h: 3.12e-02 Error: 5.47e-03\n",
      "h: 1.56e-02 Error: 1.37e-03\n"
     ]
    }
   ],
   "source": [
    "Ns = [4, 8, 16, 32, 64]\n",
    "Es = np.zeros(len(Ns), dtype=PETSc.ScalarType)\n",
    "hs = np.zeros(len(Ns), dtype=np.float64)\n",
    "for i, N in enumerate(Ns):\n",
    "    uh, u_ex = solve_poisson(N, degree=1)\n",
    "    error =(uh - u_ex)**2 * ufl.dx\n",
    "    Es[i] = np.sqrt(assemble_scalar(error))\n",
    "    hs[i] = 1./Ns[i]\n",
    "    print(f\"h: {hs[i]:.2e} Error: {Es[i]:.2e}\")"
   ]
  },
  {
   "cell_type": "markdown",
   "metadata": {},
   "source": [
    "If we assume that $E_i$ is of the form $E_i=Ch_i^r$, with unknown constants $C$ and $r$, we can compare two consecqutive experiments, $E_{i-1}= Ch_{i-1}^r$ and $E_i=Ch_i^r$, and solve for $r$:\n",
    "```{math}\n",
    "r=\\frac{\\ln(E_i/E_{i-1})}{\\ln(h_i/h_{i-1})}\n",
    "```\n",
    "The $r$ values should approac the expected convergence rate (which is typically the polynomial degree + 1 for the $L^2$-error.) as $i$ increases. This can be written compactly using `numpy`."
   ]
  },
  {
   "cell_type": "code",
   "execution_count": 10,
   "metadata": {},
   "outputs": [
    {
     "name": "stdout",
     "output_type": "stream",
     "text": [
      "Rates: [1.61185364 1.89145161 1.97191103 1.99290373]\n"
     ]
    }
   ],
   "source": [
    "rates = np.log(Es[1:]/Es[:-1])/np.log(hs[1:]/hs[:-1])\n",
    "print(f\"Rates: {rates}\")"
   ]
  },
  {
   "cell_type": "markdown",
   "metadata": {},
   "source": [
    "We also do a similar study for different orders of polynomial spaces to verify our previous claim."
   ]
  },
  {
   "cell_type": "code",
   "execution_count": 11,
   "metadata": {},
   "outputs": [
    {
     "name": "stdout",
     "output_type": "stream",
     "text": [
      "h: 2.50e-01 Error: 2.43e-01\n",
      "h: 1.25e-01 Error: 7.96e-02\n",
      "h: 6.25e-02 Error: 2.15e-02\n",
      "h: 3.12e-02 Error: 5.47e-03\n",
      "h: 1.56e-02 Error: 1.37e-03\n",
      "Polynomial degree 1, Rates [1.61185364 1.89145161 1.97191103 1.99290373]\n",
      "h: 2.50e-01 Error: 3.52e-02\n",
      "h: 1.25e-01 Error: 4.39e-03\n",
      "h: 6.25e-02 Error: 5.50e-04\n",
      "h: 3.12e-02 Error: 6.88e-05\n",
      "h: 1.56e-02 Error: 8.60e-06\n",
      "Polynomial degree 2, Rates [3.00111375 2.99827831 2.99822257 2.99930784]\n",
      "h: 2.50e-01 Error: 5.54e-03\n",
      "h: 1.25e-01 Error: 3.35e-04\n",
      "h: 6.25e-02 Error: 1.99e-05\n",
      "h: 3.12e-02 Error: 1.21e-06\n",
      "h: 1.56e-02 Error: 7.49e-08\n",
      "Polynomial degree 3, Rates [4.04793801 4.07358165 4.03729055 4.01645274]\n"
     ]
    }
   ],
   "source": [
    "Ns = [4, 8, 16, 32, 64]\n",
    "for degree in [1, 2, 3]:\n",
    "    Es = np.zeros(len(Ns), dtype=PETSc.ScalarType)\n",
    "    hs = np.zeros(len(Ns), dtype=np.float64)\n",
    "    for i, N in enumerate(Ns):\n",
    "        uh, u_ex = solve_poisson(N, degree=degree)\n",
    "        error = (uh - u_ex)**2 * ufl.dx\n",
    "        Es[i] = np.sqrt(assemble_scalar(error))\n",
    "        hs[i] = 1. / Ns[i]\n",
    "        print(f\"h: {hs[i]:.2e} Error: {Es[i]:.2e}\")\n",
    "    rates = np.log(Es[1:] / Es[:-1]) / np.log(hs[1:] / hs[:-1])\n",
    "    print(f\"Polynomial degree {degree:d}, Rates {rates}\")"
   ]
  },
  {
   "cell_type": "markdown",
   "metadata": {},
   "source": [
    "### To be implemented: interpolation into higher order function spaces\n",
    "However, as this gets expanded to `u_ex**2 + uh**2 - 2*u_ex*uh`. If the error is small, (and the solution itself is of moderate size), this calculation will correspond to subtract two positive numbers `u_ex**2 + uh**2`$\\sim 1$ and `2*u_ex*u`$\\sim 1$ yielding a small number, prone to round-off errors.\n",
    "\n",
    "We start by interpolating the analytical solution and the approximated solution into a higher order function space.\n",
    "\n",
    "### Add implementation + infinity norm estimates"
   ]
  },
  {
   "cell_type": "code",
   "execution_count": null,
   "metadata": {},
   "outputs": [],
   "source": []
  }
 ],
 "metadata": {
  "kernelspec": {
   "display_name": "Python 3 (ipykernel)",
   "language": "python",
   "name": "python3"
  },
  "language_info": {
   "codemirror_mode": {
    "name": "ipython",
    "version": 3
   },
   "file_extension": ".py",
   "mimetype": "text/x-python",
   "name": "python",
   "nbconvert_exporter": "python",
   "pygments_lexer": "ipython3",
   "version": "3.9.7"
  }
 },
 "nbformat": 4,
 "nbformat_minor": 2
}
