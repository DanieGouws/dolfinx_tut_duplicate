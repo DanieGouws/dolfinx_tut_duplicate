{
 "cells": [
  {
   "cell_type": "markdown",
   "metadata": {},
   "source": [
    "# Defining subdomains for different materials\n",
    "Author: Jørgen S. Dokken\n",
    "\n",
    "Solving PDEs in domains made up of different materials is frequently encountered task. In FEniCSx, we handle these problems by defining a Discontinous cell-wise constant function.\n",
    "Such a function can be created over any mesh in the following way\n",
    "## Subdomains on built-in meshes"
   ]
  },
  {
   "cell_type": "code",
   "execution_count": 3,
   "metadata": {},
   "outputs": [],
   "source": [
    "import gmsh\n",
    "import numpy as np\n",
    "import pyvista\n",
    "from dolfinx.fem import (Constant, dirichletbc, Function, FunctionSpace, assemble_scalar,\n",
    "                         form, locate_dofs_geometrical, locate_dofs_topological)\n",
    "from dolfinx.fem.petsc import LinearProblem\n",
    "from dolfinx.io import XDMFFile\n",
    "from dolfinx.mesh import create_unit_square, locate_entities\n",
    "from dolfinx.plot import create_vtk_mesh\n",
    "\n",
    "from ufl import (SpatialCoordinate, TestFunction, TrialFunction,\n",
    "                 dx, grad, inner)\n",
    "\n",
    "from mpi4py import MPI\n",
    "from petsc4py.PETSc import ScalarType\n",
    "pyvista.start_xvfb()\n",
    "pyvista.set_jupyter_backend(\"trame\")\n",
    "\n",
    "mesh = create_unit_square(MPI.COMM_WORLD, 10, 10)\n",
    "Q = FunctionSpace(mesh, (\"DG\", 0))"
   ]
  },
  {
   "cell_type": "markdown",
   "metadata": {},
   "source": [
    "We will use a simple example with two materials in two dimensions to demonstrate the idea. The whole domain will be $\\Omega=[0,1]\\times[0,1]$, which consists of two subdomains \n",
    "$\\Omega_0=[0,1]\\times [0,1/2]$ and $\\Omega_1=[0,1]\\times[1/2, 1]$. We start by creating two python functions, where each returns `True` if the input coordinate is inside its domain."
   ]
  },
  {
   "cell_type": "code",
   "execution_count": 4,
   "metadata": {},
   "outputs": [],
   "source": [
    "def Omega_0(x):\n",
    "    return x[1] <= 0.5\n",
    "\n",
    "def Omega_1(x):\n",
    "    return x[1] >= 0.5"
   ]
  },
  {
   "cell_type": "markdown",
   "metadata": {},
   "source": [
    "Note that both fucntion uses a $\\leq$ or $\\geq$, as FEniCSx will evaluate each cell at all of the vertices, and thus for has to return `True` for all vertices align with the interface to be marked properly.\n",
    "\n",
    "We will solve a variable-coefficient extension of the Poisson equation\n",
    "\n",
    "$$\n",
    "-\\nabla \\cdot [\\kappa (x,y)\\nabla u(x, y)]= 1 \\qquad \\text{in } \\Omega,\n",
    "$$\n",
    "$$\n",
    "u=u_D=1 \\qquad \\text{on } \\partial\\Omega_D=[0,y], y\\in[0,1]\n",
    "$$\n",
    "$$\n",
    "-\\frac{\\partial u}{\\partial n}=0 \\qquad \\text{on } \\partial\\Omega\\setminus \\partial\\Omega_D\n",
    "$$\n",
    "\n",
    "Our next step is to define $\\kappa$"
   ]
  },
  {
   "cell_type": "code",
   "execution_count": 5,
   "metadata": {},
   "outputs": [],
   "source": [
    "kappa = Function(Q)\n",
    "cells_0 = locate_entities(mesh, mesh.topology.dim, Omega_0)\n",
    "cells_1 = locate_entities(mesh, mesh.topology.dim, Omega_1)"
   ]
  },
  {
   "cell_type": "markdown",
   "metadata": {},
   "source": [
    "In the previous code block, we found which cells (triangular elements) which satisfies the condition for being in $\\Omega_0, \\Omega_1$. As the $DG-0$ function contain only one degree of freedom per mesh, there is a one to one mapping between the cell indicies and the degrees of freedom. We let $\\kappa=\\begin{cases}\n",
    "1 &\\text{if } x\\in\\Omega_0\\\\\n",
    "0.1& \\text{if } x\\in\\Omega_1\\\\\n",
    "\\end{cases}$"
   ]
  },
  {
   "cell_type": "code",
   "execution_count": 6,
   "metadata": {},
   "outputs": [],
   "source": [
    "kappa.x.array[cells_0] = np.full_like(cells_0, 1, dtype=ScalarType)\n",
    "kappa.x.array[cells_1] = np.full_like(cells_1, 0.1, dtype=ScalarType)"
   ]
  },
  {
   "cell_type": "markdown",
   "metadata": {},
   "source": [
    "We are now ready to define our variational formulation and  Dirichlet boundary condition after using integration by parts "
   ]
  },
  {
   "cell_type": "code",
   "execution_count": 7,
   "metadata": {},
   "outputs": [],
   "source": [
    "V = FunctionSpace(mesh, (\"CG\", 1))\n",
    "u, v = TrialFunction(V), TestFunction(V)\n",
    "a = inner(kappa*grad(u), grad(v)) * dx\n",
    "x = SpatialCoordinate(mesh)\n",
    "L = Constant(mesh, ScalarType(1)) * v * dx\n",
    "dofs = locate_dofs_geometrical(V, lambda x: np.isclose(x[0], 0))\n",
    "bcs = [dirichletbc(ScalarType(1), dofs, V)]"
   ]
  },
  {
   "cell_type": "markdown",
   "metadata": {},
   "source": [
    "We can now solve and visualize the solution of the problem"
   ]
  },
  {
   "cell_type": "code",
   "execution_count": 9,
   "metadata": {
    "tags": []
   },
   "outputs": [
    {
     "data": {
      "application/vnd.jupyter.widget-view+json": {
       "model_id": "97a37a99dcfa4f34a3e145cb05907a9f",
       "version_major": 2,
       "version_minor": 0
      },
      "text/plain": [
       "Widget(value=\"<iframe src='/proxy/40329/index.html?ui=P_0x7fbad79edb10_1&reconnect=auto' style='width: 99%; he…"
      ]
     },
     "metadata": {},
     "output_type": "display_data"
    },
    {
     "name": "stderr",
     "output_type": "stream",
     "text": [
      "WARNING:aiohttp.websocket:Client protocols [''] don’t overlap server-known ones ()\n"
     ]
    }
   ],
   "source": [
    "problem = LinearProblem(a, L, bcs=bcs, petsc_options={\"ksp_type\": \"preonly\", \"pc_type\": \"lu\"})\n",
    "uh = problem.solve()\n",
    "\n",
    "# Filter out ghosted cells\n",
    "num_cells_local = mesh.topology.index_map(mesh.topology.dim).size_local\n",
    "marker = np.zeros(num_cells_local, dtype=np.int32)\n",
    "cells_0 = cells_0[cells_0<num_cells_local]\n",
    "cells_1 = cells_1[cells_1<num_cells_local]\n",
    "marker[cells_0] = 1\n",
    "marker[cells_1] = 2\n",
    "topology, cell_types, x = create_vtk_mesh(mesh, mesh.topology.dim, np.arange(num_cells_local, dtype=np.int32))\n",
    "\n",
    "p = pyvista.Plotter(window_size=[800, 800])\n",
    "grid = pyvista.UnstructuredGrid(topology, cell_types, x)\n",
    "grid.cell_data[\"Marker\"] = marker\n",
    "grid.set_active_scalars(\"Marker\")\n",
    "p.add_mesh(grid, show_edges=True)\n",
    "if pyvista.OFF_SCREEN:\n",
    "    figure = p.screenshot(\"subdomains_structured.png\")\n",
    "p.show()"
   ]
  },
  {
   "cell_type": "code",
   "execution_count": 10,
   "metadata": {},
   "outputs": [
    {
     "data": {
      "application/vnd.jupyter.widget-view+json": {
       "model_id": "1531871398fe4dc78b54de8397a5a7ec",
       "version_major": 2,
       "version_minor": 0
      },
      "text/plain": [
       "Widget(value=\"<iframe src='/proxy/40329/index.html?ui=P_0x7fbad4f90f40_2&reconnect=auto' style='width: 99%; he…"
      ]
     },
     "metadata": {},
     "output_type": "display_data"
    },
    {
     "name": "stderr",
     "output_type": "stream",
     "text": [
      "WARNING:aiohttp.websocket:Client protocols [''] don’t overlap server-known ones ()\n"
     ]
    }
   ],
   "source": [
    "p2 = pyvista.Plotter(window_size=[800, 800])\n",
    "grid_uh = pyvista.UnstructuredGrid(*create_vtk_mesh(V))\n",
    "grid_uh.point_data[\"u\"] = uh.x.array.real\n",
    "grid_uh.set_active_scalars(\"u\")\n",
    "p2.add_mesh(grid_uh, show_edges=True)\n",
    "if not pyvista.OFF_SCREEN:\n",
    "    p2.show()\n",
    "else:\n",
    "    figure = p2.screenshot(\"subdomains_structured2.png\")"
   ]
  },
  {
   "cell_type": "markdown",
   "metadata": {},
   "source": [
    "We clearly observe different behavior in the two regions, whose both has the same Dirichlet boundary condition on the left side, where $x=0$."
   ]
  },
  {
   "cell_type": "markdown",
   "metadata": {},
   "source": [
    "## Interpolation with Python-function\n",
    "As we saw in the first approach, in many cases, we can use the geometrical coordinates to determine which coefficient we should use. Using the unstructured mesh from the previous example, we illustrate an alternative approach using interpolation:"
   ]
  },
  {
   "cell_type": "code",
   "execution_count": 11,
   "metadata": {},
   "outputs": [],
   "source": [
    "def eval_kappa(x):\n",
    "    values = np.zeros(x.shape[1], dtype=ScalarType)\n",
    "    # Create a boolean array indicating which dofs (corresponding to cell centers)\n",
    "    # that are in each domain\n",
    "    top_coords = x[1]>0.5 \n",
    "    bottom_coords = x[1]<0.5\n",
    "    values[top_coords] = np.full(sum(top_coords), 0.1)\n",
    "    values[bottom_coords] = np.full(sum(bottom_coords), 1)\n",
    "    return values\n",
    "kappa2 = Function(Q)\n",
    "kappa2.interpolate(eval_kappa)"
   ]
  },
  {
   "cell_type": "markdown",
   "metadata": {},
   "source": [
    "We verify this by assembling the error between this new function and the old one"
   ]
  },
  {
   "cell_type": "code",
   "execution_count": 12,
   "metadata": {},
   "outputs": [
    {
     "name": "stderr",
     "output_type": "stream",
     "text": [
      "INFO:root:running build_ext\n",
      "INFO:root:building 'libffcx_forms_622e0c05f4ca0c8e14a2a257827330cf37e84b19' extension\n",
      "INFO:root:x86_64-linux-gnu-gcc -Wno-unused-result -Wsign-compare -DNDEBUG -g -fwrapv -O2 -Wall -g -fstack-protector-strong -Wformat -Werror=format-security -g -fwrapv -O2 -fPIC -I/usr/local/lib/python3.10/dist-packages/ffcx/codegeneration -I/usr/include/python3.10 -c libffcx_forms_622e0c05f4ca0c8e14a2a257827330cf37e84b19.c -o ./libffcx_forms_622e0c05f4ca0c8e14a2a257827330cf37e84b19.o -O2\n",
      "INFO:root:x86_64-linux-gnu-gcc -shared -Wl,-O1 -Wl,-Bsymbolic-functions -Wl,-Bsymbolic-functions -g -fwrapv -O2 ./libffcx_forms_622e0c05f4ca0c8e14a2a257827330cf37e84b19.o -L/usr/lib/x86_64-linux-gnu -o ./libffcx_forms_622e0c05f4ca0c8e14a2a257827330cf37e84b19.cpython-310-x86_64-linux-gnu.so\n"
     ]
    },
    {
     "name": "stdout",
     "output_type": "stream",
     "text": [
      "0.0\n"
     ]
    }
   ],
   "source": [
    "# Difference in kappa's\n",
    "error = mesh.comm.allreduce(assemble_scalar(form((kappa-kappa2)**2*dx)))\n",
    "print(error)"
   ]
  },
  {
   "cell_type": "markdown",
   "metadata": {},
   "source": [
    "## Subdomains defined from external mesh data\n",
    "Let us now consider the same problem, but using GMSH to generate the mesh and subdomains. We will then in turn show how to use this data to generate discontinuous functions in DOLFINx."
   ]
  },
  {
   "cell_type": "code",
   "execution_count": 13,
   "metadata": {},
   "outputs": [
    {
     "name": "stdout",
     "output_type": "stream",
     "text": [
      "Info    : Meshing 1D...\n",
      "Info    : [  0%] Meshing curve 1 (Line)\n",
      "Info    : [ 20%] Meshing curve 2 (Line)\n",
      "Info    : [ 30%] Meshing curve 3 (Line)\n",
      "Info    : [ 50%] Meshing curve 4 (Line)\n",
      "Info    : [ 60%] Meshing curve 5 (Line)\n",
      "Info    : [ 80%] Meshing curve 6 (Line)\n",
      "Info    : [ 90%] Meshing curve 7 (Line)\n",
      "Info    : Done meshing 1D (Wall 0.000647499s, CPU 0.001099s)\n",
      "Info    : Meshing 2D...\n",
      "Info    : [  0%] Meshing surface 1 (Plane, Frontal-Delaunay)\n",
      "Info    : [ 50%] Meshing surface 2 (Plane, Frontal-Delaunay)\n",
      "Info    : Done meshing 2D (Wall 0.00626318s, CPU 0.006487s)\n",
      "Info    : 103 nodes 218 elements\n",
      "Info    : Writing 'mesh.msh'...\n",
      "Info    : Done writing 'mesh.msh'\n"
     ]
    }
   ],
   "source": [
    "gmsh.initialize()\n",
    "proc = MPI.COMM_WORLD.rank \n",
    "top_marker = 2\n",
    "bottom_marker = 1\n",
    "left_marker = 1\n",
    "if proc == 0:\n",
    "    # We create one rectangle for each subdomain\n",
    "    gmsh.model.occ.addRectangle(0, 0, 0, 1, 0.5, tag=1)\n",
    "    gmsh.model.occ.addRectangle(0, 0.5, 0, 1, 0.5, tag=2)\n",
    "    # We fuse the two rectangles and keep the interface between them \n",
    "    gmsh.model.occ.fragment([(2,1)],[(2,2)])\n",
    "    gmsh.model.occ.synchronize()\n",
    "   \n",
    "    # Mark the top (2) and bottom (1) rectangle\n",
    "    top, bottom = None, None\n",
    "    for surface in gmsh.model.getEntities(dim=2):\n",
    "        com = gmsh.model.occ.getCenterOfMass(surface[0], surface[1])\n",
    "        if np.allclose(com, [0.5,0.25, 0]):\n",
    "            bottom = surface[1]\n",
    "        else:\n",
    "            top = surface[1]\n",
    "    gmsh.model.addPhysicalGroup(2, [bottom], bottom_marker)\n",
    "    gmsh.model.addPhysicalGroup(2, [top], top_marker)\n",
    "    # Tag the left boundary\n",
    "    left = []\n",
    "    for line in gmsh.model.getEntities(dim=1):\n",
    "        com = gmsh.model.occ.getCenterOfMass(line[0], line[1])\n",
    "        if np.isclose(com[0], 0):\n",
    "            left.append(line[1])\n",
    "    gmsh.model.addPhysicalGroup(1, left, left_marker)\n",
    "    gmsh.model.mesh.generate(2)\n",
    "    gmsh.write(\"mesh.msh\")\n",
    "gmsh.finalize()"
   ]
  },
  {
   "cell_type": "markdown",
   "metadata": {},
   "source": [
    "## Read in MSH files with DOLFINx\n",
    "You can read in MSH files with DOLFINx, which will read them in on a single process, and then distribute them over the available ranks in the MPI communicator."
   ]
  },
  {
   "cell_type": "code",
   "execution_count": 14,
   "metadata": {},
   "outputs": [
    {
     "name": "stdout",
     "output_type": "stream",
     "text": [
      "Info    : Reading 'mesh.msh'...\n",
      "Info    : 15 entities\n",
      "Info    : 103 nodes\n",
      "Info    : 180 elements\n",
      "Info    : Done reading 'mesh.msh'\n"
     ]
    }
   ],
   "source": [
    "from dolfinx.io import gmshio\n",
    "mesh, cell_markers, facet_markers = gmshio.read_from_msh(\"mesh.msh\", MPI.COMM_WORLD, gdim=2)"
   ]
  },
  {
   "cell_type": "markdown",
   "metadata": {},
   "source": [
    "## Convert msh-files to XDMF using meshio\n",
    "We will use `meshio` to read in the `msh` file, and convert it to a more suitable IO format. Meshio requires `h5py`, and can be installed on linux with the following commands:\n",
    "```{code}\n",
    "export HDF5_MPI=\"ON\"\n",
    "export CC=mpicc\n",
    "export HDF5_DIR=\"/usr/lib/x86_64-linux-gnu/hdf5/mpich/\"\n",
    "pip3 install --no-cache-dir --no-binary=h5py h5py meshio\n",
    "```\n",
    "We start by creating a convenience function for extracting data for a single cell type, and creating a new `meshio.Mesh`."
   ]
  },
  {
   "cell_type": "code",
   "execution_count": 15,
   "metadata": {},
   "outputs": [],
   "source": [
    "import meshio\n",
    "def create_mesh(mesh, cell_type, prune_z=False):\n",
    "    cells = mesh.get_cells_type(cell_type)\n",
    "    cell_data = mesh.get_cell_data(\"gmsh:physical\", cell_type)\n",
    "    points = mesh.points[:,:2] if prune_z else mesh.points\n",
    "    out_mesh = meshio.Mesh(points=points, cells={cell_type: cells}, cell_data={\"name_to_read\":[cell_data]})\n",
    "    return out_mesh"
   ]
  },
  {
   "cell_type": "markdown",
   "metadata": {},
   "source": [
    "This function returns a meshio mesh, including physical markers for the given type. The `prune_z` argument is for cases where we want to use two dimensional meshes. The last coordinate in the mesh (as it is generated in a 3D space) has to be removed for DOLFINx to consider this as a two dimensional geometry."
   ]
  },
  {
   "cell_type": "code",
   "execution_count": 16,
   "metadata": {},
   "outputs": [
    {
     "name": "stdout",
     "output_type": "stream",
     "text": [
      "\n"
     ]
    }
   ],
   "source": [
    "if proc == 0:\n",
    "    # Read in mesh\n",
    "    msh = meshio.read(\"mesh.msh\")\n",
    "   \n",
    "    # Create and save one file for the mesh, and one file for the facets \n",
    "    triangle_mesh = create_mesh(msh, \"triangle\", prune_z=True)\n",
    "    line_mesh = create_mesh(msh, \"line\", prune_z=True)\n",
    "    meshio.write(\"mesh.xdmf\", triangle_mesh)\n",
    "    meshio.write(\"mt.xdmf\", line_mesh)"
   ]
  },
  {
   "cell_type": "markdown",
   "metadata": {},
   "source": [
    "We have now written the mesh and the cell markers to one file, and the facet markers in a separate file. We can now read this data in DOLFINx using `XDMFFile.read_mesh` and `XDMFFile.read_meshtags`. The `dolfinx.MeshTags` stores the index of the entity, along with the value of the marker in two one dimensional arrays.\n",
    "\n",
    "Note that we have generated and written the mesh on only one processor. However, the `xdmf`-format supports parallel IO, and we can thus read the mesh in parallel."
   ]
  },
  {
   "cell_type": "code",
   "execution_count": 17,
   "metadata": {},
   "outputs": [],
   "source": [
    "with XDMFFile(MPI.COMM_WORLD, \"mesh.xdmf\", \"r\") as xdmf:\n",
    "    mesh = xdmf.read_mesh(name=\"Grid\")\n",
    "    ct = xdmf.read_meshtags(mesh, name=\"Grid\")\n",
    "mesh.topology.create_connectivity(mesh.topology.dim, mesh.topology.dim-1)\n",
    "with XDMFFile(MPI.COMM_WORLD, \"mt.xdmf\", \"r\") as xdmf:\n",
    "    ft = xdmf.read_meshtags(mesh, name=\"Grid\")"
   ]
  },
  {
   "cell_type": "markdown",
   "metadata": {},
   "source": [
    "We have now read in the mesh and corresponding cell and facet data. We can now create our discontinuous function `kappa` as follows"
   ]
  },
  {
   "cell_type": "code",
   "execution_count": 18,
   "metadata": {},
   "outputs": [],
   "source": [
    "Q = FunctionSpace(mesh, (\"DG\", 0))\n",
    "kappa = Function(Q)\n",
    "bottom_cells = ct.find(bottom_marker)\n",
    "kappa.x.array[bottom_cells] = np.full_like(bottom_cells, 1, dtype=ScalarType)\n",
    "top_cells = ct.find(top_marker)\n",
    "kappa.x.array[top_cells]  = np.full_like(top_cells, 0.1, dtype=ScalarType)"
   ]
  },
  {
   "cell_type": "markdown",
   "metadata": {},
   "source": [
    "We can also efficiently use the facet data `ft` to create the Dirichlet boundary condition"
   ]
  },
  {
   "cell_type": "code",
   "execution_count": 19,
   "metadata": {},
   "outputs": [],
   "source": [
    "V = FunctionSpace(mesh, (\"CG\", 1))\n",
    "u_bc = Function(V)\n",
    "left_facets = ft.find(left_marker)\n",
    "left_dofs = locate_dofs_topological(V, mesh.topology.dim-1, left_facets)\n",
    "bcs = [dirichletbc(ScalarType(1), left_dofs, V)]"
   ]
  },
  {
   "cell_type": "markdown",
   "metadata": {},
   "source": [
    "We can now solve the problem in a similar fashion as above"
   ]
  },
  {
   "cell_type": "code",
   "execution_count": 20,
   "metadata": {
    "lines_to_next_cell": 0
   },
   "outputs": [
    {
     "name": "stderr",
     "output_type": "stream",
     "text": [
      "INFO:root:running build_ext\n",
      "INFO:root:building 'libffcx_forms_93913dacdfc8b6ab659a79954f26b44989491760' extension\n",
      "INFO:root:x86_64-linux-gnu-gcc -Wno-unused-result -Wsign-compare -DNDEBUG -g -fwrapv -O2 -Wall -g -fstack-protector-strong -Wformat -Werror=format-security -g -fwrapv -O2 -fPIC -I/usr/local/lib/python3.10/dist-packages/ffcx/codegeneration -I/usr/include/python3.10 -c libffcx_forms_93913dacdfc8b6ab659a79954f26b44989491760.c -o ./libffcx_forms_93913dacdfc8b6ab659a79954f26b44989491760.o -O2\n",
      "INFO:root:x86_64-linux-gnu-gcc -shared -Wl,-O1 -Wl,-Bsymbolic-functions -Wl,-Bsymbolic-functions -g -fwrapv -O2 ./libffcx_forms_93913dacdfc8b6ab659a79954f26b44989491760.o -L/usr/lib/x86_64-linux-gnu -o ./libffcx_forms_93913dacdfc8b6ab659a79954f26b44989491760.cpython-310-x86_64-linux-gnu.so\n",
      "INFO:root:running build_ext\n",
      "INFO:root:building 'libffcx_forms_5c56511871d87a058e55b5cbed2920794c766ebe' extension\n",
      "INFO:root:x86_64-linux-gnu-gcc -Wno-unused-result -Wsign-compare -DNDEBUG -g -fwrapv -O2 -Wall -g -fstack-protector-strong -Wformat -Werror=format-security -g -fwrapv -O2 -fPIC -I/usr/local/lib/python3.10/dist-packages/ffcx/codegeneration -I/usr/include/python3.10 -c libffcx_forms_5c56511871d87a058e55b5cbed2920794c766ebe.c -o ./libffcx_forms_5c56511871d87a058e55b5cbed2920794c766ebe.o -O2\n",
      "INFO:root:x86_64-linux-gnu-gcc -shared -Wl,-O1 -Wl,-Bsymbolic-functions -Wl,-Bsymbolic-functions -g -fwrapv -O2 ./libffcx_forms_5c56511871d87a058e55b5cbed2920794c766ebe.o -L/usr/lib/x86_64-linux-gnu -o ./libffcx_forms_5c56511871d87a058e55b5cbed2920794c766ebe.cpython-310-x86_64-linux-gnu.so\n"
     ]
    },
    {
     "data": {
      "application/vnd.jupyter.widget-view+json": {
       "model_id": "502e124bd86a4b88b1a0060101c1d34c",
       "version_major": 2,
       "version_minor": 0
      },
      "text/plain": [
       "Widget(value=\"<iframe src='/proxy/40329/index.html?ui=P_0x7fbad7cac8e0_3&reconnect=auto' style='width: 99%; he…"
      ]
     },
     "metadata": {},
     "output_type": "display_data"
    },
    {
     "name": "stderr",
     "output_type": "stream",
     "text": [
      "WARNING:aiohttp.websocket:Client protocols [''] don’t overlap server-known ones ()\n"
     ]
    }
   ],
   "source": [
    "u, v = TrialFunction(V), TestFunction(V)\n",
    "a = inner(kappa*grad(u), grad(v)) * dx\n",
    "x = SpatialCoordinate(mesh)\n",
    "L = Constant(mesh, ScalarType(1)) * v * dx\n",
    "\n",
    "problem = LinearProblem(a, L, bcs=bcs, petsc_options={\"ksp_type\": \"preonly\", \"pc_type\": \"lu\"})\n",
    "uh = problem.solve()\n",
    "\n",
    "# As the dolfinx.MeshTag contains a value for every cell in the\n",
    "# geometry, we can attach it directly to the grid\n",
    "\n",
    "topology, cell_types, x = create_vtk_mesh(mesh, mesh.topology.dim)\n",
    "grid = pyvista.UnstructuredGrid(topology, cell_types, x)\n",
    "num_local_cells = mesh.topology.index_map(mesh.topology.dim).size_local\n",
    "grid.cell_data[\"Marker\"] = ct.values[ct.indices<num_local_cells]\n",
    "grid.set_active_scalars(\"Marker\")\n",
    "\n",
    "p = pyvista.Plotter(window_size=[800, 800])\n",
    "p.add_mesh(grid, show_edges=True)\n",
    "if not pyvista.OFF_SCREEN:\n",
    "    p.show()\n",
    "else:\n",
    "    figure = p.screenshot(\"subdomains_unstructured.png\")"
   ]
  },
  {
   "cell_type": "code",
   "execution_count": 21,
   "metadata": {},
   "outputs": [
    {
     "data": {
      "application/vnd.jupyter.widget-view+json": {
       "model_id": "a66062d963634cdfb39316c7f258ab80",
       "version_major": 2,
       "version_minor": 0
      },
      "text/plain": [
       "Widget(value=\"<iframe src='/proxy/40329/index.html?ui=P_0x7fba292e9090_4&reconnect=auto' style='width: 99%; he…"
      ]
     },
     "metadata": {},
     "output_type": "display_data"
    },
    {
     "name": "stderr",
     "output_type": "stream",
     "text": [
      "WARNING:aiohttp.websocket:Client protocols [''] don’t overlap server-known ones ()\n"
     ]
    }
   ],
   "source": [
    "grid_uh = pyvista.UnstructuredGrid(*create_vtk_mesh(V))\n",
    "grid_uh.point_data[\"u\"] = uh.x.array.real\n",
    "grid_uh.set_active_scalars(\"u\")\n",
    "p2 = pyvista.Plotter(window_size=[800, 800])\n",
    "p2.add_mesh(grid_uh, show_edges=True)\n",
    "if not pyvista.OFF_SCREEN:\n",
    "    p2.show()\n",
    "else:\n",
    "    p2.savefig(\"unstructured_u.png\")"
   ]
  },
  {
   "cell_type": "code",
   "execution_count": null,
   "metadata": {
    "lines_to_next_cell": 2
   },
   "outputs": [],
   "source": []
  }
 ],
 "metadata": {
  "jupytext": {
   "formats": "ipynb,py:light"
  },
  "kernelspec": {
   "display_name": "Python 3 (ipykernel)",
   "language": "python",
   "name": "python3"
  },
  "language_info": {
   "codemirror_mode": {
    "name": "ipython",
    "version": 3
   },
   "file_extension": ".py",
   "mimetype": "text/x-python",
   "name": "python",
   "nbconvert_exporter": "python",
   "pygments_lexer": "ipython3",
   "version": "3.10.6"
  }
 },
 "nbformat": 4,
 "nbformat_minor": 4
}
