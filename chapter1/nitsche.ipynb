{
 "cells": [
  {
   "cell_type": "markdown",
   "id": "sorted-rugby",
   "metadata": {},
   "source": [
    "# Weak imposition of Dirichlet conditions for the Poisson problem\n",
    "Author: Jørgen S. Dokken\n",
    "\n",
    "In this section, we will go through how to solve the Poisson problem from the [Fundamentals](fundamentals.ipynb) tutorial using Nitsche's method {cite}`Nitsche1971`.\n",
    "The idea of weak imposition is that we add additional terms to the variational formulation to impose the boundary condition, instead of modifying the matrix system using strong imposition (lifting).\n",
    "\n",
    "We start by importing the required modules and creating the mesh and function space for our solution"
   ]
  },
  {
   "cell_type": "code",
   "execution_count": 1,
   "id": "imposed-christopher",
   "metadata": {},
   "outputs": [],
   "source": [
    "from dolfinx import fem, mesh, plot\n",
    "import numpy\n",
    "from mpi4py import MPI\n",
    "from petsc4py.PETSc import ScalarType \n",
    "from ufl import (Circumradius, FacetNormal, SpatialCoordinate, TrialFunction, TestFunction,\n",
    "                 div, dx, ds, grad, inner)\n",
    "\n",
    "N = 8\n",
    "domain = mesh.create_unit_square(MPI.COMM_WORLD, N, N)\n",
    "V = fem.FunctionSpace(domain, (\"CG\", 1))"
   ]
  },
  {
   "cell_type": "markdown",
   "id": "surrounded-carrier",
   "metadata": {},
   "source": [
    "Next, we create a function containing the exact solution (which will also be used in the Dirichlet boundary condition) and the corresponding source function for the right hand side. Note that we use `ufl.SpatialCoordinate` to define the exact solution, which in turn is interpolated into `uD` and used to create the source function `f`."
   ]
  },
  {
   "cell_type": "code",
   "execution_count": 2,
   "id": "quality-andorra",
   "metadata": {},
   "outputs": [
    {
     "name": "stderr",
     "output_type": "stream",
     "text": [
      "INFO:root:running build_ext\n",
      "INFO:root:building 'libffcx_expressions_185d38ae173da25bd36864f85f42c9d3b99a59fa' extension\n",
      "INFO:root:x86_64-linux-gnu-gcc -Wno-unused-result -Wsign-compare -DNDEBUG -g -fwrapv -O2 -Wall -g -fstack-protector-strong -Wformat -Werror=format-security -g -fwrapv -O2 -fPIC -I/usr/local/lib/python3.10/dist-packages/ffcx/codegeneration -I/usr/include/python3.10 -c libffcx_expressions_185d38ae173da25bd36864f85f42c9d3b99a59fa.c -o ./libffcx_expressions_185d38ae173da25bd36864f85f42c9d3b99a59fa.o -O2\n",
      "INFO:root:x86_64-linux-gnu-gcc -shared -Wl,-O1 -Wl,-Bsymbolic-functions -Wl,-Bsymbolic-functions -g -fwrapv -O2 ./libffcx_expressions_185d38ae173da25bd36864f85f42c9d3b99a59fa.o -L/usr/lib/x86_64-linux-gnu -o ./libffcx_expressions_185d38ae173da25bd36864f85f42c9d3b99a59fa.cpython-310-x86_64-linux-gnu.so\n"
     ]
    }
   ],
   "source": [
    "uD = fem.Function(V)\n",
    "x = SpatialCoordinate(domain)\n",
    "u_ex =  1 + x[0]**2 + 2 * x[1]**2\n",
    "uD.interpolate(fem.Expression(u_ex, V.element.interpolation_points()))\n",
    "f = -div(grad(u_ex))"
   ]
  },
  {
   "cell_type": "markdown",
   "id": "distinguished-obligation",
   "metadata": {},
   "source": [
    "As opposed to the first tutorial, we now have to have another look at the variational form.\n",
    "We start by integrating the problem by parts, to obtain\n",
    "\\begin{align}\n",
    "    \\int_{\\Omega} \\nabla u \\cdot \\nabla v~\\mathrm{d}x - \\int_{\\partial\\Omega}\\nabla u \\cdot n v~\\mathrm{d}s = \\int_{\\Omega} f v~\\mathrm{d}x.\n",
    "\\end{align}\n",
    "As we are not using strong enforcement, we do not set the trace of the test function to $0$ on the outer boundary.\n",
    "Instead, we add the following two terms to the variational formulation\n",
    "\\begin{align}\n",
    "    -\\int_{\\partial\\Omega} \\nabla  v \\cdot n (u-u_D)~\\mathrm{d}s + \\frac{\\alpha}{h} \\int_{\\partial\\Omega} (u-u_D)v~\\mathrm{d}s.\n",
    "\\end{align}\n",
    "where the first term enforces symmetry to the bilinear form, while the latter term enforces coercivity.\n",
    "$u_D$ is the known Dirichlet condition, and $h$ is the diameter of the circumscribed sphere of the mesh element.\n",
    "We create bilinear and linear form, $a$ and $L$\n",
    "\\begin{align}\n",
    "    a(u, v) &= \\int_{\\Omega} \\nabla u \\cdot \\nabla v~\\mathrm{d}x + \\int_{\\partial\\Omega}-(n \\cdot\\nabla u) v - (n \\cdot \\nabla v) u + \\frac{\\alpha}{h} uv~\\mathrm{d}s,\\\\\n",
    "    L(v) &= \\int_{\\Omega} fv~\\mathrm{d}x + \\int_{\\partial\\Omega} -(n \\cdot \\nabla v) u_D + \\frac{\\alpha}{h} u_Dv~\\mathrm{d}s\n",
    "\\end{align}"
   ]
  },
  {
   "cell_type": "code",
   "execution_count": 3,
   "id": "4b7634d9",
   "metadata": {},
   "outputs": [],
   "source": [
    "u = TrialFunction(V)\n",
    "v = TestFunction(V)\n",
    "n = FacetNormal(domain)\n",
    "h = 2 * Circumradius(domain)\n",
    "alpha = fem.Constant(domain, ScalarType(10))\n",
    "a = inner(grad(u), grad(v)) * dx - inner(n, grad(u)) * v * ds\n",
    "a += - inner(n, grad(v)) * u * ds + alpha / h * inner(u, v) * ds\n",
    "L = inner(f, v) * dx \n",
    "L += - inner(n, grad(v)) * uD * ds + alpha / h * inner(uD, v) * ds"
   ]
  },
  {
   "cell_type": "markdown",
   "id": "971dc391",
   "metadata": {},
   "source": [
    "As we now have the variational form, we can solve the linear problem"
   ]
  },
  {
   "cell_type": "code",
   "execution_count": 4,
   "id": "6187fc89",
   "metadata": {},
   "outputs": [
    {
     "name": "stderr",
     "output_type": "stream",
     "text": [
      "INFO:root:running build_ext\n",
      "INFO:root:building 'libffcx_forms_7462dc3d583ae23b222f014da2b3be0b6203492f' extension\n",
      "INFO:root:x86_64-linux-gnu-gcc -Wno-unused-result -Wsign-compare -DNDEBUG -g -fwrapv -O2 -Wall -g -fstack-protector-strong -Wformat -Werror=format-security -g -fwrapv -O2 -fPIC -I/usr/local/lib/python3.10/dist-packages/ffcx/codegeneration -I/usr/include/python3.10 -c libffcx_forms_7462dc3d583ae23b222f014da2b3be0b6203492f.c -o ./libffcx_forms_7462dc3d583ae23b222f014da2b3be0b6203492f.o -O2\n",
      "INFO:root:x86_64-linux-gnu-gcc -shared -Wl,-O1 -Wl,-Bsymbolic-functions -Wl,-Bsymbolic-functions -g -fwrapv -O2 ./libffcx_forms_7462dc3d583ae23b222f014da2b3be0b6203492f.o -L/usr/lib/x86_64-linux-gnu -o ./libffcx_forms_7462dc3d583ae23b222f014da2b3be0b6203492f.cpython-310-x86_64-linux-gnu.so\n",
      "INFO:root:running build_ext\n",
      "INFO:root:building 'libffcx_forms_2d7ed7650354ac3914665d825979068febceccc0' extension\n",
      "INFO:root:x86_64-linux-gnu-gcc -Wno-unused-result -Wsign-compare -DNDEBUG -g -fwrapv -O2 -Wall -g -fstack-protector-strong -Wformat -Werror=format-security -g -fwrapv -O2 -fPIC -I/usr/local/lib/python3.10/dist-packages/ffcx/codegeneration -I/usr/include/python3.10 -c libffcx_forms_2d7ed7650354ac3914665d825979068febceccc0.c -o ./libffcx_forms_2d7ed7650354ac3914665d825979068febceccc0.o -O2\n",
      "INFO:root:x86_64-linux-gnu-gcc -shared -Wl,-O1 -Wl,-Bsymbolic-functions -Wl,-Bsymbolic-functions -g -fwrapv -O2 ./libffcx_forms_2d7ed7650354ac3914665d825979068febceccc0.o -L/usr/lib/x86_64-linux-gnu -o ./libffcx_forms_2d7ed7650354ac3914665d825979068febceccc0.cpython-310-x86_64-linux-gnu.so\n"
     ]
    }
   ],
   "source": [
    "problem = fem.petsc.LinearProblem(a, L)\n",
    "uh = problem.solve()"
   ]
  },
  {
   "cell_type": "markdown",
   "id": "fac3387f",
   "metadata": {},
   "source": [
    "We compute the error of the computation by comparing it to the analytical solution"
   ]
  },
  {
   "cell_type": "code",
   "execution_count": 5,
   "id": "4851b7a4",
   "metadata": {},
   "outputs": [
    {
     "name": "stderr",
     "output_type": "stream",
     "text": [
      "INFO:root:running build_ext\n",
      "INFO:root:building 'libffcx_forms_2ba5b4d18ab4f5a7b7d2533c06811f60eea7dd0f' extension\n",
      "INFO:root:x86_64-linux-gnu-gcc -Wno-unused-result -Wsign-compare -DNDEBUG -g -fwrapv -O2 -Wall -g -fstack-protector-strong -Wformat -Werror=format-security -g -fwrapv -O2 -fPIC -I/usr/local/lib/python3.10/dist-packages/ffcx/codegeneration -I/usr/include/python3.10 -c libffcx_forms_2ba5b4d18ab4f5a7b7d2533c06811f60eea7dd0f.c -o ./libffcx_forms_2ba5b4d18ab4f5a7b7d2533c06811f60eea7dd0f.o -O2\n",
      "INFO:root:x86_64-linux-gnu-gcc -shared -Wl,-O1 -Wl,-Bsymbolic-functions -Wl,-Bsymbolic-functions -g -fwrapv -O2 ./libffcx_forms_2ba5b4d18ab4f5a7b7d2533c06811f60eea7dd0f.o -L/usr/lib/x86_64-linux-gnu -o ./libffcx_forms_2ba5b4d18ab4f5a7b7d2533c06811f60eea7dd0f.cpython-310-x86_64-linux-gnu.so\n"
     ]
    },
    {
     "name": "stdout",
     "output_type": "stream",
     "text": [
      "$L^2$-error: 1.59e-03\n"
     ]
    }
   ],
   "source": [
    "error_form = fem.form(inner(uh-uD, uh-uD) * dx)\n",
    "error_local = fem.assemble_scalar(error_form)\n",
    "errorL2 = numpy.sqrt(domain.comm.allreduce(error_local, op=MPI.SUM))\n",
    "if domain.comm.rank == 0:\n",
    "    print(fr\"$L^2$-error: {errorL2:.2e}\")"
   ]
  },
  {
   "cell_type": "markdown",
   "id": "c5c43d69",
   "metadata": {},
   "source": [
    "We observe that the $L^2$-error is of the same magnitude as in the first tutorial.\n",
    "As in the previous tutorial, we also compute the maximal error for all the degrees of freedom."
   ]
  },
  {
   "cell_type": "code",
   "execution_count": 6,
   "id": "b3413383",
   "metadata": {},
   "outputs": [
    {
     "name": "stdout",
     "output_type": "stream",
     "text": [
      "Error_max : 5.41e-03\n"
     ]
    }
   ],
   "source": [
    "error_max = domain.comm.allreduce(numpy.max(numpy.abs(uD.x.array-uh.x.array)), op=MPI.MAX)\n",
    "if domain.comm.rank == 0:\n",
    "    print(f\"Error_max : {error_max:.2e}\")"
   ]
  },
  {
   "cell_type": "markdown",
   "id": "f5ba8c79",
   "metadata": {},
   "source": [
    "We observe that as we weakly impose the boundary condition, we no longer fullfill the equation to machine precision at the mesh vertices. We also plot the solution using `pyvista`"
   ]
  },
  {
   "cell_type": "code",
   "execution_count": 7,
   "id": "b12d508e",
   "metadata": {},
   "outputs": [
    {
     "data": {
      "application/vnd.jupyter.widget-view+json": {
       "model_id": "cb3ec4fcface4ce1b4d2ebbccb2c70ed",
       "version_major": 2,
       "version_minor": 0
      },
      "text/plain": [
       "Widget(value=\"<iframe src='/proxy/43297/index.html?ui=P_0x7f31eff52470_0&reconnect=auto' style='width: 99%; he…"
      ]
     },
     "metadata": {},
     "output_type": "display_data"
    },
    {
     "name": "stderr",
     "output_type": "stream",
     "text": [
      "WARNING:aiohttp.websocket:Client protocols [''] don’t overlap server-known ones ()\n"
     ]
    }
   ],
   "source": [
    "import pyvista\n",
    "pyvista.start_xvfb()\n",
    "pyvista.set_jupyter_backend(\"trame\")\n",
    "\n",
    "grid = pyvista.UnstructuredGrid(*plot.create_vtk_mesh(V))\n",
    "grid.point_data[\"u\"] = uh.x.array.real\n",
    "grid.set_active_scalars(\"u\")\n",
    "plotter = pyvista.Plotter()\n",
    "plotter.add_mesh(grid, show_edges=True, show_scalar_bar=True)\n",
    "plotter.view_xy()\n",
    "if not pyvista.OFF_SCREEN:\n",
    "    plotter.show()\n",
    "else:\n",
    "    figure = plotter.screenshot(\"nitsche.png\")"
   ]
  },
  {
   "cell_type": "markdown",
   "id": "choice-dealer",
   "metadata": {},
   "source": [
    "```{bibliography}\n",
    "   :filter: cited and ({\"chapter1/nitsche\"} >= docnames)\n",
    "```"
   ]
  },
  {
   "cell_type": "code",
   "execution_count": null,
   "id": "9f22f7f7",
   "metadata": {},
   "outputs": [],
   "source": []
  }
 ],
 "metadata": {
  "jupytext": {
   "formats": "ipynb,py:light"
  },
  "kernelspec": {
   "display_name": "Python 3 (ipykernel)",
   "language": "python",
   "name": "python3"
  },
  "language_info": {
   "codemirror_mode": {
    "name": "ipython",
    "version": 3
   },
   "file_extension": ".py",
   "mimetype": "text/x-python",
   "name": "python",
   "nbconvert_exporter": "python",
   "pygments_lexer": "ipython3",
   "version": "3.10.6"
  }
 },
 "nbformat": 4,
 "nbformat_minor": 5
}
